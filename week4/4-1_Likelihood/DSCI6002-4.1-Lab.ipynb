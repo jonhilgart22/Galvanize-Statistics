{
 "cells": [
  {
   "cell_type": "markdown",
   "metadata": {},
   "source": [
    "# Lab 4.1: Likelihood"
   ]
  },
  {
   "cell_type": "markdown",
   "metadata": {},
   "source": [
    "One way to estimate parameters for a distribution is to calculate the likelihood of the parameter values given the data that we observe.\n",
    "\n",
    "The likelihood of a parameter $\\theta$ is given by the notion $\\mathcal{L}(\\theta)$ which has the same/similar form as the probability function $p(data \\mid \\theta)$."
   ]
  },
  {
   "cell_type": "markdown",
   "metadata": {},
   "source": [
    "### Question 1\n",
    "\n",
    "The file `outage.csv` contains the number of power outages Kampala (Ugandan city) experiences each month for the past 72 months\n",
    "\n",
    "1. Read in the `https://s3-us-west-2.amazonaws.com/dsci/6002/data/outage.csv` using pandas\n",
    "2. Plot the data on a histogram \n",
    "  - Set `normed=True` to get the probability density histogram\n",
    "  - Set `bins=20` to get smaller bins for the histogram\n",
    "\n",
    "3.  What distribution would you consider fitting the data to given the nature of the data ?\n",
    "  - Think about if the data is discrete or continuous \n",
    "  - Think about what the data describes\n",
    "\n",
    "4. Write down the equation that would model the random variable in question with the distribution you have chosen\n",
    "\n",
    "   For example:\n",
    "   - $\\text{Let X be the number of heads in 5 coin flips}$\n",
    "   - $X \\sim Binomial(n, p)$\n",
    "\n",
    "5. Write down the likelihood function to calculate the likelihood of a given parameter value \n",
    "\n",
    "   **Hint**:\n",
    "   - A **parameter** of the binomial distribution will be `n` or `p` for example\n",
    "   - This will be based on the distribution you have chosen above\n",
    "   - The likelihood function would be the product of the probabilities for each data point \n",
    "  \n",
    "6. Write a python function that will calculate the likelihood of a parameter given the data\n",
    "   - The function will take a parameter and the data\n",
    "   - Use `scipy.stats` and `numpy.product()`\n",
    " \n",
    "7. Define a range of possible values for the parameter from `14` to `21` (using `numpy.linspace`).\n",
    "\n",
    "   Calculate the likelihood for each of the values defined in the range.\n",
    "   \n",
    "   Plot the values ($x$) against the likelihood ($L(\\theta)$)  \n",
    "\n",
    "8. Write a function to calculate the log-likelihood.\n",
    "\n",
    "9. Find the maximum likelihood estimate for the parameter of interest (use `numpy.argmax`)"
   ]
  },
  {
   "cell_type": "markdown",
   "metadata": {},
   "source": [
    "### Question 2\n",
    "\n",
    "The file `plants.csv` contains heights to 1,000 plants. You are told the data resembles a normal distribution with a standard deviation of 3cm.\n",
    "\n",
    "1. Read in `https://s3-us-west-2.amazonaws.com/dsci/6002/data/plant.csv` using pandas and plot the data on a histogram\n",
    "   \n",
    "2. Define a range of possible values for the mean (from 32 to 42)\n",
    "  \n",
    "3. Calculate the log-liklihood for each of the values in the range \n",
    "  \n",
    "4. Plot the log-likelihood function\n",
    "\n",
    "5. Find the MLE for the mean"
   ]
  }
 ],
 "metadata": {
  "anaconda-cloud": {},
  "kernelspec": {
   "display_name": "Python [Root]",
   "language": "python",
   "name": "Python [Root]"
  },
  "language_info": {
   "codemirror_mode": {
    "name": "ipython",
    "version": 3
   },
   "file_extension": ".py",
   "mimetype": "text/x-python",
   "name": "python",
   "nbconvert_exporter": "python",
   "pygments_lexer": "ipython3",
   "version": "3.5.2"
  }
 },
 "nbformat": 4,
 "nbformat_minor": 0
}
