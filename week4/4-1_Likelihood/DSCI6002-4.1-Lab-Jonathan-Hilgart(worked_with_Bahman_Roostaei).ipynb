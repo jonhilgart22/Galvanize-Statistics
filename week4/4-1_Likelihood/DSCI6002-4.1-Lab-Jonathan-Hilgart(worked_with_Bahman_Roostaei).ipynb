{
 "cells": [
  {
   "cell_type": "markdown",
   "metadata": {},
   "source": [
    "# Lab 4.1: Likelihood"
   ]
  },
  {
   "cell_type": "markdown",
   "metadata": {},
   "source": [
    "One way to estimate parameters for a distribution is to calculate the likelihood of the parameter values given the data that we observe.\n",
    "\n",
    "The likelihood of a parameter $\\theta$ is given by the notion $\\mathcal{L}(\\theta)$ which has the same/similar form as the probability function $p(data \\mid \\theta)$."
   ]
  },
  {
   "cell_type": "markdown",
   "metadata": {},
   "source": [
    "### Question 1\n",
    "\n",
    "The file `outage.csv` contains the number of power outages Kampala (Ugandan city) experiences each month for the past 72 months\n",
    "\n",
    "1. Read in the `https://s3-us-west-2.amazonaws.com/dsci/6002/data/outage.csv` using pandas\n",
    "2. Plot the data on a histogram \n",
    "  - Set `normed=True` to get the probability density histogram\n",
    "  - Set `bins=20` to get smaller bins for the histogram\n",
    "\n",
    "3.  What distribution would you consider fitting the data to given the nature of the data ?\n",
    "  - Think about if the data is discrete or continuous \n",
    "  - Think about what the data describes\n",
    "\n",
    "4. Write down the equation that would model the random variable in question with the distribution you have chosen\n",
    "\n",
    "   For example:\n",
    "   - $\\text{Let X be the number of heads in 5 coin flips}$\n",
    "   - $X \\sim Binomial(n, p)$\n",
    "\n",
    "5. Write down the likelihood function to calculate the likelihood of a given parameter value \n",
    "\n",
    "   **Hint**:\n",
    "   - A **parameter** of the binomial distribution will be `n` or `p` for example\n",
    "   - This will be based on the distribution you have chosen above\n",
    "   - The likelihood function would be the product of the probabilities for each data point \n",
    "  \n",
    "6. Write a python function that will calculate the likelihood of a parameter given the data\n",
    "   - The function will take a parameter and the data\n",
    "   - Use `scipy.stats` and `numpy.product()`\n",
    " \n",
    "7. Define a range of possible values for the parameter from `14` to `21` (using `numpy.linspace`).\n",
    "\n",
    "   Calculate the likelihood for each of the values defined in the range.\n",
    "   \n",
    "   Plot the values ($x$) against the likelihood ($L(\\theta)$)  \n",
    "\n",
    "8. Write a function to calculate the log-likelihood.\n",
    "\n",
    "9. Find the maximum likelihood estimate for the parameter of interest (use `numpy.argmax`)"
   ]
  },
  {
   "cell_type": "markdown",
   "metadata": {},
   "source": [
    "### Question 2\n",
    "\n",
    "The file `plants.csv` contains heights to 1,000 plants. You are told the data resembles a normal distribution with a standard deviation of 3cm.\n",
    "\n",
    "1. Read in `https://s3-us-west-2.amazonaws.com/dsci/6002/data/plant.csv` using pandas and plot the data on a histogram\n",
    "   \n",
    "2. Define a range of possible values for the mean (from 32 to 42)\n",
    "  \n",
    "3. Calculate the log-liklihood for each of the values in the range \n",
    "  \n",
    "4. Plot the log-likelihood function\n",
    "\n",
    "5. Find the MLE for the mean"
   ]
  },
  {
   "cell_type": "code",
   "execution_count": 1,
   "metadata": {
    "collapsed": false
   },
   "outputs": [
    {
     "name": "stdout",
     "output_type": "stream",
     "text": [
      "Populating the interactive namespace from numpy and matplotlib\n"
     ]
    }
   ],
   "source": [
    "import pandas as pd\n",
    "%pylab inline"
   ]
  },
  {
   "cell_type": "code",
   "execution_count": 2,
   "metadata": {
    "collapsed": false
   },
   "outputs": [
    {
     "data": {
      "text/html": [
       "<div>\n",
       "<table border=\"1\" class=\"dataframe\">\n",
       "  <thead>\n",
       "    <tr style=\"text-align: right;\">\n",
       "      <th></th>\n",
       "      <th>0</th>\n",
       "    </tr>\n",
       "  </thead>\n",
       "  <tbody>\n",
       "    <tr>\n",
       "      <th>0</th>\n",
       "      <td>20</td>\n",
       "    </tr>\n",
       "    <tr>\n",
       "      <th>1</th>\n",
       "      <td>20</td>\n",
       "    </tr>\n",
       "    <tr>\n",
       "      <th>2</th>\n",
       "      <td>14</td>\n",
       "    </tr>\n",
       "    <tr>\n",
       "      <th>3</th>\n",
       "      <td>14</td>\n",
       "    </tr>\n",
       "    <tr>\n",
       "      <th>4</th>\n",
       "      <td>18</td>\n",
       "    </tr>\n",
       "  </tbody>\n",
       "</table>\n",
       "</div>"
      ],
      "text/plain": [
       "    0\n",
       "0  20\n",
       "1  20\n",
       "2  14\n",
       "3  14\n",
       "4  18"
      ]
     },
     "execution_count": 2,
     "metadata": {},
     "output_type": "execute_result"
    }
   ],
   "source": [
    "#The file outage.csv contains the number of power \n",
    "#outages Kampala (Ugandan city) experiences each month for the past 72 months\n",
    "power_outage_df = pd.read_csv('https://s3-us-west-2.amazonaws.com/dsci/6002/data/outage.csv')\n",
    "#power_outage_df.value_counts\n",
    "power_outage_df.head()"
   ]
  },
  {
   "cell_type": "code",
   "execution_count": 3,
   "metadata": {
    "collapsed": true
   },
   "outputs": [],
   "source": [
    "import seaborn as sns"
   ]
  },
  {
   "cell_type": "code",
   "execution_count": null,
   "metadata": {
    "collapsed": false
   },
   "outputs": [],
   "source": []
  },
  {
   "cell_type": "markdown",
   "metadata": {},
   "source": [
    "Plot the data on a histogram\n",
    "Set normed=True to get the probability density histogram\n",
    "Set bins=20 to get smaller bins for the histogram"
   ]
  },
  {
   "cell_type": "code",
   "execution_count": 4,
   "metadata": {
    "collapsed": false
   },
   "outputs": [
    {
     "name": "stderr",
     "output_type": "stream",
     "text": [
      "/Users/jonathanhilgart/anaconda/lib/python3.5/site-packages/statsmodels/nonparametric/kdetools.py:20: VisibleDeprecationWarning: using a non-integer number instead of an integer will result in an error in the future\n",
      "  y = X[:m/2+1] + np.r_[0,X[m/2+1:],0]*1j\n"
     ]
    },
    {
     "data": {
      "image/png": "[encoded data removed]",
      "text/plain": [
       "<matplotlib.figure.Figure at 0x117021cf8>"
      ]
     },
     "metadata": {},
     "output_type": "display_data"
    }
   ],
   "source": [
    "sns.distplot(power_outage_df,bins=20,norm_hist=True)\n",
    "ylabel('density')\n",
    "xlabel('number of power outages')\n",
    "plt.title('histogram of power outages');"
   ]
  },
  {
   "cell_type": "markdown",
   "metadata": {},
   "source": [
    " ## What distribution would you consider fitting the data to given the nature of the data ?\n",
    "## Think about if the data is discrete or continuous\n",
    "## Think about what the data describes"
   ]
  },
  {
   "cell_type": "markdown",
   "metadata": {},
   "source": [
    "The data is discrete.\n",
    "\n",
    "The Poisson distribution would be a good function to represent this data. We have an average number of power outages per month which is modeled by lambda.\n"
   ]
  },
  {
   "cell_type": "markdown",
   "metadata": {},
   "source": [
    "### Write down the equation that would model the random variable in question with the distribution you have chosen\n",
    "#### For example:\n",
    "#### Let X be the number of heads in 5 coin flipsLet X be the number of heads in 5 coin flips \n",
    "#### X∼Binomial(n,p)X∼Binomial(n,p) "
   ]
  },
  {
   "cell_type": "markdown",
   "metadata": {},
   "source": [
    "- For our lambda distribution,  let L be the average number of power outages per month. \n",
    "\n",
    "Poisson(L,K )= ${\\displaystyle {\\frac {\\lambda ^{k}e^{-\\lambda }}{k!}}}$"
   ]
  },
  {
   "cell_type": "markdown",
   "metadata": {},
   "source": [
    "## Write down the likelihood function to calculate the likelihood of a given parameter value\n",
    "- Hint:\n",
    "- A parameter of the binomial distribution will be n or p for example\n",
    "- This will be based on the distribution you have chosen above\n",
    "- The likelihood function would be the product of the probabilities for each data point"
   ]
  },
  {
   "cell_type": "markdown",
   "metadata": {},
   "source": [
    "$L(\\lambda;K) = \\prod_{i=1}^N {\\lambda^{K_i}* e ^{-\\lambda} \\over K_i!}$"
   ]
  },
  {
   "cell_type": "markdown",
   "metadata": {},
   "source": [
    "# Write a python function that will calculate the likelihood of a parameter given the data\n",
    "- The function will take a parameter and the data\n",
    "- Use scipy.stats and numpy.product()"
   ]
  },
  {
   "cell_type": "code",
   "execution_count": 5,
   "metadata": {
    "collapsed": false
   },
   "outputs": [
    {
     "name": "stdout",
     "output_type": "stream",
     "text": [
      "     0\n",
      "0   20\n",
      "1   20\n",
      "2   14\n",
      "3   14\n",
      "4   18\n",
      "5   23\n",
      "6   19\n",
      "7   14\n",
      "8   21\n",
      "9   15\n",
      "10  24\n",
      "11  28\n",
      "12  20\n",
      "13  28\n",
      "14  14\n",
      "15  17\n",
      "16  16\n",
      "17  18\n",
      "18  18\n",
      "19  21\n",
      "20  17\n",
      "21  24\n",
      "22  25\n",
      "23  13\n",
      "24  26\n",
      "25  19\n",
      "26  23\n",
      "27  11\n",
      "28  21\n",
      "29  18\n",
      "..  ..\n",
      "42  22\n",
      "43  19\n",
      "44  17\n",
      "45  18\n",
      "46  21\n",
      "47  14\n",
      "48  16\n",
      "49  20\n",
      "50  16\n",
      "51  19\n",
      "52  13\n",
      "53  21\n",
      "54  15\n",
      "55  19\n",
      "56  26\n",
      "57  21\n",
      "58  23\n",
      "59  14\n",
      "60  23\n",
      "61  30\n",
      "62  20\n",
      "63  15\n",
      "64  19\n",
      "65  25\n",
      "66  20\n",
      "67  21\n",
      "68  19\n",
      "69  24\n",
      "70  19\n",
      "71  20\n",
      "\n",
      "[72 rows x 1 columns]\n"
     ]
    }
   ],
   "source": [
    "import scipy.stats\n",
    "print (power_outage_df)"
   ]
  },
  {
   "cell_type": "code",
   "execution_count": 6,
   "metadata": {
    "collapsed": false
   },
   "outputs": [],
   "source": [
    "def poisson_likelihood(data,L):\n",
    "    \n",
    "    #p = [scipy.stats.poisson.pmf(item,L) for item in data]\n",
    "    #sum = 0\n",
    "    p=scipy.stats.poisson(L)\n",
    "    return numpy.product(p.pmf(data))\n",
    "    #return p"
   ]
  },
  {
   "cell_type": "code",
   "execution_count": 7,
   "metadata": {
    "collapsed": false
   },
   "outputs": [
    {
     "data": {
      "text/plain": [
       "7.4252711566364104e-89"
      ]
     },
     "execution_count": 7,
     "metadata": {},
     "output_type": "execute_result"
    }
   ],
   "source": [
    "poisson_likelihood(power_outage_df,20)"
   ]
  },
  {
   "cell_type": "code",
   "execution_count": 8,
   "metadata": {
    "collapsed": false
   },
   "outputs": [],
   "source": [
    "def find_max_prob(data,number):\n",
    "    probability_lambda ={}\n",
    "    \n",
    "    max_prob = 0\n",
    "    for L in linspace(14, 21,num=number*2):\n",
    "        if poisson_likelihood(data,L) > max_prob:\n",
    "            max_prob = poisson_likelihood(data,L)\n",
    "            probability_lambda[poisson_likelihood(data,L)]=L\n",
    "        else:\n",
    "            probability_lambda[poisson_likelihood(data,L)]=L\n",
    "    #print(max_prob,'maximum probability')\n",
    "    #print(probability_lambda[max_prob],'lambda')\n",
    "    \n",
    "    df_prob =  pd.DataFrame(probability_lambda,index=['lambda'])\n",
    "    #df_prob.set_index(['probability','lambda'])\n",
    "    \n",
    "    print(max_prob,'maximum probability')\n",
    "    print(probability_lambda[max_prob],'lambda')\n",
    "    return df_prob\n",
    "#sns.distplot(poisson_likelihood(power_outage_df,1));"
   ]
  },
  {
   "cell_type": "code",
   "execution_count": 9,
   "metadata": {
    "collapsed": false
   },
   "outputs": [
    {
     "name": "stdout",
     "output_type": "stream",
     "text": [
      "2.15165350778e-88 maximum probability\n",
      "19.2412060302 lambda\n"
     ]
    },
    {
     "data": {
      "text/html": [
       "<div>\n",
       "<table border=\"1\" class=\"dataframe\">\n",
       "  <thead>\n",
       "    <tr style=\"text-align: right;\">\n",
       "      <th></th>\n",
       "      <th>8.84532754984e-116</th>\n",
       "      <th>2.27089953305e-115</th>\n",
       "      <th>5.77967850161e-115</th>\n",
       "      <th>1.45831071899e-114</th>\n",
       "      <th>3.64800821894e-114</th>\n",
       "      <th>9.04772701349e-114</th>\n",
       "      <th>2.22494642771e-113</th>\n",
       "      <th>5.42518221932e-113</th>\n",
       "      <th>1.31172253271e-112</th>\n",
       "      <th>3.14499926659e-112</th>\n",
       "      <th>...</th>\n",
       "      <th>2.03678756232e-88</th>\n",
       "      <th>2.06824966259e-88</th>\n",
       "      <th>2.0786250476e-88</th>\n",
       "      <th>2.10322243083e-88</th>\n",
       "      <th>2.11138073599e-88</th>\n",
       "      <th>2.12901647239e-88</th>\n",
       "      <th>2.13463891786e-88</th>\n",
       "      <th>2.14524630204e-88</th>\n",
       "      <th>2.14811344344e-88</th>\n",
       "      <th>2.15165350778e-88</th>\n",
       "    </tr>\n",
       "  </thead>\n",
       "  <tbody>\n",
       "    <tr>\n",
       "      <th>lambda</th>\n",
       "      <td>14.0</td>\n",
       "      <td>14.035176</td>\n",
       "      <td>14.070352</td>\n",
       "      <td>14.105528</td>\n",
       "      <td>14.140704</td>\n",
       "      <td>14.175879</td>\n",
       "      <td>14.211055</td>\n",
       "      <td>14.246231</td>\n",
       "      <td>14.281407</td>\n",
       "      <td>14.316583</td>\n",
       "      <td>...</td>\n",
       "      <td>19.065327</td>\n",
       "      <td>19.38191</td>\n",
       "      <td>19.100503</td>\n",
       "      <td>19.346734</td>\n",
       "      <td>19.135678</td>\n",
       "      <td>19.311558</td>\n",
       "      <td>19.170854</td>\n",
       "      <td>19.276382</td>\n",
       "      <td>19.20603</td>\n",
       "      <td>19.241206</td>\n",
       "    </tr>\n",
       "  </tbody>\n",
       "</table>\n",
       "<p>1 rows × 200 columns</p>\n",
       "</div>"
      ],
      "text/plain": [
       "        8.845328e-116  2.270900e-115  5.779679e-115  1.458311e-114  \\\n",
       "lambda           14.0      14.035176      14.070352      14.105528   \n",
       "\n",
       "        3.648008e-114  9.047727e-114  2.224946e-113  5.425182e-113  \\\n",
       "lambda      14.140704      14.175879      14.211055      14.246231   \n",
       "\n",
       "        1.311723e-112  3.144999e-112      ...        2.036788e-88   \\\n",
       "lambda      14.281407      14.316583      ...            19.065327   \n",
       "\n",
       "        2.068250e-88   2.078625e-88   2.103222e-88   2.111381e-88   \\\n",
       "lambda       19.38191      19.100503      19.346734      19.135678   \n",
       "\n",
       "        2.129016e-88   2.134639e-88   2.145246e-88   2.148113e-88   \\\n",
       "lambda      19.311558      19.170854      19.276382       19.20603   \n",
       "\n",
       "        2.151654e-88   \n",
       "lambda      19.241206  \n",
       "\n",
       "[1 rows x 200 columns]"
      ]
     },
     "execution_count": 9,
     "metadata": {},
     "output_type": "execute_result"
    }
   ],
   "source": [
    "\n",
    "find_max_prob(power_outage_df,100)"
   ]
  },
  {
   "cell_type": "markdown",
   "metadata": {},
   "source": [
    "## Optimal Lambda is 19.26, with a very small percent probability. This is because we have not convered to log scale."
   ]
  },
  {
   "cell_type": "code",
   "execution_count": 10,
   "metadata": {
    "collapsed": false
   },
   "outputs": [
    {
     "name": "stderr",
     "output_type": "stream",
     "text": [
      "/Users/jonathanhilgart/anaconda/lib/python3.5/site-packages/statsmodels/nonparametric/kdetools.py:20: VisibleDeprecationWarning: using a non-integer number instead of an integer will result in an error in the future\n",
      "  y = X[:m/2+1] + np.r_[0,X[m/2+1:],0]*1j\n"
     ]
    },
    {
     "data": {
      "image/png": "[encoded data removed]",
      "text/plain": [
       "<matplotlib.figure.Figure at 0x119c04668>"
      ]
     },
     "metadata": {},
     "output_type": "display_data"
    }
   ],
   "source": [
    "sns.distplot([poisson_likelihood(power_outage_df,L) for L in range(5)],bins=10,norm_hist=True);\n"
   ]
  },
  {
   "cell_type": "markdown",
   "metadata": {},
   "source": [
    "## Define a range of possible values for the parameter from 14 to 21 (using numpy.linspace).\n",
    "- Calculate the likelihood for each of the values defined in the range.\n",
    "- Plot the values ( xx ) against the likelihood ( L(θ)L(θ) )"
   ]
  },
  {
   "cell_type": "code",
   "execution_count": 11,
   "metadata": {
    "collapsed": false
   },
   "outputs": [
    {
     "data": {
      "image/png": "[encoded data removed]",
      "text/plain": [
       "<matplotlib.figure.Figure at 0x119ce4cf8>"
      ]
     },
     "metadata": {},
     "output_type": "display_data"
    }
   ],
   "source": [
    "x = np.linspace(14,21,100)\n",
    "y = [poisson_likelihood(power_outage_df,a) for a in x]\n",
    "\n",
    "plot(x, y);\n"
   ]
  },
  {
   "cell_type": "markdown",
   "metadata": {},
   "source": [
    "- Write a function to calculate the log-likelihood.\n",
    "- Find the maximum likelihood estimate for the parameter of interest (use numpy.argmax)"
   ]
  },
  {
   "cell_type": "code",
   "execution_count": 12,
   "metadata": {
    "collapsed": true
   },
   "outputs": [],
   "source": [
    "def find_max_prob_log(data,number):\n",
    "    probability_lambda ={}\n",
    "    \n",
    "    max_prob = 0\n",
    "    \n",
    "    for L in linspace(14, 21,num=number*2):\n",
    "        if poisson_likelihood(data,L) > max_prob:\n",
    "            max_prob = poisson_likelihood(data,L)\n",
    "            probability_lambda[poisson_likelihood(data,L)]=L\n",
    "        else:\n",
    "            probability_lambda[poisson_likelihood(data,L)]=L\n",
    "    #print(max_prob,'maximum probability')\n",
    "    #print(probability_lambda[max_prob],'lambda')\n",
    "    \n",
    "    df_prob =  pd.DataFrame(probability_lambda,index=['lambda'])\n",
    "    #df_prob.set_index(['probability','lambda'])\n",
    "    \n",
    "    print(np.log(max_prob),'maximum probability in log')\n",
    "    print(probability_lambda[max_prob],'lambda')\n",
    "    return df_prob\n",
    "#sns.distplot(poisson_likelihood(power_outage_df,1));"
   ]
  },
  {
   "cell_type": "code",
   "execution_count": 13,
   "metadata": {
    "collapsed": false
   },
   "outputs": [
    {
     "name": "stdout",
     "output_type": "stream",
     "text": [
      "-201.861251564 maximum probability in log\n",
      "19.2412060302 lambda\n"
     ]
    },
    {
     "data": {
      "text/html": [
       "<div>\n",
       "<table border=\"1\" class=\"dataframe\">\n",
       "  <thead>\n",
       "    <tr style=\"text-align: right;\">\n",
       "      <th></th>\n",
       "      <th>8.84532754984e-116</th>\n",
       "      <th>2.27089953305e-115</th>\n",
       "      <th>5.77967850161e-115</th>\n",
       "      <th>1.45831071899e-114</th>\n",
       "      <th>3.64800821894e-114</th>\n",
       "      <th>9.04772701349e-114</th>\n",
       "      <th>2.22494642771e-113</th>\n",
       "      <th>5.42518221932e-113</th>\n",
       "      <th>1.31172253271e-112</th>\n",
       "      <th>3.14499926659e-112</th>\n",
       "      <th>...</th>\n",
       "      <th>2.03678756232e-88</th>\n",
       "      <th>2.06824966259e-88</th>\n",
       "      <th>2.0786250476e-88</th>\n",
       "      <th>2.10322243083e-88</th>\n",
       "      <th>2.11138073599e-88</th>\n",
       "      <th>2.12901647239e-88</th>\n",
       "      <th>2.13463891786e-88</th>\n",
       "      <th>2.14524630204e-88</th>\n",
       "      <th>2.14811344344e-88</th>\n",
       "      <th>2.15165350778e-88</th>\n",
       "    </tr>\n",
       "  </thead>\n",
       "  <tbody>\n",
       "    <tr>\n",
       "      <th>lambda</th>\n",
       "      <td>14.0</td>\n",
       "      <td>14.035176</td>\n",
       "      <td>14.070352</td>\n",
       "      <td>14.105528</td>\n",
       "      <td>14.140704</td>\n",
       "      <td>14.175879</td>\n",
       "      <td>14.211055</td>\n",
       "      <td>14.246231</td>\n",
       "      <td>14.281407</td>\n",
       "      <td>14.316583</td>\n",
       "      <td>...</td>\n",
       "      <td>19.065327</td>\n",
       "      <td>19.38191</td>\n",
       "      <td>19.100503</td>\n",
       "      <td>19.346734</td>\n",
       "      <td>19.135678</td>\n",
       "      <td>19.311558</td>\n",
       "      <td>19.170854</td>\n",
       "      <td>19.276382</td>\n",
       "      <td>19.20603</td>\n",
       "      <td>19.241206</td>\n",
       "    </tr>\n",
       "  </tbody>\n",
       "</table>\n",
       "<p>1 rows × 200 columns</p>\n",
       "</div>"
      ],
      "text/plain": [
       "        8.845328e-116  2.270900e-115  5.779679e-115  1.458311e-114  \\\n",
       "lambda           14.0      14.035176      14.070352      14.105528   \n",
       "\n",
       "        3.648008e-114  9.047727e-114  2.224946e-113  5.425182e-113  \\\n",
       "lambda      14.140704      14.175879      14.211055      14.246231   \n",
       "\n",
       "        1.311723e-112  3.144999e-112      ...        2.036788e-88   \\\n",
       "lambda      14.281407      14.316583      ...            19.065327   \n",
       "\n",
       "        2.068250e-88   2.078625e-88   2.103222e-88   2.111381e-88   \\\n",
       "lambda       19.38191      19.100503      19.346734      19.135678   \n",
       "\n",
       "        2.129016e-88   2.134639e-88   2.145246e-88   2.148113e-88   \\\n",
       "lambda      19.311558      19.170854      19.276382       19.20603   \n",
       "\n",
       "        2.151654e-88   \n",
       "lambda      19.241206  \n",
       "\n",
       "[1 rows x 200 columns]"
      ]
     },
     "execution_count": 13,
     "metadata": {},
     "output_type": "execute_result"
    }
   ],
   "source": [
    "find_max_prob_log(power_outage_df,100)"
   ]
  },
  {
   "cell_type": "markdown",
   "metadata": {},
   "source": [
    "# Question 2\n",
    "- The file plants.csv contains heights to 1,000 plants. You are told the data resembles a normal distribution with a - - standard deviation of 3cm.\n",
    "- Read in https://s3-us-west-2.amazonaws.com/dsci/6002/data/plant.csv using pandas and plot the data on a histogram"
   ]
  },
  {
   "cell_type": "code",
   "execution_count": 14,
   "metadata": {
    "collapsed": false
   },
   "outputs": [
    {
     "data": {
      "text/html": [
       "<div>\n",
       "<table border=\"1\" class=\"dataframe\">\n",
       "  <thead>\n",
       "    <tr style=\"text-align: right;\">\n",
       "      <th></th>\n",
       "      <th>0</th>\n",
       "    </tr>\n",
       "  </thead>\n",
       "  <tbody>\n",
       "    <tr>\n",
       "      <th>0</th>\n",
       "      <td>38.908525</td>\n",
       "    </tr>\n",
       "    <tr>\n",
       "      <th>1</th>\n",
       "      <td>43.156130</td>\n",
       "    </tr>\n",
       "    <tr>\n",
       "      <th>2</th>\n",
       "      <td>39.910492</td>\n",
       "    </tr>\n",
       "    <tr>\n",
       "      <th>3</th>\n",
       "      <td>42.520638</td>\n",
       "    </tr>\n",
       "    <tr>\n",
       "      <th>4</th>\n",
       "      <td>40.462430</td>\n",
       "    </tr>\n",
       "  </tbody>\n",
       "</table>\n",
       "</div>"
      ],
      "text/plain": [
       "           0\n",
       "0  38.908525\n",
       "1  43.156130\n",
       "2  39.910492\n",
       "3  42.520638\n",
       "4  40.462430"
      ]
     },
     "execution_count": 14,
     "metadata": {},
     "output_type": "execute_result"
    }
   ],
   "source": [
    "plants_df = pd.read_csv('https://s3-us-west-2.amazonaws.com/dsci/6002/data/plant.csv')\n",
    "plants_df.head()"
   ]
  },
  {
   "cell_type": "code",
   "execution_count": 15,
   "metadata": {
    "collapsed": false
   },
   "outputs": [
    {
     "name": "stderr",
     "output_type": "stream",
     "text": [
      "/Users/jonathanhilgart/anaconda/lib/python3.5/site-packages/statsmodels/nonparametric/kdetools.py:20: VisibleDeprecationWarning: using a non-integer number instead of an integer will result in an error in the future\n",
      "  y = X[:m/2+1] + np.r_[0,X[m/2+1:],0]*1j\n"
     ]
    },
    {
     "data": {
      "image/png": "[encoded data removed]",
      "text/plain": [
       "<matplotlib.figure.Figure at 0x119e0ab70>"
      ]
     },
     "metadata": {},
     "output_type": "display_data"
    }
   ],
   "source": [
    "sns.distplot(plants_df,norm_hist=True);"
   ]
  },
  {
   "cell_type": "markdown",
   "metadata": {},
   "source": [
    "# Define a range of possible values for the mean (from 32 to 42)"
   ]
  },
  {
   "cell_type": "code",
   "execution_count": 16,
   "metadata": {
    "collapsed": false
   },
   "outputs": [],
   "source": [
    "def log_probabilility_norm(data,mean,s):\n",
    "    '''return normal probability likelihood associated with each mean'''\n",
    "    normal_dist = scipy.stats.norm(scale=s, loc=mean)\n",
    "    \n",
    "    return sum(np.log(normal_dist.pdf(data)))"
   ]
  },
  {
   "cell_type": "code",
   "execution_count": 17,
   "metadata": {
    "collapsed": false
   },
   "outputs": [
    {
     "name": "stdout",
     "output_type": "stream",
     "text": [
      "[-6046.6253576859126, -5867.1430895571502, -5692.2885228490986, -5522.061657561746, -5356.4624936951022, -5195.4910312491593, -5039.1472702239244, -4887.4312106193884, -4740.3428524355631, -4597.8821956724369, -4460.0492403300195, -4326.8439864083011, -4198.2664339072926, -4074.3165828269834, -3954.9944331673832, -3840.2999849284834, -3730.233238110291, -3624.7941927127999, -3523.9828487360128, -3427.7992061799341, -3336.2432650445558, -3249.3150253298854, -3167.0144870359163, -3089.3416501626539, -3016.2965147100936, -2947.8790806782399, -2884.0893480670884, -2824.9273168766431, -2770.3929871069004, -2720.4863587578639, -2675.2074318295299, -2634.5562063219022, -2598.5326822349771, -2567.1368595687563, -2540.3687383232409, -2518.2283184984285, -2500.7156000943223, -2487.8305831109192, -2479.5732675482204, -2475.9436534062265, -2476.9417406849366, -2482.567529384351, -2492.8210195044699, -2507.7022110452936, -2527.2111040068212, -2551.3476983890523, -2580.1119941919883, -2613.5039914156291, -2651.5236900599748, -2694.1710901250231]\n"
     ]
    }
   ],
   "source": [
    "# log probabilities\n",
    "print([log_probabilility_norm(plants_df,x,3.0) for x in np.linspace(32,42)])"
   ]
  },
  {
   "cell_type": "code",
   "execution_count": 18,
   "metadata": {
    "collapsed": false
   },
   "outputs": [
    {
     "data": {
      "image/png": "[encoded data removed]",
      "text/plain": [
       "<matplotlib.figure.Figure at 0x119cfe5c0>"
      ]
     },
     "metadata": {},
     "output_type": "display_data"
    }
   ],
   "source": [
    "plot([log_probabilility_norm(plants_df,x,3.0) for x in np.linspace(32,42)])\n",
    "ylabel('log likelihood')\n",
    "xlabel('mean value')\n",
    "plt.title('likelihood of different means for normal distribution, SD=3');"
   ]
  },
  {
   "cell_type": "code",
   "execution_count": 19,
   "metadata": {
    "collapsed": false
   },
   "outputs": [],
   "source": [
    "#print([log_probabilility_norm(plants_df,x,3.0) for x in np.linspace(32,42,num=100)])\n"
   ]
  },
  {
   "cell_type": "code",
   "execution_count": 20,
   "metadata": {
    "collapsed": false
   },
   "outputs": [],
   "source": [
    "def find_max_log_likelihood_norm(data,s):\n",
    "    mean_prob = {}\n",
    "    \n",
    "    max_log = -99999999999999999\n",
    "    \n",
    "    for x in np.linspace(32,42,num=100):\n",
    "        if log_probabilility_norm(data,x,s) > max_log:\n",
    "            max_log = log_probabilility_norm(data,x,s)\n",
    "            mean_prob[log_probabilility_norm(data,x,s)] = x\n",
    "        else:\n",
    "            mean_prob[log_probabilility_norm(data,x,s)] = x\n",
    "    \n",
    "    \n",
    "    print(mean_prob[max_log],'optimial mean')\n",
    "    print(max_log,'maximum log probability')\n",
    "        "
   ]
  },
  {
   "cell_type": "code",
   "execution_count": 21,
   "metadata": {
    "collapsed": false
   },
   "outputs": [
    {
     "name": "stdout",
     "output_type": "stream",
     "text": [
      "39.9797979798 optimial mean\n",
      "-2475.83435632 maximum log probability\n"
     ]
    }
   ],
   "source": [
    "find_max_log_likelihood_norm(plants_df,3.0)"
   ]
  },
  {
   "cell_type": "code",
   "execution_count": null,
   "metadata": {
    "collapsed": true
   },
   "outputs": [],
   "source": []
  }
 ],
 "metadata": {
  "anaconda-cloud": {},
  "kernelspec": {
   "display_name": "Python [Root]",
   "language": "python",
   "name": "Python [Root]"
  },
  "language_info": {
   "codemirror_mode": {
    "name": "ipython",
    "version": 3
   },
   "file_extension": ".py",
   "mimetype": "text/x-python",
   "name": "python",
   "nbconvert_exporter": "python",
   "pygments_lexer": "ipython3",
   "version": "3.5.2"
  }
 },
 "nbformat": 4,
 "nbformat_minor": 0
}
