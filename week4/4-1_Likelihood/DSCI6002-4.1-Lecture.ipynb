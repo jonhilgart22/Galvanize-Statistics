{
 "cells": [
  {
   "cell_type": "markdown",
   "metadata": {
    "slideshow": {
     "slide_type": "slide"
    }
   },
   "source": [
    "# Lecture 4.1: Likelihood"
   ]
  },
  {
   "cell_type": "markdown",
   "metadata": {
    "slideshow": {
     "slide_type": "slide"
    }
   },
   "source": [
    "## Outline \n",
    "\n",
    "* Statistical inference overview\n",
    "* Likelihood\n",
    "* Log-likelihood\n",
    "* Maximum likelihood estimation (MLE)\n",
    "* Brief introduction to Bayesian statistics"
   ]
  },
  {
   "cell_type": "markdown",
   "metadata": {
    "slideshow": {
     "slide_type": "slide"
    }
   },
   "source": [
    "## Objectives\n",
    "\n",
    "* Know how to write out the likelihood function for a given set of data and an assumed distribution\n",
    "* Understand the difference between the likelihood function and the probability function\n",
    "* Know what MLE is\n",
    "* Can calculate the MLE by maximizing the log-likelihood\n",
    "* Have an intuitive understanding of the idea of Bayesian statistics"
   ]
  },
  {
   "cell_type": "markdown",
   "metadata": {
    "slideshow": {
     "slide_type": "slide"
    }
   },
   "source": [
    "## Statistical Inference\n",
    "\n",
    "Statistical inference, or \"learning\" as it is called in computer science, is the process of using data to infer the distribution that generated the data or the population that the data come from.\n",
    "\n",
    "<img src=\"images/inference.png\" width=\"500\">"
   ]
  },
  {
   "cell_type": "markdown",
   "metadata": {
    "slideshow": {
     "slide_type": "slide"
    }
   },
   "source": [
    "### Three Types of Inference\n",
    "\n",
    "* Point estimation\n",
    "    * Provide a single \"best guess\" of some quantity of interest\n",
    "* Confidence intervals\n",
    "    * Provide an interval estimate of some quantity of interest\n",
    "* Hypothesis testing\n",
    "    * Start with some default idea, and ask if the data provide sufficient evidence to reject the idea "
   ]
  },
  {
   "cell_type": "markdown",
   "metadata": {
    "slideshow": {
     "slide_type": "slide"
    }
   },
   "source": [
    "## Estimation Example\n",
    "\n",
    "If we are given a coin, without knowing whether or not it is fair, how do we esitmate the true probability of getting a head when it is flipped?  \n",
    "\n",
    "I flipped my coin 10 times, and got 8 heads. How can I estimate the probablity of success (getting a head) from the data?"
   ]
  },
  {
   "cell_type": "markdown",
   "metadata": {
    "slideshow": {
     "slide_type": "subslide"
    }
   },
   "source": [
    "Let $X$ be the number of heads we get from flipping the coin 10 times, then\n",
    "\n",
    "$$X \\sim Binomial(n = 10, p = ?)$$\n",
    "\n",
    "In this case, the value of $X$ is known, $X  = 8$, but $p$ is unknown and we want to estimate it."
   ]
  },
  {
   "cell_type": "markdown",
   "metadata": {
    "slideshow": {
     "slide_type": "fragment"
    }
   },
   "source": [
    "We may guess $p = 8/10 = 0.8$, but can it be $0.7$? $0.9$? $0.5$? What's the most *likely* value of $p$ for your coin?"
   ]
  },
  {
   "cell_type": "markdown",
   "metadata": {
    "slideshow": {
     "slide_type": "slide"
    }
   },
   "source": [
    "Suppose for a moment that $p = 0.5$, what is the probability of observing $X = 8$?"
   ]
  },
  {
   "cell_type": "markdown",
   "metadata": {
    "slideshow": {
     "slide_type": "fragment"
    }
   },
   "source": [
    "When $X \\sim Binomial(10, 0.5)$, \n",
    "\n",
    "$$ P(X = 8) = \\binom{10}{8} (0.5)^8 (1 - 0.5)^{10 - 8} = 0.044 $$"
   ]
  },
  {
   "cell_type": "code",
   "execution_count": 1,
   "metadata": {
    "collapsed": false,
    "slideshow": {
     "slide_type": "fragment"
    }
   },
   "outputs": [
    {
     "name": "stdout",
     "output_type": "stream",
     "text": [
      "Populating the interactive namespace from numpy and matplotlib\n"
     ]
    },
    {
     "data": {
      "text/plain": [
       "0.043945312499999993"
      ]
     },
     "execution_count": 1,
     "metadata": {},
     "output_type": "execute_result"
    }
   ],
   "source": [
    "%pylab inline\n",
    "\n",
    "from scipy.stats import binom\n",
    "\n",
    "binom.pmf(8, 10, 0.5)"
   ]
  },
  {
   "cell_type": "markdown",
   "metadata": {
    "slideshow": {
     "slide_type": "fragment"
    }
   },
   "source": [
    "Not very likely!"
   ]
  },
  {
   "cell_type": "markdown",
   "metadata": {
    "slideshow": {
     "slide_type": "slide"
    }
   },
   "source": [
    "What about $p = 0.7$? What's the probability of observing $X = 8$ if $p = 0.7$?"
   ]
  },
  {
   "cell_type": "markdown",
   "metadata": {
    "slideshow": {
     "slide_type": "fragment"
    }
   },
   "source": [
    "$X \\sim Binomial(10, 0.7)$, \n",
    "\n",
    "$$ P(X = 8) = \\binom{10}{8} (0.7)^8 (1 - 0.7)^{10 - 8} = 0.233 $$"
   ]
  },
  {
   "cell_type": "code",
   "execution_count": 2,
   "metadata": {
    "collapsed": false,
    "slideshow": {
     "slide_type": "fragment"
    }
   },
   "outputs": [
    {
     "data": {
      "text/plain": [
       "0.23347444049999988"
      ]
     },
     "execution_count": 2,
     "metadata": {},
     "output_type": "execute_result"
    }
   ],
   "source": [
    "binom.pmf(8, 10, 0.7)"
   ]
  },
  {
   "cell_type": "markdown",
   "metadata": {
    "slideshow": {
     "slide_type": "fragment"
    }
   },
   "source": [
    "Much more likly.\n",
    "\n",
    "This suggests that $p = 0.7$ is a better estimate than $p = 0.5$."
   ]
  },
  {
   "cell_type": "markdown",
   "metadata": {
    "slideshow": {
     "slide_type": "fragment"
    }
   },
   "source": [
    "Can we do better?"
   ]
  },
  {
   "cell_type": "markdown",
   "metadata": {
    "slideshow": {
     "slide_type": "slide"
    }
   },
   "source": [
    "You have probably guessed - if $p = 0.7$ is a better estimate than $p = 0.5$, then our common-sense estimate of $p = 0.8$ may do even better. Let's try it."
   ]
  },
  {
   "cell_type": "markdown",
   "metadata": {
    "slideshow": {
     "slide_type": "fragment"
    }
   },
   "source": [
    "$X \\sim Binomial(10, 0.8)$, \n",
    "\n",
    "$$ P(X = 8) = \\binom{10}{8} (0.8)^8 (1 - 0.8)^{10 - 8} = 0.302 $$"
   ]
  },
  {
   "cell_type": "code",
   "execution_count": 3,
   "metadata": {
    "collapsed": false,
    "slideshow": {
     "slide_type": "fragment"
    }
   },
   "outputs": [
    {
     "data": {
      "text/plain": [
       "0.30198988799999998"
      ]
     },
     "execution_count": 3,
     "metadata": {},
     "output_type": "execute_result"
    }
   ],
   "source": [
    "binom.pmf(8, 10, 0.8)"
   ]
  },
  {
   "cell_type": "markdown",
   "metadata": {
    "slideshow": {
     "slide_type": "fragment"
    }
   },
   "source": [
    "The mostly likely so far."
   ]
  },
  {
   "cell_type": "markdown",
   "metadata": {
    "slideshow": {
     "slide_type": "slide"
    }
   },
   "source": [
    "Can we do even better? What happens if we increase $p$ a little  more, say to $p = 8.1$?"
   ]
  },
  {
   "cell_type": "markdown",
   "metadata": {
    "slideshow": {
     "slide_type": "fragment"
    }
   },
   "source": [
    "$X \\sim Binomial(10, 0.81)$, \n",
    "\n",
    "$$ P(X = 8) = \\binom{10}{8} (0.81)^8 (1 - 0.81)^{10 - 8} = 0.301 $$"
   ]
  },
  {
   "cell_type": "code",
   "execution_count": 4,
   "metadata": {
    "collapsed": false,
    "slideshow": {
     "slide_type": "fragment"
    }
   },
   "outputs": [
    {
     "data": {
      "text/plain": [
       "0.30102312967898154"
      ]
     },
     "execution_count": 4,
     "metadata": {},
     "output_type": "execute_result"
    }
   ],
   "source": [
    "binom.pmf(8, 10, 0.81)"
   ]
  },
  {
   "cell_type": "markdown",
   "metadata": {
    "slideshow": {
     "slide_type": "fragment"
    }
   },
   "source": [
    "This has decreased a little bit from the result for $p = 0.8$, so my observation of 8 heads is **LESS** likely under $p = 0.81$ than under $p = 0.8$."
   ]
  },
  {
   "cell_type": "markdown",
   "metadata": {
    "slideshow": {
     "slide_type": "slide"
    }
   },
   "source": [
    "Overall, we can plot a graph showing how likely our observation of $X = 8$ is under each different value of $p$."
   ]
  },
  {
   "cell_type": "code",
   "execution_count": 5,
   "metadata": {
    "collapsed": false,
    "slideshow": {
     "slide_type": "fragment"
    }
   },
   "outputs": [
    {
     "data": {
      "image/png": "[encoded data removed]",
      "text/plain": [
       "<matplotlib.figure.Figure at 0x10bbeb940>"
      ]
     },
     "metadata": {},
     "output_type": "display_data"
    }
   ],
   "source": [
    "p = linspace(0.01, 0.99, 99)\n",
    "plot(p, binom.pmf(8, 10, p));"
   ]
  },
  {
   "cell_type": "code",
   "execution_count": 6,
   "metadata": {
    "collapsed": false,
    "slideshow": {
     "slide_type": "slide"
    }
   },
   "outputs": [
    {
     "name": "stdout",
     "output_type": "stream",
     "text": [
      "The most likely value of p: 0.8\n"
     ]
    },
    {
     "data": {
      "image/png": "[encoded data removed]",
      "text/plain": [
       "<matplotlib.figure.Figure at 0x10e00a828>"
      ]
     },
     "metadata": {},
     "output_type": "display_data"
    }
   ],
   "source": [
    "p = linspace(0.60, 0.99, 40)\n",
    "probs = binom.pmf(8, 10, p)\n",
    "plot(p, probs)\n",
    "\n",
    "most_likely_p = p[np.argmax(probs)]\n",
    "print(\"The most likely value of p:\", most_likely_p)\n",
    "\n",
    "vlines(x = most_likely_p, ymin = 0, ymax = binom.pmf(8, 10, most_likely_p));"
   ]
  },
  {
   "cell_type": "markdown",
   "metadata": {
    "slideshow": {
     "slide_type": "subslide"
    }
   },
   "source": [
    "The graph reaches a clear maximum. This is a value of $p$ at which the observation $X = 8$ is **MORE LIKELY** than at any other value of $p$.  \n",
    "\n",
    "This *maximum likelihood* value of p is our **maximum likelihood estimate (MLE)**."
   ]
  },
  {
   "cell_type": "markdown",
   "metadata": {
    "slideshow": {
     "slide_type": "slide"
    }
   },
   "source": [
    "## The Likelihood Function\n",
    "\n",
    "* If we look at the graph we plotted:\n",
    "    * Horizontal axis: The unknown parameter $p$.\n",
    "    * Vertical axis: The probability of our observation, $X = 8$, under each value of $p$.  \n",
    "    \n",
    "\n",
    "* This function is called the **likelihood function**.  \n",
    "\n",
    "\n",
    "* It is a function of the unknown parameter $p$.   \n",
    "\n",
    "\n",
    "* For our *fixed* observation $X = 8$, the likelihood function shows how **likely** the observation 8 is for every different value of $p$."
   ]
  },
  {
   "cell_type": "markdown",
   "metadata": {
    "slideshow": {
     "slide_type": "slide"
    }
   },
   "source": [
    "The likelihood function is:\n",
    "\n",
    "$$ \\begin{align*}\n",
    "     L(p) &= P(X = 8) \\text{ when } X \\sim Binomial(10, p) \\\\\n",
    "          &= \\binom{10}{8} p^8 (1 - p)^{10 - 8} \\\\\n",
    "          &= \\binom{10}{8} p^8 (1 - p)^2\n",
    "   \\end{align*} $$"
   ]
  },
  {
   "cell_type": "markdown",
   "metadata": {
    "slideshow": {
     "slide_type": "slide"
    }
   },
   "source": [
    "In general, if our observation were $X = x$ rather than $X = 8$, the likelihood function is a function of $p$ giving $P(X = x)$ when $X \\sim Binomial(100, p)$.\n",
    "\n",
    "$$ \\begin{align*}\n",
    "     L(p) &= P(X = x) \\text{ when } X \\sim Binomial(10, p) \\\\\n",
    "          &= \\binom{10}{x} p^x (1 - p)^{10 - x} \n",
    "   \\end{align*} $$"
   ]
  },
  {
   "cell_type": "markdown",
   "metadata": {
    "slideshow": {
     "slide_type": "slide"
    }
   },
   "source": [
    "### Difference between the likelihood function and the probability mass function\n",
    "\n",
    "* The likelihood function is a probability of $x$, but it is a **FUNCTION of $p$**.  \n",
    "\n",
    "\n",
    "* The likelihood gives the probability of a **FIXED** observation $x$, for every possible value of the parameter $p$.  \n",
    "\n",
    "\n",
    "* The probability function gives the probability of every different value of $x$, for a **FIXED** value of $p$."
   ]
  },
  {
   "cell_type": "code",
   "execution_count": 7,
   "metadata": {
    "collapsed": false,
    "slideshow": {
     "slide_type": "slide"
    }
   },
   "outputs": [
    {
     "data": {
      "image/png": "[encoded data removed]",
      "text/plain": [
       "<matplotlib.figure.Figure at 0x10e0106d8>"
      ]
     },
     "metadata": {},
     "output_type": "display_data"
    }
   ],
   "source": [
    "# Plot a likelihood function\n",
    "p = linspace(0.01, 0.99, 99)\n",
    "plot(p, binom.pmf(8, 10, p));"
   ]
  },
  {
   "cell_type": "code",
   "execution_count": 8,
   "metadata": {
    "collapsed": false,
    "slideshow": {
     "slide_type": "slide"
    }
   },
   "outputs": [
    {
     "data": {
      "image/png": "[encoded data removed]",
      "text/plain": [
       "<matplotlib.figure.Figure at 0x10e755b00>"
      ]
     },
     "metadata": {},
     "output_type": "display_data"
    }
   ],
   "source": [
    "# Plot a probability mass function\n",
    "\n",
    "x = linspace(0, 10, 11)\n",
    "bar((x - 0.5), binom.pmf(x, 10, 0.8))\n",
    "xlim((0, 11));"
   ]
  },
  {
   "cell_type": "markdown",
   "metadata": {
    "slideshow": {
     "slide_type": "slide"
    }
   },
   "source": [
    "## Maximizing the Likelihood\n",
    "\n",
    "We have decided that a sensible parameter estimate for p is the maximum likelihood estimate (MLE): the value of $p$ at which the observation $X = 8$ is more likely than at any other value of $p$.  \n",
    "\n",
    "We can find the maximum likelihood estimate (MLE) using calculus.\n",
    "\n",
    "For computational reasons, we will maximize the log of this function instead."
   ]
  },
  {
   "cell_type": "markdown",
   "metadata": {
    "slideshow": {
     "slide_type": "slide"
    }
   },
   "source": [
    "### The Log-likelihood Function\n",
    "\n",
    "If we take the natural logarithm of the likelihood function, we get the **log-likelihood** function.  \n",
    "\n",
    "$$l(p) = \\log(L(p))$$"
   ]
  },
  {
   "cell_type": "markdown",
   "metadata": {
    "slideshow": {
     "slide_type": "subslide"
    }
   },
   "source": [
    "For our coin experiment,\n",
    "\n",
    "$$ \\begin{align*}\n",
    "     l(p) &= L(p) \\\\\n",
    "          &= \\log\\left( \\binom{10}{8} p^8 (1 - p)^2 \\right) \\\\\n",
    "          &= \\log \\binom{10}{8} + 8 \\log(p) + 2 \\log(1 - p)\n",
    "   \\end{align*} $$"
   ]
  },
  {
   "cell_type": "markdown",
   "metadata": {
    "slideshow": {
     "slide_type": "fragment"
    }
   },
   "source": [
    "Note: The $log \\binom{10}{8}$ is usually dropped since it is just a constant and does not affect the value that maximizes the function (we only care about the terms that involve $p$)."
   ]
  },
  {
   "cell_type": "code",
   "execution_count": 9,
   "metadata": {
    "collapsed": false,
    "slideshow": {
     "slide_type": "slide"
    }
   },
   "outputs": [
    {
     "name": "stdout",
     "output_type": "stream",
     "text": [
      "0.8 -1.19736174561\n"
     ]
    },
    {
     "data": {
      "image/png": "[encoded data removed]",
      "text/plain": [
       "<matplotlib.figure.Figure at 0x10e773400>"
      ]
     },
     "metadata": {},
     "output_type": "display_data"
    }
   ],
   "source": [
    "p = linspace(0.01, 0.99, 99)\n",
    "log_likelihoods = log(binom.pmf(8, 10, p))\n",
    "plot(p, log_likelihoods)\n",
    "\n",
    "max_index = argmax(log_likelihoods)\n",
    "axvline(x = p[max_index])\n",
    "\n",
    "print(p[max_index], log_likelihoods[max_index])"
   ]
  },
  {
   "cell_type": "markdown",
   "metadata": {
    "slideshow": {
     "slide_type": "slide"
    }
   },
   "source": [
    "In practice, we maximize the log-likehood function instead of the likelihood function because:\n",
    "\n",
    "* The logarithm is a monotonically increasing function, meaning that the logarithm of a function achieves its maximum value at the same points as the function itself\n",
    "    * e.g. the $p$ that maximizes the log-likelihood function also maximizes the likelihood, and maximizing either function gives us the MLE (they are equivalent)\n",
    "\n",
    "* It is often easier to take the derivative of a log-likelihood function and solving for the parameter being maximized  \n",
    "    * i.e. it is easier to work with sums than products\n",
    "\n",
    "* It makes computation easier\n",
    "    * one issue with calculating small probabilities with a computer is numerical underflow - once the values get sufficiently small, they will be rounded to 0 and we will lose all information"
   ]
  },
  {
   "cell_type": "markdown",
   "metadata": {
    "slideshow": {
     "slide_type": "slide"
    }
   },
   "source": [
    "### Finding the Maximum of the Log-likelihood Function"
   ]
  },
  {
   "cell_type": "markdown",
   "metadata": {
    "slideshow": {
     "slide_type": "fragment"
    }
   },
   "source": [
    "To find the maximizing value of $p$, we first differentiate the log-likelihood with respect to $p$:\n",
    "\n",
    "$$ \\begin{align*}\n",
    "     \\frac{dl}{dp} &= 8 (\\frac{1}{p}) + 2 (\\frac{1}{1 - p}) \\\\\n",
    "                   &= \\frac{8}{p} + \\frac{2}{1 - p}\n",
    "   \\end{align*} $$\n",
    "   \n",
    "The maximizing value of $p$ occurs when  \n",
    "\n",
    "$$ \\frac{dl}{dp} = 0 $$\n",
    "\n",
    "This gives us  \n",
    "\n",
    "$$ \\frac{dl}{dp} = \\frac{8}{p} - \\frac{2}{1 - p} = 0 $$\n",
    "$$ \\Rightarrow p = 0.8 $$"
   ]
  },
  {
   "cell_type": "markdown",
   "metadata": {
    "slideshow": {
     "slide_type": "slide"
    }
   },
   "source": [
    "So based on the data we have, we concluded that the probability of getting a head from my coin is 0.8. \n",
    "\n",
    "\n",
    "How good is this estimate?  \n",
    "\n",
    "\n",
    "How to make it better?  "
   ]
  },
  {
   "cell_type": "markdown",
   "metadata": {
    "slideshow": {
     "slide_type": "slide"
    }
   },
   "source": [
    "## A Very Brief Introduction to Bayesian Statistics\n",
    "\n",
    "Before we carried out the experiment, did we know anything about the probability of getting a head?"
   ]
  },
  {
   "cell_type": "markdown",
   "metadata": {
    "slideshow": {
     "slide_type": "fragment"
    }
   },
   "source": [
    "We know that most of the coins are fair.  \n",
    "\n",
    "Getting 8 heads out of 10 coin flips can be due to chance, and the coin is probably still close to fair.  \n",
    "\n",
    "How do we incorporate this prior knowledge into our estimation?  \n",
    "\n",
    "Answer: Go Bayesian!  \n",
    "\n",
    "Bayesian statistics combines our knowledge and/or belief with what the data tell us to make inference about the quantity of interest."
   ]
  },
  {
   "cell_type": "markdown",
   "metadata": {
    "slideshow": {
     "slide_type": "slide"
    }
   },
   "source": [
    "We call the priro knowledge/belief the prior distribution: $f(p)$  \n",
    "\n",
    "The data give us the likelihood fo $p$: $L(p)$  \n",
    "\n",
    "Our combined information about $p$ is called the posterior distribution: $f(p | x)$  \n",
    "\n",
    "We get the posterior by multiplying the prior and the likelihood,  \n",
    "\n",
    "$$ f(p | x) \\propto f(p) L(p) $$"
   ]
  }
 ],
 "metadata": {
  "anaconda-cloud": {},
  "kernelspec": {
   "display_name": "Python [Root]",
   "language": "python",
   "name": "Python [Root]"
  },
  "language_info": {
   "codemirror_mode": {
    "name": "ipython",
    "version": 3
   },
   "file_extension": ".py",
   "mimetype": "text/x-python",
   "name": "python",
   "nbconvert_exporter": "python",
   "pygments_lexer": "ipython3",
   "version": "3.5.2"
  }
 },
 "nbformat": 4,
 "nbformat_minor": 0
}
