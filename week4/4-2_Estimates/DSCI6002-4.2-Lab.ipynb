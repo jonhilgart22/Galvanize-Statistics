{
 "cells": [
  {
   "cell_type": "markdown",
   "metadata": {},
   "source": [
    "# Lab 4.2: Point Estimation\n",
    "\n",
    "## Outline\n",
    " \n",
    "- Estimand, estimator and estimate\n",
    "- MLE and MOM\n",
    "- MSE of an estimator\n",
    "    * Bias\n",
    "    * Variance"
   ]
  },
  {
   "cell_type": "markdown",
   "metadata": {},
   "source": [
    "**Question 1**\n",
    "\n",
    "100 voters are polled before the election, and it was found that 55% are in favor of the Republican candidate.\n",
    "\n",
    "1. State the **estimand, estimator and estimate** of this study."
   ]
  },
  {
   "cell_type": "markdown",
   "metadata": {},
   "source": [
    "**Question 2**\n",
    "\n",
    "Let $X_1, \\dots, X_n$ be i.i.d. with PDF  \n",
    "\n",
    "$$ f(x | \\theta) = \\theta x^{\\theta - 1} \\text{, } 0 \\leq x \\leq 1 \\text{, } 0 < \\theta < \\infty $$\n",
    "\n",
    "Find the MLE of $\\theta$."
   ]
  },
  {
   "cell_type": "markdown",
   "metadata": {},
   "source": [
    "**Question 3**\n",
    "\n",
    "Let $X_1, \\dots, X_n$ be a random sample from a population with PMF\n",
    "\n",
    "$$ P(X = x) = \\theta^x (1 - \\theta)^{1 - x} \\text{, } x = 0 \\text{ or } 1 \\text{, } 0 \\leq \\theta \\leq \\frac{1}{2} $$  \n",
    "\n",
    "(a) Find the MOM estimator and MLE of $\\theta$.  \n",
    "\n",
    "(b) Find the mean squared errors (MSE) of each of the estimators.  \n",
    "\n",
    "(c) Which estimator is preferred? Justify your choice."
   ]
  },
  {
   "cell_type": "markdown",
   "metadata": {},
   "source": [
    "**Question 4**\n",
    "\n",
    "Three independent groups conducted their own polls to estimate the percentage of voters favor the Republican candidate:\n",
    "- Group 1 and Group 2 randomly polled people from the US population \n",
    "- Group 3 polled people by asking passer-bys at the the corner of a street in Texas, Austin\n",
    "\n",
    "The percentage that favors the Republican candidate in each of the polls are as follows:\n",
    "- Group 1: 49.27%\n",
    "- Group 2: 48.904%\n",
    "- Group 3: 70%\n",
    "\n",
    "\n",
    "1. Which group(s) is likely to have a larger bias? Why?\n",
    "2. Do you know the true bias? Why or why not?"
   ]
  },
  {
   "cell_type": "markdown",
   "metadata": {},
   "source": [
    "**Question 5** (Extra Credit)\n",
    "\n",
    "Suppose $X_1, \\dots, X_n$ are i.i.d. $N(\\mu, \\sigma^2)$. From today's class, we know that the sample mean ($\\bar{X}$) and variance ($S^2$) are unbiased estimators of the population mean ($\\mu$) and variance ($\\sigma^2$),  \n",
    "\n",
    "$$ E(\\bar{X}) = \\mu $$  \n",
    "\n",
    "\n",
    "$$ E(S^2) = \\sigma^2 $$  \n",
    "\n",
    "The MLE of $\\mu$ and $\\sigma^2$ are:  \n",
    "\n",
    "$$ \\hat{\\mu} = \\bar{X} $$  \n",
    "\n",
    "\n",
    "$$ \\hat{\\sigma}^2 = \\frac{1}{n} \\sum X_i^2 - \\bar{X}^2 = \\frac{1}{n} \\sum (X_i - \\bar{X})^2 $$  \n",
    "\n",
    "(a) Are the MLE's above unbiased estimators? Why or why not?  \n",
    "\n",
    "(b) Find the mean squared errors (MSE) of the MLE estimators. (Hint: the MSE part of the lecture notes may help) \n",
    "\n",
    "(c) Write a function in Python to randomly draw 100 values from a $N(0, 1)$ distribution.\n",
    "\n",
    "(d) Use the function above to draw 1000 samples, each with 100 values in it.  \n",
    "\n",
    "(e) For each sample:  \n",
    "\n",
    "    (1) Estimate the variance using sample variance  \n",
    "    \n",
    "    (2) Estimate the variance using the MLE\n",
    "\n",
    "(f) Plot a histogram of the sample variances, and a histogram of the MLE's for the variance\n",
    "\n",
    "(g) Compare the two histograms, what do you notice? Do they estimate the true variance accurately on average? (Hint: it may help to add a vertical line at the value of the true variance on the histograms)\n",
    "\n",
    "(h) Which estimator is preferred, the sample variance or the MLE? Why?  \n",
    "\n"
   ]
  }
 ],
 "metadata": {
  "anaconda-cloud": {},
  "kernelspec": {
   "display_name": "Python [Root]",
   "language": "python",
   "name": "Python [Root]"
  },
  "language_info": {
   "codemirror_mode": {
    "name": "ipython",
    "version": 3
   },
   "file_extension": ".py",
   "mimetype": "text/x-python",
   "name": "python",
   "nbconvert_exporter": "python",
   "pygments_lexer": "ipython3",
   "version": "3.5.2"
  }
 },
 "nbformat": 4,
 "nbformat_minor": 0
}
