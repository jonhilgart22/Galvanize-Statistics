{
 "cells": [
  {
   "cell_type": "markdown",
   "metadata": {},
   "source": [
    "# Lab 4.2: Point Estimation\n",
    "\n",
    "## Outline\n",
    " \n",
    "- Estimand, estimator and estimate\n",
    "- MLE and MOM\n",
    "- MSE of an estimator\n",
    "    * Bias\n",
    "    * Variance"
   ]
  },
  {
   "cell_type": "markdown",
   "metadata": {},
   "source": [
    "**Question 1**\n",
    "\n",
    "100 voters are polled before the election, and it was found that 55% are in favor of the Republican candidate.\n",
    "\n",
    "1. State the **estimand, estimator and estimate** of this study."
   ]
  },
  {
   "cell_type": "markdown",
   "metadata": {},
   "source": [
    "Estimand = percent in favor of the Republican candidate\n",
    "Estimator = count of the number of people in favor of the Republican candidate / total number of peopl polled\n",
    "Estimate = 55% of people are in favor of the REpublican candidate\n",
    "\n"
   ]
  },
  {
   "cell_type": "markdown",
   "metadata": {},
   "source": [
    "**Question 2**\n",
    "\n",
    "Let $X_1, \\dots, X_n$ be i.i.d. with PDF  \n",
    "\n",
    "$$ f(x | \\theta) = \\theta x^{\\theta - 1} \\text{, } 0 \\leq x \\leq 1 \\text{, } 0 < \\theta < \\infty $$\n",
    "\n",
    "Find the MLE of $\\theta$."
   ]
  },
  {
   "cell_type": "code",
   "execution_count": 32,
   "metadata": {
    "collapsed": false
   },
   "outputs": [
    {
     "name": "stdout",
     "output_type": "stream",
     "text": [
      "[0.0, 0.1111111111111111, 0.22222222222222221, 0.33333333333333331, 0.44444444444444442, 0.55555555555555558, 0.66666666666666663, 0.77777777777777768, 0.88888888888888884, 1.0]\n"
     ]
    }
   ],
   "source": [
    "print([x for x in np.linspace(0,1,10)])"
   ]
  },
  {
   "cell_type": "code",
   "execution_count": 53,
   "metadata": {
    "collapsed": false
   },
   "outputs": [],
   "source": [
    "#X is a range of data from 0 to 1\n",
    "import numpy as np\n",
    "\n",
    "\n",
    "def MLE_q2(theta_value):\n",
    "    return np.product([theta_value*x**(theta_value-1) for x in np.linspace(0,1,1000)])\n",
    "    "
   ]
  },
  {
   "cell_type": "code",
   "execution_count": 56,
   "metadata": {
    "collapsed": false
   },
   "outputs": [
    {
     "name": "stdout",
     "output_type": "stream",
     "text": [
      "[('probability of Theta', nan, 'Theta', 0), ('probability of Theta', 1.0, 'Theta', 1), ('probability of Theta', 0.0, 'Theta', 2), ('probability of Theta', 0.0, 'Theta', 3), ('probability of Theta', 0.0, 'Theta', 4), ('probability of Theta', 0.0, 'Theta', 5), ('probability of Theta', 0.0, 'Theta', 6), ('probability of Theta', 0.0, 'Theta', 7), ('probability of Theta', 0.0, 'Theta', 8), ('probability of Theta', 0.0, 'Theta', 9)]\n"
     ]
    },
    {
     "name": "stderr",
     "output_type": "stream",
     "text": [
      "/Users/jonathanhilgart/anaconda/lib/python3.5/site-packages/ipykernel/__main__.py:6: RuntimeWarning: divide by zero encountered in double_scalars\n",
      "/Users/jonathanhilgart/anaconda/lib/python3.5/site-packages/ipykernel/__main__.py:6: RuntimeWarning: invalid value encountered in double_scalars\n"
     ]
    }
   ],
   "source": [
    "print([('probability of Theta',MLE_q2(theta),'Theta',theta) for theta in range(0,10)])\n"
   ]
  },
  {
   "cell_type": "markdown",
   "metadata": {},
   "source": [
    "The maximum likelihood of theta is 1 with a probability of 100%. "
   ]
  },
  {
   "cell_type": "markdown",
   "metadata": {},
   "source": [
    "$L(x | \\theta) = \\prod_{i=1}^{n} \\theta x^{\\theta - 1} \\text{, } 0 \\leq x \\leq 1 \\text{, } 0 < \\theta < \\infty $\n",
    "\n",
    "- Take the log of this\n",
    "\n",
    "$Log(L((x | \\theta)))= \\sum log(\\theta) +log(x^{\\theta-1})) = \\sum(1 / \\theta) + \\sum (\\theta -1) log(X) = N/ \\theta + \\sum (\\theta -1) * log(X)$\n",
    "\n",
    "Sum of theta goes to 1 so you get\n"
   ]
  },
  {
   "cell_type": "markdown",
   "metadata": {},
   "source": [
    "$=N / \\theta + \\sum log(x) = 0$\n",
    "\n",
    "\n",
    "### $ - N / \\sum log(x) = \\theta$"
   ]
  },
  {
   "cell_type": "markdown",
   "metadata": {},
   "source": [
    "# **Question 3**\n",
    "\n",
    "Let $X_1, \\dots, X_n$ be a random sample from a population with PMF\n",
    "\n",
    "$$ P(X = x) = \\theta^x (1 - \\theta)^{1 - x} \\text{, } x = 0 \\text{ or } 1 \\text{, } 0 \\leq \\theta \\leq \\frac{1}{2} $$  \n",
    "\n",
    "(a) Find the MOM estimator and MLE of $\\theta$.  \n",
    "\n",
    "(b) Find the mean squared errors (MSE) of each of the estimators.  \n",
    "\n",
    "(c) Which estimator is preferred? Justify your choice."
   ]
  },
  {
   "cell_type": "markdown",
   "metadata": {},
   "source": [
    "- Formula for finding moments\n",
    "$$ \\mu_n = \\operatorname{E}[(X-a)^n] = \\sum_{i=1}^mp_i\\cdot(x_i-a)^n$$"
   ]
  },
  {
   "cell_type": "markdown",
   "metadata": {},
   "source": [
    "### - First Moment = Mean  \n",
    "\n",
    "When we solve the PMF function for x=0 or =1, we see that P(X=0) = (1- $\\theta$) and P(X=1) = $(\\theta)$.\n",
    "\n",
    "$$ P(X = x) = \\theta^x (1 - \\theta)^{1 - x} \\text{, } x = 0 \\text{ or } 1 \\text{, } 0 \\leq \\theta \\leq \\frac{1}{2} $$"
   ]
  },
  {
   "cell_type": "markdown",
   "metadata": {},
   "source": [
    "Next, use the formula $\\sum Xi * P(Xi) $ to find the first moment."
   ]
  },
  {
   "cell_type": "markdown",
   "metadata": {},
   "source": [
    "When x = 0  =>  $$ P(X = 0) = \\theta^0 (1 - \\theta)^{1 - 0} \\text{, }  $$"
   ]
  },
  {
   "cell_type": "markdown",
   "metadata": {},
   "source": [
    "When x  =1  => $$ P(X = 1) = \\theta^1 (1 - \\theta)^{0} \\text{, }  $$"
   ]
  },
  {
   "cell_type": "markdown",
   "metadata": {},
   "source": [
    "Summing these two together you get\n",
    "$$ 0 * \\theta^0 (1 - \\theta)^{1 - 0} \\text{ }  + 1 * \\theta^1 (1 - \\theta)^{0} \\text{, }  $$"
   ]
  },
  {
   "cell_type": "markdown",
   "metadata": {},
   "source": [
    "When reduces to \n",
    "\n",
    "$(\\theta) $\n",
    "\n",
    "which is the expected value of this distribution."
   ]
  },
  {
   "cell_type": "markdown",
   "metadata": {},
   "source": [
    "### - Second Moment = Variance\n",
    "\n",
    "$$Var(X) = \\sigma^2 = \\operatorname{E}[(X-\\mu)^2] = \\frac{1}{n}\\sum_{i=1}^n(x_i-\\mu)^2$$\n",
    "\n",
    "Sum of $[(0 - 1/2)^2 + (1 - 1/2)^2 ] * 1/2 = $**1/4 is the variance**"
   ]
  },
  {
   "cell_type": "markdown",
   "metadata": {},
   "source": [
    "## - Third Moment = Skewness (we didn't need to complete)\n",
    "\n",
    "$$ \\gamma = \\operatorname{E}\\Big[\\big(\\tfrac{X-\\mu}{\\sigma}\\big)^{\\!3}\\, \\Big] \n",
    "             = \\frac{\\mu_3}{\\sigma^3} \n",
    "             = \\frac{\\operatorname{E}\\big[(X-\\mu)^3\\big]}{\\ \\ \\ ( \\operatorname{E}\\big[ (X-\\mu)^2 \\big] )^{3/2}}$$\n",
    "           \n",
    "Expected Value of [(Xi - mean)^3 / number of elements] / variance (second moment) ^1.5\n",
    "\n",
    "= $sum( (0 - .5)^3 +(1-.5)^3)/2)/ .25 ^{(1.5)}$\n"
   ]
  },
  {
   "cell_type": "markdown",
   "metadata": {},
   "source": [
    "= 0"
   ]
  },
  {
   "cell_type": "markdown",
   "metadata": {},
   "source": [
    "### - Fourth Moment = Kurtosis (we didn't need to complete)\n",
    "\n",
    "$${\\beta=}\\frac{\\operatorname{E}[(X-{\\mu})^4]}{(\\operatorname{E}[(X-{\\mu})^2])^2} {=} \\frac{\\mu_4}{\\sigma^4}$$"
   ]
  },
  {
   "cell_type": "markdown",
   "metadata": {},
   "source": [
    "# - MLE is \n",
    "\n",
    "Product of the PDF function \n",
    "\n",
    "$ L(\\theta | \\textbf{x}) = \\prod_{i = 1}^n \\theta ^{x_i} (1 - \\theta)^{1 - x_1} = \\theta^x(1 - \\theta)^{n - x} $ \n",
    "\n",
    "$ l(\\theta | \\textbf{x}) = log(L(\\theta | \\textbf{x})) = x log(\\theta) + (n - x) log(1 - \\theta) $\n"
   ]
  },
  {
   "cell_type": "markdown",
   "metadata": {},
   "source": [
    "$= x / \\theta + (n-x) / (1- \\theta) = 0 $\n",
    "\n",
    "Solve for $\\theta$ "
   ]
  },
  {
   "cell_type": "markdown",
   "metadata": {},
   "source": [
    "## $\\theta = \\frac{\\sum x} {n}$\n",
    "\n",
    "Therefore, Theta = (0+1)/2 = 1/2.\n",
    "\n",
    "**Best estimate for theta is 1/2**"
   ]
  },
  {
   "cell_type": "markdown",
   "metadata": {},
   "source": [
    "# (b) Find the mean squared errors (MSE) of each of the estimators. Which estimator is preferred.\n",
    "\n",
    "$$ E(\\hat{\\theta} - \\theta)^2 = Var(\\hat{\\theta}) + [E(\\hat{\\theta}) - \\theta]^2 = Var(\\hat{\\theta}) + (Bias(\\hat{\\theta}))^2 $$ \n",
    "\n",
    "$$Bias(\\hat{\\theta}) = E(\\hat{\\theta}) - \\theta$$."
   ]
  },
  {
   "cell_type": "markdown",
   "metadata": {},
   "source": [
    "- MSE of the mean is $(Var(x) - Bias(x))^2$ = (1/4) + (1/2 - 1/2)^2 = (1/4) =1/4. The bias is 0 while the MSE 1/4.\n",
    "- MSE of the MLE is the same as the MSE of the mean since the MLE = mean. $(Var(x) - Bias(x))^2$= (1/4) + (1/2 - 1/2)^2 = (1/4) =1/4. The bias is 0 while the MSE is 1/4.\n",
    "\n",
    "- We preferr the MLE estimator to the mean even though in this case they are equal. This is because the mean is influenced very heavily by extreme values in the distribution. \n"
   ]
  },
  {
   "cell_type": "markdown",
   "metadata": {},
   "source": [
    "#  **Question 4**\n",
    "\n",
    "Three independent groups conducted their own polls to estimate the percentage of voters favor the Republican candidate:\n",
    "- Group 1 and Group 2 randomly polled people from the US population \n",
    "- Group 3 polled people by asking passer-bys at the the corner of a street in Texas, Austin\n",
    "\n",
    "The percentage that favors the Republican candidate in each of the polls are as follows:\n",
    "- Group 1: 49.27%\n",
    "- Group 2: 48.904%\n",
    "- Group 3: 70%\n",
    "\n",
    "\n",
    "1. Which group(s) is likely to have a larger bias? Why?\n",
    "2. Do you know the true bias? Why or why not?"
   ]
  },
  {
   "cell_type": "markdown",
   "metadata": {},
   "source": [
    "- 1) I think that the group three will have the highest rate of bias because this is not a random sample. This is a 'convenience' sample.\n",
    "\n",
    "- 2) The formula for bias is $ E(\\hat{\\theta}) - \\theta$ . If we assume that the groups (group1 and group2) that were randomlly polled are truly representative of the population, then we can take the average of the two responses to have an estimate of the expected value in the population. In this case we can take (.4927 + .48904) / 2  = .49087 or 49.087%. \n",
    "\n",
    "\n"
   ]
  },
  {
   "cell_type": "markdown",
   "metadata": {},
   "source": [
    "Therefore, the true value observed in the population should be close to 49.087%, and the expected value of the point estimate for group 3 is 70%. Then, the bias is (70-49.087) =**20.913%**\n"
   ]
  },
  {
   "cell_type": "markdown",
   "metadata": {},
   "source": [
    "**Question 5** (Extra Credit)\n",
    "\n",
    "Suppose $X_1, \\dots, X_n$ are i.i.d. $N(\\mu, \\sigma^2)$. From today's class, we know that the sample mean ($\\bar{X}$) and variance ($S^2$) are unbiased estimators of the population mean ($\\mu$) and variance ($\\sigma^2$),  \n",
    "\n",
    "$$ E(\\bar{X}) = \\mu $$  \n",
    "\n",
    "\n",
    "$$ E(S^2) = \\sigma^2 $$  \n",
    "\n",
    "The MLE of $\\mu$ and $\\sigma^2$ are:  \n",
    "\n",
    "$$ \\hat{\\mu} = \\bar{X} $$  \n",
    "\n",
    "\n",
    "$$ \\hat{\\sigma}^2 = \\frac{1}{n} \\sum X_i^2 - \\bar{X}^2 = \\frac{1}{n} \\sum (X_i - \\bar{X})^2 $$  \n",
    "\n",
    "(a) Are the MLE's above unbiased estimators? Why or why not?  \n",
    "\n",
    "(b) Find the mean squared errors (MSE) of the MLE estimators. (Hint: the MSE part of the lecture notes may help) \n",
    "\n",
    "(c) Write a function in Python to randomly draw 100 values from a $N(0, 1)$ distribution.\n",
    "\n",
    "(d) Use the function above to draw 1000 samples, each with 100 values in it.  \n",
    "\n",
    "(e) For each sample:  \n",
    "\n",
    "    (1) Estimate the variance using sample variance  \n",
    "    \n",
    "    (2) Estimate the variance using the MLE\n",
    "\n",
    "(f) Plot a histogram of the sample variances, and a histogram of the MLE's for the variance\n",
    "\n",
    "(g) Compare the two histograms, what do you notice? Do they estimate the true variance accurately on average? (Hint: it may help to add a vertical line at the value of the true variance on the histograms)\n",
    "\n",
    "(h) Which estimator is preferred, the sample variance or the MLE? Why?  \n",
    "\n"
   ]
  }
 ],
 "metadata": {
  "anaconda-cloud": {},
  "kernelspec": {
   "display_name": "Python [Root]",
   "language": "python",
   "name": "Python [Root]"
  },
  "language_info": {
   "codemirror_mode": {
    "name": "ipython",
    "version": 3
   },
   "file_extension": ".py",
   "mimetype": "text/x-python",
   "name": "python",
   "nbconvert_exporter": "python",
   "pygments_lexer": "ipython3",
   "version": "3.5.2"
  }
 },
 "nbformat": 4,
 "nbformat_minor": 0
}
