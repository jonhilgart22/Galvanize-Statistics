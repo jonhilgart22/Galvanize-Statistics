{
 "cells": [
  {
   "cell_type": "markdown",
   "metadata": {},
   "source": [
    "# Lab 4.4: Confidence Intervals\n",
    "\n",
    "## Outline\n",
    "\n",
    "- z-score\n",
    "- t-distribution\n",
    "- Confidence Interval Basics\n",
    "- Confidence Interval for One Sample Mean"
   ]
  },
  {
   "cell_type": "markdown",
   "metadata": {},
   "source": [
    "**Question 1**\n",
    "\n",
    "1) Write down the standard Normal distribution.\n",
    "\n",
    "   <br>"
   ]
  },
  {
   "cell_type": "markdown",
   "metadata": {},
   "source": [
    "N~("
   ]
  },
  {
   "cell_type": "markdown",
   "metadata": {},
   "source": [
    "2) z-score measures how many `__________` a value is from the mean.\n",
    "   - units\n",
    "   - variances\n",
    "   - standard deviations\n",
    "   - medians\n",
    "   - modes\n",
    "\n",
    "   <br>"
   ]
  },
  {
   "cell_type": "code",
   "execution_count": 1,
   "metadata": {
    "collapsed": true
   },
   "outputs": [],
   "source": [
    "#standard deviations"
   ]
  },
  {
   "cell_type": "markdown",
   "metadata": {},
   "source": [
    "3) Given a Normal distribution that has mean of 10.5 and variance of 3.2, compute the\n",
    "   - z-score for observing a value of 8.3\n",
    "   - probability of observing a z-score greater than the calculated value above\n",
    "   \n",
    "   <br>"
   ]
  },
  {
   "cell_type": "code",
   "execution_count": 25,
   "metadata": {
    "collapsed": false
   },
   "outputs": [
    {
     "name": "stdout",
     "output_type": "stream",
     "text": [
      "-1.229837387624884\n"
     ]
    },
    {
     "data": {
      "text/plain": [
       "0.89062099773330372"
      ]
     },
     "execution_count": 25,
     "metadata": {},
     "output_type": "execute_result"
    }
   ],
   "source": [
    "##### from scipy.stats import norm\n",
    "from math import sqrt\n",
    "num = (8.3-10.5)/sqrt(3.2)\n",
    "print(num)\n",
    "\n",
    "norm_dist=norm(10.5,sqrt(3.2))\n",
    "\n",
    "1-norm.cdf(num)"
   ]
  },
  {
   "cell_type": "markdown",
   "metadata": {},
   "source": [
    "4) Verify that the probability of observing a z-score greater than calculated in `3.` is same that the probability of observing a value greater than 8.3 from the original Normal distribution (with mean 10.5 and variance 3.2).  \n",
    "\n",
    "   <br>"
   ]
  },
  {
   "cell_type": "code",
   "execution_count": 26,
   "metadata": {
    "collapsed": false
   },
   "outputs": [
    {
     "data": {
      "text/plain": [
       "0.89062099773330372"
      ]
     },
     "execution_count": 26,
     "metadata": {},
     "output_type": "execute_result"
    }
   ],
   "source": [
    "1-norm(10.5,sqrt(3.2)).cdf(8.3)"
   ]
  },
  {
   "cell_type": "markdown",
   "metadata": {},
   "source": [
    "   \n",
    "5) For the standard Normal random variable $Z$, compute the following: \n",
    "1. $P(0.2 < Z \\leq 1.4)$\n",
    "2. $P(-1.48 \\leq Z \\leq 0.4)$\n",
    "3. $P(Z > 1.23)$\n",
    "4. $E(3 + 3Z)$\n",
    "5. $Var(3 + 3Z)$  \n",
    "\n",
    "   <br>"
   ]
  },
  {
   "cell_type": "code",
   "execution_count": 29,
   "metadata": {
    "collapsed": false
   },
   "outputs": [
    {
     "data": {
      "text/plain": [
       "0.33998363128802167"
      ]
     },
     "execution_count": 29,
     "metadata": {},
     "output_type": "execute_result"
    }
   ],
   "source": [
    "norm.cdf(1.4)-norm.cdf(.2000000001)"
   ]
  },
  {
   "cell_type": "code",
   "execution_count": 30,
   "metadata": {
    "collapsed": false
   },
   "outputs": [
    {
     "data": {
      "text/plain": [
       "0.5859851182769924"
      ]
     },
     "execution_count": 30,
     "metadata": {},
     "output_type": "execute_result"
    }
   ],
   "source": [
    "norm.cdf(.4)-norm.cdf(-1.48)"
   ]
  },
  {
   "cell_type": "code",
   "execution_count": 31,
   "metadata": {
    "collapsed": false
   },
   "outputs": [
    {
     "data": {
      "text/plain": [
       "0.10934855242569186"
      ]
     },
     "execution_count": 31,
     "metadata": {},
     "output_type": "execute_result"
    }
   ],
   "source": [
    "1-norm.cdf(1.23)"
   ]
  },
  {
   "cell_type": "code",
   "execution_count": 34,
   "metadata": {
    "collapsed": false
   },
   "outputs": [
    {
     "data": {
      "text/plain": [
       "3"
      ]
     },
     "execution_count": 34,
     "metadata": {},
     "output_type": "execute_result"
    }
   ],
   "source": [
    "3"
   ]
  },
  {
   "cell_type": "markdown",
   "metadata": {},
   "source": [
    "9+9*var(z)"
   ]
  },
  {
   "cell_type": "markdown",
   "metadata": {},
   "source": [
    "**Question 2**\n",
    "   \n",
    "1) Visually, what is the difference between a t-distribution and a standard Normal distribution? \n",
    "\n",
    "   <br> "
   ]
  },
  {
   "cell_type": "markdown",
   "metadata": {},
   "source": [
    "t-distribution has fatter tails and s shorter peak with smaller N than the normal distribution. As N increases, the t-distribution begins to approximates the normal distribution. T-distribution depends on degrees of freedom."
   ]
  },
  {
   "cell_type": "markdown",
   "metadata": {},
   "source": [
    "   \n",
    "2) Plot the pdf of the following distributions.  \n",
    "\n",
    "* Standard Normal $N(0, 1)$\n",
    "* $t_{5}$\n",
    "* $t_{10}$\n",
    "* $t_{100}$\n",
    "* $t_{10000}$\n",
    "   \n",
    "   <br>"
   ]
  },
  {
   "cell_type": "code",
   "execution_count": 73,
   "metadata": {
    "collapsed": false
   },
   "outputs": [
    {
     "name": "stdout",
     "output_type": "stream",
     "text": [
      "Populating the interactive namespace from numpy and matplotlib\n"
     ]
    },
    {
     "data": {
      "image/png": "[encoded data removed]",
      "text/plain": [
       "<matplotlib.figure.Figure at 0x11ad99048>"
      ]
     },
     "metadata": {},
     "output_type": "display_data"
    }
   ],
   "source": [
    "import seaborn as sns\n",
    "import numpy as np\n",
    "from scipy import stats\n",
    "%pylab inline\n",
    "x=[item for item in np.linspace(-2,2,100)]\n",
    "\n",
    "data=stats.norm.pdf(x)\n",
    "\n",
    "plot( data)\n",
    "plot(stats.t(5).pdf(x))\n",
    "plot(stats.t(10).pdf(x))\n",
    "plot(stats.t(100).pdf(x));"
   ]
  },
  {
   "cell_type": "code",
   "execution_count": 60,
   "metadata": {
    "collapsed": false
   },
   "outputs": [
    {
     "data": {
      "text/plain": [
       "[<matplotlib.lines.Line2D at 0x11a2aac50>]"
      ]
     },
     "execution_count": 60,
     "metadata": {},
     "output_type": "execute_result"
    },
    {
     "data": {
      "image/png": "[encoded data removed]",
      "text/plain": [
       "<matplotlib.figure.Figure at 0x119d2b9b0>"
      ]
     },
     "metadata": {},
     "output_type": "display_data"
    }
   ],
   "source": [
    "\n",
    "t5 = plt.plot(stats.t.pdf([-10,-5,0,1,5],4))\n"
   ]
  },
  {
   "cell_type": "markdown",
   "metadata": {},
   "source": [
    "3) Comment on the plots. How does the shape of t-distribution change as the degrees of freedom change?   \n",
    "\n",
    "   <br>"
   ]
  },
  {
   "cell_type": "markdown",
   "metadata": {},
   "source": [
    "**Question 3**\n",
    "\n",
    "1) Explain why confidence interval is more informative than a point estimate.\n",
    "\n",
    "   <br>"
   ]
  },
  {
   "cell_type": "markdown",
   "metadata": {},
   "source": [
    "A point estimate attempts to sum up a distribution in one number. However, you do not know what the underlying variace in the population is. confidence intervals show this variance to you."
   ]
  },
  {
   "cell_type": "markdown",
   "metadata": {},
   "source": [
    "2) Explain why the following statement is **wrong**:\n",
    "   - The 95% confidence interval means there is a 95% chance that the true value lies in the interval|\n",
    "   \n",
    "   <br>"
   ]
  },
  {
   "cell_type": "markdown",
   "metadata": {},
   "source": [
    "You do not have a  95%  chacne of observing the mean for ANY GIVEN confidence interval. Over all confidence intervals, there is a 95% chance of observing the true value."
   ]
  },
  {
   "cell_type": "markdown",
   "metadata": {},
   "source": [
    "3) Explain in plain words what the following means:\n",
    "   - The 95% confidence interval of the click through rate to website A is 0.10 to 0.15\n",
    "\n",
    "   <br>"
   ]
  },
  {
   "cell_type": "code",
   "execution_count": null,
   "metadata": {
    "collapsed": true
   },
   "outputs": [],
   "source": []
  },
  {
   "cell_type": "markdown",
   "metadata": {},
   "source": [
    "4) You are presented with 2 measurements below, select the measurement that is more precise and explain why that is.\n",
    "   - **Measurement 1**: 5.00 cm with 95% confidence interval of (4.52 cm, 5.52 cm)\n",
    "   - **Measurement 2**: 5.20 cm with 95% confidence interval of (5.13 cm, 5.22 cm)\n",
    "\n",
    "   <br>"
   ]
  },
  {
   "cell_type": "markdown",
   "metadata": {},
   "source": [
    "$5.00 +/ SE *2 (4.52,5.52)$\n",
    "\n"
   ]
  },
  {
   "cell_type": "code",
   "execution_count": 82,
   "metadata": {
    "collapsed": false
   },
   "outputs": [
    {
     "name": "stdout",
     "output_type": "stream",
     "text": [
      "0.2599999999999998 1\n",
      "0.009999999999999787 2\n"
     ]
    }
   ],
   "source": [
    "#5.52=5.0 + SE*2\n",
    "\n",
    "print((5.52-5)/2,'1')\n",
    "print((5.22-5.20)/2,'2')\n",
    "#h=2*(5.52)\n",
    "\n",
    "#l"
   ]
  },
  {
   "cell_type": "markdown",
   "metadata": {},
   "source": [
    "5) Is a 99% confidence interval wider or narrower than a 90% confidence interval?  \n",
    "\n",
    "   <br>"
   ]
  },
  {
   "cell_type": "markdown",
   "metadata": {},
   "source": [
    "**Question 4**\n",
    "\n",
    "1) Suppose Google sampled 200 of its employees and measured how long they are gone for lunch. \n",
    "   - Download the data from https://s3-us-west-2.amazonaws.com/dsci/6002/data/lunch_hour.txt (right click -> \"Save Link As...\")\n",
    "   - Load the data by `numpy.loadtxt('lunch_hour_200.txt')`\n",
    "   - Compute the mean lunch hour of the sample\n",
    "   - Compute the 95% confidence interval for how long, on average, Google employees take to have lunch.\n",
    "     (**_There is a python function to calculate this, which you will use later to verify your results; for this part, calculate it by following the formula given in class_**)\n",
    "\n",
    "   <br>"
   ]
  },
  {
   "cell_type": "code",
   "execution_count": 91,
   "metadata": {
    "collapsed": false
   },
   "outputs": [],
   "source": [
    "data =np.loadtxt('lunch_hour.txt')\n",
    "import pandas as pd\n",
    "data=pd.DataFrame(data)"
   ]
  },
  {
   "cell_type": "markdown",
   "metadata": {},
   "source": [
    "COnfidence Interval\n",
    "\n",
    "mean "
   ]
  },
  {
   "cell_type": "code",
   "execution_count": 123,
   "metadata": {
    "collapsed": false
   },
   "outputs": [
    {
     "name": "stdout",
     "output_type": "stream",
     "text": [
      "0    2.266352\n",
      "dtype: float64 0    2.102648\n",
      "dtype: float64\n"
     ]
    }
   ],
   "source": [
    "data.head()\n",
    "p_mean = data.mean()\n",
    "p_std= data.std()\n",
    "standard_error = p_std/sqrt(data.count())\n",
    "\n",
    "print(p_mean+2*standard_error,p_mean-2*standard_error)\n"
   ]
  },
  {
   "cell_type": "markdown",
   "metadata": {},
   "source": [
    "   \n",
    "2) Suppose only the first 20 employees are sampled. Re-compute the 95% confidence interval based on this smaller sample.\n",
    "\n",
    "   <br>"
   ]
  },
  {
   "cell_type": "code",
   "execution_count": 132,
   "metadata": {
    "collapsed": false
   },
   "outputs": [
    {
     "name": "stdout",
     "output_type": "stream",
     "text": [
      "0    0.14\n",
      "dtype: float64\n"
     ]
    },
    {
     "data": {
      "text/plain": [
       "0    2.16\n",
       "dtype: float64"
      ]
     },
     "execution_count": 132,
     "metadata": {},
     "output_type": "execute_result"
    }
   ],
   "source": [
    "import pandas as pd\n",
    "data=pd.DataFrame(data)\n",
    "data_twenty = data[0:20]\n",
    "mean = data_twenty.mean()\n",
    "std = data_twenty.std()\n",
    "\n",
    "ste = (data_twenty.std())/sqrt(20)\n",
    "print(ste)\n",
    "mean"
   ]
  },
  {
   "cell_type": "markdown",
   "metadata": {
    "collapsed": true
   },
   "source": [
    "   \n",
    "3) Use the following Python functions to verify your results above (which one should you use?):\n",
    "\n",
    "```python\n",
    "# Function to calculate z-based 95% CI\n",
    "scipy.stats.norm.interval(0.05, mean, std)\n",
    "\n",
    "# Function to calculate t-based 95% with 19 degrees of freedom\n",
    "scipy.stats.t.interval(0.05, 19, mean, std)\n",
    "```\n",
    "\n",
    "   <br>"
   ]
  },
  {
   "cell_type": "code",
   "execution_count": null,
   "metadata": {
    "collapsed": false
   },
   "outputs": [],
   "source": []
  },
  {
   "cell_type": "code",
   "execution_count": 135,
   "metadata": {
    "collapsed": false
   },
   "outputs": [
    {
     "data": {
      "text/plain": [
       "(array([ 1.86697663]), array([ 2.45302337]))"
      ]
     },
     "execution_count": 135,
     "metadata": {},
     "output_type": "execute_result"
    }
   ],
   "source": [
    "stats.t.interval(.95, 19, mean, ste)"
   ]
  },
  {
   "cell_type": "markdown",
   "metadata": {},
   "source": [
    "**Question 5**\n",
    "\n",
    "A survey is planned to determine the mean annual family medical expenses of employees of a large company. The management of the company wishes to be 95% confident that the sample mean is\n",
    "correct to within +/- \\$50 of the true population mean of annual family medical expenses. A pilot\n",
    "study indicated the population standard deviation can be estimated to be $400.  \n",
    "\n",
    "1) How large a sample size is needed?  \n",
    "\n",
    "\n",
    "2) If management wants to be correct to within +/- \\$25, what sample size is necessary?  \n"
   ]
  },
  {
   "cell_type": "markdown",
   "metadata": {},
   "source": [
    "95% confidence\n",
    "\n",
    "t=  1.98\n",
    "\n",
    "df = 399\n",
    "\n",
    "50 = 1.98*400 / sqrt(n)"
   ]
  },
  {
   "cell_type": "code",
   "execution_count": 138,
   "metadata": {
    "collapsed": false
   },
   "outputs": [
    {
     "data": {
      "text/plain": [
       "245.86239999999998"
      ]
     },
     "execution_count": 138,
     "metadata": {},
     "output_type": "execute_result"
    }
   ],
   "source": [
    "(1.96*400/50)**2"
   ]
  },
  {
   "cell_type": "code",
   "execution_count": 140,
   "metadata": {
    "collapsed": false
   },
   "outputs": [
    {
     "data": {
      "text/plain": [
       "983.4495999999999"
      ]
     },
     "execution_count": 140,
     "metadata": {},
     "output_type": "execute_result"
    }
   ],
   "source": [
    "(1.96*400/25)**2"
   ]
  },
  {
   "cell_type": "code",
   "execution_count": null,
   "metadata": {
    "collapsed": true
   },
   "outputs": [],
   "source": []
  }
 ],
 "metadata": {
  "anaconda-cloud": {},
  "kernelspec": {
   "display_name": "Python [Root]",
   "language": "python",
   "name": "Python [Root]"
  },
  "language_info": {
   "codemirror_mode": {
    "name": "ipython",
    "version": 3
   },
   "file_extension": ".py",
   "mimetype": "text/x-python",
   "name": "python",
   "nbconvert_exporter": "python",
   "pygments_lexer": "ipython3",
   "version": "3.5.2"
  }
 },
 "nbformat": 4,
 "nbformat_minor": 0
}
