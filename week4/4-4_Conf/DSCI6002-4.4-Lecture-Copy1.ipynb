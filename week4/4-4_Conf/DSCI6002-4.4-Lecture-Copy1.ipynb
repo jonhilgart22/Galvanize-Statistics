{
 "cells": [
  {
   "cell_type": "markdown",
   "metadata": {
    "slideshow": {
     "slide_type": "slide"
    }
   },
   "source": [
    "# Lecture 4.4: Confidence Intervals"
   ]
  },
  {
   "cell_type": "markdown",
   "metadata": {
    "slideshow": {
     "slide_type": "slide"
    }
   },
   "source": [
    "## Outline\n",
    "\n",
    "* Recap: Central Limit Theorem\n",
    "* Confidence intervals for one sample mean\n",
    "    * z-based\n",
    "    * t-based\n",
    "    * Difference between Normal and t-distribution"
   ]
  },
  {
   "cell_type": "markdown",
   "metadata": {
    "slideshow": {
     "slide_type": "slide"
    }
   },
   "source": [
    "## Objectives\n",
    "\n",
    "* Understand the frequentist's interpretation of confidence intervals\n",
    "* Know how to calculate and interpret confidence intervals for one sample mean (both z- and t-based)"
   ]
  },
  {
   "cell_type": "markdown",
   "metadata": {
    "slideshow": {
     "slide_type": "slide"
    }
   },
   "source": [
    "## Recap: The Really Cool Central Limit Theorem (CLT)"
   ]
  },
  {
   "cell_type": "markdown",
   "metadata": {
    "slideshow": {
     "slide_type": "fragment"
    }
   },
   "source": [
    "### Sampling Distribution\n",
    "\n",
    "#### Review: Population Parameters vs Sample Statistics\n",
    "\n",
    "<img src=\"images/population_vs_sample.png\" width=\"300\">"
   ]
  },
  {
   "cell_type": "markdown",
   "metadata": {
    "slideshow": {
     "slide_type": "slide"
    }
   },
   "source": [
    "* The value of a **population parameter** is a **fixed number**, it is **NOT random**; its value is **not known**.  \n",
    "\n",
    "\n",
    "* The value of a sample statistic is calculated from sample data.  \n",
    "\n",
    "\n",
    "* The value of a **sample statistic** will **vary** from sample to sample (sampling distributions)."
   ]
  },
  {
   "cell_type": "markdown",
   "metadata": {
    "slideshow": {
     "slide_type": "slide"
    }
   },
   "source": [
    "**Example**: Suppose (and this is never the case) that we know our entire population and have their values for age, then we would know the population parameters, e.g. $\\mu$ and $\\sigma^2$.  \n",
    "\n",
    "* Each time we take a sample from this population and calculate the sample mean, we would potentially get a different sample mean value - this is called **sampling variation**."
   ]
  },
  {
   "cell_type": "markdown",
   "metadata": {
    "slideshow": {
     "slide_type": "subslide"
    }
   },
   "source": [
    "* If I took many (say 1000) samples of size 20 from this population and made a histogram of the 1000 means, it looks like this:\n",
    "\n",
    "<img src=\"images/sample_dist.png\" width=\"400\">"
   ]
  },
  {
   "cell_type": "markdown",
   "metadata": {
    "slideshow": {
     "slide_type": "subslide"
    }
   },
   "source": [
    "* In general we only take one sample. What the histogram shows are the range and likelihood of different $\\bar{x}$ values.  \n",
    "\n",
    "<img src=\"images/sample_dist2.png\" width=\"500\">"
   ]
  },
  {
   "cell_type": "markdown",
   "metadata": {
    "slideshow": {
     "slide_type": "slide"
    }
   },
   "source": [
    "### Central Limit Theorem\n",
    "\n",
    "* The CLT states that if random samples of size $n$ are repeatedly drawn from any population with mean $\\mu$ and variance $\\sigma^2$, then when $n$ is large, the distribution of the sample means will be approximately Normal:  \n",
    "\n",
    "\n",
    "$$ \\bar{X} \\dot{\\sim} N(\\mu, \\frac{\\sigma^2}{n}) $$  \n",
    "\n",
    "* This is a really cool and powerful result. It says that no matter what our initial data looks like, when we take averages we end up with the Normal distribution.  "
   ]
  },
  {
   "cell_type": "markdown",
   "metadata": {
    "slideshow": {
     "slide_type": "subslide"
    }
   },
   "source": [
    "* This result is so useful because we usually don’t know where our data comes from, i.e. what the shape of the underlying true distribution looks like. The CLT theorem says that as long as we work with averages, it doesn’t matter.\n",
    "\n",
    "\n",
    "* [Sampling distribution simulation](http://onlinestatbook.com/stat_sim/sampling_dist/index.html)"
   ]
  },
  {
   "cell_type": "markdown",
   "metadata": {
    "slideshow": {
     "slide_type": "slide"
    }
   },
   "source": [
    "**How Large is Large Enough?**  \n",
    "\n",
    "* For **most** distributions, $n > 30$ will give a sampling distribution that is nearly Normal   \n",
    "\n",
    "\n",
    "* For **fairly symmetric** distributions, $n > 15$  \n",
    "\n",
    "\n",
    "* For **Normal** population distributions, the sampling distribution of the mean is always Normally distributed"
   ]
  },
  {
   "cell_type": "markdown",
   "metadata": {
    "slideshow": {
     "slide_type": "slide"
    }
   },
   "source": [
    "**Example**: The service times for customers coming through a checkout counter in a retail store are independent random variables with a mean of 1.5 minutes and a variance of 1.0.  \n",
    "What is the probability that 88 customers can be serviced in less than 2 hours of total service time by this one checkout counter?"
   ]
  },
  {
   "cell_type": "markdown",
   "metadata": {
    "slideshow": {
     "slide_type": "fragment"
    }
   },
   "source": [
    "We want to find  \n",
    "\n",
    "\n",
    "$$P(\\sum_{i = 1}^{88} X_i < 120)$$"
   ]
  },
  {
   "cell_type": "markdown",
   "metadata": {
    "slideshow": {
     "slide_type": "fragment"
    }
   },
   "source": [
    "If we divide both sides by 88, we get  \n",
    "\n",
    "\n",
    "$$  P(\\bar{X} < 1.36) $$"
   ]
  },
  {
   "cell_type": "markdown",
   "metadata": {
    "slideshow": {
     "slide_type": "subslide"
    }
   },
   "source": [
    "From CLT, we have  \n",
    "\n",
    "$$ \\begin{align*}\n",
    "     \\bar{X} &\\sim N(\\mu, \\frac{\\sigma^2}{n}) \\\\\n",
    "             &\\sim N(1.5, \\frac{1}{88})\n",
    "   \\end{align*} $$          "
   ]
  },
  {
   "cell_type": "markdown",
   "metadata": {
    "slideshow": {
     "slide_type": "fragment"
    }
   },
   "source": [
    "Then  \n",
    "\n",
    "\n",
    "$$ P(\\bar{X} < 1.36) = 0.095 $$"
   ]
  },
  {
   "cell_type": "code",
   "execution_count": 16,
   "metadata": {
    "collapsed": false,
    "slideshow": {
     "slide_type": "subslide"
    }
   },
   "outputs": [
    {
     "data": {
      "text/plain": [
       "0.094538175129462776"
      ]
     },
     "execution_count": 16,
     "metadata": {},
     "output_type": "execute_result"
    }
   ],
   "source": [
    "from scipy.stats import norm\n",
    "import numpy as np\n",
    "\n",
    "norm(1.5, 1 / np.sqrt(88)).cdf(1.36)"
   ]
  },
  {
   "cell_type": "markdown",
   "metadata": {
    "slideshow": {
     "slide_type": "fragment"
    }
   },
   "source": [
    "So there is about a 10% chance 88 customers can be serviced within 2 hours."
   ]
  },
  {
   "cell_type": "markdown",
   "metadata": {
    "slideshow": {
     "slide_type": "slide"
    }
   },
   "source": [
    "## Confidence Intervals\n",
    "\n",
    "Say we have a population of interest and we want to determine what its mean $\\mu$ is.  \n",
    "\n",
    "We know the procedure is to generate a random sample $X_1, X_2, \\dots, X_n$ and form the estimates  \n",
    "\n",
    "$$ \\bar{X} = \\frac{1}{n} \\sum_{i = 1}^n X_i $$\n",
    "\n",
    "It would be grossly **misleading** to claim that $\\mu$ is precisely equal to the observed $\\bar{x}$  \n",
    "\n",
    "To detail our uncertainty about our estimate for $\\mu$, we can construct a confidence interval or interval estimate for $\\mu$.\n"
   ]
  },
  {
   "cell_type": "markdown",
   "metadata": {
    "slideshow": {
     "slide_type": "slide"
    }
   },
   "source": [
    "**Example**: Say if I want to estimate the mean weight of the population,  \n",
    "\n",
    "* I can give a point estimate, $\\bar{x} = 150$ pounds,  \n",
    "* or I can give an interval estimate: I estimate the mean weight to be between 140 and 160 pounds with certain level of confidence (more on this later).  \n",
    "\n",
    "\n",
    "Confidence intervals are a vital aspect to statistics since an estimate is useless without some concept of its precision, and that is exactly what a confidence interval tells us - how good is our estimate."
   ]
  },
  {
   "cell_type": "markdown",
   "metadata": {
    "slideshow": {
     "slide_type": "slide"
    }
   },
   "source": [
    "### Point and Interval Estimates\n",
    "\n",
    "* A point estimate is a single number\n",
    "* A confidence interval provides additional information about variability\n",
    "\n",
    "<img src=\"images/point_vs_interval.png\" width=\"500\">\n"
   ]
  },
  {
   "cell_type": "markdown",
   "metadata": {
    "slideshow": {
     "slide_type": "slide"
    }
   },
   "source": [
    "### Confidence Intervals for One Sample Mean\n",
    "\n",
    "**Example**: We are interested in estimating the mean weight of a certain population, and we know the standard deviation of the population is 3 pounds. We took a random sample of 100 people from the population and calculated their average weight, and we got $\\bar{X} = 150$ pounds. Is this a good estimate for the population mean weight? How do we know?\n",
    "\n",
    "Let's construct an interval estimate."
   ]
  },
  {
   "cell_type": "markdown",
   "metadata": {
    "slideshow": {
     "slide_type": "slide"
    }
   },
   "source": [
    "We construct the interval estimate using the CLT, which says \n",
    "\n",
    "$$ \\bar{X} \\sim N(\\mu, \\frac{\\sigma^2}{n}) $$  \n",
    "\n",
    "Then by **standardizing** it (taking the Z score):  \n",
    "\n",
    "$$ Z = \\frac{\\bar{X} - \\mu}{\\sigma / \\sqrt{n}} \\sim N(0, 1) $$"
   ]
  },
  {
   "cell_type": "markdown",
   "metadata": {
    "slideshow": {
     "slide_type": "slide"
    }
   },
   "source": [
    "#### Standardizing Rule\n",
    "\n",
    "If $X \\sim N(\\text{mean, variance})$, then  \n",
    "\n",
    "$$ Z = \\frac{X - \\text{mean}}{\\sqrt{\\text{variance}}} \\sim N(0, 1) $$   \n",
    "\n",
    "This is also called **normalization**."
   ]
  },
  {
   "cell_type": "markdown",
   "metadata": {
    "slideshow": {
     "slide_type": "fragment"
    }
   },
   "source": [
    "For $Z \\sim N(0, 1)$, we have  \n",
    "\n",
    "$$ P(-1.96 < Z < 1.96) = 0.95 $$  "
   ]
  },
  {
   "cell_type": "markdown",
   "metadata": {
    "slideshow": {
     "slide_type": "slide"
    }
   },
   "source": [
    "So far, we have  \n",
    "\n",
    "$$ \\bar{X} \\sim N(\\mu, \\frac{\\sigma^2}{n}) $$  \n",
    "\n",
    "\n",
    "$$ Z = \\frac{\\bar{X} - \\mu}{\\sigma / \\sqrt{n}} \\sim N(0, 1) $$\n",
    "\n",
    "\n",
    "$$ P(-1.96 < Z < 1.96) = 0.95 $$  \n"
   ]
  },
  {
   "cell_type": "markdown",
   "metadata": {
    "slideshow": {
     "slide_type": "fragment"
    }
   },
   "source": [
    "Then\n",
    "\n",
    "$$ P(-1.96 < \\frac{\\bar{X} - \\mu}{\\sigma / \\sqrt{n}} < 1.96) = 0.95 $$  \n"
   ]
  },
  {
   "cell_type": "markdown",
   "metadata": {
    "slideshow": {
     "slide_type": "subslide"
    }
   },
   "source": [
    "By doing some algebra, we can rearrange things so that\n",
    "\n",
    "$$ P(\\bar{X} - 1.96 \\frac{\\sigma}{\\sqrt{n}} < \\mu < \\bar{X} + 1.96 \\frac{\\sigma}{\\sqrt{n}}) = 0.95 $$\n",
    "\n",
    "**Note**: this is a probability statement about $\\bar{X}$ (random variable), not about $\\mu$ (number)."
   ]
  },
  {
   "cell_type": "markdown",
   "metadata": {
    "slideshow": {
     "slide_type": "fragment"
    }
   },
   "source": [
    "We are 95% confidence that the true mean $\\mu$ is in the interval  \n",
    "\n",
    "$$ (\\bar{X} - 1.96 \\frac{\\sigma}{\\sqrt{n}} \\text{, } \\bar{X} + 1.96 \\frac{\\sigma}{\\sqrt{n}}) $$\n",
    "\n",
    "Sometimes, we write it as \n",
    "\n",
    "$$ \\bar{X} \\pm 1.96 \\frac{\\sigma}{\\sqrt{n}} $$\n",
    "\n",
    "This is the **z-based** confidence interval for one sample mean."
   ]
  },
  {
   "cell_type": "markdown",
   "metadata": {
    "slideshow": {
     "slide_type": "slide"
    }
   },
   "source": [
    "Going back to our weight example, we have  \n",
    "\n",
    "$$ \\sigma^2 = 3^2 $$\n",
    "$$ \\bar{x} = 150 $$\n",
    "$$ n = 100 $$"
   ]
  },
  {
   "cell_type": "markdown",
   "metadata": {
    "slideshow": {
     "slide_type": "subslide"
    }
   },
   "source": [
    "Then the confidence interval for the population mean weight, $\\mu$, is  \n",
    "\n",
    "$$ (\\bar{X} - 1.96 \\frac{\\sigma}{\\sqrt{n}} \\text{, } \\bar{X} + 1.96 \\frac{\\sigma}{\\sqrt{n}}) $$\n",
    "\n",
    "$$ (150 - 1.96 \\times \\frac{3}{\\sqrt{100}}, 150 + 1.96 \\times \\frac{3}{\\sqrt{100}}) $$\n",
    "\n",
    "$$ \\rightarrow (149.4, 150.6) $$\n",
    "\n",
    "We are 95% confident that the true mean weight is somewhere between 149.4 and 150.6 pounds."
   ]
  },
  {
   "cell_type": "markdown",
   "metadata": {
    "slideshow": {
     "slide_type": "slide"
    }
   },
   "source": [
    "**What does it mean that we are 95% confident?**\n",
    "\n",
    "If we had 100 different samples with the same sample size and created 100 different intervals, we would expect (on average) 95 out of 100 of them to contain the true (but unknown) mean."
   ]
  },
  {
   "cell_type": "markdown",
   "metadata": {
    "slideshow": {
     "slide_type": "slide"
    }
   },
   "source": [
    "#### Margin of Error\n",
    "\n",
    "**Margin of Error (e)**: the amount added and subtracted to the point estimate to form the confidence interval.\n",
    "\n",
    "$$ \\bar{X} \\pm 1.96 \\frac{\\sigma}{\\sqrt{n}} \\Rightarrow e = 1.96 \\frac{\\sigma}{\\sqrt{n}}$$"
   ]
  },
  {
   "cell_type": "markdown",
   "metadata": {
    "slideshow": {
     "slide_type": "fragment"
    }
   },
   "source": [
    "**Example**: \n",
    "\n",
    "In the weight example, what is the margin of error?"
   ]
  },
  {
   "cell_type": "markdown",
   "metadata": {
    "slideshow": {
     "slide_type": "fragment"
    }
   },
   "source": [
    "$$ e = 1.96 \\frac{\\sigma}{\\sqrt{n}}= 1.96 \\times \\frac{3}{\\sqrt{100}} = 0.6 $$"
   ]
  },
  {
   "cell_type": "markdown",
   "metadata": {
    "slideshow": {
     "slide_type": "slide"
    }
   },
   "source": [
    "**Determining sample size**\n",
    "\n",
    "In an effort to reduce the margin of error to 0.2, we want to collect another sample. How many people's weights do we need to sample to be within 0.2 pound of the true mean?"
   ]
  },
  {
   "cell_type": "markdown",
   "metadata": {
    "slideshow": {
     "slide_type": "subslide"
    }
   },
   "source": [
    "We want\n",
    "\n",
    "$$ e = 1.96 \\frac{\\sigma}{\\sqrt{n}} = 1.96 \\times \\frac{3}{\\sqrt{n}} = 0.2 $$\n",
    "\n",
    "Solving for $n$:\n",
    "\n",
    "$$ n = (\\frac{1.96 \\sigma}{e})^2 = (\\frac{1.96 \\times 3}{0.2})^2 = 864.36 \\approx 865 $$\n",
    "\n",
    "We need to sample at least 865 people's weights to have a marge of error of 0.2.\n",
    "\n",
    "**Note**: for sample size calculations, we always round up to the next whole number."
   ]
  },
  {
   "cell_type": "markdown",
   "metadata": {
    "slideshow": {
     "slide_type": "slide"
    }
   },
   "source": [
    "**Does it always have to be 95%?**"
   ]
  },
  {
   "cell_type": "markdown",
   "metadata": {
    "slideshow": {
     "slide_type": "fragment"
    }
   },
   "source": [
    "Nope."
   ]
  },
  {
   "cell_type": "markdown",
   "metadata": {
    "slideshow": {
     "slide_type": "slide"
    }
   },
   "source": [
    "We can find confidence interval for any level of confidence.  \n",
    "\n",
    "$$ \\bar{X} \\pm z_{\\alpha /2} \\frac{\\sigma}{\\sqrt{n}} $$  \n",
    "\n",
    "$z_{\\alpha /2}$ is the point on the Normal curve as follows,\n",
    "\n",
    "<img src=\"images/z_curve.png\" width=\"400\">"
   ]
  },
  {
   "cell_type": "markdown",
   "metadata": {
    "slideshow": {
     "slide_type": "slide"
    }
   },
   "source": [
    "For example, when we calculate a 95% confidence interval, $\\alpha = 5\\%$, $z_{\\alpha /2}$ = 1.96.  \n",
    "\n",
    "Any size confidence interval is then given by  \n",
    "\n",
    "$$ \\bar{X} \\pm z_{\\alpha /2} \\frac{\\sigma}{\\sqrt{n}} $$  \n",
    "\n",
    "\n",
    "Here are the most common values  \n",
    "<img src=\"images/z_values.png\" width=\"400\">\n"
   ]
  },
  {
   "cell_type": "code",
   "execution_count": 17,
   "metadata": {
    "collapsed": false,
    "slideshow": {
     "slide_type": "slide"
    }
   },
   "outputs": [
    {
     "data": {
      "text/plain": [
       "1.959963984540054"
      ]
     },
     "execution_count": 17,
     "metadata": {},
     "output_type": "execute_result"
    }
   ],
   "source": [
    "norm.ppf(0.975) # z value for 95% confidence interval"
   ]
  },
  {
   "cell_type": "code",
   "execution_count": 18,
   "metadata": {
    "collapsed": false,
    "slideshow": {
     "slide_type": "fragment"
    }
   },
   "outputs": [
    {
     "data": {
      "text/plain": [
       "2.5758293035489004"
      ]
     },
     "execution_count": 18,
     "metadata": {},
     "output_type": "execute_result"
    }
   ],
   "source": [
    "norm.ppf(0.995) # z value for 99% confidence interval"
   ]
  },
  {
   "cell_type": "code",
   "execution_count": 19,
   "metadata": {
    "collapsed": false,
    "slideshow": {
     "slide_type": "fragment"
    }
   },
   "outputs": [
    {
     "data": {
      "text/plain": [
       "1.6448536269514722"
      ]
     },
     "execution_count": 19,
     "metadata": {},
     "output_type": "execute_result"
    }
   ],
   "source": [
    "norm.ppf(0.95) # z value for 90% confidence interval"
   ]
  },
  {
   "cell_type": "markdown",
   "metadata": {
    "slideshow": {
     "slide_type": "slide"
    }
   },
   "source": [
    "**What if we don't know the population standard deviation $\\sigma$?**\n",
    "\n",
    "We needed $\\sigma$ in our previous calculation for confidence intervals,  \n",
    "\n",
    "$$ (\\bar{X} - 1.96 \\frac{\\sigma}{\\sqrt{n}} \\text{, } \\bar{X} + 1.96 \\frac{\\sigma}{\\sqrt{n}}) $$ \n",
    "\n",
    "\n",
    "But we don't always know the true population standard deviation $\\sigma$.  \n",
    "\n",
    "Do we panic?"
   ]
  },
  {
   "cell_type": "markdown",
   "metadata": {
    "slideshow": {
     "slide_type": "slide"
    }
   },
   "source": [
    "We don't have the population standard deviation $\\sigma$, but we can calculate the sample standard deviation $s$ from the sample we have.  \n",
    "\n",
    "Can we simply replace $\\sigma$ with $s$?  \n",
    "\n",
    "Yes, and no."
   ]
  },
  {
   "cell_type": "markdown",
   "metadata": {
    "slideshow": {
     "slide_type": "slide"
    }
   },
   "source": [
    "We know by the CLT that  \n",
    "\n",
    "$$ \\frac{\\bar{X} - \\mu}{\\sigma / \\sqrt{n}} \\sim N(0, 1) $$\n",
    "\n",
    "It turns out, if we replace $\\sigma$ with $s$, we get a slightly different distribution - the t-distribution.  \n",
    "\n",
    "$$ \\frac{\\bar{X} - \\mu}{s / \\sqrt{n}} \\sim t_{n - 1} $$"
   ]
  },
  {
   "cell_type": "markdown",
   "metadata": {
    "slideshow": {
     "slide_type": "slide"
    }
   },
   "source": [
    "#### Review: t-distribution\n",
    "\n",
    "* The t-distribution looks similar to the standard Normal distribution $N(0, 1)$ except it has fatter tails.   \n",
    "\n",
    "\n",
    "* It is centered at zero and defined by its degrees of freedom which equal $n-1$.\n",
    "\n",
    "\n",
    "* As the sample size $n$ gets large, the t-distribution looks like the $N(0,1)$ distribution.  \n",
    "\n",
    "\n",
    "$$ t_{n - 1} \\rightarrow N(0, 1) \\text{ as } n \\rightarrow \\infty $$"
   ]
  },
  {
   "cell_type": "markdown",
   "metadata": {
    "slideshow": {
     "slide_type": "slide"
    }
   },
   "source": [
    "<img src=\"images/normal_t.png\" width=\"600\">"
   ]
  },
  {
   "cell_type": "markdown",
   "metadata": {
    "slideshow": {
     "slide_type": "slide"
    }
   },
   "source": [
    "When population standard deviation is unknown, we can construct the confidence interval for the mean by  \n",
    "\n",
    "$$ \\bar{X} \\pm t \\left( \\frac{s}{\\sqrt{n}} \\right) $$  \n",
    "\n",
    "where $t$ comes from the t-distribution, and depends on the sample size through the degrees of freedom $n - 1$.  \n",
    "\n",
    "This is the **t-based** confidence interval for one sample mean."
   ]
  },
  {
   "cell_type": "code",
   "execution_count": 20,
   "metadata": {
    "collapsed": false,
    "slideshow": {
     "slide_type": "slide"
    }
   },
   "outputs": [
    {
     "data": {
      "text/plain": [
       "1.9842169515086827"
      ]
     },
     "execution_count": 20,
     "metadata": {},
     "output_type": "execute_result"
    }
   ],
   "source": [
    "from scipy.stats import t\n",
    "\n",
    "t(99).ppf(0.975)  # t value for 95% confidence interval with sample size 100 (df = 100 - 1 = 99)"
   ]
  },
  {
   "cell_type": "code",
   "execution_count": 21,
   "metadata": {
    "collapsed": false,
    "slideshow": {
     "slide_type": "fragment"
    }
   },
   "outputs": [
    {
     "data": {
      "text/plain": [
       "2.6264054563851857"
      ]
     },
     "execution_count": 21,
     "metadata": {},
     "output_type": "execute_result"
    }
   ],
   "source": [
    "t(99).ppf(0.995)  # t value for 99% confidence interval with sample size 100 (df = 100 - 1 = 99)"
   ]
  },
  {
   "cell_type": "code",
   "execution_count": 22,
   "metadata": {
    "collapsed": false,
    "slideshow": {
     "slide_type": "fragment"
    }
   },
   "outputs": [
    {
     "data": {
      "text/plain": [
       "1.6603911559963895"
      ]
     },
     "execution_count": 22,
     "metadata": {},
     "output_type": "execute_result"
    }
   ],
   "source": [
    "t(99).ppf(0.95)  # t value for 90% confidence interval with sample size 100 (df = 100 - 1 = 99)"
   ]
  },
  {
   "cell_type": "markdown",
   "metadata": {
    "slideshow": {
     "slide_type": "slide"
    }
   },
   "source": [
    "**Example**  \n",
    "\n",
    "\n",
    "Say we don't actually have the population standard deviation in the population weight example, instead, we calculated the sample standard deviation from the sample, and we have $s = 3.5$. How do we construct a confidence interval for the population mean weight $\\mu$?"
   ]
  },
  {
   "cell_type": "markdown",
   "metadata": {
    "slideshow": {
     "slide_type": "fragment"
    }
   },
   "source": [
    "Information given:  \n",
    "\n",
    "$$ s = 3.5 $$\n",
    "$$ \\bar{x} = 150 $$\n",
    "$$ n = 100 $$\n",
    "\n"
   ]
  },
  {
   "cell_type": "markdown",
   "metadata": {
    "slideshow": {
     "slide_type": "subslide"
    }
   },
   "source": [
    "Then the t-based confidence interval for the mean weight is  \n",
    "\n",
    "$$ \\bar{X} \\pm t \\left( \\frac{s}{\\sqrt{n}} \\right) $$  \n",
    "\n",
    "\n",
    "$$ 150 \\pm 1.98 \\times \\frac{3.5}{\\sqrt{100}}$$  \n",
    "\n",
    "$$ \\rightarrow (149.3, 150.7) $$  \n",
    "\n",
    "We are 95% confident that the mean weight of the population is somewhere between 149.3 and 150.7 pounds."
   ]
  }
 ],
 "metadata": {
  "anaconda-cloud": {},
  "kernelspec": {
   "display_name": "Python [Root]",
   "language": "python",
   "name": "Python [Root]"
  },
  "language_info": {
   "codemirror_mode": {
    "name": "ipython",
    "version": 3
   },
   "file_extension": ".py",
   "mimetype": "text/x-python",
   "name": "python",
   "nbconvert_exporter": "python",
   "pygments_lexer": "ipython3",
   "version": "3.5.2"
  }
 },
 "nbformat": 4,
 "nbformat_minor": 0
}
