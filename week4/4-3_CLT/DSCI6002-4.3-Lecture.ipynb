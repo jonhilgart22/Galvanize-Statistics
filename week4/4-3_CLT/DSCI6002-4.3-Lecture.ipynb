{
 "cells": [
  {
   "cell_type": "markdown",
   "metadata": {
    "slideshow": {
     "slide_type": "slide"
    }
   },
   "source": [
    "# Lecture 4.3: Central Limit Theorem"
   ]
  },
  {
   "cell_type": "markdown",
   "metadata": {
    "slideshow": {
     "slide_type": "subslide"
    }
   },
   "source": [
    "## Outline\n",
    "* Brief review of sampling\n",
    "* Sampling distribution of the mean\n",
    "* Standard error of the mean\n",
    "* Central Limit Theorem"
   ]
  },
  {
   "cell_type": "markdown",
   "metadata": {
    "slideshow": {
     "slide_type": "subslide"
    }
   },
   "source": [
    "## Objectives\n",
    "1. Basic understanding of the Central Limit Theorem (CLT)\n",
    "2. Know how to find the distribution of a sample mean by CLT"
   ]
  },
  {
   "cell_type": "markdown",
   "metadata": {
    "slideshow": {
     "slide_type": "slide"
    }
   },
   "source": [
    "## Sampling\n",
    "In general you will not have access to full populations for analysis.  \n",
    "Instead you will infer properties of the population based on samples."
   ]
  },
  {
   "cell_type": "markdown",
   "metadata": {
    "slideshow": {
     "slide_type": "subslide"
    }
   },
   "source": [
    "### Common Types of Sampling\n",
    "\n",
    "* Simple random sampling\n",
    "    * Very commonly used, grab elements at random from the population, every member of population has equal chance of being selected  \n",
    "\n",
    "\n",
    "* Stratified sampling\n",
    "    * Used to maintain proportions of populations  \n",
    " "
   ]
  },
  {
   "cell_type": "markdown",
   "metadata": {
    "slideshow": {
     "slide_type": "slide"
    }
   },
   "source": [
    "<img src = 'images/sampling1.png'>"
   ]
  },
  {
   "cell_type": "markdown",
   "metadata": {
    "slideshow": {
     "slide_type": "subslide"
    }
   },
   "source": [
    "<img src = 'images/sampling2.png'>"
   ]
  },
  {
   "cell_type": "markdown",
   "metadata": {
    "slideshow": {
     "slide_type": "subslide"
    }
   },
   "source": [
    "<img src = 'images/sampling3.png'>"
   ]
  },
  {
   "cell_type": "markdown",
   "metadata": {
    "slideshow": {
     "slide_type": "subslide"
    }
   },
   "source": [
    "<img src = 'images/sampling4.png'>"
   ]
  },
  {
   "cell_type": "markdown",
   "metadata": {
    "slideshow": {
     "slide_type": "subslide"
    }
   },
   "source": [
    "<img src = 'images/sampling5.png'>"
   ]
  },
  {
   "cell_type": "markdown",
   "metadata": {
    "slideshow": {
     "slide_type": "slide"
    }
   },
   "source": [
    "## Sampling Distribution of the Sample Mean  \n",
    "\n",
    "* The sample mean is an unbiased estimator of the population mean.  \n",
    "* However, if you sample multiple times from the same population, you will get different results for the sample mean, so the distribution of sample means has some variance."
   ]
  },
  {
   "cell_type": "markdown",
   "metadata": {
    "slideshow": {
     "slide_type": "slide"
    }
   },
   "source": [
    "### Let's try an example"
   ]
  },
  {
   "cell_type": "code",
   "execution_count": 1,
   "metadata": {
    "collapsed": false,
    "slideshow": {
     "slide_type": "skip"
    }
   },
   "outputs": [
    {
     "name": "stdout",
     "output_type": "stream",
     "text": [
      "Populating the interactive namespace from numpy and matplotlib\n"
     ]
    }
   ],
   "source": [
    "%pylab inline \n",
    "\n",
    "import pandas as pd\n",
    "\n",
    "from scipy import stats"
   ]
  },
  {
   "cell_type": "code",
   "execution_count": 2,
   "metadata": {
    "collapsed": true,
    "slideshow": {
     "slide_type": "fragment"
    }
   },
   "outputs": [],
   "source": [
    "dist = stats.uniform(0,1)"
   ]
  },
  {
   "cell_type": "code",
   "execution_count": 3,
   "metadata": {
    "collapsed": false,
    "slideshow": {
     "slide_type": "fragment"
    }
   },
   "outputs": [
    {
     "data": {
      "image/png": "[encoded data removed]",
      "text/plain": [
       "<matplotlib.figure.Figure at 0x1143b27f0>"
      ]
     },
     "metadata": {},
     "output_type": "display_data"
    }
   ],
   "source": [
    "x = linspace(0.001,0.999,1000)\n",
    "plot(x, dist.pdf(x));"
   ]
  },
  {
   "cell_type": "markdown",
   "metadata": {
    "slideshow": {
     "slide_type": "slide"
    }
   },
   "source": [
    "We have a uniform distribution from 0 to 1, what will the mean be?"
   ]
  },
  {
   "cell_type": "code",
   "execution_count": 4,
   "metadata": {
    "collapsed": false,
    "slideshow": {
     "slide_type": "fragment"
    }
   },
   "outputs": [
    {
     "data": {
      "text/plain": [
       "0.5"
      ]
     },
     "execution_count": 4,
     "metadata": {},
     "output_type": "execute_result"
    }
   ],
   "source": [
    "dist.mean()"
   ]
  },
  {
   "cell_type": "markdown",
   "metadata": {
    "slideshow": {
     "slide_type": "fragment"
    }
   },
   "source": [
    "What about the standard deviation (the square root of the variance)?"
   ]
  },
  {
   "cell_type": "code",
   "execution_count": 5,
   "metadata": {
    "collapsed": false,
    "slideshow": {
     "slide_type": "fragment"
    }
   },
   "outputs": [
    {
     "data": {
      "text/plain": [
       "0.28867513459481287"
      ]
     },
     "execution_count": 5,
     "metadata": {},
     "output_type": "execute_result"
    }
   ],
   "source": [
    "dist.std()"
   ]
  },
  {
   "cell_type": "markdown",
   "metadata": {
    "slideshow": {
     "slide_type": "slide"
    }
   },
   "source": [
    "Those are true/population values, calculated using the whole distribution.  \n",
    "What about samples?"
   ]
  },
  {
   "cell_type": "code",
   "execution_count": 6,
   "metadata": {
    "collapsed": false,
    "slideshow": {
     "slide_type": "fragment"
    }
   },
   "outputs": [
    {
     "name": "stdout",
     "output_type": "stream",
     "text": [
      "[ 0.21283615  0.62795869  0.62212587  0.1754183   0.57952004]\n"
     ]
    }
   ],
   "source": [
    "sample1 = dist.rvs(size=5)\n",
    "print(sample1)"
   ]
  },
  {
   "cell_type": "code",
   "execution_count": 7,
   "metadata": {
    "collapsed": false,
    "slideshow": {
     "slide_type": "fragment"
    }
   },
   "outputs": [
    {
     "data": {
      "text/plain": [
       "0.44357180826046172"
      ]
     },
     "execution_count": 7,
     "metadata": {},
     "output_type": "execute_result"
    }
   ],
   "source": [
    "sample1.mean()"
   ]
  },
  {
   "cell_type": "markdown",
   "metadata": {
    "slideshow": {
     "slide_type": "subslide"
    }
   },
   "source": [
    "Let's take another sample"
   ]
  },
  {
   "cell_type": "code",
   "execution_count": 8,
   "metadata": {
    "collapsed": false,
    "slideshow": {
     "slide_type": "fragment"
    }
   },
   "outputs": [
    {
     "name": "stdout",
     "output_type": "stream",
     "text": [
      "[ 0.38336364  0.91356101  0.24094599  0.90950731  0.83018535]\n"
     ]
    }
   ],
   "source": [
    "sample2 = dist.rvs(size=5)\n",
    "print(sample2)"
   ]
  },
  {
   "cell_type": "code",
   "execution_count": 9,
   "metadata": {
    "collapsed": false,
    "slideshow": {
     "slide_type": "fragment"
    }
   },
   "outputs": [
    {
     "data": {
      "text/plain": [
       "0.65551266089812288"
      ]
     },
     "execution_count": 9,
     "metadata": {},
     "output_type": "execute_result"
    }
   ],
   "source": [
    "sample2.mean()"
   ]
  },
  {
   "cell_type": "code",
   "execution_count": 10,
   "metadata": {
    "collapsed": false,
    "slideshow": {
     "slide_type": "fragment"
    }
   },
   "outputs": [
    {
     "name": "stdout",
     "output_type": "stream",
     "text": [
      "[ 0.10193705  0.56869838  0.30506348  0.45379934  0.77435827]\n"
     ]
    }
   ],
   "source": [
    "sample3 = dist.rvs(size=5)\n",
    "print(sample3)"
   ]
  },
  {
   "cell_type": "code",
   "execution_count": 11,
   "metadata": {
    "collapsed": false,
    "slideshow": {
     "slide_type": "fragment"
    }
   },
   "outputs": [
    {
     "data": {
      "text/plain": [
       "0.4407713039749197"
      ]
     },
     "execution_count": 11,
     "metadata": {},
     "output_type": "execute_result"
    }
   ],
   "source": [
    "sample3.mean()"
   ]
  },
  {
   "cell_type": "markdown",
   "metadata": {
    "slideshow": {
     "slide_type": "slide"
    }
   },
   "source": [
    "Now let's try sampling multiple times:"
   ]
  },
  {
   "cell_type": "code",
   "execution_count": 12,
   "metadata": {
    "collapsed": false,
    "slideshow": {
     "slide_type": "fragment"
    }
   },
   "outputs": [],
   "source": [
    "def sample_means(num_samples = 10, size = 5, dist = stats.uniform(0,1)):\n",
    "    means = []\n",
    "    for i in range(num_samples):\n",
    "        means.append(dist.rvs(size=size).mean())\n",
    "    return means   "
   ]
  },
  {
   "cell_type": "code",
   "execution_count": 13,
   "metadata": {
    "collapsed": false,
    "slideshow": {
     "slide_type": "fragment"
    }
   },
   "outputs": [
    {
     "data": {
      "text/plain": [
       "[0.65507194488126586,\n",
       " 0.474696044231805,\n",
       " 0.68740406678291033,\n",
       " 0.57188688956800671,\n",
       " 0.46851272242557374,\n",
       " 0.66714755359141553,\n",
       " 0.76538363446888347,\n",
       " 0.3094739005411461,\n",
       " 0.40632938701146859,\n",
       " 0.39469803961481442]"
      ]
     },
     "execution_count": 13,
     "metadata": {},
     "output_type": "execute_result"
    }
   ],
   "source": [
    "sample_means()"
   ]
  },
  {
   "cell_type": "code",
   "execution_count": 14,
   "metadata": {
    "collapsed": false,
    "slideshow": {
     "slide_type": "slide"
    }
   },
   "outputs": [
    {
     "data": {
      "image/png": "[encoded data removed]",
      "text/plain": [
       "<matplotlib.figure.Figure at 0x116a697f0>"
      ]
     },
     "metadata": {},
     "output_type": "display_data"
    }
   ],
   "source": [
    "# sample 10000 times\n",
    "means_size5 = array(sample_means(10000))\n",
    "hist(means_size5, bins = linspace(0,1,101));"
   ]
  },
  {
   "cell_type": "markdown",
   "metadata": {
    "slideshow": {
     "slide_type": "subslide"
    }
   },
   "source": [
    "What is the mean of these values?  \n",
    "\n",
    "**Note**: This is the mean of the sample means $\\bar{x}$, not the mean of $x$"
   ]
  },
  {
   "cell_type": "code",
   "execution_count": 15,
   "metadata": {
    "collapsed": false,
    "slideshow": {
     "slide_type": "fragment"
    }
   },
   "outputs": [
    {
     "data": {
      "text/plain": [
       "0.5007171384952841"
      ]
     },
     "execution_count": 15,
     "metadata": {},
     "output_type": "execute_result"
    }
   ],
   "source": [
    "means_size5.mean()"
   ]
  },
  {
   "cell_type": "markdown",
   "metadata": {
    "slideshow": {
     "slide_type": "subslide"
    }
   },
   "source": [
    "What about the standard deviation?  "
   ]
  },
  {
   "cell_type": "code",
   "execution_count": 16,
   "metadata": {
    "collapsed": false,
    "slideshow": {
     "slide_type": "fragment"
    }
   },
   "outputs": [
    {
     "data": {
      "text/plain": [
       "0.12976003826159452"
      ]
     },
     "execution_count": 16,
     "metadata": {},
     "output_type": "execute_result"
    }
   ],
   "source": [
    "means_size5.std()"
   ]
  },
  {
   "cell_type": "markdown",
   "metadata": {
    "slideshow": {
     "slide_type": "fragment"
    }
   },
   "source": [
    "**Note**: This is the standard deviation of the observed sample means $\\bar{x}$'s, which is an estimate of the true standard deviation of $\\bar{X}$, i.e. the standard error of the sample mean $\\bar{X}$."
   ]
  },
  {
   "cell_type": "markdown",
   "metadata": {
    "slideshow": {
     "slide_type": "slide"
    }
   },
   "source": [
    "What happens as we increase number of samples?"
   ]
  },
  {
   "cell_type": "code",
   "execution_count": 17,
   "metadata": {
    "collapsed": false,
    "slideshow": {
     "slide_type": "fragment"
    }
   },
   "outputs": [
    {
     "data": {
      "text/plain": [
       "0.49721926121938481"
      ]
     },
     "execution_count": 17,
     "metadata": {},
     "output_type": "execute_result"
    }
   ],
   "source": [
    "dist.rvs(size=100).mean()"
   ]
  },
  {
   "cell_type": "code",
   "execution_count": 18,
   "metadata": {
    "collapsed": false,
    "slideshow": {
     "slide_type": "fragment"
    }
   },
   "outputs": [
    {
     "data": {
      "text/plain": [
       "0.47306792410403509"
      ]
     },
     "execution_count": 18,
     "metadata": {},
     "output_type": "execute_result"
    }
   ],
   "source": [
    "dist.rvs(size=100).mean()"
   ]
  },
  {
   "cell_type": "code",
   "execution_count": 19,
   "metadata": {
    "collapsed": false,
    "slideshow": {
     "slide_type": "fragment"
    }
   },
   "outputs": [
    {
     "data": {
      "text/plain": [
       "0.51633247368062685"
      ]
     },
     "execution_count": 19,
     "metadata": {},
     "output_type": "execute_result"
    }
   ],
   "source": [
    "dist.rvs(size=100).mean()"
   ]
  },
  {
   "cell_type": "code",
   "execution_count": 20,
   "metadata": {
    "collapsed": false,
    "slideshow": {
     "slide_type": "slide"
    }
   },
   "outputs": [
    {
     "data": {
      "image/png": "[encoded data removed]",
      "text/plain": [
       "<matplotlib.figure.Figure at 0x117043dd8>"
      ]
     },
     "metadata": {},
     "output_type": "display_data"
    }
   ],
   "source": [
    "# sample 10000 times\n",
    "means_size100 = array(sample_means(10000, 100))\n",
    "hist(means_size100, bins=linspace(0, 1, 101));"
   ]
  },
  {
   "cell_type": "code",
   "execution_count": 21,
   "metadata": {
    "collapsed": false,
    "slideshow": {
     "slide_type": "fragment"
    }
   },
   "outputs": [
    {
     "data": {
      "text/plain": [
       "0.49984791167907577"
      ]
     },
     "execution_count": 21,
     "metadata": {},
     "output_type": "execute_result"
    }
   ],
   "source": [
    "means_size100.mean()"
   ]
  },
  {
   "cell_type": "code",
   "execution_count": 22,
   "metadata": {
    "collapsed": false,
    "slideshow": {
     "slide_type": "fragment"
    }
   },
   "outputs": [
    {
     "data": {
      "text/plain": [
       "0.028842221772168927"
      ]
     },
     "execution_count": 22,
     "metadata": {},
     "output_type": "execute_result"
    }
   ],
   "source": [
    "means_size100.std()"
   ]
  },
  {
   "cell_type": "markdown",
   "metadata": {
    "slideshow": {
     "slide_type": "slide"
    }
   },
   "source": [
    "Let $ X_1,X_2,X_3,\\ldots,X_n $ be i.i.d. random variables with mean $\\mu$ and variance $\\sigma^2$,  \n",
    "$ T = X_1 + X_2 + X_3 + \\ldots + X_n $,  \n",
    "Then,  \n",
    "\n",
    "\n",
    "$$ Var(T) = Var(X_1 + X_2 + X_3 + \\ldots + X_n) = n\\sigma^2$$\n",
    "$$ Var (\\bar{X}) = Var(T/n) = \\frac{1}{n^2} \\times n \\sigma^2 $$\n",
    "$$ Var(\\bar{X}) = \\frac{\\sigma^2}{n} $$"
   ]
  },
  {
   "cell_type": "markdown",
   "metadata": {
    "slideshow": {
     "slide_type": "slide"
    }
   },
   "source": [
    "## The Standard Error of the Mean  \n",
    "\n",
    "The standard deviation of the sample mean is given by,  \n",
    "\n",
    "$$SD(\\bar{X}) = \\frac{\\sigma}{\\sqrt{n}} $$"
   ]
  },
  {
   "cell_type": "markdown",
   "metadata": {
    "slideshow": {
     "slide_type": "subslide"
    }
   },
   "source": [
    "We call this the **standard error** of the mean (SEM), $SE_\\bar{x}$, and we estimate it by:  \n",
    "\n",
    "$$SE_\\bar{x} = \\frac{s}{\\sqrt{n}} $$  \n",
    "\n",
    "$s$ = standard deviation of sample  \n",
    "$n$ = sample size"
   ]
  },
  {
   "cell_type": "markdown",
   "metadata": {
    "slideshow": {
     "slide_type": "subslide"
    }
   },
   "source": [
    "### Important Note:\n",
    "The standard error of the mean drops as you increase the sample size, so larger samples have less variance in their means."
   ]
  },
  {
   "cell_type": "markdown",
   "metadata": {
    "slideshow": {
     "slide_type": "slide"
    }
   },
   "source": [
    "What happens if we keep increasing the sample size of each sample?"
   ]
  },
  {
   "cell_type": "code",
   "execution_count": 23,
   "metadata": {
    "collapsed": false,
    "slideshow": {
     "slide_type": "fragment"
    }
   },
   "outputs": [
    {
     "data": {
      "image/png": "[encoded data removed]",
      "text/plain": [
       "<matplotlib.figure.Figure at 0x1174cb7b8>"
      ]
     },
     "metadata": {},
     "output_type": "display_data"
    }
   ],
   "source": [
    "# Increase the sample size to 1000\n",
    "\n",
    "means_size1000 = array(sample_means(10000, 1000))\n",
    "hist(means_size1000, bins = linspace(0,1,101));"
   ]
  },
  {
   "cell_type": "code",
   "execution_count": 24,
   "metadata": {
    "collapsed": false,
    "slideshow": {
     "slide_type": "fragment"
    }
   },
   "outputs": [
    {
     "data": {
      "text/plain": [
       "(0.4997502106846432, 0.0092303241487547115)"
      ]
     },
     "execution_count": 24,
     "metadata": {},
     "output_type": "execute_result"
    }
   ],
   "source": [
    "means_size1000.mean(), means_size1000.std()"
   ]
  },
  {
   "cell_type": "code",
   "execution_count": 25,
   "metadata": {
    "collapsed": false,
    "slideshow": {
     "slide_type": "slide"
    }
   },
   "outputs": [
    {
     "data": {
      "image/png": "[encoded data removed]",
      "text/plain": [
       "<matplotlib.figure.Figure at 0x1176669e8>"
      ]
     },
     "metadata": {},
     "output_type": "display_data"
    }
   ],
   "source": [
    "# Increase the sample size to 10000\n",
    "\n",
    "means_size10000 = array(sample_means(10000, 10000))\n",
    "hist(means_size10000, bins = linspace(0,1,101));"
   ]
  },
  {
   "cell_type": "code",
   "execution_count": 26,
   "metadata": {
    "collapsed": false,
    "slideshow": {
     "slide_type": "fragment"
    }
   },
   "outputs": [
    {
     "data": {
      "text/plain": [
       "(0.49998980942283472, 0.0028850041205419649)"
      ]
     },
     "execution_count": 26,
     "metadata": {},
     "output_type": "execute_result"
    }
   ],
   "source": [
    "means_size10000.mean(), means_size10000.std()"
   ]
  },
  {
   "cell_type": "code",
   "execution_count": 29,
   "metadata": {
    "collapsed": false,
    "slideshow": {
     "slide_type": "slide"
    }
   },
   "outputs": [
    {
     "data": {
      "image/png": "[encoded data removed]",
      "text/plain": [
       "<matplotlib.figure.Figure at 0x1166f9518>"
      ]
     },
     "metadata": {},
     "output_type": "display_data"
    }
   ],
   "source": [
    "hist(means_size10000, bins = 20);"
   ]
  },
  {
   "cell_type": "markdown",
   "metadata": {
    "slideshow": {
     "slide_type": "slide"
    }
   },
   "source": [
    "## Central Limit Theorem\n",
    "\n",
    "Let $X_1, X_2, \\dots, X_n$ be i.i.d random variables with *finite* mean $\\mu$ and *finite* variance $\\sigma^2$, from **ANY** distribution. If the sample size $n$ is \"sufficiently large\", then:\n",
    "\n",
    "1. the sample mean $\\bar{X}$ follows an approximate Normal distribution  \n",
    "\n",
    "2. with mean $E(\\bar{X}) = \\mu_{\\bar{X}} = \\mu$  \n",
    "\n",
    "3. and variance $Var(\\bar{X}) = \\sigma^2_{\\bar{X}} = \\frac{\\sigma^2}{n}$ "
   ]
  },
  {
   "cell_type": "markdown",
   "metadata": {
    "slideshow": {
     "slide_type": "subslide"
    }
   },
   "source": [
    "We write:\n",
    "\n",
    "$$ \\bar{X} \\rightarrow Normal(\\mu, \\frac{\\sigma^2}{n}) \\text{ as } n \\rightarrow \\infty$$  \n",
    "\n",
    "or: \n",
    "\n",
    "$$ \\frac{\\bar{X} - \\mu}{\\sigma/ \\sqrt{n}} \\rightarrow Normal(0, 1) \\text{ as } n \\rightarrow \\infty$$ "
   ]
  },
  {
   "cell_type": "code",
   "execution_count": 30,
   "metadata": {
    "collapsed": false,
    "slideshow": {
     "slide_type": "slide"
    }
   },
   "outputs": [
    {
     "data": {
      "image/png": "[encoded data removed]",
      "text/plain": [
       "<matplotlib.figure.Figure at 0x116d14550>"
      ]
     },
     "metadata": {},
     "output_type": "display_data"
    }
   ],
   "source": [
    "n = 10000\n",
    "mean_of_means = dist.mean()\n",
    "se_of_means = dist.std()/sqrt(n)\n",
    "\n",
    "hist(means_size10000, bins = 50, normed=True)\n",
    "title('distribution of observed sample means with sample size 10000')\n",
    "\n",
    "axvline(mean_of_means, color='red')\n",
    "\n",
    "x = linspace(0.48, 0.52, 1000)\n",
    "nd = stats.norm(loc = mean_of_means, scale = se_of_means)\n",
    "plot(x, nd.pdf(x),color='green');"
   ]
  },
  {
   "cell_type": "markdown",
   "metadata": {
    "slideshow": {
     "slide_type": "slide"
    }
   },
   "source": [
    "### Assumptions\n",
    "\n",
    "* The samples need to be iid (independently and identically distributed). \n",
    "* The sample size needs to be large enough (general rule of thumb, $n >30$).  \n"
   ]
  },
  {
   "cell_type": "markdown",
   "metadata": {
    "slideshow": {
     "slide_type": "fragment"
    }
   },
   "source": [
    "### Questions\n",
    "What is large enough?\n",
    "\n",
    "What restriction is there on the distribution you are drawing from?"
   ]
  },
  {
   "cell_type": "code",
   "execution_count": 31,
   "metadata": {
    "collapsed": false,
    "slideshow": {
     "slide_type": "slide"
    }
   },
   "outputs": [],
   "source": [
    "def normalize(v):\n",
    "    norm = float(linalg.norm(v,ord=1))\n",
    "    if norm == 0:\n",
    "        return v\n",
    "    return array(v)/norm\n",
    "\n",
    "x_vals = linspace(0,100,101)\n",
    "y_vals = []\n",
    "norm = stats.norm(loc=0, scale=1)\n",
    "mid_range = linspace(-3, 3, 31)\n",
    "random.seed(42)\n",
    "rands = random.randint(5, 20, 20)\n",
    "\n",
    "for i in range(101):\n",
    "    if i < 20:\n",
    "        y_vals.append(i)\n",
    "    elif i < 40:\n",
    "        random.seed(42)\n",
    "        y_vals.append(i*rands[i-20])\n",
    "    elif i < 50:\n",
    "        y_vals.append(15)\n",
    "    elif i < 60:\n",
    "        y_vals.append(i)\n",
    "    elif i < 90:\n",
    "        y_vals.append(500 * norm.pdf(mid_range[i-59]))\n",
    "    else:\n",
    "        y_vals.append(i-50)\n",
    "\n",
    "y_vals = normalize(y_vals)\n",
    "custom = stats.rv_discrete(values=(x_vals, y_vals))"
   ]
  },
  {
   "cell_type": "code",
   "execution_count": 32,
   "metadata": {
    "collapsed": false,
    "slideshow": {
     "slide_type": "subslide"
    }
   },
   "outputs": [
    {
     "data": {
      "image/png": "[encoded data removed]",
      "text/plain": [
       "<matplotlib.figure.Figure at 0x1166b0320>"
      ]
     },
     "metadata": {},
     "output_type": "display_data"
    }
   ],
   "source": [
    "plot(x_vals, custom.pmf(x_vals));"
   ]
  },
  {
   "cell_type": "code",
   "execution_count": 33,
   "metadata": {
    "collapsed": false,
    "slideshow": {
     "slide_type": "slide"
    }
   },
   "outputs": [
    {
     "data": {
      "image/png": "[encoded data removed]",
      "text/plain": [
       "<matplotlib.figure.Figure at 0x11673f940>"
      ]
     },
     "metadata": {},
     "output_type": "display_data"
    }
   ],
   "source": [
    "figure(figsize=(8, 6)) \n",
    "\n",
    "mean_val = custom.mean()\n",
    "std_val = custom.std()\n",
    "\n",
    "n = 10\n",
    "num_samples = 10000\n",
    "\n",
    "to_plot = sample_means(num_samples = num_samples, size = n, dist=custom)\n",
    "\n",
    "hist(to_plot, bins = linspace(0,101,101),normed=True)\n",
    "title('distribution of observed sample means with sample size {}'.format(n))\n",
    "\n",
    "axvline(mean_val, color='red')\n",
    "\n",
    "normd = stats.norm(loc=mean_val, scale=std_val/sqrt(n))\n",
    "plot(x_vals, normd.pdf(x_vals), color='green');"
   ]
  },
  {
   "cell_type": "code",
   "execution_count": 34,
   "metadata": {
    "collapsed": false,
    "slideshow": {
     "slide_type": "slide"
    }
   },
   "outputs": [
    {
     "data": {
      "image/png": "[encoded data removed]",
      "text/plain": [
       "<matplotlib.figure.Figure at 0x116e3ff28>"
      ]
     },
     "metadata": {},
     "output_type": "display_data"
    }
   ],
   "source": [
    "            figure(figsize=(8, 6))\n",
    "\n",
    "n = 100\n",
    "num_samples = 10000\n",
    "\n",
    "to_plot = sample_means(num_samples = num_samples, size = n, dist=custom)\n",
    "\n",
    "hist(to_plot, bins = linspace(0,101,101), normed=True)\n",
    "title('distribution of observed sample means with sample size {}'.format(n))\n",
    "\n",
    "axvline(mean_val, color='red')\n",
    "\n",
    "normd = stats.norm(loc=mean_val, scale=std_val/sqrt(n))\n",
    "plot(x_vals, normd.pdf(x_vals), color='green');"
   ]
  },
  {
   "cell_type": "markdown",
   "metadata": {
    "slideshow": {
     "slide_type": "slide"
    }
   },
   "source": [
    "### Question\n",
    "\n",
    "An elevator has a weight limit of 1300 kilograms, a survey of people who work in the building has shown they have a mean weight of 80 kg with a standard deviation of 4 kg.\n",
    "\n",
    "What is the probability that 16 people getting on the elevator exceed the weight limit?"
   ]
  },
  {
   "cell_type": "markdown",
   "metadata": {
    "slideshow": {
     "slide_type": "subslide"
    }
   },
   "source": [
    "If we let $X$ be the weight of one person working in the building, then we know  \n",
    "\n",
    "$$\\mu = 80$$\n",
    "$$\\sigma = 4$$  "
   ]
  },
  {
   "cell_type": "markdown",
   "metadata": {
    "slideshow": {
     "slide_type": "fragment"
    }
   },
   "source": [
    "Now we have 16 people getting on the elevator, so we have $X_1, X_2, X_3, \\dots, X_{16}$ that are i.i.d. from the distribution of X  \n",
    "\n",
    "We want to find $P(X_1 + X_2 + \\dots + X_{16} > 1300)$\n",
    "\n",
    "But we don't know the exact distribution of $X$ - we only know its mean and standard deviation.."
   ]
  },
  {
   "cell_type": "markdown",
   "metadata": {
    "slideshow": {
     "slide_type": "subslide"
    }
   },
   "source": [
    "By CLT, the sample mean of the weights of 16 people is approximately Normally distributed,   \n",
    "\n",
    "$$ \\bar{X} \\dot{\\sim} N(\\mu, \\frac{\\sigma^2}{n}) $$ "
   ]
  },
  {
   "cell_type": "markdown",
   "metadata": {
    "slideshow": {
     "slide_type": "fragment"
    }
   },
   "source": [
    "What is $\\frac{\\sigma^2}{n}$?\n",
    "\n",
    "What is $\\mu$?"
   ]
  },
  {
   "cell_type": "markdown",
   "metadata": {
    "slideshow": {
     "slide_type": "fragment"
    }
   },
   "source": [
    "$$ \\bar{X} \\dot{\\sim} N(80, 1) $$ \n",
    "\n",
    "$P(X_1 + X_2 + \\dots + X_{16} > 1300)$ = $P(\\bar{X} > \\frac{1300}{16})$\n",
    "\n",
    "What is $P(\\bar{X} > 81.25)$?"
   ]
  },
  {
   "cell_type": "code",
   "execution_count": 35,
   "metadata": {
    "collapsed": false,
    "slideshow": {
     "slide_type": "fragment"
    }
   },
   "outputs": [
    {
     "data": {
      "text/plain": [
       "0.10564977366685535"
      ]
     },
     "execution_count": 35,
     "metadata": {},
     "output_type": "execute_result"
    }
   ],
   "source": [
    "1 - stats.norm(80, 1).cdf(81.25)"
   ]
  },
  {
   "cell_type": "code",
   "execution_count": 36,
   "metadata": {
    "collapsed": false,
    "slideshow": {
     "slide_type": "fragment"
    }
   },
   "outputs": [
    {
     "data": {
      "text/plain": [
       "0.10564977366685535"
      ]
     },
     "execution_count": 36,
     "metadata": {},
     "output_type": "execute_result"
    }
   ],
   "source": [
    "stats.norm(80, 1).sf(81.25)"
   ]
  }
 ],
 "metadata": {
  "anaconda-cloud": {},
  "kernelspec": {
   "display_name": "Python [Root]",
   "language": "python",
   "name": "Python [Root]"
  },
  "language_info": {
   "codemirror_mode": {
    "name": "ipython",
    "version": 3
   },
   "file_extension": ".py",
   "mimetype": "text/x-python",
   "name": "python",
   "nbconvert_exporter": "python",
   "pygments_lexer": "ipython3",
   "version": "3.5.2"
  }
 },
 "nbformat": 4,
 "nbformat_minor": 0
}
