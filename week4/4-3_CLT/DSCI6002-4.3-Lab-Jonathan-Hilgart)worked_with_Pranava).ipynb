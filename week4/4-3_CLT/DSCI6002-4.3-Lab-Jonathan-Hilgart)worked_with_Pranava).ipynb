{
 "cells": [
  {
   "cell_type": "markdown",
   "metadata": {},
   "source": [
    "# Lab 4.3: Central Limit Theorem\n",
    "\n",
    "## Outline\n",
    "\n",
    "- Central Limit Theorem Basics\n",
    "- Central Limit Theorem Simulation\n",
    "- Central Limit Theorem Application"
   ]
  },
  {
   "cell_type": "markdown",
   "metadata": {},
   "source": [
    "### Central Limit Theorem Basics\n",
    "\n",
    "**Question 1**  \n",
    "\n",
    "1) What is the Central Limit Theorem? Explain it in your own words.\n",
    "   "
   ]
  },
  {
   "cell_type": "markdown",
   "metadata": {},
   "source": [
    "1) CLT states that as you increase the number of observations in your sample (from any population distribution), the sampling distribution begins to approximate the normal distribution."
   ]
  },
  {
   "cell_type": "markdown",
   "metadata": {},
   "source": [
    "2) What are the assumptions for the Central Limit Theorem?"
   ]
  },
  {
   "cell_type": "markdown",
   "metadata": {},
   "source": [
    "2) The assumptions are that your data samples are identically and independently distributed. In addiiton, you need to have a \"sufficiently large\" sample (typically N>30).\n"
   ]
  },
  {
   "cell_type": "markdown",
   "metadata": {},
   "source": [
    "### Central Limit Theorem Simulation\n",
    "\n",
    "**Question 2**\n",
    "\n",
    "Here we will write a function to show that the Central Limit Theorem applies to different distributions. \n",
    "\n",
    "1) Write a function `make_draws` which will make a number of draws from one of the following distributions, Possion, Binomial and Uniform. The function will take 3 arguments:\n",
    "   - The name of the distribution as a string, e.g. `poisson`, `binomial` and `uniform`\n",
    "   - The parameters associated with the distribution as a dictionary, for example `{'n': 30, 'p': 0.02}` for the binomial distribution \n",
    "   - The number of observations to be drawn in a sample  \n",
    "   \n",
    "   The function should return an array of values drawn from the specified distribution with the correct sample size.\n",
    "   \n",
    "   Below is an example for the binomial distribution\n",
    "   \n",
    "   ```python\n",
    "   # import the stats module from scipy\n",
    "   from scipy import stats\n",
    "\n",
    "   def make_draws(distribution, parameters, size):\n",
    "       if distribution == 'binomial':\n",
    "           n, p = parameters['n'], parameters['p']\n",
    "           dist = stats.binom(n, p).rvs(size)\n",
    "\n",
    "       # Rest of the code\n",
    "    ```\n",
    "   "
   ]
  },
  {
   "cell_type": "code",
   "execution_count": 77,
   "metadata": {
    "collapsed": false
   },
   "outputs": [],
   "source": [
    "from scipy import stats\n",
    "\n",
    "def make_draws(distribution_name,parameters,number_of_observations):\n",
    "    \"\"\"Make three distributions of n size from binomial, uniform, and poisson\"\"\"\n",
    "    \n",
    "    if distribution_name == 'poisson':\n",
    "        \n",
    "        l = parameters['lambda']\n",
    "        \n",
    "        poiss_dist = stats.poisson(l)\n",
    "        \n",
    "        return poiss_dist.rvs(size=number_of_observations)\n",
    "        #pass\n",
    "        \n",
    "    elif distribution_name =='binomial':\n",
    "        \n",
    "        n,p=parameters['success_n'],parameters['prob_success']\n",
    "        \n",
    "        bin_dist = stats.binom(n,p)\n",
    "        \n",
    "        return bin_dist.rvs(size=number_of_observations)\n",
    "        \n",
    "        #pass\n",
    "        \n",
    "    elif distribution_name == 'uniform':\n",
    "\n",
    "        low, high = parameters['low'],parameters['high']\n",
    "        \n",
    "        uni_dist = stats.uniform(low,high)\n",
    "        return uni_dist.rvs(number_of_observations)\n",
    "    \n",
    "        #return uni_dist\n",
    "    else:\n",
    "        print(\"Your distribution is not in this function!\")\n",
    "        \n",
    "    "
   ]
  },
  {
   "cell_type": "code",
   "execution_count": 78,
   "metadata": {
    "collapsed": false
   },
   "outputs": [
    {
     "data": {
      "text/plain": [
       "array([ 4,  6,  4,  2,  5,  4,  2,  5,  4,  9,  3,  9,  6,  7,  6,  4,  3,\n",
       "        7,  6,  8, 10,  4,  2,  3,  3,  3,  9, 11, 11,  6,  3,  4,  3,  4,\n",
       "        1, 10,  3,  6,  6,  4,  8,  4,  6,  9,  4,  5,  5,  6,  7,  8,  5,\n",
       "        8,  2,  2,  7,  4,  7,  5,  5,  3,  5,  6,  7,  4,  3,  9,  4,  5,\n",
       "        8,  5,  6,  7,  8,  6,  7,  8,  9,  6,  7,  5,  7,  8,  4,  3,  5,\n",
       "        6,  5,  5,  1,  6,  6,  7,  9,  2,  4,  8,  3,  7,  3,  4])"
      ]
     },
     "execution_count": 78,
     "metadata": {},
     "output_type": "execute_result"
    }
   ],
   "source": [
    "#make_draws('uniform',{'low':1,'high':5},10)\n",
    "\n",
    "#make_draws('binomial',{'success_n':10,'prob_success':.8},100)\n",
    "\n",
    "make_draws('poisson',{'lambda':5},100)"
   ]
  },
  {
   "cell_type": "markdown",
   "metadata": {},
   "source": [
    "   \n",
    "2) Write another function `plot_means` that would take the same arguments as `make_draws` plus an additional argument `repeats`\n",
    "   - `plot_means` would repeatedly draw samples by calling `make_draws`, the number of times `make_draws` is called is speicified by `repeats`\n",
    "   - The number of observations in each sample is specified by `size`\n",
    "   - Then the mean of each sample is computed and plotted on a histogram\n",
    "   \n",
    "   Below is some starter code:\n",
    "   \n",
    "   ```python \n",
    "   def plot_means(distribution, parameters, size, repeats):\n",
    "       # call make_draws for times specified by repeats\n",
    "       # compute mean for each of the sample\n",
    "       # plot histogram\n",
    "   ```\n",
    "   "
   ]
  },
  {
   "cell_type": "code",
   "execution_count": 97,
   "metadata": {
    "collapsed": false
   },
   "outputs": [
    {
     "name": "stdout",
     "output_type": "stream",
     "text": [
      "Populating the interactive namespace from numpy and matplotlib\n"
     ]
    }
   ],
   "source": [
    "\n",
    "import seaborn as sns\n",
    "%pylab inline\n",
    "\n",
    "def plot_means(distribution, parameters, size, repeats):\n",
    "    #print(range(repeats))\n",
    "    data = [make_draws(distribution,parameters,size).mean() for _ in range(repeats)]\n",
    "    #data_means = [np.mean(item) for item in data]\n",
    "    #print(data_means)\n",
    "    sns.distplot(data,norm_hist=False)\n",
    "    #plt.hist(data, normed = True)\n",
    "    \n",
    "    plt.title('Histogram of {} distribution with {} draws per sample and {} samples'.format(distribution,size, repeats))\n",
    "    plt.ylabel('Density')\n",
    "    plt.xlabel('Sample Mean')\n",
    "    \n",
    "    #print(data_means)"
   ]
  },
  {
   "cell_type": "code",
   "execution_count": 98,
   "metadata": {
    "collapsed": false
   },
   "outputs": [
    {
     "name": "stderr",
     "output_type": "stream",
     "text": [
      "/Users/jonathanhilgart/anaconda/lib/python3.5/site-packages/statsmodels/nonparametric/kdetools.py:20: VisibleDeprecationWarning: using a non-integer number instead of an integer will result in an error in the future\n",
      "  y = X[:m/2+1] + np.r_[0,X[m/2+1:],0]*1j\n"
     ]
    },
    {
     "data": {
      "image/png": "[encoded data removed]",
      "text/plain": [
       "<matplotlib.figure.Figure at 0x11a64ea90>"
      ]
     },
     "metadata": {},
     "output_type": "display_data"
    }
   ],
   "source": [
    "plot_means('poisson',{'lambda':5},100,500)"
   ]
  },
  {
   "cell_type": "markdown",
   "metadata": {},
   "source": [
    "3) Call `plot_means` with each of the distribution (poisson, binomial, etc) with the following arguments:\n",
    "   - `size`: 500 and `repeats`: 500\n",
    "   - `size`: 10 and `repeats`: 500 \n",
    "   \n",
    "   For example, the histogram should look like the following if you call\n",
    "   ```python\n",
    "   plot_means('uniform', {'a': 1, 'b': 200}, 500, 500)\n",
    "   plot_means('uniform', {'a': 1, 'b': 200}, 10, 500)\n",
    "   ```\n",
    "   \n",
    "   ![image](images/unif_histogram.png)\n",
    "   \n",
    "   What do you observe? Under what condition does the Central Limit Theorem hold?"
   ]
  },
  {
   "cell_type": "code",
   "execution_count": 91,
   "metadata": {
    "collapsed": true
   },
   "outputs": [],
   "source": [
    "import numpy as np"
   ]
  },
  {
   "cell_type": "code",
   "execution_count": 93,
   "metadata": {
    "collapsed": false
   },
   "outputs": [
    {
     "data": {
      "text/plain": [
       "'1.11.1'"
      ]
     },
     "execution_count": 93,
     "metadata": {},
     "output_type": "execute_result"
    }
   ],
   "source": [
    "np.__version__"
   ]
  },
  {
   "cell_type": "code",
   "execution_count": 94,
   "metadata": {
    "collapsed": false
   },
   "outputs": [
    {
     "data": {
      "image/png": "[encoded data removed]",
      "text/plain": [
       "<matplotlib.figure.Figure at 0x11aec9400>"
      ]
     },
     "metadata": {},
     "output_type": "display_data"
    }
   ],
   "source": [
    "plot_means('poisson',{'lambda':5},500,500)\n",
    "plot_means('poisson',{'lambda':5},10,500)\n",
    "plt.title('Histogram of Poisson Distribution comparing 500 vs 10 for 500 samples');"
   ]
  },
  {
   "cell_type": "code",
   "execution_count": 95,
   "metadata": {
    "collapsed": false
   },
   "outputs": [
    {
     "data": {
      "image/png": "[encoded data removed]",
      "text/plain": [
       "<matplotlib.figure.Figure at 0x11aac9438>"
      ]
     },
     "metadata": {},
     "output_type": "display_data"
    }
   ],
   "source": [
    "\n",
    "plot_means('binomial',{'success_n':10,'prob_success':.8},500,500)\n",
    "plot_means('binomial',{'success_n':10,'prob_success':.8},10,500)\n",
    "plt.title('Histogram of binomial distribution with 500 vs 10 draws and 500 samples');"
   ]
  },
  {
   "cell_type": "code",
   "execution_count": 96,
   "metadata": {
    "collapsed": false
   },
   "outputs": [
    {
     "data": {
      "image/png": "[encoded data removed]",
      "text/plain": [
       "<matplotlib.figure.Figure at 0x11aa9fe80>"
      ]
     },
     "metadata": {},
     "output_type": "display_data"
    }
   ],
   "source": [
    "plot_means('uniform',{'low':1,'high':5},500,500)\n",
    "plot_means('uniform',{'low':1,'high':5},10,500)\n",
    "plt.title('Histogram of uniform distribution with 500 vs 10 draws and 500 samples');"
   ]
  },
  {
   "cell_type": "markdown",
   "metadata": {},
   "source": [
    "### Central Limit Theorem Application\n",
    "\n",
    "**Question 3**\n",
    "\n",
    "1) It is known that the amount that a person spends on a single trip to a grocery store follows a distribution with mean of \\$3.70 and standard deviation of \\$1.52.\n",
    "\n",
    "   A random sample of 50 people's spendings is collected. \n",
    "   \n",
    "   What is the probability that the mean spending of the 50 people exceeds $4?\n"
   ]
  },
  {
   "cell_type": "code",
   "execution_count": 112,
   "metadata": {
    "collapsed": false
   },
   "outputs": [
    {
     "data": {
      "text/plain": [
       "0.081416664277620843"
      ]
     },
     "execution_count": 112,
     "metadata": {},
     "output_type": "execute_result"
    }
   ],
   "source": [
    "from math import sqrt\n",
    "s_e = 1.52/sqrt(50)\n",
    "s_e\n",
    "\n",
    "norm_d = stats.norm(3.7,s_e)\n",
    "\n",
    "(1-norm_d.cdf(4))"
   ]
  },
  {
   "cell_type": "markdown",
   "metadata": {},
   "source": [
    "### About 8.1% "
   ]
  },
  {
   "cell_type": "markdown",
   "metadata": {},
   "source": [
    "2) From past experience, it is known that, at the ticket counter for the football match of Stanford against Berkeley,  the number of tickets purchased by each student follows a distribution that has mean $\\mu$ = 2.4 and standard deviation $\\sigma$ = 2.0.\n",
    "\n",
    "   Suppose that a few hours before the start of one of these matches, there are 100 eager students standing in line to purchase tickets. If only 250 tickets remain, what is the probability that all 100 students will be able to purchase the tickets they desire?"
   ]
  },
  {
   "cell_type": "code",
   "execution_count": 113,
   "metadata": {
    "collapsed": true
   },
   "outputs": [],
   "source": [
    "stand_error = 2/sqrt(100)"
   ]
  },
  {
   "cell_type": "code",
   "execution_count": 117,
   "metadata": {
    "collapsed": true
   },
   "outputs": [],
   "source": [
    "normal_d = stats.norm(2.4,stand_error)\n"
   ]
  },
  {
   "cell_type": "code",
   "execution_count": 118,
   "metadata": {
    "collapsed": false
   },
   "outputs": [
    {
     "data": {
      "text/plain": [
       "0.69146246127401323"
      ]
     },
     "execution_count": 118,
     "metadata": {},
     "output_type": "execute_result"
    }
   ],
   "source": [
    "normal_d.cdf(2.5)"
   ]
  },
  {
   "cell_type": "code",
   "execution_count": 120,
   "metadata": {
    "collapsed": false
   },
   "outputs": [
    {
     "data": {
      "text/plain": [
       "0.30853753872598677"
      ]
     },
     "execution_count": 120,
     "metadata": {},
     "output_type": "execute_result"
    }
   ],
   "source": [
    "mean = 2.4\n",
    "std = 2.0\n",
    "n = 100\n",
    "1-stats.norm(mean,std/math.sqrt(n)).cdf(250/n)"
   ]
  },
  {
   "cell_type": "markdown",
   "metadata": {},
   "source": [
    "### Extra Practice  \n",
    "(Optional)\n",
    "\n",
    "1) Create your own distribution. It can be any distribution as long as it is a valid probability distribution. Refer to the `custom` distribution we created in the lecture."
   ]
  },
  {
   "cell_type": "code",
   "execution_count": 121,
   "metadata": {
    "collapsed": false
   },
   "outputs": [
    {
     "data": {
      "image/png": "[encoded data removed]",
      "text/plain": [
       "<matplotlib.figure.Figure at 0x11ad10898>"
      ]
     },
     "metadata": {},
     "output_type": "display_data"
    }
   ],
   "source": [
    "def normalize(v):\n",
    "    norm = float(linalg.norm(v,ord=1))\n",
    "    if norm == 0:\n",
    "        return v\n",
    "    return array(v)/norm\n",
    "\n",
    "x_vals = linspace(0,100,101)\n",
    "y_vals = []\n",
    "norm = stats.norm(loc=0, scale=1)\n",
    "mid_range = linspace(-3, 3, 31)\n",
    "random.seed(42)\n",
    "rands = random.randint(5, 20, 20)\n",
    "\n",
    "for i in range(101):\n",
    "    if i < 20:\n",
    "        y_vals.append(i)\n",
    "    elif i < 40:\n",
    "        random.seed(42)\n",
    "        y_vals.append(i*rands[i-20])\n",
    "    elif i < 50:\n",
    "        y_vals.append(15)\n",
    "    elif i < 60:\n",
    "        y_vals.append(i)\n",
    "    elif i < 90:\n",
    "        y_vals.append(500 * norm.pdf(mid_range[i-59]))\n",
    "    else:\n",
    "        y_vals.append(i-50)\n",
    "\n",
    "y_vals = normalize(y_vals)\n",
    "custom = stats.rv_discrete(values=(x_vals, y_vals))\n",
    "plot(x_vals, custom.pmf(x_vals));"
   ]
  },
  {
   "cell_type": "markdown",
   "metadata": {},
   "source": [
    "2) Draw 10000 samples from the distribution above with the following sample sizes. Calculate and plot the sample means for each sample size. What do you notice from the 3 plots?\n",
    "\n",
    "    * n = 10\n",
    "    * n = 100\n",
    "    * n = 1000"
   ]
  },
  {
   "cell_type": "markdown",
   "metadata": {},
   "source": [
    "3) Fit a Normal distribution to the 3 sets of samples means from part 2). Then plot the Normal distribution on top of the histogram of the means.  "
   ]
  },
  {
   "cell_type": "markdown",
   "metadata": {},
   "source": [
    "4) Estimate the Standard Error of the Mean (SEM calculation in the lecture) for each of the 3 sample means. What do you notice? How does the SEM change as the sample size changes?"
   ]
  }
 ],
 "metadata": {
  "anaconda-cloud": {},
  "kernelspec": {
   "display_name": "Python [Root]",
   "language": "python",
   "name": "Python [Root]"
  },
  "language_info": {
   "codemirror_mode": {
    "name": "ipython",
    "version": 3
   },
   "file_extension": ".py",
   "mimetype": "text/x-python",
   "name": "python",
   "nbconvert_exporter": "python",
   "pygments_lexer": "ipython3",
   "version": "3.5.2"
  }
 },
 "nbformat": 4,
 "nbformat_minor": 0
}
