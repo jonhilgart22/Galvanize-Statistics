{
 "cells": [
  {
   "cell_type": "markdown",
   "metadata": {
    "slideshow": {
     "slide_type": "slide"
    }
   },
   "source": [
    "# Introduction to Probability"
   ]
  },
  {
   "cell_type": "markdown",
   "metadata": {
    "slideshow": {
     "slide_type": "slide"
    }
   },
   "source": [
    "## Outline\n",
    "\n",
    "* History of probability\n",
    "* What is a probability?\n",
    "* Sample space and events\n",
    "* Probability axioms\n",
    "* Probabilities of combined events: union, intersection and complement\n",
    "* Law of total probability\n",
    "* Counting methods"
   ]
  },
  {
   "cell_type": "markdown",
   "metadata": {
    "slideshow": {
     "slide_type": "slide"
    }
   },
   "source": [
    "## History of Probability\n",
    "\n",
    "### Chevalier de Méré (~1654)\n",
    "\n",
    "** What's likelier **: \n",
    "\n",
    "* rolling at least **one six** in **4 throws** of *a single die*\n",
    "* rolling at least **one double six** in **24 throws** of a *pair of dice*"
   ]
  },
  {
   "cell_type": "markdown",
   "metadata": {
    "slideshow": {
     "slide_type": "slide"
    }
   },
   "source": [
    "Chevalier de Méré's reasoning:\n",
    "\n",
    "* chance of one six $= \\frac{1}{6}$\n",
    "* average number in four rolls $= 4 \\times \\left(\\frac{1}{6}\\right) = \\frac{2}{3}$\n",
    "* chance of double six in one roll $= \\frac{1}{36}$\n",
    "* average number in 24 rolls $= 24 \\times \\left(\\frac{1}{36}\\right) = \\frac{2}{3}$"
   ]
  },
  {
   "cell_type": "markdown",
   "metadata": {
    "slideshow": {
     "slide_type": "slide"
    }
   },
   "source": [
    "### Let's run a simulation:"
   ]
  },
  {
   "cell_type": "code",
   "execution_count": 1,
   "metadata": {
    "collapsed": false,
    "slideshow": {
     "slide_type": "skip"
    }
   },
   "outputs": [
    {
     "name": "stdout",
     "output_type": "stream",
     "text": [
      "Populating the interactive namespace from numpy and matplotlib\n"
     ]
    }
   ],
   "source": [
    "%pylab inline"
   ]
  },
  {
   "cell_type": "code",
   "execution_count": 2,
   "metadata": {
    "collapsed": false,
    "slideshow": {
     "slide_type": "skip"
    }
   },
   "outputs": [
    {
     "name": "stdout",
     "output_type": "stream",
     "text": [
      "Help on built-in function randint:\n",
      "\n",
      "randint(...) method of mtrand.RandomState instance\n",
      "    randint(low, high=None, size=None, dtype='l')\n",
      "    \n",
      "    Return random integers from `low` (inclusive) to `high` (exclusive).\n",
      "    \n",
      "    Return random integers from the \"discrete uniform\" distribution of\n",
      "    the specified dtype in the \"half-open\" interval [`low`, `high`). If\n",
      "    `high` is None (the default), then results are from [0, `low`).\n",
      "    \n",
      "    Parameters\n",
      "    ----------\n",
      "    low : int\n",
      "        Lowest (signed) integer to be drawn from the distribution (unless\n",
      "        ``high=None``, in which case this parameter is the *highest* such\n",
      "        integer).\n",
      "    high : int, optional\n",
      "        If provided, one above the largest (signed) integer to be drawn\n",
      "        from the distribution (see above for behavior if ``high=None``).\n",
      "    size : int or tuple of ints, optional\n",
      "        Output shape.  If the given shape is, e.g., ``(m, n, k)``, then\n",
      "        ``m * n * k`` samples are drawn.  Default is None, in which case a\n",
      "        single value is returned.\n",
      "    dtype : dtype, optional\n",
      "        Desired dtype of the result. All dtypes are determined by their\n",
      "        name, i.e., 'int64', 'int', etc, so byteorder is not available\n",
      "        and a specific precision may have different C types depending\n",
      "        on the platform. The default value is 'np.int'.\n",
      "    \n",
      "        .. versionadded:: 1.11.0\n",
      "    \n",
      "    Returns\n",
      "    -------\n",
      "    out : int or ndarray of ints\n",
      "        `size`-shaped array of random integers from the appropriate\n",
      "        distribution, or a single such random int if `size` not provided.\n",
      "    \n",
      "    See Also\n",
      "    --------\n",
      "    random.random_integers : similar to `randint`, only for the closed\n",
      "        interval [`low`, `high`], and 1 is the lowest value if `high` is\n",
      "        omitted. In particular, this other one is the one to use to generate\n",
      "        uniformly distributed discrete non-integers.\n",
      "    \n",
      "    Examples\n",
      "    --------\n",
      "    >>> np.random.randint(2, size=10)\n",
      "    array([1, 0, 0, 0, 1, 1, 0, 0, 1, 0])\n",
      "    >>> np.random.randint(1, size=10)\n",
      "    array([0, 0, 0, 0, 0, 0, 0, 0, 0, 0])\n",
      "    \n",
      "    Generate a 2 x 4 array of ints between 0 and 4, inclusive:\n",
      "    \n",
      "    >>> np.random.randint(5, size=(2, 4))\n",
      "    array([[4, 0, 2, 1],\n",
      "           [3, 2, 2, 0]])\n",
      "\n",
      "None\n"
     ]
    }
   ],
   "source": [
    "print(help(randint))"
   ]
  },
  {
   "cell_type": "markdown",
   "metadata": {
    "slideshow": {
     "slide_type": "slide"
    }
   },
   "source": [
    "Let's simulate 4 rolls of the dice:"
   ]
  },
  {
   "cell_type": "code",
   "execution_count": 5,
   "metadata": {
    "collapsed": false,
    "slideshow": {
     "slide_type": "fragment"
    }
   },
   "outputs": [
    {
     "data": {
      "text/plain": [
       "True"
      ]
     },
     "execution_count": 5,
     "metadata": {},
     "output_type": "execute_result"
    }
   ],
   "source": [
    "6 in randint(1, 6 + 1, 4)  # [low, high) *not* inclusive"
   ]
  },
  {
   "cell_type": "markdown",
   "metadata": {
    "slideshow": {
     "slide_type": "fragment"
    }
   },
   "source": [
    "Now let's do this 2000 times:"
   ]
  },
  {
   "cell_type": "code",
   "execution_count": 7,
   "metadata": {
    "collapsed": false,
    "slideshow": {
     "slide_type": "slide"
    }
   },
   "outputs": [
    {
     "data": {
      "text/plain": [
       "0.53100000000000003"
      ]
     },
     "execution_count": 7,
     "metadata": {},
     "output_type": "execute_result"
    },
    {
     "data": {
      "image/png": "[encoded data removed]",
      "text/plain": [
       "<matplotlib.figure.Figure at 0x10a638400>"
      ]
     },
     "metadata": {},
     "output_type": "display_data"
    }
   ],
   "source": [
    "one6in4 = [6 in randint(1, 6 + 1, 4) for _ in range(2000)]\n",
    "plot(cumsum(one6in4)/(list(range(1, 2001))))\n",
    "ylim(0, 1)\n",
    "mean(one6in4)"
   ]
  },
  {
   "cell_type": "markdown",
   "metadata": {
    "slideshow": {
     "slide_type": "slide"
    }
   },
   "source": [
    "Somewhat less than $^2/_3$ but still good if one is betting even odds.\n",
    "\n",
    "\n",
    "What about two dice?"
   ]
  },
  {
   "cell_type": "markdown",
   "metadata": {
    "slideshow": {
     "slide_type": "fragment"
    }
   },
   "source": [
    "Can we get a double six on 24 rolls of a pair of dice?"
   ]
  },
  {
   "cell_type": "code",
   "execution_count": 10,
   "metadata": {
    "collapsed": false,
    "slideshow": {
     "slide_type": "fragment"
    }
   },
   "outputs": [
    {
     "data": {
      "text/plain": [
       "True"
      ]
     },
     "execution_count": 10,
     "metadata": {},
     "output_type": "execute_result"
    }
   ],
   "source": [
    "12 in [sum(randint(1, 6 + 1, 2)) for _ in range(24)]"
   ]
  },
  {
   "cell_type": "markdown",
   "metadata": {
    "slideshow": {
     "slide_type": "slide"
    }
   },
   "source": [
    "Now let's simulate 2000 trials:"
   ]
  },
  {
   "cell_type": "code",
   "execution_count": 12,
   "metadata": {
    "collapsed": false,
    "slideshow": {
     "slide_type": "fragment"
    }
   },
   "outputs": [
    {
     "data": {
      "text/plain": [
       "0.4985"
      ]
     },
     "execution_count": 12,
     "metadata": {},
     "output_type": "execute_result"
    },
    {
     "data": {
      "image/png": "[encoded data removed]",
      "text/plain": [
       "<matplotlib.figure.Figure at 0x10ca2d160>"
      ]
     },
     "metadata": {},
     "output_type": "display_data"
    }
   ],
   "source": [
    "one12in24 = [12 in [sum(randint(1, 6 + 1, 2)) for _ in range(24)] for _ in range(2000)]\n",
    "plot(cumsum(one12in24)/(list(range(1, 2001))))\n",
    "ylim(0, 1)\n",
    "mean(one12in24)"
   ]
  },
  {
   "cell_type": "markdown",
   "metadata": {
    "slideshow": {
     "slide_type": "slide"
    }
   },
   "source": [
    "Not so good for de Méré\n",
    "\n",
    "\n",
    "Why did he *lose more often* with the second gamble?\n",
    "\n",
    "\n",
    "De Méré asked his friend, Blaise Pascal what was going on.\n",
    "\n",
    "\n",
    "Pascal consulted with Pierre de Fermat and the Theory of Probability was born."
   ]
  },
  {
   "cell_type": "markdown",
   "metadata": {
    "slideshow": {
     "slide_type": "slide"
    }
   },
   "source": [
    "## Probability\n",
    "\n",
    "A probability is a number between 0 and 1 representing how likely it is that an event will occur."
   ]
  },
  {
   "cell_type": "markdown",
   "metadata": {
    "slideshow": {
     "slide_type": "subslide"
    }
   },
   "source": [
    "Probabilities can be:\n",
    "\n",
    "1. Frequentist (based on frequencies):\n",
    "$\\frac{number \\ of \\ times \\ event \\ occurs}{number \\ of \\ opportunities \\ for \\ event \\ to \\ occur}$  \n",
    "\n",
    "2. Subjective: represents a person's degree of belief that an event will occur\n",
    "\n",
    "    e.g. I think there is an 80% chance it will be sunny today, written as P(sunny) = 0.80\n",
    "    \n",
    "\n",
    "The rules for manipulating probabilities are the same, regardless how we interpret probabilities."
   ]
  },
  {
   "cell_type": "markdown",
   "metadata": {
    "slideshow": {
     "slide_type": "slide"
    }
   },
   "source": [
    "## Sample Space\n",
    "\n",
    "Some definitions:\n",
    "\n",
    "* ** Random experiment **: An experiment whose outcome is not known until it is observed\n",
    "\n",
    "\n",
    "* ** Sample space **, $\\Omega$: A set of outcomes of a random experiment  \n",
    "    Every possbile outcome must be listed ** once and only once ** \n",
    "    \n",
    "    \n",
    "* ** Sample point **: An element of the sample space  \n",
    "    e.g. if $\\Omega = \\{s_1, \\ s_2, \\ s_3, \\ s_4, \\ s_5\\}$, then every $s_i$ is a sample point"
   ]
  },
  {
   "cell_type": "markdown",
   "metadata": {
    "slideshow": {
     "slide_type": "slide"
    }
   },
   "source": [
    "### Examples\n",
    "\n",
    "* Experiment: Toss a coin twice and observe the result  \n",
    "    Sample space: $\\Omega = \\{HH, \\ HT, \\ TH, \\ TT\\}$  \n",
    "    An example of a sample point is: $HT$\n",
    "\n",
    "\n",
    "* Experiment: Toss a coin twice and count the number of heads  \n",
    "    Sample space: $\\Omega = \\{0, \\ 1, \\ 2\\}$  \n",
    "    An example of a sample point is: $2$\n",
    "\n",
    "\n",
    "* Experiment: Toss a coin twice and observe whether the two tosses are the same (e.g. HH or TT)  \n",
    "    Sample space: $\\Omega = \\{same, \\ different\\}$  \n",
    "    An example of a sample point is: $same$"
   ]
  },
  {
   "cell_type": "markdown",
   "metadata": {
    "slideshow": {
     "slide_type": "slide"
    }
   },
   "source": [
    "### Discrete and Continuous Sample Spaces\n",
    "\n",
    "* A sample space is ** finite ** if it has a finite number of elements; otherwise, it is ** infinite **\n",
    "\n",
    "\n",
    "* A sample space is ** discrete ** if the elements in it can be listed, e.g. $1, \\ 2, \\ 3, \\dots$  \n",
    "    In mathematical language, a sample space is discrete if it is ** countable **\n",
    "    \n",
    "    \n",
    "* A sample space is ** continuous ** if there are no gaps between the elements, so the elements cannot be listed, e.g. the interval $[0, \\ 1]$"
   ]
  },
  {
   "cell_type": "markdown",
   "metadata": {
    "slideshow": {
     "slide_type": "slide"
    }
   },
   "source": [
    "### Examples\n",
    "\n",
    "$\\Omega = \\{HH, \\ HT, \\ TH, \\ TT\\}$ (discrete, finite)\n",
    "\n",
    "$\\Omega = \\{0, \\ 1, \\ 2, \\ \\dots\\}$ (discrete, infinite)\n",
    "\n",
    "$\\Omega = [0, \\ 1]$ (continuous, infinite)\n",
    "\n",
    "$\\Omega = \\{ [0, 90), [90, 360) \\}$ (discrete, finite)"
   ]
  },
  {
   "cell_type": "markdown",
   "metadata": {
    "slideshow": {
     "slide_type": "slide"
    }
   },
   "source": [
    "## Events\n",
    "\n",
    "An ** event ** is a subset of the sample space. That is, any collection of outcomes forms an event.\n",
    "\n",
    "### Example: \n",
    "\n",
    "Toss a coin twice. Sample space: $\\Omega = \\{HH, \\ HT, \\ TH, \\ TT\\}$  \n",
    "\n",
    "Let event $A$ be the event that there is ** exactly one head **  \n",
    "\n",
    "We write: $A =“exactly \\ one \\ head”$  \n",
    "\n",
    "Then $A = \\{HT, \\ TH \\}$\n",
    "\n",
    "$A$ is a subset of $\\Omega$, and we write $A \\subset \\Omega$"
   ]
  },
  {
   "cell_type": "markdown",
   "metadata": {
    "collapsed": true,
    "slideshow": {
     "slide_type": "slide"
    }
   },
   "source": [
    "Event $A$ ** occurs ** if we observe an outcome that is a member of the set $A$.\n",
    "\n",
    "** Note **: \n",
    "* $\\Omega$ is a subset of itself, so $\\Omega$ is an event.\n",
    "* The empty set, $\\emptyset = \\{\\}$, is also a subset of $\\Omega$. This is call the ** null event **, or the event with no outcomes.\n"
   ]
  },
  {
   "cell_type": "markdown",
   "metadata": {
    "slideshow": {
     "slide_type": "slide"
    }
   },
   "source": [
    "### Example:\n",
    "\n",
    "Experiment: throw 2 dice  \n",
    "\n",
    "Sample space: $\\Omega = \\{(1, 1), (1, 2), \\dots, (1, 6), (2, 1), (2, 2), \\dots, (2, 6), \\dots, (6, 6)\\}$\n",
    "\n",
    "\n",
    "Event $A = “sum \\ of \\ two \\ faces \\ is \\ 5” = \\{(1, 4), (2, 3), (3, 2), (4, 1)\\}$"
   ]
  },
  {
   "cell_type": "markdown",
   "metadata": {
    "slideshow": {
     "slide_type": "slide"
    }
   },
   "source": [
    "## Combining Events\n",
    "\n",
    "Formulating random events in terms of sets gives us the power of set theory to describe all possible ways of combining or manipulating events. For example, we need to describe things like coincidences (events happening together), alternatives, opposites, and so on. We do this in the language of set theory.\n",
    "\n",
    "* The ** union ** of two events $A$ and $B$, denoted $A \\cup B$, is the set of outcomes that belong either to $A$, to $B$, or to both. In words,  $A \\cup B$ means \"A and/or B.\" \n",
    "* The ** intersection ** of two events $A$ and $B$, denoted $A \\cap B$, is the set of outcomes that belong both to $A$ and to $B$. In words, $A \\cap B$ means “A and B.”\n",
    "* The ** complement ** of an event $A$, denoted $A^c$, is the set of outcomes that do not belong to $A$. In words, $A^c$ means \"not A.\"\n"
   ]
  },
  {
   "cell_type": "markdown",
   "metadata": {
    "slideshow": {
     "slide_type": "slide"
    }
   },
   "source": [
    "### Venn Diagram\n",
    "\n",
    "![Venn](images/venn.png)\n",
    "\n",
    "This sort of diagram representing events in a sample space is called a Venn\n",
    "diagram.\n",
    "\n",
    "a) $A \\cup B\\quad(e.g. 6$ on either $die_1$ or $die_2$ (or both)$)$  \n",
    "b) $A \\cap B\\quad(e.g. 6$ on **both** $die_1$ and $die_2)$  \n",
    "c) $B \\cap A^c\\quad(e.g. 6$ on $die_2$ **but not** on $die_1)$\n",
    "\n"
   ]
  },
  {
   "cell_type": "markdown",
   "metadata": {
    "slideshow": {
     "slide_type": "subslide"
    }
   },
   "source": [
    "** Limitations of Venn Diagrams **\n",
    "\n",
    "\n",
    "Venn diagrams are generally useful for up to 3 events, although they are not used to provide formal proofs. For more than 3 events, the diagram might not be able to represent all possible overlaps of events."
   ]
  },
  {
   "cell_type": "markdown",
   "metadata": {
    "slideshow": {
     "slide_type": "slide"
    }
   },
   "source": [
    "### Properties of union, intersection, and complement\n",
    "\n",
    "\n",
    "1. $\\emptyset^c = \\Omega$ and $\\Omega^c = \\emptyset$\n",
    "\n",
    "2. For any event $A$, $A \\cup A^c = \\Omega$ and $A \\cap A^c = \\emptyset$\n",
    "\n",
    "3. For any events $A$ and $B$,  \n",
    "\n",
    "$$A \\cup B = B \\cup A$$  \n",
    "$$A \\cap B = B \\cap A$$\n",
    "\n",
    "and \n",
    "\n",
    "$$(A \\cup B)^c = A^c \\cap B^c$$  \n",
    "$$(A \\cap B)^c = A^c \\cup B^c$$"
   ]
  },
  {
   "cell_type": "markdown",
   "metadata": {
    "slideshow": {
     "slide_type": "slide"
    }
   },
   "source": [
    "### Distributive Laws\n",
    "\n",
    "\n",
    "For any sets $A$, $B$ and $C$:\n",
    "\n",
    "$ A \\cup (B \\cap C) = (A \\cup B) \\cap (A \\cup C)$\n",
    "\n",
    "\n",
    "$ A \\cap (B \\cup C) = (A \\cap B) \\cup (A \\cap C)$"
   ]
  },
  {
   "cell_type": "markdown",
   "metadata": {
    "slideshow": {
     "slide_type": "slide"
    }
   },
   "source": [
    "## Mutually Exclusive Events\n",
    "\n",
    "Two events $A$ and $B$ are **mutually exclusive**, or **disjoint**, if $A \\cap B = \\emptyset$.\n",
    "\n",
    "\n",
    "Any number of events $A_1, A_2, \\dots, A_k$ are mutually exclusive if every pair of the events is mutually exclusive: i.e. $A_i \\cap A_j = \\emptyset$ for all $i, j$ with $i \\neq j$.\n",
    "\n",
    "\n",
    "A **partition** of the sample space $\\Omega$ is a collection of mutually exclusive events whose union is $\\Omega$.  \n",
    "That is, sets $A_1, A_2, \\dots, A_k$ form a partition of $\\Omega$ if  \n",
    "\n",
    "\n",
    "$$A_i \\cap A_j = \\emptyset \\text{ for all } i, j \\text{ with } i \\neq j$$\n",
    "\n",
    "and  \n",
    "\n",
    "\n",
    "$$A_1 \\cup A_2 \\cup \\dots \\cup A_k = \\Omega$$"
   ]
  },
  {
   "cell_type": "markdown",
   "metadata": {
    "slideshow": {
     "slide_type": "slide"
    }
   },
   "source": [
    "## Axioms of Probability\n",
    "- For any event A: $P(A) \\geq 0$\n",
    "- The probability of the entire sample space: $P(\\Omega) = 1$\n",
    "- For any countable collection $A_1, A_2,...$ of _mutually exclusive_ events:  \n",
    "\n",
    "$$P(A_1\\cup A_2 \\cup \\dots) = P(A_1) + P(A_2) + \\dots$$"
   ]
  },
  {
   "cell_type": "markdown",
   "metadata": {
    "slideshow": {
     "slide_type": "slide"
    }
   },
   "source": [
    "## Theorems of Probability\n",
    "- The probability of the empty set: $P(\\emptyset) = 0$\n",
    "- The probability of event the \"not A\": $P(A^c) = 1 - P(A)$\n",
    "- For any A and B (not necessarily disjoint):   \n",
    "\n",
    "$$P(A \\cup B) = P(A) + P(B) - P(A \\cap B)$$"
   ]
  },
  {
   "cell_type": "markdown",
   "metadata": {
    "slideshow": {
     "slide_type": "fragment"
    }
   },
   "source": [
    "### Note:  \n",
    "\n",
    "If $A$ and $B$ are mutually exclusive,  \n",
    "$$P(A \\cap B) = P(\\emptyset) = 0$$\n",
    "also,\n",
    "$$P(A \\cup B) = P(A) + P(B)$$"
   ]
  },
  {
   "cell_type": "markdown",
   "metadata": {
    "slideshow": {
     "slide_type": "slide"
    }
   },
   "source": [
    "## Independent Events\n",
    "\n",
    "Events A and B are ** _independent_ ** if and only if:  \n",
    "\n",
    "$$P(A \\cap B) = P(A)P(B)$$\n",
    "\n",
    "### Question:\n",
    "\n",
    "What are the probablities of the two events? \n",
    "\n",
    "* rolling at least **one six** in **4 throws** of *a single die*\n",
    "* rolling at least **one double six** in **24 throws** of a *pair of dice*"
   ]
  },
  {
   "cell_type": "markdown",
   "metadata": {
    "slideshow": {
     "slide_type": "slide"
    }
   },
   "source": [
    "## Law of Total Probability\n",
    "\n",
    "If $B_1, B_2, \\dots, B_k$ form a partition of $\\Omega$, then $(A \\cap B_1), (A \\cap B_2), \\dots, (A \\cap B_k)$ form a partition of the set or event A.\n",
    "\n",
    "![](images/law_total_prob.png)\n",
    "\n",
    "The probability of event A is therefore the sum of its parts: \n",
    "\n",
    "$$P(A) = P(A \\cap B_1) + P(A \\cap B_2) + P(A \\cap B_3) + P(A \\cap B_4)$$"
   ]
  },
  {
   "cell_type": "markdown",
   "metadata": {
    "slideshow": {
     "slide_type": "slide"
    }
   },
   "source": [
    "## Counting\n",
    "If experiment $A$ has $n$ possible outcomes, and experiment $B$ has $k$ possible outcomes, then there are $nk$ possible outcomes when you perform both experiments.\n",
    "\n",
    "#### Example: \n",
    "Let $A$ be the experiment \"Flip a coin.\" Let $B$ be \"Roll a die.\" Then $A$ has two outcomes, $H$ and $T$, and $B$ has six outcomes, $1,...,6$. The joint experiment, called \"Flip a coin and roll a die\" has how many outcomes?"
   ]
  },
  {
   "cell_type": "markdown",
   "metadata": {
    "slideshow": {
     "slide_type": "slide"
    }
   },
   "source": [
    "### Theorem\n",
    "Given $n$ distinguishable objects, there are $n^k$ ways to choose a sample of $k$ objects **_with replacement_**.\n",
    "\n",
    "#### Example:\n",
    "How many ways are there to sample 5 students out of 20 with replacement?"
   ]
  },
  {
   "cell_type": "markdown",
   "metadata": {
    "slideshow": {
     "slide_type": "slide"
    }
   },
   "source": [
    "### Permutation\n",
    "* The number of $k$-permutations of $n$ distinguishable objects is $$^nP_k=n(n-1)(n-2)\\dots(n-k+1) = \\frac{n!}{(n-k)!}$$\n",
    "\n",
    "* The number of ways to select $k$ objects from $n$ distinct objects when different orderings constitute different choices\n",
    "\n",
    "#### Example\n",
    "\n",
    "I have five vases, and I want to put two of them on the table, how many different ways are there to arrange the vases?"
   ]
  },
  {
   "cell_type": "markdown",
   "metadata": {
    "slideshow": {
     "slide_type": "slide"
    }
   },
   "source": [
    "### Combination\n",
    "\n",
    "If order doesn't matter...\n",
    "\n",
    "- The number of ways to choose $k$ objects out of $n$ distinguishable objects is $$ ^nC_k = \\binom{n}{k} = \\frac{^nP_k}{k!}=\\frac{n!}{k!(n-k)!}$$"
   ]
  },
  {
   "cell_type": "markdown",
   "metadata": {
    "slideshow": {
     "slide_type": "slide"
    }
   },
   "source": [
    "#### Example\n",
    "\n",
    "Q. How many ways are there to get 4 of a kind in a 5 card draw?  "
   ]
  },
  {
   "cell_type": "markdown",
   "metadata": {
    "slideshow": {
     "slide_type": "fragment"
    }
   },
   "source": [
    "A. Break it down:\n",
    "1. Q. How many ways are there to get 4 of a kind?  \n",
    "   A. $\\binom{13}{1}$\n",
    "2. Q. How many ways can you fill the last card?  \n",
    "   A. $\\binom{52-4}{1}$\n",
    "3. Total: $$\\binom{13}{1} \\binom{48}{1} = 13 \\times 48 = 624$$"
   ]
  },
  {
   "cell_type": "markdown",
   "metadata": {
    "slideshow": {
     "slide_type": "slide"
    }
   },
   "source": [
    "#### Example\n",
    "\n",
    "Q. How many ways are there to get a full house in a 5 card draw?  "
   ]
  },
  {
   "cell_type": "markdown",
   "metadata": {
    "slideshow": {
     "slide_type": "fragment"
    }
   },
   "source": [
    "A. The matching triple can be any of 13 the denominations and the pair can be any of the remaining 12 denominations.\n",
    "1. Q. How many ways are there to select the suits of the matching triple?  \n",
    "   A. $13\\binom{4}{3}$\n",
    "1. Q. How many ways are there to select the suits of the matching pair?  \n",
    "   A. $12\\binom{4}{2}$\n",
    "3. Total: $$13\\binom{4}{3} \\times 12\\binom{4}{2} = 13 \\times 4 \\times 12 \\times 6 = 3,744$$"
   ]
  }
 ],
 "metadata": {
  "anaconda-cloud": {},
  "celltoolbar": "Slideshow",
  "kernelspec": {
   "display_name": "Python [Root]",
   "language": "python",
   "name": "Python [Root]"
  },
  "language_info": {
   "codemirror_mode": {
    "name": "ipython",
    "version": 3
   },
   "file_extension": ".py",
   "mimetype": "text/x-python",
   "name": "python",
   "nbconvert_exporter": "python",
   "pygments_lexer": "ipython3",
   "version": "3.5.2"
  }
 },
 "nbformat": 4,
 "nbformat_minor": 0
}
