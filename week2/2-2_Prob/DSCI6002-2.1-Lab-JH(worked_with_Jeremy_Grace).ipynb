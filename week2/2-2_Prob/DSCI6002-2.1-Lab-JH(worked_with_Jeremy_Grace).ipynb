{
 "cells": [
  {
   "cell_type": "markdown",
   "metadata": {},
   "source": [
    "# Lab 2.1: Probability and Counting"
   ]
  },
  {
   "cell_type": "markdown",
   "metadata": {},
   "source": [
    "Exercises:\n",
    "----------"
   ]
  },
  {
   "cell_type": "markdown",
   "metadata": {},
   "source": [
    "1) A student's test score $T$ is an integer between 0 and 100 corresponding to the experimental outcomes $s_0,...,s_{100}$. A score of 90 to 100 is an $A$, 80 to 89 is a $B$, 70 to 79 is a $C$, 60 to 69 is a $D$, and below 60 is a failing grade of $F$. Given that all scores between 51 and 100 are equally likely and a score of 50 or less cannot occur, please find the following probabilities:   - (by hand)\n",
    "\n",
    "a) $P(s_{79})$  \n",
    "\n",
    "b) $P(s_{100})$  \n",
    "\n",
    "c) $P(A)$  \n",
    "\n",
    "d) $P(F)$  \n",
    "\n",
    "e) $P(T\\geq80)$  \n",
    "\n",
    "f) $P(T<90)$  \n",
    "\n",
    "g) $P$(a $C$ grade or better)  \n",
    "\n",
    "h) $P$(student passes)  \n",
    "    "
   ]
  },
  {
   "cell_type": "code",
   "execution_count": 122,
   "metadata": {
    "collapsed": false
   },
   "outputs": [
    {
     "data": {
      "text/plain": [
       "0.04938271604938271"
      ]
     },
     "execution_count": 122,
     "metadata": {},
     "output_type": "execute_result"
    }
   ],
   "source": [
    " 1/36 + 1/108 + 1/108 + 1/324"
   ]
  },
  {
   "cell_type": "markdown",
   "metadata": {},
   "source": [
    "# Question One\n",
    "Total possible events in the space = 49\n",
    "\n",
    "a) P(S=79) = the score of 79 - which is one event / all possible outcomes = 1/49\n",
    "\n",
    "b) P(S=100) = the score of 100 (one event) / all possible outcomes = 1/49\n",
    "\n",
    "c) P(A) = P(S>=90 and S<=100) = 10 / 49 \n",
    "\n",
    "d) P(F) = P(S<60) = 9 / 49\n",
    "\n",
    "e) P(T>=80) = the set of possible outcomes >= 80 / total possible outcomes = 20/49 \n",
    "\n",
    "f) P(T<90) = ( outcomes < 90 - (outcomes 51- 89) ) / total outcomes  = 38/49 \n",
    "\n",
    "g) P( C grade or better) = ( outcome 70 to 100 ) / total outcomes = 30 / 49\n",
    "\n",
    "h) P(student passes) = (outcomes from 60 to 100) / total outcomes = 40/49 "
   ]
  },
  {
   "cell_type": "markdown",
   "metadata": {},
   "source": [
    "2) Use either `randint` or `random_sample` to generate a series of random grades for forty (40) students according to the above distribution. Put these in a DataFrame along with `student_id`s (hint: use `range` to generate your `id`s) and then `groupby` to count how many of each grade there are. The result should look something like:\n",
    "<table border=\"1\" class=\"dataframe\">\n",
    "  <thead>\n",
    "    <tr style=\"text-align: right;\">\n",
    "      <th></th>\n",
    "      <th>student_id</th>\n",
    "    </tr>\n",
    "    <tr>\n",
    "      <th>grade</th>\n",
    "      <th></th>\n",
    "    </tr>\n",
    "  </thead>\n",
    "  <tbody>\n",
    "    <tr>\n",
    "      <th>A</th>\n",
    "      <td>3</td>\n",
    "    </tr>\n",
    "    <tr>\n",
    "      <th>B</th>\n",
    "      <td>6</td>\n",
    "    </tr>\n",
    "    <tr>\n",
    "      <th>C</th>\n",
    "      <td>3</td>\n",
    "    </tr>\n",
    "    <tr>\n",
    "      <th>D</th>\n",
    "      <td>2</td>\n",
    "    </tr>\n",
    "    <tr>\n",
    "      <th>F</th>\n",
    "      <td>26</td>\n",
    "    </tr>\n",
    "  </tbody>\n",
    "</table>\n",
    "(though the numbers will be different)"
   ]
  },
  {
   "cell_type": "code",
   "execution_count": null,
   "metadata": {
    "collapsed": true
   },
   "outputs": [],
   "source": [
    "#http://stackoverflow.com/questions/21702342/creating-a-new-column-based-on-if-elif-else-condition - used this "
   ]
  },
  {
   "cell_type": "code",
   "execution_count": 119,
   "metadata": {
    "collapsed": false
   },
   "outputs": [],
   "source": [
    "from random import randint\n",
    "import pandas as pd\n",
    "\n",
    "\n",
    "def random_grades(number_of_grades):\n",
    "    '''return number of grades with a column that denotes the letter'''\n",
    "    grades = pd.DataFrame([randint(51,100) for _ in range(number_of_grades)],columns = ['count_of_students'])\n",
    "    \n",
    "    def grade_range(number):\n",
    "        '''apply to a column to determine which letter grade it  should be '''\n",
    "        \n",
    "        if number>=90:\n",
    "            val = 'A'\n",
    "        elif number>=80and number<90:\n",
    "            val = 'B'\n",
    "        elif number>=70 and number<80:\n",
    "            val = 'C'\n",
    "        elif number>=60 and number<70:\n",
    "            val = 'D'\n",
    "        else:\n",
    "            val = 'F'\n",
    "        return val\n",
    "    \n",
    "    grades['letter_grade'] = grades.count_of_students.apply( grade_range)\n",
    "    \n",
    "    grades_grouped = grades.groupby(['letter_grade']).count().reset_index()\n",
    "    \n",
    "\n",
    "    return grades_grouped\n",
    "    \n"
   ]
  },
  {
   "cell_type": "code",
   "execution_count": 120,
   "metadata": {
    "collapsed": false
   },
   "outputs": [
    {
     "data": {
      "text/html": [
       "<div>\n",
       "<table border=\"1\" class=\"dataframe\">\n",
       "  <thead>\n",
       "    <tr style=\"text-align: right;\">\n",
       "      <th></th>\n",
       "      <th>letter_grade</th>\n",
       "      <th>count_of_students</th>\n",
       "    </tr>\n",
       "  </thead>\n",
       "  <tbody>\n",
       "    <tr>\n",
       "      <th>0</th>\n",
       "      <td>A</td>\n",
       "      <td>12</td>\n",
       "    </tr>\n",
       "    <tr>\n",
       "      <th>1</th>\n",
       "      <td>B</td>\n",
       "      <td>6</td>\n",
       "    </tr>\n",
       "    <tr>\n",
       "      <th>2</th>\n",
       "      <td>C</td>\n",
       "      <td>7</td>\n",
       "    </tr>\n",
       "    <tr>\n",
       "      <th>3</th>\n",
       "      <td>D</td>\n",
       "      <td>10</td>\n",
       "    </tr>\n",
       "    <tr>\n",
       "      <th>4</th>\n",
       "      <td>F</td>\n",
       "      <td>5</td>\n",
       "    </tr>\n",
       "  </tbody>\n",
       "</table>\n",
       "</div>"
      ],
      "text/plain": [
       "  letter_grade  count_of_students\n",
       "0            A                 12\n",
       "1            B                  6\n",
       "2            C                  7\n",
       "3            D                 10\n",
       "4            F                  5"
      ]
     },
     "execution_count": 120,
     "metadata": {},
     "output_type": "execute_result"
    }
   ],
   "source": [
    "random_grades(40)"
   ]
  },
  {
   "cell_type": "markdown",
   "metadata": {},
   "source": [
    "3) Using two six-sided dice, what is the probability of: (by hand)\n",
    "    1. Rolling a 7?\n",
    "    2. Rolling an 11?\n",
    "    3. Rolling two 7s in a row?\n",
    "    4. Rolling a 7 or 11?\n",
    "    5. Rolling a 7 or 11 twice in a row? (i.e. 7, 7; 7, 11; 11, 7; 11, 11)\n",
    "    "
   ]
  },
  {
   "cell_type": "markdown",
   "metadata": {},
   "source": [
    "# Question 3\n",
    "1) Probability of rolling a 7 is the total number of times you can have two dice equal 7 / total outcomes . \n",
    "(1,6) ,(2,5),(3,4),(4,3),(5,2),(6,1)  / 36 = 6/36 = 1/6\n",
    "\n",
    "2)  Probability of rolling a 11 is the total number of times you can have two dice equal 11 / total outcomes . \n",
    "(5,6),(6,5) / 36 = 2/36 = 1/18\n",
    "\n",
    "3) Probability of one seven on first die is 1/6, probability of one seven on the second die is 1/6. Therefore, probability of two 7's is 1/6 $*$ 1/6 or 1/36.\n",
    "\n",
    "4) Probability of seven or eleven is the sum of numbers one and two over total possible outcomes. 6/36 + 2/36 = 8/36 = 2/9\n",
    "\n",
    "5) Probability of two sevens is $ 1/6 * 1/6$ (probability of one seven when rolling two dice)^2 = 1/36\n",
    "Probability of a seven and eleven is 1/6 $*$ 1/18 = 1/108 \n",
    "Probability of an eleven and a seven is 1/108 (same as above)\n",
    "Probability of two elevens is 1/18 $*$ 1/18 = 1/324\n",
    "\n",
    "Add these probabilities together. 1/36 + 1/108 + 1/108 + 1/324 = 0.04938271604938271 or ~ 5% chance  (about 5%)"
   ]
  },
  {
   "cell_type": "markdown",
   "metadata": {},
   "source": [
    "4) Create a function that plays craps. The rules of craps are these:  \n",
    "    If you roll a seven (7) or an eleven (11) on your **first** roll, you win.  \n",
    "    Otherwise, keep track of what you rolled the first time and keep rolling until:  \n",
    "- you roll what you rolled the first time, which means you win; or  \n",
    "- you roll a 7 or an 11, which means you lose.  \n",
    "\n",
    "For example, if I roll 7, I win. But if I roll 5 and then a 7, I lose. If I roll 5, 3, 9, 10, 5, I win.\n",
    "\n",
    "Your function should print out the status with each roll. Sample output might look something like...\n",
    "\n",
    "    1) Target = 6\n",
    "    2) Rolled 10\n",
    "    Didn't roll 7, 11, or 6. Rerolling...\n",
    "    3) Rolled 7\n",
    "    Lost on roll 3"
   ]
  },
  {
   "cell_type": "code",
   "execution_count": 258,
   "metadata": {
    "collapsed": false
   },
   "outputs": [],
   "source": [
    "def roll():\n",
    "   die1 = randint(1,6)\n",
    "   die2 = randint(1,6)\n",
    "   return die1 + die2\n",
    "\n",
    "def play_craps():\n",
    "   cnt1 = roll()\n",
    "   if cnt1 == 7 or cnt1 == 11:\n",
    "       print('You rolled', cnt1,'!', end='\\n')\n",
    "       print('You win!')\n",
    "   else:\n",
    "       print('Target =', cnt1, end='\\n')\n",
    "       val = 1\n",
    "       while True:\n",
    "           cnt2 = roll()\n",
    "           if cnt2 == cnt1:\n",
    "               print('You rolled', cnt1, '!', end='\\n')\n",
    "               print('You win!')\n",
    "               break\n",
    "           elif cnt2 == 7 or cnt2 == 11:\n",
    "               print('Rolled %d. You lost!' %cnt2)\n",
    "               break\n",
    "           else:\n",
    "               print('Rolled', cnt2)"
   ]
  },
  {
   "cell_type": "code",
   "execution_count": 259,
   "metadata": {
    "collapsed": false
   },
   "outputs": [
    {
     "name": "stdout",
     "output_type": "stream",
     "text": [
      "Target = 3\n",
      "Rolled 6\n",
      "Rolled 9\n",
      "Rolled 4\n",
      "Rolled 7. You lost!\n"
     ]
    }
   ],
   "source": [
    "play_craps()"
   ]
  },
  {
   "cell_type": "markdown",
   "metadata": {},
   "source": [
    "5) 300 Australians were asked about their car preferences in 1998. Of the respondents, 33% had children. The respondents were asked what sort of car they would like if they could choose any car at all. 13% of respondents had children and chose a large car. 12% of respondents did not have children and chose a large car. Find the probability that a randomly chosen respondent:\n",
    "     1. would choose a large car;\n",
    "     2. either has children or would choose a large car (or both)."
   ]
  },
  {
   "cell_type": "markdown",
   "metadata": {},
   "source": [
    "# Question Five\n",
    "n = 300\n",
    "\n",
    "1) choose a large car.\n",
    "\n",
    "P(have children) = 33% \n",
    "\n",
    "P( have children AND have large car) = 13%\n",
    "P( did not have children AND and have large car) = 12%\n",
    "\n",
    "P(choose large car) = 12% + 13% = 25%\n",
    "\n",
    "2) P(have children OR choose large car) = 33% + 25% - 13 % = 45%"
   ]
  },
  {
   "cell_type": "markdown",
   "metadata": {},
   "source": [
    "# Question Six\n",
    "6) Write a function that will generate random data according to the statistics describe above. If you call your DataFrame `aus` and name your columns `children` and `large_car` respectively, you should be able to get something like:\n",
    "\n",
    "<table border=\"1\" class=\"dataframe\">\n",
    "  <thead>\n",
    "    <tr style=\"text-align: right;\">\n",
    "      <th>large_car</th>\n",
    "      <th>False</th>\n",
    "      <th>True</th>\n",
    "      <th>All</th>\n",
    "    </tr>\n",
    "    <tr>\n",
    "      <th>children</th>\n",
    "      <th></th>\n",
    "      <th></th>\n",
    "      <th></th>\n",
    "    </tr>\n",
    "  </thead>\n",
    "  <tbody>\n",
    "    <tr>\n",
    "      <th>False</th>\n",
    "      <td>?</td>\n",
    "      <td>?</td>\n",
    "      <td>?</td>\n",
    "    </tr>\n",
    "    <tr>\n",
    "      <th>True</th>\n",
    "      <td>?</td>\n",
    "      <td>?</td>\n",
    "      <td>?</td>\n",
    "    </tr>\n",
    "    <tr>\n",
    "      <th>All</th>\n",
    "      <td>?</td>\n",
    "      <td>?</td>\n",
    "      <td>300</td>\n",
    "    </tr>\n",
    "  </tbody>\n",
    "</table>\n",
    "\n",
    "using the command\n",
    "```python\n",
    "pd.crosstab(aus.children, aus.large_car, margins=True)\n",
    "```\n",
    "(with the counts filled in, of course)"
   ]
  },
  {
   "cell_type": "code",
   "execution_count": 558,
   "metadata": {
    "collapsed": false
   },
   "outputs": [],
   "source": [
    "from collections import defaultdict\n",
    "def car_stats(number_of_people):\n",
    "    \"\"\"generate random sequence of numbers weighted by the probabilities of each outcome\"\"\"\n",
    "#     have_car_and_have_children = .13\n",
    "#     have_car_and_no_children = .12\n",
    "#     no_car_and_no_kids =  .55\n",
    "#     no_car_and_have_kids =  .2\n",
    "\n",
    "    #1 = have_car_and_have_children\n",
    "    #2 = have_car_and_no_children\n",
    "    #3 =  no_car_and_no_kids\n",
    "    #4 = no_car_and_have_kids\n",
    "    \n",
    "    \n",
    " \n",
    "    aus = pd.DataFrame([np.random.choice(np.arange(1, 5), p=[.13, .12, .55, .2]) for _ in range(number_of_people)])\n",
    "    \n",
    "#     aus = pd.DataFrame([np.random.choice(np.arange(1, 3), p=[.13, .12, .55, .2]) for _ in range(number_of_people)])\n",
    "#     aus['have_car_and_have_children'] =aus[aus==1]\n",
    "    \n",
    "    aus['children']=aus[0].apply(lambda x: True if x==1 or x==4 else False)\n",
    "    aus['large_car']=aus[0].apply(lambda x: True if x ==2 or x ==1 else False)\n",
    "    \n",
    "    #print(aus)\n",
    "    return pd.crosstab(aus.children, aus.large_car, margins=True)\n",
    "        \n",
    "    \n",
    "    \n",
    "    "
   ]
  },
  {
   "cell_type": "code",
   "execution_count": 357,
   "metadata": {
    "collapsed": false
   },
   "outputs": [
    {
     "data": {
      "text/html": [
       "<div>\n",
       "<table border=\"1\" class=\"dataframe\">\n",
       "  <thead>\n",
       "    <tr style=\"text-align: right;\">\n",
       "      <th>large_car</th>\n",
       "      <th>False</th>\n",
       "      <th>True</th>\n",
       "      <th>All</th>\n",
       "    </tr>\n",
       "    <tr>\n",
       "      <th>children</th>\n",
       "      <th></th>\n",
       "      <th></th>\n",
       "      <th></th>\n",
       "    </tr>\n",
       "  </thead>\n",
       "  <tbody>\n",
       "    <tr>\n",
       "      <th>False</th>\n",
       "      <td>168</td>\n",
       "      <td>28</td>\n",
       "      <td>196</td>\n",
       "    </tr>\n",
       "    <tr>\n",
       "      <th>True</th>\n",
       "      <td>68</td>\n",
       "      <td>36</td>\n",
       "      <td>104</td>\n",
       "    </tr>\n",
       "    <tr>\n",
       "      <th>All</th>\n",
       "      <td>236</td>\n",
       "      <td>64</td>\n",
       "      <td>300</td>\n",
       "    </tr>\n",
       "  </tbody>\n",
       "</table>\n",
       "</div>"
      ],
      "text/plain": [
       "large_car  False  True  All\n",
       "children                   \n",
       "False        168    28  196\n",
       "True          68    36  104\n",
       "All          236    64  300"
      ]
     },
     "execution_count": 357,
     "metadata": {},
     "output_type": "execute_result"
    }
   ],
   "source": [
    "car_stats(300)"
   ]
  },
  {
   "cell_type": "markdown",
   "metadata": {},
   "source": [
    "7) 90 students are to be split at random into 3 classes of equal size. Joe and Jane are two of the students. What is the probability that they end up in the same class?"
   ]
  },
  {
   "cell_type": "markdown",
   "metadata": {},
   "source": [
    "(3$*$(30 C 2) ) /  (90 C 2)  = 1,305 / 4,005 = 32.6%"
   ]
  },
  {
   "cell_type": "markdown",
   "metadata": {},
   "source": [
    "8) Write a function that will randomly deal a 52 card deck into four equal parts. That is, it should return a 4-tuple of lists of 13 strings each representing cards with no repeats (_i.e._ the Ace of Spades should appear exactly once and so on)."
   ]
  },
  {
   "cell_type": "code",
   "execution_count": 587,
   "metadata": {
    "collapsed": false
   },
   "outputs": [],
   "source": [
    "#https://docs.python.org/3/library/itertools.html\n",
    "\n",
    "import itertools\n",
    "from itertools import *\n",
    "from numpy import random\n",
    "\n",
    "def deal_deck(number_of_parts):\n",
    "    \"\"\"return a delt deck to the number of people specified by the number of parts.\n",
    "    This MUST be divisible by the total number of cards in the deck \"\"\"\n",
    "    \n",
    "    number_of_cards_per_suit = [item+2 for item in range(9)]\n",
    "    \n",
    "    face_cards=['Ace','King','Queen','Jack']\n",
    "    suits=['Hearts','Diamonds','Clubs','Spades']\n",
    "    number_deck = [(str(x)+\" \"+y) for x in number_of_cards_per_suit for y in suits] ### create the number cards per deck\n",
    "    face_deck = [(x+\" \"+y) for x in face_cards for y in suits] ## create the face cards per deck\n",
    "    final_deck = number_deck + face_deck\n",
    "    \n",
    "    #print(final_deck , 'final deck')\n",
    "    \n",
    "#     for count,item in enumerate(final_deck):\n",
    "#         print (count)\n",
    "    delt_deck=[[] for x in range(number_of_parts)]##add a list for every division of the deck\n",
    "    selected_items = []\n",
    "    #print(delt_deck)\n",
    "\n",
    "    \n",
    "    for count,item in enumerate(final_deck):\n",
    "        #print(int(round(count%number_of_parts)))\n",
    "        #print(random.choice(final_deck))\n",
    "        #final_deck[1].append('hi')\n",
    "        #print(item,'item')\n",
    "        \n",
    "        choice = random.choice(final_deck) ## pick a card\n",
    "        #print(choice , 'this is your choice')\n",
    "        #print(selected_items , ' current selected items')\n",
    "        \n",
    "        while choice in selected_items:\n",
    "            #print(selected_items, 'your choice was in selected items')\n",
    "            choice = random.choice(final_deck)\n",
    "            #print(choice, 'new choice')\n",
    "            \n",
    "        else:\n",
    "            #print('your choice was not in the selected items')\n",
    "            delt_deck[round(count%number_of_parts)].append(choice)\n",
    "            selected_items.append(choice)\n",
    "            \n",
    " \n",
    "            \n",
    "\n",
    "    return(delt_deck)\n",
    "    \n"
   ]
  },
  {
   "cell_type": "code",
   "execution_count": 588,
   "metadata": {
    "collapsed": false
   },
   "outputs": [],
   "source": [
    "# for item in range(50):\n",
    "#     print(round(item%4))"
   ]
  },
  {
   "cell_type": "code",
   "execution_count": 615,
   "metadata": {
    "collapsed": false
   },
   "outputs": [
    {
     "name": "stdout",
     "output_type": "stream",
     "text": [
      "[['8 Diamonds', 'Ace Spades', 'Queen Hearts', 'Ace Diamonds', '2 Spades', 'King Spades', '3 Hearts', '10 Hearts', '10 Diamonds', '4 Clubs', '5 Clubs', '3 Clubs', 'Queen Diamonds', 'Queen Spades', '9 Diamonds', '9 Spades', 'Ace Hearts', '3 Spades', 'Jack Clubs', '10 Clubs', 'King Hearts', '4 Diamonds', '10 Spades', '2 Diamonds', '2 Hearts', '4 Spades'], ['5 Hearts', '6 Hearts', '5 Diamonds', '7 Spades', '8 Hearts', 'Jack Diamonds', '7 Diamonds', 'King Clubs', '6 Diamonds', '6 Clubs', 'Queen Clubs', '9 Clubs', 'Jack Hearts', 'King Diamonds', '8 Spades', 'Jack Spades', '7 Clubs', '2 Clubs', '7 Hearts', '6 Spades', '3 Diamonds', '5 Spades', '9 Hearts', '8 Clubs', '4 Hearts', 'Ace Clubs']] --------\n",
      "[['King Diamonds', '10 Clubs', 'Queen Hearts', '10 Diamonds', '6 Spades', '7 Hearts', '4 Diamonds', '8 Spades', 'Queen Spades', '9 Clubs', '9 Diamonds', '2 Hearts', '10 Hearts'], ['5 Clubs', '4 Clubs', 'Ace Spades', '9 Hearts', '6 Hearts', '2 Spades', '5 Spades', 'Ace Hearts', '4 Spades', '7 Clubs', 'King Clubs', 'Queen Clubs', '8 Hearts'], ['8 Clubs', '3 Diamonds', '3 Clubs', '9 Spades', 'Ace Diamonds', '8 Diamonds', '3 Spades', 'King Hearts', '2 Diamonds', 'King Spades', 'Queen Diamonds', '3 Hearts', '7 Spades'], ['Jack Hearts', '6 Diamonds', '5 Diamonds', '4 Hearts', 'Jack Spades', '10 Spades', '5 Hearts', '7 Diamonds', 'Jack Clubs', 'Jack Diamonds', '2 Clubs', '6 Clubs', 'Ace Clubs']]\n"
     ]
    }
   ],
   "source": [
    "print(deal_deck(2), \"--------\")\n",
    "print(deal_deck(4))"
   ]
  },
  {
   "cell_type": "markdown",
   "metadata": {},
   "source": [
    "9) A well-shuffled 52-card deck is dealt to 4 players. Find the probability that each of the players gets an ace."
   ]
  },
  {
   "cell_type": "markdown",
   "metadata": {},
   "source": [
    "The number of ways to deal a deck of 52 cards amoung four people means that each person gets 13 cards.\n",
    "\n",
    "52! / (13! $*$ 13! $*$ 13! $*$ 13!)  - This is the total number of ways to deal 52 cards among 4 people . \n",
    "\n",
    "We want each person to have only one ace, and we know that there are four aces in the deck. \n",
    "\n",
    "Therefore 4!$*$(52-4)! / ((13-1)! $*$ (13-1)! $*$ (13-1! $*$ (13-1)!)) - this gives us the number of ways to deal an aces to four people.\n",
    "\n",
    "The total number of ways to deal to four people is 52! / (13! $*$ 13! $*$ 13! $*$ 13!).\n",
    "\n",
    "\n",
    "\n"
   ]
  },
  {
   "cell_type": "code",
   "execution_count": 611,
   "metadata": {
    "collapsed": false
   },
   "outputs": [
    {
     "data": {
      "text/plain": [
       "0.10549819927971188"
      ]
     },
     "execution_count": 611,
     "metadata": {},
     "output_type": "execute_result"
    }
   ],
   "source": [
    "((math.factorial(4)*math.factorial(52-4))/(math.factorial(12)**4) ) / (math.factorial(52)/(math.factorial(13)**4))"
   ]
  },
  {
   "cell_type": "code",
   "execution_count": null,
   "metadata": {
    "collapsed": false
   },
   "outputs": [],
   "source": []
  },
  {
   "cell_type": "code",
   "execution_count": null,
   "metadata": {
    "collapsed": false
   },
   "outputs": [],
   "source": []
  },
  {
   "cell_type": "code",
   "execution_count": null,
   "metadata": {
    "collapsed": false
   },
   "outputs": [],
   "source": [
    "\n"
   ]
  },
  {
   "cell_type": "code",
   "execution_count": null,
   "metadata": {
    "collapsed": false
   },
   "outputs": [],
   "source": [
    "\n"
   ]
  },
  {
   "cell_type": "code",
   "execution_count": 605,
   "metadata": {
    "collapsed": true
   },
   "outputs": [],
   "source": [
    "import math"
   ]
  },
  {
   "cell_type": "code",
   "execution_count": null,
   "metadata": {
    "collapsed": false
   },
   "outputs": [],
   "source": []
  },
  {
   "cell_type": "markdown",
   "metadata": {},
   "source": []
  }
 ],
 "metadata": {
  "anaconda-cloud": {},
  "kernelspec": {
   "display_name": "Python [Root]",
   "language": "python",
   "name": "Python [Root]"
  },
  "language_info": {
   "codemirror_mode": {
    "name": "ipython",
    "version": 3
   },
   "file_extension": ".py",
   "mimetype": "text/x-python",
   "name": "python",
   "nbconvert_exporter": "python",
   "pygments_lexer": "ipython3",
   "version": "3.5.2"
  }
 },
 "nbformat": 4,
 "nbformat_minor": 0
}
