{
 "cells": [
  {
   "cell_type": "markdown",
   "metadata": {},
   "source": [
    "# Lab 2.1: Probability and Counting"
   ]
  },
  {
   "cell_type": "markdown",
   "metadata": {},
   "source": [
    "Exercises:\n",
    "----------"
   ]
  },
  {
   "cell_type": "markdown",
   "metadata": {},
   "source": [
    "1) A student's test score $T$ is an integer between 0 and 100 corresponding to the experimental outcomes $s_0,...,s_{100}$. A score of 90 to 100 is an $A$, 80 to 89 is a $B$, 70 to 79 is a $C$, 60 to 69 is a $D$, and below 60 is a failing grade of $F$. Given that all scores between 51 and 100 are equally likely and a score of 50 or less cannot occur, please find the following probabilities:   - (by hand)\n",
    "\n",
    "a) $P(s_{79})$  \n",
    "\n",
    "b) $P(s_{100})$  \n",
    "\n",
    "c) $P(A)$  \n",
    "\n",
    "d) $P(F)$  \n",
    "\n",
    "e) $P(T\\geq80)$  \n",
    "\n",
    "f) $P(T<90)$  \n",
    "\n",
    "g) $P$(a $C$ grade or better)  \n",
    "\n",
    "h) $P$(student passes)  \n",
    "    "
   ]
  },
  {
   "cell_type": "markdown",
   "metadata": {},
   "source": [
    "# Question One\n",
    "Total possible events in the space = 49\n",
    "\n",
    "a) $P(S=79)$ = the score of 79 - which is one event / all possible outcomes = **1/49**\n",
    "\n",
    "b) $P(S=100)$ = the score of 100 (one event) / all possible outcomes = **1/49**\n",
    "\n",
    "c) $P(A) = P(S>=90 $ and $ S<=100)$ = **10/49** \n",
    "\n",
    "d) $P(F) = P(S<60) $= **9/49**\n",
    "\n",
    "e) $P(T>=80)$ = the set of possible outcomes >= 80 / total possible outcomes = **20/49** \n",
    "\n",
    "f) $P(T<90)$ = ( outcomes < 90 - (outcomes 51- 89) ) / total outcomes  = **38/49** \n",
    "\n",
    "g) $P( C grade $ or $ better)$ = ( outcome 70 to 100 ) / total outcomes = **30/49**\n",
    "\n",
    "h) $P(student passes)$ = (outcomes from 60 to 100) / total outcomes = **40/49** "
   ]
  },
  {
   "cell_type": "markdown",
   "metadata": {},
   "source": [
    "---\n",
    "# Question 2"
   ]
  },
  {
   "cell_type": "markdown",
   "metadata": {},
   "source": [
    "2) Use either `randint` or `random_sample` to generate a series of random grades for forty (40) students according to the above distribution. Put these in a DataFrame along with `student_id`s (hint: use `range` to generate your `id`s) and then `groupby` to count how many of each grade there are. The result should look something like:\n",
    "<table border=\"1\" class=\"dataframe\">\n",
    "  <thead>\n",
    "    <tr style=\"text-align: right;\">\n",
    "      <th></th>\n",
    "      <th>student_id</th>\n",
    "    </tr>\n",
    "    <tr>\n",
    "      <th>grade</th>\n",
    "      <th></th>\n",
    "    </tr>\n",
    "  </thead>\n",
    "  <tbody>\n",
    "    <tr>\n",
    "      <th>A</th>\n",
    "      <td>3</td>\n",
    "    </tr>\n",
    "    <tr>\n",
    "      <th>B</th>\n",
    "      <td>6</td>\n",
    "    </tr>\n",
    "    <tr>\n",
    "      <th>C</th>\n",
    "      <td>3</td>\n",
    "    </tr>\n",
    "    <tr>\n",
    "      <th>D</th>\n",
    "      <td>2</td>\n",
    "    </tr>\n",
    "    <tr>\n",
    "      <th>F</th>\n",
    "      <td>26</td>\n",
    "    </tr>\n",
    "  </tbody>\n",
    "</table>\n",
    "(though the numbers will be different)"
   ]
  },
  {
   "cell_type": "code",
   "execution_count": 3,
   "metadata": {
    "collapsed": false
   },
   "outputs": [],
   "source": [
    "from random import randint\n",
    "import pandas as pd\n",
    "import numpy as np\n",
    "\n",
    "\n",
    "def random_grades(num_of_grades):\n",
    "    '''return number of grades with a column that denotes the letter'''\n",
    "    grades = pd.DataFrame([randint(51,100) for _ in range(num_of_grades)],columns = ['student_id'])\n",
    "    \n",
    "    def grade_range(num):\n",
    "        '''apply to a column to determine which letter grade it  should be '''\n",
    "        \n",
    "        if (num >= 90):\n",
    "            val = 'A'\n",
    "        elif (num >= 80 and num < 90):\n",
    "            val = 'B'\n",
    "        elif (num >= 70 and num < 80):\n",
    "            val = 'C'\n",
    "        elif (num >= 60 and num < 70):\n",
    "            val = 'D'\n",
    "        else:\n",
    "            val = 'F'\n",
    "        return val\n",
    "    \n",
    "    grades['grade'] = grades.student_id.apply( grade_range)\n",
    "    \n",
    "    grades_grouped = grades.groupby(['grade']).count()\n",
    "\n",
    "    return grades_grouped"
   ]
  },
  {
   "cell_type": "code",
   "execution_count": 699,
   "metadata": {
    "collapsed": false
   },
   "outputs": [
    {
     "data": {
      "text/html": [
       "<div>\n",
       "<table border=\"1\" class=\"dataframe\">\n",
       "  <thead>\n",
       "    <tr style=\"text-align: right;\">\n",
       "      <th></th>\n",
       "      <th>student_id</th>\n",
       "    </tr>\n",
       "    <tr>\n",
       "      <th>grade</th>\n",
       "      <th></th>\n",
       "    </tr>\n",
       "  </thead>\n",
       "  <tbody>\n",
       "    <tr>\n",
       "      <th>A</th>\n",
       "      <td>12</td>\n",
       "    </tr>\n",
       "    <tr>\n",
       "      <th>B</th>\n",
       "      <td>8</td>\n",
       "    </tr>\n",
       "    <tr>\n",
       "      <th>C</th>\n",
       "      <td>6</td>\n",
       "    </tr>\n",
       "    <tr>\n",
       "      <th>D</th>\n",
       "      <td>7</td>\n",
       "    </tr>\n",
       "    <tr>\n",
       "      <th>F</th>\n",
       "      <td>7</td>\n",
       "    </tr>\n",
       "  </tbody>\n",
       "</table>\n",
       "</div>"
      ],
      "text/plain": [
       "       student_id\n",
       "grade            \n",
       "A              12\n",
       "B               8\n",
       "C               6\n",
       "D               7\n",
       "F               7"
      ]
     },
     "execution_count": 699,
     "metadata": {},
     "output_type": "execute_result"
    }
   ],
   "source": [
    "random_grades(40)"
   ]
  },
  {
   "cell_type": "markdown",
   "metadata": {},
   "source": [
    "---\n",
    "# Question 3\n",
    "\n",
    "3) Using two six-sided dice, what is the probability of: (by hand)\n",
    "    1. Rolling a 7?\n",
    "    2. Rolling an 11?\n",
    "    3. Rolling two 7s in a row?\n",
    "    4. Rolling a 7 or 11?\n",
    "    5. Rolling a 7 or 11 twice in a row? (i.e. 7, 7; 7, 11; 11, 7; 11, 11)\n",
    "    "
   ]
  },
  {
   "cell_type": "markdown",
   "metadata": {},
   "source": [
    "1) Probability of rolling a 7 is the total number of times you can have two dice equal 7 / total outcomes . \n",
    "(1,6) ,(2,5),(3,4),(4,3),(5,2),(6,1)  / 36 = 6/36 = **1/6**\n",
    "\n",
    "2)  Probability of rolling a 11 is the total number of times you can have two dice equal 11 / total outcomes . \n",
    "(5,6),(6,5) / 36 = 2/36 = **1/18**\n",
    "\n",
    "3) Probability of one seven on first die is 1/6, probability of one seven on the second die is 1/6. Therefore, probability of two 7's is **1/6 x 1/6 or  1/36**.\n",
    "\n",
    "4) Probability of seven or eleven is the sum of numbers one and two over total possible outcomes. 6/36 + 2/36 = 8/36 = **2/9**\n",
    "\n",
    "5) Probability of two sevens is $ 1/6 * 1/6$ (probability of one seven when rolling two dice)^2 = **1/36**\n",
    "Probability of a seven and eleven is 1/6 $*$ 1/18 = **1/108** \n",
    "Probability of an eleven and a seven is 1/108 (**same as above**)\n",
    "Probability of two elevens is 1/18 $*$ 1/18 = **1/324**\n",
    "\n",
    "Add these probabilities together. 1/36 + 1/108 + 1/108 + 1/324 = 0.04938271604938271 or ~ 5% chance  (about 5%)"
   ]
  },
  {
   "cell_type": "markdown",
   "metadata": {},
   "source": [
    "---\n",
    "# Questions 4"
   ]
  },
  {
   "cell_type": "markdown",
   "metadata": {},
   "source": [
    "4) Create a function that plays craps. The rules of craps are these:  \n",
    "    If you roll a seven (7) or an eleven (11) on your **first** roll, you win.  \n",
    "    Otherwise, keep track of what you rolled the first time and keep rolling until:  \n",
    "- you roll what you rolled the first time, which means you win; or  \n",
    "- you roll a 7 or an 11, which means you lose.  \n",
    "\n",
    "For example, if I roll 7, I win. But if I roll 5 and then a 7, I lose. If I roll 5, 3, 9, 10, 5, I win.\n",
    "\n",
    "Your function should print out the status with each roll. Sample output might look something like...\n",
    "\n",
    "    1) Target = 6\n",
    "    2) Rolled 10\n",
    "    Didn't roll 7, 11, or 6. Rerolling...\n",
    "    3) Rolled 7\n",
    "    Lost on roll 3"
   ]
  },
  {
   "cell_type": "code",
   "execution_count": 4,
   "metadata": {
    "collapsed": false
   },
   "outputs": [],
   "source": [
    "def roll():\n",
    "    '''Generates a two die roll'''\n",
    "    die1 = randint(1,6)\n",
    "    die2 = randint(1,6)\n",
    "    return die1 + die2\n",
    "\n",
    "def play_craps():\n",
    "    '''Game Control function that begins playing by calling\n",
    "    the roll() function and then holding each roll totals 'cnt1' \n",
    "    or 'cnt2', in order to determine player's current and final status\n",
    "    '''\n",
    "    cnt1 = roll()\n",
    "    if cnt1 == 7 or cnt1 == 11:\n",
    "        print('You rolled', cnt1,'!', end='\\n')\n",
    "        print('You win!')\n",
    "    else:\n",
    "        print('Target =', cnt1, end='\\n')\n",
    "        val = 1\n",
    "        while True:\n",
    "            cnt2 = roll()\n",
    "            if cnt2 == cnt1:\n",
    "                print('You rolled', cnt1, '!', end='\\n')\n",
    "                print('You win!')\n",
    "                break\n",
    "            elif cnt2 == 7 or cnt2 == 11:\n",
    "                print('Rolled %d. You lost!' %cnt2)\n",
    "                break\n",
    "            else:\n",
    "                print('Rolled', cnt2)\n",
    "                print(\"Didn't roll 7, 11, or %d. Rerolling ...\" % cnt1)"
   ]
  },
  {
   "cell_type": "code",
   "execution_count": 5,
   "metadata": {
    "collapsed": false
   },
   "outputs": [
    {
     "name": "stdout",
     "output_type": "stream",
     "text": [
      "Target = 6\n",
      "Rolled 4\n",
      "Didn't roll 7, 11, or 6. Rerolling ...\n",
      "Rolled 7. You lost!\n"
     ]
    }
   ],
   "source": [
    "play_craps()"
   ]
  },
  {
   "cell_type": "markdown",
   "metadata": {},
   "source": [
    "5) 300 Australians were asked about their car preferences in 1998. Of the respondents, 33% had children. The respondents were asked what sort of car they would like if they could choose any car at all. 13% of respondents had children and chose a large car. 12% of respondents did not have children and chose a large car. Find the probability that a randomly chosen respondent:\n",
    "     1. would choose a large car;\n",
    "     2. either has children or would choose a large car (or both)."
   ]
  },
  {
   "cell_type": "markdown",
   "metadata": {},
   "source": [
    "---\n",
    "# Question 5\n",
    "n = 300\n",
    "\n",
    "1) choose a large car.\n",
    "\n",
    "    P(have children) = 33% \n",
    "\n",
    "    P( have children AND have large car) = 13%\n",
    "    P( did not have children AND and have large car) = 12%\n",
    "\n",
    "    P(choose large car) = 12% + 13% = [ 25% ]\n",
    "\n",
    "2) P(have children OR choose large car) \n",
    "\n",
    "    = 33% + 25% - 13 % = [  45%  ]"
   ]
  },
  {
   "cell_type": "markdown",
   "metadata": {},
   "source": [
    "---\n",
    "# Question 6\n",
    "6) Write a function that will generate random data according to the statistics describe above. If you call your DataFrame `aus` and name your columns `children` and `large_car` respectively, you should be able to get something like:\n",
    "\n",
    "<table border=\"1\" class=\"dataframe\">\n",
    "  <thead>\n",
    "    <tr style=\"text-align: right;\">\n",
    "      <th>large_car</th>\n",
    "      <th>False</th>\n",
    "      <th>True</th>\n",
    "      <th>All</th>\n",
    "    </tr>\n",
    "    <tr>\n",
    "      <th>children</th>\n",
    "      <th></th>\n",
    "      <th></th>\n",
    "      <th></th>\n",
    "    </tr>\n",
    "  </thead>\n",
    "  <tbody>\n",
    "    <tr>\n",
    "      <th>False</th>\n",
    "      <td>?</td>\n",
    "      <td>?</td>\n",
    "      <td>?</td>\n",
    "    </tr>\n",
    "    <tr>\n",
    "      <th>True</th>\n",
    "      <td>?</td>\n",
    "      <td>?</td>\n",
    "      <td>?</td>\n",
    "    </tr>\n",
    "    <tr>\n",
    "      <th>All</th>\n",
    "      <td>?</td>\n",
    "      <td>?</td>\n",
    "      <td>300</td>\n",
    "    </tr>\n",
    "  </tbody>\n",
    "</table>\n",
    "\n",
    "using the command\n",
    "```python\n",
    "pd.crosstab(aus.children, aus.large_car, margins=True)\n",
    "```\n",
    "(with the counts filled in, of course)"
   ]
  },
  {
   "cell_type": "code",
   "execution_count": 702,
   "metadata": {
    "collapsed": false
   },
   "outputs": [],
   "source": [
    "from collections import defaultdict\n",
    "def car_stats(number_of_people):\n",
    "    \"\"\"generate random sequence of numbers weighted by the probabilities of each outcome\n",
    "    no_car_and_have_kids =  .2\n",
    "\n",
    "    1 = have_car_and_have_children\n",
    "    2 = have_car_and_no_children\n",
    "    3 =  no_car_and_no_kids\n",
    "    4 = no_car_and_have_kids\n",
    "    \"\"\"  \n",
    " \n",
    "    aus = pd.DataFrame([np.random.choice(np.arange(1, 5), p=[.13, .12, .55, .2]) for _ in range(number_of_people)])\n",
    "    \n",
    "    aus['children']=aus[0].apply(lambda x: True if x==1 or x==4 else False)\n",
    "    aus['large_car']=aus[0].apply(lambda x: True if x ==2 or x ==1 else False)\n",
    "    \n",
    "    return pd.crosstab(aus.children, aus.large_car, margins=True)\n"
   ]
  },
  {
   "cell_type": "code",
   "execution_count": 703,
   "metadata": {
    "collapsed": false
   },
   "outputs": [
    {
     "data": {
      "text/html": [
       "<div>\n",
       "<table border=\"1\" class=\"dataframe\">\n",
       "  <thead>\n",
       "    <tr style=\"text-align: right;\">\n",
       "      <th>large_car</th>\n",
       "      <th>False</th>\n",
       "      <th>True</th>\n",
       "      <th>All</th>\n",
       "    </tr>\n",
       "    <tr>\n",
       "      <th>children</th>\n",
       "      <th></th>\n",
       "      <th></th>\n",
       "      <th></th>\n",
       "    </tr>\n",
       "  </thead>\n",
       "  <tbody>\n",
       "    <tr>\n",
       "      <th>False</th>\n",
       "      <td>165</td>\n",
       "      <td>38</td>\n",
       "      <td>203</td>\n",
       "    </tr>\n",
       "    <tr>\n",
       "      <th>True</th>\n",
       "      <td>56</td>\n",
       "      <td>41</td>\n",
       "      <td>97</td>\n",
       "    </tr>\n",
       "    <tr>\n",
       "      <th>All</th>\n",
       "      <td>221</td>\n",
       "      <td>79</td>\n",
       "      <td>300</td>\n",
       "    </tr>\n",
       "  </tbody>\n",
       "</table>\n",
       "</div>"
      ],
      "text/plain": [
       "large_car  False  True  All\n",
       "children                   \n",
       "False        165    38  203\n",
       "True          56    41   97\n",
       "All          221    79  300"
      ]
     },
     "execution_count": 703,
     "metadata": {},
     "output_type": "execute_result"
    }
   ],
   "source": [
    "car_stats(300)"
   ]
  },
  {
   "cell_type": "markdown",
   "metadata": {},
   "source": [
    "---\n",
    "# Question 7"
   ]
  },
  {
   "cell_type": "markdown",
   "metadata": {},
   "source": [
    "7) 90 students are to be split at random into 3 classes of equal size. Joe and Jane are two of the students. What is the probability that they end up in the same class?"
   ]
  },
  {
   "cell_type": "markdown",
   "metadata": {},
   "source": [
    "(3$*$(30 C 2) ) /  (90 C 2)  = 1,305 / 4,005 = $32.6$%$ $"
   ]
  },
  {
   "cell_type": "markdown",
   "metadata": {},
   "source": [
    "---\n",
    "# Question 8"
   ]
  },
  {
   "cell_type": "markdown",
   "metadata": {},
   "source": [
    "8) Write a function that will randomly deal a 52 card deck into four equal parts. That is, it should return a 4-tuple of lists of 13 strings each representing cards with no repeats (_i.e._ the Ace of Spades should appear exactly once and so on)."
   ]
  },
  {
   "cell_type": "code",
   "execution_count": 704,
   "metadata": {
    "collapsed": false
   },
   "outputs": [],
   "source": [
    "#https://docs.python.org/3/library/itertools.html\n",
    "\n",
    "import itertools\n",
    "from itertools import *\n",
    "from numpy import random\n",
    "\n",
    "def deal_deck(number_of_parts):\n",
    "    \"\"\"return a delt deck to the number of people specified by the number of parts.\n",
    "    This MUST be divisible by the total number of cards in the deck \"\"\"\n",
    "    \n",
    "    number_of_cards_per_suit = [item+2 for item in range(9)]\n",
    "    \n",
    "    face_cards=['Ace','King','Queen','Jack']\n",
    "    suits=['Hearts','Diamonds','Clubs','Spades']\n",
    "    number_deck = [(str(x)+\" \"+y) for x in number_of_cards_per_suit for y in suits] ### create the number cards per deck\n",
    "    face_deck = [(x+\" \"+y) for x in face_cards for y in suits] ## create the face cards per deck\n",
    "    final_deck = number_deck + face_deck\n",
    "    delt_deck=[[] for x in range(number_of_parts)]##add a list for every division of the deck\n",
    "    selected_items = []##to stop from double counting\n",
    "\n",
    "    \n",
    "    for count,item in enumerate(final_deck):\n",
    "        \n",
    "        choice = random.choice(final_deck) ## pick a card\n",
    "        #print(choice , 'this is your choice')\n",
    "        #print(selected_items , ' current selected items')\n",
    "        \n",
    "        while choice in selected_items:\n",
    "            #print(selected_items, 'your choice was in selected items')\n",
    "            choice = random.choice(final_deck) ##choose another card\n",
    "            #print(choice, 'new choice')\n",
    "            \n",
    "        else:\n",
    "            #print('your choice was not in the selected items')\n",
    "            delt_deck[round(count%number_of_parts)].append(choice)\n",
    "            selected_items.append(choice)\n",
    "            \n",
    "    return [tuple(item) for item in delt_deck]\n"
   ]
  },
  {
   "cell_type": "code",
   "execution_count": 706,
   "metadata": {
    "collapsed": false
   },
   "outputs": [
    {
     "data": {
      "text/plain": [
       "[('3 Diamonds',\n",
       "  'King Diamonds',\n",
       "  '3 Hearts',\n",
       "  '10 Spades',\n",
       "  '4 Spades',\n",
       "  '5 Clubs',\n",
       "  '8 Clubs',\n",
       "  '10 Diamonds',\n",
       "  'Jack Clubs',\n",
       "  '7 Spades',\n",
       "  'Ace Spades',\n",
       "  '8 Spades',\n",
       "  'Queen Diamonds'),\n",
       " ('Ace Clubs',\n",
       "  '2 Clubs',\n",
       "  '2 Diamonds',\n",
       "  '3 Spades',\n",
       "  'Ace Hearts',\n",
       "  'King Hearts',\n",
       "  '2 Hearts',\n",
       "  'Queen Spades',\n",
       "  '6 Hearts',\n",
       "  'Queen Clubs',\n",
       "  'Jack Spades',\n",
       "  '9 Spades',\n",
       "  '7 Diamonds'),\n",
       " ('5 Diamonds',\n",
       "  '7 Hearts',\n",
       "  '5 Spades',\n",
       "  '3 Clubs',\n",
       "  'Ace Diamonds',\n",
       "  '8 Hearts',\n",
       "  '5 Hearts',\n",
       "  '4 Clubs',\n",
       "  '7 Clubs',\n",
       "  '9 Clubs',\n",
       "  '6 Spades',\n",
       "  '4 Hearts',\n",
       "  'King Clubs'),\n",
       " ('2 Spades',\n",
       "  '8 Diamonds',\n",
       "  '4 Diamonds',\n",
       "  '10 Hearts',\n",
       "  '9 Diamonds',\n",
       "  'King Spades',\n",
       "  '9 Hearts',\n",
       "  'Jack Hearts',\n",
       "  'Jack Diamonds',\n",
       "  '6 Clubs',\n",
       "  '10 Clubs',\n",
       "  '6 Diamonds',\n",
       "  'Queen Hearts')]"
      ]
     },
     "execution_count": 706,
     "metadata": {},
     "output_type": "execute_result"
    }
   ],
   "source": [
    "deal_deck(4)"
   ]
  },
  {
   "cell_type": "markdown",
   "metadata": {},
   "source": [
    "---\n",
    "# Question 9"
   ]
  },
  {
   "cell_type": "markdown",
   "metadata": {},
   "source": [
    "9) A well-shuffled 52-card deck is dealt to 4 players. Find the probability that each of the players gets an ace."
   ]
  },
  {
   "cell_type": "markdown",
   "metadata": {},
   "source": [
    "The number of ways to deal a deck of 52 cards amoung four people means that each person gets 13 cards.\n",
    "\n",
    "52! / (13! $*$ 13! $*$ 13! $*$ 13!)  - This is the total number of ways to deal 52 cards among 4 people . \n",
    "\n",
    "We want each person to have only one ace, and we know that there are four aces in the deck. \n",
    "\n",
    "Therefore 4!$*$(52-4)! / ((13-1)! $*$ (13-1)! $*$ (13-1! $*$ (13-1)!)) - this gives us the number of ways to deal an aces to four people.\n",
    "\n",
    "The total number of ways to deal to four people is 52! / (13! $*$ 13! $*$ 13! $*$ 13!).\n",
    "\n",
    "When you divide these two \n",
    "\n",
    "$\\frac{\\frac{4! x (52-4)!}{((13-1)! x (13-1)! x (13-1! x (13-1)!))}}{\\frac{52!}{(13! x 13! x 13! x 13!}} =$ \n",
    "\n",
    "\n",
    "\n"
   ]
  },
  {
   "cell_type": "code",
   "execution_count": 726,
   "metadata": {
    "collapsed": false
   },
   "outputs": [],
   "source": [
    "import math\n",
    "top =((math.factorial(4)* math.factorial(52-4)) / (math.factorial(13-1)* math.factorial(13-1)*math.factorial(13-1)*math.factorial(13-1)))\n",
    "\n",
    "\n",
    "\n",
    "bottom = math.factorial(52) / (math.factorial(13)*math.factorial(13)*math.factorial(13)*math.factorial(13))"
   ]
  },
  {
   "cell_type": "markdown",
   "metadata": {},
   "source": [
    "$\\frac{top}{bottom}$"
   ]
  },
  {
   "cell_type": "code",
   "execution_count": 727,
   "metadata": {
    "collapsed": false
   },
   "outputs": [
    {
     "data": {
      "text/plain": [
       "0.10549819927971188"
      ]
     },
     "execution_count": 727,
     "metadata": {},
     "output_type": "execute_result"
    }
   ],
   "source": [
    "top / bottom"
   ]
  },
  {
   "cell_type": "code",
   "execution_count": null,
   "metadata": {
    "collapsed": true
   },
   "outputs": [],
   "source": []
  }
 ],
 "metadata": {
  "anaconda-cloud": {},
  "kernelspec": {
   "display_name": "Python [Root]",
   "language": "python",
   "name": "Python [Root]"
  },
  "language_info": {
   "codemirror_mode": {
    "name": "ipython",
    "version": 3
   },
   "file_extension": ".py",
   "mimetype": "text/x-python",
   "name": "python",
   "nbconvert_exporter": "python",
   "pygments_lexer": "ipython3",
   "version": "3.5.2"
  }
 },
 "nbformat": 4,
 "nbformat_minor": 0
}
