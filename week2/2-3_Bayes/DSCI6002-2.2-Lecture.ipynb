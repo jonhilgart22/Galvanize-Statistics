{
 "cells": [
  {
   "cell_type": "markdown",
   "metadata": {
    "slideshow": {
     "slide_type": "slide"
    }
   },
   "source": [
    "# Lecture 2.2: Bayes Theorem"
   ]
  },
  {
   "cell_type": "markdown",
   "metadata": {
    "slideshow": {
     "slide_type": "slide"
    }
   },
   "source": [
    "## Outline\n",
    "\n",
    "* Conditional probablity\n",
    "* Bayes Theorem\n",
    "* Chain rule for probability"
   ]
  },
  {
   "cell_type": "markdown",
   "metadata": {
    "slideshow": {
     "slide_type": "slide"
    }
   },
   "source": [
    "## Problem\n",
    "\n",
    "You have a database of 100 emails.\n",
    "\n",
    "* 60 of those 100 emails are spam\n",
    "    * 48 of those that are spam have the word \"buy\"\n",
    "    * 12 of those that are spam don't have the word \"buy\"\n",
    "* 40 of those 100 emails aren't spam\n",
    "    * 4 of those that aren't spam have the word \"buy\"\n",
    "    * 36 of those that aren't don't have the word \"buy\"\n",
    "\n",
    "What is the probability that an email is spam if it has the word \"buy\"? "
   ]
  },
  {
   "cell_type": "markdown",
   "metadata": {
    "slideshow": {
     "slide_type": "slide"
    }
   },
   "source": [
    "### Solution\n",
    "\n",
    "There are 48 emails that are spam and have the word \"buy\".\n",
    "And there are 52 emails that have the word \"buy\": 48 that are spam plus 4 that aren't spam.\n",
    "So the probability that an email is spam if it has the word \"buy\" is 48/52 = 0.92\n",
    "\n",
    "If you understood this answer then you have understood the Bayes Theorem (in a nutshell)."
   ]
  },
  {
   "cell_type": "markdown",
   "metadata": {
    "slideshow": {
     "slide_type": "slide"
    }
   },
   "source": [
    "## Some Definitions:\n",
    "\n",
    "### Joint Probability\n",
    "\n",
    "**Q.** Consider two events $A$ & $B$. How can we characterize the **intersection** of these events?\n",
    "\n",
    "**A.** With the ** joint probability ** of $A$ and $B$, written $P(A \\cap B)$.\n",
    "\n",
    "e.g.  \n",
    "$P(A) =$ probability of being female  \n",
    "$P(B) =$ probability of having long hair\n",
    "\n",
    "$P(A \\cap B)$ = the probability of being female AND having long hair "
   ]
  },
  {
   "cell_type": "markdown",
   "metadata": {
    "collapsed": true,
    "slideshow": {
     "slide_type": "slide"
    }
   },
   "source": [
    "### Conditional Probability\n",
    "\n",
    "**Q.** Suppose event $B$ has occurred. What quantity represents the probability of $A$ given this information about $B$?\n",
    "\n",
    "**A.** The intersection of $A$ & $B$ divided by region $B$.\n",
    "\n",
    "This is called the ** conditional probability ** of $A$ given $B$ - the probability that event A occurs, given that event B has occurred.\n",
    "\n",
    "It is written $P(A|B)$, and is given by\n",
    "\n",
    "$$ P(A|B) = \\frac{P(A\\cap B)}{P(B)} $$\n",
    "\n",
    "Read $P(A|B)$ as \"probability of $A$, given $B$\".\n",
    "\n",
    "Notice, with this we can also write $P(A \\cap B) = P(A|B) \\times P(B)$."
   ]
  },
  {
   "cell_type": "markdown",
   "metadata": {
    "slideshow": {
     "slide_type": "slide"
    }
   },
   "source": [
    "### More on Conditional Probability\n",
    "\n",
    "* Conditioning on event $B$ means changing the sample space to $B$\n",
    "\n",
    "\n",
    "* Think of $P(A|B)$ as the chance of getting an $A$, from the set of $B$'s only\n",
    "\n",
    "\n",
    "* The symbol $P(\\ \\ |B)$ should behave exactly like the symbol $P$\n",
    "\n",
    "    For example,  \n",
    "    \n",
    "$$P(C \\cup D) = P(C) + P(D) - P(C \\cap D)$$   \n",
    "    \n",
    "$$P(C \\cup D|B) = P(C|B) + P(D|B) - P(C \\cap D|B)$$"
   ]
  },
  {
   "cell_type": "markdown",
   "metadata": {
    "slideshow": {
     "slide_type": "slide"
    }
   },
   "source": [
    "### Independent Events\n",
    "\n",
    "Events A and B are ** _independent_ ** if and only if: $$P(A \\cap B) = P(A)P(B)$$\n",
    "\n",
    "Equivalently,\n",
    "\n",
    "$$ P(A|B) = P(A) $$\n",
    "$$ P(B|A) = P(B) $$\n",
    "\n",
    "\n",
    "**Q.** Victor is watching a roulette table in a casino and notices that the last five outcomes were black. He figures that the chances of getting black six times in a row is very small (about 1/64) and puts his paycheck on red. What is\n",
    "wrong with his reasoning?"
   ]
  },
  {
   "cell_type": "markdown",
   "metadata": {
    "slideshow": {
     "slide_type": "slide"
    }
   },
   "source": [
    "## Probability with the help of small animals\n",
    "\n",
    "### Sample Space\n",
    "\n",
    "<img src=\"images/probability1.jpg\" width=\"700\">"
   ]
  },
  {
   "cell_type": "markdown",
   "metadata": {
    "slideshow": {
     "slide_type": "subslide"
    }
   },
   "source": [
    "**Q**: If we randomly pick one small animal, what is the probablity that we get a puppy?\n",
    "\n",
    "<img src=\"images/probability2.jpg\" width=\"700\">"
   ]
  },
  {
   "cell_type": "markdown",
   "metadata": {
    "slideshow": {
     "slide_type": "fragment"
    }
   },
   "source": [
    "#### $P(puppy) = 4/9$"
   ]
  },
  {
   "cell_type": "markdown",
   "metadata": {
    "slideshow": {
     "slide_type": "subslide"
    }
   },
   "source": [
    "**Q**: If we randomly pick one small animal, what is the probablity that it is dark-colored?\n",
    "\n",
    "<img src=\"images/probability3.jpg\" width=\"700\">"
   ]
  },
  {
   "cell_type": "markdown",
   "metadata": {
    "slideshow": {
     "slide_type": "fragment"
    }
   },
   "source": [
    "#### $P(dark) = 5/9$"
   ]
  },
  {
   "cell_type": "markdown",
   "metadata": {
    "slideshow": {
     "slide_type": "subslide"
    }
   },
   "source": [
    "**Q**: Given that we picked a dark-colored animal, what is the probability that it is a puppy?\n",
    "<img src=\"images/probability4.jpg\" width=\"700\">"
   ]
  },
  {
   "cell_type": "markdown",
   "metadata": {
    "slideshow": {
     "slide_type": "subslide"
    }
   },
   "source": [
    "\n",
    "\n",
    "<img src=\"images/probability5.jpg\" width=\"700\">"
   ]
  },
  {
   "cell_type": "markdown",
   "metadata": {
    "slideshow": {
     "slide_type": "fragment"
    }
   },
   "source": [
    "#### $P(puppy|dark) = \\frac{P(\\text{dark } \\cap \\text{ puppy})}{P(\\text{dark})} = \\frac{^2/_9}{^5/_9} = \\frac{.222}{.556} = .4$"
   ]
  },
  {
   "cell_type": "markdown",
   "metadata": {
    "slideshow": {
     "slide_type": "slide"
    }
   },
   "source": [
    "### New statement of law of total probability\n",
    "\n",
    "If $B_1, \\dots, B_k$ partition $S$, then for any event A,\n",
    "\n",
    "$$ P(A) = \\sum_{i = 1}^k P(A \\cap B_i) = \\sum_{i = 1}^k P(A | B_i) P(B_i) $$"
   ]
  },
  {
   "cell_type": "markdown",
   "metadata": {
    "slideshow": {
     "slide_type": "slide"
    }
   },
   "source": [
    "### Example:\n",
    "\n",
    "Tom gets the bus to campus every day. The bus is on time with probability 0.6, and late with probability 0.4. The buses are sometimes crowded and sometimes noisy, both of which are problems for Tom as he likes to use the bus journeys to do his Stats assignments. When the bus is on time, it is crowded with probability 0.5. When it is late, it is crowded with probability 0.7. The bus is noisy with probability 0.8 when it is crowded, and with probability 0.4 when it is not crowded."
   ]
  },
  {
   "cell_type": "markdown",
   "metadata": {
    "slideshow": {
     "slide_type": "subslide"
    }
   },
   "source": [
    "1. Formulate events C and N corresponding to the bus being crowded and noisy. Do the events C and N form a partition of the sample space? Explain why or why not.\n",
    "\n",
    "2. Write down probability statements corresponding to the information given above. Your answer should involve two statements linking C with T and L, and two statements linking N with C. (T = \"on time\", L = \"late\")\n",
    "\n",
    "3. Find the probability that the bus is crowded.\n",
    "\n",
    "4. Find the probability that the bus is noisy."
   ]
  },
  {
   "cell_type": "markdown",
   "metadata": {
    "slideshow": {
     "slide_type": "slide"
    }
   },
   "source": [
    "* Let $C = “crowded”$, $N =“noisy”$. $C$ and $N$ do NOT form a partition of. It is possible for the bus to be noisy\n",
    "when it is crowded, so there must be some overlap between $C$ and $N$."
   ]
  },
  {
   "cell_type": "markdown",
   "metadata": {
    "slideshow": {
     "slide_type": "fragment"
    }
   },
   "source": [
    "* $P(T) = 0.6$; $P(L) = 0.4$; $P(C | T) = 0.5$; $P(C | L) = 0.7$; $P(N | C) = 0.8$; $P(N | C^c) = 0.4$."
   ]
  },
  {
   "cell_type": "markdown",
   "metadata": {
    "slideshow": {
     "slide_type": "fragment"
    }
   },
   "source": [
    "* $P(C) = P(C | T)P(T) + P(C | L)P(L) = 0.5 \\times 0.6 + 0.7 \\times 0.4 = 0.58$"
   ]
  },
  {
   "cell_type": "markdown",
   "metadata": {
    "slideshow": {
     "slide_type": "fragment"
    }
   },
   "source": [
    "* $P(N) = P(N | C)P(C) + P(N | C^c)P(C^c) = 0.8 \\times 0.58 + 0.4 \\times (1 - 0.58) = 0.632$"
   ]
  },
  {
   "cell_type": "markdown",
   "metadata": {
    "slideshow": {
     "slide_type": "slide"
    }
   },
   "source": [
    "## Bayes' Theorem\n",
    "\n",
    "$P(A \\cap B) = P(A|B) \\times P(B)\\qquad$\n",
    "\n",
    "$P(B \\cap A) = P(B|A) \\times P(A)\\qquad$ by substitution\n",
    "\n",
    "And we know that $P(A \\cap B) = P(B \\cap A)\\qquad$\n",
    "\n",
    "$\\Rightarrow P(A|B) \\times P(B) = P(B|A) \\times P(A)\\>$\tby combining the above  \n",
    "\n",
    "$\\Rightarrow P(A|B) = \\frac{P(B|A) \\times P(A)}{P(B)}\\>$\tby rearranging last step"
   ]
  },
  {
   "cell_type": "markdown",
   "metadata": {
    "slideshow": {
     "slide_type": "slide"
    }
   },
   "source": [
    "This result is called **Bayes’ theorem**. Here it is again:\n",
    "### $$ P(A|B) = \\frac{P(B|A) \\times P(A)}{P(B)} $$\n",
    "\n",
    "By law of total probability,\n",
    "### $$ P(A|B) = \\frac{P(B|A) \\times P(A)}{P(B|A) \\times P(A) + P(B|A^c) \\times P(A^c)} $$"
   ]
  },
  {
   "cell_type": "markdown",
   "metadata": {
    "slideshow": {
     "slide_type": "slide"
    }
   },
   "source": [
    "### Problem\n",
    "\n",
    "<!--small>*this example taken from [the Cartoon Guide to Statistics](http://www.harpercollins.com/browseinside/index.aspx?isbn13=9780062731029) by Larry Gonick & Woollcott Smith*</small-->  \n",
    "Suppose a disease infects one out of every 1000 people in a population...\n",
    "\n",
    "and suppose that there is a good, but not perfect, test for this disease: if a person has the disease, the test comes back positive 99% of the time. One the other hand, the test also produces some *false positives*. About 2% of uninfected patients also test positive.\n",
    "\n",
    "You just tested positive. What are your chances of having the disease?"
   ]
  },
  {
   "cell_type": "markdown",
   "metadata": {
    "slideshow": {
     "slide_type": "slide"
    }
   },
   "source": [
    "### Solution\n",
    "\n",
    "We have two events to work with:\n",
    "\n",
    "**A** : patient has the disease  \n",
    "**B** : patient tests positive  \n",
    "\n",
    "The information about the test's effectiveness can be written:\n",
    "\n",
    "$ P(A) = .001 $\n",
    "\n",
    "$ P(B|A) = .99 $\n",
    "\n",
    "$ P(B|A^c) = .02 $\n",
    "\n",
    "\n",
    "$ P(A|B) = ?$\n",
    "\n",
    "#### Let's draw a tree.."
   ]
  },
  {
   "cell_type": "markdown",
   "metadata": {
    "slideshow": {
     "slide_type": "notes"
    }
   },
   "source": [
    "(tree diagram)"
   ]
  },
  {
   "cell_type": "markdown",
   "metadata": {
    "slideshow": {
     "slide_type": "slide"
    }
   },
   "source": [
    "|            | &nbsp; &nbsp; &nbsp;  &nbsp; &nbsp; &nbsp; A &nbsp; &nbsp; &nbsp;  &nbsp; &nbsp; &nbsp; | &nbsp; &nbsp; &nbsp;  &nbsp; &nbsp; not A &nbsp; &nbsp; &nbsp;  &nbsp; &nbsp; |  &nbsp; &nbsp; sum  &nbsp; &nbsp; |\n",
    "| ----------:| ------------ | ------------------ | ---- |\n",
    "|     **B** | $P(A\\cap B)$  | $P(A^c \\cap B)$    | $P(B)$ |\n",
    "| **not B** | $P(A \\cap B^c)$ | $P(A^c \\cap B^c)$ | $P(B^c)$ \n",
    "|           | $P(A)$           | $P(A^c)$           | $1$"
   ]
  },
  {
   "cell_type": "markdown",
   "metadata": {
    "slideshow": {
     "slide_type": "slide"
    }
   },
   "source": [
    "$ P(A \\cap B) = P(B|A)P(A) = (.99)(.001) = .00099 $  \n",
    "$ P(A^c \\cap B) = P(B|A^c)P(A^c) = (.02)(.999) = .01998 $\n",
    "\n",
    "\n",
    "Let's fill in some of these numbers:  \n",
    "\n",
    "|            | &nbsp; &nbsp; &nbsp;  &nbsp; &nbsp; &nbsp; A &nbsp; &nbsp; &nbsp;  &nbsp; &nbsp; &nbsp; | &nbsp; &nbsp; &nbsp;  &nbsp; &nbsp; not A &nbsp; &nbsp; &nbsp;  &nbsp; &nbsp; |  &nbsp; &nbsp; sum  &nbsp; &nbsp; |\n",
    "| ----------:| ------------ | ------------------ | ---- |\n",
    "|     **B** | $.00099$        | $.01998$             | $.02097$    |\n",
    "| **not B** | $P(A \\cap B^c)$   | $P(A^c \\cap B^c)$   | $P(B^c)$ |\n",
    "|           | $.001$          | $.999$               | $1$         |"
   ]
  },
  {
   "cell_type": "markdown",
   "metadata": {
    "slideshow": {
     "slide_type": "slide"
    }
   },
   "source": [
    "arithmetic gives us the rest:  \n",
    "\n",
    "|           | A              | not A              | sum  |\n",
    "| ---------:| -------------- | ------------------ | ---- |\n",
    "|     **B** | $.00099$       | $.01998$           | $.02097$ |\n",
    "| **not B** | $.00001$       | $.97902$           | $.98903$ \n",
    "|           | $.001$         | $.999$             | $1.0$\n",
    "\n",
    "From which we directly derive: <BR /><BR />\n",
    "$$ P(A|B) = \\frac{P(A \\cap B)}{P(B)} = \\frac{.00099}{.02097} = .0472 $$"
   ]
  },
  {
   "cell_type": "markdown",
   "metadata": {
    "slideshow": {
     "slide_type": "slide"
    }
   },
   "source": [
    "## Chain Rule for Probability\n",
    "\n",
    "We can write any joint probability as incremental product of conditional probabilities,\n",
    "\n",
    "$ P(A_1 \\cap A_2) = P(A_1)P(A_2 | A_1) $\n",
    "\n",
    "\n",
    "$ P(A_1 \\cap A_2 \\cap A_3) = P(A_1)P(A_2 | A_1)P(A_3 | A_2 \\cap A_1) $\n",
    "\n",
    "\n",
    "In general, for $n$ events $A_1, A_2, \\dots, A_n$, we have  \n",
    "\n",
    "$ P (A_1 \\cap A_2 \\cap \\dots \\cap A_n) = P(A_1)P(A_2 | A_1) \\dots P(A_n | A_{n-1} \\cap \\dots \\cap A_1) $"
   ]
  }
 ],
 "metadata": {
  "anaconda-cloud": {},
  "celltoolbar": "Slideshow",
  "kernelspec": {
   "display_name": "Python [Root]",
   "language": "python",
   "name": "Python [Root]"
  },
  "language_info": {
   "codemirror_mode": {
    "name": "ipython",
    "version": 3
   },
   "file_extension": ".py",
   "mimetype": "text/x-python",
   "name": "python",
   "nbconvert_exporter": "python",
   "pygments_lexer": "ipython3",
   "version": "3.5.2"
  }
 },
 "nbformat": 4,
 "nbformat_minor": 0
}
