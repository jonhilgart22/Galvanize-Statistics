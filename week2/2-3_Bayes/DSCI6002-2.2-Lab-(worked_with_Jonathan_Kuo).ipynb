{
 "cells": [
  {
   "cell_type": "markdown",
   "metadata": {},
   "source": [
    "# Lab 2.2: Conditional Probability, Bayes Law and the Chain Rule"
   ]
  },
  {
   "cell_type": "markdown",
   "metadata": {},
   "source": [
    "## Exercises\n",
    "\n",
    "**1).** A Store Manager wants to understand how his customers use different payment methods, and suspects that the size of the purchase is a major deciding factor. He organizes the table below.\n",
    "\n",
    "|                   | Cash | Debit | Credit |\n",
    "|-------------------|:----:|------:|--------|\n",
    "| Under &#36;20     |  400 |   150 | 150    |\n",
    "| &#36;20 - &#36;50 |  200 |  1200 | 800    |\n",
    "| Over &#36;50      |  100 |   600 |1400    |\n",
    "\n",
    "a) Given that a customer spent over $50, what's the probability that the customer used a credit card?  \n",
    "\n",
    "b) Given that a customer paid in cash, what's the probability that the customer spent less than $20?  \n",
    "\n",
    "c) What's the probability that a customer spent under $20 using cash?  "
   ]
  },
  {
   "cell_type": "markdown",
   "metadata": {},
   "source": [
    "# Question One\n",
    "\n",
    "a) P( credit card | spent over  50) = P( credit card AND spent over 50) / P ( spent over 50) = 1400 / (1400 + 600 + 100)\n",
    "= 66.67%\n",
    "\n",
    "b) P( spent less than 20 | paid in cash) = P( spent less than 20 AND paid in cash) / p (paid in cash) = 400/700= 57%\n",
    "\n",
    "c) P( spent under 20  AND cash ) / total customers = 400 / 5000 = .08 or 8%"
   ]
  },
  {
   "cell_type": "markdown",
   "metadata": {},
   "source": [
    "**2).** Suppose 80% of people like peanut butter, 89% like jelly, and 78% like both. Given that a randomly sampled person likes peanut butter, what's the probability that he also likes jelly?"
   ]
  },
  {
   "cell_type": "markdown",
   "metadata": {},
   "source": [
    "# Question Two\n",
    "\n",
    "P( peanut butter) = .8\n",
    "P( jelly ) =.89\n",
    "P( peanut butter AND jelly) = .78\n",
    "\n",
    "P(  jelly     | peanut butter)   = P( jelly AND peanut butter) / P(peanut butter) = .78 / .8 = 97.5%"
   ]
  },
  {
   "cell_type": "markdown",
   "metadata": {},
   "source": [
    "**3).** The Behavioral Risk Factor Surveillance System (BRFSS) is an annual telephone survey designed to identify risk factors in the adult population and report emerging health trends. The following table displays the distribution of health status of respondents to this survey (excellent, very good, good, fair, poor) conditional on whether or not they have health insurance.\n",
    "\n",
    "<img src=\"images/q3.png\" width=\"700\">  \n",
    "\n",
    "(a) Are being in excellent health and having health coverage mutually exclusive?  \n",
    "\n",
    "(b) What is the probability that a randomly chosen individual has excellent health?  \n",
    "\n",
    "(c) What is the probability that a randomly chosen individual has excellent health given that he\n",
    "has health coverage?  \n",
    "\n",
    "(d) What is the probability that a randomly chosen individual has excellent health given that he\n",
    "doesn't have health coverage?  \n",
    "\n",
    "(e) Do having excellent health and having health coverage appear to be independent?  \n"
   ]
  },
  {
   "cell_type": "markdown",
   "metadata": {},
   "source": [
    "# Question Three\n",
    "\n",
    "a) They are not mutually exclusive because the joint probability does not equal 0 it equals 20.99%\n",
    "\n",
    "b) The probability that a randomly chosen individual has excellent health is the sum of\n",
    "P( excellent health AND health coverage)  + P(excellent health AND no coverage) = .2329\n",
    "\n",
    "\n",
    "c) P(excellent health | health coverage) = P(excellent health AND health coverage) / P(health coverage) = .2099 / .8738 = .24 , 24%\n",
    "\n",
    "d) P( excellent health | no health coverage) = P(excellent health AND no health coverage) / P (no health coverage) = .0230/ .1262 = .182 or 18.2%\n",
    "\n",
    "e) P( excellent health | health care) = P(excellent health ) - the test for independence\n",
    "\n",
    "P( excellent health | health care) = P(excellent health AND health care) / P( health care) = .2099 / .8738 = .24%\n",
    "\n",
    "P( excellent health) - .2329  != .24  -P( excellent health | health care) .24\n",
    "\n",
    "\n",
    "P(excellent health AND health care)  = P(excellent) $*$ P( health care) = .2329 * .8738 = .2035 != .2099 (Health care and excellent)\n",
    "\n",
    "Since these two ways of testing independence are NOT equal, these two events are NOT independent.\n",
    "\n"
   ]
  },
  {
   "cell_type": "code",
   "execution_count": 1,
   "metadata": {
    "collapsed": false
   },
   "outputs": [
    {
     "data": {
      "text/plain": [
       "0.18631322"
      ]
     },
     "execution_count": 1,
     "metadata": {},
     "output_type": "execute_result"
    }
   ],
   "source": []
  },
  {
   "cell_type": "markdown",
   "metadata": {},
   "source": [
    "**4).** A gSchool grad is looking for her first job!  Given that she is freaked out, her chances of not getting an offer are 70%.  Given that she isn't freaked out, her chances of not getting an offer are 30%.  Suppose that the probability that she's freaked out is 80%. What's the probability that she gets an offer?"
   ]
  },
  {
   "cell_type": "markdown",
   "metadata": {},
   "source": [
    "P( no offer | freak out) = .7   \n",
    "P ( offer | freaked out) = 1-.7 = .3\n",
    "\n",
    "P( no offer | not freak out) = .3\n",
    "P( offer | not freak out) = 1 - .3 = .7\n",
    "P(freaked out) = .8\n",
    "P(not freaked out) = .2\n",
    "\n",
    "\n",
    "P(offer) =  P( offer | not freak out) $*$ P( not freak out) + P ( offer | freaked out) $*$ P(freaked out)\n",
    "= (.7) $*$ (.2) + (.3) $*$ (.8)\n",
    "\n",
    "=.14 + .24 = .38 = 38%"
   ]
  },
  {
   "cell_type": "markdown",
   "metadata": {},
   "source": [
    "**5).** Google decides to do random drug tests for heroin on their employees. They know that 3% of their population uses heroin. The drug test has the following accuracy: The test correctly identifies 95% of the heroin users (sensitivity) and 90% of the non-users (specificity).\n",
    "\n",
    "|                | Uses heroin | Doesn't use heroin |\n",
    "|----------------|------------:|-------------------:|\n",
    "| Tests positive |        0.95 |               0.10 |\n",
    "| Tests negative |        0.05 |               0.90 |\n",
    "\n",
    "   Alice gets tested and the test comes back positive. What is the probability\n",
    "   that she uses heroin?"
   ]
  },
  {
   "cell_type": "markdown",
   "metadata": {},
   "source": [
    "# Question Five\n",
    "\n",
    "P( use heroin) = .03\n",
    "P( use heroin AND positive ) = .95\n",
    "P( no heroin AND negative ) = .90\n",
    "\n",
    "\n",
    "P ( use heroin | positive) = P ( positive | use heroin) $*$ P(use heroin) / P( positive) = \n",
    "\n",
    "(.95) $*$(.03) / ( .03 $*$ .95 + .97 $*$ .1) \n",
    "=  .227 or 22.7%\n",
    "\n"
   ]
  },
  {
   "cell_type": "markdown",
   "metadata": {},
   "source": [
    "**6).** A genetic test is used to determine if people have a predisposition for thrombosis, which is the formation of a blood clot inside a blood vessel that obstructs the flow of blood through the circulatory system. It is believed that 3% of people actually have this predisposition. The genetic test is 99% accurate if a person actually has the predisposition, meaning that the probability of a positive test result when a person actually has the predisposition is 0.99. The test is 98% accurate if a person does not have the predisposition.  \n",
    "\n",
    "What is the probability that a randomly selected person who tests positive for the predisposition by the test actually has the predisposition?"
   ]
  },
  {
   "cell_type": "markdown",
   "metadata": {},
   "source": [
    "P( disease) = .03\n",
    "P( no diease) = .97\n",
    "P( positive | disease ) = .99\n",
    "P( not positive | disease) = .01\n",
    "P( negative | no disease) = .98\n",
    "P( positive | no disease) = .02\n",
    "\n",
    "\n",
    "P(  disease | positive) = P( positive | disease) $*$ P( disease)  / P(positive) =\n",
    "(.99) $*$ (.03) /[ (.99) $*$ (.03) + (.02) $*$ (.97) \n",
    "= .605  or 60.5% "
   ]
  },
  {
   "cell_type": "code",
   "execution_count": 4,
   "metadata": {
    "collapsed": false
   },
   "outputs": [
    {
     "data": {
      "text/plain": [
       "0.6048879837067209"
      ]
     },
     "execution_count": 4,
     "metadata": {},
     "output_type": "execute_result"
    }
   ],
   "source": [
    "((.99) * (.03) ) /( (.99) * (.03) + (.02) * (.97) )"
   ]
  },
  {
   "cell_type": "markdown",
   "metadata": {},
   "source": [
    "**7).** About 30% of human twins are identical, and the rest are fraternal. Identical twins are necessarily the same sex - half are males and the other half are females. One-quarter of fraternal twins are both male, one-quarter both female, and one-half are mixes: one male, one female. You have just become a parent of twins and are told they are both girls. Given this information, what is the probability that they are identical?"
   ]
  },
  {
   "cell_type": "markdown",
   "metadata": {},
   "source": [
    "P( identical twins) = .3\n",
    "P( fraternal twins) = .7\n",
    "P( both males | identical twins) = .5\n",
    "P (both females | identical twins) = .5\n",
    "P( both males | fraternal twins) = .25\n",
    "P (both females | franternal twins) = .25\n",
    "P (mixed | fraternal twins) = .5\n",
    "\n",
    "\n",
    "P( identical | both females) = P (both females | identical ) $*$ P ( identical)  / P(both females) =\n",
    "(.5) *  (.3) / (.5) $*$ (.3) + (.25)$*$(.7)\n",
    "= .46\n"
   ]
  },
  {
   "cell_type": "code",
   "execution_count": 7,
   "metadata": {
    "collapsed": false
   },
   "outputs": [
    {
     "data": {
      "text/plain": [
       "0.46153846153846156"
      ]
     },
     "execution_count": 7,
     "metadata": {},
     "output_type": "execute_result"
    }
   ],
   "source": [
    "(.5) *  (.3) / ((.5) * (.3) + (.25)*(.7))"
   ]
  },
  {
   "cell_type": "markdown",
   "metadata": {},
   "source": [
    "**8).** The Birthday Problem.  Suppose there are 23 students in a data science class, lined up in a single file line.  \n",
    "    Let $A_i$ be the probability that the $i^{th}$ person doesn't have the same birthday as the $j^{th}$ person for any $j < i$.  \n",
    "    Use the chain rule from probability to calculate the probability that at least 2 people share the same birthday in the class. "
   ]
  },
  {
   "cell_type": "markdown",
   "metadata": {},
   "source": [
    "A1 = A2  means that student A1 and student A2 share the same birthday\n",
    "\n",
    "The probability that nobody shares a birthday is Ai.\n",
    "\n",
    "1/365 = probability of a birthday per person\n",
    "\n",
    "1-Ai  = 1-(A23 AND A22 AND ... A1) = \n",
    "\n",
    "1 - (365/365 * 364/365 * 363/365 * ... * 342/365) = .51 or 51% chance\n",
    "\n",
    "\n",
    "\n",
    "\n",
    "\n",
    "\n"
   ]
  },
  {
   "cell_type": "code",
   "execution_count": 33,
   "metadata": {
    "collapsed": false
   },
   "outputs": [
    {
     "data": {
      "text/plain": [
       "0.0014364512118834245"
      ]
     },
     "execution_count": 33,
     "metadata": {},
     "output_type": "execute_result"
    }
   ],
   "source": [
    "#(math.factorial(365)/(math.factorial(365-22)))/ (365**23)"
   ]
  },
  {
   "cell_type": "markdown",
   "metadata": {},
   "source": [
    "\n",
    "\n",
    "**9).** Alice and Bob want to choose between the opera and the movies by tossing a coin. Unfortunately, the only coin they have is biased, though the bias is not known exactly. How can they use the biased coin to make a decision so that either option (opera or movies) is equally likely to be chosen?"
   ]
  },
  {
   "cell_type": "markdown",
   "metadata": {},
   "source": [
    "If you have a biased coin, but you do not know the bais, you should take a large number of trials (ideally 100) to determine the bias of the coin. After you have established the bias of the coin, you should flip the coin a number of times greater than one and weight the results by the inverse of the ratio of the coin sides.\n",
    "\n",
    "For example, if P(H) = .2 and P(T) = .8 (after trials),    and you flip the coin five times and receive the set [ H,T,T,T,T,T,T,T,T,T].\n",
    "\n",
    "\n",
    "Take the ratio of H (1/10) multipled by the inverse ratio of H :T (4) = 4/10 = .40\n",
    "Take the ratio of T ( 9/10) multipled by the inverse of the bais (1/4) = 9/40 =.225\n",
    "\n",
    "Therefore, you should go with whichever options corresponds to heads.\n",
    "\n"
   ]
  },
  {
   "cell_type": "code",
   "execution_count": null,
   "metadata": {
    "collapsed": false
   },
   "outputs": [],
   "source": []
  },
  {
   "cell_type": "code",
   "execution_count": null,
   "metadata": {
    "collapsed": true
   },
   "outputs": [],
   "source": []
  }
 ],
 "metadata": {
  "anaconda-cloud": {},
  "kernelspec": {
   "display_name": "Python [Root]",
   "language": "python",
   "name": "Python [Root]"
  },
  "language_info": {
   "codemirror_mode": {
    "name": "ipython",
    "version": 3
   },
   "file_extension": ".py",
   "mimetype": "text/x-python",
   "name": "python",
   "nbconvert_exporter": "python",
   "pygments_lexer": "ipython3",
   "version": "3.5.2"
  }
 },
 "nbformat": 4,
 "nbformat_minor": 0
}
