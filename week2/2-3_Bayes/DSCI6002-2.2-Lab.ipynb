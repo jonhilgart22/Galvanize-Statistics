{
 "cells": [
  {
   "cell_type": "markdown",
   "metadata": {},
   "source": [
    "# Lab 2.2: Conditional Probability, Bayes Law and the Chain Rule"
   ]
  },
  {
   "cell_type": "markdown",
   "metadata": {},
   "source": [
    "## Exercises\n",
    "\n",
    "**1).** A Store Manager wants to understand how his customers use different payment methods, and suspects that the size of the purchase is a major deciding factor. He organizes the table below.\n",
    "\n",
    "|                   | Cash | Debit | Credit |\n",
    "|-------------------|:----:|------:|--------|\n",
    "| Under &#36;20     |  400 |   150 | 150    |\n",
    "| &#36;20 - &#36;50 |  200 |  1200 | 800    |\n",
    "| Over &#36;50      |  100 |   600 |1400    |\n",
    "\n",
    "a) Given that a customer spent over $50, what's the probability that the customer used a credit card?  \n",
    "\n",
    "b) Given that a customer paid in cash, what's the probability that the customer spent less than $20?  \n",
    "\n",
    "c) What's the probability that a customer spent under $20 using cash?  "
   ]
  },
  {
   "cell_type": "markdown",
   "metadata": {},
   "source": [
    "**2).** Suppose 80% of people like peanut butter, 89% like jelly, and 78% like both. Given that a randomly sampled person likes peanut butter, what's the probability that he also likes jelly?"
   ]
  },
  {
   "cell_type": "markdown",
   "metadata": {},
   "source": [
    "**3).** The Behavioral Risk Factor Surveillance System (BRFSS) is an annual telephone survey designed to identify risk factors in the adult population and report emerging health trends. The following table displays the distribution of health status of respondents to this survey (excellent, very good, good, fair, poor) conditional on whether or not they have health insurance.\n",
    "\n",
    "<img src=\"images/q3.png\" width=\"700\">  \n",
    "\n",
    "(a) Are being in excellent health and having health coverage mutually exclusive?  \n",
    "\n",
    "(b) What is the probability that a randomly chosen individual has excellent health?  \n",
    "\n",
    "(c) What is the probability that a randomly chosen individual has excellent health given that he\n",
    "has health coverage?  \n",
    "\n",
    "(d) What is the probability that a randomly chosen individual has excellent health given that he\n",
    "doesn't have health coverage?  \n",
    "\n",
    "(e) Do having excellent health and having health coverage appear to be independent?  \n"
   ]
  },
  {
   "cell_type": "markdown",
   "metadata": {},
   "source": [
    "**4).** A gSchool grad is looking for her first job!  Given that she is freaked out, her chances of not getting an offer are 70%.  Given that she isn't freaked out, her chances of not getting an offer are 30%.  Suppose that the probability that she's freaked out is 80%. What's the probability that she gets an offer?"
   ]
  },
  {
   "cell_type": "markdown",
   "metadata": {},
   "source": [
    "**5).** Google decides to do random drug tests for heroin on their employees. They know that 3% of their population uses heroin. The drug test has the following accuracy: The test correctly identifies 95% of the heroin users (sensitivity) and 90% of the non-users (specificity).\n",
    "\n",
    "|                | Uses heroin | Doesn't use heroin |\n",
    "|----------------|------------:|-------------------:|\n",
    "| Tests positive |        0.95 |               0.10 |\n",
    "| Tests negative |        0.05 |               0.90 |\n",
    "\n",
    "   Alice gets tested and the test comes back positive. What is the probability\n",
    "   that she uses heroin?"
   ]
  },
  {
   "cell_type": "markdown",
   "metadata": {},
   "source": [
    "**6).** A genetic test is used to determine if people have a predisposition for thrombosis, which is the formation of a blood clot inside a blood vessel that obstructs the flow of blood through the circulatory system. It is believed that 3% of people actually have this predisposition. The genetic test is 99% accurate if a person actually has the predisposition, meaning that the probability of a positive test result when a person actually has the predisposition is 0.99. The test is 98% accurate if a person does not have the predisposition.  \n",
    "\n",
    "What is the probability that a randomly selected person who tests positive for the predisposition by the test actually has the predisposition?"
   ]
  },
  {
   "cell_type": "markdown",
   "metadata": {},
   "source": [
    "**7).** About 30% of human twins are identical, and the rest are fraternal. Identical twins are necessarily the same sex - half are males and the other half are females. One-quarter of fraternal twins are both male, one-quarter both female, and one-half are mixes: one male, one female. You have just become a parent of twins and are told they are both girls. Given this information, what is the probability that they are identical?"
   ]
  },
  {
   "cell_type": "markdown",
   "metadata": {},
   "source": [
    "**8).** The Birthday Problem.  Suppose there are 23 students in a data science class, lined up in a single file line.  \n",
    "    Let $A_i$ be the probability that the $i^{th}$ person doesn't have the same birthday as the $j^{th}$ person for any $j < i$.  \n",
    "    Use the chain rule from probability to calculate the probability that at least 2 people share the same birthday in the class. "
   ]
  },
  {
   "cell_type": "markdown",
   "metadata": {},
   "source": [
    "**9).** Alice and Bob want to choose between the opera and the movies by tossing a coin. Unfortunately, the only coin they have is biased, though the bias is not known exactly. How can they use the biased coin to make a decision so that either option (opera or movies) is equally likely to be chosen?"
   ]
  }
 ],
 "metadata": {
  "anaconda-cloud": {},
  "kernelspec": {
   "display_name": "Python [Root]",
   "language": "python",
   "name": "Python [Root]"
  },
  "language_info": {
   "codemirror_mode": {
    "name": "ipython",
    "version": 3
   },
   "file_extension": ".py",
   "mimetype": "text/x-python",
   "name": "python",
   "nbconvert_exporter": "python",
   "pygments_lexer": "ipython3",
   "version": "3.5.1"
  }
 },
 "nbformat": 4,
 "nbformat_minor": 0
}
