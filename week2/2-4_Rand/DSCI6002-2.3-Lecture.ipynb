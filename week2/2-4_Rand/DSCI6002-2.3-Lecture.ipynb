{
 "cells": [
  {
   "cell_type": "markdown",
   "metadata": {
    "slideshow": {
     "slide_type": "slide"
    }
   },
   "source": [
    "# Lecture 2.3: Introduction to Random Variables"
   ]
  },
  {
   "cell_type": "markdown",
   "metadata": {
    "slideshow": {
     "slide_type": "slide"
    }
   },
   "source": [
    "## Outline\n",
    "\n",
    "* What is a random variable?\n",
    "* What is the probability mass function of a discrete random variable?\n",
    "* Difference between sample statistics and population parameter\n",
    "* The mean and variance of a discrete random variable\n",
    "* The mean and variance of a transformed random variable\n",
    "* Adding two independent random variables"
   ]
  },
  {
   "cell_type": "markdown",
   "metadata": {
    "slideshow": {
     "slide_type": "slide"
    }
   },
   "source": [
    "## Introducing Random Variables\n",
    "\n",
    "### Review of Experiment\n",
    "\n",
    "* Suppose that we flip a coin 10 times and count the number of times the coin turns up heads\n",
    "* This is an example of a **random experiment**: an experiment whose outcome is not known until it is observed\n",
    "* Generally, an experiment is any procedure that can, at least in theory, be infinitely repeated and has a well-defined set of outcomes\n",
    "* Before we flip the coin, we know that the number of heads appearing is an integer from 0 to 10, so the outcomes of the experiment are well defined"
   ]
  },
  {
   "cell_type": "markdown",
   "metadata": {
    "slideshow": {
     "slide_type": "slide"
    }
   },
   "source": [
    "**Turning Letters into Numbers**\n",
    "\n",
    "* We’ve been studying statements like $P(A)$ or $P(B|A)$. That is, probability of different events happening.\n",
    "    * 'Things that happen' are sets, also called events.\n",
    "    * We measure chance by measuring sets, using a measure called probability.\n",
    "* But many things in the real world are easier explained using numerical outcomes.\n",
    "* The concept of random variables enables us to talk about the probability of numerical outcomes."
   ]
  },
  {
   "cell_type": "markdown",
   "metadata": {
    "slideshow": {
     "slide_type": "slide"
    }
   },
   "source": [
    "#### Example\n",
    "\n",
    "We might have all these different sample spaces:\n",
    "\n",
    "$\\Omega = \\{head, tail\\}$; $\\Omega = \\{same, different\\}$; $\\Omega = \\{boy, girl\\}$\n",
    "\n",
    "We can represent these sample spaces more concisely in terms of numbers:\n",
    "\n",
    "$\\Omega = \\{0, 1\\}$\n",
    "\n",
    "There are also many random experiments that genuinely produce random numbers as their outcomes.\n",
    "    \n",
    "* _e.g._ the number of heads from 10 tosses of a coin; the number of girls in a three-child family; and so on."
   ]
  },
  {
   "cell_type": "markdown",
   "metadata": {
    "slideshow": {
     "slide_type": "slide"
    }
   },
   "source": [
    "When the outcome of a random experiment is a number, it enables us to quantify many new things of interest:\n",
    "\n",
    "1. quantify the average value (e.g. the average number of heads we would get if we made 10 coin-tosses again and again)\n",
    "2. quantify how much the outcomes tend to diverge from the average value\n",
    "3. quantify relationships between different random quantities (e.g. is the number of girls related to the hormone levels of the fathers?)"
   ]
  },
  {
   "cell_type": "markdown",
   "metadata": {
    "slideshow": {
     "slide_type": "slide"
    }
   },
   "source": [
    "### Defining a Random Variable\n",
    "\n",
    "* A random variable is a function from a sample space $\\Omega$ to the real numbers $R$.\n",
    "* We write $X: \\Omega \\rightarrow R$.\n",
    "* Intuitively, a random variable is a rule or function that translates the outcomes of a probability experiment into numbers"
   ]
  },
  {
   "cell_type": "markdown",
   "metadata": {
    "slideshow": {
     "slide_type": "subslide"
    }
   },
   "source": [
    "* This definition serves two purposes:\n",
    "    * Describing many different sample spaces in the same terms:\n",
    "        * e.g. $\\Omega = \\{0, 1\\}$ with $P(1) = p$ and $P(0) = 1 - p$ describes EVERY possible experiment with two outcomes.\n",
    "    * Giving a name to a large class of random experiments that genuinely produce random numbers, and for which we want to develop general rules for finding averages, variances, relationships, and so on."
   ]
  },
  {
   "cell_type": "markdown",
   "metadata": {
    "slideshow": {
     "slide_type": "slide"
    }
   },
   "source": [
    "#### Example\n",
    "\n",
    "Toss a coin 3 times. The sample space is  \n",
    "$\\Omega = \\{HHH, HHT, HTH, HTT, THH, THT, TTH, TTT\\}$  \n",
    "\n",
    "One example of a random variable is $X: \\Omega \\rightarrow R$ such that, for sample point $s_i$, we have $X(s_i) = number \\ heads \\ in \\ outcome \\ s_i$.\n",
    "\n",
    "So $X(HHH) = 3$; $X(THT) = 1$, etc.\n",
    "\n",
    "Another example is $Y: \\Omega \\rightarrow R$ such that $Y(s_i)=\n",
    "\\begin{cases}\n",
    "    1, & \\text{if 2nd toss is a head}\\\\\n",
    "    0, & \\text{otherwise}\n",
    "\\end{cases}$\n",
    "\n",
    "Then $Y(HTH) = 0$, $Y(THH) = 1$, $Y(HHH) = 1$, etc."
   ]
  },
  {
   "cell_type": "markdown",
   "metadata": {
    "slideshow": {
     "slide_type": "slide"
    }
   },
   "source": [
    "#### Notation\n",
    "\n",
    "By convention, we use CAPITAL LETTERS for random variables (e.g. $X$), and lower case letters to represent the values that the random variable takes (e.g. $x$).\n",
    "\n",
    "For a sample space $\\Omega$ and random variable $X: \\Omega \\rightarrow R$, and for a real number $x$, $P(X = x) = P(\\text{outcome s is such that }X(s) = x) = P(\\{s : X(s) = x\\})$."
   ]
  },
  {
   "cell_type": "markdown",
   "metadata": {
    "slideshow": {
     "slide_type": "slide"
    }
   },
   "source": [
    "#### Example\n",
    "\n",
    "Toss a fair coin 3 times. All outcomes are equally likely: $P(HHH) = P(HHT) = . . .= P(TTT) = 1/8$.\n",
    "\n",
    "Let $X: \\Omega \\rightarrow R$, such that $X(s) = \\text{# heads in } s$. Then,\n",
    "\n",
    "$P(X = 0) = P(\\{TTT\\}) = 1/8$ \n",
    "\n",
    "$P(X = 1) = P(\\{HTT, THT, TTH\\}) = 3/8$  \n",
    "\n",
    "$P(X = 2) = P(\\{HHT, HTH, THH\\}) = 3/8$\n",
    "\n",
    "$P(X = 3) = P(\\{HHH\\}) = 1/8$  \n",
    "\n",
    "Note that $P(X = 0) + P(X = 1) + P(X = 2) + P(X = 3) = 1$.  "
   ]
  },
  {
   "cell_type": "markdown",
   "metadata": {
    "slideshow": {
     "slide_type": "slide"
    }
   },
   "source": [
    "### Discrete vs Continuous\n",
    "\n",
    "* **Discrete random variables** can assume only a finite or limited set of values\n",
    "    * e.g. the coin tossing example\n",
    "\n",
    "* **Continuous random variables** can assume any one of an infinite set of values\n",
    "    * e.g. how long I have to wait before the bus comes"
   ]
  },
  {
   "cell_type": "markdown",
   "metadata": {
    "slideshow": {
     "slide_type": "slide"
    }
   },
   "source": [
    "#### More Examples\n",
    "\n",
    "<img src=\"images/example1.png\">"
   ]
  },
  {
   "cell_type": "markdown",
   "metadata": {
    "slideshow": {
     "slide_type": "subslide"
    }
   },
   "source": [
    "<img src=\"images/example2.png\">"
   ]
  },
  {
   "cell_type": "markdown",
   "metadata": {
    "slideshow": {
     "slide_type": "slide"
    }
   },
   "source": [
    "### Probability Distribution\n",
    "\n",
    "* A **probability distribution** is a rule according to which probability is apportioned, or distributed, among the different sets in the sample space.\n",
    "\n",
    "* At its simplest, a probability distribution just lists every element in the sample space and allots it a probability between 0 and 1, such that the total sum of probabilities is 1.\n",
    "\n",
    "* E.g. for a single coin toss, $P(heads) = 0.5$, $P(tails) = 0.5$"
   ]
  },
  {
   "cell_type": "markdown",
   "metadata": {
    "slideshow": {
     "slide_type": "slide"
    }
   },
   "source": [
    "#### Discrete Probability Distributions\n",
    "\n",
    "Let $\\Omega = \\{s_1, s_2, \\dots\\}$ be a discrete sample space.  \n",
    "A discrete probability distribution on $\\Omega$ is a set of real numbers $\\{p_1, p_2, \\dots\\}$ associated with the sample points $\\{s_1, s_2, \\dots\\}$ such that:\n",
    "\n",
    "$$0 \\leq p_i \\leq 1 \\text{ for all } i$$  \n",
    "\n",
    "and  \n",
    "\n",
    "$$\\sum_i p_i = 1$$  \n",
    "\n",
    "$p_i$ is called the probability of the event that the outcome is $s_i$.  \n",
    "\n",
    "We write: $p_i = P(s_i)$.  "
   ]
  },
  {
   "cell_type": "markdown",
   "metadata": {
    "slideshow": {
     "slide_type": "subslide"
    }
   },
   "source": [
    "The rule for measuring the probability of any set, or event, $A \\subseteq \\Omega$, is to sum the probabilities of the elements of $A$:  \n",
    "\n",
    "$$P(A) = \\sum_{i \\in A} p_i$$  \n",
    "\n",
    "E.g. if $A = \\{s_3, s_5, s_{14}\\}$, then $P(A) = p_3 + p_5 + p_{14}$."
   ]
  },
  {
   "cell_type": "markdown",
   "metadata": {
    "slideshow": {
     "slide_type": "slide"
    }
   },
   "source": [
    "#### Continous Probability Distributions\n",
    "\n",
    "On a continuous sample space $\\Omega$, e.g. $\\Omega = [0, 1]$, we can not list all the elements and give them an individual probability. We will need more sophisticated methods detailed later in the course.  \n",
    "\n",
    "However, the same principle applies. A continuous probability distribution is a\n",
    "rule under which we can calculate a probability between 0 and 1 for any set, or\n",
    "event, $A \\subseteq \\Omega$."
   ]
  },
  {
   "cell_type": "markdown",
   "metadata": {
    "slideshow": {
     "slide_type": "slide"
    }
   },
   "source": [
    "#### Coin Toss Example\n",
    "\n",
    "Sample Space: $\\Omega = \\{\\text{heads, tails}\\} = \\{1, 0\\}$\n",
    "\n",
    "Random variable $X = \n",
    "\\begin{cases}\n",
    "    1, & \\text{if it's heads}\\\\\n",
    "    0, & \\text{otherwise}\n",
    "\\end{cases}$\n",
    "\n",
    "Assuming we are using a fair coin, the probability distribution of X is:\n",
    "\n",
    "|x        |  0  |  1  |\n",
    "|:--------|:---:|:---:|\n",
    "|P(X = x) | 0.5 | 0.5 |"
   ]
  },
  {
   "cell_type": "markdown",
   "metadata": {
    "slideshow": {
     "slide_type": "slide"
    }
   },
   "source": [
    "* **Probability mass function (PMF)**: It tells us the probability that a **discrete** random variable $X$ is exatly equal to a certain value. We define it as \n",
    "\n",
    "$$ f_X (x) = P (X = x) $$\n",
    "\n",
    "* **Cumulative distribution function (CDF)**: It gives us the probability that a random variable $X$ is less than or equal to a certain value. We define it as\n",
    "\n",
    "$$ F_X (x) = P( X \\leq x) $$"
   ]
  },
  {
   "cell_type": "markdown",
   "metadata": {
    "slideshow": {
     "slide_type": "slide"
    }
   },
   "source": [
    "## Sample vs Population\n",
    "\n",
    "Last week, we had mostly been working with samples. When we want to find out something about a population, we take a sample from that population, analysis the sample and make inference about the population that the sample comes from.\n",
    "\n",
    "It is important to be very clear about whether we are working with a sample or a populations. Here are some distinctions interms of notations.\n",
    "\n",
    "| Measure | Sample Statistics (Data) | Population Parameter (X Random Variable) |\n",
    "|---------|---------------|--------------------------------|\n",
    "|Mean     | $\\bar{x}$     | $E(X)$ or $\\mu$ (Expectation)  |\n",
    "|Variance | $s^2$         | $Var(X) \\text{ or } \\sigma^2$  |\n",
    "|Standard Deviation | $s$ | $SD(X)$ or $\\sigma$                       |\n",
    "\n",
    "As the sample size $n$ increases, the sample statistics will converge to the values of the population parameters."
   ]
  },
  {
   "cell_type": "markdown",
   "metadata": {
    "slideshow": {
     "slide_type": "slide"
    }
   },
   "source": [
    "### Expectation / Mean\n",
    "\n",
    "For now we will assume $X$ is a discrete random variable.  \n",
    "If random variable $X$ takes outcomes $x_1, x_2, \\dots, x_k$ with probabilities $P(X = x_1), P(X = x_2), \\dots, P(X = x_k)$, the expectation (or mean) of $X$ is,  \n",
    "\n",
    "$$ E(X) = \\mu = \\sum_{i = 1}^k x_i P(X = x_i) $$\n",
    "\n",
    "In contract, for a sample of values from X, $x_1, x_2, \\dots, x_n$, the sample mean is,\n",
    "\n",
    "$$ \\bar{x} = \\frac{1}{n} \\sum_{i = 1}^n x_i $$"
   ]
  },
  {
   "cell_type": "markdown",
   "metadata": {
    "slideshow": {
     "slide_type": "subslide"
    }
   },
   "source": [
    "Note: in the first equation, $x_1, \\dots, x_k$ are all the possible outcomes $X$ can take, while in the second equation $x_1, \\dots, x_n$ are actual realizations of $X$ (the actually numbers we draw from the distribution of $X$), so they are very different."
   ]
  },
  {
   "cell_type": "markdown",
   "metadata": {
    "slideshow": {
     "slide_type": "slide"
    }
   },
   "source": [
    "#### Example\n",
    "\n",
    "Let's use the single coin toss example again.  \n",
    "\n",
    "$X = \n",
    "\\begin{cases}\n",
    "    1, & \\text{if it's heads}\\\\\n",
    "    0, & \\text{otherwise}\n",
    "\\end{cases}$\n",
    "\n",
    "Assuming we are using a fair coin, what is the mean of $X$ (or $E(X)$)?"
   ]
  },
  {
   "cell_type": "markdown",
   "metadata": {
    "slideshow": {
     "slide_type": "fragment"
    }
   },
   "source": [
    "$$E(X) = \\mu = \\sum_{i = 1}^k x_i P(X = x_i) = 0 \\times 0.5 + 1 \\times 0.5 = 0.5 $$"
   ]
  },
  {
   "cell_type": "markdown",
   "metadata": {
    "slideshow": {
     "slide_type": "slide"
    }
   },
   "source": [
    "#### A Betting Example\n",
    "\n",
    "Find the expected value of each of the following bets:  \n",
    "\n",
    "a) you get \\$5 with probability 1.0.  \n",
    "b) you get \\$10 with probability 0.5, or \\$0 with probability 0.5.  \n",
    "c) you get \\$5 with probability 0.5, \\$10 with probability 0.25 and \\$0 with probability 0.25.  \n",
    "d) you get \\$5 with probability 0.5, \\$105 with probability 0.25 or lose \\$95 with probability 0.25.  \n",
    "\n",
    "Which bet is the best bet ?"
   ]
  },
  {
   "cell_type": "markdown",
   "metadata": {
    "slideshow": {
     "slide_type": "slide"
    }
   },
   "source": [
    "### Variance\n",
    "\n",
    "The variance for random variable $X$ is,\n",
    "\n",
    "$$ \\sigma^2 = \\sum_{i = 1}^k (x_i - \\mu)^2 P(X = x_i) $$\n",
    "\n",
    "In contrast, the sample variance is,\n",
    "\n",
    "$$ s^2 = \\frac{1}{n - 1} \\sum_{i = 1}^n (x_i - \\bar{x})^2 $$"
   ]
  },
  {
   "cell_type": "markdown",
   "metadata": {
    "slideshow": {
     "slide_type": "slide"
    }
   },
   "source": [
    "#### Example\n",
    "\n",
    "Let's continue with the coin toss example and calculate the variance of $X$.\n",
    "\n",
    "|x        |  0  |  1  |\n",
    "|:--------|:---:|:---:|\n",
    "|P(X = x) | 0.5 | 0.5 |"
   ]
  },
  {
   "cell_type": "markdown",
   "metadata": {
    "slideshow": {
     "slide_type": "fragment"
    }
   },
   "source": [
    "$$ \\sigma^2 = \\sum_{i = 1}^k (x_i - \\mu)^2 P(X = x_i) = (0 - 0.5)^2 \\times 0.5 + (1 - 0.5)^2 \\times 0.5 = 0.25 $$"
   ]
  },
  {
   "cell_type": "markdown",
   "metadata": {
    "slideshow": {
     "slide_type": "slide"
    }
   },
   "source": [
    "### Transforming X\n",
    "\n",
    "If we let $Y = a X + b$, then for $Y$, we have\n",
    "\n",
    "* $ E(Y) = a E(X) + b $   \n",
    "\n",
    "\n",
    "\n",
    "* $ Var(Y) = a^2 Var(X) $    \n",
    "\n",
    "\n",
    "\n",
    "* $ SD(Y) = |a| SD(X) $  "
   ]
  },
  {
   "cell_type": "markdown",
   "metadata": {
    "slideshow": {
     "slide_type": "slide"
    }
   },
   "source": [
    "### Adding Random Variables\n",
    "\n",
    "If we let $Z = X + Y$, then for $Z$, we have\n",
    "\n",
    "* $E(Z) = E(X) + E(Y)$\n",
    "\n",
    "If $X$ and $Y$ are **independent**,\n",
    "\n",
    "* $Var(Z) = Var(X) + Var (Y)$"
   ]
  },
  {
   "cell_type": "markdown",
   "metadata": {
    "slideshow": {
     "slide_type": "slide"
    }
   },
   "source": [
    "If $Z$ is a linear combination of $X$ and $Y$, i.e. $Z = a X + b Y$, then\n",
    "\n",
    "* $E(Z) = a E(X) + b E(Y)$\n",
    "\n",
    "And if $X$ and $Y$ are **independent**,\n",
    "\n",
    "* $Var(Z) = a^2 Var(X) + b^2 Var(Y)$ "
   ]
  },
  {
   "cell_type": "markdown",
   "metadata": {
    "slideshow": {
     "slide_type": "slide"
    }
   },
   "source": [
    "#### Example\n",
    "\n",
    "Let $X$ and $Y$ be the number of heads from two independent coin flips, and $Z = X + Y$, calculate $E(Z)$ and $Var(Z)$."
   ]
  }
 ],
 "metadata": {
  "anaconda-cloud": {},
  "celltoolbar": "Slideshow",
  "kernelspec": {
   "display_name": "Python [Root]",
   "language": "python",
   "name": "Python [Root]"
  },
  "language_info": {
   "codemirror_mode": {
    "name": "ipython",
    "version": 3
   },
   "file_extension": ".py",
   "mimetype": "text/x-python",
   "name": "python",
   "nbconvert_exporter": "python",
   "pygments_lexer": "ipython3",
   "version": "3.5.2"
  }
 },
 "nbformat": 4,
 "nbformat_minor": 0
}
