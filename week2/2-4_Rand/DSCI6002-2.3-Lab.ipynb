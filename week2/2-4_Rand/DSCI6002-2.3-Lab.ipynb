{
 "cells": [
  {
   "cell_type": "markdown",
   "metadata": {},
   "source": [
    "# Lab Exercises"
   ]
  },
  {
   "cell_type": "markdown",
   "metadata": {},
   "source": [
    "1) Let random variable $X$ be the number we get when we roll a die,    \n",
    "    1. Write out the probability mass function of X.     \n",
    "    2. Calculate the mean of X.  \n",
    "    3. Calculate the variance of X.  "
   ]
  },
  {
   "cell_type": "markdown",
   "metadata": {},
   "source": []
  },
  {
   "cell_type": "markdown",
   "metadata": {},
   "source": [
    "2) Use either `randint` or `random_sample` to generate a series of 20 rolls. Use `.mean()` and `.var()` to calculate the sample mean and variance. How do these compare to the population mean and variance you calculated above? What if you increase the number of rolls to 2000. Are your estimates closer to the true statistics or further away?"
   ]
  },
  {
   "cell_type": "code",
   "execution_count": null,
   "metadata": {
    "collapsed": true
   },
   "outputs": [],
   "source": []
  },
  {
   "cell_type": "markdown",
   "metadata": {},
   "source": [
    "3) Now we have two dice, and X and Y are the numbers appear on each die respectively. Let Z be the sum of the numbers from the two dice,  \n",
    "    1. Write out the probability mass function of Z.  \n",
    "    2. Calculate the mean of Z.  \n",
    "    3. Calculate the variance of Z."
   ]
  },
  {
   "cell_type": "markdown",
   "metadata": {},
   "source": []
  },
  {
   "cell_type": "markdown",
   "metadata": {},
   "source": [
    "4) Do the same as in (2) but with two dice as in (3). Again, check to see how $N$, the number of samples, affects your result."
   ]
  },
  {
   "cell_type": "code",
   "execution_count": null,
   "metadata": {
    "collapsed": true
   },
   "outputs": [],
   "source": []
  },
  {
   "cell_type": "markdown",
   "metadata": {},
   "source": [
    "5) Find the variance of each of the following bets from the class notes. Which bet is riskiest and which best is safest (where \"risk\" is assessed according to variance, not expected value)?\n",
    "\n",
    "1. You get \\$5 with probability 1.0.  \n",
    "2. You get \\$10 with probability 0.5, or \\$0 with probability 0.5.  \n",
    "3. You get \\$5 with probability 0.5, \\$10 with probability 0.25 and \\$0 with probability 0.25.  \n",
    "4. You get \\$5 with probability 0.5, \\$105 with probability 0.25 or lose \\$95 with probability 0.25.  "
   ]
  },
  {
   "cell_type": "markdown",
   "metadata": {},
   "source": []
  },
  {
   "cell_type": "markdown",
   "metadata": {},
   "source": [
    "6) Brandon Lang is a creative entrepreneur who has developed a novelty soap item called Jackpot to target consumers with a gambling habit. Inside each bar of Jackpot shower soap is a single rolled-up bill of U.S. currency. The currency (rolled up and sealed in shrink-wrap) is appropriately inserted into the soap mixture prior to the cutting and stamping procedure. The distribution of paper currency (per 1000 bars of soap) is given in the following table.  \n",
    "\n",
    "|   Bill Denomination   |   Number of Bills |\n",
    "|:---------------------:|:-----------------:|\n",
    "|\\$1                     | 520 |\n",
    "|\\$5                     | 260 |\n",
    "|\\$10                    | 120 |\n",
    "|\\$20                    | 70  |\n",
    "|\\$50                    | 29  |  \n",
    "|\\$100                   | 1   |\n",
    "| Total                  | 1000|\n",
    "\n",
    "1. What is the expected amount of money in a single bar of Jackpot soap?\n",
    "2. What is the standard deviation of the money in a single bar of Jackpot soap?\n",
    "3. How many bars of soap would a customer have to buy so that, on average, he or she has purchased three bars   containing a \\$50 or \\$100 bill?\n",
    "4. If a customer buys 8 bars of soap, what is the probability that at least one of these bars contains a bill of \\$20 or larger? "
   ]
  },
  {
   "cell_type": "markdown",
   "metadata": {},
   "source": []
  },
  {
   "cell_type": "markdown",
   "metadata": {},
   "source": [
    "7) Write a function that randomly draws from the above distribution. \n",
    "\n",
    "1. Use it to simulate the answer to part 3 of the last question at least 20 times. How often do you get the expected result? \n",
    "2. Use it to simulate part 4 of the last question 100 times. How close does your simulation come to the true expected value?"
   ]
  },
  {
   "cell_type": "code",
   "execution_count": null,
   "metadata": {
    "collapsed": true
   },
   "outputs": [],
   "source": []
  },
  {
   "cell_type": "code",
   "execution_count": null,
   "metadata": {
    "collapsed": true
   },
   "outputs": [],
   "source": []
  },
  {
   "cell_type": "code",
   "execution_count": null,
   "metadata": {
    "collapsed": true
   },
   "outputs": [],
   "source": []
  },
  {
   "cell_type": "markdown",
   "metadata": {},
   "source": [
    "8) (Extra Credit) Think back to the coin tossing example we discussed at the beginning of the lecture, if we let $X$ be the number of heads we get from 10 coin tosses, what is the probability mass function of $X$? What are the mean and variance of $X$? (**Note**: You are not required to complete this problem, so don't spend too much time on this. This is just to get you to start thinking about the probabilities of events when we have multiple trials of an experiment - we will talk about this on Monday.)"
   ]
  },
  {
   "cell_type": "markdown",
   "metadata": {},
   "source": []
  }
 ],
 "metadata": {
  "anaconda-cloud": {},
  "kernelspec": {
   "display_name": "Python [Root]",
   "language": "python",
   "name": "Python [Root]"
  },
  "language_info": {
   "codemirror_mode": {
    "name": "ipython",
    "version": 3
   },
   "file_extension": ".py",
   "mimetype": "text/x-python",
   "name": "python",
   "nbconvert_exporter": "python",
   "pygments_lexer": "ipython3",
   "version": "3.5.1"
  }
 },
 "nbformat": 4,
 "nbformat_minor": 0
}
