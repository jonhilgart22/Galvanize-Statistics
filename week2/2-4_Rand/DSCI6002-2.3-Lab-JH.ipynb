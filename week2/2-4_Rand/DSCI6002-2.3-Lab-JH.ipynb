{
 "cells": [
  {
   "cell_type": "markdown",
   "metadata": {},
   "source": [
    "# Lab Exercises"
   ]
  },
  {
   "cell_type": "markdown",
   "metadata": {},
   "source": [
    "1) Let random variable $X$ be the number we get when we roll a die,    \n",
    "    1. Write out the probability mass function of X.     \n",
    "    2. Calculate the mean of X.  \n",
    "    3. Calculate the variance of X.  "
   ]
  },
  {
   "cell_type": "markdown",
   "metadata": {},
   "source": [
    "**Probabiliy mass function**\n",
    "\n",
    "|x        |  1  |  2  |  3  |  4  |  5  |  6  |\n",
    "|:--------|:---:|:---:|:---:|:---:|:---:|:---:|\n",
    "|P(X = x) | 1/6 | 1/6 |1/6  | 1/6 |1/6  | 1/6 |\n",
    "\n",
    "\n",
    "\n",
    "**mean of X**\n",
    "E(X) = 1$*$P(X=1) + 2$*$P(X=2) + 3$*$P(X=3) + 4 $*$ P(X=4) + 5$*$ P(X=5) + 6$*$P(X=6)\n",
    "\n",
    "E(X) = 3.5\n",
    "\n",
    "**variance of X**\n",
    "E^2(X) = (1-3.5)^2$*$P(X=1) + (2-3.5)^2$*$P(X=2) + (3-3.5)^2 $*$ P(X=3) + (4-3.5)^2$*$ P(X=4) + (5-3.5)^2$*$ P(X=5) +(6-3.5)^2$*$P(X=6)\n",
    "\n",
    "E^2(X) = 2.92"
   ]
  },
  {
   "cell_type": "markdown",
   "metadata": {},
   "source": [
    "2) Use either `randint` or `random_sample` to generate a series of 20 rolls. Use `.mean()` and `.var()` to calculate the sample mean and variance. How do these compare to the population mean and variance you calculated above? What if you increase the number of rolls to 2000. Are your estimates closer to the true statistics or further away?"
   ]
  },
  {
   "cell_type": "code",
   "execution_count": 1,
   "metadata": {
    "collapsed": true
   },
   "outputs": [],
   "source": [
    "import numpy as np\n"
   ]
  },
  {
   "cell_type": "code",
   "execution_count": 68,
   "metadata": {
    "collapsed": true
   },
   "outputs": [],
   "source": [
    "def roll_dice(number_of_rolls):\n",
    "    \"\"\"roll a die this many of times\"\"\"\n",
    "    \n",
    "    rolls = [np.random.randint(1,7) for _ in range(number_of_rolls)]\n",
    "    \n",
    "    mean = np.mean(rolls)\n",
    "    variance = np.var(rolls)\n",
    "    \n",
    "    print(\"The mean of {} rolls is {}:\".format(number_of_rolls,mean)) \n",
    "    print(\"The variance of {} rolls is {}:\".format(number_of_rolls,variance))\n",
    "    \n",
    "    #return rolls"
   ]
  },
  {
   "cell_type": "code",
   "execution_count": 70,
   "metadata": {
    "collapsed": false
   },
   "outputs": [
    {
     "name": "stdout",
     "output_type": "stream",
     "text": [
      "The mean of 20 rolls is 4.1:\n",
      "The variance of 20 rolls is 3.69:\n",
      "The mean of 2000 rolls is 3.5105:\n",
      "The variance of 2000 rolls is 2.9248897499999997:\n"
     ]
    }
   ],
   "source": [
    "roll_dice(20)\n",
    "roll_dice(2000)\n",
    "#As you increase the number of rolls, your estimates move closer to the true statistics value."
   ]
  },
  {
   "cell_type": "markdown",
   "metadata": {},
   "source": [
    "3) Now we have two dice, and X and Y are the numbers appear on each die respectively. Let Z be the sum of the numbers from the two dice,  \n",
    "    1. Write out the probability mass function of Z.  \n",
    "    2. Calculate the mean of Z.  \n",
    "    3. Calculate the variance of Z."
   ]
  },
  {
   "cell_type": "markdown",
   "metadata": {},
   "source": [
    "# Question Three\n",
    "\n",
    "\n",
    "**Probabiliy mass function**\n",
    "\n",
    "|x         |  2  |  3  |  4  |  5     |  6  | 7   |  8  |  9  |  10  |  11  |  12  |\n",
    "|:--------|:---:|:---:|:---: |:---:   |:---:|:---:|:---:|:---:|:---:|:---:|:---:|\n",
    "|P(Z = z) | 1/36 |2/36  | 3/36 | 4/36 | 5/36 |6/36|5/36 | 4/36|3/36 |2 / 36| 1/36 |\n",
    "\n",
    "\n",
    "**mean of Z**\n",
    "\n",
    "E(Z) = 2$*$(1/36)+3$*$(2/36)+4$*$(3/36)+5$*$(4/36)+6$*$(5/36)+7$*$(6/36)8$*$(5/36)+9$*$(4/26)+10$*$(3/36)+11$*$(2/36)+12$*$ (1/36)\n",
    "\n",
    "E(Z) =  7.0\n",
    "\n",
    "**variance of Z**\n",
    "\n",
    "(2-7)$*$(1/36)+ (3-7)$*$(2/36)+(4-7)$*$(3/36)+ (5-7)$*$(4/36)+(6-7)$*$(5/36)+(7-7)$*$(6/36)+(8-7)$*$(5/36) +(9-7)$*$(4/26)+(10-7)$*$(3/36) +(11-7)$*$(2/36)+(12-7)$*$ (1/36)\n",
    "\n",
    "Var(Z) = 5.83\n"
   ]
  },
  {
   "cell_type": "markdown",
   "metadata": {},
   "source": [
    "4) Do the same as in (2) but with two dice as in (3). Again, check to see how $N$, the number of samples, affects your result."
   ]
  },
  {
   "cell_type": "code",
   "execution_count": 54,
   "metadata": {
    "collapsed": false
   },
   "outputs": [],
   "source": [
    "def roll_two_dice(number_of_times):\n",
    "    \"\"\"roll two dice. Roll each one individualy and then add each roll together\"\"\"\n",
    "    \n",
    "    dice_one = [np.random.randint(1,7) for _ in range(number_of_times)]\n",
    "    dice_two = [np.random.randint(1,7) for _ in range(number_of_times)]\n",
    "    \n",
    "    combined_roll=[(x+y) for (x,y) in zip(dice_one,dice_two)]\n",
    "    \n",
    "    print('Your mean is {} for {} rolls'.format(np.mean(combined_roll),number_of_times))\n",
    "    print('Your variance is {} for {} rolls'.format(np.var(combined_roll),number_of_times))\n",
    "        \n"
   ]
  },
  {
   "cell_type": "code",
   "execution_count": 75,
   "metadata": {
    "collapsed": false
   },
   "outputs": [
    {
     "name": "stdout",
     "output_type": "stream",
     "text": [
      "Your mean is 7.55 for 20 rolls\n",
      "Your variance is 5.7475000000000005 for 20 rolls\n",
      "Your mean is 6.987 for 2000 rolls\n",
      "Your variance is 6.016831 for 2000 rolls\n"
     ]
    }
   ],
   "source": [
    "roll_two_dice(20)\n",
    "roll_two_dice(2000)\n",
    "#As you increase the number of rolls, your statistics move closer to the true population value"
   ]
  },
  {
   "cell_type": "markdown",
   "metadata": {},
   "source": [
    "5) Find the variance of each of the following bets from the class notes. Which bet is riskiest and which best is safest (where \"risk\" is assessed according to variance, not expected value)?\n",
    "\n",
    "1. You get \\$5 with probability 1.0.  \n",
    "2. You get \\$10 with probability 0.5, or \\$0 with probability 0.5.  \n",
    "3. You get \\$5 with probability 0.5, \\$10 with probability 0.25 and \\$0 with probability 0.25.  \n",
    "4. You get \\$5 with probability 0.5, \\$105 with probability 0.25 or lose \\$95 with probability 0.25.  "
   ]
  },
  {
   "cell_type": "markdown",
   "metadata": {},
   "source": [
    "# Question\n",
    "\n"
   ]
  },
  {
   "cell_type": "markdown",
   "metadata": {},
   "source": [
    "6) Brandon Lang is a creative entrepreneur who has developed a novelty soap item called Jackpot to target consumers with a gambling habit. Inside each bar of Jackpot shower soap is a single rolled-up bill of U.S. currency. The currency (rolled up and sealed in shrink-wrap) is appropriately inserted into the soap mixture prior to the cutting and stamping procedure. The distribution of paper currency (per 1000 bars of soap) is given in the following table.  \n",
    "\n",
    "|   Bill Denomination   |   Number of Bills |\n",
    "|:---------------------:|:-----------------:|\n",
    "|\\$1                     | 520 |\n",
    "|\\$5                     | 260 |\n",
    "|\\$10                    | 120 |\n",
    "|\\$20                    | 70  |\n",
    "|\\$50                    | 29  |  \n",
    "|\\$100                   | 1   |\n",
    "| Total                  | 1000|\n",
    "\n",
    "1. What is the expected amount of money in a single bar of Jackpot soap?\n",
    "2. What is the standard deviation of the money in a single bar of Jackpot soap?\n",
    "3. How many bars of soap would a customer have to buy so that, on average, he or she has purchased three bars   containing a \\$50 or \\$100 bill?\n",
    "4. If a customer buys 8 bars of soap, what is the probability that at least one of these bars contains a bill of \\$20 or larger? "
   ]
  },
  {
   "cell_type": "markdown",
   "metadata": {},
   "source": []
  },
  {
   "cell_type": "markdown",
   "metadata": {},
   "source": [
    "7) Write a function that randomly draws from the above distribution. \n",
    "\n",
    "1. Use it to simulate the answer to part 3 of the last question at least 20 times. How often do you get the expected result? \n",
    "2. Use it to simulate part 4 of the last question 100 times. How close does your simulation come to the true expected value?"
   ]
  },
  {
   "cell_type": "code",
   "execution_count": 82,
   "metadata": {
    "collapsed": true
   },
   "outputs": [],
   "source": [
    "import numpy as np\n",
    "import itertools "
   ]
  },
  {
   "cell_type": "markdown",
   "metadata": {
    "collapsed": true
   },
   "source": []
  },
  {
   "cell_type": "code",
   "execution_count": 416,
   "metadata": {
    "collapsed": false
   },
   "outputs": [],
   "source": [
    "def distribution(n):\n",
    "    numbers =[np.random.choice([1,5,10,20,50,100],p=[.52,.26,.12,.07,.029,.001]) for _ in range(n)]\n",
    "    \n",
    "    if len(numbers) ==1:\n",
    "        for item in numbers:\n",
    "            return(int(item))\n",
    "    else:\n",
    "        return numbers\n",
    "    \n",
    "def pick_value (number_of_bars,*args):\n",
    "    \"\"\"Will return the number of purchases it took to have a number of bars of your desired value\"\"\"\n",
    "    \n",
    "    \n",
    "    value_of_bars = args\n",
    "    count_of_draws = 0\n",
    "    count_of_bars_with_value_we_want = 0\n",
    "    \n",
    "    while count_of_bars_with_value_we_want<number_of_bars:  ##keep purchasing bars until you reach the number you want\n",
    "        choice = distribution(1)\n",
    "        #print(type(choice))\n",
    "        #print(choice, ' this is your choice')\n",
    "   \n",
    "        if choice == value_of_bars[0] or choice ==value_of_bars[1]:\n",
    "            #print('choice should equal item')\n",
    "            count_of_draws+=1\n",
    "            count_of_bars_with_value_we_want +=1\n",
    "        else:\n",
    "            count_of_draws+=1\n",
    "                \n",
    "    \n",
    "\n",
    "    #print(count_of_draws,'number of bar purchases')\n",
    "    #print(count_of_bars_with_value_we_want, ' bars we want with denomination {}'.format(value_of_bars))\n",
    "    return count_of_draws\n",
    "    "
   ]
  },
  {
   "cell_type": "code",
   "execution_count": 417,
   "metadata": {
    "collapsed": false
   },
   "outputs": [
    {
     "data": {
      "text/plain": [
       "110"
      ]
     },
     "execution_count": 417,
     "metadata": {},
     "output_type": "execute_result"
    }
   ],
   "source": [
    "pick_value(3,50,100)"
   ]
  },
  {
   "cell_type": "code",
   "execution_count": 420,
   "metadata": {
    "collapsed": false
   },
   "outputs": [
    {
     "name": "stdout",
     "output_type": "stream",
     "text": [
      "122.05\n"
     ]
    }
   ],
   "source": [
    "simulate_q_3 =[pick_value(3,50,100) for item in range(20)]\n",
    "\n",
    "print(np.mean(simulate_q_3))"
   ]
  },
  {
   "cell_type": "markdown",
   "metadata": {},
   "source": [
    "# Question seven\n",
    "\n",
    "The mean should be the expected value of the list of picking three bars of soap with values 50  or  100. The mean should center around the expected value of 100 (which it does)."
   ]
  },
  {
   "cell_type": "code",
   "execution_count": 410,
   "metadata": {
    "collapsed": false
   },
   "outputs": [],
   "source": [
    "#If a customer buys 8 bars of soap,\n",
    "#what is the probability that at least one of these bars contains a bill of $20 or larger?\n",
    "\n",
    "def twenty_or_larger(purchases):\n",
    "    \"\"\"how many purchases will have bars with values of 20 or more\"\"\"\n",
    "    numbers =[np.random.choice([1,5,10,20,50,100],p=[.52,.26,.12,.07,.029,.001]) for _ in range(purchases)]\n",
    "    count = 0\n",
    "    for item in numbers:\n",
    "        if item >=20:\n",
    "            count +=1\n",
    "    return count/purchases"
   ]
  },
  {
   "cell_type": "code",
   "execution_count": 411,
   "metadata": {
    "collapsed": false
   },
   "outputs": [
    {
     "data": {
      "text/plain": [
       "0.125"
      ]
     },
     "execution_count": 411,
     "metadata": {},
     "output_type": "execute_result"
    }
   ],
   "source": [
    "twenty_or_larger(8)"
   ]
  },
  {
   "cell_type": "markdown",
   "metadata": {},
   "source": [
    "# Question seven part two\n",
    "\n",
    "The probability that you receive at least on soap bar of $20 or more is 12.5%"
   ]
  },
  {
   "cell_type": "markdown",
   "metadata": {},
   "source": [
    "# 8)\n",
    "(Extra Credit) Think back to the coin tossing example we discussed at the beginning of the lecture, if we let $X$ be the number of heads we get from 10 coin tosses, what is the probability mass function of $X$? What are the mean and variance of $X$? (**Note**: You are not required to complete this problem, so don't spend too much time on this. This is just to get you to start thinking about the probabilities of events when we have multiple trials of an experiment - we will talk about this on Monday.)"
   ]
  },
  {
   "cell_type": "markdown",
   "metadata": {},
   "source": [
    "The binomial distribution is n! / ( (n-x)!$*$x!) $*$ p ^x  q ^(n-x)"
   ]
  },
  {
   "cell_type": "markdown",
   "metadata": {},
   "source": [
    "PDF\n",
    "\n",
    "X=1  -> 10! /$ ((10-1)!*1!)*.5^1*.5^9$\n",
    "\n",
    "X=2 -> 10! /$ ((10-2)!*2!)*.5^2*.5^8$\n",
    "\n",
    "X=3  -> 10! /$ ((10-3)!*3!)*.5^3*.5^7$\n",
    "\n",
    "X=4 -> 10! /$ ((10-4)!*4!)*.5^4*.5^6$\n",
    "\n",
    "X=5 -> 10! /$ ((10-5)!*5!)*.5^5*.5^5$\n",
    "\n",
    "X=6 -> 10! /$ ((10-6)!*6!)*.5^6*.5^4$\n",
    "\n",
    "X=7-> 10! /$ ((10-7)!*7!)*.5^7*.5^3$\n",
    "\n",
    "X=8-> 10! /$ ((10-8)!*8!)*.5^8*.5^2$\n",
    "\n",
    "X=9-> 10! /$ ((10-9)!*9!)*.5^9*.5^1$\n",
    "\n",
    "X=10 -> 10! /$ ((10-10)!*9!)*.5^9*.5^1$\n",
    " "
   ]
  },
  {
   "cell_type": "code",
   "execution_count": null,
   "metadata": {
    "collapsed": true
   },
   "outputs": [],
   "source": []
  }
 ],
 "metadata": {
  "anaconda-cloud": {},
  "kernelspec": {
   "display_name": "Python [Root]",
   "language": "python",
   "name": "Python [Root]"
  },
  "language_info": {
   "codemirror_mode": {
    "name": "ipython",
    "version": 3
   },
   "file_extension": ".py",
   "mimetype": "text/x-python",
   "name": "python",
   "nbconvert_exporter": "python",
   "pygments_lexer": "ipython3",
   "version": "3.5.2"
  }
 },
 "nbformat": 4,
 "nbformat_minor": 0
}
