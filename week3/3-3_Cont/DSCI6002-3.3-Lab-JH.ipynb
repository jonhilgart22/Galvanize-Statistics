{
 "cells": [
  {
   "cell_type": "markdown",
   "metadata": {},
   "source": [
    "# Lab 3.3: Continuous Distributions\n",
    "\n",
    "## Outline\n",
    "\n",
    "* Simulate and plot continuous distributions\n",
    "* Calculate probabilities of events based on PDF and CDF\n",
    "* Model data using continuous distributions"
   ]
  },
  {
   "cell_type": "markdown",
   "metadata": {},
   "source": [
    "## Simulate and Plot\n",
    "\n",
    "The Normal distribution is an important distribution for modeling in general. This is because a lot of pheonomena converge to the Normal distribution when the sample size is large. We will cover the convergence to\n",
    "the Normal distribution later in the week.\n",
    "\n",
    "### Example: Height of the California population\n",
    "\n",
    "Say I want to model the height the California population. The mean height is 177.8 cm and the standard deviation is 10 cm. \n",
    "\n",
    "Here we will model the height with a normal distribution\n",
    "\n",
    "Let $X$ be the height of the California population:\n",
    "\n",
    "$X \\sim Normal(177.8, 10^2)$"
   ]
  },
  {
   "cell_type": "markdown",
   "metadata": {},
   "source": [
    "As usual, we import the necessary libraries in Python"
   ]
  },
  {
   "cell_type": "code",
   "execution_count": 1,
   "metadata": {
    "collapsed": false
   },
   "outputs": [
    {
     "name": "stdout",
     "output_type": "stream",
     "text": [
      "Populating the interactive namespace from numpy and matplotlib\n"
     ]
    }
   ],
   "source": [
    "%pylab inline"
   ]
  },
  {
   "cell_type": "code",
   "execution_count": 2,
   "metadata": {
    "collapsed": true
   },
   "outputs": [],
   "source": [
    "import pandas as pd\n",
    "import yaml\n",
    "\n",
    "from scipy import stats\n",
    "from sqlalchemy import create_engine\n",
    "\n",
    "pg_creds = yaml.load(open('../../pg_creds.yaml'))['student']\n",
    "\n",
    "engine = create_engine('postgresql://{user}:{password}@{host}:{port}/{dbname}'.format(**pg_creds))"
   ]
  },
  {
   "cell_type": "markdown",
   "metadata": {},
   "source": [
    "- Here we define the distribution (Note that SciPy defines a Normal distribution with mean and standard deviation, instead of mean and variance)"
   ]
  },
  {
   "cell_type": "code",
   "execution_count": 3,
   "metadata": {
    "collapsed": false
   },
   "outputs": [],
   "source": [
    "height_normal_dist = stats.norm(177.8, 10)"
   ]
  },
  {
   "cell_type": "markdown",
   "metadata": {},
   "source": [
    "- To see the spread of the data we sample 5000 points and plot a histogram of data"
   ]
  },
  {
   "cell_type": "code",
   "execution_count": 4,
   "metadata": {
    "collapsed": false
   },
   "outputs": [
    {
     "data": {
      "image/png": "[encoded data removed]",
      "text/plain": [
       "<matplotlib.figure.Figure at 0x114c86470>"
      ]
     },
     "metadata": {},
     "output_type": "display_data"
    }
   ],
   "source": [
    "height_sample = height_normal_dist.rvs(5000)\n",
    "hist(height_sample, bins=50, normed=True)\n",
    "xlabel('Height (cm)')\n",
    "ylabel('Probability');"
   ]
  },
  {
   "cell_type": "markdown",
   "metadata": {},
   "source": [
    "### Lab Exercise 1: Battery Life Time\n",
    "\n",
    "The life time of battery can be interpreted as the wait time before the occurrence of an event. Therefore we can model the phenomenon as an Exponential distribution\n",
    "\n",
    "We know the mean life time of the battery is 72.4 hours. The mean of the exponential distribution is $\\frac{1}{\\lambda}$\n",
    "\n",
    "Therefore, $\\lambda =  \\frac{1}{72.4}$\n",
    "\n",
    "Let $Y$ be the life time of the battery:\n",
    "\n",
    "$Y \\sim Exponential(\\frac{1}{72.4})$"
   ]
  },
  {
   "cell_type": "markdown",
   "metadata": {},
   "source": [
    "1) Define the distribution in `scipy`. Note: `scipy` defines `scale` already as $\\frac{1}{\\lambda}$, so we don't need to inverse it here"
   ]
  },
  {
   "cell_type": "code",
   "execution_count": 5,
   "metadata": {
    "collapsed": false
   },
   "outputs": [
    {
     "name": "stdout",
     "output_type": "stream",
     "text": [
      "<scipy.stats._distn_infrastructure.rv_frozen object at 0x10a65a978>\n"
     ]
    }
   ],
   "source": [
    "battery_life = stats.expon(scale=72.4)\n",
    "\n",
    "\n",
    "print(battery_life)"
   ]
  },
  {
   "cell_type": "markdown",
   "metadata": {},
   "source": [
    "2) Sample data from the distribution and visualize the spread"
   ]
  },
  {
   "cell_type": "code",
   "execution_count": 22,
   "metadata": {
    "collapsed": false
   },
   "outputs": [
    {
     "data": {
      "text/plain": [
       "<matplotlib.text.Text at 0x11828e208>"
      ]
     },
     "execution_count": 22,
     "metadata": {},
     "output_type": "execute_result"
    },
    {
     "data": {
      "image/png": "[encoded data removed]",
      "text/plain": [
       "<matplotlib.figure.Figure at 0x118476c88>"
      ]
     },
     "metadata": {},
     "output_type": "display_data"
    }
   ],
   "source": [
    "plt.plot(stats.expon.pdf(np.arange(1000),loc = 0,scale =72.4))\n",
    "plt.xlabel('x-values')\n",
    "plt.ylabel('density')\n",
    "plt.title('Exponential Battery Life')"
   ]
  },
  {
   "cell_type": "markdown",
   "metadata": {},
   "source": [
    "## Calculate probabilities of events based on PDF and CDF"
   ]
  },
  {
   "cell_type": "markdown",
   "metadata": {},
   "source": [
    "### Example: Height of the California population\n",
    "\n",
    "_Continuing our example above with the height of the California population:_\n",
    "\n",
    "How can we find out the probability of a person having a height of 180cm? \n",
    "\n",
    "- In theory, the probability of having an exact value in a continuous variable is 0\n",
    "- You can think of the probability of 180 as the probability of falling in the range of 180 $\\pm \\epsilon$ where $\\epsilon$ is a infinitesimally small number  "
   ]
  },
  {
   "cell_type": "code",
   "execution_count": 7,
   "metadata": {
    "collapsed": false
   },
   "outputs": [
    {
     "data": {
      "text/plain": [
       "7.7880751643610857e-05"
      ]
     },
     "execution_count": 7,
     "metadata": {},
     "output_type": "execute_result"
    }
   ],
   "source": [
    "# For example\n",
    "\n",
    "height_normal_dist.cdf(180.001) - height_normal_dist.cdf(179.999)"
   ]
  },
  {
   "cell_type": "markdown",
   "metadata": {},
   "source": [
    "Let's find the probability of being 140cm or shorter. To do this we use the CDF function."
   ]
  },
  {
   "cell_type": "code",
   "execution_count": 8,
   "metadata": {
    "collapsed": false
   },
   "outputs": [
    {
     "data": {
      "text/plain": [
       "7.8414179383584631e-05"
      ]
     },
     "execution_count": 8,
     "metadata": {},
     "output_type": "execute_result"
    }
   ],
   "source": [
    "height_normal_dist.cdf(140)"
   ]
  },
  {
   "cell_type": "markdown",
   "metadata": {},
   "source": [
    "Finally, let's find out the probability of having a height of between 120cm and 140cm. To do that we compute the CDF of 120cm and 140cm and subtract the former from the latter"
   ]
  },
  {
   "cell_type": "code",
   "execution_count": 9,
   "metadata": {
    "collapsed": false
   },
   "outputs": [
    {
     "data": {
      "text/plain": [
       "7.8410444352314387e-05"
      ]
     },
     "execution_count": 9,
     "metadata": {},
     "output_type": "execute_result"
    }
   ],
   "source": [
    "height_normal_dist.cdf(140) - height_normal_dist.cdf(120)"
   ]
  },
  {
   "cell_type": "markdown",
   "metadata": {},
   "source": [
    "### Lab Exercise 2: Battery Life Time\n",
    "\n",
    "_Continuing our example above with Battery Life Time_\n"
   ]
  },
  {
   "cell_type": "markdown",
   "metadata": {},
   "source": [
    "1) What is the probability of having battery life more than 300 hours? "
   ]
  },
  {
   "cell_type": "code",
   "execution_count": 10,
   "metadata": {
    "collapsed": false
   },
   "outputs": [
    {
     "data": {
      "text/plain": [
       "0.015864896009157858"
      ]
     },
     "execution_count": 10,
     "metadata": {},
     "output_type": "execute_result"
    }
   ],
   "source": [
    "1-stats.expon.cdf(299.99999999,loc = 0,scale =72.4)"
   ]
  },
  {
   "cell_type": "markdown",
   "metadata": {},
   "source": [
    "2) What is the probability of having battery life between 50 and 100 hours? "
   ]
  },
  {
   "cell_type": "code",
   "execution_count": 11,
   "metadata": {
    "collapsed": false
   },
   "outputs": [
    {
     "data": {
      "text/plain": [
       "0.24999838370366045"
      ]
     },
     "execution_count": 11,
     "metadata": {},
     "output_type": "execute_result"
    }
   ],
   "source": [
    "stats.expon.cdf(100,loc = 0,scale =72.4)-stats.expon.cdf(50,loc = 0,scale =72.4)"
   ]
  },
  {
   "cell_type": "markdown",
   "metadata": {},
   "source": [
    "## Model data using continuous distributions"
   ]
  },
  {
   "cell_type": "markdown",
   "metadata": {},
   "source": [
    "As we have done with discrete distributions, we can also model data with continuous distributions.\n",
    "\n",
    "Here we have rainfall data for January for 140 years (`rainfall` in our RDS). We want to model the data with a continuous distribution. Which of the distributions below are appropriate.\n",
    "\n",
    "<img src=\"images/choose_distribution.png\" width=\"600px\">"
   ]
  },
  {
   "cell_type": "markdown",
   "metadata": {},
   "source": [
    "**Gamma** and **Normal** are appropriate candidates since they are continuous distributions."
   ]
  },
  {
   "cell_type": "markdown",
   "metadata": {},
   "source": [
    "- Let's read the data into a dataframe and select the January column"
   ]
  },
  {
   "cell_type": "code",
   "execution_count": 12,
   "metadata": {
    "collapsed": false
   },
   "outputs": [
    {
     "data": {
      "text/html": [
       "<div>\n",
       "<table border=\"1\" class=\"dataframe\">\n",
       "  <thead>\n",
       "    <tr style=\"text-align: right;\">\n",
       "      <th></th>\n",
       "      <th>Year</th>\n",
       "      <th>Jan</th>\n",
       "    </tr>\n",
       "  </thead>\n",
       "  <tbody>\n",
       "    <tr>\n",
       "      <th>0</th>\n",
       "      <td>1871</td>\n",
       "      <td>2.76</td>\n",
       "    </tr>\n",
       "    <tr>\n",
       "      <th>1</th>\n",
       "      <td>1872</td>\n",
       "      <td>2.32</td>\n",
       "    </tr>\n",
       "    <tr>\n",
       "      <th>2</th>\n",
       "      <td>1873</td>\n",
       "      <td>2.96</td>\n",
       "    </tr>\n",
       "    <tr>\n",
       "      <th>3</th>\n",
       "      <td>1874</td>\n",
       "      <td>5.22</td>\n",
       "    </tr>\n",
       "    <tr>\n",
       "      <th>4</th>\n",
       "      <td>1875</td>\n",
       "      <td>6.15</td>\n",
       "    </tr>\n",
       "  </tbody>\n",
       "</table>\n",
       "</div>"
      ],
      "text/plain": [
       "   Year   Jan\n",
       "0  1871  2.76\n",
       "1  1872  2.32\n",
       "2  1873  2.96\n",
       "3  1874  5.22\n",
       "4  1875  6.15"
      ]
     },
     "execution_count": 12,
     "metadata": {},
     "output_type": "execute_result"
    }
   ],
   "source": [
    "rainfall = pd.read_sql_table('rainfall', engine)\n",
    "rainfall.head()"
   ]
  },
  {
   "cell_type": "code",
   "execution_count": 13,
   "metadata": {
    "collapsed": false
   },
   "outputs": [],
   "source": [
    "jan_rainfall = rainfall.Jan"
   ]
  },
  {
   "cell_type": "markdown",
   "metadata": {},
   "source": [
    "- Visualize the data in a histogram"
   ]
  },
  {
   "cell_type": "code",
   "execution_count": 23,
   "metadata": {
    "collapsed": false
   },
   "outputs": [
    {
     "data": {
      "text/plain": [
       "<matplotlib.text.Text at 0x118274ba8>"
      ]
     },
     "execution_count": 23,
     "metadata": {},
     "output_type": "execute_result"
    },
    {
     "data": {
      "image/png": "[encoded data removed]",
      "text/plain": [
       "<matplotlib.figure.Figure at 0x118479780>"
      ]
     },
     "metadata": {},
     "output_type": "display_data"
    }
   ],
   "source": [
    "hist(jan_rainfall, bins=16, normed=True)\n",
    "xlabel('Amount of rainfall')\n",
    "plt.ylabel('Probability')"
   ]
  },
  {
   "cell_type": "markdown",
   "metadata": {},
   "source": [
    "- Fit a normal distribution "
   ]
  },
  {
   "cell_type": "code",
   "execution_count": null,
   "metadata": {
    "collapsed": false
   },
   "outputs": [],
   "source": [
    "norm_mean, norm_std = stats.norm.fit(jan_rainfall)\n",
    "print(norm_mean, norm_std)"
   ]
  },
  {
   "cell_type": "markdown",
   "metadata": {},
   "source": [
    "- Define the fitted distribution"
   ]
  },
  {
   "cell_type": "code",
   "execution_count": null,
   "metadata": {
    "collapsed": true
   },
   "outputs": [],
   "source": [
    "fitted_norm = stats.norm(norm_mean, norm_std)\n",
    "x = arange(16)\n",
    "fitted_norm_y = fitted_norm.pdf(x)"
   ]
  },
  {
   "cell_type": "markdown",
   "metadata": {},
   "source": [
    "- Plot fitted distribution over the original data"
   ]
  },
  {
   "cell_type": "code",
   "execution_count": null,
   "metadata": {
    "collapsed": false
   },
   "outputs": [],
   "source": [
    "hist(jan_rainfall, bins=16, normed=True)\n",
    "plot(x, fitted_norm_y, 'r');"
   ]
  },
  {
   "cell_type": "markdown",
   "metadata": {},
   "source": [
    "### Lab Exercise 3: Fitting a Gamma Model\n",
    "\n",
    "- Now let's try to fit a Gamma distribution to the data"
   ]
  },
  {
   "cell_type": "code",
   "execution_count": 25,
   "metadata": {
    "collapsed": false
   },
   "outputs": [],
   "source": [
    "fit_alpha, fit_loc, fit_beta=stats.gamma.fit(jan_rainfall)"
   ]
  },
  {
   "cell_type": "markdown",
   "metadata": {},
   "source": [
    "- Define the fitted gamma distribution"
   ]
  },
  {
   "cell_type": "code",
   "execution_count": 26,
   "metadata": {
    "collapsed": false
   },
   "outputs": [],
   "source": [
    "x = arange(16)\n",
    "fitted_gamma = stats.gamma(fit_alpha, fit_loc, fit_beta)\n",
    "fitted_gamma_pdf =fitted_gamma.pdf(x)"
   ]
  },
  {
   "cell_type": "markdown",
   "metadata": {},
   "source": [
    "- Plot fitted gamma over original data"
   ]
  },
  {
   "cell_type": "code",
   "execution_count": 28,
   "metadata": {
    "collapsed": false
   },
   "outputs": [
    {
     "data": {
      "text/plain": [
       "<matplotlib.text.Text at 0x117db2f28>"
      ]
     },
     "execution_count": 28,
     "metadata": {},
     "output_type": "execute_result"
    },
    {
     "data": {
      "image/png": "[encoded data removed]",
      "text/plain": [
       "<matplotlib.figure.Figure at 0x11711e7f0>"
      ]
     },
     "metadata": {},
     "output_type": "display_data"
    }
   ],
   "source": [
    "hist(jan_rainfall, bins=16, normed=True)\n",
    "plot(x, fitted_gamma_pdf, 'r');\n",
    "plt.ylabel('density')\n",
    "plt.xlabel('x-values')\n",
    "plt.title('Fitted values for rainfall using gamma')"
   ]
  },
  {
   "cell_type": "code",
   "execution_count": null,
   "metadata": {
    "collapsed": true
   },
   "outputs": [],
   "source": []
  }
 ],
 "metadata": {
  "anaconda-cloud": {},
  "kernelspec": {
   "display_name": "Python [Root]",
   "language": "python",
   "name": "Python [Root]"
  },
  "language_info": {
   "codemirror_mode": {
    "name": "ipython",
    "version": 3
   },
   "file_extension": ".py",
   "mimetype": "text/x-python",
   "name": "python",
   "nbconvert_exporter": "python",
   "pygments_lexer": "ipython3",
   "version": "3.5.2"
  }
 },
 "nbformat": 4,
 "nbformat_minor": 0
}
