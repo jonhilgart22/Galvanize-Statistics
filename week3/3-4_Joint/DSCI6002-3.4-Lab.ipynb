{
 "cells": [
  {
   "cell_type": "markdown",
   "metadata": {},
   "source": [
    "# Lab 3.4: Jointly Distributed Random Variables\n",
    "\n",
    "## Outline\n",
    "- Covariance\n",
    "- Correlation \n",
    "- Independence\n",
    "- Joint probability distribution\n",
    "- Marginal probability distribution\n",
    "- Conditional probability distribution"
   ]
  },
  {
   "cell_type": "markdown",
   "metadata": {},
   "source": [
    "## Covariance\n",
    "\n",
    "Covariance measures how much 2 random variables change together:\n",
    "- **Covariance is positive when **\n",
    "  - `random variable 1` has a high value when `random variable 2` has a high value\n",
    "  - `random variable 1` has a low value when `random variable 2` has a low value\n",
    "\n",
    "<br>\n",
    "\n",
    "- **Covariance is negative when **\n",
    "  - `random variable 1` has a low value when `random variable 2` has a high value, and vice versa\n",
    "\n",
    "<br>\n",
    "\n",
    "- **Covariance is 0 when **\n",
    "  - `random variable 1` and `random variable 2` do not have any linear relationship\n"
   ]
  },
  {
   "cell_type": "markdown",
   "metadata": {},
   "source": [
    "- Here is the case when covariance is positive"
   ]
  },
  {
   "cell_type": "code",
   "execution_count": 1,
   "metadata": {
    "collapsed": false
   },
   "outputs": [
    {
     "name": "stdout",
     "output_type": "stream",
     "text": [
      "Populating the interactive namespace from numpy and matplotlib\n"
     ]
    }
   ],
   "source": [
    "%pylab inline"
   ]
  },
  {
   "cell_type": "code",
   "execution_count": 2,
   "metadata": {
    "collapsed": false
   },
   "outputs": [
    {
     "data": {
      "text/plain": [
       "array([[ 666.66666667,   79.        ],\n",
       "       [  79.        ,   30.33583333]])"
      ]
     },
     "execution_count": 2,
     "metadata": {},
     "output_type": "execute_result"
    }
   ],
   "source": [
    "x1 = array([10, -10, 30, 50])\n",
    "x2 = array([2.5, -3.4, 10, 2])\n",
    "\n",
    "cov(x1, x2)"
   ]
  },
  {
   "cell_type": "markdown",
   "metadata": {},
   "source": [
    "By default, `numpy` returns a covariance matrix, and it has the following form\n",
    "\n",
    "\\begin{bmatrix}\n",
    "    var(x1) & cov(x1, x2) \\\\\n",
    "    cov(x1, x2) & var(x2)\n",
    "\\end{bmatrix}\n",
    "\n",
    "So the covariance between `x1` and `x2` is 79"
   ]
  },
  {
   "cell_type": "markdown",
   "metadata": {},
   "source": [
    "- Here is the case when covariance is negative"
   ]
  },
  {
   "cell_type": "code",
   "execution_count": 3,
   "metadata": {
    "collapsed": false
   },
   "outputs": [],
   "source": [
    "x1 = array([10, -10, 30, 50])\n",
    "x2 = array([-2.5, 3.4, -10, -2])\n",
    "\n",
    "# Calculate the covariance between x1 and x2\n",
    "# Your code here"
   ]
  },
  {
   "cell_type": "markdown",
   "metadata": {},
   "source": [
    "- Here is the case when covariance is 0"
   ]
  },
  {
   "cell_type": "code",
   "execution_count": 4,
   "metadata": {
    "collapsed": false
   },
   "outputs": [],
   "source": [
    "x1 = array([-3, -2, -1, 0, 1, 2, 3])\n",
    "x2 = array([9, 4, 1, 0, 1, 4, 9])\n",
    "\n",
    "# Calculate the covariance between x1 and x2\n",
    "# Your code here"
   ]
  },
  {
   "cell_type": "markdown",
   "metadata": {},
   "source": [
    "## Correlation\n",
    "\n",
    "Correlation is convariance normalized by the standard deviations of the variables.\n",
    "\n",
    "Therefore, the same rules of covariance apply to correlation, except correlation is bounded between -1 and 1.\n",
    "\n",
    "Correlation provides a scaled measure of covariance so we can compare correlation across different datasets."
   ]
  },
  {
   "cell_type": "markdown",
   "metadata": {},
   "source": [
    "- Here is the case when correlation is positive"
   ]
  },
  {
   "cell_type": "code",
   "execution_count": 5,
   "metadata": {
    "collapsed": false
   },
   "outputs": [
    {
     "data": {
      "text/plain": [
       "array([[ 1.        ,  0.55551368],\n",
       "       [ 0.55551368,  1.        ]])"
      ]
     },
     "execution_count": 5,
     "metadata": {},
     "output_type": "execute_result"
    }
   ],
   "source": [
    "x1 = array([10, -10, 30, 50])\n",
    "x2 = array([2.5, -3.4, 10, 2])\n",
    "\n",
    "corrcoef(x1, x2)"
   ]
  },
  {
   "cell_type": "markdown",
   "metadata": {},
   "source": [
    "Again `numpy` returns a correlation matrix, and it has the following form:\n",
    "\n",
    "\\begin{bmatrix}\n",
    "    corr(x1, x1) & corr(x1, x2) \\\\\n",
    "    corr(x2, x1) & corr(x2, x2)\n",
    "\\end{bmatrix}\n",
    "\n",
    "The correlation of a variable with itself, i.e. $corr(x1, x1)$, is always 1."
   ]
  },
  {
   "cell_type": "markdown",
   "metadata": {},
   "source": [
    "- Here is the case when correlation is negative"
   ]
  },
  {
   "cell_type": "code",
   "execution_count": 6,
   "metadata": {
    "collapsed": false
   },
   "outputs": [],
   "source": [
    "x1 = array([10, -10, 30, 50])\n",
    "x2 = array([-2.5, 3.4, -10, -2])\n",
    "\n",
    "# Calculate the correlation between x1 and x2\n",
    "# Your code here"
   ]
  },
  {
   "cell_type": "markdown",
   "metadata": {},
   "source": [
    "- Here is the case when correlation is zero / undefined"
   ]
  },
  {
   "cell_type": "code",
   "execution_count": 7,
   "metadata": {
    "collapsed": false
   },
   "outputs": [],
   "source": [
    "x1 = array([-3, -2, -1, 0, 1, 2, 3])\n",
    "x2 = array([9, 4, 1, 0, 1, 4, 9])\n",
    "\n",
    "# Calculate the correlation between x1 and x2\n",
    "# Your code here"
   ]
  },
  {
   "cell_type": "markdown",
   "metadata": {},
   "source": [
    "## Independence\n",
    "\n",
    "\n",
    "### Continuous Random Variables\n",
    "\n",
    "If two random variables are correlated, then they are dependent.\n",
    "\n",
    "**However if two random variables are not correlated, it does not mean they are independent.**\n",
    "\n",
    "**Correlation describes linear dependencies between random variables, dependency can be described by other types of relationships**\n",
    "\n",
    "- The example below demonstrates the idea"
   ]
  },
  {
   "cell_type": "code",
   "execution_count": 8,
   "metadata": {
    "collapsed": false
   },
   "outputs": [
    {
     "name": "stdout",
     "output_type": "stream",
     "text": [
      "corr(x1, x2): 0.0\n"
     ]
    },
    {
     "data": {
      "image/png": "[encoded data removed]",
      "text/plain": [
       "<matplotlib.figure.Figure at 0x10a584eb8>"
      ]
     },
     "metadata": {},
     "output_type": "display_data"
    }
   ],
   "source": [
    "x1 = array([-3, -2, -1, 0, 1, 2, 3])\n",
    "x2 = array([9, 4, 1, 0, 1, 4, 9])\n",
    "\n",
    "print('corr(x1, x2):', corrcoef(x1, x2)[0,1])\n",
    "\n",
    "plot(x1, x2)\n",
    "xlabel('x1')\n",
    "ylabel('x2');"
   ]
  },
  {
   "cell_type": "markdown",
   "metadata": {},
   "source": [
    "$x_1$ and $x_2$ are clearly dependent, but since the relationship is perfectly quadratic, the correlation is 0."
   ]
  },
  {
   "cell_type": "markdown",
   "metadata": {},
   "source": [
    "### Discrete Random Variables\n",
    "\n",
    "\n",
    "**Independence can be estalished by:**\n",
    "\n",
    "$$p(x, y) = p(x) \\times p(y)$$\n",
    "\n",
    "Say we want to find out if being in Class A or Class B affects one chances of going to college and the data is given below.\n",
    "\n",
    "|   | Success | Fail |\n",
    "|---|---------|------|\n",
    "| A | 20      | 34   |\n",
    "| B | 15      | 12   |"
   ]
  },
  {
   "cell_type": "code",
   "execution_count": 9,
   "metadata": {
    "collapsed": false
   },
   "outputs": [
    {
     "name": "stdout",
     "output_type": "stream",
     "text": [
      "p(a) * p(success): 0.28806584362139914\n",
      "p(a and success): 0.24691358024691357\n"
     ]
    }
   ],
   "source": [
    "total = ((20 + 34) + (15 + 12))\n",
    "p_a = (20 + 34) / total\n",
    "p_success = (20 + 15) / total\n",
    "p_a_and_success = 20 / total\n",
    "print('p(a) * p(success):', p_a * p_success)\n",
    "print('p(a and success):', p_a_and_success)"
   ]
  },
  {
   "cell_type": "markdown",
   "metadata": {},
   "source": [
    "**Question**: Is getting into college independent of the two classes?"
   ]
  },
  {
   "cell_type": "markdown",
   "metadata": {},
   "source": [
    "## Joint / marginal / conditional probability distribution"
   ]
  },
  {
   "cell_type": "markdown",
   "metadata": {},
   "source": [
    "Joint / marginal / conditional distributions are useful for comparing **trends across different groups** in a dataset. \n",
    "\n",
    "Here we illustate how to use these techniques to conduct a **market segmentation analysis**."
   ]
  },
  {
   "cell_type": "markdown",
   "metadata": {},
   "source": [
    "- First we read in the data"
   ]
  },
  {
   "cell_type": "code",
   "execution_count": 10,
   "metadata": {
    "collapsed": false
   },
   "outputs": [
    {
     "data": {
      "text/html": [
       "<div>\n",
       "<table border=\"1\" class=\"dataframe\">\n",
       "  <thead>\n",
       "    <tr style=\"text-align: right;\">\n",
       "      <th></th>\n",
       "      <th>Product 1</th>\n",
       "      <th>Product 2</th>\n",
       "      <th>Product 3</th>\n",
       "      <th>Product 4</th>\n",
       "    </tr>\n",
       "  </thead>\n",
       "  <tbody>\n",
       "    <tr>\n",
       "      <th>Male</th>\n",
       "      <td>321</td>\n",
       "      <td>857</td>\n",
       "      <td>404</td>\n",
       "      <td>766</td>\n",
       "    </tr>\n",
       "    <tr>\n",
       "      <th>Female</th>\n",
       "      <td>65</td>\n",
       "      <td>471</td>\n",
       "      <td>443</td>\n",
       "      <td>192</td>\n",
       "    </tr>\n",
       "  </tbody>\n",
       "</table>\n",
       "</div>"
      ],
      "text/plain": [
       "        Product 1  Product 2  Product 3  Product 4\n",
       "Male          321        857        404        766\n",
       "Female         65        471        443        192"
      ]
     },
     "execution_count": 10,
     "metadata": {},
     "output_type": "execute_result"
    }
   ],
   "source": [
    "import pandas as pd\n",
    "\n",
    "pd.set_option('display.precision', 3)\n",
    "\n",
    "sales_data = pd.read_csv('https://s3-us-west-2.amazonaws.com/dsci/6002/data/gender_product_segmentation.csv', \n",
    "                         index_col=0)\n",
    "sales_data"
   ]
  },
  {
   "cell_type": "markdown",
   "metadata": {},
   "source": [
    "-  We get the sum of the rows and sum of the columns"
   ]
  },
  {
   "cell_type": "code",
   "execution_count": 11,
   "metadata": {
    "collapsed": false
   },
   "outputs": [
    {
     "name": "stdout",
     "output_type": "stream",
     "text": [
      "----- Row sums ----\n",
      "Male      2348\n",
      "Female    1171\n",
      "dtype: int64\n",
      "\n",
      "----- Col sums -----\n",
      "Product 1     386\n",
      "Product 2    1328\n",
      "Product 3     847\n",
      "Product 4     958\n",
      "dtype: int64\n",
      "\n",
      "----- Total sum ----\n",
      "3519\n"
     ]
    }
   ],
   "source": [
    "col_sum = sales_data.sum(axis=0)\n",
    "\n",
    "# Write one line of code to compute the row sums here\n",
    "\n",
    "\n",
    "print('----- Row sums ----')\n",
    "print(row_sum)\n",
    "print() \n",
    "print('----- Col sums -----')\n",
    "print(col_sum)\n",
    "print() \n",
    "print('----- Total sum ----')\n",
    "print(total_sum)"
   ]
  },
  {
   "cell_type": "markdown",
   "metadata": {},
   "source": [
    "## Joint probabilities\n",
    "\n",
    "- To compute the joint probability, we divide each cell by the `total_sum`"
   ]
  },
  {
   "cell_type": "code",
   "execution_count": 12,
   "metadata": {
    "collapsed": false
   },
   "outputs": [
    {
     "data": {
      "text/html": [
       "<div>\n",
       "<table border=\"1\" class=\"dataframe\">\n",
       "  <thead>\n",
       "    <tr style=\"text-align: right;\">\n",
       "      <th></th>\n",
       "      <th>Product 1</th>\n",
       "      <th>Product 2</th>\n",
       "      <th>Product 3</th>\n",
       "      <th>Product 4</th>\n",
       "    </tr>\n",
       "  </thead>\n",
       "  <tbody>\n",
       "    <tr>\n",
       "      <th>Male</th>\n",
       "      <td>0.091</td>\n",
       "      <td>0.244</td>\n",
       "      <td>0.115</td>\n",
       "      <td>0.218</td>\n",
       "    </tr>\n",
       "    <tr>\n",
       "      <th>Female</th>\n",
       "      <td>0.018</td>\n",
       "      <td>0.134</td>\n",
       "      <td>0.126</td>\n",
       "      <td>0.055</td>\n",
       "    </tr>\n",
       "  </tbody>\n",
       "</table>\n",
       "</div>"
      ],
      "text/plain": [
       "        Product 1  Product 2  Product 3  Product 4\n",
       "Male        0.091      0.244      0.115      0.218\n",
       "Female      0.018      0.134      0.126      0.055"
      ]
     },
     "execution_count": 12,
     "metadata": {},
     "output_type": "execute_result"
    }
   ],
   "source": [
    "# Compute the joint probability and name is 'sales_joint'\n",
    "# sales_joint should have the same dimension as the original data table\n",
    "\n",
    "\n",
    "sales_joint"
   ]
  },
  {
   "cell_type": "markdown",
   "metadata": {},
   "source": [
    "- To be explicit, the joint probabilities are:\n",
    "\n",
    "$$P(\\text{Product 1} \\cap \\text{Male}) = 0.09$$\n",
    "$$P(\\text{Product 2} \\cap \\text{Male}) = 0.24$$\n",
    "$$P(\\text{Product 3} \\cap \\text{Male}) = 0.11$$\n",
    "$$P(\\text{Product 4} \\cap \\text{Male}) = 0.22$$\n",
    "\n",
    "\n",
    "$$P(\\text{Product 1} \\cap \\text{Female}) = 0.02$$\n",
    "$$P(\\text{Product 2} \\cap \\text{Female}) = 0.13$$\n",
    "$$P(\\text{Product 3} \\cap \\text{Female}) = 0.13$$\n",
    "$$P(\\text{Product 4} \\cap \\text{Female}) = 0.05$$"
   ]
  },
  {
   "cell_type": "markdown",
   "metadata": {},
   "source": [
    "- Now let's visualize the joint probability distribution"
   ]
  },
  {
   "cell_type": "code",
   "execution_count": 13,
   "metadata": {
    "collapsed": false
   },
   "outputs": [
    {
     "data": {
      "image/png": "[encoded data removed]",
      "text/plain": [
       "<matplotlib.figure.Figure at 0x1157b0978>"
      ]
     },
     "metadata": {},
     "output_type": "display_data"
    }
   ],
   "source": [
    "sales_joint.plot(kind='bar', edgecolor='None', figsize=(10, 5))\n",
    "ylabel('$p(Gender \\cap Product)$', fontsize=20);"
   ]
  },
  {
   "cell_type": "markdown",
   "metadata": {},
   "source": [
    "Just by looking at the joint probability alone, it is tempting to conclude:\n",
    "- Male buyers prefer **Product 2, 4**\n",
    "- Female buyers prefer **Product 2, 3**\n",
    "\n",
    "Let's also look at the marginal probabilities as well."
   ]
  },
  {
   "cell_type": "markdown",
   "metadata": {},
   "source": [
    "##Marginal Probabilities\n",
    "\n",
    "A marginal probability is the sum of joint probabilities over the category of interest.\n",
    "\n",
    "Say we are interested in gender, the marginal probabilities here would be (`row sum / total sum`)"
   ]
  },
  {
   "cell_type": "code",
   "execution_count": 14,
   "metadata": {
    "collapsed": false
   },
   "outputs": [],
   "source": [
    "# Compute and print the marginal probabilities for gender\n",
    "\n"
   ]
  },
  {
   "cell_type": "markdown",
   "metadata": {},
   "source": [
    "There are twice as much male buyers compared to female buyers\n",
    "\n",
    "Since we are dividing each cell with the total count when we are calculating joint probabilities, we are not taking into account the skewed distribution of buyers of different genders\n",
    "\n",
    "**We need to take into account the fact that there are more male buyers**, and we turn to conditional probabilities for that."
   ]
  },
  {
   "cell_type": "markdown",
   "metadata": {},
   "source": [
    "## Conditional Probabilities"
   ]
  },
  {
   "cell_type": "markdown",
   "metadata": {},
   "source": [
    "Conditional probability is computed by considering each group of interest individually.\n",
    "\n",
    "We could look at female buyers as if there are no male buyers and only examine the female buyers' behavior. \n",
    "\n",
    "And the same applies to male buyers.\n",
    "\n",
    "To compute a conditional probability, we divide the row by the row sum of that corresponding row."
   ]
  },
  {
   "cell_type": "code",
   "execution_count": 15,
   "metadata": {
    "collapsed": false
   },
   "outputs": [
    {
     "data": {
      "text/html": [
       "<div>\n",
       "<table border=\"1\" class=\"dataframe\">\n",
       "  <thead>\n",
       "    <tr style=\"text-align: right;\">\n",
       "      <th></th>\n",
       "      <th>Product 1</th>\n",
       "      <th>Product 2</th>\n",
       "      <th>Product 3</th>\n",
       "      <th>Product 4</th>\n",
       "    </tr>\n",
       "  </thead>\n",
       "  <tbody>\n",
       "    <tr>\n",
       "      <th>Male</th>\n",
       "      <td>0.137</td>\n",
       "      <td>0.365</td>\n",
       "      <td>0.172</td>\n",
       "      <td>0.326</td>\n",
       "    </tr>\n",
       "    <tr>\n",
       "      <th>Female</th>\n",
       "      <td>65.000</td>\n",
       "      <td>471.000</td>\n",
       "      <td>443.000</td>\n",
       "      <td>192.000</td>\n",
       "    </tr>\n",
       "  </tbody>\n",
       "</table>\n",
       "</div>"
      ],
      "text/plain": [
       "        Product 1  Product 2  Product 3  Product 4\n",
       "Male        0.137      0.365      0.172      0.326\n",
       "Female     65.000    471.000    443.000    192.000"
      ]
     },
     "execution_count": 15,
     "metadata": {},
     "output_type": "execute_result"
    }
   ],
   "source": [
    "male_sum = row_sum[0]\n",
    "female_sum = row_sum[1]\n",
    "\n",
    "sales_data_conditional = sales_data.copy()\n",
    "sales_data_conditional.ix['Male'] = sales_data.ix['Male'] / male_sum\n",
    "# Compute the conditional distribution of buyers' behavior for female buyers\n",
    "\n",
    "sales_data_conditional"
   ]
  },
  {
   "cell_type": "markdown",
   "metadata": {},
   "source": [
    "- Now let's visualize the conditional probability distribution"
   ]
  },
  {
   "cell_type": "code",
   "execution_count": 16,
   "metadata": {
    "collapsed": false
   },
   "outputs": [
    {
     "data": {
      "image/png": "[encoded data removed]",
      "text/plain": [
       "<matplotlib.figure.Figure at 0x117f17048>"
      ]
     },
     "metadata": {},
     "output_type": "display_data"
    }
   ],
   "source": [
    "sales_data_conditional.plot(kind='bar', edgecolor='None', figsize=(10, 5))\n",
    "ylabel('$p(Product | Gender)$', fontsize=20);"
   ]
  },
  {
   "cell_type": "markdown",
   "metadata": {},
   "source": [
    "Now we are treating female and male buyers equally regardless of the number of buyer for each gender\n",
    "\n",
    "We can conclude:\n",
    "- Male buyers prefer **Product 2,4**\n",
    "- Female buyers prefer **Product 2,3**"
   ]
  },
  {
   "cell_type": "markdown",
   "metadata": {},
   "source": [
    "## Exercises\n",
    "\n",
    "**Question 1**\n",
    "- Read in the file https://s3-us-west-2.amazonaws.com/dsci/6002/data/admissions.csv and complete the following tasks:\n",
    "   - Implement a function to calculate covariance (does not need to be in matrix form)\n",
    "   - Implement a function to calcualte correlation (does not need to be in matrix form)\n",
    "   - Identify the variable that is the most correlated with `gpa`"
   ]
  },
  {
   "cell_type": "code",
   "execution_count": null,
   "metadata": {
    "collapsed": true
   },
   "outputs": [],
   "source": []
  },
  {
   "cell_type": "markdown",
   "metadata": {},
   "source": [
    "**Question 2**\n",
    "- Is `gpa` independent of the `family_income`? Why or why not?"
   ]
  },
  {
   "cell_type": "code",
   "execution_count": null,
   "metadata": {
    "collapsed": true
   },
   "outputs": [],
   "source": []
  },
  {
   "cell_type": "markdown",
   "metadata": {},
   "source": [
    "**Question 3**\n",
    "- By categorizing the `gpa` into low/medium/high and `family_income` into `low/medium/high` (choose cut-off values that make sense to you), compute the conditional probability distributions and conduct analysis about how `family_income` affects `gpa`."
   ]
  },
  {
   "cell_type": "code",
   "execution_count": null,
   "metadata": {
    "collapsed": true
   },
   "outputs": [],
   "source": []
  }
 ],
 "metadata": {
  "anaconda-cloud": {},
  "kernelspec": {
   "display_name": "Python [Root]",
   "language": "python",
   "name": "Python [Root]"
  },
  "language_info": {
   "codemirror_mode": {
    "name": "ipython",
    "version": 3
   },
   "file_extension": ".py",
   "mimetype": "text/x-python",
   "name": "python",
   "nbconvert_exporter": "python",
   "pygments_lexer": "ipython3",
   "version": "3.5.2"
  }
 },
 "nbformat": 4,
 "nbformat_minor": 0
}
