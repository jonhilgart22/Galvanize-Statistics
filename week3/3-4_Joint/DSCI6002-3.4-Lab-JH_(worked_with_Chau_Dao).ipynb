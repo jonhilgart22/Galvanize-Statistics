{
 "cells": [
  {
   "cell_type": "markdown",
   "metadata": {},
   "source": [
    "# Lab 3.4: Jointly Distributed Random Variables\n",
    "\n",
    "## Outline\n",
    "- Covariance\n",
    "- Correlation \n",
    "- Independence\n",
    "- Joint probability distribution\n",
    "- Marginal probability distribution\n",
    "- Conditional probability distribution"
   ]
  },
  {
   "cell_type": "markdown",
   "metadata": {},
   "source": [
    "## Covariance\n",
    "\n",
    "Covariance measures how much 2 random variables change together:\n",
    "- **Covariance is positive when **\n",
    "  - `random variable 1` has a high value when `random variable 2` has a high value\n",
    "  - `random variable 1` has a low value when `random variable 2` has a low value\n",
    "\n",
    "<br>\n",
    "\n",
    "- **Covariance is negative when **\n",
    "  - `random variable 1` has a low value when `random variable 2` has a high value, and vice versa\n",
    "\n",
    "<br>\n",
    "\n",
    "- **Covariance is 0 when **\n",
    "  - `random variable 1` and `random variable 2` do not have any linear relationship\n"
   ]
  },
  {
   "cell_type": "markdown",
   "metadata": {},
   "source": [
    "- Here is the case when covariance is positive"
   ]
  },
  {
   "cell_type": "code",
   "execution_count": 1,
   "metadata": {
    "collapsed": false
   },
   "outputs": [
    {
     "name": "stdout",
     "output_type": "stream",
     "text": [
      "Populating the interactive namespace from numpy and matplotlib\n"
     ]
    }
   ],
   "source": [
    "%pylab inline"
   ]
  },
  {
   "cell_type": "code",
   "execution_count": 2,
   "metadata": {
    "collapsed": false
   },
   "outputs": [
    {
     "data": {
      "text/plain": [
       "array([[ 666.66666667,   79.        ],\n",
       "       [  79.        ,   30.33583333]])"
      ]
     },
     "execution_count": 2,
     "metadata": {},
     "output_type": "execute_result"
    }
   ],
   "source": [
    "x1 = array([10, -10, 30, 50])\n",
    "x2 = array([2.5, -3.4, 10, 2])\n",
    "\n",
    "cov(x1, x2)"
   ]
  },
  {
   "cell_type": "markdown",
   "metadata": {},
   "source": [
    "By default, `numpy` returns a covariance matrix, and it has the following form\n",
    "\n",
    "\\begin{bmatrix}\n",
    "    var(x1) & cov(x1, x2) \\\\\n",
    "    cov(x1, x2) & var(x2)\n",
    "\\end{bmatrix}\n",
    "\n",
    "So the covariance between `x1` and `x2` is 79"
   ]
  },
  {
   "cell_type": "markdown",
   "metadata": {},
   "source": [
    "- Here is the case when covariance is negative"
   ]
  },
  {
   "cell_type": "code",
   "execution_count": 3,
   "metadata": {
    "collapsed": false
   },
   "outputs": [
    {
     "data": {
      "text/plain": [
       "array([[ 30.33583333,  30.33583333],\n",
       "       [ 30.33583333,  30.33583333]])"
      ]
     },
     "execution_count": 3,
     "metadata": {},
     "output_type": "execute_result"
    }
   ],
   "source": [
    "x1 = array([10, -10, 30, 50])\n",
    "x2 = array([-2.5, 3.4, -10, -2])\n",
    "\n",
    "# Calculate the covariance between x1 and x2\n",
    "# Your code here\n",
    "\n",
    "cov(x2,x2)"
   ]
  },
  {
   "cell_type": "markdown",
   "metadata": {},
   "source": [
    "- Here is the case when covariance is 0"
   ]
  },
  {
   "cell_type": "code",
   "execution_count": 4,
   "metadata": {
    "collapsed": false
   },
   "outputs": [],
   "source": [
    "x1 = array([-3, -2, -1, 0, 1, 2, 3])\n",
    "x2 = array([9, 4, 1, 0, 1, 4, 9])\n",
    "\n",
    "# Calculate the covariance between x1 and x2\n",
    "# Your code here"
   ]
  },
  {
   "cell_type": "markdown",
   "metadata": {},
   "source": [
    "## Correlation\n",
    "\n",
    "Correlation is convariance normalized by the standard deviations of the variables.\n",
    "\n",
    "Therefore, the same rules of covariance apply to correlation, except correlation is bounded between -1 and 1.\n",
    "\n",
    "Correlation provides a scaled measure of covariance so we can compare correlation across different datasets."
   ]
  },
  {
   "cell_type": "markdown",
   "metadata": {},
   "source": [
    "- Here is the case when correlation is positive"
   ]
  },
  {
   "cell_type": "code",
   "execution_count": 5,
   "metadata": {
    "collapsed": false
   },
   "outputs": [
    {
     "data": {
      "text/plain": [
       "array([[ 1.        ,  0.55551368],\n",
       "       [ 0.55551368,  1.        ]])"
      ]
     },
     "execution_count": 5,
     "metadata": {},
     "output_type": "execute_result"
    }
   ],
   "source": [
    "x1 = array([10, -10, 30, 50])\n",
    "x2 = array([2.5, -3.4, 10, 2])\n",
    "\n",
    "corrcoef(x1, x2)"
   ]
  },
  {
   "cell_type": "markdown",
   "metadata": {},
   "source": [
    "Again `numpy` returns a correlation matrix, and it has the following form:\n",
    "\n",
    "\\begin{bmatrix}\n",
    "    corr(x1, x1) & corr(x1, x2) \\\\\n",
    "    corr(x2, x1) & corr(x2, x2)\n",
    "\\end{bmatrix}\n",
    "\n",
    "The correlation of a variable with itself, i.e. $corr(x1, x1)$, is always 1."
   ]
  },
  {
   "cell_type": "markdown",
   "metadata": {},
   "source": [
    "- Here is the case when correlation is negative"
   ]
  },
  {
   "cell_type": "code",
   "execution_count": 5,
   "metadata": {
    "collapsed": false
   },
   "outputs": [
    {
     "data": {
      "text/plain": [
       "array([[ 1.        , -0.55551368],\n",
       "       [-0.55551368,  1.        ]])"
      ]
     },
     "execution_count": 5,
     "metadata": {},
     "output_type": "execute_result"
    }
   ],
   "source": [
    "x1 = array([10, -10, 30, 50])\n",
    "x2 = array([-2.5, 3.4, -10, -2])\n",
    "\n",
    "# Calculate the correlation between x1 and x2\n",
    "# Your code here\n",
    "\n",
    "corrcoef(x1,x2)"
   ]
  },
  {
   "cell_type": "markdown",
   "metadata": {},
   "source": [
    "- Here is the case when correlation is zero / undefined"
   ]
  },
  {
   "cell_type": "code",
   "execution_count": 6,
   "metadata": {
    "collapsed": false
   },
   "outputs": [
    {
     "data": {
      "text/plain": [
       "array([[ 1.,  0.],\n",
       "       [ 0.,  1.]])"
      ]
     },
     "execution_count": 6,
     "metadata": {},
     "output_type": "execute_result"
    }
   ],
   "source": [
    "x1 = array([-3, -2, -1, 0, 1, 2, 3])\n",
    "x2 = array([9, 4, 1, 0, 1, 4, 9])\n",
    "\n",
    "# Calculate the correlation between x1 and x2\n",
    "# Your code here\n",
    "\n",
    "corrcoef(x1,x2)"
   ]
  },
  {
   "cell_type": "markdown",
   "metadata": {},
   "source": [
    "## Independence\n",
    "\n",
    "\n",
    "### Continuous Random Variables\n",
    "\n",
    "If two random variables are correlated, then they are dependent.\n",
    "\n",
    "**However if two random variables are not correlated, it does not mean they are independent.**\n",
    "\n",
    "**Correlation describes linear dependencies between random variables, dependency can be described by other types of relationships**\n",
    "\n",
    "- The example below demonstrates the idea"
   ]
  },
  {
   "cell_type": "code",
   "execution_count": 7,
   "metadata": {
    "collapsed": false
   },
   "outputs": [
    {
     "name": "stdout",
     "output_type": "stream",
     "text": [
      "corr(x1, x2): 0.0\n"
     ]
    },
    {
     "data": {
      "image/png": "[encoded data removed]",
      "text/plain": [
       "<matplotlib.figure.Figure at 0x10a6f6470>"
      ]
     },
     "metadata": {},
     "output_type": "display_data"
    }
   ],
   "source": [
    "x1 = array([-3, -2, -1, 0, 1, 2, 3])\n",
    "x2 = array([9, 4, 1, 0, 1, 4, 9])\n",
    "\n",
    "print('corr(x1, x2):', corrcoef(x1, x2)[0,1])\n",
    "\n",
    "plot(x1, x2)\n",
    "xlabel('x1')\n",
    "ylabel('x2');"
   ]
  },
  {
   "cell_type": "markdown",
   "metadata": {},
   "source": [
    "$x_1$ and $x_2$ are clearly dependent, but since the relationship is perfectly quadratic, the correlation is 0."
   ]
  },
  {
   "cell_type": "markdown",
   "metadata": {},
   "source": [
    "### Discrete Random Variables\n",
    "\n",
    "\n",
    "**Independence can be estalished by:**\n",
    "\n",
    "$$p(x, y) = p(x) \\times p(y)$$\n",
    "\n",
    "Say we want to find out if being in Class A or Class B affects one chances of going to college and the data is given below.\n",
    "\n",
    "|   | Success | Fail |\n",
    "|---|---------|------|\n",
    "| A | 20      | 34   |\n",
    "| B | 15      | 12   |"
   ]
  },
  {
   "cell_type": "code",
   "execution_count": 8,
   "metadata": {
    "collapsed": false
   },
   "outputs": [
    {
     "name": "stdout",
     "output_type": "stream",
     "text": [
      "p(a) * p(success): 0.28806584362139914\n",
      "p(a and success): 0.24691358024691357\n"
     ]
    }
   ],
   "source": [
    "total = ((20 + 34) + (15 + 12))\n",
    "p_a = (20 + 34) / total\n",
    "p_success = (20 + 15) / total\n",
    "p_a_and_success = 20 / total\n",
    "print('p(a) * p(success):', p_a * p_success)\n",
    "print('p(a and success):', p_a_and_success)"
   ]
  },
  {
   "cell_type": "markdown",
   "metadata": {},
   "source": [
    "**Question**: Is getting into college independent of the two classes?"
   ]
  },
  {
   "cell_type": "markdown",
   "metadata": {},
   "source": [
    "No.\n",
    "\n",
    "The probability of getting into college is not independent of the two classes. If two varaibles are independent than $P(A and B) = P(A)*P(B)$\n",
    "\n",
    "$Since, P(A and Success) = 28.8% and P(A) * P(Success) = 24.7% these are not independent.$\n",
    "\n",
    "\n"
   ]
  },
  {
   "cell_type": "markdown",
   "metadata": {},
   "source": [
    "## Joint / marginal / conditional probability distribution"
   ]
  },
  {
   "cell_type": "markdown",
   "metadata": {},
   "source": [
    "Joint / marginal / conditional distributions are useful for comparing **trends across different groups** in a dataset. \n",
    "\n",
    "Here we illustate how to use these techniques to conduct a **market segmentation analysis**."
   ]
  },
  {
   "cell_type": "markdown",
   "metadata": {},
   "source": [
    "- First we read in the data"
   ]
  },
  {
   "cell_type": "code",
   "execution_count": 9,
   "metadata": {
    "collapsed": false
   },
   "outputs": [
    {
     "data": {
      "text/html": [
       "<div>\n",
       "<table border=\"1\" class=\"dataframe\">\n",
       "  <thead>\n",
       "    <tr style=\"text-align: right;\">\n",
       "      <th></th>\n",
       "      <th>Product 1</th>\n",
       "      <th>Product 2</th>\n",
       "      <th>Product 3</th>\n",
       "      <th>Product 4</th>\n",
       "    </tr>\n",
       "  </thead>\n",
       "  <tbody>\n",
       "    <tr>\n",
       "      <th>Male</th>\n",
       "      <td>321</td>\n",
       "      <td>857</td>\n",
       "      <td>404</td>\n",
       "      <td>766</td>\n",
       "    </tr>\n",
       "    <tr>\n",
       "      <th>Female</th>\n",
       "      <td>65</td>\n",
       "      <td>471</td>\n",
       "      <td>443</td>\n",
       "      <td>192</td>\n",
       "    </tr>\n",
       "  </tbody>\n",
       "</table>\n",
       "</div>"
      ],
      "text/plain": [
       "        Product 1  Product 2  Product 3  Product 4\n",
       "Male          321        857        404        766\n",
       "Female         65        471        443        192"
      ]
     },
     "execution_count": 9,
     "metadata": {},
     "output_type": "execute_result"
    }
   ],
   "source": [
    "import pandas as pd\n",
    "\n",
    "pd.set_option('display.precision', 3)\n",
    "\n",
    "sales_data = pd.read_csv('https://s3-us-west-2.amazonaws.com/dsci/6002/data/gender_product_segmentation.csv', \n",
    "                         index_col=0)\n",
    "sales_data"
   ]
  },
  {
   "cell_type": "markdown",
   "metadata": {},
   "source": [
    "-  We get the sum of the rows and sum of the columns"
   ]
  },
  {
   "cell_type": "code",
   "execution_count": 16,
   "metadata": {
    "collapsed": false
   },
   "outputs": [
    {
     "name": "stdout",
     "output_type": "stream",
     "text": [
      "----- Row sums ----\n",
      "Male      2348\n",
      "Female    1171\n",
      "dtype: int64\n",
      "\n",
      "----- Col sums -----\n",
      "Product 1     386\n",
      "Product 2    1328\n",
      "Product 3     847\n",
      "Product 4     958\n",
      "dtype: int64\n",
      "\n",
      "----- Total sum ----\n",
      "3519\n"
     ]
    }
   ],
   "source": [
    "col_sum = sales_data.sum(axis=0)\n",
    "row_sum = sales_data.sum(axis=1)\n",
    "total_sum = sum(sales_data.sum(axis=0))\n",
    "\n",
    "# Write one line of code to compute the row sums here\n",
    "\n",
    "\n",
    "print('----- Row sums ----')\n",
    "print(row_sum)\n",
    "print() \n",
    "print('----- Col sums -----')\n",
    "print(col_sum)\n",
    "print() \n",
    "print('----- Total sum ----')\n",
    "print(total_sum)"
   ]
  },
  {
   "cell_type": "markdown",
   "metadata": {},
   "source": [
    "## Joint probabilities\n",
    "\n",
    "- To compute the joint probability, we divide each cell by the `total_sum`"
   ]
  },
  {
   "cell_type": "code",
   "execution_count": 23,
   "metadata": {
    "collapsed": false
   },
   "outputs": [
    {
     "name": "stdout",
     "output_type": "stream",
     "text": [
      "1.0\n"
     ]
    },
    {
     "data": {
      "text/html": [
       "<div>\n",
       "<table border=\"1\" class=\"dataframe\">\n",
       "  <thead>\n",
       "    <tr style=\"text-align: right;\">\n",
       "      <th></th>\n",
       "      <th>Product 1</th>\n",
       "      <th>Product 2</th>\n",
       "      <th>Product 3</th>\n",
       "      <th>Product 4</th>\n",
       "    </tr>\n",
       "  </thead>\n",
       "  <tbody>\n",
       "    <tr>\n",
       "      <th>Male</th>\n",
       "      <td>0.091</td>\n",
       "      <td>0.244</td>\n",
       "      <td>0.115</td>\n",
       "      <td>0.218</td>\n",
       "    </tr>\n",
       "    <tr>\n",
       "      <th>Female</th>\n",
       "      <td>0.018</td>\n",
       "      <td>0.134</td>\n",
       "      <td>0.126</td>\n",
       "      <td>0.055</td>\n",
       "    </tr>\n",
       "  </tbody>\n",
       "</table>\n",
       "</div>"
      ],
      "text/plain": [
       "        Product 1  Product 2  Product 3  Product 4\n",
       "Male        0.091      0.244      0.115      0.218\n",
       "Female      0.018      0.134      0.126      0.055"
      ]
     },
     "execution_count": 23,
     "metadata": {},
     "output_type": "execute_result"
    }
   ],
   "source": [
    "# Compute the joint probability and name is 'sales_joint'\n",
    "# sales_joint should have the same dimension as the original data table\n",
    "\n",
    "\n",
    "sales_joint=sales_data/total_sum\n",
    "print(sum(sales_joint.sum()))\n",
    "sales_joint"
   ]
  },
  {
   "cell_type": "markdown",
   "metadata": {},
   "source": [
    "- To be explicit, the joint probabilities are:\n",
    "\n",
    "$$P(\\text{Product 1} \\cap \\text{Male}) = 0.09$$\n",
    "$$P(\\text{Product 2} \\cap \\text{Male}) = 0.24$$\n",
    "$$P(\\text{Product 3} \\cap \\text{Male}) = 0.11$$\n",
    "$$P(\\text{Product 4} \\cap \\text{Male}) = 0.22$$\n",
    "\n",
    "\n",
    "$$P(\\text{Product 1} \\cap \\text{Female}) = 0.02$$\n",
    "$$P(\\text{Product 2} \\cap \\text{Female}) = 0.13$$\n",
    "$$P(\\text{Product 3} \\cap \\text{Female}) = 0.13$$\n",
    "$$P(\\text{Product 4} \\cap \\text{Female}) = 0.05$$"
   ]
  },
  {
   "cell_type": "markdown",
   "metadata": {},
   "source": [
    "- Now let's visualize the joint probability distribution"
   ]
  },
  {
   "cell_type": "code",
   "execution_count": 24,
   "metadata": {
    "collapsed": false
   },
   "outputs": [
    {
     "data": {
      "image/png": "[encoded data removed]",
      "text/plain": [
       "<matplotlib.figure.Figure at 0x117ded940>"
      ]
     },
     "metadata": {},
     "output_type": "display_data"
    }
   ],
   "source": [
    "sales_joint.plot(kind='bar', edgecolor='None', figsize=(10, 5))\n",
    "ylabel('$p(Gender \\cap Product)$', fontsize=20);"
   ]
  },
  {
   "cell_type": "markdown",
   "metadata": {},
   "source": [
    "Just by looking at the joint probability alone, it is tempting to conclude:\n",
    "- Male buyers prefer **Product 2, 4**\n",
    "- Female buyers prefer **Product 2, 3**\n",
    "\n",
    "Let's also look at the marginal probabilities as well."
   ]
  },
  {
   "cell_type": "markdown",
   "metadata": {},
   "source": [
    "## Marginal Probabilities\n",
    "\n",
    "A marginal probability is the sum of joint probabilities over the category of interest.\n",
    "\n",
    "Say we are interested in gender, the marginal probabilities here would be (`row sum / total sum`)"
   ]
  },
  {
   "cell_type": "code",
   "execution_count": 27,
   "metadata": {
    "collapsed": false
   },
   "outputs": [
    {
     "data": {
      "text/plain": [
       "Male      0.667\n",
       "Female    0.333\n",
       "dtype: float64"
      ]
     },
     "execution_count": 27,
     "metadata": {},
     "output_type": "execute_result"
    }
   ],
   "source": [
    "# Compute and print the marginal probabilities for gender\n",
    "marginal_gender_prob =sales_data.sum(axis=1)/total_sum\n",
    "marginal_gender_prob"
   ]
  },
  {
   "cell_type": "markdown",
   "metadata": {},
   "source": [
    "There are twice as much male buyers compared to female buyers\n",
    "\n",
    "Since we are dividing each cell with the total count when we are calculating joint probabilities, we are not taking into account the skewed distribution of buyers of different genders\n",
    "\n",
    "**We need to take into account the fact that there are more male buyers**, and we turn to conditional probabilities for that."
   ]
  },
  {
   "cell_type": "markdown",
   "metadata": {},
   "source": [
    "## Conditional Probabilities"
   ]
  },
  {
   "cell_type": "markdown",
   "metadata": {},
   "source": [
    "Conditional probability is computed by considering each group of interest individually.\n",
    "\n",
    "We could look at female buyers as if there are no male buyers and only examine the female buyers' behavior. \n",
    "\n",
    "And the same applies to male buyers.\n",
    "\n",
    "To compute a conditional probability, we divide the row by the row sum of that corresponding row."
   ]
  },
  {
   "cell_type": "code",
   "execution_count": 262,
   "metadata": {
    "collapsed": false
   },
   "outputs": [
    {
     "data": {
      "text/html": [
       "<div>\n",
       "<table border=\"1\" class=\"dataframe\">\n",
       "  <thead>\n",
       "    <tr style=\"text-align: right;\">\n",
       "      <th></th>\n",
       "      <th>Product 1</th>\n",
       "      <th>Product 2</th>\n",
       "      <th>Product 3</th>\n",
       "      <th>Product 4</th>\n",
       "    </tr>\n",
       "  </thead>\n",
       "  <tbody>\n",
       "    <tr>\n",
       "      <th>Male</th>\n",
       "      <td>0.121</td>\n",
       "      <td>0.323</td>\n",
       "      <td>0.152</td>\n",
       "      <td>0.289</td>\n",
       "    </tr>\n",
       "    <tr>\n",
       "      <th>Female</th>\n",
       "      <td>0.024</td>\n",
       "      <td>0.173</td>\n",
       "      <td>0.163</td>\n",
       "      <td>0.071</td>\n",
       "    </tr>\n",
       "  </tbody>\n",
       "</table>\n",
       "</div>"
      ],
      "text/plain": [
       "        Product 1  Product 2  Product 3  Product 4\n",
       "Male        0.121      0.323      0.152      0.289\n",
       "Female      0.024      0.173      0.163      0.071"
      ]
     },
     "execution_count": 262,
     "metadata": {},
     "output_type": "execute_result"
    }
   ],
   "source": [
    "male_sum = row_sum[0]\n",
    "female_sum = row_sum[1]\n",
    "\n",
    "sales_data_conditional = sales_data.copy()\n",
    "sales_data_conditional.ix['Male'] = sales_data.ix['Male'] / male_sum\n",
    "sales_data_conditional.ix['Female'] = sales_data.ix['Female'] / female_sum\n",
    "# Compute the conditional distribution of buyers' behavior for female buyers\n",
    "\n",
    "sales_data_conditional"
   ]
  },
  {
   "cell_type": "markdown",
   "metadata": {},
   "source": [
    "- Now let's visualize the conditional probability distribution"
   ]
  },
  {
   "cell_type": "code",
   "execution_count": 30,
   "metadata": {
    "collapsed": false
   },
   "outputs": [
    {
     "data": {
      "image/png": "[encoded data removed]",
      "text/plain": [
       "<matplotlib.figure.Figure at 0x11816b470>"
      ]
     },
     "metadata": {},
     "output_type": "display_data"
    }
   ],
   "source": [
    "sales_data_conditional.plot(kind='bar', edgecolor='None', figsize=(10, 5))\n",
    "ylabel('$p(Product | Gender)$', fontsize=20);"
   ]
  },
  {
   "cell_type": "markdown",
   "metadata": {},
   "source": [
    "Now we are treating female and male buyers equally regardless of the number of buyer for each gender\n",
    "\n",
    "We can conclude:\n",
    "- Male buyers prefer **Product 2,4**\n",
    "- Female buyers prefer **Product 2,3**"
   ]
  },
  {
   "cell_type": "markdown",
   "metadata": {},
   "source": [
    "## Exercises\n",
    "\n",
    "**Question 1**\n",
    "- Read in the file https://s3-us-west-2.amazonaws.com/dsci/6002/data/admissions.csv and complete the following tasks:\n",
    "   - Implement a function to calculate covariance (does not need to be in matrix form)\n",
    "   - Implement a function to calcualte correlation (does not need to be in matrix form)\n",
    "   - Identify the variable that is the most correlated with `gpa`"
   ]
  },
  {
   "cell_type": "code",
   "execution_count": 31,
   "metadata": {
    "collapsed": true
   },
   "outputs": [],
   "source": [
    "import pandas as pd"
   ]
  },
  {
   "cell_type": "code",
   "execution_count": 45,
   "metadata": {
    "collapsed": false
   },
   "outputs": [
    {
     "data": {
      "text/html": [
       "<div>\n",
       "<table border=\"1\" class=\"dataframe\">\n",
       "  <thead>\n",
       "    <tr style=\"text-align: right;\">\n",
       "      <th></th>\n",
       "      <th>family_income</th>\n",
       "      <th>gpa</th>\n",
       "      <th>parent_avg_age</th>\n",
       "    </tr>\n",
       "  </thead>\n",
       "  <tbody>\n",
       "    <tr>\n",
       "      <th>0</th>\n",
       "      <td>31402.0</td>\n",
       "      <td>3.18</td>\n",
       "      <td>32</td>\n",
       "    </tr>\n",
       "    <tr>\n",
       "      <th>1</th>\n",
       "      <td>32247.0</td>\n",
       "      <td>2.98</td>\n",
       "      <td>48</td>\n",
       "    </tr>\n",
       "    <tr>\n",
       "      <th>2</th>\n",
       "      <td>34732.0</td>\n",
       "      <td>2.85</td>\n",
       "      <td>61</td>\n",
       "    </tr>\n",
       "    <tr>\n",
       "      <th>3</th>\n",
       "      <td>53759.0</td>\n",
       "      <td>3.39</td>\n",
       "      <td>62</td>\n",
       "    </tr>\n",
       "    <tr>\n",
       "      <th>4</th>\n",
       "      <td>50952.0</td>\n",
       "      <td>3.10</td>\n",
       "      <td>45</td>\n",
       "    </tr>\n",
       "  </tbody>\n",
       "</table>\n",
       "</div>"
      ],
      "text/plain": [
       "   family_income   gpa  parent_avg_age\n",
       "0        31402.0  3.18              32\n",
       "1        32247.0  2.98              48\n",
       "2        34732.0  2.85              61\n",
       "3        53759.0  3.39              62\n",
       "4        50952.0  3.10              45"
      ]
     },
     "execution_count": 45,
     "metadata": {},
     "output_type": "execute_result"
    }
   ],
   "source": [
    "inc_gpa_df.head()"
   ]
  },
  {
   "cell_type": "code",
   "execution_count": 106,
   "metadata": {
    "collapsed": false
   },
   "outputs": [],
   "source": [
    "inc_gpa_df= pd.read_csv( 'https://s3-us-west-2.amazonaws.com/dsci/6002/data/admissions.csv')\n",
    "\n",
    "number_of_observations = inc_gpa_df.family_income.count()\n",
    "\n",
    "mean_family_income = inc_gpa_df.family_income.mean()\n",
    "mean_gpa = inc_gpa_df.gpa.mean()\n",
    "mean_parent_avg_age = inc_gpa_df.parent_avg_age.mean()\n",
    "\n",
    "\n"
   ]
  },
  {
   "cell_type": "code",
   "execution_count": 87,
   "metadata": {
    "collapsed": true
   },
   "outputs": [],
   "source": [
    "#covariance function\n",
    "import math\n",
    "\n",
    "def co_var(variable1,variable2):\n",
    "    \"\"\"calculate cov\"\"\"\n",
    "    var1_mean = variable1.mean()\n",
    "    var2_mean = variable2.mean()\n",
    "    \n",
    "    observations = variable1.count()\n",
    "    counter = 0\n",
    "    Cov = 0\n",
    "    \n",
    "    while counter < observations:\n",
    "        Cov+=((variable1[counter]-var1_mean)*(variable2[counter]-var2_mean))\n",
    "        \n",
    "        counter +=1\n",
    "        \n",
    "    return Cov / observations\n",
    "        \n",
    "    \n",
    "    \n",
    "    "
   ]
  },
  {
   "cell_type": "code",
   "execution_count": 74,
   "metadata": {
    "collapsed": false
   },
   "outputs": [
    {
     "data": {
      "text/plain": [
       "-1226.2147143883528"
      ]
     },
     "execution_count": 74,
     "metadata": {},
     "output_type": "execute_result"
    }
   ],
   "source": [
    "co_var(inc_gpa_df.family_income,inc_gpa_df.parent_avg_age)"
   ]
  },
  {
   "cell_type": "code",
   "execution_count": 61,
   "metadata": {
    "collapsed": false
   },
   "outputs": [
    {
     "data": {
      "text/plain": [
       "-1226.2147143883528"
      ]
     },
     "execution_count": 61,
     "metadata": {},
     "output_type": "execute_result"
    }
   ],
   "source": [
    "cov(inc_gpa_df.family_income,inc_gpa_df.parent_avg_age)\n",
    "#IT WORKS!\n"
   ]
  },
  {
   "cell_type": "code",
   "execution_count": 71,
   "metadata": {
    "collapsed": false
   },
   "outputs": [
    {
     "data": {
      "text/plain": [
       "3.1622776601683795"
      ]
     },
     "execution_count": 71,
     "metadata": {},
     "output_type": "execute_result"
    }
   ],
   "source": [
    "math.sqrt(10)"
   ]
  },
  {
   "cell_type": "code",
   "execution_count": 88,
   "metadata": {
    "collapsed": true
   },
   "outputs": [],
   "source": [
    "def correlation(var1,var2):\n",
    "    cov_var1_var2 = co_var(var1,var2)\n",
    "    variance1 =math.sqrt(co_var(var1,var1))\n",
    "    variance2 =math.sqrt(co_var(var2,var2))\n",
    "    return cov_var1_var2 / (variance1*variance2 )\n",
    "    "
   ]
  },
  {
   "cell_type": "code",
   "execution_count": 89,
   "metadata": {
    "collapsed": false
   },
   "outputs": [
    {
     "data": {
      "text/plain": [
       "-0.0091348539645125012"
      ]
     },
     "execution_count": 89,
     "metadata": {},
     "output_type": "execute_result"
    }
   ],
   "source": [
    "correlation(inc_gpa_df.parent_avg_age,inc_gpa_df.gpa)"
   ]
  },
  {
   "cell_type": "code",
   "execution_count": 84,
   "metadata": {
    "collapsed": false
   },
   "outputs": [
    {
     "data": {
      "text/plain": [
       "array([[ 1.        , -0.00913485],\n",
       "       [-0.00913485,  1.        ]])"
      ]
     },
     "execution_count": 84,
     "metadata": {},
     "output_type": "execute_result"
    }
   ],
   "source": [
    "corrcoef(inc_gpa_df.parent_avg_age,inc_gpa_df.gpa)"
   ]
  },
  {
   "cell_type": "code",
   "execution_count": 85,
   "metadata": {
    "collapsed": false
   },
   "outputs": [
    {
     "data": {
      "text/plain": [
       "array([[ 1.        ,  0.74226939],\n",
       "       [ 0.74226939,  1.        ]])"
      ]
     },
     "execution_count": 85,
     "metadata": {},
     "output_type": "execute_result"
    }
   ],
   "source": [
    "corrcoef(inc_gpa_df.family_income,inc_gpa_df.gpa)"
   ]
  },
  {
   "cell_type": "markdown",
   "metadata": {},
   "source": [
    "## The variable most correlation with GPA is family income (.74 for family income vs GPA vs -.009 correlation for avg age vs gpa)"
   ]
  },
  {
   "cell_type": "markdown",
   "metadata": {},
   "source": [
    "**Question 2**\n",
    "- Is `gpa` independent of the `family_income`? Why or why not?"
   ]
  },
  {
   "cell_type": "code",
   "execution_count": 107,
   "metadata": {
    "collapsed": false
   },
   "outputs": [
    {
     "data": {
      "text/html": [
       "<div>\n",
       "<table border=\"1\" class=\"dataframe\">\n",
       "  <thead>\n",
       "    <tr style=\"text-align: right;\">\n",
       "      <th></th>\n",
       "      <th>family_income</th>\n",
       "      <th>gpa</th>\n",
       "      <th>parent_avg_age</th>\n",
       "    </tr>\n",
       "  </thead>\n",
       "  <tbody>\n",
       "    <tr>\n",
       "      <th>0</th>\n",
       "      <td>31402.0</td>\n",
       "      <td>3.18</td>\n",
       "      <td>32</td>\n",
       "    </tr>\n",
       "    <tr>\n",
       "      <th>1</th>\n",
       "      <td>32247.0</td>\n",
       "      <td>2.98</td>\n",
       "      <td>48</td>\n",
       "    </tr>\n",
       "    <tr>\n",
       "      <th>2</th>\n",
       "      <td>34732.0</td>\n",
       "      <td>2.85</td>\n",
       "      <td>61</td>\n",
       "    </tr>\n",
       "    <tr>\n",
       "      <th>3</th>\n",
       "      <td>53759.0</td>\n",
       "      <td>3.39</td>\n",
       "      <td>62</td>\n",
       "    </tr>\n",
       "    <tr>\n",
       "      <th>4</th>\n",
       "      <td>50952.0</td>\n",
       "      <td>3.10</td>\n",
       "      <td>45</td>\n",
       "    </tr>\n",
       "  </tbody>\n",
       "</table>\n",
       "</div>"
      ],
      "text/plain": [
       "   family_income   gpa  parent_avg_age\n",
       "0        31402.0  3.18              32\n",
       "1        32247.0  2.98              48\n",
       "2        34732.0  2.85              61\n",
       "3        53759.0  3.39              62\n",
       "4        50952.0  3.10              45"
      ]
     },
     "execution_count": 107,
     "metadata": {},
     "output_type": "execute_result"
    }
   ],
   "source": [
    "inc_gpa_df.head()"
   ]
  },
  {
   "cell_type": "code",
   "execution_count": 111,
   "metadata": {
    "collapsed": false
   },
   "outputs": [
    {
     "data": {
      "text/plain": [
       "0.74226939020384908"
      ]
     },
     "execution_count": 111,
     "metadata": {},
     "output_type": "execute_result"
    }
   ],
   "source": [
    "correlation(inc_gpa_df.family_income,inc_gpa_df.gpa)"
   ]
  },
  {
   "cell_type": "markdown",
   "metadata": {},
   "source": [
    "Since the correlation is not 0, we can conclude that these variables (gpa and family_income) are dependent."
   ]
  },
  {
   "cell_type": "markdown",
   "metadata": {},
   "source": [
    "**Question 3**\n",
    "- By categorizing the `gpa` into low/medium/high and `family_income` into `low/medium/high` (choose cut-off values that make sense to you), compute the conditional probability distributions and conduct analysis about how `family_income` affects `gpa`."
   ]
  },
  {
   "cell_type": "code",
   "execution_count": 233,
   "metadata": {
    "collapsed": false
   },
   "outputs": [
    {
     "data": {
      "text/html": [
       "<div>\n",
       "<table border=\"1\" class=\"dataframe\">\n",
       "  <thead>\n",
       "    <tr style=\"text-align: right;\">\n",
       "      <th></th>\n",
       "      <th>family_income</th>\n",
       "      <th>gpa</th>\n",
       "      <th>parent_avg_age</th>\n",
       "    </tr>\n",
       "  </thead>\n",
       "  <tbody>\n",
       "    <tr>\n",
       "      <th>count</th>\n",
       "      <td>10992.000</td>\n",
       "      <td>10992.000</td>\n",
       "      <td>10992.000</td>\n",
       "    </tr>\n",
       "    <tr>\n",
       "      <th>mean</th>\n",
       "      <td>40191.637</td>\n",
       "      <td>2.998</td>\n",
       "      <td>47.812</td>\n",
       "    </tr>\n",
       "    <tr>\n",
       "      <th>std</th>\n",
       "      <td>18246.672</td>\n",
       "      <td>0.296</td>\n",
       "      <td>10.629</td>\n",
       "    </tr>\n",
       "    <tr>\n",
       "      <th>min</th>\n",
       "      <td>168.000</td>\n",
       "      <td>2.010</td>\n",
       "      <td>30.000</td>\n",
       "    </tr>\n",
       "    <tr>\n",
       "      <th>25%</th>\n",
       "      <td>26832.750</td>\n",
       "      <td>2.800</td>\n",
       "      <td>39.000</td>\n",
       "    </tr>\n",
       "    <tr>\n",
       "      <th>50%</th>\n",
       "      <td>37510.000</td>\n",
       "      <td>2.990</td>\n",
       "      <td>48.000</td>\n",
       "    </tr>\n",
       "    <tr>\n",
       "      <th>75%</th>\n",
       "      <td>51112.250</td>\n",
       "      <td>3.200</td>\n",
       "      <td>57.000</td>\n",
       "    </tr>\n",
       "    <tr>\n",
       "      <th>max</th>\n",
       "      <td>125508.000</td>\n",
       "      <td>3.970</td>\n",
       "      <td>66.000</td>\n",
       "    </tr>\n",
       "  </tbody>\n",
       "</table>\n",
       "</div>"
      ],
      "text/plain": [
       "       family_income        gpa  parent_avg_age\n",
       "count      10992.000  10992.000       10992.000\n",
       "mean       40191.637      2.998          47.812\n",
       "std        18246.672      0.296          10.629\n",
       "min          168.000      2.010          30.000\n",
       "25%        26832.750      2.800          39.000\n",
       "50%        37510.000      2.990          48.000\n",
       "75%        51112.250      3.200          57.000\n",
       "max       125508.000      3.970          66.000"
      ]
     },
     "execution_count": 233,
     "metadata": {},
     "output_type": "execute_result"
    }
   ],
   "source": [
    "inc_gpa_df.describe()"
   ]
  },
  {
   "cell_type": "markdown",
   "metadata": {},
   "source": [
    "Below the first quartile we will define as the low family_income, between the first quartile and third quartile we will define as middle family_income, and above the third quartile we will define as high family_income. We will follow this same procedure for GPA."
   ]
  },
  {
   "cell_type": "markdown",
   "metadata": {},
   "source": [
    "\n"
   ]
  },
  {
   "cell_type": "code",
   "execution_count": 278,
   "metadata": {
    "collapsed": false
   },
   "outputs": [
    {
     "name": "stderr",
     "output_type": "stream",
     "text": [
      "/Users/jonathanhilgart/anaconda/lib/python3.5/site-packages/ipykernel/__main__.py:3: SettingWithCopyWarning: \n",
      "A value is trying to be set on a copy of a slice from a DataFrame\n",
      "\n",
      "See the caveats in the documentation: http://pandas.pydata.org/pandas-docs/stable/indexing.html#indexing-view-versus-copy\n",
      "  app.launch_new_instance()\n",
      "/Users/jonathanhilgart/anaconda/lib/python3.5/site-packages/ipykernel/__main__.py:14: SettingWithCopyWarning: \n",
      "A value is trying to be set on a copy of a slice from a DataFrame\n",
      "\n",
      "See the caveats in the documentation: http://pandas.pydata.org/pandas-docs/stable/indexing.html#indexing-view-versus-copy\n"
     ]
    }
   ],
   "source": [
    "inc_gpa_df_conditional = inc_gpa_df.copy()\n",
    "#print(inc_gpa_df_conditional)\n",
    "inc_gpa_df_conditional.family_income[inc_gpa_df_conditional.family_income<=26832.750]='low_income'\n",
    "\n",
    "\n",
    "\n",
    "\n",
    "inc_gpa_df_conditional.family_income[ (inc_gpa_df.family_income>26832.750) & (inc_gpa_df.family_income<51112.250).any()]='middle_income'\n",
    "\n",
    "inc_gpa_df_conditional.family_income[inc_gpa_df.family_income>=51112.250]='high_income'\n",
    "\n",
    "#inc_gpa_df_conditional.family_income\n",
    "\n",
    "inc_gpa_df_conditional.gpa[inc_gpa_df.gpa<=2.800]='low_gpa'\n",
    "inc_gpa_df_conditional.gpa[(inc_gpa_df.gpa>2.800) & (inc_gpa_df.gpa<3.200).any()]='middle_gpa'\n",
    "inc_gpa_df_conditional.gpa[inc_gpa_df.gpa>=3.2]='high_gpa'\n",
    "\n",
    "#inc_gpa_df_conditional.head()"
   ]
  },
  {
   "cell_type": "code",
   "execution_count": 304,
   "metadata": {
    "collapsed": false
   },
   "outputs": [
    {
     "data": {
      "text/html": [
       "<div>\n",
       "<table border=\"1\" class=\"dataframe\">\n",
       "  <thead>\n",
       "    <tr style=\"text-align: right;\">\n",
       "      <th>gpa</th>\n",
       "      <th>high_gpa</th>\n",
       "      <th>low_gpa</th>\n",
       "      <th>middle_gpa</th>\n",
       "    </tr>\n",
       "    <tr>\n",
       "      <th>family_income</th>\n",
       "      <th></th>\n",
       "      <th></th>\n",
       "      <th></th>\n",
       "    </tr>\n",
       "  </thead>\n",
       "  <tbody>\n",
       "    <tr>\n",
       "      <th>high_income</th>\n",
       "      <td>1658</td>\n",
       "      <td>0</td>\n",
       "      <td>1090</td>\n",
       "    </tr>\n",
       "    <tr>\n",
       "      <th>low_income</th>\n",
       "      <td>15</td>\n",
       "      <td>1795</td>\n",
       "      <td>938</td>\n",
       "    </tr>\n",
       "    <tr>\n",
       "      <th>middle_income</th>\n",
       "      <td>1106</td>\n",
       "      <td>1045</td>\n",
       "      <td>3345</td>\n",
       "    </tr>\n",
       "  </tbody>\n",
       "</table>\n",
       "</div>"
      ],
      "text/plain": [
       "gpa            high_gpa  low_gpa  middle_gpa\n",
       "family_income                               \n",
       "high_income        1658        0        1090\n",
       "low_income           15     1795         938\n",
       "middle_income      1106     1045        3345"
      ]
     },
     "execution_count": 304,
     "metadata": {},
     "output_type": "execute_result"
    }
   ],
   "source": [
    "cross_income_gpa = pd.crosstab(inc_gpa_df_conditional.family_income,inc_gpa_df_conditional.gpa)\n",
    "cross_income_gpa "
   ]
  },
  {
   "cell_type": "markdown",
   "metadata": {},
   "source": []
  },
  {
   "cell_type": "code",
   "execution_count": 312,
   "metadata": {
    "collapsed": false
   },
   "outputs": [],
   "source": [
    "##conditional probabilities for \n",
    "\n",
    "cross_income_conditional = cross_income_gpa.copy()\n",
    "\n",
    "row_s = cross_income_conditional.sum(axis=1)\n",
    "high_income_sum = row_s[0]\n",
    "low_income_sum = row_s[1]\n",
    "middle_income_sum = row_s[2]\n",
    "\n",
    "# cross_income_conditional.ix['high_income']\n",
    "\n",
    "\n",
    "\n",
    "# high_income_sum = cross_income_gpa.sum()\n",
    "# middle_income_sum = cross_income_gpa.middle_income.sum()\n",
    "# low_income_sum = cross_income_gpa.low_income.sum()\n",
    "\n",
    "\n",
    "\n",
    "# print(cross_income_conditional)\n",
    "cross_income_conditional.ix['high_income'] = cross_income_conditional.ix['high_income']/high_income_sum\n",
    "# print(cross_income_conditional.ix['high_income'])\n",
    "\n",
    "cross_income_conditional.ix['middle_income'] = cross_income_conditional.ix['middle_income']/middle_income_sum\n",
    "cross_income_conditional.ix['low_income'] = cross_income_conditional.ix['low_income']/low_income_sum\n",
    "\n",
    "\n",
    "#cross_income_conditional"
   ]
  },
  {
   "cell_type": "code",
   "execution_count": 313,
   "metadata": {
    "collapsed": false
   },
   "outputs": [
    {
     "data": {
      "text/html": [
       "<div>\n",
       "<table border=\"1\" class=\"dataframe\">\n",
       "  <thead>\n",
       "    <tr style=\"text-align: right;\">\n",
       "      <th>gpa</th>\n",
       "      <th>high_gpa</th>\n",
       "      <th>low_gpa</th>\n",
       "      <th>middle_gpa</th>\n",
       "    </tr>\n",
       "    <tr>\n",
       "      <th>family_income</th>\n",
       "      <th></th>\n",
       "      <th></th>\n",
       "      <th></th>\n",
       "    </tr>\n",
       "  </thead>\n",
       "  <tbody>\n",
       "    <tr>\n",
       "      <th>high_income</th>\n",
       "      <td>0.603</td>\n",
       "      <td>0.000</td>\n",
       "      <td>0.397</td>\n",
       "    </tr>\n",
       "    <tr>\n",
       "      <th>low_income</th>\n",
       "      <td>0.005</td>\n",
       "      <td>0.653</td>\n",
       "      <td>0.341</td>\n",
       "    </tr>\n",
       "    <tr>\n",
       "      <th>middle_income</th>\n",
       "      <td>0.201</td>\n",
       "      <td>0.190</td>\n",
       "      <td>0.609</td>\n",
       "    </tr>\n",
       "  </tbody>\n",
       "</table>\n",
       "</div>"
      ],
      "text/plain": [
       "gpa            high_gpa  low_gpa  middle_gpa\n",
       "family_income                               \n",
       "high_income       0.603    0.000       0.397\n",
       "low_income        0.005    0.653       0.341\n",
       "middle_income     0.201    0.190       0.609"
      ]
     },
     "execution_count": 313,
     "metadata": {},
     "output_type": "execute_result"
    }
   ],
   "source": [
    "cross_income_conditional"
   ]
  },
  {
   "cell_type": "code",
   "execution_count": 314,
   "metadata": {
    "collapsed": false
   },
   "outputs": [],
   "source": [
    "import seaborn as sns"
   ]
  },
  {
   "cell_type": "code",
   "execution_count": 319,
   "metadata": {
    "collapsed": false
   },
   "outputs": [
    {
     "data": {
      "text/plain": [
       "<matplotlib.text.Text at 0x11c494550>"
      ]
     },
     "execution_count": 319,
     "metadata": {},
     "output_type": "execute_result"
    },
    {
     "data": {
      "image/png": "[encoded data removed]",
      "text/plain": [
       "<matplotlib.figure.Figure at 0x11d1b90b8>"
      ]
     },
     "metadata": {},
     "output_type": "display_data"
    }
   ],
   "source": [
    "cross_income_conditional.plot(kind='bar')\n",
    "plt.ylabel('conditional probability')"
   ]
  },
  {
   "cell_type": "code",
   "execution_count": null,
   "metadata": {
    "collapsed": true
   },
   "outputs": [],
   "source": []
  }
 ],
 "metadata": {
  "anaconda-cloud": {},
  "kernelspec": {
   "display_name": "Python [Root]",
   "language": "python",
   "name": "Python [Root]"
  },
  "language_info": {
   "codemirror_mode": {
    "name": "ipython",
    "version": 3
   },
   "file_extension": ".py",
   "mimetype": "text/x-python",
   "name": "python",
   "nbconvert_exporter": "python",
   "pygments_lexer": "ipython3",
   "version": "3.5.2"
  }
 },
 "nbformat": 4,
 "nbformat_minor": 0
}
