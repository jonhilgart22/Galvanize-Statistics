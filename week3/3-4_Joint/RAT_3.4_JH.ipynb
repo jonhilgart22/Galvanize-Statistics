{
 "cells": [
  {
   "cell_type": "code",
   "execution_count": 1,
   "metadata": {
    "collapsed": true
   },
   "outputs": [],
   "source": [
    "import numpy as np\n",
    "from scipy import stats"
   ]
  },
  {
   "cell_type": "markdown",
   "metadata": {},
   "source": [
    "# Question One"
   ]
  },
  {
   "cell_type": "code",
   "execution_count": 7,
   "metadata": {
    "collapsed": false
   },
   "outputs": [
    {
     "data": {
      "text/plain": [
       "0.87492806436284964"
      ]
     },
     "execution_count": 7,
     "metadata": {},
     "output_type": "execute_result"
    }
   ],
   "source": [
    "1-stats.norm.cdf(-1.15)\n"
   ]
  },
  {
   "cell_type": "markdown",
   "metadata": {},
   "source": [
    "# Question Two"
   ]
  },
  {
   "cell_type": "code",
   "execution_count": 8,
   "metadata": {
    "collapsed": false
   },
   "outputs": [
    {
     "data": {
      "text/plain": [
       "0.26701890758933922"
      ]
     },
     "execution_count": 8,
     "metadata": {},
     "output_type": "execute_result"
    }
   ],
   "source": [
    "stats.norm.cdf(1.2)-stats.norm.cdf(.3)\n"
   ]
  },
  {
   "cell_type": "markdown",
   "metadata": {},
   "source": [
    "# Question Three"
   ]
  },
  {
   "cell_type": "code",
   "execution_count": 13,
   "metadata": {
    "collapsed": false
   },
   "outputs": [
    {
     "data": {
      "text/plain": [
       "0.97724987345091696"
      ]
     },
     "execution_count": 13,
     "metadata": {},
     "output_type": "execute_result"
    }
   ],
   "source": [
    "stats.norm.cdf(2.0000001)"
   ]
  },
  {
   "cell_type": "code",
   "execution_count": 12,
   "metadata": {
    "collapsed": false
   },
   "outputs": [
    {
     "data": {
      "text/plain": [
       "0.022750131948179195"
      ]
     },
     "execution_count": 12,
     "metadata": {},
     "output_type": "execute_result"
    }
   ],
   "source": [
    "stats.norm.cdf(-2)"
   ]
  },
  {
   "cell_type": "code",
   "execution_count": 16,
   "metadata": {
    "collapsed": false
   },
   "outputs": [
    {
     "data": {
      "text/plain": [
       "0.045500258497262233"
      ]
     },
     "execution_count": 16,
     "metadata": {},
     "output_type": "execute_result"
    }
   ],
   "source": [
    "(1-stats.norm.cdf(2.0000001))+(stats.norm.cdf(-2))"
   ]
  },
  {
   "cell_type": "markdown",
   "metadata": {},
   "source": [
    "# Question Two"
   ]
  },
  {
   "cell_type": "code",
   "execution_count": 17,
   "metadata": {
    "collapsed": true
   },
   "outputs": [],
   "source": [
    "#norm.pdf(x, loc, scale)\n",
    "\n",
    "#"
   ]
  },
  {
   "cell_type": "code",
   "execution_count": 20,
   "metadata": {
    "collapsed": false
   },
   "outputs": [
    {
     "data": {
      "text/plain": [
       "array([  2.37456629e-02,   2.41667573e-02,   2.44994311e-02,\n",
       "         2.47398554e-02,   2.48852410e-02,   2.49338925e-02,\n",
       "         2.48852410e-02,   2.47398554e-02,   2.44994311e-02,\n",
       "         2.41667573e-02,   2.37456629e-02,   2.32409434e-02,\n",
       "         2.26582698e-02,   2.20040829e-02,   2.12854746e-02,\n",
       "         2.05100605e-02,   1.96858460e-02,   1.88210895e-02,\n",
       "         1.79241667e-02,   1.70034374e-02,   1.60671192e-02,\n",
       "         1.51231703e-02,   1.41791829e-02,   1.32422904e-02,\n",
       "         1.23190876e-02,   1.14155678e-02,   1.05370740e-02,\n",
       "         9.68826659e-03,   8.87310595e-03,   8.09484973e-03,\n",
       "         7.35606320e-03,   6.65864176e-03,   6.00384381e-03,\n",
       "         5.39233243e-03,   4.82422403e-03,   4.29914224e-03,\n",
       "         3.81627532e-03,   3.37443541e-03,   2.97211820e-03,\n",
       "         2.60756158e-03,   2.27880207e-03,   1.98372824e-03,\n",
       "         1.72013005e-03,   1.48574380e-03,   1.27829211e-03,\n",
       "         1.09551878e-03,   9.35218487e-04,   7.95261350e-04,\n",
       "         6.73612606e-04,   5.68347656e-04,   4.77662864e-04,\n",
       "         3.99882519e-04,   3.33462421e-04,   2.76990526e-04,\n",
       "         2.29185147e-04,   1.88891127e-04,   1.55074427e-04,\n",
       "         1.26815504e-04,   1.03301839e-04,   8.38199296e-05,\n",
       "         6.77469999e-05,   5.45426684e-05,   4.37407507e-05,\n",
       "         3.49413451e-05,   2.78033128e-05,   2.20372301e-05,\n",
       "         1.73988685e-05,   1.36832274e-05,   1.07191319e-05,\n",
       "         8.36438911e-06,   6.50148217e-06,   5.03377803e-06,\n",
       "         3.88221232e-06,   2.98241478e-06,   2.28223489e-06,\n",
       "         1.73962714e-06,   1.32085622e-06,   9.98983819e-07,\n",
       "         7.52601188e-07,   5.64774243e-07,   4.22171005e-07,\n",
       "         3.14344206e-07,   2.33144972e-07,   1.72246412e-07,\n",
       "         1.26758722e-07,   9.29199697e-08,   6.78490549e-08,\n",
       "         4.93494234e-08,   3.57539394e-08,   2.58029437e-08,\n",
       "         1.85488994e-08,   1.32822171e-08,   9.47385080e-09,\n",
       "         6.73110003e-09,   4.76375135e-09,   3.35827041e-09,\n",
       "         2.35822792e-09,   1.64952700e-09,   1.14930850e-09,\n",
       "         7.97659138e-10])"
      ]
     },
     "execution_count": 20,
     "metadata": {},
     "output_type": "execute_result"
    }
   ],
   "source": [
    "x = np.arange(100)\n",
    "\n",
    "stats.norm.pdf(x, 5, 16)"
   ]
  },
  {
   "cell_type": "code",
   "execution_count": null,
   "metadata": {
    "collapsed": true
   },
   "outputs": [],
   "source": []
  }
 ],
 "metadata": {
  "kernelspec": {
   "display_name": "Python [Root]",
   "language": "python",
   "name": "Python [Root]"
  },
  "language_info": {
   "codemirror_mode": {
    "name": "ipython",
    "version": 3
   },
   "file_extension": ".py",
   "mimetype": "text/x-python",
   "name": "python",
   "nbconvert_exporter": "python",
   "pygments_lexer": "ipython3",
   "version": "3.5.2"
  }
 },
 "nbformat": 4,
 "nbformat_minor": 0
}
