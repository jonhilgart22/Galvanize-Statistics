{
 "cells": [
  {
   "cell_type": "markdown",
   "metadata": {},
   "source": [
    "# Pokemon Analysis\n",
    "---\n",
    "### I will be exploring the Pokemon dataset from [Kaggle](http://www.kaggle.com).\n",
    "The dataset was downloaded from https://www.kaggle.com/abcsds/pokemon. \n",
    "\n"
   ]
  },
  {
   "cell_type": "code",
   "execution_count": 1,
   "metadata": {
    "collapsed": false
   },
   "outputs": [
    {
     "name": "stdout",
     "output_type": "stream",
     "text": [
      "Populating the interactive namespace from numpy and matplotlib\n"
     ]
    }
   ],
   "source": [
    "%pylab inline\n",
    "\n",
    "import pandas as pd\n",
    "import seaborn as sns\n",
    "\n",
    "from sqlalchemy import create_engine\n",
    "\n",
    "random.seed(1234)\n",
    "sns.set(font_scale=1.5)"
   ]
  },
  {
   "cell_type": "markdown",
   "metadata": {},
   "source": [
    "### Next, load the csv file into a DataFrame and look at the first few lines."
   ]
  },
  {
   "cell_type": "code",
   "execution_count": 2,
   "metadata": {
    "collapsed": false
   },
   "outputs": [
    {
     "data": {
      "text/html": [
       "<div>\n",
       "<table border=\"1\" class=\"dataframe\">\n",
       "  <thead>\n",
       "    <tr style=\"text-align: right;\">\n",
       "      <th></th>\n",
       "      <th>#</th>\n",
       "      <th>Name</th>\n",
       "      <th>Type 1</th>\n",
       "      <th>Type 2</th>\n",
       "      <th>Total</th>\n",
       "      <th>HP</th>\n",
       "      <th>Attack</th>\n",
       "      <th>Defense</th>\n",
       "      <th>Sp. Atk</th>\n",
       "      <th>Sp. Def</th>\n",
       "      <th>Speed</th>\n",
       "      <th>Generation</th>\n",
       "      <th>Legendary</th>\n",
       "    </tr>\n",
       "  </thead>\n",
       "  <tbody>\n",
       "    <tr>\n",
       "      <th>0</th>\n",
       "      <td>1</td>\n",
       "      <td>Bulbasaur</td>\n",
       "      <td>Grass</td>\n",
       "      <td>Poison</td>\n",
       "      <td>318</td>\n",
       "      <td>45</td>\n",
       "      <td>49</td>\n",
       "      <td>49</td>\n",
       "      <td>65</td>\n",
       "      <td>65</td>\n",
       "      <td>45</td>\n",
       "      <td>1</td>\n",
       "      <td>False</td>\n",
       "    </tr>\n",
       "    <tr>\n",
       "      <th>1</th>\n",
       "      <td>2</td>\n",
       "      <td>Ivysaur</td>\n",
       "      <td>Grass</td>\n",
       "      <td>Poison</td>\n",
       "      <td>405</td>\n",
       "      <td>60</td>\n",
       "      <td>62</td>\n",
       "      <td>63</td>\n",
       "      <td>80</td>\n",
       "      <td>80</td>\n",
       "      <td>60</td>\n",
       "      <td>1</td>\n",
       "      <td>False</td>\n",
       "    </tr>\n",
       "    <tr>\n",
       "      <th>2</th>\n",
       "      <td>3</td>\n",
       "      <td>Venusaur</td>\n",
       "      <td>Grass</td>\n",
       "      <td>Poison</td>\n",
       "      <td>525</td>\n",
       "      <td>80</td>\n",
       "      <td>82</td>\n",
       "      <td>83</td>\n",
       "      <td>100</td>\n",
       "      <td>100</td>\n",
       "      <td>80</td>\n",
       "      <td>1</td>\n",
       "      <td>False</td>\n",
       "    </tr>\n",
       "    <tr>\n",
       "      <th>3</th>\n",
       "      <td>3</td>\n",
       "      <td>VenusaurMega Venusaur</td>\n",
       "      <td>Grass</td>\n",
       "      <td>Poison</td>\n",
       "      <td>625</td>\n",
       "      <td>80</td>\n",
       "      <td>100</td>\n",
       "      <td>123</td>\n",
       "      <td>122</td>\n",
       "      <td>120</td>\n",
       "      <td>80</td>\n",
       "      <td>1</td>\n",
       "      <td>False</td>\n",
       "    </tr>\n",
       "    <tr>\n",
       "      <th>4</th>\n",
       "      <td>4</td>\n",
       "      <td>Charmander</td>\n",
       "      <td>Fire</td>\n",
       "      <td>NaN</td>\n",
       "      <td>309</td>\n",
       "      <td>39</td>\n",
       "      <td>52</td>\n",
       "      <td>43</td>\n",
       "      <td>60</td>\n",
       "      <td>50</td>\n",
       "      <td>65</td>\n",
       "      <td>1</td>\n",
       "      <td>False</td>\n",
       "    </tr>\n",
       "  </tbody>\n",
       "</table>\n",
       "</div>"
      ],
      "text/plain": [
       "   #                   Name Type 1  Type 2  Total  HP  Attack  Defense  \\\n",
       "0  1              Bulbasaur  Grass  Poison    318  45      49       49   \n",
       "1  2                Ivysaur  Grass  Poison    405  60      62       63   \n",
       "2  3               Venusaur  Grass  Poison    525  80      82       83   \n",
       "3  3  VenusaurMega Venusaur  Grass  Poison    625  80     100      123   \n",
       "4  4             Charmander   Fire     NaN    309  39      52       43   \n",
       "\n",
       "   Sp. Atk  Sp. Def  Speed  Generation Legendary  \n",
       "0       65       65     45           1     False  \n",
       "1       80       80     60           1     False  \n",
       "2      100      100     80           1     False  \n",
       "3      122      120     80           1     False  \n",
       "4       60       50     65           1     False  "
      ]
     },
     "execution_count": 2,
     "metadata": {},
     "output_type": "execute_result"
    }
   ],
   "source": [
    "df = pd.read_csv('Pokemon.csv')\n",
    "df.head()"
   ]
  },
  {
   "cell_type": "markdown",
   "metadata": {},
   "source": [
    "Here are some variable descriptions from the Kaggle website:\n",
    "\n",
    "|Variable|Description|\n",
    "|:-:|:--|\n",
    "|**#**|ID for each pokemon|\n",
    "|**Name**|Name of each pokemon|\n",
    "|**Type 1**|Each pokemon has a type, this determines weakness/resistance to attacks|\n",
    "|**Type 2**|Some pokemon are dual type and have 2|\n",
    "|**Total**|sum of all stats that come after this, a general guide to how strong a pokemon is|\n",
    "|**HP**|hit points, or health, defines how much damage a pokemon can withstand before fainting|\n",
    "|**Attack**|the base modifier for normal attacks (eg. Scratch, Punch)|\n",
    "|**Defense**|the base damage resistance against normal attacks|\n",
    "|**SP. Atk**|special attack, the base modifier for special attacks (e.g. fire blast, bubble beam)|\n",
    "|**SP. Def**|the base damage resistance against special attacks|\n",
    "|**Speed**|determines which pokemon attacks first each round|\n",
    "|**Generation**|the number of the generation a pokemon belongs to\n",
    "|**Legendary**|boolean value indicating if a pokemon is Legendary (True) or not Legendary (False)|\n",
    "\n",
    "Notice that there are multiple entries for Pokemon \\#3 (Venusaur). We won't be able to set `#` as the index since it contains duplicates.\n",
    "\n",
    "We can also modify the column names to get rid of periods and spaces. The column names should also be lowercased for use with SQLite."
   ]
  },
  {
   "cell_type": "code",
   "execution_count": 3,
   "metadata": {
    "collapsed": false
   },
   "outputs": [
    {
     "name": "stdout",
     "output_type": "stream",
     "text": [
      "Index(['#', 'name', 'type1', 'type2', 'total', 'hp', 'attack', 'defense',\n",
      "       'spatk', 'spdef', 'speed', 'generation', 'legendary'],\n",
      "      dtype='object')\n"
     ]
    }
   ],
   "source": [
    "# Lowercase and replace periods & spaces in the column names\n",
    "new_names = []\n",
    "\n",
    "for col in df.columns:\n",
    "    new_names.append(col.replace('.', '', len(col)).replace(' ', '', len(col)).lower())\n",
    "\n",
    "df.columns = new_names\n",
    "\n",
    "print(df.columns)"
   ]
  },
  {
   "cell_type": "markdown",
   "metadata": {},
   "source": []
  },
  {
   "cell_type": "code",
   "execution_count": 4,
   "metadata": {
    "collapsed": false
   },
   "outputs": [
    {
     "data": {
      "text/html": [
       "<div>\n",
       "<table border=\"1\" class=\"dataframe\">\n",
       "  <thead>\n",
       "    <tr style=\"text-align: right;\">\n",
       "      <th></th>\n",
       "      <th>#</th>\n",
       "      <th>name</th>\n",
       "      <th>type1</th>\n",
       "      <th>type2</th>\n",
       "      <th>total</th>\n",
       "      <th>hp</th>\n",
       "      <th>attack</th>\n",
       "      <th>defense</th>\n",
       "      <th>spatk</th>\n",
       "      <th>spdef</th>\n",
       "      <th>speed</th>\n",
       "      <th>generation</th>\n",
       "      <th>legendary</th>\n",
       "    </tr>\n",
       "  </thead>\n",
       "  <tbody>\n",
       "    <tr>\n",
       "      <th>0</th>\n",
       "      <td>1</td>\n",
       "      <td>Bulbasaur</td>\n",
       "      <td>Grass</td>\n",
       "      <td>Poison</td>\n",
       "      <td>318</td>\n",
       "      <td>45</td>\n",
       "      <td>49</td>\n",
       "      <td>49</td>\n",
       "      <td>65</td>\n",
       "      <td>65</td>\n",
       "      <td>45</td>\n",
       "      <td>1</td>\n",
       "      <td>0</td>\n",
       "    </tr>\n",
       "    <tr>\n",
       "      <th>1</th>\n",
       "      <td>2</td>\n",
       "      <td>Ivysaur</td>\n",
       "      <td>Grass</td>\n",
       "      <td>Poison</td>\n",
       "      <td>405</td>\n",
       "      <td>60</td>\n",
       "      <td>62</td>\n",
       "      <td>63</td>\n",
       "      <td>80</td>\n",
       "      <td>80</td>\n",
       "      <td>60</td>\n",
       "      <td>1</td>\n",
       "      <td>0</td>\n",
       "    </tr>\n",
       "    <tr>\n",
       "      <th>2</th>\n",
       "      <td>3</td>\n",
       "      <td>Venusaur</td>\n",
       "      <td>Grass</td>\n",
       "      <td>Poison</td>\n",
       "      <td>525</td>\n",
       "      <td>80</td>\n",
       "      <td>82</td>\n",
       "      <td>83</td>\n",
       "      <td>100</td>\n",
       "      <td>100</td>\n",
       "      <td>80</td>\n",
       "      <td>1</td>\n",
       "      <td>0</td>\n",
       "    </tr>\n",
       "    <tr>\n",
       "      <th>3</th>\n",
       "      <td>3</td>\n",
       "      <td>VenusaurMega Venusaur</td>\n",
       "      <td>Grass</td>\n",
       "      <td>Poison</td>\n",
       "      <td>625</td>\n",
       "      <td>80</td>\n",
       "      <td>100</td>\n",
       "      <td>123</td>\n",
       "      <td>122</td>\n",
       "      <td>120</td>\n",
       "      <td>80</td>\n",
       "      <td>1</td>\n",
       "      <td>0</td>\n",
       "    </tr>\n",
       "    <tr>\n",
       "      <th>4</th>\n",
       "      <td>4</td>\n",
       "      <td>Charmander</td>\n",
       "      <td>Fire</td>\n",
       "      <td>NaN</td>\n",
       "      <td>309</td>\n",
       "      <td>39</td>\n",
       "      <td>52</td>\n",
       "      <td>43</td>\n",
       "      <td>60</td>\n",
       "      <td>50</td>\n",
       "      <td>65</td>\n",
       "      <td>1</td>\n",
       "      <td>0</td>\n",
       "    </tr>\n",
       "  </tbody>\n",
       "</table>\n",
       "</div>"
      ],
      "text/plain": [
       "   #                   name  type1   type2  total  hp  attack  defense  spatk  \\\n",
       "0  1              Bulbasaur  Grass  Poison    318  45      49       49     65   \n",
       "1  2                Ivysaur  Grass  Poison    405  60      62       63     80   \n",
       "2  3               Venusaur  Grass  Poison    525  80      82       83    100   \n",
       "3  3  VenusaurMega Venusaur  Grass  Poison    625  80     100      123    122   \n",
       "4  4             Charmander   Fire     NaN    309  39      52       43     60   \n",
       "\n",
       "   spdef  speed  generation  legendary  \n",
       "0     65     45           1          0  \n",
       "1     80     60           1          0  \n",
       "2    100     80           1          0  \n",
       "3    120     80           1          0  \n",
       "4     50     65           1          0  "
      ]
     },
     "execution_count": 4,
     "metadata": {},
     "output_type": "execute_result"
    }
   ],
   "source": [
    "df['legendary'] = df['legendary'].apply(lambda x: 1 if x == True else 0)\n",
    "df.head()\n"
   ]
  },
  {
   "cell_type": "markdown",
   "metadata": {},
   "source": [
    "### Next, load the data into SQL\n",
    "\n",
    "First we'll need to create a database, then create a table in our new database."
   ]
  },
  {
   "cell_type": "code",
   "execution_count": 5,
   "metadata": {
    "collapsed": false
   },
   "outputs": [
    {
     "ename": "ValueError",
     "evalue": "Table 'pokemon' already exists.",
     "output_type": "error",
     "traceback": [
      "\u001b[0;31m---------------------------------------------------------------------------\u001b[0m",
      "\u001b[0;31mValueError\u001b[0m                                Traceback (most recent call last)",
      "\u001b[0;32m<ipython-input-5-771cfa7b4fdd>\u001b[0m in \u001b[0;36m<module>\u001b[0;34m()\u001b[0m\n\u001b[1;32m      2\u001b[0m \u001b[0mengine\u001b[0m \u001b[0;34m=\u001b[0m \u001b[0mcreate_engine\u001b[0m\u001b[0;34m(\u001b[0m\u001b[0;34m'sqlite:///pokemon.db'\u001b[0m\u001b[0;34m)\u001b[0m\u001b[0;34m\u001b[0m\u001b[0m\n\u001b[1;32m      3\u001b[0m \u001b[0mconn\u001b[0m \u001b[0;34m=\u001b[0m \u001b[0mengine\u001b[0m\u001b[0;34m.\u001b[0m\u001b[0mconnect\u001b[0m\u001b[0;34m(\u001b[0m\u001b[0;34m)\u001b[0m\u001b[0;34m\u001b[0m\u001b[0m\n\u001b[0;32m----> 4\u001b[0;31m \u001b[0mdf\u001b[0m\u001b[0;34m.\u001b[0m\u001b[0mto_sql\u001b[0m\u001b[0;34m(\u001b[0m\u001b[0;34m'pokemon'\u001b[0m\u001b[0;34m,\u001b[0m \u001b[0mconn\u001b[0m\u001b[0;34m)\u001b[0m\u001b[0;34m\u001b[0m\u001b[0m\n\u001b[0m",
      "\u001b[0;32m/Users/jonathanhilgart/anaconda/lib/python3.5/site-packages/pandas/core/generic.py\u001b[0m in \u001b[0;36mto_sql\u001b[0;34m(self, name, con, flavor, schema, if_exists, index, index_label, chunksize, dtype)\u001b[0m\n\u001b[1;32m   1163\u001b[0m         sql.to_sql(self, name, con, flavor=flavor, schema=schema,\n\u001b[1;32m   1164\u001b[0m                    \u001b[0mif_exists\u001b[0m\u001b[0;34m=\u001b[0m\u001b[0mif_exists\u001b[0m\u001b[0;34m,\u001b[0m \u001b[0mindex\u001b[0m\u001b[0;34m=\u001b[0m\u001b[0mindex\u001b[0m\u001b[0;34m,\u001b[0m \u001b[0mindex_label\u001b[0m\u001b[0;34m=\u001b[0m\u001b[0mindex_label\u001b[0m\u001b[0;34m,\u001b[0m\u001b[0;34m\u001b[0m\u001b[0m\n\u001b[0;32m-> 1165\u001b[0;31m                    chunksize=chunksize, dtype=dtype)\n\u001b[0m\u001b[1;32m   1166\u001b[0m \u001b[0;34m\u001b[0m\u001b[0m\n\u001b[1;32m   1167\u001b[0m     \u001b[0;32mdef\u001b[0m \u001b[0mto_pickle\u001b[0m\u001b[0;34m(\u001b[0m\u001b[0mself\u001b[0m\u001b[0;34m,\u001b[0m \u001b[0mpath\u001b[0m\u001b[0;34m)\u001b[0m\u001b[0;34m:\u001b[0m\u001b[0;34m\u001b[0m\u001b[0m\n",
      "\u001b[0;32m/Users/jonathanhilgart/anaconda/lib/python3.5/site-packages/pandas/io/sql.py\u001b[0m in \u001b[0;36mto_sql\u001b[0;34m(frame, name, con, flavor, schema, if_exists, index, index_label, chunksize, dtype)\u001b[0m\n\u001b[1;32m    569\u001b[0m     pandas_sql.to_sql(frame, name, if_exists=if_exists, index=index,\n\u001b[1;32m    570\u001b[0m                       \u001b[0mindex_label\u001b[0m\u001b[0;34m=\u001b[0m\u001b[0mindex_label\u001b[0m\u001b[0;34m,\u001b[0m \u001b[0mschema\u001b[0m\u001b[0;34m=\u001b[0m\u001b[0mschema\u001b[0m\u001b[0;34m,\u001b[0m\u001b[0;34m\u001b[0m\u001b[0m\n\u001b[0;32m--> 571\u001b[0;31m                       chunksize=chunksize, dtype=dtype)\n\u001b[0m\u001b[1;32m    572\u001b[0m \u001b[0;34m\u001b[0m\u001b[0m\n\u001b[1;32m    573\u001b[0m \u001b[0;34m\u001b[0m\u001b[0m\n",
      "\u001b[0;32m/Users/jonathanhilgart/anaconda/lib/python3.5/site-packages/pandas/io/sql.py\u001b[0m in \u001b[0;36mto_sql\u001b[0;34m(self, frame, name, if_exists, index, index_label, schema, chunksize, dtype)\u001b[0m\n\u001b[1;32m   1247\u001b[0m                          \u001b[0mif_exists\u001b[0m\u001b[0;34m=\u001b[0m\u001b[0mif_exists\u001b[0m\u001b[0;34m,\u001b[0m \u001b[0mindex_label\u001b[0m\u001b[0;34m=\u001b[0m\u001b[0mindex_label\u001b[0m\u001b[0;34m,\u001b[0m\u001b[0;34m\u001b[0m\u001b[0m\n\u001b[1;32m   1248\u001b[0m                          schema=schema, dtype=dtype)\n\u001b[0;32m-> 1249\u001b[0;31m         \u001b[0mtable\u001b[0m\u001b[0;34m.\u001b[0m\u001b[0mcreate\u001b[0m\u001b[0;34m(\u001b[0m\u001b[0;34m)\u001b[0m\u001b[0;34m\u001b[0m\u001b[0m\n\u001b[0m\u001b[1;32m   1250\u001b[0m         \u001b[0mtable\u001b[0m\u001b[0;34m.\u001b[0m\u001b[0minsert\u001b[0m\u001b[0;34m(\u001b[0m\u001b[0mchunksize\u001b[0m\u001b[0;34m)\u001b[0m\u001b[0;34m\u001b[0m\u001b[0m\n\u001b[1;32m   1251\u001b[0m         \u001b[0;32mif\u001b[0m \u001b[0;34m(\u001b[0m\u001b[0;32mnot\u001b[0m \u001b[0mname\u001b[0m\u001b[0;34m.\u001b[0m\u001b[0misdigit\u001b[0m\u001b[0;34m(\u001b[0m\u001b[0;34m)\u001b[0m \u001b[0;32mand\u001b[0m \u001b[0;32mnot\u001b[0m \u001b[0mname\u001b[0m\u001b[0;34m.\u001b[0m\u001b[0mislower\u001b[0m\u001b[0;34m(\u001b[0m\u001b[0;34m)\u001b[0m\u001b[0;34m)\u001b[0m\u001b[0;34m:\u001b[0m\u001b[0;34m\u001b[0m\u001b[0m\n",
      "\u001b[0;32m/Users/jonathanhilgart/anaconda/lib/python3.5/site-packages/pandas/io/sql.py\u001b[0m in \u001b[0;36mcreate\u001b[0;34m(self)\u001b[0m\n\u001b[1;32m    690\u001b[0m         \u001b[0;32mif\u001b[0m \u001b[0mself\u001b[0m\u001b[0;34m.\u001b[0m\u001b[0mexists\u001b[0m\u001b[0;34m(\u001b[0m\u001b[0;34m)\u001b[0m\u001b[0;34m:\u001b[0m\u001b[0;34m\u001b[0m\u001b[0m\n\u001b[1;32m    691\u001b[0m             \u001b[0;32mif\u001b[0m \u001b[0mself\u001b[0m\u001b[0;34m.\u001b[0m\u001b[0mif_exists\u001b[0m \u001b[0;34m==\u001b[0m \u001b[0;34m'fail'\u001b[0m\u001b[0;34m:\u001b[0m\u001b[0;34m\u001b[0m\u001b[0m\n\u001b[0;32m--> 692\u001b[0;31m                 \u001b[0;32mraise\u001b[0m \u001b[0mValueError\u001b[0m\u001b[0;34m(\u001b[0m\u001b[0;34m\"Table '%s' already exists.\"\u001b[0m \u001b[0;34m%\u001b[0m \u001b[0mself\u001b[0m\u001b[0;34m.\u001b[0m\u001b[0mname\u001b[0m\u001b[0;34m)\u001b[0m\u001b[0;34m\u001b[0m\u001b[0m\n\u001b[0m\u001b[1;32m    693\u001b[0m             \u001b[0;32melif\u001b[0m \u001b[0mself\u001b[0m\u001b[0;34m.\u001b[0m\u001b[0mif_exists\u001b[0m \u001b[0;34m==\u001b[0m \u001b[0;34m'replace'\u001b[0m\u001b[0;34m:\u001b[0m\u001b[0;34m\u001b[0m\u001b[0m\n\u001b[1;32m    694\u001b[0m                 \u001b[0mself\u001b[0m\u001b[0;34m.\u001b[0m\u001b[0mpd_sql\u001b[0m\u001b[0;34m.\u001b[0m\u001b[0mdrop_table\u001b[0m\u001b[0;34m(\u001b[0m\u001b[0mself\u001b[0m\u001b[0;34m.\u001b[0m\u001b[0mname\u001b[0m\u001b[0;34m,\u001b[0m \u001b[0mself\u001b[0m\u001b[0;34m.\u001b[0m\u001b[0mschema\u001b[0m\u001b[0;34m)\u001b[0m\u001b[0;34m\u001b[0m\u001b[0m\n",
      "\u001b[0;31mValueError\u001b[0m: Table 'pokemon' already exists."
     ]
    }
   ],
   "source": [
    "# Create pokemon table in pokemon database (only run this once!)\n",
    "engine = create_engine('sqlite:///pokemon.db')\n",
    "conn = engine.connect()\n",
    "df.to_sql('pokemon', conn)"
   ]
  },
  {
   "cell_type": "code",
   "execution_count": 6,
   "metadata": {
    "collapsed": false
   },
   "outputs": [
    {
     "name": "stderr",
     "output_type": "stream",
     "text": [
      "/Users/jonathanhilgart/anaconda/lib/python3.5/site-packages/IPython/config.py:13: ShimWarning: The `IPython.config` package has been deprecated. You should import from traitlets.config instead.\n",
      "  \"You should import from traitlets.config instead.\", ShimWarning)\n",
      "/Users/jonathanhilgart/anaconda/lib/python3.5/site-packages/IPython/utils/traitlets.py:5: UserWarning: IPython.utils.traitlets has moved to a top-level traitlets package.\n",
      "  warn(\"IPython.utils.traitlets has moved to a top-level traitlets package.\")\n"
     ]
    }
   ],
   "source": [
    "%load_ext sql"
   ]
  },
  {
   "cell_type": "code",
   "execution_count": 7,
   "metadata": {
    "collapsed": false
   },
   "outputs": [
    {
     "data": {
      "text/plain": [
       "'Connected: None@None'"
      ]
     },
     "execution_count": 7,
     "metadata": {},
     "output_type": "execute_result"
    }
   ],
   "source": [
    "%sql sqlite://"
   ]
  },
  {
   "cell_type": "code",
   "execution_count": 8,
   "metadata": {
    "collapsed": false
   },
   "outputs": [
    {
     "data": {
      "text/plain": [
       "'Connected: None@pokemon.db'"
      ]
     },
     "execution_count": 8,
     "metadata": {},
     "output_type": "execute_result"
    }
   ],
   "source": [
    "%sql sqlite:///pokemon.db"
   ]
  },
  {
   "cell_type": "code",
   "execution_count": 9,
   "metadata": {
    "collapsed": false
   },
   "outputs": [
    {
     "name": "stdout",
     "output_type": "stream",
     "text": [
      "Done.\n"
     ]
    },
    {
     "data": {
      "text/html": [
       "<table>\n",
       "    <tr>\n",
       "        <th>index</th>\n",
       "        <th>#</th>\n",
       "        <th>name</th>\n",
       "        <th>type1</th>\n",
       "        <th>type2</th>\n",
       "        <th>total</th>\n",
       "        <th>hp</th>\n",
       "        <th>attack</th>\n",
       "        <th>defense</th>\n",
       "        <th>spatk</th>\n",
       "        <th>spdef</th>\n",
       "        <th>speed</th>\n",
       "        <th>generation</th>\n",
       "        <th>legendary</th>\n",
       "    </tr>\n",
       "    <tr>\n",
       "        <td>0</td>\n",
       "        <td>1</td>\n",
       "        <td>Bulbasaur</td>\n",
       "        <td>Grass</td>\n",
       "        <td>Poison</td>\n",
       "        <td>318</td>\n",
       "        <td>45</td>\n",
       "        <td>49</td>\n",
       "        <td>49</td>\n",
       "        <td>65</td>\n",
       "        <td>65</td>\n",
       "        <td>45</td>\n",
       "        <td>1</td>\n",
       "        <td>0</td>\n",
       "    </tr>\n",
       "    <tr>\n",
       "        <td>1</td>\n",
       "        <td>2</td>\n",
       "        <td>Ivysaur</td>\n",
       "        <td>Grass</td>\n",
       "        <td>Poison</td>\n",
       "        <td>405</td>\n",
       "        <td>60</td>\n",
       "        <td>62</td>\n",
       "        <td>63</td>\n",
       "        <td>80</td>\n",
       "        <td>80</td>\n",
       "        <td>60</td>\n",
       "        <td>1</td>\n",
       "        <td>0</td>\n",
       "    </tr>\n",
       "    <tr>\n",
       "        <td>2</td>\n",
       "        <td>3</td>\n",
       "        <td>Venusaur</td>\n",
       "        <td>Grass</td>\n",
       "        <td>Poison</td>\n",
       "        <td>525</td>\n",
       "        <td>80</td>\n",
       "        <td>82</td>\n",
       "        <td>83</td>\n",
       "        <td>100</td>\n",
       "        <td>100</td>\n",
       "        <td>80</td>\n",
       "        <td>1</td>\n",
       "        <td>0</td>\n",
       "    </tr>\n",
       "</table>"
      ],
      "text/plain": [
       "[(0, 1, 'Bulbasaur', 'Grass', 'Poison', 318, 45, 49, 49, 65, 65, 45, 1, 0),\n",
       " (1, 2, 'Ivysaur', 'Grass', 'Poison', 405, 60, 62, 63, 80, 80, 60, 1, 0),\n",
       " (2, 3, 'Venusaur', 'Grass', 'Poison', 525, 80, 82, 83, 100, 100, 80, 1, 0)]"
      ]
     },
     "execution_count": 9,
     "metadata": {},
     "output_type": "execute_result"
    }
   ],
   "source": [
    "%%sql\n",
    "SELECT * FROM pokemon LIMIT 3;"
   ]
  },
  {
   "cell_type": "markdown",
   "metadata": {
    "collapsed": true
   },
   "source": [
    "# SQL:\n",
    "Most useful Pokemon (largest Total value)?"
   ]
  },
  {
   "cell_type": "code",
   "execution_count": 10,
   "metadata": {
    "collapsed": false
   },
   "outputs": [
    {
     "name": "stdout",
     "output_type": "stream",
     "text": [
      "Done.\n"
     ]
    },
    {
     "data": {
      "text/html": [
       "<table>\n",
       "    <tr>\n",
       "        <th>max(total)</th>\n",
       "        <th>name</th>\n",
       "        <th>hp</th>\n",
       "        <th>attack</th>\n",
       "        <th>defense</th>\n",
       "        <th>speed</th>\n",
       "    </tr>\n",
       "    <tr>\n",
       "        <td>780</td>\n",
       "        <td>MewtwoMega Mewtwo X</td>\n",
       "        <td>106</td>\n",
       "        <td>190</td>\n",
       "        <td>100</td>\n",
       "        <td>130</td>\n",
       "    </tr>\n",
       "</table>"
      ],
      "text/plain": [
       "[(780, 'MewtwoMega Mewtwo X', 106, 190, 100, 130)]"
      ]
     },
     "execution_count": 10,
     "metadata": {},
     "output_type": "execute_result"
    }
   ],
   "source": [
    "%%sql\n",
    "SELECT max(total),name, hp, attack, defense, speed FROM pokemon;"
   ]
  },
  {
   "cell_type": "markdown",
   "metadata": {
    "collapsed": true
   },
   "source": [
    "MewtwoMega Mewtwo X seems to be the most powerful Pokemon based upon having the largest total value."
   ]
  },
  {
   "cell_type": "markdown",
   "metadata": {
    "collapsed": true
   },
   "source": [
    "# SQL: \n",
    "### Mean attack, defense, hp, and total for each type of pokemon?\n"
   ]
  },
  {
   "cell_type": "code",
   "execution_count": 11,
   "metadata": {
    "collapsed": false
   },
   "outputs": [
    {
     "name": "stdout",
     "output_type": "stream",
     "text": [
      "Done.\n"
     ]
    },
    {
     "data": {
      "text/html": [
       "<table>\n",
       "    <tr>\n",
       "        <th>average_attack</th>\n",
       "        <th>average_defense</th>\n",
       "        <th>average_hp</th>\n",
       "        <th>average_total</th>\n",
       "        <th>type1</th>\n",
       "    </tr>\n",
       "    <tr>\n",
       "        <td>112.125</td>\n",
       "        <td>86.375</td>\n",
       "        <td>83.3125</td>\n",
       "        <td>550.53125</td>\n",
       "        <td>Dragon</td>\n",
       "    </tr>\n",
       "    <tr>\n",
       "        <td>92.70370370370371</td>\n",
       "        <td>126.37037037037037</td>\n",
       "        <td>65.22222222222223</td>\n",
       "        <td>487.7037037037037</td>\n",
       "        <td>Steel</td>\n",
       "    </tr>\n",
       "    <tr>\n",
       "        <td>78.75</td>\n",
       "        <td>66.25</td>\n",
       "        <td>70.75</td>\n",
       "        <td>485.0</td>\n",
       "        <td>Flying</td>\n",
       "    </tr>\n",
       "    <tr>\n",
       "        <td>71.45614035087719</td>\n",
       "        <td>67.6842105263158</td>\n",
       "        <td>70.63157894736842</td>\n",
       "        <td>475.94736842105266</td>\n",
       "        <td>Psychic</td>\n",
       "    </tr>\n",
       "    <tr>\n",
       "        <td>84.76923076923077</td>\n",
       "        <td>67.76923076923077</td>\n",
       "        <td>69.90384615384616</td>\n",
       "        <td>458.0769230769231</td>\n",
       "        <td>Fire</td>\n",
       "    </tr>\n",
       "    <tr>\n",
       "        <td>92.86363636363636</td>\n",
       "        <td>100.79545454545455</td>\n",
       "        <td>65.36363636363636</td>\n",
       "        <td>453.75</td>\n",
       "        <td>Rock</td>\n",
       "    </tr>\n",
       "    <tr>\n",
       "        <td>88.38709677419355</td>\n",
       "        <td>70.2258064516129</td>\n",
       "        <td>66.80645161290323</td>\n",
       "        <td>445.741935483871</td>\n",
       "        <td>Dark</td>\n",
       "    </tr>\n",
       "    <tr>\n",
       "        <td>69.0909090909091</td>\n",
       "        <td>66.29545454545455</td>\n",
       "        <td>59.79545454545455</td>\n",
       "        <td>443.40909090909093</td>\n",
       "        <td>Electric</td>\n",
       "    </tr>\n",
       "    <tr>\n",
       "        <td>73.78125</td>\n",
       "        <td>81.1875</td>\n",
       "        <td>64.4375</td>\n",
       "        <td>439.5625</td>\n",
       "        <td>Ghost</td>\n",
       "    </tr>\n",
       "    <tr>\n",
       "        <td>95.75</td>\n",
       "        <td>84.84375</td>\n",
       "        <td>73.78125</td>\n",
       "        <td>437.5</td>\n",
       "        <td>Ground</td>\n",
       "    </tr>\n",
       "    <tr>\n",
       "        <td>72.75</td>\n",
       "        <td>71.41666666666667</td>\n",
       "        <td>72.0</td>\n",
       "        <td>433.4583333333333</td>\n",
       "        <td>Ice</td>\n",
       "    </tr>\n",
       "    <tr>\n",
       "        <td>74.15178571428571</td>\n",
       "        <td>72.94642857142857</td>\n",
       "        <td>72.0625</td>\n",
       "        <td>430.45535714285717</td>\n",
       "        <td>Water</td>\n",
       "    </tr>\n",
       "    <tr>\n",
       "        <td>73.21428571428571</td>\n",
       "        <td>70.8</td>\n",
       "        <td>67.27142857142857</td>\n",
       "        <td>421.14285714285717</td>\n",
       "        <td>Grass</td>\n",
       "    </tr>\n",
       "    <tr>\n",
       "        <td>96.77777777777777</td>\n",
       "        <td>65.92592592592592</td>\n",
       "        <td>69.85185185185185</td>\n",
       "        <td>416.44444444444446</td>\n",
       "        <td>Fighting</td>\n",
       "    </tr>\n",
       "    <tr>\n",
       "        <td>61.529411764705884</td>\n",
       "        <td>65.70588235294117</td>\n",
       "        <td>74.11764705882354</td>\n",
       "        <td>413.1764705882353</td>\n",
       "        <td>Fairy</td>\n",
       "    </tr>\n",
       "    <tr>\n",
       "        <td>73.46938775510205</td>\n",
       "        <td>59.8469387755102</td>\n",
       "        <td>77.27551020408163</td>\n",
       "        <td>401.68367346938777</td>\n",
       "        <td>Normal</td>\n",
       "    </tr>\n",
       "    <tr>\n",
       "        <td>74.67857142857143</td>\n",
       "        <td>68.82142857142857</td>\n",
       "        <td>67.25</td>\n",
       "        <td>399.14285714285717</td>\n",
       "        <td>Poison</td>\n",
       "    </tr>\n",
       "    <tr>\n",
       "        <td>70.97101449275362</td>\n",
       "        <td>70.72463768115942</td>\n",
       "        <td>56.88405797101449</td>\n",
       "        <td>378.92753623188406</td>\n",
       "        <td>Bug</td>\n",
       "    </tr>\n",
       "</table>"
      ],
      "text/plain": [
       "[(112.125, 86.375, 83.3125, 550.53125, 'Dragon'),\n",
       " (92.70370370370371, 126.37037037037037, 65.22222222222223, 487.7037037037037, 'Steel'),\n",
       " (78.75, 66.25, 70.75, 485.0, 'Flying'),\n",
       " (71.45614035087719, 67.6842105263158, 70.63157894736842, 475.94736842105266, 'Psychic'),\n",
       " (84.76923076923077, 67.76923076923077, 69.90384615384616, 458.0769230769231, 'Fire'),\n",
       " (92.86363636363636, 100.79545454545455, 65.36363636363636, 453.75, 'Rock'),\n",
       " (88.38709677419355, 70.2258064516129, 66.80645161290323, 445.741935483871, 'Dark'),\n",
       " (69.0909090909091, 66.29545454545455, 59.79545454545455, 443.40909090909093, 'Electric'),\n",
       " (73.78125, 81.1875, 64.4375, 439.5625, 'Ghost'),\n",
       " (95.75, 84.84375, 73.78125, 437.5, 'Ground'),\n",
       " (72.75, 71.41666666666667, 72.0, 433.4583333333333, 'Ice'),\n",
       " (74.15178571428571, 72.94642857142857, 72.0625, 430.45535714285717, 'Water'),\n",
       " (73.21428571428571, 70.8, 67.27142857142857, 421.14285714285717, 'Grass'),\n",
       " (96.77777777777777, 65.92592592592592, 69.85185185185185, 416.44444444444446, 'Fighting'),\n",
       " (61.529411764705884, 65.70588235294117, 74.11764705882354, 413.1764705882353, 'Fairy'),\n",
       " (73.46938775510205, 59.8469387755102, 77.27551020408163, 401.68367346938777, 'Normal'),\n",
       " (74.67857142857143, 68.82142857142857, 67.25, 399.14285714285717, 'Poison'),\n",
       " (70.97101449275362, 70.72463768115942, 56.88405797101449, 378.92753623188406, 'Bug')]"
      ]
     },
     "execution_count": 11,
     "metadata": {},
     "output_type": "execute_result"
    }
   ],
   "source": [
    "%%sql\n",
    "SELECT AVG(attack) as average_attack, AVG(defense) as average_defense, AVG(hp) as average_hp, \n",
    "AVG(total) as average_total, type1\n",
    "FROM pokemon\n",
    "GROUP BY type1\n",
    "ORDER BY average_total DESC;"
   ]
  },
  {
   "cell_type": "markdown",
   "metadata": {
    "collapsed": true
   },
   "source": [
    "# Distinct Pokemon that are Legendary (distinct means unique Pokemon #)."
   ]
  },
  {
   "cell_type": "code",
   "execution_count": 12,
   "metadata": {
    "collapsed": true
   },
   "outputs": [],
   "source": [
    "import pandas as pd\n",
    "from pandas import DataFrame as df\n"
   ]
  },
  {
   "cell_type": "code",
   "execution_count": 13,
   "metadata": {
    "collapsed": false
   },
   "outputs": [],
   "source": [
    "pokemon_df = pd.read_sql('pokemon',conn)"
   ]
  },
  {
   "cell_type": "code",
   "execution_count": 14,
   "metadata": {
    "collapsed": false
   },
   "outputs": [
    {
     "name": "stdout",
     "output_type": "stream",
     "text": [
      "<class 'pandas.core.frame.DataFrame'>\n"
     ]
    }
   ],
   "source": [
    "print(type(pokemon_df))"
   ]
  },
  {
   "cell_type": "code",
   "execution_count": 15,
   "metadata": {
    "collapsed": false
   },
   "outputs": [
    {
     "data": {
      "text/plain": [
       "Index(['index', '#', 'name', 'type1', 'type2', 'total', 'hp', 'attack',\n",
       "       'defense', 'spatk', 'spdef', 'speed', 'generation', 'legendary'],\n",
       "      dtype='object')"
      ]
     },
     "execution_count": 15,
     "metadata": {},
     "output_type": "execute_result"
    }
   ],
   "source": [
    "pokemon_df.dtypes.index"
   ]
  },
  {
   "cell_type": "code",
   "execution_count": 16,
   "metadata": {
    "collapsed": false
   },
   "outputs": [
    {
     "data": {
      "text/html": [
       "<div>\n",
       "<table border=\"1\" class=\"dataframe\">\n",
       "  <thead>\n",
       "    <tr style=\"text-align: right;\">\n",
       "      <th></th>\n",
       "      <th>index</th>\n",
       "      <th>#</th>\n",
       "      <th>name</th>\n",
       "      <th>type1</th>\n",
       "      <th>type2</th>\n",
       "      <th>total</th>\n",
       "      <th>hp</th>\n",
       "      <th>attack</th>\n",
       "      <th>defense</th>\n",
       "      <th>spatk</th>\n",
       "      <th>spdef</th>\n",
       "      <th>speed</th>\n",
       "      <th>generation</th>\n",
       "      <th>legendary</th>\n",
       "    </tr>\n",
       "  </thead>\n",
       "  <tbody>\n",
       "    <tr>\n",
       "      <th>0</th>\n",
       "      <td>0</td>\n",
       "      <td>1</td>\n",
       "      <td>Bulbasaur</td>\n",
       "      <td>Grass</td>\n",
       "      <td>Poison</td>\n",
       "      <td>318</td>\n",
       "      <td>45</td>\n",
       "      <td>49</td>\n",
       "      <td>49</td>\n",
       "      <td>65</td>\n",
       "      <td>65</td>\n",
       "      <td>45</td>\n",
       "      <td>1</td>\n",
       "      <td>0</td>\n",
       "    </tr>\n",
       "    <tr>\n",
       "      <th>1</th>\n",
       "      <td>1</td>\n",
       "      <td>2</td>\n",
       "      <td>Ivysaur</td>\n",
       "      <td>Grass</td>\n",
       "      <td>Poison</td>\n",
       "      <td>405</td>\n",
       "      <td>60</td>\n",
       "      <td>62</td>\n",
       "      <td>63</td>\n",
       "      <td>80</td>\n",
       "      <td>80</td>\n",
       "      <td>60</td>\n",
       "      <td>1</td>\n",
       "      <td>0</td>\n",
       "    </tr>\n",
       "    <tr>\n",
       "      <th>2</th>\n",
       "      <td>2</td>\n",
       "      <td>3</td>\n",
       "      <td>Venusaur</td>\n",
       "      <td>Grass</td>\n",
       "      <td>Poison</td>\n",
       "      <td>525</td>\n",
       "      <td>80</td>\n",
       "      <td>82</td>\n",
       "      <td>83</td>\n",
       "      <td>100</td>\n",
       "      <td>100</td>\n",
       "      <td>80</td>\n",
       "      <td>1</td>\n",
       "      <td>0</td>\n",
       "    </tr>\n",
       "    <tr>\n",
       "      <th>3</th>\n",
       "      <td>3</td>\n",
       "      <td>3</td>\n",
       "      <td>VenusaurMega Venusaur</td>\n",
       "      <td>Grass</td>\n",
       "      <td>Poison</td>\n",
       "      <td>625</td>\n",
       "      <td>80</td>\n",
       "      <td>100</td>\n",
       "      <td>123</td>\n",
       "      <td>122</td>\n",
       "      <td>120</td>\n",
       "      <td>80</td>\n",
       "      <td>1</td>\n",
       "      <td>0</td>\n",
       "    </tr>\n",
       "    <tr>\n",
       "      <th>4</th>\n",
       "      <td>4</td>\n",
       "      <td>4</td>\n",
       "      <td>Charmander</td>\n",
       "      <td>Fire</td>\n",
       "      <td>None</td>\n",
       "      <td>309</td>\n",
       "      <td>39</td>\n",
       "      <td>52</td>\n",
       "      <td>43</td>\n",
       "      <td>60</td>\n",
       "      <td>50</td>\n",
       "      <td>65</td>\n",
       "      <td>1</td>\n",
       "      <td>0</td>\n",
       "    </tr>\n",
       "  </tbody>\n",
       "</table>\n",
       "</div>"
      ],
      "text/plain": [
       "   index  #                   name  type1   type2  total  hp  attack  defense  \\\n",
       "0      0  1              Bulbasaur  Grass  Poison    318  45      49       49   \n",
       "1      1  2                Ivysaur  Grass  Poison    405  60      62       63   \n",
       "2      2  3               Venusaur  Grass  Poison    525  80      82       83   \n",
       "3      3  3  VenusaurMega Venusaur  Grass  Poison    625  80     100      123   \n",
       "4      4  4             Charmander   Fire    None    309  39      52       43   \n",
       "\n",
       "   spatk  spdef  speed  generation  legendary  \n",
       "0     65     65     45           1          0  \n",
       "1     80     80     60           1          0  \n",
       "2    100    100     80           1          0  \n",
       "3    122    120     80           1          0  \n",
       "4     60     50     65           1          0  "
      ]
     },
     "execution_count": 16,
     "metadata": {},
     "output_type": "execute_result"
    }
   ],
   "source": [
    "pokemon_df.head()"
   ]
  },
  {
   "cell_type": "code",
   "execution_count": 17,
   "metadata": {
    "collapsed": false
   },
   "outputs": [],
   "source": [
    "pokemon_df['pokemon_number'] = pokemon_df['#']  "
   ]
  },
  {
   "cell_type": "code",
   "execution_count": 18,
   "metadata": {
    "collapsed": false
   },
   "outputs": [
    {
     "data": {
      "text/plain": [
       "46"
      ]
     },
     "execution_count": 18,
     "metadata": {},
     "output_type": "execute_result"
    }
   ],
   "source": [
    "#Number of unique Pokemon that are legendary\n",
    "unique_and_legendary =  pokemon_df.drop_duplicates(['pokemon_number'])\n",
    "unique_and_legendary = unique_and_legendary[unique_and_legendary.legendary==1]\n",
    "unique_lengendary = unique_and_legendary.legendary.count()\n",
    "unique_lengendary\n",
    "#max(pokemon_df.pokemon_number)"
   ]
  },
  {
   "cell_type": "code",
   "execution_count": 19,
   "metadata": {
    "collapsed": false
   },
   "outputs": [
    {
     "data": {
      "text/plain": [
       "0.063800277392510402"
      ]
     },
     "execution_count": 19,
     "metadata": {},
     "output_type": "execute_result"
    }
   ],
   "source": [
    "unique_lengendary/max(pokemon_df.pokemon_number)"
   ]
  },
  {
   "cell_type": "markdown",
   "metadata": {},
   "source": [
    "About 6.4% of unique pokemon are legendary. "
   ]
  },
  {
   "cell_type": "markdown",
   "metadata": {},
   "source": [
    "# Barplots of a categorical variables"
   ]
  },
  {
   "cell_type": "code",
   "execution_count": 20,
   "metadata": {
    "collapsed": false
   },
   "outputs": [],
   "source": [
    "import seaborn as sns\n",
    "#from seaborn import barplot\n",
    "\n",
    "#barplot('brand', 'price', data=laptops);"
   ]
  },
  {
   "cell_type": "code",
   "execution_count": 21,
   "metadata": {
    "collapsed": false
   },
   "outputs": [
    {
     "data": {
      "image/png": "[encoded data removed]",
      "text/plain": [
       "<matplotlib.figure.Figure at 0x1155a7278>"
      ]
     },
     "metadata": {},
     "output_type": "display_data"
    }
   ],
   "source": [
    "plt.figure(figsize=([20,6]))\n",
    "sns.barplot(x=pokemon_df.type2, y= pokemon_df.attack)\n",
    "plt.title('Type2 vs Attack');"
   ]
  },
  {
   "cell_type": "code",
   "execution_count": 22,
   "metadata": {
    "collapsed": false
   },
   "outputs": [
    {
     "data": {
      "image/png": "[encoded data removed]",
      "text/plain": [
       "<matplotlib.figure.Figure at 0x117c1dc50>"
      ]
     },
     "metadata": {},
     "output_type": "display_data"
    }
   ],
   "source": [
    "plt.figure(figsize=([20,6]))\n",
    "sns.barplot(x=pokemon_df.type1, y= pokemon_df.attack)\n",
    "plt.title('Type1 vs Attack');\n"
   ]
  },
  {
   "cell_type": "code",
   "execution_count": 23,
   "metadata": {
    "collapsed": false
   },
   "outputs": [
    {
     "data": {
      "image/png": "[encoded data removed]",
      "text/plain": [
       "<matplotlib.figure.Figure at 0x117ca0c18>"
      ]
     },
     "metadata": {},
     "output_type": "display_data"
    }
   ],
   "source": [
    "plt.figure(figsize=([20,12]))\n",
    "sns.barplot(x=pokemon_df.type1, y= pokemon_df.total)\n",
    "plt.title('type1 vs total');"
   ]
  },
  {
   "cell_type": "markdown",
   "metadata": {},
   "source": [
    "# Boxplots of continuous variables"
   ]
  },
  {
   "cell_type": "code",
   "execution_count": 24,
   "metadata": {
    "collapsed": false
   },
   "outputs": [
    {
     "data": {
      "image/png": "[encoded data removed]",
      "text/plain": [
       "<matplotlib.figure.Figure at 0x1155e1080>"
      ]
     },
     "metadata": {},
     "output_type": "display_data"
    }
   ],
   "source": [
    "\n",
    "sns.boxplot(x=pokemon_df.attack )\n",
    "plt.xlabel('Attack Points')\n",
    "plt.title('Attack Points for all Pokemon');"
   ]
  },
  {
   "cell_type": "code",
   "execution_count": 25,
   "metadata": {
    "collapsed": false
   },
   "outputs": [
    {
     "data": {
      "image/png": "[encoded data removed]",
      "text/plain": [
       "<matplotlib.figure.Figure at 0x119278b00>"
      ]
     },
     "metadata": {},
     "output_type": "display_data"
    }
   ],
   "source": [
    "\n",
    "sns.boxplot(x=pokemon_df.hp)\n",
    "plt.ylabel('HP Points')\n",
    "plt.title('Total Health Points for all Pokemon');"
   ]
  },
  {
   "cell_type": "code",
   "execution_count": 26,
   "metadata": {
    "collapsed": false
   },
   "outputs": [
    {
     "data": {
      "image/png": "[encoded data removed]",
      "text/plain": [
       "<matplotlib.figure.Figure at 0x119883128>"
      ]
     },
     "metadata": {},
     "output_type": "display_data"
    }
   ],
   "source": [
    "sns.boxplot(x=pokemon_df.defense)\n",
    "plt.title('Defense Points for all Pokemon');\n"
   ]
  },
  {
   "cell_type": "markdown",
   "metadata": {},
   "source": [
    "# Boxplots of continuous variables grouped by a categorical variables"
   ]
  },
  {
   "cell_type": "code",
   "execution_count": null,
   "metadata": {
    "collapsed": true
   },
   "outputs": [],
   "source": []
  },
  {
   "cell_type": "code",
   "execution_count": 27,
   "metadata": {
    "collapsed": false
   },
   "outputs": [
    {
     "data": {
      "image/png": "[encoded data removed]",
      "text/plain": [
       "<matplotlib.figure.Figure at 0x115586198>"
      ]
     },
     "metadata": {},
     "output_type": "display_data"
    }
   ],
   "source": [
    "\n",
    "sns.boxplot(x=pokemon_df.hp , y=pokemon_df.type1)\n",
    "plt.title('HP vs Type1 of all Pokemon');"
   ]
  },
  {
   "cell_type": "code",
   "execution_count": 28,
   "metadata": {
    "collapsed": false
   },
   "outputs": [
    {
     "data": {
      "image/png": "[encoded data removed]",
      "text/plain": [
       "<matplotlib.figure.Figure at 0x119ab0198>"
      ]
     },
     "metadata": {},
     "output_type": "display_data"
    }
   ],
   "source": [
    "\n",
    "sns.boxplot(x=pokemon_df.attack , y=pokemon_df.type1)\n",
    "plt.title('Attack points grouped by Type1 for all Pokemon');"
   ]
  },
  {
   "cell_type": "code",
   "execution_count": 29,
   "metadata": {
    "collapsed": false
   },
   "outputs": [
    {
     "data": {
      "image/png": "[encoded data removed]",
      "text/plain": [
       "<matplotlib.figure.Figure at 0x117ccb860>"
      ]
     },
     "metadata": {},
     "output_type": "display_data"
    }
   ],
   "source": [
    "\n",
    "sns.boxplot(x=pokemon_df.speed , y=pokemon_df.type1)\n",
    "plt.title('Speed grouped by Type1 for all Pokemon');"
   ]
  },
  {
   "cell_type": "markdown",
   "metadata": {},
   "source": [
    "# Mean and standard deviation of the total column for each Pokemon Type 1.\n"
   ]
  },
  {
   "cell_type": "code",
   "execution_count": 30,
   "metadata": {
    "collapsed": false
   },
   "outputs": [],
   "source": [
    "type1_grouped = pokemon_df.groupby('type1')['total'].describe()"
   ]
  },
  {
   "cell_type": "code",
   "execution_count": 31,
   "metadata": {
    "collapsed": false
   },
   "outputs": [
    {
     "data": {
      "text/plain": [
       "type1          \n",
       "Bug       count     69.000000\n",
       "          mean     378.927536\n",
       "          std      117.875223\n",
       "          min      194.000000\n",
       "          25%      269.000000\n",
       "          50%      395.000000\n",
       "          75%      475.000000\n",
       "          max      600.000000\n",
       "Dark      count     31.000000\n",
       "          mean     445.741935\n",
       "          std      109.126217\n",
       "          min      220.000000\n",
       "          25%      359.000000\n",
       "          50%      465.000000\n",
       "          75%      510.000000\n",
       "          max      680.000000\n",
       "Dragon    count     32.000000\n",
       "          mean     550.531250\n",
       "          std      146.267538\n",
       "          min      300.000000\n",
       "          25%      420.000000\n",
       "          50%      600.000000\n",
       "          75%      680.000000\n",
       "          max      780.000000\n",
       "Electric  count     44.000000\n",
       "          mean     443.409091\n",
       "          std      105.721952\n",
       "          min      205.000000\n",
       "          25%      362.250000\n",
       "          50%      477.500000\n",
       "                      ...    \n",
       "Psychic   std      139.026645\n",
       "          min      198.000000\n",
       "          25%      336.000000\n",
       "          50%      485.000000\n",
       "          75%      600.000000\n",
       "          max      780.000000\n",
       "Rock      count     44.000000\n",
       "          mean     453.750000\n",
       "          std      108.059227\n",
       "          min      280.000000\n",
       "          25%      360.250000\n",
       "          50%      467.500000\n",
       "          75%      516.500000\n",
       "          max      700.000000\n",
       "Steel     count     27.000000\n",
       "          mean     487.703704\n",
       "          std      115.420907\n",
       "          min      300.000000\n",
       "          25%      425.000000\n",
       "          50%      500.000000\n",
       "          75%      580.000000\n",
       "          max      700.000000\n",
       "Water     count    112.000000\n",
       "          mean     430.455357\n",
       "          std      113.188266\n",
       "          min      200.000000\n",
       "          25%      328.750000\n",
       "          50%      455.000000\n",
       "          75%      502.250000\n",
       "          max      770.000000\n",
       "Name: total, dtype: float64"
      ]
     },
     "execution_count": 31,
     "metadata": {},
     "output_type": "execute_result"
    }
   ],
   "source": [
    "type1_grouped"
   ]
  },
  {
   "cell_type": "markdown",
   "metadata": {},
   "source": []
  },
  {
   "cell_type": "code",
   "execution_count": 32,
   "metadata": {
    "collapsed": false
   },
   "outputs": [
    {
     "data": {
      "text/plain": [
       "count    800.000000\n",
       "mean      79.001250\n",
       "std       32.457366\n",
       "min        5.000000\n",
       "25%       55.000000\n",
       "50%       75.000000\n",
       "75%      100.000000\n",
       "max      190.000000\n",
       "Name: attack, dtype: float64"
      ]
     },
     "execution_count": 32,
     "metadata": {},
     "output_type": "execute_result"
    }
   ],
   "source": [
    "pokemon_df.attack.describe()"
   ]
  },
  {
   "cell_type": "code",
   "execution_count": 33,
   "metadata": {
    "collapsed": false
   },
   "outputs": [
    {
     "data": {
      "text/plain": [
       "count    800.000000\n",
       "mean      69.258750\n",
       "std       25.534669\n",
       "min        1.000000\n",
       "25%       50.000000\n",
       "50%       65.000000\n",
       "75%       80.000000\n",
       "max      255.000000\n",
       "Name: hp, dtype: float64"
      ]
     },
     "execution_count": 33,
     "metadata": {},
     "output_type": "execute_result"
    }
   ],
   "source": [
    "pokemon_df.hp.describe()"
   ]
  },
  {
   "cell_type": "code",
   "execution_count": 34,
   "metadata": {
    "collapsed": false
   },
   "outputs": [
    {
     "data": {
      "text/plain": [
       "count    800.000000\n",
       "mean      68.277500\n",
       "std       29.060474\n",
       "min        5.000000\n",
       "25%       45.000000\n",
       "50%       65.000000\n",
       "75%       90.000000\n",
       "max      180.000000\n",
       "Name: speed, dtype: float64"
      ]
     },
     "execution_count": 34,
     "metadata": {},
     "output_type": "execute_result"
    }
   ],
   "source": [
    "pokemon_df.speed.describe()"
   ]
  },
  {
   "cell_type": "markdown",
   "metadata": {
    "collapsed": true
   },
   "source": [
    "## Random  sample of 100:\n",
    "#### 1) Compare sample statistics & population statistics for Attack points.\n"
   ]
  },
  {
   "cell_type": "code",
   "execution_count": 35,
   "metadata": {
    "collapsed": false
   },
   "outputs": [
    {
     "data": {
      "text/html": [
       "<div>\n",
       "<table border=\"1\" class=\"dataframe\">\n",
       "  <thead>\n",
       "    <tr style=\"text-align: right;\">\n",
       "      <th></th>\n",
       "      <th>index</th>\n",
       "      <th>#</th>\n",
       "      <th>name</th>\n",
       "      <th>type1</th>\n",
       "      <th>type2</th>\n",
       "      <th>total</th>\n",
       "      <th>hp</th>\n",
       "      <th>attack</th>\n",
       "      <th>defense</th>\n",
       "      <th>spatk</th>\n",
       "      <th>spdef</th>\n",
       "      <th>speed</th>\n",
       "      <th>generation</th>\n",
       "      <th>legendary</th>\n",
       "      <th>pokemon_number</th>\n",
       "    </tr>\n",
       "  </thead>\n",
       "  <tbody>\n",
       "    <tr>\n",
       "      <th>0</th>\n",
       "      <td>0</td>\n",
       "      <td>1</td>\n",
       "      <td>Bulbasaur</td>\n",
       "      <td>Grass</td>\n",
       "      <td>Poison</td>\n",
       "      <td>318</td>\n",
       "      <td>45</td>\n",
       "      <td>49</td>\n",
       "      <td>49</td>\n",
       "      <td>65</td>\n",
       "      <td>65</td>\n",
       "      <td>45</td>\n",
       "      <td>1</td>\n",
       "      <td>0</td>\n",
       "      <td>1</td>\n",
       "    </tr>\n",
       "    <tr>\n",
       "      <th>1</th>\n",
       "      <td>1</td>\n",
       "      <td>2</td>\n",
       "      <td>Ivysaur</td>\n",
       "      <td>Grass</td>\n",
       "      <td>Poison</td>\n",
       "      <td>405</td>\n",
       "      <td>60</td>\n",
       "      <td>62</td>\n",
       "      <td>63</td>\n",
       "      <td>80</td>\n",
       "      <td>80</td>\n",
       "      <td>60</td>\n",
       "      <td>1</td>\n",
       "      <td>0</td>\n",
       "      <td>2</td>\n",
       "    </tr>\n",
       "    <tr>\n",
       "      <th>2</th>\n",
       "      <td>2</td>\n",
       "      <td>3</td>\n",
       "      <td>Venusaur</td>\n",
       "      <td>Grass</td>\n",
       "      <td>Poison</td>\n",
       "      <td>525</td>\n",
       "      <td>80</td>\n",
       "      <td>82</td>\n",
       "      <td>83</td>\n",
       "      <td>100</td>\n",
       "      <td>100</td>\n",
       "      <td>80</td>\n",
       "      <td>1</td>\n",
       "      <td>0</td>\n",
       "      <td>3</td>\n",
       "    </tr>\n",
       "    <tr>\n",
       "      <th>3</th>\n",
       "      <td>3</td>\n",
       "      <td>3</td>\n",
       "      <td>VenusaurMega Venusaur</td>\n",
       "      <td>Grass</td>\n",
       "      <td>Poison</td>\n",
       "      <td>625</td>\n",
       "      <td>80</td>\n",
       "      <td>100</td>\n",
       "      <td>123</td>\n",
       "      <td>122</td>\n",
       "      <td>120</td>\n",
       "      <td>80</td>\n",
       "      <td>1</td>\n",
       "      <td>0</td>\n",
       "      <td>3</td>\n",
       "    </tr>\n",
       "    <tr>\n",
       "      <th>4</th>\n",
       "      <td>4</td>\n",
       "      <td>4</td>\n",
       "      <td>Charmander</td>\n",
       "      <td>Fire</td>\n",
       "      <td>None</td>\n",
       "      <td>309</td>\n",
       "      <td>39</td>\n",
       "      <td>52</td>\n",
       "      <td>43</td>\n",
       "      <td>60</td>\n",
       "      <td>50</td>\n",
       "      <td>65</td>\n",
       "      <td>1</td>\n",
       "      <td>0</td>\n",
       "      <td>4</td>\n",
       "    </tr>\n",
       "  </tbody>\n",
       "</table>\n",
       "</div>"
      ],
      "text/plain": [
       "   index  #                   name  type1   type2  total  hp  attack  defense  \\\n",
       "0      0  1              Bulbasaur  Grass  Poison    318  45      49       49   \n",
       "1      1  2                Ivysaur  Grass  Poison    405  60      62       63   \n",
       "2      2  3               Venusaur  Grass  Poison    525  80      82       83   \n",
       "3      3  3  VenusaurMega Venusaur  Grass  Poison    625  80     100      123   \n",
       "4      4  4             Charmander   Fire    None    309  39      52       43   \n",
       "\n",
       "   spatk  spdef  speed  generation  legendary  pokemon_number  \n",
       "0     65     65     45           1          0               1  \n",
       "1     80     80     60           1          0               2  \n",
       "2    100    100     80           1          0               3  \n",
       "3    122    120     80           1          0               3  \n",
       "4     60     50     65           1          0               4  "
      ]
     },
     "execution_count": 35,
     "metadata": {},
     "output_type": "execute_result"
    }
   ],
   "source": [
    "pokemon_df.head()\n"
   ]
  },
  {
   "cell_type": "code",
   "execution_count": 36,
   "metadata": {
    "collapsed": false
   },
   "outputs": [
    {
     "data": {
      "text/plain": [
       "count    100.000000\n",
       "mean      80.660000\n",
       "std       32.694552\n",
       "min       10.000000\n",
       "25%       55.750000\n",
       "50%       80.000000\n",
       "75%      100.000000\n",
       "max      180.000000\n",
       "Name: attack, dtype: float64"
      ]
     },
     "execution_count": 36,
     "metadata": {},
     "output_type": "execute_result"
    }
   ],
   "source": [
    "## sample\n",
    "hundred_sample_df= pokemon_df.sample(100)\n",
    "\n",
    "\n",
    "hundred_sample_df.attack.describe()"
   ]
  },
  {
   "cell_type": "code",
   "execution_count": 37,
   "metadata": {
    "collapsed": false
   },
   "outputs": [
    {
     "data": {
      "text/plain": [
       "count    800.000000\n",
       "mean      79.001250\n",
       "std       32.457366\n",
       "min        5.000000\n",
       "25%       55.000000\n",
       "50%       75.000000\n",
       "75%      100.000000\n",
       "max      190.000000\n",
       "Name: attack, dtype: float64"
      ]
     },
     "execution_count": 37,
     "metadata": {},
     "output_type": "execute_result"
    }
   ],
   "source": [
    "##population\n",
    "\n",
    "pokemon_df.attack.describe()\n"
   ]
  },
  {
   "cell_type": "markdown",
   "metadata": {},
   "source": [
    "Comparing the attack of our sample to our population, the mean is slightly lower (74.37 vs 79), and the STD is also lower due to fewer extreme values. There are also differences is the max and min attack points of our sample vs population due to the nature of random sampling (we might have missed these extreme values in our sampling)."
   ]
  },
  {
   "cell_type": "markdown",
   "metadata": {},
   "source": [
    "# Histograms of the Attack points sample & Attack points population.\n"
   ]
  },
  {
   "cell_type": "code",
   "execution_count": 38,
   "metadata": {
    "collapsed": false
   },
   "outputs": [
    {
     "name": "stderr",
     "output_type": "stream",
     "text": [
      "/Users/jonathanhilgart/anaconda/lib/python3.5/site-packages/statsmodels/nonparametric/kdetools.py:20: VisibleDeprecationWarning: using a non-integer number instead of an integer will result in an error in the future\n",
      "  y = X[:m/2+1] + np.r_[0,X[m/2+1:],0]*1j\n"
     ]
    },
    {
     "data": {
      "image/png": "[encoded data removed]",
      "text/plain": [
       "<matplotlib.figure.Figure at 0x119f08908>"
      ]
     },
     "metadata": {},
     "output_type": "display_data"
    }
   ],
   "source": [
    "sns.distplot(hundred_sample_df.attack,norm_hist = True);\n",
    "ylabel('density')\n",
    "plt.title('100 Pokemon sample attack points');"
   ]
  },
  {
   "cell_type": "code",
   "execution_count": 39,
   "metadata": {
    "collapsed": false
   },
   "outputs": [
    {
     "name": "stderr",
     "output_type": "stream",
     "text": [
      "/Users/jonathanhilgart/anaconda/lib/python3.5/site-packages/statsmodels/nonparametric/kdetools.py:20: VisibleDeprecationWarning: using a non-integer number instead of an integer will result in an error in the future\n",
      "  y = X[:m/2+1] + np.r_[0,X[m/2+1:],0]*1j\n"
     ]
    },
    {
     "data": {
      "image/png": "[encoded data removed]",
      "text/plain": [
       "<matplotlib.figure.Figure at 0x119f08c50>"
      ]
     },
     "metadata": {},
     "output_type": "display_data"
    }
   ],
   "source": [
    "sns.distplot(pokemon_df.attack,norm_hist=True)\n",
    "ylabel('density')\n",
    "plt.title('Population attack points');"
   ]
  },
  {
   "cell_type": "markdown",
   "metadata": {},
   "source": [
    "- In comparing out histogram between the population for attack points and our sample, our sample appears to be much more normally distributed than our population which has a long tail to the right."
   ]
  },
  {
   "cell_type": "markdown",
   "metadata": {},
   "source": [
    "# Sample statistics vs. population statistics for at least one other continuous variable.\n"
   ]
  },
  {
   "cell_type": "code",
   "execution_count": 40,
   "metadata": {
    "collapsed": false
   },
   "outputs": [
    {
     "data": {
      "text/plain": [
       "count    100.000000\n",
       "mean     447.620000\n",
       "std      113.555645\n",
       "min      194.000000\n",
       "25%      358.000000\n",
       "50%      452.500000\n",
       "75%      511.250000\n",
       "max      780.000000\n",
       "Name: total, dtype: float64"
      ]
     },
     "execution_count": 40,
     "metadata": {},
     "output_type": "execute_result"
    }
   ],
   "source": [
    "hundred_sample_df.total.describe() "
   ]
  },
  {
   "cell_type": "code",
   "execution_count": 41,
   "metadata": {
    "collapsed": false
   },
   "outputs": [
    {
     "data": {
      "text/plain": [
       "count    800.00000\n",
       "mean     435.10250\n",
       "std      119.96304\n",
       "min      180.00000\n",
       "25%      330.00000\n",
       "50%      450.00000\n",
       "75%      515.00000\n",
       "max      780.00000\n",
       "Name: total, dtype: float64"
      ]
     },
     "execution_count": 41,
     "metadata": {},
     "output_type": "execute_result"
    }
   ],
   "source": [
    "pokemon_df.total.describe()"
   ]
  },
  {
   "cell_type": "code",
   "execution_count": 42,
   "metadata": {
    "collapsed": false
   },
   "outputs": [
    {
     "name": "stderr",
     "output_type": "stream",
     "text": [
      "/Users/jonathanhilgart/anaconda/lib/python3.5/site-packages/statsmodels/nonparametric/kdetools.py:20: VisibleDeprecationWarning: using a non-integer number instead of an integer will result in an error in the future\n",
      "  y = X[:m/2+1] + np.r_[0,X[m/2+1:],0]*1j\n"
     ]
    },
    {
     "data": {
      "image/png": "[encoded data removed]",
      "text/plain": [
       "<matplotlib.figure.Figure at 0x119cb8128>"
      ]
     },
     "metadata": {},
     "output_type": "display_data"
    }
   ],
   "source": [
    "import matplotlib.patches as mpatches\n",
    "sns.distplot(hundred_sample_df.total, color='green',norm_hist=True)\n",
    "sns.distplot(pokemon_df.total, color = 'red',norm_hist=True)\n",
    "red_patch = mpatches.Patch(color='red', label='Population')\n",
    "green_patch = mpatches.Patch(color='green', label='Sample')\n",
    "plt.legend(handles = [red_patch,green_patch])\n",
    "ylabel('density')\n",
    "plt.title('Population total points vs Sample total points');"
   ]
  },
  {
   "cell_type": "markdown",
   "metadata": {},
   "source": [
    "In comparing the statistics of the sample and population for total points, the standard deviation for the slightly larger than the standard deviation of the population (due to the chance of sampling Pokemon that lie one the ends of our distribution). However, The IQR ranges are smaller because even though we have extreme values, we have less present than in the population.\n",
    "\n",
    "Also, the binomial distribution of total points for Pokemon is more pronouned in the population than in the sample - due to more data points."
   ]
  },
  {
   "cell_type": "markdown",
   "metadata": {},
   "source": [
    "# Histograms of the Attack points sample & at least one other continuous variable in the population."
   ]
  },
  {
   "cell_type": "code",
   "execution_count": 43,
   "metadata": {
    "collapsed": false
   },
   "outputs": [
    {
     "name": "stderr",
     "output_type": "stream",
     "text": [
      "/Users/jonathanhilgart/anaconda/lib/python3.5/site-packages/statsmodels/nonparametric/kdetools.py:20: VisibleDeprecationWarning: using a non-integer number instead of an integer will result in an error in the future\n",
      "  y = X[:m/2+1] + np.r_[0,X[m/2+1:],0]*1j\n"
     ]
    },
    {
     "data": {
      "image/png": "[encoded data removed]",
      "text/plain": [
       "<matplotlib.figure.Figure at 0x1186fdbe0>"
      ]
     },
     "metadata": {},
     "output_type": "display_data"
    }
   ],
   "source": [
    "sns.distplot(hundred_sample_df.attack, color='orange',norm_hist=True)\n",
    "sns.distplot(pokemon_df.defense, color = 'blue',norm_hist=True)\n",
    "red_patch = mpatches.Patch(color='blue', label='Population')\n",
    "green_patch = mpatches.Patch(color='orange', label='Sample')\n",
    "plt.legend(handles = [red_patch,green_patch])\n",
    "ylabel('Density')\n",
    "xlabel('Defense Points')\n",
    "plt.title('Population defense points vs Sample attack points');"
   ]
  },
  {
   "cell_type": "markdown",
   "metadata": {},
   "source": [
    "# Probability: Assume you are a Pokemaster and have caught every Pokemon. You pick 6 Pokemon at random to carry.\n",
    "### What's the probability that they are all Water type? (probability of a Pokemon with Type 1 or Type 2 of Water)\n"
   ]
  },
  {
   "cell_type": "code",
   "execution_count": 44,
   "metadata": {
    "collapsed": false
   },
   "outputs": [
    {
     "data": {
      "text/plain": [
       "count       800\n",
       "unique       18\n",
       "top       Water\n",
       "freq        112\n",
       "Name: type1, dtype: object"
      ]
     },
     "execution_count": 44,
     "metadata": {},
     "output_type": "execute_result"
    }
   ],
   "source": [
    "pokemon_df.type1.describe()"
   ]
  },
  {
   "cell_type": "code",
   "execution_count": 45,
   "metadata": {
    "collapsed": false
   },
   "outputs": [
    {
     "data": {
      "text/html": [
       "<div>\n",
       "<table border=\"1\" class=\"dataframe\">\n",
       "  <thead>\n",
       "    <tr style=\"text-align: right;\">\n",
       "      <th></th>\n",
       "      <th>index</th>\n",
       "      <th>#</th>\n",
       "      <th>name</th>\n",
       "      <th>type2</th>\n",
       "      <th>total</th>\n",
       "      <th>hp</th>\n",
       "      <th>attack</th>\n",
       "      <th>defense</th>\n",
       "      <th>spatk</th>\n",
       "      <th>spdef</th>\n",
       "      <th>speed</th>\n",
       "      <th>generation</th>\n",
       "      <th>legendary</th>\n",
       "      <th>pokemon_number</th>\n",
       "    </tr>\n",
       "    <tr>\n",
       "      <th>type1</th>\n",
       "      <th></th>\n",
       "      <th></th>\n",
       "      <th></th>\n",
       "      <th></th>\n",
       "      <th></th>\n",
       "      <th></th>\n",
       "      <th></th>\n",
       "      <th></th>\n",
       "      <th></th>\n",
       "      <th></th>\n",
       "      <th></th>\n",
       "      <th></th>\n",
       "      <th></th>\n",
       "      <th></th>\n",
       "    </tr>\n",
       "  </thead>\n",
       "  <tbody>\n",
       "    <tr>\n",
       "      <th>Bug</th>\n",
       "      <td>69</td>\n",
       "      <td>69</td>\n",
       "      <td>69</td>\n",
       "      <td>52</td>\n",
       "      <td>69</td>\n",
       "      <td>69</td>\n",
       "      <td>69</td>\n",
       "      <td>69</td>\n",
       "      <td>69</td>\n",
       "      <td>69</td>\n",
       "      <td>69</td>\n",
       "      <td>69</td>\n",
       "      <td>69</td>\n",
       "      <td>69</td>\n",
       "    </tr>\n",
       "    <tr>\n",
       "      <th>Dark</th>\n",
       "      <td>31</td>\n",
       "      <td>31</td>\n",
       "      <td>31</td>\n",
       "      <td>21</td>\n",
       "      <td>31</td>\n",
       "      <td>31</td>\n",
       "      <td>31</td>\n",
       "      <td>31</td>\n",
       "      <td>31</td>\n",
       "      <td>31</td>\n",
       "      <td>31</td>\n",
       "      <td>31</td>\n",
       "      <td>31</td>\n",
       "      <td>31</td>\n",
       "    </tr>\n",
       "    <tr>\n",
       "      <th>Dragon</th>\n",
       "      <td>32</td>\n",
       "      <td>32</td>\n",
       "      <td>32</td>\n",
       "      <td>21</td>\n",
       "      <td>32</td>\n",
       "      <td>32</td>\n",
       "      <td>32</td>\n",
       "      <td>32</td>\n",
       "      <td>32</td>\n",
       "      <td>32</td>\n",
       "      <td>32</td>\n",
       "      <td>32</td>\n",
       "      <td>32</td>\n",
       "      <td>32</td>\n",
       "    </tr>\n",
       "    <tr>\n",
       "      <th>Electric</th>\n",
       "      <td>44</td>\n",
       "      <td>44</td>\n",
       "      <td>44</td>\n",
       "      <td>17</td>\n",
       "      <td>44</td>\n",
       "      <td>44</td>\n",
       "      <td>44</td>\n",
       "      <td>44</td>\n",
       "      <td>44</td>\n",
       "      <td>44</td>\n",
       "      <td>44</td>\n",
       "      <td>44</td>\n",
       "      <td>44</td>\n",
       "      <td>44</td>\n",
       "    </tr>\n",
       "    <tr>\n",
       "      <th>Fairy</th>\n",
       "      <td>17</td>\n",
       "      <td>17</td>\n",
       "      <td>17</td>\n",
       "      <td>2</td>\n",
       "      <td>17</td>\n",
       "      <td>17</td>\n",
       "      <td>17</td>\n",
       "      <td>17</td>\n",
       "      <td>17</td>\n",
       "      <td>17</td>\n",
       "      <td>17</td>\n",
       "      <td>17</td>\n",
       "      <td>17</td>\n",
       "      <td>17</td>\n",
       "    </tr>\n",
       "    <tr>\n",
       "      <th>Fighting</th>\n",
       "      <td>27</td>\n",
       "      <td>27</td>\n",
       "      <td>27</td>\n",
       "      <td>7</td>\n",
       "      <td>27</td>\n",
       "      <td>27</td>\n",
       "      <td>27</td>\n",
       "      <td>27</td>\n",
       "      <td>27</td>\n",
       "      <td>27</td>\n",
       "      <td>27</td>\n",
       "      <td>27</td>\n",
       "      <td>27</td>\n",
       "      <td>27</td>\n",
       "    </tr>\n",
       "    <tr>\n",
       "      <th>Fire</th>\n",
       "      <td>52</td>\n",
       "      <td>52</td>\n",
       "      <td>52</td>\n",
       "      <td>24</td>\n",
       "      <td>52</td>\n",
       "      <td>52</td>\n",
       "      <td>52</td>\n",
       "      <td>52</td>\n",
       "      <td>52</td>\n",
       "      <td>52</td>\n",
       "      <td>52</td>\n",
       "      <td>52</td>\n",
       "      <td>52</td>\n",
       "      <td>52</td>\n",
       "    </tr>\n",
       "    <tr>\n",
       "      <th>Flying</th>\n",
       "      <td>4</td>\n",
       "      <td>4</td>\n",
       "      <td>4</td>\n",
       "      <td>2</td>\n",
       "      <td>4</td>\n",
       "      <td>4</td>\n",
       "      <td>4</td>\n",
       "      <td>4</td>\n",
       "      <td>4</td>\n",
       "      <td>4</td>\n",
       "      <td>4</td>\n",
       "      <td>4</td>\n",
       "      <td>4</td>\n",
       "      <td>4</td>\n",
       "    </tr>\n",
       "    <tr>\n",
       "      <th>Ghost</th>\n",
       "      <td>32</td>\n",
       "      <td>32</td>\n",
       "      <td>32</td>\n",
       "      <td>22</td>\n",
       "      <td>32</td>\n",
       "      <td>32</td>\n",
       "      <td>32</td>\n",
       "      <td>32</td>\n",
       "      <td>32</td>\n",
       "      <td>32</td>\n",
       "      <td>32</td>\n",
       "      <td>32</td>\n",
       "      <td>32</td>\n",
       "      <td>32</td>\n",
       "    </tr>\n",
       "    <tr>\n",
       "      <th>Grass</th>\n",
       "      <td>70</td>\n",
       "      <td>70</td>\n",
       "      <td>70</td>\n",
       "      <td>37</td>\n",
       "      <td>70</td>\n",
       "      <td>70</td>\n",
       "      <td>70</td>\n",
       "      <td>70</td>\n",
       "      <td>70</td>\n",
       "      <td>70</td>\n",
       "      <td>70</td>\n",
       "      <td>70</td>\n",
       "      <td>70</td>\n",
       "      <td>70</td>\n",
       "    </tr>\n",
       "    <tr>\n",
       "      <th>Ground</th>\n",
       "      <td>32</td>\n",
       "      <td>32</td>\n",
       "      <td>32</td>\n",
       "      <td>19</td>\n",
       "      <td>32</td>\n",
       "      <td>32</td>\n",
       "      <td>32</td>\n",
       "      <td>32</td>\n",
       "      <td>32</td>\n",
       "      <td>32</td>\n",
       "      <td>32</td>\n",
       "      <td>32</td>\n",
       "      <td>32</td>\n",
       "      <td>32</td>\n",
       "    </tr>\n",
       "    <tr>\n",
       "      <th>Ice</th>\n",
       "      <td>24</td>\n",
       "      <td>24</td>\n",
       "      <td>24</td>\n",
       "      <td>11</td>\n",
       "      <td>24</td>\n",
       "      <td>24</td>\n",
       "      <td>24</td>\n",
       "      <td>24</td>\n",
       "      <td>24</td>\n",
       "      <td>24</td>\n",
       "      <td>24</td>\n",
       "      <td>24</td>\n",
       "      <td>24</td>\n",
       "      <td>24</td>\n",
       "    </tr>\n",
       "    <tr>\n",
       "      <th>Normal</th>\n",
       "      <td>98</td>\n",
       "      <td>98</td>\n",
       "      <td>98</td>\n",
       "      <td>37</td>\n",
       "      <td>98</td>\n",
       "      <td>98</td>\n",
       "      <td>98</td>\n",
       "      <td>98</td>\n",
       "      <td>98</td>\n",
       "      <td>98</td>\n",
       "      <td>98</td>\n",
       "      <td>98</td>\n",
       "      <td>98</td>\n",
       "      <td>98</td>\n",
       "    </tr>\n",
       "    <tr>\n",
       "      <th>Poison</th>\n",
       "      <td>28</td>\n",
       "      <td>28</td>\n",
       "      <td>28</td>\n",
       "      <td>13</td>\n",
       "      <td>28</td>\n",
       "      <td>28</td>\n",
       "      <td>28</td>\n",
       "      <td>28</td>\n",
       "      <td>28</td>\n",
       "      <td>28</td>\n",
       "      <td>28</td>\n",
       "      <td>28</td>\n",
       "      <td>28</td>\n",
       "      <td>28</td>\n",
       "    </tr>\n",
       "    <tr>\n",
       "      <th>Psychic</th>\n",
       "      <td>57</td>\n",
       "      <td>57</td>\n",
       "      <td>57</td>\n",
       "      <td>19</td>\n",
       "      <td>57</td>\n",
       "      <td>57</td>\n",
       "      <td>57</td>\n",
       "      <td>57</td>\n",
       "      <td>57</td>\n",
       "      <td>57</td>\n",
       "      <td>57</td>\n",
       "      <td>57</td>\n",
       "      <td>57</td>\n",
       "      <td>57</td>\n",
       "    </tr>\n",
       "    <tr>\n",
       "      <th>Rock</th>\n",
       "      <td>44</td>\n",
       "      <td>44</td>\n",
       "      <td>44</td>\n",
       "      <td>35</td>\n",
       "      <td>44</td>\n",
       "      <td>44</td>\n",
       "      <td>44</td>\n",
       "      <td>44</td>\n",
       "      <td>44</td>\n",
       "      <td>44</td>\n",
       "      <td>44</td>\n",
       "      <td>44</td>\n",
       "      <td>44</td>\n",
       "      <td>44</td>\n",
       "    </tr>\n",
       "    <tr>\n",
       "      <th>Steel</th>\n",
       "      <td>27</td>\n",
       "      <td>27</td>\n",
       "      <td>27</td>\n",
       "      <td>22</td>\n",
       "      <td>27</td>\n",
       "      <td>27</td>\n",
       "      <td>27</td>\n",
       "      <td>27</td>\n",
       "      <td>27</td>\n",
       "      <td>27</td>\n",
       "      <td>27</td>\n",
       "      <td>27</td>\n",
       "      <td>27</td>\n",
       "      <td>27</td>\n",
       "    </tr>\n",
       "    <tr>\n",
       "      <th>Water</th>\n",
       "      <td>112</td>\n",
       "      <td>112</td>\n",
       "      <td>112</td>\n",
       "      <td>53</td>\n",
       "      <td>112</td>\n",
       "      <td>112</td>\n",
       "      <td>112</td>\n",
       "      <td>112</td>\n",
       "      <td>112</td>\n",
       "      <td>112</td>\n",
       "      <td>112</td>\n",
       "      <td>112</td>\n",
       "      <td>112</td>\n",
       "      <td>112</td>\n",
       "    </tr>\n",
       "  </tbody>\n",
       "</table>\n",
       "</div>"
      ],
      "text/plain": [
       "          index    #  name  type2  total   hp  attack  defense  spatk  spdef  \\\n",
       "type1                                                                          \n",
       "Bug          69   69    69     52     69   69      69       69     69     69   \n",
       "Dark         31   31    31     21     31   31      31       31     31     31   \n",
       "Dragon       32   32    32     21     32   32      32       32     32     32   \n",
       "Electric     44   44    44     17     44   44      44       44     44     44   \n",
       "Fairy        17   17    17      2     17   17      17       17     17     17   \n",
       "Fighting     27   27    27      7     27   27      27       27     27     27   \n",
       "Fire         52   52    52     24     52   52      52       52     52     52   \n",
       "Flying        4    4     4      2      4    4       4        4      4      4   \n",
       "Ghost        32   32    32     22     32   32      32       32     32     32   \n",
       "Grass        70   70    70     37     70   70      70       70     70     70   \n",
       "Ground       32   32    32     19     32   32      32       32     32     32   \n",
       "Ice          24   24    24     11     24   24      24       24     24     24   \n",
       "Normal       98   98    98     37     98   98      98       98     98     98   \n",
       "Poison       28   28    28     13     28   28      28       28     28     28   \n",
       "Psychic      57   57    57     19     57   57      57       57     57     57   \n",
       "Rock         44   44    44     35     44   44      44       44     44     44   \n",
       "Steel        27   27    27     22     27   27      27       27     27     27   \n",
       "Water       112  112   112     53    112  112     112      112    112    112   \n",
       "\n",
       "          speed  generation  legendary  pokemon_number  \n",
       "type1                                                   \n",
       "Bug          69          69         69              69  \n",
       "Dark         31          31         31              31  \n",
       "Dragon       32          32         32              32  \n",
       "Electric     44          44         44              44  \n",
       "Fairy        17          17         17              17  \n",
       "Fighting     27          27         27              27  \n",
       "Fire         52          52         52              52  \n",
       "Flying        4           4          4               4  \n",
       "Ghost        32          32         32              32  \n",
       "Grass        70          70         70              70  \n",
       "Ground       32          32         32              32  \n",
       "Ice          24          24         24              24  \n",
       "Normal       98          98         98              98  \n",
       "Poison       28          28         28              28  \n",
       "Psychic      57          57         57              57  \n",
       "Rock         44          44         44              44  \n",
       "Steel        27          27         27              27  \n",
       "Water       112         112        112             112  "
      ]
     },
     "execution_count": 45,
     "metadata": {},
     "output_type": "execute_result"
    }
   ],
   "source": [
    "pokemon_df.groupby(pokemon_df.type1).count()"
   ]
  },
  {
   "cell_type": "code",
   "execution_count": 46,
   "metadata": {
    "collapsed": false
   },
   "outputs": [
    {
     "data": {
      "text/plain": [
       "count        414\n",
       "unique        18\n",
       "top       Flying\n",
       "freq          97\n",
       "Name: type2, dtype: object"
      ]
     },
     "execution_count": 46,
     "metadata": {},
     "output_type": "execute_result"
    }
   ],
   "source": [
    "pokemon_df.type2.describe()"
   ]
  },
  {
   "cell_type": "code",
   "execution_count": 47,
   "metadata": {
    "collapsed": false
   },
   "outputs": [
    {
     "data": {
      "text/html": [
       "<div>\n",
       "<table border=\"1\" class=\"dataframe\">\n",
       "  <thead>\n",
       "    <tr style=\"text-align: right;\">\n",
       "      <th></th>\n",
       "      <th>index</th>\n",
       "      <th>#</th>\n",
       "      <th>name</th>\n",
       "      <th>type1</th>\n",
       "      <th>total</th>\n",
       "      <th>hp</th>\n",
       "      <th>attack</th>\n",
       "      <th>defense</th>\n",
       "      <th>spatk</th>\n",
       "      <th>spdef</th>\n",
       "      <th>speed</th>\n",
       "      <th>generation</th>\n",
       "      <th>legendary</th>\n",
       "      <th>pokemon_number</th>\n",
       "    </tr>\n",
       "    <tr>\n",
       "      <th>type2</th>\n",
       "      <th></th>\n",
       "      <th></th>\n",
       "      <th></th>\n",
       "      <th></th>\n",
       "      <th></th>\n",
       "      <th></th>\n",
       "      <th></th>\n",
       "      <th></th>\n",
       "      <th></th>\n",
       "      <th></th>\n",
       "      <th></th>\n",
       "      <th></th>\n",
       "      <th></th>\n",
       "      <th></th>\n",
       "    </tr>\n",
       "  </thead>\n",
       "  <tbody>\n",
       "    <tr>\n",
       "      <th>Bug</th>\n",
       "      <td>3</td>\n",
       "      <td>3</td>\n",
       "      <td>3</td>\n",
       "      <td>3</td>\n",
       "      <td>3</td>\n",
       "      <td>3</td>\n",
       "      <td>3</td>\n",
       "      <td>3</td>\n",
       "      <td>3</td>\n",
       "      <td>3</td>\n",
       "      <td>3</td>\n",
       "      <td>3</td>\n",
       "      <td>3</td>\n",
       "      <td>3</td>\n",
       "    </tr>\n",
       "    <tr>\n",
       "      <th>Dark</th>\n",
       "      <td>20</td>\n",
       "      <td>20</td>\n",
       "      <td>20</td>\n",
       "      <td>20</td>\n",
       "      <td>20</td>\n",
       "      <td>20</td>\n",
       "      <td>20</td>\n",
       "      <td>20</td>\n",
       "      <td>20</td>\n",
       "      <td>20</td>\n",
       "      <td>20</td>\n",
       "      <td>20</td>\n",
       "      <td>20</td>\n",
       "      <td>20</td>\n",
       "    </tr>\n",
       "    <tr>\n",
       "      <th>Dragon</th>\n",
       "      <td>18</td>\n",
       "      <td>18</td>\n",
       "      <td>18</td>\n",
       "      <td>18</td>\n",
       "      <td>18</td>\n",
       "      <td>18</td>\n",
       "      <td>18</td>\n",
       "      <td>18</td>\n",
       "      <td>18</td>\n",
       "      <td>18</td>\n",
       "      <td>18</td>\n",
       "      <td>18</td>\n",
       "      <td>18</td>\n",
       "      <td>18</td>\n",
       "    </tr>\n",
       "    <tr>\n",
       "      <th>Electric</th>\n",
       "      <td>6</td>\n",
       "      <td>6</td>\n",
       "      <td>6</td>\n",
       "      <td>6</td>\n",
       "      <td>6</td>\n",
       "      <td>6</td>\n",
       "      <td>6</td>\n",
       "      <td>6</td>\n",
       "      <td>6</td>\n",
       "      <td>6</td>\n",
       "      <td>6</td>\n",
       "      <td>6</td>\n",
       "      <td>6</td>\n",
       "      <td>6</td>\n",
       "    </tr>\n",
       "    <tr>\n",
       "      <th>Fairy</th>\n",
       "      <td>23</td>\n",
       "      <td>23</td>\n",
       "      <td>23</td>\n",
       "      <td>23</td>\n",
       "      <td>23</td>\n",
       "      <td>23</td>\n",
       "      <td>23</td>\n",
       "      <td>23</td>\n",
       "      <td>23</td>\n",
       "      <td>23</td>\n",
       "      <td>23</td>\n",
       "      <td>23</td>\n",
       "      <td>23</td>\n",
       "      <td>23</td>\n",
       "    </tr>\n",
       "    <tr>\n",
       "      <th>Fighting</th>\n",
       "      <td>26</td>\n",
       "      <td>26</td>\n",
       "      <td>26</td>\n",
       "      <td>26</td>\n",
       "      <td>26</td>\n",
       "      <td>26</td>\n",
       "      <td>26</td>\n",
       "      <td>26</td>\n",
       "      <td>26</td>\n",
       "      <td>26</td>\n",
       "      <td>26</td>\n",
       "      <td>26</td>\n",
       "      <td>26</td>\n",
       "      <td>26</td>\n",
       "    </tr>\n",
       "    <tr>\n",
       "      <th>Fire</th>\n",
       "      <td>12</td>\n",
       "      <td>12</td>\n",
       "      <td>12</td>\n",
       "      <td>12</td>\n",
       "      <td>12</td>\n",
       "      <td>12</td>\n",
       "      <td>12</td>\n",
       "      <td>12</td>\n",
       "      <td>12</td>\n",
       "      <td>12</td>\n",
       "      <td>12</td>\n",
       "      <td>12</td>\n",
       "      <td>12</td>\n",
       "      <td>12</td>\n",
       "    </tr>\n",
       "    <tr>\n",
       "      <th>Flying</th>\n",
       "      <td>97</td>\n",
       "      <td>97</td>\n",
       "      <td>97</td>\n",
       "      <td>97</td>\n",
       "      <td>97</td>\n",
       "      <td>97</td>\n",
       "      <td>97</td>\n",
       "      <td>97</td>\n",
       "      <td>97</td>\n",
       "      <td>97</td>\n",
       "      <td>97</td>\n",
       "      <td>97</td>\n",
       "      <td>97</td>\n",
       "      <td>97</td>\n",
       "    </tr>\n",
       "    <tr>\n",
       "      <th>Ghost</th>\n",
       "      <td>14</td>\n",
       "      <td>14</td>\n",
       "      <td>14</td>\n",
       "      <td>14</td>\n",
       "      <td>14</td>\n",
       "      <td>14</td>\n",
       "      <td>14</td>\n",
       "      <td>14</td>\n",
       "      <td>14</td>\n",
       "      <td>14</td>\n",
       "      <td>14</td>\n",
       "      <td>14</td>\n",
       "      <td>14</td>\n",
       "      <td>14</td>\n",
       "    </tr>\n",
       "    <tr>\n",
       "      <th>Grass</th>\n",
       "      <td>25</td>\n",
       "      <td>25</td>\n",
       "      <td>25</td>\n",
       "      <td>25</td>\n",
       "      <td>25</td>\n",
       "      <td>25</td>\n",
       "      <td>25</td>\n",
       "      <td>25</td>\n",
       "      <td>25</td>\n",
       "      <td>25</td>\n",
       "      <td>25</td>\n",
       "      <td>25</td>\n",
       "      <td>25</td>\n",
       "      <td>25</td>\n",
       "    </tr>\n",
       "    <tr>\n",
       "      <th>Ground</th>\n",
       "      <td>35</td>\n",
       "      <td>35</td>\n",
       "      <td>35</td>\n",
       "      <td>35</td>\n",
       "      <td>35</td>\n",
       "      <td>35</td>\n",
       "      <td>35</td>\n",
       "      <td>35</td>\n",
       "      <td>35</td>\n",
       "      <td>35</td>\n",
       "      <td>35</td>\n",
       "      <td>35</td>\n",
       "      <td>35</td>\n",
       "      <td>35</td>\n",
       "    </tr>\n",
       "    <tr>\n",
       "      <th>Ice</th>\n",
       "      <td>14</td>\n",
       "      <td>14</td>\n",
       "      <td>14</td>\n",
       "      <td>14</td>\n",
       "      <td>14</td>\n",
       "      <td>14</td>\n",
       "      <td>14</td>\n",
       "      <td>14</td>\n",
       "      <td>14</td>\n",
       "      <td>14</td>\n",
       "      <td>14</td>\n",
       "      <td>14</td>\n",
       "      <td>14</td>\n",
       "      <td>14</td>\n",
       "    </tr>\n",
       "    <tr>\n",
       "      <th>Normal</th>\n",
       "      <td>4</td>\n",
       "      <td>4</td>\n",
       "      <td>4</td>\n",
       "      <td>4</td>\n",
       "      <td>4</td>\n",
       "      <td>4</td>\n",
       "      <td>4</td>\n",
       "      <td>4</td>\n",
       "      <td>4</td>\n",
       "      <td>4</td>\n",
       "      <td>4</td>\n",
       "      <td>4</td>\n",
       "      <td>4</td>\n",
       "      <td>4</td>\n",
       "    </tr>\n",
       "    <tr>\n",
       "      <th>Poison</th>\n",
       "      <td>34</td>\n",
       "      <td>34</td>\n",
       "      <td>34</td>\n",
       "      <td>34</td>\n",
       "      <td>34</td>\n",
       "      <td>34</td>\n",
       "      <td>34</td>\n",
       "      <td>34</td>\n",
       "      <td>34</td>\n",
       "      <td>34</td>\n",
       "      <td>34</td>\n",
       "      <td>34</td>\n",
       "      <td>34</td>\n",
       "      <td>34</td>\n",
       "    </tr>\n",
       "    <tr>\n",
       "      <th>Psychic</th>\n",
       "      <td>33</td>\n",
       "      <td>33</td>\n",
       "      <td>33</td>\n",
       "      <td>33</td>\n",
       "      <td>33</td>\n",
       "      <td>33</td>\n",
       "      <td>33</td>\n",
       "      <td>33</td>\n",
       "      <td>33</td>\n",
       "      <td>33</td>\n",
       "      <td>33</td>\n",
       "      <td>33</td>\n",
       "      <td>33</td>\n",
       "      <td>33</td>\n",
       "    </tr>\n",
       "    <tr>\n",
       "      <th>Rock</th>\n",
       "      <td>14</td>\n",
       "      <td>14</td>\n",
       "      <td>14</td>\n",
       "      <td>14</td>\n",
       "      <td>14</td>\n",
       "      <td>14</td>\n",
       "      <td>14</td>\n",
       "      <td>14</td>\n",
       "      <td>14</td>\n",
       "      <td>14</td>\n",
       "      <td>14</td>\n",
       "      <td>14</td>\n",
       "      <td>14</td>\n",
       "      <td>14</td>\n",
       "    </tr>\n",
       "    <tr>\n",
       "      <th>Steel</th>\n",
       "      <td>22</td>\n",
       "      <td>22</td>\n",
       "      <td>22</td>\n",
       "      <td>22</td>\n",
       "      <td>22</td>\n",
       "      <td>22</td>\n",
       "      <td>22</td>\n",
       "      <td>22</td>\n",
       "      <td>22</td>\n",
       "      <td>22</td>\n",
       "      <td>22</td>\n",
       "      <td>22</td>\n",
       "      <td>22</td>\n",
       "      <td>22</td>\n",
       "    </tr>\n",
       "    <tr>\n",
       "      <th>Water</th>\n",
       "      <td>14</td>\n",
       "      <td>14</td>\n",
       "      <td>14</td>\n",
       "      <td>14</td>\n",
       "      <td>14</td>\n",
       "      <td>14</td>\n",
       "      <td>14</td>\n",
       "      <td>14</td>\n",
       "      <td>14</td>\n",
       "      <td>14</td>\n",
       "      <td>14</td>\n",
       "      <td>14</td>\n",
       "      <td>14</td>\n",
       "      <td>14</td>\n",
       "    </tr>\n",
       "  </tbody>\n",
       "</table>\n",
       "</div>"
      ],
      "text/plain": [
       "          index   #  name  type1  total  hp  attack  defense  spatk  spdef  \\\n",
       "type2                                                                        \n",
       "Bug           3   3     3      3      3   3       3        3      3      3   \n",
       "Dark         20  20    20     20     20  20      20       20     20     20   \n",
       "Dragon       18  18    18     18     18  18      18       18     18     18   \n",
       "Electric      6   6     6      6      6   6       6        6      6      6   \n",
       "Fairy        23  23    23     23     23  23      23       23     23     23   \n",
       "Fighting     26  26    26     26     26  26      26       26     26     26   \n",
       "Fire         12  12    12     12     12  12      12       12     12     12   \n",
       "Flying       97  97    97     97     97  97      97       97     97     97   \n",
       "Ghost        14  14    14     14     14  14      14       14     14     14   \n",
       "Grass        25  25    25     25     25  25      25       25     25     25   \n",
       "Ground       35  35    35     35     35  35      35       35     35     35   \n",
       "Ice          14  14    14     14     14  14      14       14     14     14   \n",
       "Normal        4   4     4      4      4   4       4        4      4      4   \n",
       "Poison       34  34    34     34     34  34      34       34     34     34   \n",
       "Psychic      33  33    33     33     33  33      33       33     33     33   \n",
       "Rock         14  14    14     14     14  14      14       14     14     14   \n",
       "Steel        22  22    22     22     22  22      22       22     22     22   \n",
       "Water        14  14    14     14     14  14      14       14     14     14   \n",
       "\n",
       "          speed  generation  legendary  pokemon_number  \n",
       "type2                                                   \n",
       "Bug           3           3          3               3  \n",
       "Dark         20          20         20              20  \n",
       "Dragon       18          18         18              18  \n",
       "Electric      6           6          6               6  \n",
       "Fairy        23          23         23              23  \n",
       "Fighting     26          26         26              26  \n",
       "Fire         12          12         12              12  \n",
       "Flying       97          97         97              97  \n",
       "Ghost        14          14         14              14  \n",
       "Grass        25          25         25              25  \n",
       "Ground       35          35         35              35  \n",
       "Ice          14          14         14              14  \n",
       "Normal        4           4          4               4  \n",
       "Poison       34          34         34              34  \n",
       "Psychic      33          33         33              33  \n",
       "Rock         14          14         14              14  \n",
       "Steel        22          22         22              22  \n",
       "Water        14          14         14              14  "
      ]
     },
     "execution_count": 47,
     "metadata": {},
     "output_type": "execute_result"
    }
   ],
   "source": [
    "pokemon_df.groupby(pokemon_df.type2).count()"
   ]
  },
  {
   "cell_type": "code",
   "execution_count": 48,
   "metadata": {
    "collapsed": false
   },
   "outputs": [
    {
     "data": {
      "text/html": [
       "<div>\n",
       "<table border=\"1\" class=\"dataframe\">\n",
       "  <thead>\n",
       "    <tr style=\"text-align: right;\">\n",
       "      <th></th>\n",
       "      <th>index</th>\n",
       "      <th>#</th>\n",
       "      <th>name</th>\n",
       "      <th>type1</th>\n",
       "      <th>type2</th>\n",
       "      <th>total</th>\n",
       "      <th>hp</th>\n",
       "      <th>attack</th>\n",
       "      <th>defense</th>\n",
       "      <th>spatk</th>\n",
       "      <th>spdef</th>\n",
       "      <th>speed</th>\n",
       "      <th>generation</th>\n",
       "      <th>legendary</th>\n",
       "      <th>pokemon_number</th>\n",
       "    </tr>\n",
       "  </thead>\n",
       "  <tbody>\n",
       "    <tr>\n",
       "      <th>149</th>\n",
       "      <td>149</td>\n",
       "      <td>138</td>\n",
       "      <td>Omanyte</td>\n",
       "      <td>Rock</td>\n",
       "      <td>Water</td>\n",
       "      <td>355</td>\n",
       "      <td>35</td>\n",
       "      <td>40</td>\n",
       "      <td>100</td>\n",
       "      <td>90</td>\n",
       "      <td>55</td>\n",
       "      <td>35</td>\n",
       "      <td>1</td>\n",
       "      <td>0</td>\n",
       "      <td>138</td>\n",
       "    </tr>\n",
       "    <tr>\n",
       "      <th>150</th>\n",
       "      <td>150</td>\n",
       "      <td>139</td>\n",
       "      <td>Omastar</td>\n",
       "      <td>Rock</td>\n",
       "      <td>Water</td>\n",
       "      <td>495</td>\n",
       "      <td>70</td>\n",
       "      <td>60</td>\n",
       "      <td>125</td>\n",
       "      <td>115</td>\n",
       "      <td>70</td>\n",
       "      <td>55</td>\n",
       "      <td>1</td>\n",
       "      <td>0</td>\n",
       "      <td>139</td>\n",
       "    </tr>\n",
       "    <tr>\n",
       "      <th>151</th>\n",
       "      <td>151</td>\n",
       "      <td>140</td>\n",
       "      <td>Kabuto</td>\n",
       "      <td>Rock</td>\n",
       "      <td>Water</td>\n",
       "      <td>355</td>\n",
       "      <td>30</td>\n",
       "      <td>80</td>\n",
       "      <td>90</td>\n",
       "      <td>55</td>\n",
       "      <td>45</td>\n",
       "      <td>55</td>\n",
       "      <td>1</td>\n",
       "      <td>0</td>\n",
       "      <td>140</td>\n",
       "    </tr>\n",
       "    <tr>\n",
       "      <th>152</th>\n",
       "      <td>152</td>\n",
       "      <td>141</td>\n",
       "      <td>Kabutops</td>\n",
       "      <td>Rock</td>\n",
       "      <td>Water</td>\n",
       "      <td>495</td>\n",
       "      <td>60</td>\n",
       "      <td>115</td>\n",
       "      <td>105</td>\n",
       "      <td>65</td>\n",
       "      <td>70</td>\n",
       "      <td>80</td>\n",
       "      <td>1</td>\n",
       "      <td>0</td>\n",
       "      <td>141</td>\n",
       "    </tr>\n",
       "    <tr>\n",
       "      <th>307</th>\n",
       "      <td>307</td>\n",
       "      <td>283</td>\n",
       "      <td>Surskit</td>\n",
       "      <td>Bug</td>\n",
       "      <td>Water</td>\n",
       "      <td>269</td>\n",
       "      <td>40</td>\n",
       "      <td>30</td>\n",
       "      <td>32</td>\n",
       "      <td>50</td>\n",
       "      <td>52</td>\n",
       "      <td>65</td>\n",
       "      <td>3</td>\n",
       "      <td>0</td>\n",
       "      <td>283</td>\n",
       "    </tr>\n",
       "    <tr>\n",
       "      <th>398</th>\n",
       "      <td>398</td>\n",
       "      <td>363</td>\n",
       "      <td>Spheal</td>\n",
       "      <td>Ice</td>\n",
       "      <td>Water</td>\n",
       "      <td>290</td>\n",
       "      <td>70</td>\n",
       "      <td>40</td>\n",
       "      <td>50</td>\n",
       "      <td>55</td>\n",
       "      <td>50</td>\n",
       "      <td>25</td>\n",
       "      <td>3</td>\n",
       "      <td>0</td>\n",
       "      <td>363</td>\n",
       "    </tr>\n",
       "    <tr>\n",
       "      <th>399</th>\n",
       "      <td>399</td>\n",
       "      <td>364</td>\n",
       "      <td>Sealeo</td>\n",
       "      <td>Ice</td>\n",
       "      <td>Water</td>\n",
       "      <td>410</td>\n",
       "      <td>90</td>\n",
       "      <td>60</td>\n",
       "      <td>70</td>\n",
       "      <td>75</td>\n",
       "      <td>70</td>\n",
       "      <td>45</td>\n",
       "      <td>3</td>\n",
       "      <td>0</td>\n",
       "      <td>364</td>\n",
       "    </tr>\n",
       "    <tr>\n",
       "      <th>400</th>\n",
       "      <td>400</td>\n",
       "      <td>365</td>\n",
       "      <td>Walrein</td>\n",
       "      <td>Ice</td>\n",
       "      <td>Water</td>\n",
       "      <td>530</td>\n",
       "      <td>110</td>\n",
       "      <td>80</td>\n",
       "      <td>90</td>\n",
       "      <td>95</td>\n",
       "      <td>90</td>\n",
       "      <td>65</td>\n",
       "      <td>3</td>\n",
       "      <td>0</td>\n",
       "      <td>365</td>\n",
       "    </tr>\n",
       "    <tr>\n",
       "      <th>445</th>\n",
       "      <td>445</td>\n",
       "      <td>400</td>\n",
       "      <td>Bibarel</td>\n",
       "      <td>Normal</td>\n",
       "      <td>Water</td>\n",
       "      <td>410</td>\n",
       "      <td>79</td>\n",
       "      <td>85</td>\n",
       "      <td>60</td>\n",
       "      <td>55</td>\n",
       "      <td>60</td>\n",
       "      <td>71</td>\n",
       "      <td>4</td>\n",
       "      <td>0</td>\n",
       "      <td>400</td>\n",
       "    </tr>\n",
       "    <tr>\n",
       "      <th>533</th>\n",
       "      <td>533</td>\n",
       "      <td>479</td>\n",
       "      <td>RotomWash Rotom</td>\n",
       "      <td>Electric</td>\n",
       "      <td>Water</td>\n",
       "      <td>520</td>\n",
       "      <td>50</td>\n",
       "      <td>65</td>\n",
       "      <td>107</td>\n",
       "      <td>105</td>\n",
       "      <td>107</td>\n",
       "      <td>86</td>\n",
       "      <td>4</td>\n",
       "      <td>0</td>\n",
       "      <td>479</td>\n",
       "    </tr>\n",
       "    <tr>\n",
       "      <th>758</th>\n",
       "      <td>758</td>\n",
       "      <td>688</td>\n",
       "      <td>Binacle</td>\n",
       "      <td>Rock</td>\n",
       "      <td>Water</td>\n",
       "      <td>306</td>\n",
       "      <td>42</td>\n",
       "      <td>52</td>\n",
       "      <td>67</td>\n",
       "      <td>39</td>\n",
       "      <td>56</td>\n",
       "      <td>50</td>\n",
       "      <td>6</td>\n",
       "      <td>0</td>\n",
       "      <td>688</td>\n",
       "    </tr>\n",
       "    <tr>\n",
       "      <th>759</th>\n",
       "      <td>759</td>\n",
       "      <td>689</td>\n",
       "      <td>Barbaracle</td>\n",
       "      <td>Rock</td>\n",
       "      <td>Water</td>\n",
       "      <td>500</td>\n",
       "      <td>72</td>\n",
       "      <td>105</td>\n",
       "      <td>115</td>\n",
       "      <td>54</td>\n",
       "      <td>86</td>\n",
       "      <td>68</td>\n",
       "      <td>6</td>\n",
       "      <td>0</td>\n",
       "      <td>689</td>\n",
       "    </tr>\n",
       "    <tr>\n",
       "      <th>760</th>\n",
       "      <td>760</td>\n",
       "      <td>690</td>\n",
       "      <td>Skrelp</td>\n",
       "      <td>Poison</td>\n",
       "      <td>Water</td>\n",
       "      <td>320</td>\n",
       "      <td>50</td>\n",
       "      <td>60</td>\n",
       "      <td>60</td>\n",
       "      <td>60</td>\n",
       "      <td>60</td>\n",
       "      <td>30</td>\n",
       "      <td>6</td>\n",
       "      <td>0</td>\n",
       "      <td>690</td>\n",
       "    </tr>\n",
       "    <tr>\n",
       "      <th>799</th>\n",
       "      <td>799</td>\n",
       "      <td>721</td>\n",
       "      <td>Volcanion</td>\n",
       "      <td>Fire</td>\n",
       "      <td>Water</td>\n",
       "      <td>600</td>\n",
       "      <td>80</td>\n",
       "      <td>110</td>\n",
       "      <td>120</td>\n",
       "      <td>130</td>\n",
       "      <td>90</td>\n",
       "      <td>70</td>\n",
       "      <td>6</td>\n",
       "      <td>1</td>\n",
       "      <td>721</td>\n",
       "    </tr>\n",
       "  </tbody>\n",
       "</table>\n",
       "</div>"
      ],
      "text/plain": [
       "     index    #             name     type1  type2  total   hp  attack  \\\n",
       "149    149  138          Omanyte      Rock  Water    355   35      40   \n",
       "150    150  139          Omastar      Rock  Water    495   70      60   \n",
       "151    151  140           Kabuto      Rock  Water    355   30      80   \n",
       "152    152  141         Kabutops      Rock  Water    495   60     115   \n",
       "307    307  283          Surskit       Bug  Water    269   40      30   \n",
       "398    398  363           Spheal       Ice  Water    290   70      40   \n",
       "399    399  364           Sealeo       Ice  Water    410   90      60   \n",
       "400    400  365          Walrein       Ice  Water    530  110      80   \n",
       "445    445  400          Bibarel    Normal  Water    410   79      85   \n",
       "533    533  479  RotomWash Rotom  Electric  Water    520   50      65   \n",
       "758    758  688          Binacle      Rock  Water    306   42      52   \n",
       "759    759  689       Barbaracle      Rock  Water    500   72     105   \n",
       "760    760  690           Skrelp    Poison  Water    320   50      60   \n",
       "799    799  721        Volcanion      Fire  Water    600   80     110   \n",
       "\n",
       "     defense  spatk  spdef  speed  generation  legendary  pokemon_number  \n",
       "149      100     90     55     35           1          0             138  \n",
       "150      125    115     70     55           1          0             139  \n",
       "151       90     55     45     55           1          0             140  \n",
       "152      105     65     70     80           1          0             141  \n",
       "307       32     50     52     65           3          0             283  \n",
       "398       50     55     50     25           3          0             363  \n",
       "399       70     75     70     45           3          0             364  \n",
       "400       90     95     90     65           3          0             365  \n",
       "445       60     55     60     71           4          0             400  \n",
       "533      107    105    107     86           4          0             479  \n",
       "758       67     39     56     50           6          0             688  \n",
       "759      115     54     86     68           6          0             689  \n",
       "760       60     60     60     30           6          0             690  \n",
       "799      120    130     90     70           6          1             721  "
      ]
     },
     "execution_count": 48,
     "metadata": {},
     "output_type": "execute_result"
    }
   ],
   "source": [
    "pokemon_df.loc[pokemon_df.type2==\"Water\"]"
   ]
  },
  {
   "cell_type": "code",
   "execution_count": null,
   "metadata": {
    "collapsed": false
   },
   "outputs": [],
   "source": []
  },
  {
   "cell_type": "markdown",
   "metadata": {},
   "source": [
    "P( Type1 Water OR Type2 Water) =  P(Type1 Water) + P(Type2 Water) - P(Type1 Water AND Type 2 Water)"
   ]
  },
  {
   "cell_type": "markdown",
   "metadata": {},
   "source": [
    "P(Type 1 Water) = 112/800\n",
    "- There are  112 water types out of 800 total pokemon\n",
    "\n",
    "P(Type 2 Water) = 14/800\n",
    "\n",
    "- There are 14 water types for type 2 out of 800 pokemon\n",
    "\n",
    "P( Type 1 Water AND Type 2 Water) =  0 \n",
    "\n",
    "- There are no Pokemon that have their type1 as water and their type 2 as water.\n",
    "\n",
    "**Total P(Type1 Water OR Type2 Water) = 116 / 800 or 14.5%**"
   ]
  },
  {
   "cell_type": "markdown",
   "metadata": {},
   "source": [
    "We will be sampling without replacement, so we will use the following formula.\n",
    "\n",
    "$116/800 * 115/799 * 114/798 * 113/797 * 112/796 * 111/795$ = "
   ]
  },
  {
   "cell_type": "code",
   "execution_count": 1,
   "metadata": {
    "collapsed": false
   },
   "outputs": [
    {
     "data": {
      "text/plain": [
       "8.304279355839966e-06"
      ]
     },
     "execution_count": 1,
     "metadata": {},
     "output_type": "execute_result"
    }
   ],
   "source": [
    "(116/800)*(115/799)*(114/798)*(113/797)*(112/796)*(111/795)"
   ]
  },
  {
   "cell_type": "markdown",
   "metadata": {},
   "source": [
    " # Come up with at least one more scenario for your set of six Pokemon and compute the probability of getting it."
   ]
  },
  {
   "cell_type": "markdown",
   "metadata": {},
   "source": [
    "#### Given that your Pokemon is Dragon (for type1), what is the probability that is it a legendary Pokemon?"
   ]
  },
  {
   "cell_type": "markdown",
   "metadata": {},
   "source": [
    "P( Legendary | Dragon) = P( Lengendary AND Dragon) / P( Dragon)\n",
    "\n",
    "P( Lengendary AND Dragon) = 12 / 800\n",
    "\n",
    "P (Dragon) = 32/ 800\n",
    "\n",
    "P( Lengendary AND Dragon) / P( Dragon) = 12/800  / 32/800 = .015 / .04 = **37.5%**"
   ]
  },
  {
   "cell_type": "code",
   "execution_count": 49,
   "metadata": {
    "collapsed": false,
    "scrolled": true
   },
   "outputs": [
    {
     "data": {
      "text/plain": [
       "index             12\n",
       "#                 12\n",
       "name              12\n",
       "type1             12\n",
       "type2             12\n",
       "total             12\n",
       "hp                12\n",
       "attack            12\n",
       "defense           12\n",
       "spatk             12\n",
       "spdef             12\n",
       "speed             12\n",
       "generation        12\n",
       "legendary         12\n",
       "pokemon_number    12\n",
       "dtype: int64"
      ]
     },
     "execution_count": 49,
     "metadata": {},
     "output_type": "execute_result"
    }
   ],
   "source": [
    "dragon_type_1 =pokemon_df.type1=='Dragon'\n",
    "legendary_pokemon = pokemon_df.legendary==1\n",
    "\n",
    "pokemon_df[dragon_type_1 & legendary_pokemon].count()\n",
    "\n"
   ]
  },
  {
   "cell_type": "code",
   "execution_count": 50,
   "metadata": {
    "collapsed": false
   },
   "outputs": [
    {
     "data": {
      "text/plain": [
       "index             32\n",
       "#                 32\n",
       "name              32\n",
       "type1             32\n",
       "type2             21\n",
       "total             32\n",
       "hp                32\n",
       "attack            32\n",
       "defense           32\n",
       "spatk             32\n",
       "spdef             32\n",
       "speed             32\n",
       "generation        32\n",
       "legendary         32\n",
       "pokemon_number    32\n",
       "dtype: int64"
      ]
     },
     "execution_count": 50,
     "metadata": {},
     "output_type": "execute_result"
    }
   ],
   "source": [
    "#dragon_type_1 = pokemon_df.type1=='Dragon'\n",
    "\n",
    "pokemon_df[pokemon_df.type1=='Dragon'].count()"
   ]
  },
  {
   "cell_type": "code",
   "execution_count": 51,
   "metadata": {
    "collapsed": false
   },
   "outputs": [
    {
     "data": {
      "text/html": [
       "<div>\n",
       "<table border=\"1\" class=\"dataframe\">\n",
       "  <thead>\n",
       "    <tr style=\"text-align: right;\">\n",
       "      <th></th>\n",
       "      <th>index</th>\n",
       "      <th>#</th>\n",
       "      <th>name</th>\n",
       "      <th>type1</th>\n",
       "      <th>type2</th>\n",
       "      <th>total</th>\n",
       "      <th>hp</th>\n",
       "      <th>attack</th>\n",
       "      <th>defense</th>\n",
       "      <th>spatk</th>\n",
       "      <th>spdef</th>\n",
       "      <th>speed</th>\n",
       "      <th>generation</th>\n",
       "      <th>legendary</th>\n",
       "      <th>pokemon_number</th>\n",
       "    </tr>\n",
       "  </thead>\n",
       "  <tbody>\n",
       "    <tr>\n",
       "      <th>0</th>\n",
       "      <td>0</td>\n",
       "      <td>1</td>\n",
       "      <td>Bulbasaur</td>\n",
       "      <td>Grass</td>\n",
       "      <td>Poison</td>\n",
       "      <td>318</td>\n",
       "      <td>45</td>\n",
       "      <td>49</td>\n",
       "      <td>49</td>\n",
       "      <td>65</td>\n",
       "      <td>65</td>\n",
       "      <td>45</td>\n",
       "      <td>1</td>\n",
       "      <td>0</td>\n",
       "      <td>1</td>\n",
       "    </tr>\n",
       "    <tr>\n",
       "      <th>1</th>\n",
       "      <td>1</td>\n",
       "      <td>2</td>\n",
       "      <td>Ivysaur</td>\n",
       "      <td>Grass</td>\n",
       "      <td>Poison</td>\n",
       "      <td>405</td>\n",
       "      <td>60</td>\n",
       "      <td>62</td>\n",
       "      <td>63</td>\n",
       "      <td>80</td>\n",
       "      <td>80</td>\n",
       "      <td>60</td>\n",
       "      <td>1</td>\n",
       "      <td>0</td>\n",
       "      <td>2</td>\n",
       "    </tr>\n",
       "    <tr>\n",
       "      <th>2</th>\n",
       "      <td>2</td>\n",
       "      <td>3</td>\n",
       "      <td>Venusaur</td>\n",
       "      <td>Grass</td>\n",
       "      <td>Poison</td>\n",
       "      <td>525</td>\n",
       "      <td>80</td>\n",
       "      <td>82</td>\n",
       "      <td>83</td>\n",
       "      <td>100</td>\n",
       "      <td>100</td>\n",
       "      <td>80</td>\n",
       "      <td>1</td>\n",
       "      <td>0</td>\n",
       "      <td>3</td>\n",
       "    </tr>\n",
       "    <tr>\n",
       "      <th>3</th>\n",
       "      <td>3</td>\n",
       "      <td>3</td>\n",
       "      <td>VenusaurMega Venusaur</td>\n",
       "      <td>Grass</td>\n",
       "      <td>Poison</td>\n",
       "      <td>625</td>\n",
       "      <td>80</td>\n",
       "      <td>100</td>\n",
       "      <td>123</td>\n",
       "      <td>122</td>\n",
       "      <td>120</td>\n",
       "      <td>80</td>\n",
       "      <td>1</td>\n",
       "      <td>0</td>\n",
       "      <td>3</td>\n",
       "    </tr>\n",
       "    <tr>\n",
       "      <th>4</th>\n",
       "      <td>4</td>\n",
       "      <td>4</td>\n",
       "      <td>Charmander</td>\n",
       "      <td>Fire</td>\n",
       "      <td>None</td>\n",
       "      <td>309</td>\n",
       "      <td>39</td>\n",
       "      <td>52</td>\n",
       "      <td>43</td>\n",
       "      <td>60</td>\n",
       "      <td>50</td>\n",
       "      <td>65</td>\n",
       "      <td>1</td>\n",
       "      <td>0</td>\n",
       "      <td>4</td>\n",
       "    </tr>\n",
       "  </tbody>\n",
       "</table>\n",
       "</div>"
      ],
      "text/plain": [
       "   index  #                   name  type1   type2  total  hp  attack  defense  \\\n",
       "0      0  1              Bulbasaur  Grass  Poison    318  45      49       49   \n",
       "1      1  2                Ivysaur  Grass  Poison    405  60      62       63   \n",
       "2      2  3               Venusaur  Grass  Poison    525  80      82       83   \n",
       "3      3  3  VenusaurMega Venusaur  Grass  Poison    625  80     100      123   \n",
       "4      4  4             Charmander   Fire    None    309  39      52       43   \n",
       "\n",
       "   spatk  spdef  speed  generation  legendary  pokemon_number  \n",
       "0     65     65     45           1          0               1  \n",
       "1     80     80     60           1          0               2  \n",
       "2    100    100     80           1          0               3  \n",
       "3    122    120     80           1          0               3  \n",
       "4     60     50     65           1          0               4  "
      ]
     },
     "execution_count": 51,
     "metadata": {},
     "output_type": "execute_result"
    }
   ],
   "source": [
    "pokemon_df.head()"
   ]
  },
  {
   "cell_type": "markdown",
   "metadata": {},
   "source": [
    "### What is the probability that your attack points are over 100 given that you are a Grass type1 Pokemon?"
   ]
  },
  {
   "cell_type": "markdown",
   "metadata": {},
   "source": [
    "P( attack > 100 | Grass) = P (attack > 100 AND Grass) / P(Grass)\n",
    "\n",
    "P (attack > 100 AND Grass) = 9 / 800\n",
    "P( Grass) = 70/800\n",
    "\n",
    "= 9/800   / 70/800  = **12.86%**"
   ]
  },
  {
   "cell_type": "code",
   "execution_count": 52,
   "metadata": {
    "collapsed": true
   },
   "outputs": [],
   "source": [
    "grass_type_pokemon = pokemon_df.type1=='Grass'\n",
    "attack_greater_100 = pokemon_df.attack>100"
   ]
  },
  {
   "cell_type": "code",
   "execution_count": 53,
   "metadata": {
    "collapsed": false
   },
   "outputs": [
    {
     "data": {
      "text/plain": [
       "index             9\n",
       "#                 9\n",
       "name              9\n",
       "type1             9\n",
       "type2             8\n",
       "total             9\n",
       "hp                9\n",
       "attack            9\n",
       "defense           9\n",
       "spatk             9\n",
       "spdef             9\n",
       "speed             9\n",
       "generation        9\n",
       "legendary         9\n",
       "pokemon_number    9\n",
       "dtype: int64"
      ]
     },
     "execution_count": 53,
     "metadata": {},
     "output_type": "execute_result"
    }
   ],
   "source": [
    "pokemon_df[grass_type_pokemon & attack_greater_100].count()"
   ]
  },
  {
   "cell_type": "code",
   "execution_count": 54,
   "metadata": {
    "collapsed": false
   },
   "outputs": [
    {
     "data": {
      "text/plain": [
       "index             70\n",
       "#                 70\n",
       "name              70\n",
       "type1             70\n",
       "type2             37\n",
       "total             70\n",
       "hp                70\n",
       "attack            70\n",
       "defense           70\n",
       "spatk             70\n",
       "spdef             70\n",
       "speed             70\n",
       "generation        70\n",
       "legendary         70\n",
       "pokemon_number    70\n",
       "dtype: int64"
      ]
     },
     "execution_count": 54,
     "metadata": {},
     "output_type": "execute_result"
    }
   ],
   "source": [
    "pokemon_df[grass_type_pokemon].count()"
   ]
  },
  {
   "cell_type": "markdown",
   "metadata": {},
   "source": [
    "# What is the probability that your defense is greater than your HP?"
   ]
  },
  {
   "cell_type": "code",
   "execution_count": 55,
   "metadata": {
    "collapsed": false
   },
   "outputs": [
    {
     "data": {
      "text/plain": [
       "index             345\n",
       "#                 345\n",
       "name              345\n",
       "type1             345\n",
       "type2             195\n",
       "total             345\n",
       "hp                345\n",
       "attack            345\n",
       "defense           345\n",
       "spatk             345\n",
       "spdef             345\n",
       "speed             345\n",
       "generation        345\n",
       "legendary         345\n",
       "pokemon_number    345\n",
       "dtype: int64"
      ]
     },
     "execution_count": 55,
     "metadata": {},
     "output_type": "execute_result"
    }
   ],
   "source": [
    "pokemon_df[pokemon_df.defense>pokemon_df.hp].count()"
   ]
  },
  {
   "cell_type": "markdown",
   "metadata": {},
   "source": [
    "345/800 or **43.13%**"
   ]
  },
  {
   "cell_type": "markdown",
   "metadata": {
    "collapsed": true
   },
   "source": [
    "### I hope you found this analysis interesting and useful for your quest ot become a Pokemon master!"
   ]
  },
  {
   "cell_type": "code",
   "execution_count": null,
   "metadata": {
    "collapsed": false
   },
   "outputs": [],
   "source": []
  },
  {
   "cell_type": "code",
   "execution_count": null,
   "metadata": {
    "collapsed": true
   },
   "outputs": [],
   "source": []
  }
 ],
 "metadata": {
  "anaconda-cloud": {},
  "kernelspec": {
   "display_name": "Python [Root]",
   "language": "python",
   "name": "Python [Root]"
  },
  "language_info": {
   "codemirror_mode": {
    "name": "ipython",
    "version": 3
   },
   "file_extension": ".py",
   "mimetype": "text/x-python",
   "name": "python",
   "nbconvert_exporter": "python",
   "pygments_lexer": "ipython3",
   "version": "3.5.2"
  }
 },
 "nbformat": 4,
 "nbformat_minor": 1
}
