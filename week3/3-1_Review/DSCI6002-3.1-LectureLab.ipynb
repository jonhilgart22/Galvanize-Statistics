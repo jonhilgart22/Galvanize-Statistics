{
 "cells": [
  {
   "cell_type": "markdown",
   "metadata": {
    "slideshow": {
     "slide_type": "slide"
    }
   },
   "source": [
    "# Lecture 3.1: Review"
   ]
  },
  {
   "cell_type": "markdown",
   "metadata": {
    "slideshow": {
     "slide_type": "slide"
    }
   },
   "source": [
    "## Outline\n",
    "\n",
    "* Basic git commands\n",
    "* Summary statistics\n",
    "* Exploratory plots\n",
    "* Simple linear regression\n",
    "* Probability\n",
    "    * Union, intersection and complement\n",
    "    * Conditional probability\n",
    "    * Bayes' theorem\n",
    "    * Counting methods"
   ]
  },
  {
   "cell_type": "markdown",
   "metadata": {
    "slideshow": {
     "slide_type": "slide"
    }
   },
   "source": [
    "## Basic Git Commands\n",
    "\n",
    "* Pushing to a remote repo\n",
    "    * Add changes to your local repository: `git add <file you edited>`\n",
    "    * Commit the changes: `git commit -m \"a short message about the commit\"`\n",
    "    * Push the changes to your fork: `git push origin master`"
   ]
  },
  {
   "cell_type": "markdown",
   "metadata": {
    "slideshow": {
     "slide_type": "subslide"
    }
   },
   "source": [
    "* Syncing your local repo\n",
    "    * Set the Zipfian repo as the upstream repo (you only need to do this once): `git remote add upstream <the Zipfian repo URL>` \n",
    "    * Fetch the Zipfian repo and immediately merge it into the local repo: `git pull upstream master`"
   ]
  },
  {
   "cell_type": "markdown",
   "metadata": {
    "slideshow": {
     "slide_type": "subslide"
    }
   },
   "source": [
    "* Or:\n",
    "    * Fetch the upstream repo: `git fetch upstream`\n",
    "    * Check out your local `master` branch (this step is not necessary if you didn't create any other branches besides the master branch): `git checkout master` \n",
    "    * Merge the changes from `upstream/master` into your local `master` branch: `git merge upstream/master`"
   ]
  },
  {
   "cell_type": "markdown",
   "metadata": {
    "slideshow": {
     "slide_type": "slide"
    }
   },
   "source": [
    "## Summary Statistics\n",
    "\n",
    "### Measure of Center/Location\n",
    "\n",
    "* **Mean**: the arithmetic average of the data values\n",
    "$$ \\bar{x} = \\frac{\\sum_{i=1}^n x_i}{n} = \\frac{x_1 + x_2 + \\ldots + x_n}{n} $$\n",
    "    where n is the sample size.\n",
    "* **Median**: the middle number when the data values are put in order\n",
    "* **Mode**: the most frequently occurred value"
   ]
  },
  {
   "cell_type": "markdown",
   "metadata": {
    "slideshow": {
     "slide_type": "subslide"
    }
   },
   "source": [
    "* **Percentile**: the $p^{th}$ percentile - $p\\%$ of the values in the data are less than or equal to this value ($0 \\leq p \\leq 100$)\n",
    "* **Quartile**: \n",
    "    * $1^{st}$ quartile = $25^{th}$ percentile\n",
    "    * $2^{nd}$ quartile = $50^{th}$ percentile = median\n",
    "    * $3^{rd}$ quartile = $75^{th}$ percentile"
   ]
  },
  {
   "cell_type": "code",
   "execution_count": 1,
   "metadata": {
    "collapsed": true,
    "slideshow": {
     "slide_type": "slide"
    }
   },
   "outputs": [],
   "source": [
    "x = [3, 5, 8, 1, 6, 9, 4, 2, 3, 11, 5, 13, 16, 8, 9]"
   ]
  },
  {
   "cell_type": "code",
   "execution_count": 2,
   "metadata": {
    "collapsed": false,
    "slideshow": {
     "slide_type": "fragment"
    }
   },
   "outputs": [
    {
     "name": "stdout",
     "output_type": "stream",
     "text": [
      "size: 15\n"
     ]
    }
   ],
   "source": [
    "# sample size\n",
    "print(\"size:\", len(x))"
   ]
  },
  {
   "cell_type": "code",
   "execution_count": 3,
   "metadata": {
    "collapsed": false,
    "slideshow": {
     "slide_type": "fragment"
    }
   },
   "outputs": [
    {
     "name": "stdout",
     "output_type": "stream",
     "text": [
      "min: 1\n"
     ]
    }
   ],
   "source": [
    "# minimum value\n",
    "print(\"min:\", min(x))"
   ]
  },
  {
   "cell_type": "code",
   "execution_count": 4,
   "metadata": {
    "collapsed": false,
    "slideshow": {
     "slide_type": "fragment"
    }
   },
   "outputs": [
    {
     "name": "stdout",
     "output_type": "stream",
     "text": [
      "max: 16\n"
     ]
    }
   ],
   "source": [
    "#maximum value\n",
    "print(\"max:\", max(x))"
   ]
  },
  {
   "cell_type": "code",
   "execution_count": 5,
   "metadata": {
    "collapsed": false,
    "slideshow": {
     "slide_type": "slide"
    }
   },
   "outputs": [
    {
     "name": "stdout",
     "output_type": "stream",
     "text": [
      "[1, 2, 3, 3, 4, 5, 5, 6, 8, 8, 9, 9, 11, 13, 16]\n"
     ]
    }
   ],
   "source": [
    "# sort the values\n",
    "sorted_x = sorted(x)\n",
    "print(sorted_x)"
   ]
  },
  {
   "cell_type": "code",
   "execution_count": 6,
   "metadata": {
    "collapsed": false,
    "slideshow": {
     "slide_type": "fragment"
    }
   },
   "outputs": [
    {
     "name": "stdout",
     "output_type": "stream",
     "text": [
      "first value: 1\n"
     ]
    }
   ],
   "source": [
    "# minimum value\n",
    "print(\"first value:\", sorted_x[0])"
   ]
  },
  {
   "cell_type": "code",
   "execution_count": 7,
   "metadata": {
    "collapsed": false,
    "slideshow": {
     "slide_type": "fragment"
    }
   },
   "outputs": [
    {
     "name": "stdout",
     "output_type": "stream",
     "text": [
      "last value: 16\n"
     ]
    }
   ],
   "source": [
    "# maximum value\n",
    "print(\"last value:\", sorted_x[-1])"
   ]
  },
  {
   "cell_type": "code",
   "execution_count": 8,
   "metadata": {
    "collapsed": false,
    "slideshow": {
     "slide_type": "slide"
    }
   },
   "outputs": [
    {
     "name": "stdout",
     "output_type": "stream",
     "text": [
      "the mean of x is: 6.866666666666666\n"
     ]
    }
   ],
   "source": [
    "# calculate the mean\n",
    "\n",
    "mean_x = float(sum(x)) / len(x)\n",
    "print(\"the mean of x is:\", mean_x)"
   ]
  },
  {
   "cell_type": "code",
   "execution_count": 9,
   "metadata": {
    "collapsed": false,
    "slideshow": {
     "slide_type": "fragment"
    }
   },
   "outputs": [
    {
     "name": "stdout",
     "output_type": "stream",
     "text": [
      "the median of x is: 6\n"
     ]
    }
   ],
   "source": [
    "# find the median\n",
    "\n",
    "n = len(x)\n",
    "midpoint = n // 2\n",
    "\n",
    "if n % 2 == 1:\n",
    "    median_x = sorted_x[midpoint]\n",
    "else: \n",
    "    median_x = float((sorted_x[midpoint - 1] + sorted_x[midpoint]) / 2)\n",
    "    \n",
    "print(\"the median of x is:\", median_x)"
   ]
  },
  {
   "cell_type": "markdown",
   "metadata": {
    "slideshow": {
     "slide_type": "slide"
    }
   },
   "source": [
    "### Measure of Spread/Variation\n",
    "\n",
    "* **Variance**\n",
    "\n",
    "$$ s^2_x = \\frac{1}{n-1} \\sum_{i=1}^n (x_i - \\bar{x})^2 $$\n",
    "\n",
    "* **Standard deviation**\n",
    "\n",
    "$$ s_x = \\sqrt{\\frac{1}{n-1} \\sum_{i=1}^n (x_i - \\bar{x})^2} $$\n",
    "\n",
    "* **Range** $= x_{maximum} - x_{minimum}$\n",
    "\n",
    "* **Inter-quartile range (IQR)** $= Q_3 - Q_1$"
   ]
  },
  {
   "cell_type": "code",
   "execution_count": 10,
   "metadata": {
    "collapsed": false,
    "slideshow": {
     "slide_type": "subslide"
    }
   },
   "outputs": [
    {
     "name": "stdout",
     "output_type": "stream",
     "text": [
      "the variance of x is: 18.123809523809523\n"
     ]
    }
   ],
   "source": [
    "# Calculate the variance of x\n",
    "sum_of_squares = sum((x_i - mean_x) ** 2 for x_i in x)\n",
    "var_x = sum_of_squares / (n - 1)\n",
    "print(\"the variance of x is:\", var_x)"
   ]
  },
  {
   "cell_type": "markdown",
   "metadata": {
    "slideshow": {
     "slide_type": "slide"
    }
   },
   "source": [
    "### Measure of Shape\n",
    "\n",
    "* **Skewness**: a measure of the asymmetry of a distribution\n",
    "* **Kurtosis**: a measure of the \"peakedness\" of a distribution"
   ]
  },
  {
   "cell_type": "markdown",
   "metadata": {
    "slideshow": {
     "slide_type": "slide"
    }
   },
   "source": [
    "### Measure of Association/Dependence (Bivariate)\n",
    "\n",
    "* **Covariance**: \n",
    "\n",
    "$$ s_{xy} = \\frac{1}{n-1} \\sum_{i=1}^n (x_i - \\bar{x})(y_i - \\bar{y}) $$\n",
    "\n",
    "* **Correlation**\n",
    "\n",
    "$$ r_{xy} = \\frac{s_{xy}}{s_x s_y} $$"
   ]
  },
  {
   "cell_type": "code",
   "execution_count": 11,
   "metadata": {
    "collapsed": true,
    "slideshow": {
     "slide_type": "slide"
    }
   },
   "outputs": [],
   "source": [
    "y = [31, 16, 17, 34, 50, 23, 12, 46, 22, 56, 34, 48, 25, 43, 32]"
   ]
  },
  {
   "cell_type": "code",
   "execution_count": 12,
   "metadata": {
    "collapsed": true,
    "slideshow": {
     "slide_type": "fragment"
    }
   },
   "outputs": [],
   "source": [
    "mean_y = float(sum(y)) / len(y)"
   ]
  },
  {
   "cell_type": "code",
   "execution_count": 13,
   "metadata": {
    "collapsed": false,
    "slideshow": {
     "slide_type": "fragment"
    }
   },
   "outputs": [
    {
     "name": "stdout",
     "output_type": "stream",
     "text": [
      "the covariance of x and y is: 10.014285714285714\n"
     ]
    }
   ],
   "source": [
    "# calculate the covariance of x and y\n",
    "\n",
    "cov_xy = sum((x_i - mean_x)*(y_i - mean_y) for x_i, y_i in zip(x, y)) / (n - 1)\n",
    "print(\"the covariance of x and y is:\", cov_xy)"
   ]
  },
  {
   "cell_type": "markdown",
   "metadata": {
    "slideshow": {
     "slide_type": "slide"
    }
   },
   "source": [
    "## Exploratory Plots\n",
    "\n",
    "### Example\n",
    "\n",
    "You are shopping for a laptop computer at Best Buy. To help you with your decision, you collected data on a random sample of laptops on Best Buy’s Web site:\n",
    "\n",
    "* Selling price\n",
    "* Brand\n",
    "* Screen size (in.)\n",
    "* Hard drive size (GB)\n",
    "* Amount of RAM memory (GB)\n",
    "* Number of USB ports\n",
    "* Weight (oz.) "
   ]
  },
  {
   "cell_type": "code",
   "execution_count": 14,
   "metadata": {
    "collapsed": false,
    "slideshow": {
     "slide_type": "skip"
    }
   },
   "outputs": [
    {
     "name": "stdout",
     "output_type": "stream",
     "text": [
      "Populating the interactive namespace from numpy and matplotlib\n"
     ]
    }
   ],
   "source": [
    "%pylab inline"
   ]
  },
  {
   "cell_type": "code",
   "execution_count": 15,
   "metadata": {
    "collapsed": true,
    "slideshow": {
     "slide_type": "skip"
    }
   },
   "outputs": [],
   "source": [
    "import pandas as pd\n",
    "import yaml\n",
    "\n",
    "from sqlalchemy import create_engine\n",
    "\n",
    "pg_creds = yaml.load(open('../../pg_creds.yaml'))['student']\n",
    "\n",
    "engine = create_engine('postgresql://{user}:{password}@{host}:{port}/{dbname}'.format(**pg_creds))"
   ]
  },
  {
   "cell_type": "code",
   "execution_count": 16,
   "metadata": {
    "collapsed": false,
    "slideshow": {
     "slide_type": "slide"
    }
   },
   "outputs": [
    {
     "data": {
      "text/html": [
       "<div>\n",
       "<table border=\"1\" class=\"dataframe\">\n",
       "  <thead>\n",
       "    <tr style=\"text-align: right;\">\n",
       "      <th></th>\n",
       "      <th>Price ($)</th>\n",
       "      <th>Screen Size (in.)</th>\n",
       "      <th>RAM Memory (GB)</th>\n",
       "      <th>Hard drive (GB)</th>\n",
       "      <th>USB Ports</th>\n",
       "      <th>Brand</th>\n",
       "      <th>Weight (oz.)</th>\n",
       "    </tr>\n",
       "  </thead>\n",
       "  <tbody>\n",
       "    <tr>\n",
       "      <th>0</th>\n",
       "      <td>830</td>\n",
       "      <td>13.3</td>\n",
       "      <td>4</td>\n",
       "      <td>500</td>\n",
       "      <td>3</td>\n",
       "      <td>Toshiba</td>\n",
       "      <td>4.9</td>\n",
       "    </tr>\n",
       "    <tr>\n",
       "      <th>1</th>\n",
       "      <td>750</td>\n",
       "      <td>13.3</td>\n",
       "      <td>4</td>\n",
       "      <td>640</td>\n",
       "      <td>3</td>\n",
       "      <td>Toshiba</td>\n",
       "      <td>3.2</td>\n",
       "    </tr>\n",
       "    <tr>\n",
       "      <th>2</th>\n",
       "      <td>1200</td>\n",
       "      <td>11.6</td>\n",
       "      <td>2</td>\n",
       "      <td>128</td>\n",
       "      <td>2</td>\n",
       "      <td>Apple</td>\n",
       "      <td>2.3</td>\n",
       "    </tr>\n",
       "    <tr>\n",
       "      <th>3</th>\n",
       "      <td>1600</td>\n",
       "      <td>18.4</td>\n",
       "      <td>6</td>\n",
       "      <td>640</td>\n",
       "      <td>4</td>\n",
       "      <td>Toshiba</td>\n",
       "      <td>9.7</td>\n",
       "    </tr>\n",
       "    <tr>\n",
       "      <th>4</th>\n",
       "      <td>1900</td>\n",
       "      <td>18.4</td>\n",
       "      <td>8</td>\n",
       "      <td>500</td>\n",
       "      <td>4</td>\n",
       "      <td>Toshiba</td>\n",
       "      <td>9.7</td>\n",
       "    </tr>\n",
       "  </tbody>\n",
       "</table>\n",
       "</div>"
      ],
      "text/plain": [
       "   Price ($)  Screen Size (in.)  RAM Memory (GB)  Hard drive (GB)  USB Ports  \\\n",
       "0        830               13.3                4              500          3   \n",
       "1        750               13.3                4              640          3   \n",
       "2       1200               11.6                2              128          2   \n",
       "3       1600               18.4                6              640          4   \n",
       "4       1900               18.4                8              500          4   \n",
       "\n",
       "     Brand  Weight (oz.)  \n",
       "0  Toshiba           4.9  \n",
       "1  Toshiba           3.2  \n",
       "2    Apple           2.3  \n",
       "3  Toshiba           9.7  \n",
       "4  Toshiba           9.7  "
      ]
     },
     "execution_count": 16,
     "metadata": {},
     "output_type": "execute_result"
    }
   ],
   "source": [
    "# Read in the data as a Pandas DataFrame\n",
    "\n",
    "laptops = pd.read_sql_table('laptops', engine)\n",
    "laptops.head()"
   ]
  },
  {
   "cell_type": "code",
   "execution_count": 17,
   "metadata": {
    "collapsed": false,
    "slideshow": {
     "slide_type": "slide"
    }
   },
   "outputs": [
    {
     "name": "stdout",
     "output_type": "stream",
     "text": [
      "<class 'pandas.core.frame.DataFrame'>\n",
      "RangeIndex: 63 entries, 0 to 62\n",
      "Data columns (total 7 columns):\n",
      "Price ($)            63 non-null int64\n",
      "Screen Size (in.)    63 non-null float64\n",
      "RAM Memory (GB)      63 non-null int64\n",
      "Hard drive (GB)      63 non-null int64\n",
      "USB Ports            63 non-null int64\n",
      "Brand                63 non-null object\n",
      "Weight (oz.)         63 non-null float64\n",
      "dtypes: float64(2), int64(4), object(1)\n",
      "memory usage: 3.5+ KB\n"
     ]
    }
   ],
   "source": [
    "laptops.info()"
   ]
  },
  {
   "cell_type": "code",
   "execution_count": 18,
   "metadata": {
    "collapsed": false,
    "slideshow": {
     "slide_type": "slide"
    }
   },
   "outputs": [
    {
     "data": {
      "text/html": [
       "<div>\n",
       "<table border=\"1\" class=\"dataframe\">\n",
       "  <thead>\n",
       "    <tr style=\"text-align: right;\">\n",
       "      <th></th>\n",
       "      <th>count</th>\n",
       "      <th>mean</th>\n",
       "      <th>std</th>\n",
       "      <th>min</th>\n",
       "      <th>25%</th>\n",
       "      <th>50%</th>\n",
       "      <th>75%</th>\n",
       "      <th>max</th>\n",
       "    </tr>\n",
       "  </thead>\n",
       "  <tbody>\n",
       "    <tr>\n",
       "      <th>Price ($)</th>\n",
       "      <td>63.0</td>\n",
       "      <td>957.857143</td>\n",
       "      <td>512.143436</td>\n",
       "      <td>300.0</td>\n",
       "      <td>550.00</td>\n",
       "      <td>800.0</td>\n",
       "      <td>1200.0</td>\n",
       "      <td>2500.0</td>\n",
       "    </tr>\n",
       "    <tr>\n",
       "      <th>Screen Size (in.)</th>\n",
       "      <td>63.0</td>\n",
       "      <td>15.271429</td>\n",
       "      <td>1.582202</td>\n",
       "      <td>11.6</td>\n",
       "      <td>14.00</td>\n",
       "      <td>15.6</td>\n",
       "      <td>15.6</td>\n",
       "      <td>18.4</td>\n",
       "    </tr>\n",
       "    <tr>\n",
       "      <th>RAM Memory (GB)</th>\n",
       "      <td>63.0</td>\n",
       "      <td>4.380952</td>\n",
       "      <td>1.528531</td>\n",
       "      <td>2.0</td>\n",
       "      <td>4.00</td>\n",
       "      <td>4.0</td>\n",
       "      <td>6.0</td>\n",
       "      <td>8.0</td>\n",
       "    </tr>\n",
       "    <tr>\n",
       "      <th>Hard drive (GB)</th>\n",
       "      <td>63.0</td>\n",
       "      <td>506.888889</td>\n",
       "      <td>231.052788</td>\n",
       "      <td>64.0</td>\n",
       "      <td>320.00</td>\n",
       "      <td>500.0</td>\n",
       "      <td>640.0</td>\n",
       "      <td>1500.0</td>\n",
       "    </tr>\n",
       "    <tr>\n",
       "      <th>USB Ports</th>\n",
       "      <td>63.0</td>\n",
       "      <td>2.650794</td>\n",
       "      <td>0.699279</td>\n",
       "      <td>1.0</td>\n",
       "      <td>2.00</td>\n",
       "      <td>3.0</td>\n",
       "      <td>3.0</td>\n",
       "      <td>4.0</td>\n",
       "    </tr>\n",
       "    <tr>\n",
       "      <th>Weight (oz.)</th>\n",
       "      <td>63.0</td>\n",
       "      <td>5.658730</td>\n",
       "      <td>1.468336</td>\n",
       "      <td>2.3</td>\n",
       "      <td>5.05</td>\n",
       "      <td>5.5</td>\n",
       "      <td>6.0</td>\n",
       "      <td>9.7</td>\n",
       "    </tr>\n",
       "  </tbody>\n",
       "</table>\n",
       "</div>"
      ],
      "text/plain": [
       "                   count        mean         std    min     25%    50%  \\\n",
       "Price ($)           63.0  957.857143  512.143436  300.0  550.00  800.0   \n",
       "Screen Size (in.)   63.0   15.271429    1.582202   11.6   14.00   15.6   \n",
       "RAM Memory (GB)     63.0    4.380952    1.528531    2.0    4.00    4.0   \n",
       "Hard drive (GB)     63.0  506.888889  231.052788   64.0  320.00  500.0   \n",
       "USB Ports           63.0    2.650794    0.699279    1.0    2.00    3.0   \n",
       "Weight (oz.)        63.0    5.658730    1.468336    2.3    5.05    5.5   \n",
       "\n",
       "                      75%     max  \n",
       "Price ($)          1200.0  2500.0  \n",
       "Screen Size (in.)    15.6    18.4  \n",
       "RAM Memory (GB)       6.0     8.0  \n",
       "Hard drive (GB)     640.0  1500.0  \n",
       "USB Ports             3.0     4.0  \n",
       "Weight (oz.)          6.0     9.7  "
      ]
     },
     "execution_count": 18,
     "metadata": {},
     "output_type": "execute_result"
    }
   ],
   "source": [
    "laptops.describe().T"
   ]
  },
  {
   "cell_type": "code",
   "execution_count": 19,
   "metadata": {
    "collapsed": false,
    "slideshow": {
     "slide_type": "slide"
    }
   },
   "outputs": [
    {
     "data": {
      "text/html": [
       "<div>\n",
       "<table border=\"1\" class=\"dataframe\">\n",
       "  <thead>\n",
       "    <tr style=\"text-align: right;\">\n",
       "      <th></th>\n",
       "      <th>price</th>\n",
       "      <th>screen_size</th>\n",
       "      <th>ram</th>\n",
       "      <th>hard_drive</th>\n",
       "      <th>usb</th>\n",
       "      <th>brand</th>\n",
       "      <th>weight</th>\n",
       "    </tr>\n",
       "  </thead>\n",
       "  <tbody>\n",
       "    <tr>\n",
       "      <th>0</th>\n",
       "      <td>830</td>\n",
       "      <td>13.3</td>\n",
       "      <td>4</td>\n",
       "      <td>500</td>\n",
       "      <td>3</td>\n",
       "      <td>Toshiba</td>\n",
       "      <td>4.9</td>\n",
       "    </tr>\n",
       "    <tr>\n",
       "      <th>1</th>\n",
       "      <td>750</td>\n",
       "      <td>13.3</td>\n",
       "      <td>4</td>\n",
       "      <td>640</td>\n",
       "      <td>3</td>\n",
       "      <td>Toshiba</td>\n",
       "      <td>3.2</td>\n",
       "    </tr>\n",
       "    <tr>\n",
       "      <th>2</th>\n",
       "      <td>1200</td>\n",
       "      <td>11.6</td>\n",
       "      <td>2</td>\n",
       "      <td>128</td>\n",
       "      <td>2</td>\n",
       "      <td>Apple</td>\n",
       "      <td>2.3</td>\n",
       "    </tr>\n",
       "    <tr>\n",
       "      <th>3</th>\n",
       "      <td>1600</td>\n",
       "      <td>18.4</td>\n",
       "      <td>6</td>\n",
       "      <td>640</td>\n",
       "      <td>4</td>\n",
       "      <td>Toshiba</td>\n",
       "      <td>9.7</td>\n",
       "    </tr>\n",
       "    <tr>\n",
       "      <th>4</th>\n",
       "      <td>1900</td>\n",
       "      <td>18.4</td>\n",
       "      <td>8</td>\n",
       "      <td>500</td>\n",
       "      <td>4</td>\n",
       "      <td>Toshiba</td>\n",
       "      <td>9.7</td>\n",
       "    </tr>\n",
       "  </tbody>\n",
       "</table>\n",
       "</div>"
      ],
      "text/plain": [
       "   price  screen_size  ram  hard_drive  usb    brand  weight\n",
       "0    830         13.3    4         500    3  Toshiba     4.9\n",
       "1    750         13.3    4         640    3  Toshiba     3.2\n",
       "2   1200         11.6    2         128    2    Apple     2.3\n",
       "3   1600         18.4    6         640    4  Toshiba     9.7\n",
       "4   1900         18.4    8         500    4  Toshiba     9.7"
      ]
     },
     "execution_count": 19,
     "metadata": {},
     "output_type": "execute_result"
    }
   ],
   "source": [
    "# change the column names to make them shorter\n",
    "\n",
    "laptops.columns = ['price', 'screen_size', 'ram', 'hard_drive', 'usb', 'brand', 'weight']\n",
    "laptops.head()"
   ]
  },
  {
   "cell_type": "markdown",
   "metadata": {
    "slideshow": {
     "slide_type": "slide"
    }
   },
   "source": [
    "### Histogram"
   ]
  },
  {
   "cell_type": "code",
   "execution_count": 20,
   "metadata": {
    "collapsed": false,
    "slideshow": {
     "slide_type": "-"
    }
   },
   "outputs": [
    {
     "data": {
      "text/plain": [
       "<matplotlib.axes._subplots.AxesSubplot at 0x112d2a390>"
      ]
     },
     "execution_count": 20,
     "metadata": {},
     "output_type": "execute_result"
    },
    {
     "data": {
      "image/png": "[encoded data removed]",
      "text/plain": [
       "<matplotlib.figure.Figure at 0x112cf6828>"
      ]
     },
     "metadata": {},
     "output_type": "display_data"
    }
   ],
   "source": [
    "# plot a histogram of 'price'\n",
    "laptops.price.hist();"
   ]
  },
  {
   "cell_type": "markdown",
   "metadata": {
    "slideshow": {
     "slide_type": "slide"
    }
   },
   "source": [
    "### Boxplots"
   ]
  },
  {
   "cell_type": "code",
   "execution_count": 21,
   "metadata": {
    "collapsed": false
   },
   "outputs": [
    {
     "data": {
      "image/png": "[encoded data removed]",
      "text/plain": [
       "<matplotlib.figure.Figure at 0x115176198>"
      ]
     },
     "metadata": {},
     "output_type": "display_data"
    }
   ],
   "source": [
    "from seaborn import boxplot\n",
    "\n",
    "boxplot('brand', 'price', data=laptops);"
   ]
  },
  {
   "cell_type": "markdown",
   "metadata": {
    "slideshow": {
     "slide_type": "slide"
    }
   },
   "source": [
    "### Bar Plot"
   ]
  },
  {
   "cell_type": "code",
   "execution_count": 22,
   "metadata": {
    "collapsed": false
   },
   "outputs": [
    {
     "data": {
      "image/png": "[encoded data removed]",
      "text/plain": [
       "<matplotlib.figure.Figure at 0x1151c99e8>"
      ]
     },
     "metadata": {},
     "output_type": "display_data"
    }
   ],
   "source": [
    "from seaborn import barplot\n",
    "\n",
    "barplot('brand', 'price', data=laptops);"
   ]
  },
  {
   "cell_type": "markdown",
   "metadata": {
    "slideshow": {
     "slide_type": "slide"
    }
   },
   "source": [
    "### Scatter Plot"
   ]
  },
  {
   "cell_type": "code",
   "execution_count": 23,
   "metadata": {
    "collapsed": false
   },
   "outputs": [
    {
     "data": {
      "image/png": "[encoded data removed]",
      "text/plain": [
       "<matplotlib.figure.Figure at 0x117e4cef0>"
      ]
     },
     "metadata": {},
     "output_type": "display_data"
    }
   ],
   "source": [
    "from seaborn import lmplot\n",
    "\n",
    "lmplot(x='hard_drive', y='price', data=laptops, aspect=1.5);"
   ]
  },
  {
   "cell_type": "markdown",
   "metadata": {
    "slideshow": {
     "slide_type": "slide"
    }
   },
   "source": [
    "## Simple Linear Regression\n",
    "\n",
    "* Model assumption: y and x are linearly related\n",
    "    * $y = \\beta_0 + \\beta_1 x + \\varepsilon$ (simple linear regression)\n",
    "    * where $y = \\begin{bmatrix} y_1 \\\\y_2 \\\\ \\vdots \\\\ y_n \\end{bmatrix}$, \n",
    "    $x = \\begin{bmatrix} x_1 \\\\x_2 \\\\ \\vdots \\\\ x_n \\end{bmatrix}$, \n",
    "    $\\varepsilon = \\begin{bmatrix} \\varepsilon_1 \\\\ \\varepsilon_2 \\\\ \\vdots \\\\ \\varepsilon_n \\end{bmatrix}$"
   ]
  },
  {
   "cell_type": "markdown",
   "metadata": {
    "slideshow": {
     "slide_type": "slide"
    }
   },
   "source": [
    "### Ordinary Least Squares\n",
    "\n",
    "* Minimizes $\\sum_{i=1}^n e_i^2$\n",
    "\n",
    "\n",
    "* In the simple linear regression case,\n",
    "\n",
    "    $\\hat{\\beta}_1 = \\frac{\\sum_{i=1}^n (x_i - \\bar{x})(y_i - \\bar{y})}{\\sum_{i=1}^n (x_i - \\bar{x})^2}$, or\n",
    "    \n",
    "    $\\hat{\\beta}_1 = r_{xy} \\frac{s_y}{s_x}$, where $r_{xy}$ is the correlation between $x$ and $y$, $s_x$ and $s_y$ are the standard deviations of $x$ and $y$\n",
    "\n",
    "    $\\hat{\\beta}_0 = \\bar{y} - \\hat{\\beta}_1 \\bar{x}$"
   ]
  },
  {
   "cell_type": "markdown",
   "metadata": {
    "slideshow": {
     "slide_type": "slide"
    }
   },
   "source": [
    "## $R^2$\n",
    "\n",
    "Some definitions:\n",
    "* Total sum of squares (** SST **): $\\sum_{i=1}^n (y_i - \\bar{y})^2$\n",
    "\n",
    "\n",
    "* Regression sum of squares (** SSR **): $\\sum_{i=1}^n (\\hat{y}_i - \\bar{y})^2$\n",
    "\n",
    "\n",
    "* Residual sum of squares (** SSE **): $\\sum_{i=1}^n e_i^2$  \n",
    "\n",
    "\n",
    "\n",
    "SST = SSR + SSE\n",
    "\n",
    "\n",
    "$R^2 = \\frac{SSR}{SST}$\n"
   ]
  },
  {
   "cell_type": "code",
   "execution_count": 24,
   "metadata": {
    "collapsed": false,
    "slideshow": {
     "slide_type": "slide"
    }
   },
   "outputs": [
    {
     "data": {
      "text/html": [
       "<div>\n",
       "<table border=\"1\" class=\"dataframe\">\n",
       "  <thead>\n",
       "    <tr style=\"text-align: right;\">\n",
       "      <th></th>\n",
       "      <th>const</th>\n",
       "      <th>hard_drive</th>\n",
       "    </tr>\n",
       "  </thead>\n",
       "  <tbody>\n",
       "    <tr>\n",
       "      <th>0</th>\n",
       "      <td>1.0</td>\n",
       "      <td>500</td>\n",
       "    </tr>\n",
       "    <tr>\n",
       "      <th>1</th>\n",
       "      <td>1.0</td>\n",
       "      <td>640</td>\n",
       "    </tr>\n",
       "    <tr>\n",
       "      <th>2</th>\n",
       "      <td>1.0</td>\n",
       "      <td>128</td>\n",
       "    </tr>\n",
       "    <tr>\n",
       "      <th>3</th>\n",
       "      <td>1.0</td>\n",
       "      <td>640</td>\n",
       "    </tr>\n",
       "    <tr>\n",
       "      <th>4</th>\n",
       "      <td>1.0</td>\n",
       "      <td>500</td>\n",
       "    </tr>\n",
       "  </tbody>\n",
       "</table>\n",
       "</div>"
      ],
      "text/plain": [
       "   const  hard_drive\n",
       "0    1.0         500\n",
       "1    1.0         640\n",
       "2    1.0         128\n",
       "3    1.0         640\n",
       "4    1.0         500"
      ]
     },
     "execution_count": 24,
     "metadata": {},
     "output_type": "execute_result"
    }
   ],
   "source": [
    "import statsmodels.api as sm\n",
    "\n",
    "X = laptops[['hard_drive']]\n",
    "X = sm.add_constant(X)\n",
    "X.head()"
   ]
  },
  {
   "cell_type": "code",
   "execution_count": 25,
   "metadata": {
    "collapsed": false,
    "slideshow": {
     "slide_type": "fragment"
    }
   },
   "outputs": [
    {
     "data": {
      "text/plain": [
       "0     830\n",
       "1     750\n",
       "2    1200\n",
       "3    1600\n",
       "4    1900\n",
       "Name: price, dtype: int64"
      ]
     },
     "execution_count": 25,
     "metadata": {},
     "output_type": "execute_result"
    }
   ],
   "source": [
    "y = laptops['price']\n",
    "y.head()"
   ]
  },
  {
   "cell_type": "code",
   "execution_count": 26,
   "metadata": {
    "collapsed": false,
    "slideshow": {
     "slide_type": "slide"
    }
   },
   "outputs": [
    {
     "data": {
      "text/html": [
       "<table class=\"simpletable\">\n",
       "<caption>OLS Regression Results</caption>\n",
       "<tr>\n",
       "  <th>Dep. Variable:</th>          <td>price</td>      <th>  R-squared:         </th> <td>   0.069</td>\n",
       "</tr>\n",
       "<tr>\n",
       "  <th>Model:</th>                   <td>OLS</td>       <th>  Adj. R-squared:    </th> <td>   0.054</td>\n",
       "</tr>\n",
       "<tr>\n",
       "  <th>Method:</th>             <td>Least Squares</td>  <th>  F-statistic:       </th> <td>   4.523</td>\n",
       "</tr>\n",
       "<tr>\n",
       "  <th>Date:</th>             <td>Mon, 11 Jul 2016</td> <th>  Prob (F-statistic):</th>  <td>0.0375</td> \n",
       "</tr>\n",
       "<tr>\n",
       "  <th>Time:</th>                 <td>15:17:46</td>     <th>  Log-Likelihood:    </th> <td> -479.67</td>\n",
       "</tr>\n",
       "<tr>\n",
       "  <th>No. Observations:</th>      <td>    63</td>      <th>  AIC:               </th> <td>   963.3</td>\n",
       "</tr>\n",
       "<tr>\n",
       "  <th>Df Residuals:</th>          <td>    61</td>      <th>  BIC:               </th> <td>   967.6</td>\n",
       "</tr>\n",
       "<tr>\n",
       "  <th>Df Model:</th>              <td>     1</td>      <th>                     </th>     <td> </td>   \n",
       "</tr>\n",
       "<tr>\n",
       "  <th>Covariance Type:</th>      <td>nonrobust</td>    <th>                     </th>     <td> </td>   \n",
       "</tr>\n",
       "</table>\n",
       "<table class=\"simpletable\">\n",
       "<tr>\n",
       "       <td></td>         <th>coef</th>     <th>std err</th>      <th>t</th>      <th>P>|t|</th>  <th>[0.025</th>    <th>0.975]</th>  \n",
       "</tr>\n",
       "<tr>\n",
       "  <th>const</th>      <td>  662.6592</td> <td>  152.334</td> <td>    4.350</td> <td> 0.000</td> <td>  358.049</td> <td>  967.269</td>\n",
       "</tr>\n",
       "<tr>\n",
       "  <th>hard_drive</th> <td>    0.5824</td> <td>    0.274</td> <td>    2.127</td> <td> 0.037</td> <td>    0.035</td> <td>    1.130</td>\n",
       "</tr>\n",
       "</table>\n",
       "<table class=\"simpletable\">\n",
       "<tr>\n",
       "  <th>Omnibus:</th>       <td>11.991</td> <th>  Durbin-Watson:     </th> <td>   1.897</td>\n",
       "</tr>\n",
       "<tr>\n",
       "  <th>Prob(Omnibus):</th> <td> 0.002</td> <th>  Jarque-Bera (JB):  </th> <td>  13.274</td>\n",
       "</tr>\n",
       "<tr>\n",
       "  <th>Skew:</th>          <td> 1.120</td> <th>  Prob(JB):          </th> <td> 0.00131</td>\n",
       "</tr>\n",
       "<tr>\n",
       "  <th>Kurtosis:</th>      <td> 3.196</td> <th>  Cond. No.          </th> <td>1.35e+03</td>\n",
       "</tr>\n",
       "</table>"
      ],
      "text/plain": [
       "<class 'statsmodels.iolib.summary.Summary'>\n",
       "\"\"\"\n",
       "                            OLS Regression Results                            \n",
       "==============================================================================\n",
       "Dep. Variable:                  price   R-squared:                       0.069\n",
       "Model:                            OLS   Adj. R-squared:                  0.054\n",
       "Method:                 Least Squares   F-statistic:                     4.523\n",
       "Date:                Mon, 11 Jul 2016   Prob (F-statistic):             0.0375\n",
       "Time:                        15:17:46   Log-Likelihood:                -479.67\n",
       "No. Observations:                  63   AIC:                             963.3\n",
       "Df Residuals:                      61   BIC:                             967.6\n",
       "Df Model:                           1                                         \n",
       "Covariance Type:            nonrobust                                         \n",
       "==============================================================================\n",
       "                 coef    std err          t      P>|t|      [0.025      0.975]\n",
       "------------------------------------------------------------------------------\n",
       "const        662.6592    152.334      4.350      0.000     358.049     967.269\n",
       "hard_drive     0.5824      0.274      2.127      0.037       0.035       1.130\n",
       "==============================================================================\n",
       "Omnibus:                       11.991   Durbin-Watson:                   1.897\n",
       "Prob(Omnibus):                  0.002   Jarque-Bera (JB):               13.274\n",
       "Skew:                           1.120   Prob(JB):                      0.00131\n",
       "Kurtosis:                       3.196   Cond. No.                     1.35e+03\n",
       "==============================================================================\n",
       "\n",
       "Warnings:\n",
       "[1] Standard Errors assume that the covariance matrix of the errors is correctly specified.\n",
       "[2] The condition number is large, 1.35e+03. This might indicate that there are\n",
       "strong multicollinearity or other numerical problems.\n",
       "\"\"\""
      ]
     },
     "execution_count": 26,
     "metadata": {},
     "output_type": "execute_result"
    }
   ],
   "source": [
    "model = sm.OLS(y, X)\n",
    "results = model.fit()\n",
    "results.summary()"
   ]
  },
  {
   "cell_type": "markdown",
   "metadata": {
    "slideshow": {
     "slide_type": "slide"
    }
   },
   "source": [
    "### Model Interpretation\n",
    "\n",
    "* **Intercept** - The mean value for $y$ when $x=0$\n",
    "\n",
    "* **slope** - For each unit increase in $x$, the expected increase/decrease in $y$ (in the case of multiple linear regression, we need to add \"holding all other explanatory variables constant\", since there are more than one exaplanatory variable in the model.)\n",
    "\n",
    "* $\\textbf{R}^2$ - Proportion of the variation in $y$ that is explained by the model. Measured on a scale from 0 (bad) to 1 (good)"
   ]
  },
  {
   "cell_type": "markdown",
   "metadata": {
    "slideshow": {
     "slide_type": "slide"
    }
   },
   "source": [
    "## Probability\n",
    "\n",
    "### Axioms of Probability\n",
    "\n",
    "* For any event A: $P(A) \\geq 0$\n",
    "* The probability of the entire sample space: $P(\\Omega) = 1$\n",
    "* For any countable collection $A_1, A_2,...$ of _mutually exclusive_ events:    \n",
    "$$P(A_1\\cup A_2 \\cup \\dots) = P(A_1) + P(A_2) + \\dots$$"
   ]
  },
  {
   "cell_type": "markdown",
   "metadata": {
    "slideshow": {
     "slide_type": "slide"
    }
   },
   "source": [
    "### Union, Intersection and Complement\n",
    "\n",
    "* The ** union ** of two events $A$ and $B$, denoted $A \\cup B$, is the set of outcomes that belong either to $A$, to $B$, or to both. In words,  $A \\cup B$ means \"A and/or B.\" \n",
    "* The ** intersection ** of two events $A$ and $B$, denoted $A \\cap B$, is the set of outcomes that belong both to $A$ and to $B$. In words, $A \\cap B$ means “A and B.”\n",
    "* The ** complement ** of an event $A$, denoted $A^c$, is the set of outcomes that do not belong to $A$. In words, $A^c$ means \"not A.\"\n",
    "\n",
    "\n",
    "* The probability of event the \"not A\": $P(A^c) = 1 - P(A)$\n",
    "* For any A and B (not necessarily disjoint):  \n",
    "\n",
    "$$P(A \\cup B) = P(A) + P(B) - P(A \\cap B)$$"
   ]
  },
  {
   "cell_type": "markdown",
   "metadata": {
    "slideshow": {
     "slide_type": "slide"
    }
   },
   "source": [
    "### Conditional Probability\n",
    "\n",
    "The probability that event A occurs, given that event B has occurred\n",
    "\n",
    "$$ P(A|B) = \\frac{P(A\\cap B)}{P(B)} $$\n",
    "\n",
    "** Joint probability**: $P(A \\cap B) = P(A|B) \\times P(B)$"
   ]
  },
  {
   "cell_type": "markdown",
   "metadata": {
    "slideshow": {
     "slide_type": "slide"
    }
   },
   "source": [
    "### Law of Total Probability\n",
    "\n",
    "If $B_1, \\dots, B_k$ partition $S$, then for any event A,\n",
    "\n",
    "$$ P(A) = \\sum_{i = 1}^k P(A \\cap B_i) = \\sum_{i = 1}^k P(A | B_i) P(B_i) $$"
   ]
  },
  {
   "cell_type": "markdown",
   "metadata": {
    "slideshow": {
     "slide_type": "slide"
    }
   },
   "source": [
    "#### Simpson's Paradox\n",
    "\n",
    "Are you better off with AntiCough?\n",
    "\n",
    "<img src=\"images/anticough.png\" width=\"600\">"
   ]
  },
  {
   "cell_type": "markdown",
   "metadata": {
    "slideshow": {
     "slide_type": "slide"
    }
   },
   "source": [
    "What happens if we combine the studies?\n",
    "\n",
    "<img src=\"images/anticough2.png\" width=\"500\">\n",
    "\n",
    "Overall, AntiCough has a 4% lower cure percentage (70%), despite being about 3% higher in both Study 1 and Study 2.\n",
    "\n",
    "What's going on??"
   ]
  },
  {
   "cell_type": "markdown",
   "metadata": {
    "slideshow": {
     "slide_type": "slide"
    }
   },
   "source": [
    "Let's translate the problem into statistical language. First, define the relevant events:\n",
    "* $C = \\{cured\\}$\n",
    "* $A = \\{AntiCough\\}$\n",
    "* $A^c  = \\{Other \\ Medicine\\}$\n",
    "* $S_1 = \\{Study \\ 1\\}$\n",
    "* $S_2 = \\{Study \\ 2\\}$"
   ]
  },
  {
   "cell_type": "markdown",
   "metadata": {
    "slideshow": {
     "slide_type": "subslide"
    }
   },
   "source": [
    "Then,\n",
    "\n",
    "$$ P(C|A) = P(C \\cap S_1 | A) + P(C \\cap S_2 | A)\n",
    "          = P(C | S_1 \\cap A) P(S_1 | A) + P(C | S_2 \\cap A) P(S_2 | A) $$  \n",
    "          \n",
    "\n",
    "$$ P(C|A^c) = P(C | S_1 \\cap A^c) P(S_1 | A^c) + P(C | S_2 \\cap A^c) P(S_2 | A^c) $$  "
   ]
  },
  {
   "cell_type": "markdown",
   "metadata": {
    "slideshow": {
     "slide_type": "subslide"
    }
   },
   "source": [
    "Although $P(C | S_1 \\cap A) > P(C | S_1 \\cap A^c)$ and $P(C | S_2 \\cap A) > P(C | S_2 \\cap A^c)$, the other terms can change the overall outcome: $P(S_1 | A)$, $P(S_2 | A)$, $P(S_1 | A^c)$, $P(S_2 | A^c)$."
   ]
  },
  {
   "cell_type": "markdown",
   "metadata": {
    "slideshow": {
     "slide_type": "slide"
    }
   },
   "source": [
    "### Independent Events\n",
    "\n",
    "Events A and B are ** _independent_ ** if and only if: $$P(A \\cap B) = P(A)P(B)$$\n",
    "\n",
    "Equivalently,\n",
    "\n",
    "$$ P(A|B) = P(A) $$\n",
    "$$ P(B|A) = P(B) $$\n",
    "\n",
    "\n",
    "**Are disjoint events independent?**"
   ]
  },
  {
   "cell_type": "markdown",
   "metadata": {
    "slideshow": {
     "slide_type": "slide"
    }
   },
   "source": [
    "### Bayes' Theorem  \n",
    "\n",
    "\n",
    "$$ P(A|B) = \\frac{P(B|A) \\times P(A)}{P(B)} = \\frac{P(B|A) \\times P(A)}{P(B|A) \\times P(A) + P(B|A^c) \\times P(A^c)} $$\n"
   ]
  },
  {
   "cell_type": "markdown",
   "metadata": {
    "slideshow": {
     "slide_type": "slide"
    }
   },
   "source": [
    "#### Example\n",
    "\n",
    "Mr Smith owns a hysterical rosebush. It will die with probability 1/2 if watered, and with probability 3/4 if\n",
    "not watered. Worse still, Smith employs a perfidious gardener who will fail to water the rosebush with probability 2/3.  \n",
    "Smith returns from holiday to find the rosebush.... DEAD!!!  \n",
    "What is the probability that the gardener did not water it?"
   ]
  },
  {
   "cell_type": "markdown",
   "metadata": {
    "slideshow": {
     "slide_type": "subslide"
    }
   },
   "source": [
    "*Step 1*: formulate the events\n",
    "* $D$ = {rosebush dies}\n",
    "* $W$ = {gardener waters rosebush}\n",
    "* $W^c$ = {gardener fails to water rosebush}"
   ]
  },
  {
   "cell_type": "markdown",
   "metadata": {
    "slideshow": {
     "slide_type": "subslide"
    }
   },
   "source": [
    "*Step 2*: write down all information given\n",
    "\n",
    "$P(D | W) = 1/2$  \n",
    "$P(D | W^c) = 3/4$  \n",
    "$P(W^c) = 2/3$ (so $P(W) = 1 - P(W^c) = 1/3$)"
   ]
  },
  {
   "cell_type": "markdown",
   "metadata": {
    "slideshow": {
     "slide_type": "fragment"
    }
   },
   "source": [
    "*Step 3*: write down what we are looking for\n",
    "\n",
    "$P(W^c | D)$"
   ]
  },
  {
   "cell_type": "markdown",
   "metadata": {
    "slideshow": {
     "slide_type": "subslide"
    }
   },
   "source": [
    "*Step 4*: compare this to what we know\n",
    "\n",
    "Need to invert the conditioning, so use Bayes' Theorem:\n",
    "\n",
    "\n",
    "$$P(W^c | D) = \\frac{P(D | W^c)P(W^c)}{P(D | W^c)P(W^c) + P(D | W) P(W)} = \\frac{3/4 \\times 2/3}{3/4 \\times 2/3 + 1/2 \\times 1/3} = 3/4$$\n",
    "\n",
    "So the gardener failed to water the rosebush with probability 3/4."
   ]
  },
  {
   "cell_type": "markdown",
   "metadata": {
    "slideshow": {
     "slide_type": "fragment"
    }
   },
   "source": [
    "Now, let's try to solve this problem using probability trees..."
   ]
  },
  {
   "cell_type": "markdown",
   "metadata": {
    "slideshow": {
     "slide_type": "slide"
    }
   },
   "source": [
    "### Chain Rule for Probability\n",
    "\n",
    "We can write any joint probability as incremental product of conditional probabilities,\n",
    "\n",
    "$ P(A_1 \\cap A_2) = P(A_1)P(A_2 | A_1) $\n",
    "\n",
    "\n",
    "$ P(A_1 \\cap A_2 \\cap A_3) = P(A_1)P(A_2 | A_1)P(A_3 | A_2 \\cap A_1) $\n",
    "\n",
    "\n",
    "In general, for $n$ events $A_1, A_2, \\dots, A_n$, we have  \n",
    "\n",
    "$ P (A_1 \\cap A_2 \\cap \\dots \\cap A_n) = P(A_1)P(A_2 | A_1) \\dots P(A_n | A_{n-1} \\cap \\dots \\cap A_1) $"
   ]
  },
  {
   "cell_type": "markdown",
   "metadata": {
    "slideshow": {
     "slide_type": "skip"
    }
   },
   "source": [
    "#### Birthday Problem\n",
    "\n",
    "(From last week's lab exercise) Suppose there are 23 people in a data science class, lined up in a single file line.  \n",
    "Let $A_i$ be the probability that the $i^{th}$ person doesn't have the same birthday as the $j^{th}$ person for any $j < i$.  \n",
    "Use the chain rule from probability to calculate the probability that at least 2 people share the same birthday. \n",
    "\n"
   ]
  },
  {
   "cell_type": "markdown",
   "metadata": {
    "slideshow": {
     "slide_type": "slide"
    }
   },
   "source": [
    "### Counting Methods\n",
    "\n",
    "#### Permutation\n",
    "\n",
    "The number of ways to select $k$ objects from $n$ distinct objects when different orderings constitute different choices \n",
    "$$^nP_k=n(n-1)(n-2)\\dots(n-k+1) = \\frac{n!}{(n-k)!}$$\n",
    "\n",
    "#### Combination\n",
    "\n",
    "If order doesn't matter...\n",
    "\n",
    "The number of ways to choose $k$ objects out of $n$ distinguishable objects is \n",
    "$$ ^nC_k = \\binom{n}{k} = \\frac{^nP_k}{k!}=\\frac{n!}{k!(n-k)!}$$"
   ]
  },
  {
   "cell_type": "markdown",
   "metadata": {
    "slideshow": {
     "slide_type": "skip"
    }
   },
   "source": [
    "#### Example\n",
    "\n",
    "A certain family has 6 children, consisting of 3 boys and 3 girls. Assuming that all birth orders are equally likely, what is the probability that the 3 eldest children are the 3 girls?"
   ]
  }
 ],
 "metadata": {
  "anaconda-cloud": {},
  "celltoolbar": "Slideshow",
  "kernelspec": {
   "display_name": "Python [Root]",
   "language": "python",
   "name": "Python [Root]"
  },
  "language_info": {
   "codemirror_mode": {
    "name": "ipython",
    "version": 3
   },
   "file_extension": ".py",
   "mimetype": "text/x-python",
   "name": "python",
   "nbconvert_exporter": "python",
   "pygments_lexer": "ipython3",
   "version": "3.5.2"
  }
 },
 "nbformat": 4,
 "nbformat_minor": 0
}
