{
 "cells": [
  {
   "cell_type": "markdown",
   "metadata": {},
   "source": [
    "# Midterm Part 1 - _Due Monday, September 19_\n",
    "---\n",
    "## Note: this is part of the midterm. It is _not_ a paired programming assignment. **You must complete this lab _on your own_**. \n",
    "---\n",
    "### We'll be exploring the Pokemon dataset from [Kaggle](http://www.kaggle.com).\n",
    "The dataset was downloaded from https://www.kaggle.com/abcsds/pokemon. \n",
    "\n",
    "1. sign up or log in\n",
    "2. accept terms and conditions (if necessary)\n",
    "3. download `pokemon.zip`\n",
    "4. unzip it to your local directory\n",
    "\n",
    "After loading and cleaning the data:\n",
    "\n",
    "+ **SQL**: \n",
    "    - Which Pokemon seems the most useful (largest `Total` value)?\n",
    "    - Come up with at least one other question that can be answered using SQL (and answer it).\n",
    "+ **EDA**: \n",
    "    - Calculate the percent of distinct Pokemon that are Legendary (distinct means unique Pokemon `#`).\n",
    "    - Make at least one barplot of a categorical variable\n",
    "    - Make at least one boxplot of continuous variables\n",
    "    - Make at least one boxplot of continuous variables grouped by a categorical variable\n",
    "+ **EDA/Statistics**: \n",
    "    - Calculate the mean and standard deviation of the `total` column for each Pokemon Type 1.\n",
    "    - Calculate the mean and standard deviation of at least one other continuous variable\n",
    "+ **Statistics/Random Sampling** - For the following questions, draw a sample of 100:\n",
    "    - Compare sample statistics & population statistics for Attack points.\n",
    "    - Make histograms of the Attack points sample & Attack points population.\n",
    "    - Compare sample statistics & population statistics for at least one other continuous variable.\n",
    "    - Make histograms of the Attack points sample & at least one other continuous variable in the population.\n",
    "+ **Probability**: Assume you are a Pokemaster and have caught every Pokemon. You pick 6 Pokemon at random to carry.\n",
    "     - What's the probability that they are all Water type? (probability of a Pokemon with Type 1 or Type 2 of `Water`)\n",
    "     - Come up with at least one more scenario for your set of six Pokemon and compute the probability of getting it.\n",
    "\n",
    "***\n",
    "## Setup & clean the data\n",
    "### First, load the packages that will be used in this notebook."
   ]
  },
  {
   "cell_type": "code",
   "execution_count": 47,
   "metadata": {
    "collapsed": false
   },
   "outputs": [
    {
     "name": "stdout",
     "output_type": "stream",
     "text": [
      "Populating the interactive namespace from numpy and matplotlib\n"
     ]
    }
   ],
   "source": [
    "%pylab inline\n",
    "\n",
    "import pandas as pd\n",
    "import seaborn as sns\n",
    "\n",
    "from sqlalchemy import create_engine\n",
    "\n",
    "random.seed(1234)\n",
    "sns.set(font_scale=1.5)"
   ]
  },
  {
   "cell_type": "markdown",
   "metadata": {},
   "source": [
    "### Next, load the csv file into a DataFrame and look at the first few lines."
   ]
  },
  {
   "cell_type": "code",
   "execution_count": 48,
   "metadata": {
    "collapsed": false
   },
   "outputs": [
    {
     "data": {
      "text/html": [
       "<div>\n",
       "<table border=\"1\" class=\"dataframe\">\n",
       "  <thead>\n",
       "    <tr style=\"text-align: right;\">\n",
       "      <th></th>\n",
       "      <th>#</th>\n",
       "      <th>Name</th>\n",
       "      <th>Type 1</th>\n",
       "      <th>Type 2</th>\n",
       "      <th>Total</th>\n",
       "      <th>HP</th>\n",
       "      <th>Attack</th>\n",
       "      <th>Defense</th>\n",
       "      <th>Sp. Atk</th>\n",
       "      <th>Sp. Def</th>\n",
       "      <th>Speed</th>\n",
       "      <th>Generation</th>\n",
       "      <th>Legendary</th>\n",
       "    </tr>\n",
       "  </thead>\n",
       "  <tbody>\n",
       "    <tr>\n",
       "      <th>0</th>\n",
       "      <td>1</td>\n",
       "      <td>Bulbasaur</td>\n",
       "      <td>Grass</td>\n",
       "      <td>Poison</td>\n",
       "      <td>318</td>\n",
       "      <td>45</td>\n",
       "      <td>49</td>\n",
       "      <td>49</td>\n",
       "      <td>65</td>\n",
       "      <td>65</td>\n",
       "      <td>45</td>\n",
       "      <td>1</td>\n",
       "      <td>False</td>\n",
       "    </tr>\n",
       "    <tr>\n",
       "      <th>1</th>\n",
       "      <td>2</td>\n",
       "      <td>Ivysaur</td>\n",
       "      <td>Grass</td>\n",
       "      <td>Poison</td>\n",
       "      <td>405</td>\n",
       "      <td>60</td>\n",
       "      <td>62</td>\n",
       "      <td>63</td>\n",
       "      <td>80</td>\n",
       "      <td>80</td>\n",
       "      <td>60</td>\n",
       "      <td>1</td>\n",
       "      <td>False</td>\n",
       "    </tr>\n",
       "    <tr>\n",
       "      <th>2</th>\n",
       "      <td>3</td>\n",
       "      <td>Venusaur</td>\n",
       "      <td>Grass</td>\n",
       "      <td>Poison</td>\n",
       "      <td>525</td>\n",
       "      <td>80</td>\n",
       "      <td>82</td>\n",
       "      <td>83</td>\n",
       "      <td>100</td>\n",
       "      <td>100</td>\n",
       "      <td>80</td>\n",
       "      <td>1</td>\n",
       "      <td>False</td>\n",
       "    </tr>\n",
       "    <tr>\n",
       "      <th>3</th>\n",
       "      <td>3</td>\n",
       "      <td>VenusaurMega Venusaur</td>\n",
       "      <td>Grass</td>\n",
       "      <td>Poison</td>\n",
       "      <td>625</td>\n",
       "      <td>80</td>\n",
       "      <td>100</td>\n",
       "      <td>123</td>\n",
       "      <td>122</td>\n",
       "      <td>120</td>\n",
       "      <td>80</td>\n",
       "      <td>1</td>\n",
       "      <td>False</td>\n",
       "    </tr>\n",
       "    <tr>\n",
       "      <th>4</th>\n",
       "      <td>4</td>\n",
       "      <td>Charmander</td>\n",
       "      <td>Fire</td>\n",
       "      <td>NaN</td>\n",
       "      <td>309</td>\n",
       "      <td>39</td>\n",
       "      <td>52</td>\n",
       "      <td>43</td>\n",
       "      <td>60</td>\n",
       "      <td>50</td>\n",
       "      <td>65</td>\n",
       "      <td>1</td>\n",
       "      <td>False</td>\n",
       "    </tr>\n",
       "  </tbody>\n",
       "</table>\n",
       "</div>"
      ],
      "text/plain": [
       "   #                   Name Type 1  Type 2  Total  HP  Attack  Defense  \\\n",
       "0  1              Bulbasaur  Grass  Poison    318  45      49       49   \n",
       "1  2                Ivysaur  Grass  Poison    405  60      62       63   \n",
       "2  3               Venusaur  Grass  Poison    525  80      82       83   \n",
       "3  3  VenusaurMega Venusaur  Grass  Poison    625  80     100      123   \n",
       "4  4             Charmander   Fire     NaN    309  39      52       43   \n",
       "\n",
       "   Sp. Atk  Sp. Def  Speed  Generation Legendary  \n",
       "0       65       65     45           1     False  \n",
       "1       80       80     60           1     False  \n",
       "2      100      100     80           1     False  \n",
       "3      122      120     80           1     False  \n",
       "4       60       50     65           1     False  "
      ]
     },
     "execution_count": 48,
     "metadata": {},
     "output_type": "execute_result"
    }
   ],
   "source": [
    "df = pd.read_csv('Pokemon.csv')\n",
    "df.head()"
   ]
  },
  {
   "cell_type": "markdown",
   "metadata": {},
   "source": [
    "Here are some variable descriptions from the Kaggle website:\n",
    "\n",
    "|Variable|Description|\n",
    "|:-:|:--|\n",
    "|**#**|ID for each pokemon|\n",
    "|**Name**|Name of each pokemon|\n",
    "|**Type 1**|Each pokemon has a type, this determines weakness/resistance to attacks|\n",
    "|**Type 2**|Some pokemon are dual type and have 2|\n",
    "|**Total**|sum of all stats that come after this, a general guide to how strong a pokemon is|\n",
    "|**HP**|hit points, or health, defines how much damage a pokemon can withstand before fainting|\n",
    "|**Attack**|the base modifier for normal attacks (eg. Scratch, Punch)|\n",
    "|**Defense**|the base damage resistance against normal attacks|\n",
    "|**SP. Atk**|special attack, the base modifier for special attacks (e.g. fire blast, bubble beam)|\n",
    "|**SP. Def**|the base damage resistance against special attacks|\n",
    "|**Speed**|determines which pokemon attacks first each round|\n",
    "|**Generation**|the number of the generation a pokemon belongs to\n",
    "|**Legendary**|boolean value indicating if a pokemon is Legendary (True) or not Legendary (False)|\n",
    "\n",
    "Notice that there are multiple entries for Pokemon \\#3 (Venusaur). We won't be able to set `#` as the index since it contains duplicates.\n",
    "\n",
    "We can also modify the column names to get rid of periods and spaces. The column names should also be lowercased for use with SQLite."
   ]
  },
  {
   "cell_type": "code",
   "execution_count": 49,
   "metadata": {
    "collapsed": false
   },
   "outputs": [
    {
     "name": "stdout",
     "output_type": "stream",
     "text": [
      "Index(['#', 'name', 'type1', 'type2', 'total', 'hp', 'attack', 'defense',\n",
      "       'spatk', 'spdef', 'speed', 'generation', 'legendary'],\n",
      "      dtype='object')\n"
     ]
    }
   ],
   "source": [
    "# Lowercase and replace periods & spaces in the column names\n",
    "new_names = []\n",
    "\n",
    "for col in df.columns:\n",
    "    new_names.append(col.replace('.', '', len(col)).replace(' ', '', len(col)).lower())\n",
    "\n",
    "df.columns = new_names\n",
    "\n",
    "print(df.columns)"
   ]
  },
  {
   "cell_type": "markdown",
   "metadata": {},
   "source": [
    "Let's also convert `Legendary` to a binary column, where `1` represents `True` and `0` represents `False`.\n",
    "\n",
    "Python's lambda functions are useful for defining functions in-line. You can read more at:<br>\n",
    "https://pythonconquerstheuniverse.wordpress.com/2011/08/29/lambda_tutorial/<br>\n",
    "http://stackoverflow.com/questions/890128/why-are-python-lambdas-useful"
   ]
  },
  {
   "cell_type": "code",
   "execution_count": 50,
   "metadata": {
    "collapsed": false
   },
   "outputs": [
    {
     "data": {
      "text/html": [
       "<div>\n",
       "<table border=\"1\" class=\"dataframe\">\n",
       "  <thead>\n",
       "    <tr style=\"text-align: right;\">\n",
       "      <th></th>\n",
       "      <th>#</th>\n",
       "      <th>name</th>\n",
       "      <th>type1</th>\n",
       "      <th>type2</th>\n",
       "      <th>total</th>\n",
       "      <th>hp</th>\n",
       "      <th>attack</th>\n",
       "      <th>defense</th>\n",
       "      <th>spatk</th>\n",
       "      <th>spdef</th>\n",
       "      <th>speed</th>\n",
       "      <th>generation</th>\n",
       "      <th>legendary</th>\n",
       "    </tr>\n",
       "  </thead>\n",
       "  <tbody>\n",
       "    <tr>\n",
       "      <th>0</th>\n",
       "      <td>1</td>\n",
       "      <td>Bulbasaur</td>\n",
       "      <td>Grass</td>\n",
       "      <td>Poison</td>\n",
       "      <td>318</td>\n",
       "      <td>45</td>\n",
       "      <td>49</td>\n",
       "      <td>49</td>\n",
       "      <td>65</td>\n",
       "      <td>65</td>\n",
       "      <td>45</td>\n",
       "      <td>1</td>\n",
       "      <td>0</td>\n",
       "    </tr>\n",
       "    <tr>\n",
       "      <th>1</th>\n",
       "      <td>2</td>\n",
       "      <td>Ivysaur</td>\n",
       "      <td>Grass</td>\n",
       "      <td>Poison</td>\n",
       "      <td>405</td>\n",
       "      <td>60</td>\n",
       "      <td>62</td>\n",
       "      <td>63</td>\n",
       "      <td>80</td>\n",
       "      <td>80</td>\n",
       "      <td>60</td>\n",
       "      <td>1</td>\n",
       "      <td>0</td>\n",
       "    </tr>\n",
       "    <tr>\n",
       "      <th>2</th>\n",
       "      <td>3</td>\n",
       "      <td>Venusaur</td>\n",
       "      <td>Grass</td>\n",
       "      <td>Poison</td>\n",
       "      <td>525</td>\n",
       "      <td>80</td>\n",
       "      <td>82</td>\n",
       "      <td>83</td>\n",
       "      <td>100</td>\n",
       "      <td>100</td>\n",
       "      <td>80</td>\n",
       "      <td>1</td>\n",
       "      <td>0</td>\n",
       "    </tr>\n",
       "    <tr>\n",
       "      <th>3</th>\n",
       "      <td>3</td>\n",
       "      <td>VenusaurMega Venusaur</td>\n",
       "      <td>Grass</td>\n",
       "      <td>Poison</td>\n",
       "      <td>625</td>\n",
       "      <td>80</td>\n",
       "      <td>100</td>\n",
       "      <td>123</td>\n",
       "      <td>122</td>\n",
       "      <td>120</td>\n",
       "      <td>80</td>\n",
       "      <td>1</td>\n",
       "      <td>0</td>\n",
       "    </tr>\n",
       "    <tr>\n",
       "      <th>4</th>\n",
       "      <td>4</td>\n",
       "      <td>Charmander</td>\n",
       "      <td>Fire</td>\n",
       "      <td>NaN</td>\n",
       "      <td>309</td>\n",
       "      <td>39</td>\n",
       "      <td>52</td>\n",
       "      <td>43</td>\n",
       "      <td>60</td>\n",
       "      <td>50</td>\n",
       "      <td>65</td>\n",
       "      <td>1</td>\n",
       "      <td>0</td>\n",
       "    </tr>\n",
       "  </tbody>\n",
       "</table>\n",
       "</div>"
      ],
      "text/plain": [
       "   #                   name  type1   type2  total  hp  attack  defense  spatk  \\\n",
       "0  1              Bulbasaur  Grass  Poison    318  45      49       49     65   \n",
       "1  2                Ivysaur  Grass  Poison    405  60      62       63     80   \n",
       "2  3               Venusaur  Grass  Poison    525  80      82       83    100   \n",
       "3  3  VenusaurMega Venusaur  Grass  Poison    625  80     100      123    122   \n",
       "4  4             Charmander   Fire     NaN    309  39      52       43     60   \n",
       "\n",
       "   spdef  speed  generation  legendary  \n",
       "0     65     45           1          0  \n",
       "1     80     60           1          0  \n",
       "2    100     80           1          0  \n",
       "3    120     80           1          0  \n",
       "4     50     65           1          0  "
      ]
     },
     "execution_count": 50,
     "metadata": {},
     "output_type": "execute_result"
    }
   ],
   "source": [
    "df['legendary'] = df['legendary'].apply(lambda x: 1 if x == True else 0)\n",
    "df.head()"
   ]
  },
  {
   "cell_type": "markdown",
   "metadata": {},
   "source": [
    "### Next, load the data into SQL\n",
    "\n",
    "First we'll need to create a database, then create a table in our new database."
   ]
  },
  {
   "cell_type": "code",
   "execution_count": 51,
   "metadata": {
    "collapsed": false
   },
   "outputs": [
    {
     "ename": "ValueError",
     "evalue": "Table 'pokemon' already exists.",
     "output_type": "error",
     "traceback": [
      "\u001b[0;31m---------------------------------------------------------------------------\u001b[0m",
      "\u001b[0;31mValueError\u001b[0m                                Traceback (most recent call last)",
      "\u001b[0;32m<ipython-input-51-771cfa7b4fdd>\u001b[0m in \u001b[0;36m<module>\u001b[0;34m()\u001b[0m\n\u001b[1;32m      2\u001b[0m \u001b[0mengine\u001b[0m \u001b[0;34m=\u001b[0m \u001b[0mcreate_engine\u001b[0m\u001b[0;34m(\u001b[0m\u001b[0;34m'sqlite:///pokemon.db'\u001b[0m\u001b[0;34m)\u001b[0m\u001b[0;34m\u001b[0m\u001b[0m\n\u001b[1;32m      3\u001b[0m \u001b[0mconn\u001b[0m \u001b[0;34m=\u001b[0m \u001b[0mengine\u001b[0m\u001b[0;34m.\u001b[0m\u001b[0mconnect\u001b[0m\u001b[0;34m(\u001b[0m\u001b[0;34m)\u001b[0m\u001b[0;34m\u001b[0m\u001b[0m\n\u001b[0;32m----> 4\u001b[0;31m \u001b[0mdf\u001b[0m\u001b[0;34m.\u001b[0m\u001b[0mto_sql\u001b[0m\u001b[0;34m(\u001b[0m\u001b[0;34m'pokemon'\u001b[0m\u001b[0;34m,\u001b[0m \u001b[0mconn\u001b[0m\u001b[0;34m)\u001b[0m\u001b[0;34m\u001b[0m\u001b[0m\n\u001b[0m",
      "\u001b[0;32m/Users/jonathanhilgart/anaconda/lib/python3.5/site-packages/pandas/core/generic.py\u001b[0m in \u001b[0;36mto_sql\u001b[0;34m(self, name, con, flavor, schema, if_exists, index, index_label, chunksize, dtype)\u001b[0m\n\u001b[1;32m   1163\u001b[0m         sql.to_sql(self, name, con, flavor=flavor, schema=schema,\n\u001b[1;32m   1164\u001b[0m                    \u001b[0mif_exists\u001b[0m\u001b[0;34m=\u001b[0m\u001b[0mif_exists\u001b[0m\u001b[0;34m,\u001b[0m \u001b[0mindex\u001b[0m\u001b[0;34m=\u001b[0m\u001b[0mindex\u001b[0m\u001b[0;34m,\u001b[0m \u001b[0mindex_label\u001b[0m\u001b[0;34m=\u001b[0m\u001b[0mindex_label\u001b[0m\u001b[0;34m,\u001b[0m\u001b[0;34m\u001b[0m\u001b[0m\n\u001b[0;32m-> 1165\u001b[0;31m                    chunksize=chunksize, dtype=dtype)\n\u001b[0m\u001b[1;32m   1166\u001b[0m \u001b[0;34m\u001b[0m\u001b[0m\n\u001b[1;32m   1167\u001b[0m     \u001b[0;32mdef\u001b[0m \u001b[0mto_pickle\u001b[0m\u001b[0;34m(\u001b[0m\u001b[0mself\u001b[0m\u001b[0;34m,\u001b[0m \u001b[0mpath\u001b[0m\u001b[0;34m)\u001b[0m\u001b[0;34m:\u001b[0m\u001b[0;34m\u001b[0m\u001b[0m\n",
      "\u001b[0;32m/Users/jonathanhilgart/anaconda/lib/python3.5/site-packages/pandas/io/sql.py\u001b[0m in \u001b[0;36mto_sql\u001b[0;34m(frame, name, con, flavor, schema, if_exists, index, index_label, chunksize, dtype)\u001b[0m\n\u001b[1;32m    569\u001b[0m     pandas_sql.to_sql(frame, name, if_exists=if_exists, index=index,\n\u001b[1;32m    570\u001b[0m                       \u001b[0mindex_label\u001b[0m\u001b[0;34m=\u001b[0m\u001b[0mindex_label\u001b[0m\u001b[0;34m,\u001b[0m \u001b[0mschema\u001b[0m\u001b[0;34m=\u001b[0m\u001b[0mschema\u001b[0m\u001b[0;34m,\u001b[0m\u001b[0;34m\u001b[0m\u001b[0m\n\u001b[0;32m--> 571\u001b[0;31m                       chunksize=chunksize, dtype=dtype)\n\u001b[0m\u001b[1;32m    572\u001b[0m \u001b[0;34m\u001b[0m\u001b[0m\n\u001b[1;32m    573\u001b[0m \u001b[0;34m\u001b[0m\u001b[0m\n",
      "\u001b[0;32m/Users/jonathanhilgart/anaconda/lib/python3.5/site-packages/pandas/io/sql.py\u001b[0m in \u001b[0;36mto_sql\u001b[0;34m(self, frame, name, if_exists, index, index_label, schema, chunksize, dtype)\u001b[0m\n\u001b[1;32m   1247\u001b[0m                          \u001b[0mif_exists\u001b[0m\u001b[0;34m=\u001b[0m\u001b[0mif_exists\u001b[0m\u001b[0;34m,\u001b[0m \u001b[0mindex_label\u001b[0m\u001b[0;34m=\u001b[0m\u001b[0mindex_label\u001b[0m\u001b[0;34m,\u001b[0m\u001b[0;34m\u001b[0m\u001b[0m\n\u001b[1;32m   1248\u001b[0m                          schema=schema, dtype=dtype)\n\u001b[0;32m-> 1249\u001b[0;31m         \u001b[0mtable\u001b[0m\u001b[0;34m.\u001b[0m\u001b[0mcreate\u001b[0m\u001b[0;34m(\u001b[0m\u001b[0;34m)\u001b[0m\u001b[0;34m\u001b[0m\u001b[0m\n\u001b[0m\u001b[1;32m   1250\u001b[0m         \u001b[0mtable\u001b[0m\u001b[0;34m.\u001b[0m\u001b[0minsert\u001b[0m\u001b[0;34m(\u001b[0m\u001b[0mchunksize\u001b[0m\u001b[0;34m)\u001b[0m\u001b[0;34m\u001b[0m\u001b[0m\n\u001b[1;32m   1251\u001b[0m         \u001b[0;32mif\u001b[0m \u001b[0;34m(\u001b[0m\u001b[0;32mnot\u001b[0m \u001b[0mname\u001b[0m\u001b[0;34m.\u001b[0m\u001b[0misdigit\u001b[0m\u001b[0;34m(\u001b[0m\u001b[0;34m)\u001b[0m \u001b[0;32mand\u001b[0m \u001b[0;32mnot\u001b[0m \u001b[0mname\u001b[0m\u001b[0;34m.\u001b[0m\u001b[0mislower\u001b[0m\u001b[0;34m(\u001b[0m\u001b[0;34m)\u001b[0m\u001b[0;34m)\u001b[0m\u001b[0;34m:\u001b[0m\u001b[0;34m\u001b[0m\u001b[0m\n",
      "\u001b[0;32m/Users/jonathanhilgart/anaconda/lib/python3.5/site-packages/pandas/io/sql.py\u001b[0m in \u001b[0;36mcreate\u001b[0;34m(self)\u001b[0m\n\u001b[1;32m    690\u001b[0m         \u001b[0;32mif\u001b[0m \u001b[0mself\u001b[0m\u001b[0;34m.\u001b[0m\u001b[0mexists\u001b[0m\u001b[0;34m(\u001b[0m\u001b[0;34m)\u001b[0m\u001b[0;34m:\u001b[0m\u001b[0;34m\u001b[0m\u001b[0m\n\u001b[1;32m    691\u001b[0m             \u001b[0;32mif\u001b[0m \u001b[0mself\u001b[0m\u001b[0;34m.\u001b[0m\u001b[0mif_exists\u001b[0m \u001b[0;34m==\u001b[0m \u001b[0;34m'fail'\u001b[0m\u001b[0;34m:\u001b[0m\u001b[0;34m\u001b[0m\u001b[0m\n\u001b[0;32m--> 692\u001b[0;31m                 \u001b[0;32mraise\u001b[0m \u001b[0mValueError\u001b[0m\u001b[0;34m(\u001b[0m\u001b[0;34m\"Table '%s' already exists.\"\u001b[0m \u001b[0;34m%\u001b[0m \u001b[0mself\u001b[0m\u001b[0;34m.\u001b[0m\u001b[0mname\u001b[0m\u001b[0;34m)\u001b[0m\u001b[0;34m\u001b[0m\u001b[0m\n\u001b[0m\u001b[1;32m    693\u001b[0m             \u001b[0;32melif\u001b[0m \u001b[0mself\u001b[0m\u001b[0;34m.\u001b[0m\u001b[0mif_exists\u001b[0m \u001b[0;34m==\u001b[0m \u001b[0;34m'replace'\u001b[0m\u001b[0;34m:\u001b[0m\u001b[0;34m\u001b[0m\u001b[0m\n\u001b[1;32m    694\u001b[0m                 \u001b[0mself\u001b[0m\u001b[0;34m.\u001b[0m\u001b[0mpd_sql\u001b[0m\u001b[0;34m.\u001b[0m\u001b[0mdrop_table\u001b[0m\u001b[0;34m(\u001b[0m\u001b[0mself\u001b[0m\u001b[0;34m.\u001b[0m\u001b[0mname\u001b[0m\u001b[0;34m,\u001b[0m \u001b[0mself\u001b[0m\u001b[0;34m.\u001b[0m\u001b[0mschema\u001b[0m\u001b[0;34m)\u001b[0m\u001b[0;34m\u001b[0m\u001b[0m\n",
      "\u001b[0;31mValueError\u001b[0m: Table 'pokemon' already exists."
     ]
    }
   ],
   "source": [
    "# Create pokemon table in pokemon database (only run this once!)\n",
    "engine = create_engine('sqlite:///pokemon.db')\n",
    "conn = engine.connect()\n",
    "df.to_sql('pokemon', conn)"
   ]
  },
  {
   "cell_type": "code",
   "execution_count": 52,
   "metadata": {
    "collapsed": false
   },
   "outputs": [
    {
     "name": "stdout",
     "output_type": "stream",
     "text": [
      "The sql extension is already loaded. To reload it, use:\n",
      "  %reload_ext sql\n"
     ]
    }
   ],
   "source": [
    "%load_ext sql"
   ]
  },
  {
   "cell_type": "code",
   "execution_count": 53,
   "metadata": {
    "collapsed": false
   },
   "outputs": [
    {
     "data": {
      "text/plain": [
       "'Connected: None@None'"
      ]
     },
     "execution_count": 53,
     "metadata": {},
     "output_type": "execute_result"
    }
   ],
   "source": [
    "%sql sqlite://"
   ]
  },
  {
   "cell_type": "code",
   "execution_count": 60,
   "metadata": {
    "collapsed": false
   },
   "outputs": [
    {
     "data": {
      "text/plain": [
       "'Connected: None@pokemon.db'"
      ]
     },
     "execution_count": 60,
     "metadata": {},
     "output_type": "execute_result"
    }
   ],
   "source": [
    "%sql sqlite:///pokemon.db"
   ]
  },
  {
   "cell_type": "code",
   "execution_count": 92,
   "metadata": {
    "collapsed": false
   },
   "outputs": [
    {
     "name": "stdout",
     "output_type": "stream",
     "text": [
      "Done.\n"
     ]
    },
    {
     "data": {
      "text/html": [
       "<table>\n",
       "    <tr>\n",
       "        <th>index</th>\n",
       "        <th>#</th>\n",
       "        <th>name</th>\n",
       "        <th>type1</th>\n",
       "        <th>type2</th>\n",
       "        <th>total</th>\n",
       "        <th>hp</th>\n",
       "        <th>attack</th>\n",
       "        <th>defense</th>\n",
       "        <th>spatk</th>\n",
       "        <th>spdef</th>\n",
       "        <th>speed</th>\n",
       "        <th>generation</th>\n",
       "        <th>legendary</th>\n",
       "    </tr>\n",
       "    <tr>\n",
       "        <td>0</td>\n",
       "        <td>1</td>\n",
       "        <td>Bulbasaur</td>\n",
       "        <td>Grass</td>\n",
       "        <td>Poison</td>\n",
       "        <td>318</td>\n",
       "        <td>45</td>\n",
       "        <td>49</td>\n",
       "        <td>49</td>\n",
       "        <td>65</td>\n",
       "        <td>65</td>\n",
       "        <td>45</td>\n",
       "        <td>1</td>\n",
       "        <td>0</td>\n",
       "    </tr>\n",
       "    <tr>\n",
       "        <td>1</td>\n",
       "        <td>2</td>\n",
       "        <td>Ivysaur</td>\n",
       "        <td>Grass</td>\n",
       "        <td>Poison</td>\n",
       "        <td>405</td>\n",
       "        <td>60</td>\n",
       "        <td>62</td>\n",
       "        <td>63</td>\n",
       "        <td>80</td>\n",
       "        <td>80</td>\n",
       "        <td>60</td>\n",
       "        <td>1</td>\n",
       "        <td>0</td>\n",
       "    </tr>\n",
       "    <tr>\n",
       "        <td>2</td>\n",
       "        <td>3</td>\n",
       "        <td>Venusaur</td>\n",
       "        <td>Grass</td>\n",
       "        <td>Poison</td>\n",
       "        <td>525</td>\n",
       "        <td>80</td>\n",
       "        <td>82</td>\n",
       "        <td>83</td>\n",
       "        <td>100</td>\n",
       "        <td>100</td>\n",
       "        <td>80</td>\n",
       "        <td>1</td>\n",
       "        <td>0</td>\n",
       "    </tr>\n",
       "</table>"
      ],
      "text/plain": [
       "[(0, 1, 'Bulbasaur', 'Grass', 'Poison', 318, 45, 49, 49, 65, 65, 45, 1, 0),\n",
       " (1, 2, 'Ivysaur', 'Grass', 'Poison', 405, 60, 62, 63, 80, 80, 60, 1, 0),\n",
       " (2, 3, 'Venusaur', 'Grass', 'Poison', 525, 80, 82, 83, 100, 100, 80, 1, 0)]"
      ]
     },
     "execution_count": 92,
     "metadata": {},
     "output_type": "execute_result"
    }
   ],
   "source": [
    "%%sql\n",
    "SELECT * FROM pokemon LIMIT 3;"
   ]
  },
  {
   "cell_type": "markdown",
   "metadata": {
    "collapsed": true
   },
   "source": [
    "# SQL:\n",
    "Which Pokemon seems the most useful (largest Total value)?"
   ]
  },
  {
   "cell_type": "code",
   "execution_count": 75,
   "metadata": {
    "collapsed": false
   },
   "outputs": [
    {
     "name": "stdout",
     "output_type": "stream",
     "text": [
      "Done.\n"
     ]
    },
    {
     "data": {
      "text/html": [
       "<table>\n",
       "    <tr>\n",
       "        <th>max(total)</th>\n",
       "        <th>name</th>\n",
       "        <th>hp</th>\n",
       "        <th>attack</th>\n",
       "        <th>defense</th>\n",
       "    </tr>\n",
       "    <tr>\n",
       "        <td>780</td>\n",
       "        <td>MewtwoMega Mewtwo X</td>\n",
       "        <td>106</td>\n",
       "        <td>190</td>\n",
       "        <td>100</td>\n",
       "    </tr>\n",
       "</table>"
      ],
      "text/plain": [
       "[(780, 'MewtwoMega Mewtwo X', 106, 190, 100)]"
      ]
     },
     "execution_count": 75,
     "metadata": {},
     "output_type": "execute_result"
    }
   ],
   "source": [
    "%%sql\n",
    "SELECT max(total),name, hp, attack, defense FROM pokemon;"
   ]
  },
  {
   "cell_type": "markdown",
   "metadata": {
    "collapsed": true
   },
   "source": [
    "MewtwoMega Mewtwo X seems to be the most powerful Pokemon based upon having the largest total value."
   ]
  },
  {
   "cell_type": "markdown",
   "metadata": {
    "collapsed": true
   },
   "source": [
    "# SQL: \n",
    "What is the mean attack, defense, hp, and total for each type of pokemon?"
   ]
  },
  {
   "cell_type": "code",
   "execution_count": 83,
   "metadata": {
    "collapsed": false
   },
   "outputs": [
    {
     "name": "stdout",
     "output_type": "stream",
     "text": [
      "Done.\n"
     ]
    },
    {
     "data": {
      "text/html": [
       "<table>\n",
       "    <tr>\n",
       "        <th>average_attack</th>\n",
       "        <th>average_defense</th>\n",
       "        <th>average_hp</th>\n",
       "        <th>average_total</th>\n",
       "        <th>type1</th>\n",
       "    </tr>\n",
       "    <tr>\n",
       "        <td>112.125</td>\n",
       "        <td>86.375</td>\n",
       "        <td>83.3125</td>\n",
       "        <td>550.53125</td>\n",
       "        <td>Dragon</td>\n",
       "    </tr>\n",
       "    <tr>\n",
       "        <td>92.70370370370371</td>\n",
       "        <td>126.37037037037037</td>\n",
       "        <td>65.22222222222223</td>\n",
       "        <td>487.7037037037037</td>\n",
       "        <td>Steel</td>\n",
       "    </tr>\n",
       "    <tr>\n",
       "        <td>78.75</td>\n",
       "        <td>66.25</td>\n",
       "        <td>70.75</td>\n",
       "        <td>485.0</td>\n",
       "        <td>Flying</td>\n",
       "    </tr>\n",
       "    <tr>\n",
       "        <td>71.45614035087719</td>\n",
       "        <td>67.6842105263158</td>\n",
       "        <td>70.63157894736842</td>\n",
       "        <td>475.94736842105266</td>\n",
       "        <td>Psychic</td>\n",
       "    </tr>\n",
       "    <tr>\n",
       "        <td>84.76923076923077</td>\n",
       "        <td>67.76923076923077</td>\n",
       "        <td>69.90384615384616</td>\n",
       "        <td>458.0769230769231</td>\n",
       "        <td>Fire</td>\n",
       "    </tr>\n",
       "    <tr>\n",
       "        <td>92.86363636363636</td>\n",
       "        <td>100.79545454545455</td>\n",
       "        <td>65.36363636363636</td>\n",
       "        <td>453.75</td>\n",
       "        <td>Rock</td>\n",
       "    </tr>\n",
       "    <tr>\n",
       "        <td>88.38709677419355</td>\n",
       "        <td>70.2258064516129</td>\n",
       "        <td>66.80645161290323</td>\n",
       "        <td>445.741935483871</td>\n",
       "        <td>Dark</td>\n",
       "    </tr>\n",
       "    <tr>\n",
       "        <td>69.0909090909091</td>\n",
       "        <td>66.29545454545455</td>\n",
       "        <td>59.79545454545455</td>\n",
       "        <td>443.40909090909093</td>\n",
       "        <td>Electric</td>\n",
       "    </tr>\n",
       "    <tr>\n",
       "        <td>73.78125</td>\n",
       "        <td>81.1875</td>\n",
       "        <td>64.4375</td>\n",
       "        <td>439.5625</td>\n",
       "        <td>Ghost</td>\n",
       "    </tr>\n",
       "    <tr>\n",
       "        <td>95.75</td>\n",
       "        <td>84.84375</td>\n",
       "        <td>73.78125</td>\n",
       "        <td>437.5</td>\n",
       "        <td>Ground</td>\n",
       "    </tr>\n",
       "    <tr>\n",
       "        <td>72.75</td>\n",
       "        <td>71.41666666666667</td>\n",
       "        <td>72.0</td>\n",
       "        <td>433.4583333333333</td>\n",
       "        <td>Ice</td>\n",
       "    </tr>\n",
       "    <tr>\n",
       "        <td>74.15178571428571</td>\n",
       "        <td>72.94642857142857</td>\n",
       "        <td>72.0625</td>\n",
       "        <td>430.45535714285717</td>\n",
       "        <td>Water</td>\n",
       "    </tr>\n",
       "    <tr>\n",
       "        <td>73.21428571428571</td>\n",
       "        <td>70.8</td>\n",
       "        <td>67.27142857142857</td>\n",
       "        <td>421.14285714285717</td>\n",
       "        <td>Grass</td>\n",
       "    </tr>\n",
       "    <tr>\n",
       "        <td>96.77777777777777</td>\n",
       "        <td>65.92592592592592</td>\n",
       "        <td>69.85185185185185</td>\n",
       "        <td>416.44444444444446</td>\n",
       "        <td>Fighting</td>\n",
       "    </tr>\n",
       "    <tr>\n",
       "        <td>61.529411764705884</td>\n",
       "        <td>65.70588235294117</td>\n",
       "        <td>74.11764705882354</td>\n",
       "        <td>413.1764705882353</td>\n",
       "        <td>Fairy</td>\n",
       "    </tr>\n",
       "    <tr>\n",
       "        <td>73.46938775510205</td>\n",
       "        <td>59.8469387755102</td>\n",
       "        <td>77.27551020408163</td>\n",
       "        <td>401.68367346938777</td>\n",
       "        <td>Normal</td>\n",
       "    </tr>\n",
       "    <tr>\n",
       "        <td>74.67857142857143</td>\n",
       "        <td>68.82142857142857</td>\n",
       "        <td>67.25</td>\n",
       "        <td>399.14285714285717</td>\n",
       "        <td>Poison</td>\n",
       "    </tr>\n",
       "    <tr>\n",
       "        <td>70.97101449275362</td>\n",
       "        <td>70.72463768115942</td>\n",
       "        <td>56.88405797101449</td>\n",
       "        <td>378.92753623188406</td>\n",
       "        <td>Bug</td>\n",
       "    </tr>\n",
       "</table>"
      ],
      "text/plain": [
       "[(112.125, 86.375, 83.3125, 550.53125, 'Dragon'),\n",
       " (92.70370370370371, 126.37037037037037, 65.22222222222223, 487.7037037037037, 'Steel'),\n",
       " (78.75, 66.25, 70.75, 485.0, 'Flying'),\n",
       " (71.45614035087719, 67.6842105263158, 70.63157894736842, 475.94736842105266, 'Psychic'),\n",
       " (84.76923076923077, 67.76923076923077, 69.90384615384616, 458.0769230769231, 'Fire'),\n",
       " (92.86363636363636, 100.79545454545455, 65.36363636363636, 453.75, 'Rock'),\n",
       " (88.38709677419355, 70.2258064516129, 66.80645161290323, 445.741935483871, 'Dark'),\n",
       " (69.0909090909091, 66.29545454545455, 59.79545454545455, 443.40909090909093, 'Electric'),\n",
       " (73.78125, 81.1875, 64.4375, 439.5625, 'Ghost'),\n",
       " (95.75, 84.84375, 73.78125, 437.5, 'Ground'),\n",
       " (72.75, 71.41666666666667, 72.0, 433.4583333333333, 'Ice'),\n",
       " (74.15178571428571, 72.94642857142857, 72.0625, 430.45535714285717, 'Water'),\n",
       " (73.21428571428571, 70.8, 67.27142857142857, 421.14285714285717, 'Grass'),\n",
       " (96.77777777777777, 65.92592592592592, 69.85185185185185, 416.44444444444446, 'Fighting'),\n",
       " (61.529411764705884, 65.70588235294117, 74.11764705882354, 413.1764705882353, 'Fairy'),\n",
       " (73.46938775510205, 59.8469387755102, 77.27551020408163, 401.68367346938777, 'Normal'),\n",
       " (74.67857142857143, 68.82142857142857, 67.25, 399.14285714285717, 'Poison'),\n",
       " (70.97101449275362, 70.72463768115942, 56.88405797101449, 378.92753623188406, 'Bug')]"
      ]
     },
     "execution_count": 83,
     "metadata": {},
     "output_type": "execute_result"
    }
   ],
   "source": [
    "%%sql\n",
    "SELECT AVG(attack) as average_attack, AVG(defense) as average_defense, AVG(hp) as average_hp, \n",
    "AVG(total) as average_total, type1\n",
    "FROM pokemon\n",
    "GROUP BY type1\n",
    "ORDER BY average_total DESC;"
   ]
  },
  {
   "cell_type": "markdown",
   "metadata": {
    "collapsed": true
   },
   "source": [
    "# Calculate the percent of distinct Pokemon that are Legendary (distinct means unique Pokemon #)."
   ]
  },
  {
   "cell_type": "code",
   "execution_count": 85,
   "metadata": {
    "collapsed": true
   },
   "outputs": [],
   "source": [
    "import pandas as pd\n",
    "from pandas import DataFrame as df\n"
   ]
  },
  {
   "cell_type": "code",
   "execution_count": 87,
   "metadata": {
    "collapsed": false
   },
   "outputs": [],
   "source": [
    "pokemon_df = pd.read_sql('pokemon',conn)"
   ]
  },
  {
   "cell_type": "code",
   "execution_count": 88,
   "metadata": {
    "collapsed": false
   },
   "outputs": [
    {
     "name": "stdout",
     "output_type": "stream",
     "text": [
      "<class 'pandas.core.frame.DataFrame'>\n"
     ]
    }
   ],
   "source": [
    "print(type(pokemon_df))"
   ]
  },
  {
   "cell_type": "code",
   "execution_count": 102,
   "metadata": {
    "collapsed": false
   },
   "outputs": [
    {
     "data": {
      "text/plain": [
       "Index(['index', '#', 'name', 'type1', 'type2', 'total', 'hp', 'attack',\n",
       "       'defense', 'spatk', 'spdef', 'speed', 'generation', 'legendary'],\n",
       "      dtype='object')"
      ]
     },
     "execution_count": 102,
     "metadata": {},
     "output_type": "execute_result"
    }
   ],
   "source": [
    "pokemon_df.dtypes.index"
   ]
  },
  {
   "cell_type": "code",
   "execution_count": 227,
   "metadata": {
    "collapsed": false
   },
   "outputs": [
    {
     "data": {
      "text/html": [
       "<div>\n",
       "<table border=\"1\" class=\"dataframe\">\n",
       "  <thead>\n",
       "    <tr style=\"text-align: right;\">\n",
       "      <th></th>\n",
       "      <th>index</th>\n",
       "      <th>name</th>\n",
       "      <th>type1</th>\n",
       "      <th>type2</th>\n",
       "      <th>total</th>\n",
       "      <th>hp</th>\n",
       "      <th>attack</th>\n",
       "      <th>defense</th>\n",
       "      <th>spatk</th>\n",
       "      <th>spdef</th>\n",
       "      <th>speed</th>\n",
       "      <th>generation</th>\n",
       "      <th>legendary</th>\n",
       "      <th>pokemon_number</th>\n",
       "    </tr>\n",
       "  </thead>\n",
       "  <tbody>\n",
       "    <tr>\n",
       "      <th>0</th>\n",
       "      <td>0</td>\n",
       "      <td>Bulbasaur</td>\n",
       "      <td>Grass</td>\n",
       "      <td>Poison</td>\n",
       "      <td>318</td>\n",
       "      <td>45</td>\n",
       "      <td>49</td>\n",
       "      <td>49</td>\n",
       "      <td>65</td>\n",
       "      <td>65</td>\n",
       "      <td>45</td>\n",
       "      <td>1</td>\n",
       "      <td>0</td>\n",
       "      <td>1</td>\n",
       "    </tr>\n",
       "    <tr>\n",
       "      <th>1</th>\n",
       "      <td>1</td>\n",
       "      <td>Ivysaur</td>\n",
       "      <td>Grass</td>\n",
       "      <td>Poison</td>\n",
       "      <td>405</td>\n",
       "      <td>60</td>\n",
       "      <td>62</td>\n",
       "      <td>63</td>\n",
       "      <td>80</td>\n",
       "      <td>80</td>\n",
       "      <td>60</td>\n",
       "      <td>1</td>\n",
       "      <td>0</td>\n",
       "      <td>2</td>\n",
       "    </tr>\n",
       "    <tr>\n",
       "      <th>2</th>\n",
       "      <td>2</td>\n",
       "      <td>Venusaur</td>\n",
       "      <td>Grass</td>\n",
       "      <td>Poison</td>\n",
       "      <td>525</td>\n",
       "      <td>80</td>\n",
       "      <td>82</td>\n",
       "      <td>83</td>\n",
       "      <td>100</td>\n",
       "      <td>100</td>\n",
       "      <td>80</td>\n",
       "      <td>1</td>\n",
       "      <td>0</td>\n",
       "      <td>3</td>\n",
       "    </tr>\n",
       "    <tr>\n",
       "      <th>3</th>\n",
       "      <td>3</td>\n",
       "      <td>VenusaurMega Venusaur</td>\n",
       "      <td>Grass</td>\n",
       "      <td>Poison</td>\n",
       "      <td>625</td>\n",
       "      <td>80</td>\n",
       "      <td>100</td>\n",
       "      <td>123</td>\n",
       "      <td>122</td>\n",
       "      <td>120</td>\n",
       "      <td>80</td>\n",
       "      <td>1</td>\n",
       "      <td>0</td>\n",
       "      <td>3</td>\n",
       "    </tr>\n",
       "    <tr>\n",
       "      <th>4</th>\n",
       "      <td>4</td>\n",
       "      <td>Charmander</td>\n",
       "      <td>Fire</td>\n",
       "      <td>None</td>\n",
       "      <td>309</td>\n",
       "      <td>39</td>\n",
       "      <td>52</td>\n",
       "      <td>43</td>\n",
       "      <td>60</td>\n",
       "      <td>50</td>\n",
       "      <td>65</td>\n",
       "      <td>1</td>\n",
       "      <td>0</td>\n",
       "      <td>4</td>\n",
       "    </tr>\n",
       "  </tbody>\n",
       "</table>\n",
       "</div>"
      ],
      "text/plain": [
       "   index                   name  type1   type2  total  hp  attack  defense  \\\n",
       "0      0              Bulbasaur  Grass  Poison    318  45      49       49   \n",
       "1      1                Ivysaur  Grass  Poison    405  60      62       63   \n",
       "2      2               Venusaur  Grass  Poison    525  80      82       83   \n",
       "3      3  VenusaurMega Venusaur  Grass  Poison    625  80     100      123   \n",
       "4      4             Charmander   Fire    None    309  39      52       43   \n",
       "\n",
       "   spatk  spdef  speed  generation  legendary  pokemon_number  \n",
       "0     65     65     45           1          0               1  \n",
       "1     80     80     60           1          0               2  \n",
       "2    100    100     80           1          0               3  \n",
       "3    122    120     80           1          0               3  \n",
       "4     60     50     65           1          0               4  "
      ]
     },
     "execution_count": 227,
     "metadata": {},
     "output_type": "execute_result"
    }
   ],
   "source": [
    "pokemon_df.head()"
   ]
  },
  {
   "cell_type": "code",
   "execution_count": 110,
   "metadata": {
    "collapsed": false
   },
   "outputs": [],
   "source": [
    "pokemon_df['pokemon_number'] = pokemon_df['#']  "
   ]
  },
  {
   "cell_type": "code",
   "execution_count": 240,
   "metadata": {
    "collapsed": false
   },
   "outputs": [],
   "source": [
    "#Number of unique Pokemon that are legendary\n",
    "unique_and_legendary =  pokemon_df.drop_duplicates(['pokemon_number'])\n",
    "unique_and_legendary = unique_and_legendary[unique_and_legendary.legendary==1]\n",
    "unique_lengendary = unique_and_legendary.legendary.sum()"
   ]
  },
  {
   "cell_type": "code",
   "execution_count": 241,
   "metadata": {
    "collapsed": false
   },
   "outputs": [
    {
     "data": {
      "text/plain": [
       "0.063800277392510402"
      ]
     },
     "execution_count": 241,
     "metadata": {},
     "output_type": "execute_result"
    }
   ],
   "source": [
    "unique_lengendary/max(pokemon_df.pokemon_number)"
   ]
  },
  {
   "cell_type": "markdown",
   "metadata": {},
   "source": [
    "About 6.4% of unique pokemon are legendary. "
   ]
  },
  {
   "cell_type": "markdown",
   "metadata": {},
   "source": [
    "# Make at least one barplot of a categorical variable"
   ]
  },
  {
   "cell_type": "code",
   "execution_count": 147,
   "metadata": {
    "collapsed": false
   },
   "outputs": [],
   "source": [
    "import seaborn as sns\n",
    "#from seaborn import barplot\n",
    "\n",
    "#barplot('brand', 'price', data=laptops);"
   ]
  },
  {
   "cell_type": "code",
   "execution_count": 253,
   "metadata": {
    "collapsed": false
   },
   "outputs": [
    {
     "data": {
      "text/plain": [
       "<matplotlib.axes._subplots.AxesSubplot at 0x11c1830b8>"
      ]
     },
     "execution_count": 253,
     "metadata": {},
     "output_type": "execute_result"
    },
    {
     "data": {
      "image/png": "[encoded data removed]",
      "text/plain": [
       "<matplotlib.figure.Figure at 0x11c18cfd0>"
      ]
     },
     "metadata": {},
     "output_type": "display_data"
    }
   ],
   "source": [
    "plt.figure(figsize=([20,6]))\n",
    "sns.barplot(x=pokemon_df.type1, y= pokemon_df.attack)\n"
   ]
  },
  {
   "cell_type": "code",
   "execution_count": 280,
   "metadata": {
    "collapsed": false
   },
   "outputs": [
    {
     "data": {
      "text/plain": [
       "<matplotlib.axes._subplots.AxesSubplot at 0x11ef2a518>"
      ]
     },
     "execution_count": 280,
     "metadata": {},
     "output_type": "execute_result"
    },
    {
     "data": {
      "image/png": "[encoded data removed]",
      "text/plain": [
       "<matplotlib.figure.Figure at 0x11ef2a668>"
      ]
     },
     "metadata": {},
     "output_type": "display_data"
    }
   ],
   "source": [
    "plt.figure(figsize=([20,12]))\n",
    "sns.barplot(x=pokemon_df.type1, y= pokemon_df.total)"
   ]
  },
  {
   "cell_type": "markdown",
   "metadata": {},
   "source": [
    "# Make at least one boxplot of continuous variables"
   ]
  },
  {
   "cell_type": "code",
   "execution_count": 254,
   "metadata": {
    "collapsed": false
   },
   "outputs": [
    {
     "data": {
      "text/plain": [
       "<matplotlib.axes._subplots.AxesSubplot at 0x11c568780>"
      ]
     },
     "execution_count": 254,
     "metadata": {},
     "output_type": "execute_result"
    },
    {
     "data": {
      "image/png": "[encoded data removed]",
      "text/plain": [
       "<matplotlib.figure.Figure at 0x11a0daef0>"
      ]
     },
     "metadata": {},
     "output_type": "display_data"
    }
   ],
   "source": [
    "\n",
    "sns.boxplot(x=pokemon_df.attack )"
   ]
  },
  {
   "cell_type": "code",
   "execution_count": 257,
   "metadata": {
    "collapsed": false
   },
   "outputs": [
    {
     "data": {
      "text/plain": [
       "<matplotlib.axes._subplots.AxesSubplot at 0x1158edd68>"
      ]
     },
     "execution_count": 257,
     "metadata": {},
     "output_type": "execute_result"
    },
    {
     "data": {
      "image/png": "[encoded data removed]",
      "text/plain": [
       "<matplotlib.figure.Figure at 0x11d02c0b8>"
      ]
     },
     "metadata": {},
     "output_type": "display_data"
    }
   ],
   "source": [
    "\n",
    "sns.boxplot(x=pokemon_df.hp)"
   ]
  },
  {
   "cell_type": "code",
   "execution_count": 275,
   "metadata": {
    "collapsed": false
   },
   "outputs": [
    {
     "data": {
      "text/plain": [
       "<matplotlib.axes._subplots.AxesSubplot at 0x11e29f860>"
      ]
     },
     "execution_count": 275,
     "metadata": {},
     "output_type": "execute_result"
    },
    {
     "data": {
      "image/png": "[encoded data removed]",
      "text/plain": [
       "<matplotlib.figure.Figure at 0x11e2db588>"
      ]
     },
     "metadata": {},
     "output_type": "display_data"
    }
   ],
   "source": [
    "sns.boxplot(x=pokemon_df.defense)"
   ]
  },
  {
   "cell_type": "markdown",
   "metadata": {},
   "source": [
    "# Make at least one boxplot of continuous variables grouped by a categorical variable"
   ]
  },
  {
   "cell_type": "code",
   "execution_count": 250,
   "metadata": {
    "collapsed": true
   },
   "outputs": [],
   "source": []
  },
  {
   "cell_type": "code",
   "execution_count": 255,
   "metadata": {
    "collapsed": false
   },
   "outputs": [
    {
     "data": {
      "text/plain": [
       "<matplotlib.axes._subplots.AxesSubplot at 0x11c57bbe0>"
      ]
     },
     "execution_count": 255,
     "metadata": {},
     "output_type": "execute_result"
    },
    {
     "data": {
      "image/png": "[encoded data removed]",
      "text/plain": [
       "<matplotlib.figure.Figure at 0x11c57fc88>"
      ]
     },
     "metadata": {},
     "output_type": "display_data"
    }
   ],
   "source": [
    "\n",
    "sns.boxplot(x=pokemon_df.hp , y=pokemon_df.type1)"
   ]
  },
  {
   "cell_type": "code",
   "execution_count": 259,
   "metadata": {
    "collapsed": false
   },
   "outputs": [
    {
     "data": {
      "text/plain": [
       "<matplotlib.axes._subplots.AxesSubplot at 0x11d04cc18>"
      ]
     },
     "execution_count": 259,
     "metadata": {},
     "output_type": "execute_result"
    },
    {
     "data": {
      "image/png": "[encoded data removed]",
      "text/plain": [
       "<matplotlib.figure.Figure at 0x11d16ccc0>"
      ]
     },
     "metadata": {},
     "output_type": "display_data"
    }
   ],
   "source": [
    "\n",
    "sns.boxplot(x=pokemon_df.attack , y=pokemon_df.type1)"
   ]
  },
  {
   "cell_type": "code",
   "execution_count": 260,
   "metadata": {
    "collapsed": false
   },
   "outputs": [
    {
     "data": {
      "text/plain": [
       "<matplotlib.axes._subplots.AxesSubplot at 0x11d510fd0>"
      ]
     },
     "execution_count": 260,
     "metadata": {},
     "output_type": "execute_result"
    },
    {
     "data": {
      "image/png": "[encoded data removed]",
      "text/plain": [
       "<matplotlib.figure.Figure at 0x11d51dd30>"
      ]
     },
     "metadata": {},
     "output_type": "display_data"
    }
   ],
   "source": [
    "\n",
    "sns.boxplot(x=pokemon_df.speed , y=pokemon_df.type1)"
   ]
  },
  {
   "cell_type": "markdown",
   "metadata": {},
   "source": [
    "# Calculate the mean and standard deviation of the total column for each Pokemon Type 1.\n"
   ]
  },
  {
   "cell_type": "code",
   "execution_count": 267,
   "metadata": {
    "collapsed": false
   },
   "outputs": [],
   "source": [
    "type1_grouped = pokemon_df.groupby('type1')['total'].describe()"
   ]
  },
  {
   "cell_type": "code",
   "execution_count": 268,
   "metadata": {
    "collapsed": false
   },
   "outputs": [
    {
     "data": {
      "text/plain": [
       "type1          \n",
       "Bug       count     69.000000\n",
       "          mean     378.927536\n",
       "          std      117.875223\n",
       "          min      194.000000\n",
       "          25%      269.000000\n",
       "          50%      395.000000\n",
       "          75%      475.000000\n",
       "          max      600.000000\n",
       "Dark      count     31.000000\n",
       "          mean     445.741935\n",
       "          std      109.126217\n",
       "          min      220.000000\n",
       "          25%      359.000000\n",
       "          50%      465.000000\n",
       "          75%      510.000000\n",
       "          max      680.000000\n",
       "Dragon    count     32.000000\n",
       "          mean     550.531250\n",
       "          std      146.267538\n",
       "          min      300.000000\n",
       "          25%      420.000000\n",
       "          50%      600.000000\n",
       "          75%      680.000000\n",
       "          max      780.000000\n",
       "Electric  count     44.000000\n",
       "          mean     443.409091\n",
       "          std      105.721952\n",
       "          min      205.000000\n",
       "          25%      362.250000\n",
       "          50%      477.500000\n",
       "                      ...    \n",
       "Psychic   std      139.026645\n",
       "          min      198.000000\n",
       "          25%      336.000000\n",
       "          50%      485.000000\n",
       "          75%      600.000000\n",
       "          max      780.000000\n",
       "Rock      count     44.000000\n",
       "          mean     453.750000\n",
       "          std      108.059227\n",
       "          min      280.000000\n",
       "          25%      360.250000\n",
       "          50%      467.500000\n",
       "          75%      516.500000\n",
       "          max      700.000000\n",
       "Steel     count     27.000000\n",
       "          mean     487.703704\n",
       "          std      115.420907\n",
       "          min      300.000000\n",
       "          25%      425.000000\n",
       "          50%      500.000000\n",
       "          75%      580.000000\n",
       "          max      700.000000\n",
       "Water     count    112.000000\n",
       "          mean     430.455357\n",
       "          std      113.188266\n",
       "          min      200.000000\n",
       "          25%      328.750000\n",
       "          50%      455.000000\n",
       "          75%      502.250000\n",
       "          max      770.000000\n",
       "Name: total, dtype: float64"
      ]
     },
     "execution_count": 268,
     "metadata": {},
     "output_type": "execute_result"
    }
   ],
   "source": [
    "type1_grouped"
   ]
  },
  {
   "cell_type": "markdown",
   "metadata": {},
   "source": [
    "# Calculate the mean and standard deviation of at least one other continuous variable"
   ]
  },
  {
   "cell_type": "code",
   "execution_count": 271,
   "metadata": {
    "collapsed": false
   },
   "outputs": [
    {
     "data": {
      "text/plain": [
       "count    800.000000\n",
       "mean      79.001250\n",
       "std       32.457366\n",
       "min        5.000000\n",
       "25%       55.000000\n",
       "50%       75.000000\n",
       "75%      100.000000\n",
       "max      190.000000\n",
       "Name: attack, dtype: float64"
      ]
     },
     "execution_count": 271,
     "metadata": {},
     "output_type": "execute_result"
    }
   ],
   "source": [
    "pokemon_df.attack.describe()"
   ]
  },
  {
   "cell_type": "code",
   "execution_count": 272,
   "metadata": {
    "collapsed": false
   },
   "outputs": [
    {
     "data": {
      "text/plain": [
       "count    800.000000\n",
       "mean      69.258750\n",
       "std       25.534669\n",
       "min        1.000000\n",
       "25%       50.000000\n",
       "50%       65.000000\n",
       "75%       80.000000\n",
       "max      255.000000\n",
       "Name: hp, dtype: float64"
      ]
     },
     "execution_count": 272,
     "metadata": {},
     "output_type": "execute_result"
    }
   ],
   "source": [
    "pokemon_df.hp.describe()"
   ]
  },
  {
   "cell_type": "code",
   "execution_count": 273,
   "metadata": {
    "collapsed": false
   },
   "outputs": [
    {
     "data": {
      "text/plain": [
       "count    800.000000\n",
       "mean      68.277500\n",
       "std       29.060474\n",
       "min        5.000000\n",
       "25%       45.000000\n",
       "50%       65.000000\n",
       "75%       90.000000\n",
       "max      180.000000\n",
       "Name: speed, dtype: float64"
      ]
     },
     "execution_count": 273,
     "metadata": {},
     "output_type": "execute_result"
    }
   ],
   "source": [
    "pokemon_df.speed.describe()"
   ]
  },
  {
   "cell_type": "code",
   "execution_count": null,
   "metadata": {
    "collapsed": true
   },
   "outputs": [],
   "source": []
  }
 ],
 "metadata": {
  "anaconda-cloud": {},
  "kernelspec": {
   "display_name": "Python [Root]",
   "language": "python",
   "name": "Python [Root]"
  },
  "language_info": {
   "codemirror_mode": {
    "name": "ipython",
    "version": 3
   },
   "file_extension": ".py",
   "mimetype": "text/x-python",
   "name": "python",
   "nbconvert_exporter": "python",
   "pygments_lexer": "ipython3",
   "version": "3.5.2"
  }
 },
 "nbformat": 4,
 "nbformat_minor": 1
}
