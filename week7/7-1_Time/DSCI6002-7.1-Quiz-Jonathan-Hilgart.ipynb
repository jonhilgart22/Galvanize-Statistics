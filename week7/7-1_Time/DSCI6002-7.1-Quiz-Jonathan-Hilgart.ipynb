{
 "cells": [
  {
   "cell_type": "markdown",
   "metadata": {},
   "source": [
    "# Quiz 7.1  \n",
    "\n",
    "An electric company is trying to determine the electrical energy needs for the residential customers in its service territory. By identifying certain customer and environmental characteristics, the utility hopes to build a multiple regression model for $Y$, the monthly kilowatthour usage. The independent variables under consideration are  \n",
    "\n",
    "$X_1 =$ Square feet of living space  \n",
    "\n",
    "$X_2 =$ Average monthly temperature  \n",
    "\n",
    "$X_3 =$ Age of residence  \n",
    "\n",
    "$X 4 =$ Proportion of available sunshine hours  \n",
    "\n",
    "The data file is stored in https://s3-us-west-2.amazonaws.com/dsci/6002/data/elec.csv  \n",
    "\n",
    "1) Using backward stepwise regression, build a model to describe electricity usage.  \n",
    "\n",
    "2) Test if the linear regression assumptions are met.  "
   ]
  },
  {
   "cell_type": "code",
   "execution_count": 3,
   "metadata": {
    "collapsed": false
   },
   "outputs": [],
   "source": [
    "import pandas as pd\n",
    "import statsmodels.api as smf\n",
    "electric_df = pd.read_csv('https://s3-us-west-2.amazonaws.com/dsci/6002/data/elec.csv')"
   ]
  },
  {
   "cell_type": "code",
   "execution_count": 4,
   "metadata": {
    "collapsed": false
   },
   "outputs": [
    {
     "data": {
      "text/html": [
       "<div>\n",
       "<table border=\"1\" class=\"dataframe\">\n",
       "  <thead>\n",
       "    <tr style=\"text-align: right;\">\n",
       "      <th></th>\n",
       "      <th>y</th>\n",
       "      <th>x1</th>\n",
       "      <th>x2</th>\n",
       "      <th>x3</th>\n",
       "      <th>x4</th>\n",
       "    </tr>\n",
       "  </thead>\n",
       "  <tbody>\n",
       "    <tr>\n",
       "      <th>0</th>\n",
       "      <td>1805</td>\n",
       "      <td>950</td>\n",
       "      <td>35</td>\n",
       "      <td>31</td>\n",
       "      <td>0.24</td>\n",
       "    </tr>\n",
       "    <tr>\n",
       "      <th>1</th>\n",
       "      <td>1029</td>\n",
       "      <td>1600</td>\n",
       "      <td>41</td>\n",
       "      <td>27</td>\n",
       "      <td>0.29</td>\n",
       "    </tr>\n",
       "    <tr>\n",
       "      <th>2</th>\n",
       "      <td>1020</td>\n",
       "      <td>2100</td>\n",
       "      <td>48</td>\n",
       "      <td>30</td>\n",
       "      <td>0.31</td>\n",
       "    </tr>\n",
       "    <tr>\n",
       "      <th>3</th>\n",
       "      <td>515</td>\n",
       "      <td>1055</td>\n",
       "      <td>52</td>\n",
       "      <td>29</td>\n",
       "      <td>0.39</td>\n",
       "    </tr>\n",
       "    <tr>\n",
       "      <th>4</th>\n",
       "      <td>942</td>\n",
       "      <td>1250</td>\n",
       "      <td>60</td>\n",
       "      <td>18</td>\n",
       "      <td>0.40</td>\n",
       "    </tr>\n",
       "  </tbody>\n",
       "</table>\n",
       "</div>"
      ],
      "text/plain": [
       "      y    x1  x2  x3    x4\n",
       "0  1805   950  35  31  0.24\n",
       "1  1029  1600  41  27  0.29\n",
       "2  1020  2100  48  30  0.31\n",
       "3   515  1055  52  29  0.39\n",
       "4   942  1250  60  18  0.40"
      ]
     },
     "execution_count": 4,
     "metadata": {},
     "output_type": "execute_result"
    }
   ],
   "source": [
    "electric_df.head()"
   ]
  },
  {
   "cell_type": "code",
   "execution_count": 5,
   "metadata": {
    "collapsed": false
   },
   "outputs": [
    {
     "name": "stdout",
     "output_type": "stream",
     "text": [
      "<class 'pandas.core.frame.DataFrame'>\n",
      "RangeIndex: 24 entries, 0 to 23\n",
      "Data columns (total 5 columns):\n",
      "y     24 non-null int64\n",
      "x1    24 non-null int64\n",
      "x2    24 non-null int64\n",
      "x3    24 non-null int64\n",
      "x4    24 non-null float64\n",
      "dtypes: float64(1), int64(4)\n",
      "memory usage: 1.0 KB\n"
     ]
    }
   ],
   "source": [
    "electric_df.info()"
   ]
  },
  {
   "cell_type": "code",
   "execution_count": 6,
   "metadata": {
    "collapsed": false
   },
   "outputs": [
    {
     "data": {
      "text/html": [
       "<table class=\"simpletable\">\n",
       "<caption>OLS Regression Results</caption>\n",
       "<tr>\n",
       "  <th>Dep. Variable:</th>            <td>y</td>        <th>  R-squared:         </th> <td>   0.576</td>\n",
       "</tr>\n",
       "<tr>\n",
       "  <th>Model:</th>                   <td>OLS</td>       <th>  Adj. R-squared:    </th> <td>   0.557</td>\n",
       "</tr>\n",
       "<tr>\n",
       "  <th>Method:</th>             <td>Least Squares</td>  <th>  F-statistic:       </th> <td>   29.90</td>\n",
       "</tr>\n",
       "<tr>\n",
       "  <th>Date:</th>             <td>Mon, 10 Oct 2016</td> <th>  Prob (F-statistic):</th> <td>1.71e-05</td>\n",
       "</tr>\n",
       "<tr>\n",
       "  <th>Time:</th>                 <td>13:29:06</td>     <th>  Log-Likelihood:    </th> <td> -182.34</td>\n",
       "</tr>\n",
       "<tr>\n",
       "  <th>No. Observations:</th>      <td>    24</td>      <th>  AIC:               </th> <td>   368.7</td>\n",
       "</tr>\n",
       "<tr>\n",
       "  <th>Df Residuals:</th>          <td>    22</td>      <th>  BIC:               </th> <td>   371.0</td>\n",
       "</tr>\n",
       "<tr>\n",
       "  <th>Df Model:</th>              <td>     1</td>      <th>                     </th>     <td> </td>   \n",
       "</tr>\n",
       "<tr>\n",
       "  <th>Covariance Type:</th>      <td>nonrobust</td>    <th>                     </th>     <td> </td>   \n",
       "</tr>\n",
       "</table>\n",
       "<table class=\"simpletable\">\n",
       "<tr>\n",
       "    <td></td>       <th>coef</th>     <th>std err</th>      <th>t</th>      <th>P>|t|</th> <th>[95.0% Conf. Int.]</th> \n",
       "</tr>\n",
       "<tr>\n",
       "  <th>const</th> <td>  235.4644</td> <td>  260.297</td> <td>    0.905</td> <td> 0.375</td> <td> -304.360   775.288</td>\n",
       "</tr>\n",
       "<tr>\n",
       "  <th>x1</th>    <td>    0.7061</td> <td>    0.129</td> <td>    5.468</td> <td> 0.000</td> <td>    0.438     0.974</td>\n",
       "</tr>\n",
       "</table>\n",
       "<table class=\"simpletable\">\n",
       "<tr>\n",
       "  <th>Omnibus:</th>       <td> 5.155</td> <th>  Durbin-Watson:     </th> <td>   1.238</td>\n",
       "</tr>\n",
       "<tr>\n",
       "  <th>Prob(Omnibus):</th> <td> 0.076</td> <th>  Jarque-Bera (JB):  </th> <td>   3.643</td>\n",
       "</tr>\n",
       "<tr>\n",
       "  <th>Skew:</th>          <td> 0.943</td> <th>  Prob(JB):          </th> <td>   0.162</td>\n",
       "</tr>\n",
       "<tr>\n",
       "  <th>Kurtosis:</th>      <td> 3.296</td> <th>  Cond. No.          </th> <td>5.10e+03</td>\n",
       "</tr>\n",
       "</table>"
      ],
      "text/plain": [
       "<class 'statsmodels.iolib.summary.Summary'>\n",
       "\"\"\"\n",
       "                            OLS Regression Results                            \n",
       "==============================================================================\n",
       "Dep. Variable:                      y   R-squared:                       0.576\n",
       "Model:                            OLS   Adj. R-squared:                  0.557\n",
       "Method:                 Least Squares   F-statistic:                     29.90\n",
       "Date:                Mon, 10 Oct 2016   Prob (F-statistic):           1.71e-05\n",
       "Time:                        13:29:06   Log-Likelihood:                -182.34\n",
       "No. Observations:                  24   AIC:                             368.7\n",
       "Df Residuals:                      22   BIC:                             371.0\n",
       "Df Model:                           1                                         \n",
       "Covariance Type:            nonrobust                                         \n",
       "==============================================================================\n",
       "                 coef    std err          t      P>|t|      [95.0% Conf. Int.]\n",
       "------------------------------------------------------------------------------\n",
       "const        235.4644    260.297      0.905      0.375      -304.360   775.288\n",
       "x1             0.7061      0.129      5.468      0.000         0.438     0.974\n",
       "==============================================================================\n",
       "Omnibus:                        5.155   Durbin-Watson:                   1.238\n",
       "Prob(Omnibus):                  0.076   Jarque-Bera (JB):                3.643\n",
       "Skew:                           0.943   Prob(JB):                        0.162\n",
       "Kurtosis:                       3.296   Cond. No.                     5.10e+03\n",
       "==============================================================================\n",
       "\n",
       "Warnings:\n",
       "[1] Standard Errors assume that the covariance matrix of the errors is correctly specified.\n",
       "[2] The condition number is large, 5.1e+03. This might indicate that there are\n",
       "strong multicollinearity or other numerical problems.\n",
       "\"\"\""
      ]
     },
     "execution_count": 6,
     "metadata": {},
     "output_type": "execute_result"
    }
   ],
   "source": [
    "x1=electric_df['x1']\n",
    "y1 = electric_df['y']\n",
    "x1 = smf.add_constant(x1)\n",
    "\n",
    "\n",
    "model1 = smf.OLS(y1,x1)\n",
    "results1 = model1.fit()\n",
    "results1.summary()"
   ]
  },
  {
   "cell_type": "code",
   "execution_count": 8,
   "metadata": {
    "collapsed": false
   },
   "outputs": [
    {
     "data": {
      "text/html": [
       "<table class=\"simpletable\">\n",
       "<caption>OLS Regression Results</caption>\n",
       "<tr>\n",
       "  <th>Dep. Variable:</th>            <td>y</td>        <th>  R-squared:         </th> <td>   0.647</td>\n",
       "</tr>\n",
       "<tr>\n",
       "  <th>Model:</th>                   <td>OLS</td>       <th>  Adj. R-squared:    </th> <td>   0.613</td>\n",
       "</tr>\n",
       "<tr>\n",
       "  <th>Method:</th>             <td>Least Squares</td>  <th>  F-statistic:       </th> <td>   19.22</td>\n",
       "</tr>\n",
       "<tr>\n",
       "  <th>Date:</th>             <td>Mon, 10 Oct 2016</td> <th>  Prob (F-statistic):</th> <td>1.80e-05</td>\n",
       "</tr>\n",
       "<tr>\n",
       "  <th>Time:</th>                 <td>13:29:45</td>     <th>  Log-Likelihood:    </th> <td> -180.16</td>\n",
       "</tr>\n",
       "<tr>\n",
       "  <th>No. Observations:</th>      <td>    24</td>      <th>  AIC:               </th> <td>   366.3</td>\n",
       "</tr>\n",
       "<tr>\n",
       "  <th>Df Residuals:</th>          <td>    21</td>      <th>  BIC:               </th> <td>   369.9</td>\n",
       "</tr>\n",
       "<tr>\n",
       "  <th>Df Model:</th>              <td>     2</td>      <th>                     </th>     <td> </td>   \n",
       "</tr>\n",
       "<tr>\n",
       "  <th>Covariance Type:</th>      <td>nonrobust</td>    <th>                     </th>     <td> </td>   \n",
       "</tr>\n",
       "</table>\n",
       "<table class=\"simpletable\">\n",
       "<tr>\n",
       "    <td></td>       <th>coef</th>     <th>std err</th>      <th>t</th>      <th>P>|t|</th> <th>[95.0% Conf. Int.]</th> \n",
       "</tr>\n",
       "<tr>\n",
       "  <th>const</th> <td> -365.1402</td> <td>  380.939</td> <td>   -0.959</td> <td> 0.349</td> <td>-1157.347   427.066</td>\n",
       "</tr>\n",
       "<tr>\n",
       "  <th>x1</th>    <td>    0.6678</td> <td>    0.122</td> <td>    5.468</td> <td> 0.000</td> <td>    0.414     0.922</td>\n",
       "</tr>\n",
       "<tr>\n",
       "  <th>x2</th>    <td>   11.3031</td> <td>    5.518</td> <td>    2.049</td> <td> 0.053</td> <td>   -0.171    22.778</td>\n",
       "</tr>\n",
       "</table>\n",
       "<table class=\"simpletable\">\n",
       "<tr>\n",
       "  <th>Omnibus:</th>       <td> 5.107</td> <th>  Durbin-Watson:     </th> <td>   1.415</td>\n",
       "</tr>\n",
       "<tr>\n",
       "  <th>Prob(Omnibus):</th> <td> 0.078</td> <th>  Jarque-Bera (JB):  </th> <td>   3.506</td>\n",
       "</tr>\n",
       "<tr>\n",
       "  <th>Skew:</th>          <td> 0.917</td> <th>  Prob(JB):          </th> <td>   0.173</td>\n",
       "</tr>\n",
       "<tr>\n",
       "  <th>Kurtosis:</th>      <td> 3.372</td> <th>  Cond. No.          </th> <td>7.99e+03</td>\n",
       "</tr>\n",
       "</table>"
      ],
      "text/plain": [
       "<class 'statsmodels.iolib.summary.Summary'>\n",
       "\"\"\"\n",
       "                            OLS Regression Results                            \n",
       "==============================================================================\n",
       "Dep. Variable:                      y   R-squared:                       0.647\n",
       "Model:                            OLS   Adj. R-squared:                  0.613\n",
       "Method:                 Least Squares   F-statistic:                     19.22\n",
       "Date:                Mon, 10 Oct 2016   Prob (F-statistic):           1.80e-05\n",
       "Time:                        13:29:45   Log-Likelihood:                -180.16\n",
       "No. Observations:                  24   AIC:                             366.3\n",
       "Df Residuals:                      21   BIC:                             369.9\n",
       "Df Model:                           2                                         \n",
       "Covariance Type:            nonrobust                                         \n",
       "==============================================================================\n",
       "                 coef    std err          t      P>|t|      [95.0% Conf. Int.]\n",
       "------------------------------------------------------------------------------\n",
       "const       -365.1402    380.939     -0.959      0.349     -1157.347   427.066\n",
       "x1             0.6678      0.122      5.468      0.000         0.414     0.922\n",
       "x2            11.3031      5.518      2.049      0.053        -0.171    22.778\n",
       "==============================================================================\n",
       "Omnibus:                        5.107   Durbin-Watson:                   1.415\n",
       "Prob(Omnibus):                  0.078   Jarque-Bera (JB):                3.506\n",
       "Skew:                           0.917   Prob(JB):                        0.173\n",
       "Kurtosis:                       3.372   Cond. No.                     7.99e+03\n",
       "==============================================================================\n",
       "\n",
       "Warnings:\n",
       "[1] Standard Errors assume that the covariance matrix of the errors is correctly specified.\n",
       "[2] The condition number is large, 7.99e+03. This might indicate that there are\n",
       "strong multicollinearity or other numerical problems.\n",
       "\"\"\""
      ]
     },
     "execution_count": 8,
     "metadata": {},
     "output_type": "execute_result"
    }
   ],
   "source": [
    "x2=electric_df[['x1','x2']]\n",
    "y2 = electric_df['y']\n",
    "x2 = smf.add_constant(x2)\n",
    "\n",
    "\n",
    "model2 = smf.OLS(y2,x2)\n",
    "results2 = model2.fit()\n",
    "results2.summary()"
   ]
  },
  {
   "cell_type": "code",
   "execution_count": 9,
   "metadata": {
    "collapsed": false
   },
   "outputs": [
    {
     "data": {
      "text/html": [
       "<table class=\"simpletable\">\n",
       "<caption>OLS Regression Results</caption>\n",
       "<tr>\n",
       "  <th>Dep. Variable:</th>            <td>y</td>        <th>  R-squared:         </th> <td>   0.664</td>\n",
       "</tr>\n",
       "<tr>\n",
       "  <th>Model:</th>                   <td>OLS</td>       <th>  Adj. R-squared:    </th> <td>   0.614</td>\n",
       "</tr>\n",
       "<tr>\n",
       "  <th>Method:</th>             <td>Least Squares</td>  <th>  F-statistic:       </th> <td>   13.17</td>\n",
       "</tr>\n",
       "<tr>\n",
       "  <th>Date:</th>             <td>Mon, 10 Oct 2016</td> <th>  Prob (F-statistic):</th> <td>5.65e-05</td>\n",
       "</tr>\n",
       "<tr>\n",
       "  <th>Time:</th>                 <td>13:30:11</td>     <th>  Log-Likelihood:    </th> <td> -179.56</td>\n",
       "</tr>\n",
       "<tr>\n",
       "  <th>No. Observations:</th>      <td>    24</td>      <th>  AIC:               </th> <td>   367.1</td>\n",
       "</tr>\n",
       "<tr>\n",
       "  <th>Df Residuals:</th>          <td>    20</td>      <th>  BIC:               </th> <td>   371.8</td>\n",
       "</tr>\n",
       "<tr>\n",
       "  <th>Df Model:</th>              <td>     3</td>      <th>                     </th>     <td> </td>   \n",
       "</tr>\n",
       "<tr>\n",
       "  <th>Covariance Type:</th>      <td>nonrobust</td>    <th>                     </th>     <td> </td>   \n",
       "</tr>\n",
       "</table>\n",
       "<table class=\"simpletable\">\n",
       "<tr>\n",
       "    <td></td>       <th>coef</th>     <th>std err</th>      <th>t</th>      <th>P>|t|</th> <th>[95.0% Conf. Int.]</th> \n",
       "</tr>\n",
       "<tr>\n",
       "  <th>const</th> <td>  -27.2835</td> <td>  505.630</td> <td>   -0.054</td> <td> 0.958</td> <td>-1082.010  1027.443</td>\n",
       "</tr>\n",
       "<tr>\n",
       "  <th>x1</th>    <td>    0.6199</td> <td>    0.131</td> <td>    4.739</td> <td> 0.000</td> <td>    0.347     0.893</td>\n",
       "</tr>\n",
       "<tr>\n",
       "  <th>x2</th>    <td>   10.4295</td> <td>    5.580</td> <td>    1.869</td> <td> 0.076</td> <td>   -1.211    22.070</td>\n",
       "</tr>\n",
       "<tr>\n",
       "  <th>x3</th>    <td>  -11.5511</td> <td>   11.378</td> <td>   -1.015</td> <td> 0.322</td> <td>  -35.286    12.184</td>\n",
       "</tr>\n",
       "</table>\n",
       "<table class=\"simpletable\">\n",
       "<tr>\n",
       "  <th>Omnibus:</th>       <td>10.712</td> <th>  Durbin-Watson:     </th> <td>   1.498</td>\n",
       "</tr>\n",
       "<tr>\n",
       "  <th>Prob(Omnibus):</th> <td> 0.005</td> <th>  Jarque-Bera (JB):  </th> <td>   8.756</td>\n",
       "</tr>\n",
       "<tr>\n",
       "  <th>Skew:</th>          <td> 1.305</td> <th>  Prob(JB):          </th> <td>  0.0126</td>\n",
       "</tr>\n",
       "<tr>\n",
       "  <th>Kurtosis:</th>      <td> 4.393</td> <th>  Cond. No.          </th> <td>1.06e+04</td>\n",
       "</tr>\n",
       "</table>"
      ],
      "text/plain": [
       "<class 'statsmodels.iolib.summary.Summary'>\n",
       "\"\"\"\n",
       "                            OLS Regression Results                            \n",
       "==============================================================================\n",
       "Dep. Variable:                      y   R-squared:                       0.664\n",
       "Model:                            OLS   Adj. R-squared:                  0.614\n",
       "Method:                 Least Squares   F-statistic:                     13.17\n",
       "Date:                Mon, 10 Oct 2016   Prob (F-statistic):           5.65e-05\n",
       "Time:                        13:30:11   Log-Likelihood:                -179.56\n",
       "No. Observations:                  24   AIC:                             367.1\n",
       "Df Residuals:                      20   BIC:                             371.8\n",
       "Df Model:                           3                                         \n",
       "Covariance Type:            nonrobust                                         \n",
       "==============================================================================\n",
       "                 coef    std err          t      P>|t|      [95.0% Conf. Int.]\n",
       "------------------------------------------------------------------------------\n",
       "const        -27.2835    505.630     -0.054      0.958     -1082.010  1027.443\n",
       "x1             0.6199      0.131      4.739      0.000         0.347     0.893\n",
       "x2            10.4295      5.580      1.869      0.076        -1.211    22.070\n",
       "x3           -11.5511     11.378     -1.015      0.322       -35.286    12.184\n",
       "==============================================================================\n",
       "Omnibus:                       10.712   Durbin-Watson:                   1.498\n",
       "Prob(Omnibus):                  0.005   Jarque-Bera (JB):                8.756\n",
       "Skew:                           1.305   Prob(JB):                       0.0126\n",
       "Kurtosis:                       4.393   Cond. No.                     1.06e+04\n",
       "==============================================================================\n",
       "\n",
       "Warnings:\n",
       "[1] Standard Errors assume that the covariance matrix of the errors is correctly specified.\n",
       "[2] The condition number is large, 1.06e+04. This might indicate that there are\n",
       "strong multicollinearity or other numerical problems.\n",
       "\"\"\""
      ]
     },
     "execution_count": 9,
     "metadata": {},
     "output_type": "execute_result"
    }
   ],
   "source": [
    "x3=electric_df[['x1','x2','x3']]\n",
    "y3 = electric_df['y']\n",
    "x3 = smf.add_constant(x3)\n",
    "\n",
    "\n",
    "model3 = smf.OLS(y3,x3)\n",
    "results3 = model3.fit()\n",
    "results3.summary()"
   ]
  },
  {
   "cell_type": "markdown",
   "metadata": {},
   "source": [
    "# x3 is not significant, we will remove in the next model."
   ]
  },
  {
   "cell_type": "code",
   "execution_count": 10,
   "metadata": {
    "collapsed": false
   },
   "outputs": [
    {
     "data": {
      "text/html": [
       "<table class=\"simpletable\">\n",
       "<caption>OLS Regression Results</caption>\n",
       "<tr>\n",
       "  <th>Dep. Variable:</th>            <td>y</td>        <th>  R-squared:         </th> <td>   0.716</td>\n",
       "</tr>\n",
       "<tr>\n",
       "  <th>Model:</th>                   <td>OLS</td>       <th>  Adj. R-squared:    </th> <td>   0.673</td>\n",
       "</tr>\n",
       "<tr>\n",
       "  <th>Method:</th>             <td>Least Squares</td>  <th>  F-statistic:       </th> <td>   16.81</td>\n",
       "</tr>\n",
       "<tr>\n",
       "  <th>Date:</th>             <td>Mon, 10 Oct 2016</td> <th>  Prob (F-statistic):</th> <td>1.09e-05</td>\n",
       "</tr>\n",
       "<tr>\n",
       "  <th>Time:</th>                 <td>13:31:01</td>     <th>  Log-Likelihood:    </th> <td> -177.54</td>\n",
       "</tr>\n",
       "<tr>\n",
       "  <th>No. Observations:</th>      <td>    24</td>      <th>  AIC:               </th> <td>   363.1</td>\n",
       "</tr>\n",
       "<tr>\n",
       "  <th>Df Residuals:</th>          <td>    20</td>      <th>  BIC:               </th> <td>   367.8</td>\n",
       "</tr>\n",
       "<tr>\n",
       "  <th>Df Model:</th>              <td>     3</td>      <th>                     </th>     <td> </td>   \n",
       "</tr>\n",
       "<tr>\n",
       "  <th>Covariance Type:</th>      <td>nonrobust</td>    <th>                     </th>     <td> </td>   \n",
       "</tr>\n",
       "</table>\n",
       "<table class=\"simpletable\">\n",
       "<tr>\n",
       "    <td></td>       <th>coef</th>     <th>std err</th>      <th>t</th>      <th>P>|t|</th> <th>[95.0% Conf. Int.]</th> \n",
       "</tr>\n",
       "<tr>\n",
       "  <th>const</th> <td> -262.2157</td> <td>  353.066</td> <td>   -0.743</td> <td> 0.466</td> <td> -998.699   474.267</td>\n",
       "</tr>\n",
       "<tr>\n",
       "  <th>x1</th>    <td>    0.6756</td> <td>    0.112</td> <td>    6.019</td> <td> 0.000</td> <td>    0.442     0.910</td>\n",
       "</tr>\n",
       "<tr>\n",
       "  <th>x2</th>    <td>   -8.8422</td> <td>   10.434</td> <td>   -0.847</td> <td> 0.407</td> <td>  -30.606    12.922</td>\n",
       "</tr>\n",
       "<tr>\n",
       "  <th>x4</th>    <td> 2462.6239</td> <td> 1114.790</td> <td>    2.209</td> <td> 0.039</td> <td>  137.213  4788.034</td>\n",
       "</tr>\n",
       "</table>\n",
       "<table class=\"simpletable\">\n",
       "<tr>\n",
       "  <th>Omnibus:</th>       <td>12.258</td> <th>  Durbin-Watson:     </th> <td>   1.775</td>\n",
       "</tr>\n",
       "<tr>\n",
       "  <th>Prob(Omnibus):</th> <td> 0.002</td> <th>  Jarque-Bera (JB):  </th> <td>  10.661</td>\n",
       "</tr>\n",
       "<tr>\n",
       "  <th>Skew:</th>          <td> 1.418</td> <th>  Prob(JB):          </th> <td> 0.00484</td>\n",
       "</tr>\n",
       "<tr>\n",
       "  <th>Kurtosis:</th>      <td> 4.618</td> <th>  Cond. No.          </th> <td>2.55e+04</td>\n",
       "</tr>\n",
       "</table>"
      ],
      "text/plain": [
       "<class 'statsmodels.iolib.summary.Summary'>\n",
       "\"\"\"\n",
       "                            OLS Regression Results                            \n",
       "==============================================================================\n",
       "Dep. Variable:                      y   R-squared:                       0.716\n",
       "Model:                            OLS   Adj. R-squared:                  0.673\n",
       "Method:                 Least Squares   F-statistic:                     16.81\n",
       "Date:                Mon, 10 Oct 2016   Prob (F-statistic):           1.09e-05\n",
       "Time:                        13:31:01   Log-Likelihood:                -177.54\n",
       "No. Observations:                  24   AIC:                             363.1\n",
       "Df Residuals:                      20   BIC:                             367.8\n",
       "Df Model:                           3                                         \n",
       "Covariance Type:            nonrobust                                         \n",
       "==============================================================================\n",
       "                 coef    std err          t      P>|t|      [95.0% Conf. Int.]\n",
       "------------------------------------------------------------------------------\n",
       "const       -262.2157    353.066     -0.743      0.466      -998.699   474.267\n",
       "x1             0.6756      0.112      6.019      0.000         0.442     0.910\n",
       "x2            -8.8422     10.434     -0.847      0.407       -30.606    12.922\n",
       "x4          2462.6239   1114.790      2.209      0.039       137.213  4788.034\n",
       "==============================================================================\n",
       "Omnibus:                       12.258   Durbin-Watson:                   1.775\n",
       "Prob(Omnibus):                  0.002   Jarque-Bera (JB):               10.661\n",
       "Skew:                           1.418   Prob(JB):                      0.00484\n",
       "Kurtosis:                       4.618   Cond. No.                     2.55e+04\n",
       "==============================================================================\n",
       "\n",
       "Warnings:\n",
       "[1] Standard Errors assume that the covariance matrix of the errors is correctly specified.\n",
       "[2] The condition number is large, 2.55e+04. This might indicate that there are\n",
       "strong multicollinearity or other numerical problems.\n",
       "\"\"\""
      ]
     },
     "execution_count": 10,
     "metadata": {},
     "output_type": "execute_result"
    }
   ],
   "source": [
    "x4=electric_df[['x1','x2','x4']]\n",
    "y4 = electric_df['y']\n",
    "x4 = smf.add_constant(x4)\n",
    "\n",
    "\n",
    "model4 = smf.OLS(y4,x4)\n",
    "results4 = model4.fit()\n",
    "results4.summary()"
   ]
  },
  {
   "cell_type": "markdown",
   "metadata": {},
   "source": [
    "# Here , x2 is not significant and we will remove to arrive at our final model. "
   ]
  },
  {
   "cell_type": "code",
   "execution_count": 11,
   "metadata": {
    "collapsed": false
   },
   "outputs": [
    {
     "data": {
      "text/html": [
       "<table class=\"simpletable\">\n",
       "<caption>OLS Regression Results</caption>\n",
       "<tr>\n",
       "  <th>Dep. Variable:</th>            <td>y</td>        <th>  R-squared:         </th> <td>   0.706</td>\n",
       "</tr>\n",
       "<tr>\n",
       "  <th>Model:</th>                   <td>OLS</td>       <th>  Adj. R-squared:    </th> <td>   0.678</td>\n",
       "</tr>\n",
       "<tr>\n",
       "  <th>Method:</th>             <td>Least Squares</td>  <th>  F-statistic:       </th> <td>   25.19</td>\n",
       "</tr>\n",
       "<tr>\n",
       "  <th>Date:</th>             <td>Mon, 10 Oct 2016</td> <th>  Prob (F-statistic):</th> <td>2.64e-06</td>\n",
       "</tr>\n",
       "<tr>\n",
       "  <th>Time:</th>                 <td>13:32:00</td>     <th>  Log-Likelihood:    </th> <td> -177.96</td>\n",
       "</tr>\n",
       "<tr>\n",
       "  <th>No. Observations:</th>      <td>    24</td>      <th>  AIC:               </th> <td>   361.9</td>\n",
       "</tr>\n",
       "<tr>\n",
       "  <th>Df Residuals:</th>          <td>    21</td>      <th>  BIC:               </th> <td>   365.5</td>\n",
       "</tr>\n",
       "<tr>\n",
       "  <th>Df Model:</th>              <td>     2</td>      <th>                     </th>     <td> </td>   \n",
       "</tr>\n",
       "<tr>\n",
       "  <th>Covariance Type:</th>      <td>nonrobust</td>    <th>                     </th>     <td> </td>   \n",
       "</tr>\n",
       "</table>\n",
       "<table class=\"simpletable\">\n",
       "<tr>\n",
       "    <td></td>       <th>coef</th>     <th>std err</th>      <th>t</th>      <th>P>|t|</th> <th>[95.0% Conf. Int.]</th> \n",
       "</tr>\n",
       "<tr>\n",
       "  <th>const</th> <td> -407.6312</td> <td>  306.489</td> <td>   -1.330</td> <td> 0.198</td> <td>-1045.010   229.748</td>\n",
       "</tr>\n",
       "<tr>\n",
       "  <th>x1</th>    <td>    0.6659</td> <td>    0.111</td> <td>    6.005</td> <td> 0.000</td> <td>    0.435     0.897</td>\n",
       "</tr>\n",
       "<tr>\n",
       "  <th>x4</th>    <td> 1636.8710</td> <td>  537.970</td> <td>    3.043</td> <td> 0.006</td> <td>  518.102  2755.640</td>\n",
       "</tr>\n",
       "</table>\n",
       "<table class=\"simpletable\">\n",
       "<tr>\n",
       "  <th>Omnibus:</th>       <td>11.393</td> <th>  Durbin-Watson:     </th> <td>   1.653</td>\n",
       "</tr>\n",
       "<tr>\n",
       "  <th>Prob(Omnibus):</th> <td> 0.003</td> <th>  Jarque-Bera (JB):  </th> <td>   9.572</td>\n",
       "</tr>\n",
       "<tr>\n",
       "  <th>Skew:</th>          <td> 1.355</td> <th>  Prob(JB):          </th> <td> 0.00835</td>\n",
       "</tr>\n",
       "<tr>\n",
       "  <th>Kurtosis:</th>      <td> 4.493</td> <th>  Cond. No.          </th> <td>1.34e+04</td>\n",
       "</tr>\n",
       "</table>"
      ],
      "text/plain": [
       "<class 'statsmodels.iolib.summary.Summary'>\n",
       "\"\"\"\n",
       "                            OLS Regression Results                            \n",
       "==============================================================================\n",
       "Dep. Variable:                      y   R-squared:                       0.706\n",
       "Model:                            OLS   Adj. R-squared:                  0.678\n",
       "Method:                 Least Squares   F-statistic:                     25.19\n",
       "Date:                Mon, 10 Oct 2016   Prob (F-statistic):           2.64e-06\n",
       "Time:                        13:32:00   Log-Likelihood:                -177.96\n",
       "No. Observations:                  24   AIC:                             361.9\n",
       "Df Residuals:                      21   BIC:                             365.5\n",
       "Df Model:                           2                                         \n",
       "Covariance Type:            nonrobust                                         \n",
       "==============================================================================\n",
       "                 coef    std err          t      P>|t|      [95.0% Conf. Int.]\n",
       "------------------------------------------------------------------------------\n",
       "const       -407.6312    306.489     -1.330      0.198     -1045.010   229.748\n",
       "x1             0.6659      0.111      6.005      0.000         0.435     0.897\n",
       "x4          1636.8710    537.970      3.043      0.006       518.102  2755.640\n",
       "==============================================================================\n",
       "Omnibus:                       11.393   Durbin-Watson:                   1.653\n",
       "Prob(Omnibus):                  0.003   Jarque-Bera (JB):                9.572\n",
       "Skew:                           1.355   Prob(JB):                      0.00835\n",
       "Kurtosis:                       4.493   Cond. No.                     1.34e+04\n",
       "==============================================================================\n",
       "\n",
       "Warnings:\n",
       "[1] Standard Errors assume that the covariance matrix of the errors is correctly specified.\n",
       "[2] The condition number is large, 1.34e+04. This might indicate that there are\n",
       "strong multicollinearity or other numerical problems.\n",
       "\"\"\""
      ]
     },
     "execution_count": 11,
     "metadata": {},
     "output_type": "execute_result"
    }
   ],
   "source": [
    "x5=electric_df[['x1','x4']]\n",
    "y5 = electric_df['y']\n",
    "x5 = smf.add_constant(x5)\n",
    "\n",
    "\n",
    "model5 = smf.OLS(y5,x5)\n",
    "results5 = model5.fit()\n",
    "results5.summary()"
   ]
  },
  {
   "cell_type": "markdown",
   "metadata": {},
   "source": [
    "# This is forward step regression, to do backward we start with all variables and then remove them with the highest p-values that are not significant."
   ]
  },
  {
   "cell_type": "code",
   "execution_count": 12,
   "metadata": {
    "collapsed": false
   },
   "outputs": [
    {
     "data": {
      "text/html": [
       "<table class=\"simpletable\">\n",
       "<caption>OLS Regression Results</caption>\n",
       "<tr>\n",
       "  <th>Dep. Variable:</th>            <td>y</td>        <th>  R-squared:         </th> <td>   0.717</td>\n",
       "</tr>\n",
       "<tr>\n",
       "  <th>Model:</th>                   <td>OLS</td>       <th>  Adj. R-squared:    </th> <td>   0.657</td>\n",
       "</tr>\n",
       "<tr>\n",
       "  <th>Method:</th>             <td>Least Squares</td>  <th>  F-statistic:       </th> <td>   12.04</td>\n",
       "</tr>\n",
       "<tr>\n",
       "  <th>Date:</th>             <td>Mon, 10 Oct 2016</td> <th>  Prob (F-statistic):</th> <td>4.83e-05</td>\n",
       "</tr>\n",
       "<tr>\n",
       "  <th>Time:</th>                 <td>13:33:01</td>     <th>  Log-Likelihood:    </th> <td> -177.49</td>\n",
       "</tr>\n",
       "<tr>\n",
       "  <th>No. Observations:</th>      <td>    24</td>      <th>  AIC:               </th> <td>   365.0</td>\n",
       "</tr>\n",
       "<tr>\n",
       "  <th>Df Residuals:</th>          <td>    19</td>      <th>  BIC:               </th> <td>   370.9</td>\n",
       "</tr>\n",
       "<tr>\n",
       "  <th>Df Model:</th>              <td>     4</td>      <th>                     </th>     <td> </td>   \n",
       "</tr>\n",
       "<tr>\n",
       "  <th>Covariance Type:</th>      <td>nonrobust</td>    <th>                     </th>     <td> </td>   \n",
       "</tr>\n",
       "</table>\n",
       "<table class=\"simpletable\">\n",
       "<tr>\n",
       "    <td></td>       <th>coef</th>     <th>std err</th>      <th>t</th>      <th>P>|t|</th> <th>[95.0% Conf. Int.]</th> \n",
       "</tr>\n",
       "<tr>\n",
       "  <th>const</th> <td> -177.3477</td> <td>  482.664</td> <td>   -0.367</td> <td> 0.717</td> <td>-1187.575   832.880</td>\n",
       "</tr>\n",
       "<tr>\n",
       "  <th>x1</th>    <td>    0.6625</td> <td>    0.125</td> <td>    5.291</td> <td> 0.000</td> <td>    0.400     0.925</td>\n",
       "</tr>\n",
       "<tr>\n",
       "  <th>x2</th>    <td>   -8.0370</td> <td>   11.107</td> <td>   -0.724</td> <td> 0.478</td> <td>  -31.285    15.211</td>\n",
       "</tr>\n",
       "<tr>\n",
       "  <th>x3</th>    <td>   -3.0830</td> <td>   11.615</td> <td>   -0.265</td> <td> 0.794</td> <td>  -27.394    21.228</td>\n",
       "</tr>\n",
       "<tr>\n",
       "  <th>x4</th>    <td> 2335.6939</td> <td> 1237.745</td> <td>    1.887</td> <td> 0.075</td> <td> -254.937  4926.325</td>\n",
       "</tr>\n",
       "</table>\n",
       "<table class=\"simpletable\">\n",
       "<tr>\n",
       "  <th>Omnibus:</th>       <td>13.481</td> <th>  Durbin-Watson:     </th> <td>   1.780</td>\n",
       "</tr>\n",
       "<tr>\n",
       "  <th>Prob(Omnibus):</th> <td> 0.001</td> <th>  Jarque-Bera (JB):  </th> <td>  12.357</td>\n",
       "</tr>\n",
       "<tr>\n",
       "  <th>Skew:</th>          <td> 1.482</td> <th>  Prob(JB):          </th> <td> 0.00207</td>\n",
       "</tr>\n",
       "<tr>\n",
       "  <th>Kurtosis:</th>      <td> 4.890</td> <th>  Cond. No.          </th> <td>2.77e+04</td>\n",
       "</tr>\n",
       "</table>"
      ],
      "text/plain": [
       "<class 'statsmodels.iolib.summary.Summary'>\n",
       "\"\"\"\n",
       "                            OLS Regression Results                            \n",
       "==============================================================================\n",
       "Dep. Variable:                      y   R-squared:                       0.717\n",
       "Model:                            OLS   Adj. R-squared:                  0.657\n",
       "Method:                 Least Squares   F-statistic:                     12.04\n",
       "Date:                Mon, 10 Oct 2016   Prob (F-statistic):           4.83e-05\n",
       "Time:                        13:33:01   Log-Likelihood:                -177.49\n",
       "No. Observations:                  24   AIC:                             365.0\n",
       "Df Residuals:                      19   BIC:                             370.9\n",
       "Df Model:                           4                                         \n",
       "Covariance Type:            nonrobust                                         \n",
       "==============================================================================\n",
       "                 coef    std err          t      P>|t|      [95.0% Conf. Int.]\n",
       "------------------------------------------------------------------------------\n",
       "const       -177.3477    482.664     -0.367      0.717     -1187.575   832.880\n",
       "x1             0.6625      0.125      5.291      0.000         0.400     0.925\n",
       "x2            -8.0370     11.107     -0.724      0.478       -31.285    15.211\n",
       "x3            -3.0830     11.615     -0.265      0.794       -27.394    21.228\n",
       "x4          2335.6939   1237.745      1.887      0.075      -254.937  4926.325\n",
       "==============================================================================\n",
       "Omnibus:                       13.481   Durbin-Watson:                   1.780\n",
       "Prob(Omnibus):                  0.001   Jarque-Bera (JB):               12.357\n",
       "Skew:                           1.482   Prob(JB):                      0.00207\n",
       "Kurtosis:                       4.890   Cond. No.                     2.77e+04\n",
       "==============================================================================\n",
       "\n",
       "Warnings:\n",
       "[1] Standard Errors assume that the covariance matrix of the errors is correctly specified.\n",
       "[2] The condition number is large, 2.77e+04. This might indicate that there are\n",
       "strong multicollinearity or other numerical problems.\n",
       "\"\"\""
      ]
     },
     "execution_count": 12,
     "metadata": {},
     "output_type": "execute_result"
    }
   ],
   "source": [
    "x6=electric_df[['x1','x2','x3','x4']]\n",
    "y6 = electric_df['y']\n",
    "x6 = smf.add_constant(x6)\n",
    "\n",
    "\n",
    "model6 = smf.OLS(y6,x6)\n",
    "results6 = model6.fit()\n",
    "results6.summary()"
   ]
  },
  {
   "cell_type": "markdown",
   "metadata": {},
   "source": [
    "# Here, we will remove x2 and x3 to arrive at the same model as before with only x1 and x4."
   ]
  },
  {
   "cell_type": "code",
   "execution_count": 13,
   "metadata": {
    "collapsed": false
   },
   "outputs": [
    {
     "data": {
      "text/html": [
       "<table class=\"simpletable\">\n",
       "<caption>OLS Regression Results</caption>\n",
       "<tr>\n",
       "  <th>Dep. Variable:</th>            <td>y</td>        <th>  R-squared:         </th> <td>   0.706</td>\n",
       "</tr>\n",
       "<tr>\n",
       "  <th>Model:</th>                   <td>OLS</td>       <th>  Adj. R-squared:    </th> <td>   0.678</td>\n",
       "</tr>\n",
       "<tr>\n",
       "  <th>Method:</th>             <td>Least Squares</td>  <th>  F-statistic:       </th> <td>   25.19</td>\n",
       "</tr>\n",
       "<tr>\n",
       "  <th>Date:</th>             <td>Mon, 10 Oct 2016</td> <th>  Prob (F-statistic):</th> <td>2.64e-06</td>\n",
       "</tr>\n",
       "<tr>\n",
       "  <th>Time:</th>                 <td>13:33:49</td>     <th>  Log-Likelihood:    </th> <td> -177.96</td>\n",
       "</tr>\n",
       "<tr>\n",
       "  <th>No. Observations:</th>      <td>    24</td>      <th>  AIC:               </th> <td>   361.9</td>\n",
       "</tr>\n",
       "<tr>\n",
       "  <th>Df Residuals:</th>          <td>    21</td>      <th>  BIC:               </th> <td>   365.5</td>\n",
       "</tr>\n",
       "<tr>\n",
       "  <th>Df Model:</th>              <td>     2</td>      <th>                     </th>     <td> </td>   \n",
       "</tr>\n",
       "<tr>\n",
       "  <th>Covariance Type:</th>      <td>nonrobust</td>    <th>                     </th>     <td> </td>   \n",
       "</tr>\n",
       "</table>\n",
       "<table class=\"simpletable\">\n",
       "<tr>\n",
       "    <td></td>       <th>coef</th>     <th>std err</th>      <th>t</th>      <th>P>|t|</th> <th>[95.0% Conf. Int.]</th> \n",
       "</tr>\n",
       "<tr>\n",
       "  <th>const</th> <td> -407.6312</td> <td>  306.489</td> <td>   -1.330</td> <td> 0.198</td> <td>-1045.010   229.748</td>\n",
       "</tr>\n",
       "<tr>\n",
       "  <th>x1</th>    <td>    0.6659</td> <td>    0.111</td> <td>    6.005</td> <td> 0.000</td> <td>    0.435     0.897</td>\n",
       "</tr>\n",
       "<tr>\n",
       "  <th>x4</th>    <td> 1636.8710</td> <td>  537.970</td> <td>    3.043</td> <td> 0.006</td> <td>  518.102  2755.640</td>\n",
       "</tr>\n",
       "</table>\n",
       "<table class=\"simpletable\">\n",
       "<tr>\n",
       "  <th>Omnibus:</th>       <td>11.393</td> <th>  Durbin-Watson:     </th> <td>   1.653</td>\n",
       "</tr>\n",
       "<tr>\n",
       "  <th>Prob(Omnibus):</th> <td> 0.003</td> <th>  Jarque-Bera (JB):  </th> <td>   9.572</td>\n",
       "</tr>\n",
       "<tr>\n",
       "  <th>Skew:</th>          <td> 1.355</td> <th>  Prob(JB):          </th> <td> 0.00835</td>\n",
       "</tr>\n",
       "<tr>\n",
       "  <th>Kurtosis:</th>      <td> 4.493</td> <th>  Cond. No.          </th> <td>1.34e+04</td>\n",
       "</tr>\n",
       "</table>"
      ],
      "text/plain": [
       "<class 'statsmodels.iolib.summary.Summary'>\n",
       "\"\"\"\n",
       "                            OLS Regression Results                            \n",
       "==============================================================================\n",
       "Dep. Variable:                      y   R-squared:                       0.706\n",
       "Model:                            OLS   Adj. R-squared:                  0.678\n",
       "Method:                 Least Squares   F-statistic:                     25.19\n",
       "Date:                Mon, 10 Oct 2016   Prob (F-statistic):           2.64e-06\n",
       "Time:                        13:33:49   Log-Likelihood:                -177.96\n",
       "No. Observations:                  24   AIC:                             361.9\n",
       "Df Residuals:                      21   BIC:                             365.5\n",
       "Df Model:                           2                                         \n",
       "Covariance Type:            nonrobust                                         \n",
       "==============================================================================\n",
       "                 coef    std err          t      P>|t|      [95.0% Conf. Int.]\n",
       "------------------------------------------------------------------------------\n",
       "const       -407.6312    306.489     -1.330      0.198     -1045.010   229.748\n",
       "x1             0.6659      0.111      6.005      0.000         0.435     0.897\n",
       "x4          1636.8710    537.970      3.043      0.006       518.102  2755.640\n",
       "==============================================================================\n",
       "Omnibus:                       11.393   Durbin-Watson:                   1.653\n",
       "Prob(Omnibus):                  0.003   Jarque-Bera (JB):                9.572\n",
       "Skew:                           1.355   Prob(JB):                      0.00835\n",
       "Kurtosis:                       4.493   Cond. No.                     1.34e+04\n",
       "==============================================================================\n",
       "\n",
       "Warnings:\n",
       "[1] Standard Errors assume that the covariance matrix of the errors is correctly specified.\n",
       "[2] The condition number is large, 1.34e+04. This might indicate that there are\n",
       "strong multicollinearity or other numerical problems.\n",
       "\"\"\""
      ]
     },
     "execution_count": 13,
     "metadata": {},
     "output_type": "execute_result"
    }
   ],
   "source": [
    "x7=electric_df[['x1','x4']]\n",
    "y7 = electric_df['y']\n",
    "x7 = smf.add_constant(x7)\n",
    "\n",
    "\n",
    "model7 = smf.OLS(y7,x7)\n",
    "results7 = model7.fit()\n",
    "results7.summary()"
   ]
  },
  {
   "cell_type": "markdown",
   "metadata": {},
   "source": [
    "# Four assumptions of linear regression.\n",
    "- Normality\n",
    "- Heteroskedascity\n",
    "- Multicolinearity\n",
    "- Linear relationship"
   ]
  },
  {
   "cell_type": "markdown",
   "metadata": {},
   "source": [
    ">Normality. The p-value of the Jarque-Bera test is below .05 so we fail to reject the null hypothesis. This means the normality assumption holds.\n",
    "\n",
    "> Heteroskedascity. The p-value of the breushpagan test is >.05 so we reject the null. Our data has excess variance. This assumptions does NOT hold.\n",
    "\n",
    "> Multicolinearity. To check for this we look at the correlation matrix. Nothing is above .05 so this holds.\n",
    "\n",
    ">Linearity. This is a linear \n",
    "\n"
   ]
  },
  {
   "cell_type": "code",
   "execution_count": 15,
   "metadata": {
    "collapsed": false
   },
   "outputs": [
    {
     "data": {
      "text/plain": [
       "(1.1661046634576069,\n",
       " 0.55819197657521447,\n",
       " 0.53622471268447758,\n",
       " 0.5927506318335225)"
      ]
     },
     "execution_count": 15,
     "metadata": {},
     "output_type": "execute_result"
    }
   ],
   "source": [
    "smf.stats.diagnostic.het_breushpagan(results6.resid,x7)"
   ]
  },
  {
   "cell_type": "code",
   "execution_count": 16,
   "metadata": {
    "collapsed": true
   },
   "outputs": [],
   "source": [
    "import seaborn as sns"
   ]
  },
  {
   "cell_type": "code",
   "execution_count": 19,
   "metadata": {
    "collapsed": false
   },
   "outputs": [
    {
     "data": {
      "text/plain": [
       "<matplotlib.axes._subplots.AxesSubplot at 0x11ada76a0>"
      ]
     },
     "execution_count": 19,
     "metadata": {},
     "output_type": "execute_result"
    },
    {
     "data": {
      "image/png": "[encoded data removed]",
      "text/plain": [
       "<matplotlib.figure.Figure at 0x11ad85ba8>"
      ]
     },
     "metadata": {},
     "output_type": "display_data"
    }
   ],
   "source": [
    "sns.regplot(results7.resid,results7.fittedvalues)"
   ]
  },
  {
   "cell_type": "code",
   "execution_count": 18,
   "metadata": {
    "collapsed": false
   },
   "outputs": [
    {
     "name": "stdout",
     "output_type": "stream",
     "text": [
      "Populating the interactive namespace from numpy and matplotlib\n"
     ]
    }
   ],
   "source": [
    "%pylab inline"
   ]
  },
  {
   "cell_type": "code",
   "execution_count": 23,
   "metadata": {
    "collapsed": false
   },
   "outputs": [
    {
     "data": {
      "text/html": [
       "<div>\n",
       "<table border=\"1\" class=\"dataframe\">\n",
       "  <thead>\n",
       "    <tr style=\"text-align: right;\">\n",
       "      <th></th>\n",
       "      <th>const</th>\n",
       "      <th>x1</th>\n",
       "      <th>x4</th>\n",
       "    </tr>\n",
       "  </thead>\n",
       "  <tbody>\n",
       "    <tr>\n",
       "      <th>const</th>\n",
       "      <td>NaN</td>\n",
       "      <td>NaN</td>\n",
       "      <td>NaN</td>\n",
       "    </tr>\n",
       "    <tr>\n",
       "      <th>x1</th>\n",
       "      <td>NaN</td>\n",
       "      <td>1.000000</td>\n",
       "      <td>0.119072</td>\n",
       "    </tr>\n",
       "    <tr>\n",
       "      <th>x4</th>\n",
       "      <td>NaN</td>\n",
       "      <td>0.119072</td>\n",
       "      <td>1.000000</td>\n",
       "    </tr>\n",
       "  </tbody>\n",
       "</table>\n",
       "</div>"
      ],
      "text/plain": [
       "       const        x1        x4\n",
       "const    NaN       NaN       NaN\n",
       "x1       NaN  1.000000  0.119072\n",
       "x4       NaN  0.119072  1.000000"
      ]
     },
     "execution_count": 23,
     "metadata": {},
     "output_type": "execute_result"
    }
   ],
   "source": [
    "x7.corr()"
   ]
  },
  {
   "cell_type": "code",
   "execution_count": null,
   "metadata": {
    "collapsed": true
   },
   "outputs": [],
   "source": []
  }
 ],
 "metadata": {
  "anaconda-cloud": {},
  "kernelspec": {
   "display_name": "Python [Root]",
   "language": "python",
   "name": "Python [Root]"
  },
  "language_info": {
   "codemirror_mode": {
    "name": "ipython",
    "version": 3
   },
   "file_extension": ".py",
   "mimetype": "text/x-python",
   "name": "python",
   "nbconvert_exporter": "python",
   "pygments_lexer": "ipython3",
   "version": "3.5.2"
  }
 },
 "nbformat": 4,
 "nbformat_minor": 0
}
