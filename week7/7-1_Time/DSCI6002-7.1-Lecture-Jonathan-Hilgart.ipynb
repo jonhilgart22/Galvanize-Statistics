{
 "cells": [
  {
   "cell_type": "markdown",
   "metadata": {},
   "source": [
    "# Lecture 7.1: Introduction to Time Series  \n",
    "\n",
    "## Objectives  \n",
    "\n",
    "* Identify important features on a time series plot\n",
    "* Identify and interpret an AR(1) model\n",
    "* Interpret an ACF\n",
    "* Identify a weakly stationary time series\n",
    "* Identify when and how to take first differences"
   ]
  },
  {
   "cell_type": "markdown",
   "metadata": {},
   "source": [
    "## Time Series Data  \n",
    "\n",
    "Time series data is a sequence of observations of some quantity of interest, which are collected over time, such as:  \n",
    "\n",
    "* GDP\n",
    "* The price of toilet paper or a stock\n",
    "* Demand for a good\n",
    "* Unemployment\n",
    "* Web traffic (clicks, logins, posts, etc.)"
   ]
  },
  {
   "cell_type": "markdown",
   "metadata": {},
   "source": [
    "### Before we begin:\n",
    "Install the latest (development) version of `statsmodels` this way:"
   ]
  },
  {
   "cell_type": "code",
   "execution_count": 1,
   "metadata": {
    "collapsed": false
   },
   "outputs": [
    {
     "name": "stdout",
     "output_type": "stream",
     "text": [
      "Collecting git+git://github.com/statsmodels/statsmodels.git\n",
      "  Cloning git://github.com/statsmodels/statsmodels.git to /var/folders/0r/jkhwtgvx0wb9vrk6xn4bmz2m0000gn/T/pip-1v19ngdi-build\n",
      "Installing collected packages: statsmodels\n",
      "  Found existing installation: statsmodels 0.6.1\n",
      "    Uninstalling statsmodels-0.6.1:\n",
      "      Successfully uninstalled statsmodels-0.6.1\n",
      "  Running setup.py install for statsmodels ... \u001b[?25l-\b \b\\\b \b|\b \b/\b \b-\b \b\\\b \b|\b \b/\b \b-\b \b\\\b \berror\n",
      "    Complete output from command /Users/jonathanhilgart/anaconda/bin/python -u -c \"import setuptools, tokenize;__file__='/var/folders/0r/jkhwtgvx0wb9vrk6xn4bmz2m0000gn/T/pip-1v19ngdi-build/setup.py';exec(compile(getattr(tokenize, 'open', open)(__file__).read().replace('\\r\\n', '\\n'), __file__, 'exec'))\" install --record /var/folders/0r/jkhwtgvx0wb9vrk6xn4bmz2m0000gn/T/pip-2idfvr6w-record/install-record.txt --single-version-externally-managed --compile:\n",
      "    error: Could not expand include path '~/.gitcinclude'\n",
      "    fatal: bad config line 49 in file /usr/local/git/etc/gitconfig\n",
      "    Cythonizing sources\n",
      "    Processing statsmodels/nonparametric/_smoothers_lowess.pyx\n",
      "    Processing statsmodels/nonparametric/linbin.pyx\n",
      "    Processing statsmodels/tsa/kalmanf/kalman_loglike.pyx\n",
      "    Processing statsmodels/tsa/regime_switching/_hamilton_filter.pyx.in\n",
      "    Processing statsmodels/tsa/regime_switching/_kim_smoother.pyx.in\n",
      "    Processing statsmodels/tsa/statespace/_statespace.pyx.in\n",
      "    running install\n",
      "    running build\n",
      "    running build_py\n",
      "    creating build\n",
      "    creating build/lib.macosx-10.6-x86_64-3.5\n",
      "    creating build/lib.macosx-10.6-x86_64-3.5/statsmodels\n",
      "    copying statsmodels/__init__.py -> build/lib.macosx-10.6-x86_64-3.5/statsmodels\n",
      "    copying statsmodels/api.py -> build/lib.macosx-10.6-x86_64-3.5/statsmodels\n",
      "    copying statsmodels/info.py -> build/lib.macosx-10.6-x86_64-3.5/statsmodels\n",
      "    copying statsmodels/version.py -> build/lib.macosx-10.6-x86_64-3.5/statsmodels\n",
      "    creating build/lib.macosx-10.6-x86_64-3.5/statsmodels/base\n",
      "    copying statsmodels/base/__init__.py -> build/lib.macosx-10.6-x86_64-3.5/statsmodels/base\n",
      "    copying statsmodels/base/_constraints.py -> build/lib.macosx-10.6-x86_64-3.5/statsmodels/base\n",
      "    copying statsmodels/base/_penalties.py -> build/lib.macosx-10.6-x86_64-3.5/statsmodels/base\n",
      "    copying statsmodels/base/covtype.py -> build/lib.macosx-10.6-x86_64-3.5/statsmodels/base\n",
      "    copying statsmodels/base/data.py -> build/lib.macosx-10.6-x86_64-3.5/statsmodels/base\n",
      "    copying statsmodels/base/elastic_net.py -> build/lib.macosx-10.6-x86_64-3.5/statsmodels/base\n",
      "    copying statsmodels/base/l1_cvxopt.py -> build/lib.macosx-10.6-x86_64-3.5/statsmodels/base\n",
      "    copying statsmodels/base/l1_slsqp.py -> build/lib.macosx-10.6-x86_64-3.5/statsmodels/base\n",
      "    copying statsmodels/base/l1_solvers_common.py -> build/lib.macosx-10.6-x86_64-3.5/statsmodels/base\n",
      "    copying statsmodels/base/model.py -> build/lib.macosx-10.6-x86_64-3.5/statsmodels/base\n",
      "    copying statsmodels/base/optimizer.py -> build/lib.macosx-10.6-x86_64-3.5/statsmodels/base\n",
      "    copying statsmodels/base/wrapper.py -> build/lib.macosx-10.6-x86_64-3.5/statsmodels/base\n",
      "    creating build/lib.macosx-10.6-x86_64-3.5/statsmodels/compat\n",
      "    copying statsmodels/compat/__init__.py -> build/lib.macosx-10.6-x86_64-3.5/statsmodels/compat\n",
      "    copying statsmodels/compat/collections.py -> build/lib.macosx-10.6-x86_64-3.5/statsmodels/compat\n",
      "    copying statsmodels/compat/counter.py -> build/lib.macosx-10.6-x86_64-3.5/statsmodels/compat\n",
      "    copying statsmodels/compat/numpy.py -> build/lib.macosx-10.6-x86_64-3.5/statsmodels/compat\n",
      "    copying statsmodels/compat/ordereddict.py -> build/lib.macosx-10.6-x86_64-3.5/statsmodels/compat\n",
      "    copying statsmodels/compat/pandas.py -> build/lib.macosx-10.6-x86_64-3.5/statsmodels/compat\n",
      "    copying statsmodels/compat/python.py -> build/lib.macosx-10.6-x86_64-3.5/statsmodels/compat\n",
      "    copying statsmodels/compat/scipy.py -> build/lib.macosx-10.6-x86_64-3.5/statsmodels/compat\n",
      "    creating build/lib.macosx-10.6-x86_64-3.5/statsmodels/datasets\n",
      "    copying statsmodels/datasets/__init__.py -> build/lib.macosx-10.6-x86_64-3.5/statsmodels/datasets\n",
      "    copying statsmodels/datasets/template_data.py -> build/lib.macosx-10.6-x86_64-3.5/statsmodels/datasets\n",
      "    copying statsmodels/datasets/utils.py -> build/lib.macosx-10.6-x86_64-3.5/statsmodels/datasets\n",
      "    creating build/lib.macosx-10.6-x86_64-3.5/statsmodels/discrete\n",
      "    copying statsmodels/discrete/__init__.py -> build/lib.macosx-10.6-x86_64-3.5/statsmodels/discrete\n",
      "    copying statsmodels/discrete/discrete_margins.py -> build/lib.macosx-10.6-x86_64-3.5/statsmodels/discrete\n",
      "    copying statsmodels/discrete/discrete_model.py -> build/lib.macosx-10.6-x86_64-3.5/statsmodels/discrete\n",
      "    creating build/lib.macosx-10.6-x86_64-3.5/statsmodels/distributions\n",
      "    copying statsmodels/distributions/__init__.py -> build/lib.macosx-10.6-x86_64-3.5/statsmodels/distributions\n",
      "    copying statsmodels/distributions/edgeworth.py -> build/lib.macosx-10.6-x86_64-3.5/statsmodels/distributions\n",
      "    copying statsmodels/distributions/empirical_distribution.py -> build/lib.macosx-10.6-x86_64-3.5/statsmodels/distributions\n",
      "    copying statsmodels/distributions/mixture_rvs.py -> build/lib.macosx-10.6-x86_64-3.5/statsmodels/distributions\n",
      "    creating build/lib.macosx-10.6-x86_64-3.5/statsmodels/duration\n",
      "    copying statsmodels/duration/__init__.py -> build/lib.macosx-10.6-x86_64-3.5/statsmodels/duration\n",
      "    copying statsmodels/duration/api.py -> build/lib.macosx-10.6-x86_64-3.5/statsmodels/duration\n",
      "    copying statsmodels/duration/hazard_regression.py -> build/lib.macosx-10.6-x86_64-3.5/statsmodels/duration\n",
      "    copying statsmodels/duration/survfunc.py -> build/lib.macosx-10.6-x86_64-3.5/statsmodels/duration\n",
      "    creating build/lib.macosx-10.6-x86_64-3.5/statsmodels/emplike\n",
      "    copying statsmodels/emplike/__init__.py -> build/lib.macosx-10.6-x86_64-3.5/statsmodels/emplike\n",
      "    copying statsmodels/emplike/aft_el.py -> build/lib.macosx-10.6-x86_64-3.5/statsmodels/emplike\n",
      "    copying statsmodels/emplike/api.py -> build/lib.macosx-10.6-x86_64-3.5/statsmodels/emplike\n",
      "    copying statsmodels/emplike/descriptive.py -> build/lib.macosx-10.6-x86_64-3.5/statsmodels/emplike\n",
      "    copying statsmodels/emplike/elanova.py -> build/lib.macosx-10.6-x86_64-3.5/statsmodels/emplike\n",
      "    copying statsmodels/emplike/elregress.py -> build/lib.macosx-10.6-x86_64-3.5/statsmodels/emplike\n",
      "    copying statsmodels/emplike/koul_and_mc.py -> build/lib.macosx-10.6-x86_64-3.5/statsmodels/emplike\n",
      "    copying statsmodels/emplike/originregress.py -> build/lib.macosx-10.6-x86_64-3.5/statsmodels/emplike\n",
      "    creating build/lib.macosx-10.6-x86_64-3.5/statsmodels/formula\n",
      "    copying statsmodels/formula/__init__.py -> build/lib.macosx-10.6-x86_64-3.5/statsmodels/formula\n",
      "    copying statsmodels/formula/api.py -> build/lib.macosx-10.6-x86_64-3.5/statsmodels/formula\n",
      "    copying statsmodels/formula/formulatools.py -> build/lib.macosx-10.6-x86_64-3.5/statsmodels/formula\n",
      "    creating build/lib.macosx-10.6-x86_64-3.5/statsmodels/genmod\n",
      "    copying statsmodels/genmod/__init__.py -> build/lib.macosx-10.6-x86_64-3.5/statsmodels/genmod\n",
      "    copying statsmodels/genmod/_prediction.py -> build/lib.macosx-10.6-x86_64-3.5/statsmodels/genmod\n",
      "    copying statsmodels/genmod/_tweedie_compound_poisson.py -> build/lib.macosx-10.6-x86_64-3.5/statsmodels/genmod\n",
      "    copying statsmodels/genmod/api.py -> build/lib.macosx-10.6-x86_64-3.5/statsmodels/genmod\n",
      "    copying statsmodels/genmod/cov_struct.py -> build/lib.macosx-10.6-x86_64-3.5/statsmodels/genmod\n",
      "    copying statsmodels/genmod/generalized_estimating_equations.py -> build/lib.macosx-10.6-x86_64-3.5/statsmodels/genmod\n",
      "    copying statsmodels/genmod/generalized_linear_model.py -> build/lib.macosx-10.6-x86_64-3.5/statsmodels/genmod\n",
      "    creating build/lib.macosx-10.6-x86_64-3.5/statsmodels/graphics\n",
      "    copying statsmodels/graphics/__init__.py -> build/lib.macosx-10.6-x86_64-3.5/statsmodels/graphics\n",
      "    copying statsmodels/graphics/_regressionplots_doc.py -> build/lib.macosx-10.6-x86_64-3.5/statsmodels/graphics\n",
      "    copying statsmodels/graphics/api.py -> build/lib.macosx-10.6-x86_64-3.5/statsmodels/graphics\n",
      "    copying statsmodels/graphics/boxplots.py -> build/lib.macosx-10.6-x86_64-3.5/statsmodels/graphics\n",
      "    copying statsmodels/graphics/correlation.py -> build/lib.macosx-10.6-x86_64-3.5/statsmodels/graphics\n",
      "    copying statsmodels/graphics/dotplots.py -> build/lib.macosx-10.6-x86_64-3.5/statsmodels/graphics\n",
      "    copying statsmodels/graphics/factorplots.py -> build/lib.macosx-10.6-x86_64-3.5/statsmodels/graphics\n",
      "    copying statsmodels/graphics/functional.py -> build/lib.macosx-10.6-x86_64-3.5/statsmodels/graphics\n",
      "    copying statsmodels/graphics/gofplots.py -> build/lib.macosx-10.6-x86_64-3.5/statsmodels/graphics\n",
      "    copying statsmodels/graphics/mosaicplot.py -> build/lib.macosx-10.6-x86_64-3.5/statsmodels/graphics\n",
      "    copying statsmodels/graphics/plot_grids.py -> build/lib.macosx-10.6-x86_64-3.5/statsmodels/graphics\n",
      "    copying statsmodels/graphics/plottools.py -> build/lib.macosx-10.6-x86_64-3.5/statsmodels/graphics\n",
      "    copying statsmodels/graphics/regressionplots.py -> build/lib.macosx-10.6-x86_64-3.5/statsmodels/graphics\n",
      "    copying statsmodels/graphics/tsaplots.py -> build/lib.macosx-10.6-x86_64-3.5/statsmodels/graphics\n",
      "    copying statsmodels/graphics/tukeyplot.py -> build/lib.macosx-10.6-x86_64-3.5/statsmodels/graphics\n",
      "    copying statsmodels/graphics/utils.py -> build/lib.macosx-10.6-x86_64-3.5/statsmodels/graphics\n",
      "    creating build/lib.macosx-10.6-x86_64-3.5/statsmodels/imputation\n",
      "    copying statsmodels/imputation/__init__.py -> build/lib.macosx-10.6-x86_64-3.5/statsmodels/imputation\n",
      "    copying statsmodels/imputation/mice.py -> build/lib.macosx-10.6-x86_64-3.5/statsmodels/imputation\n",
      "    copying statsmodels/imputation/ros.py -> build/lib.macosx-10.6-x86_64-3.5/statsmodels/imputation\n",
      "    creating build/lib.macosx-10.6-x86_64-3.5/statsmodels/interface\n",
      "    copying statsmodels/interface/__init__.py -> build/lib.macosx-10.6-x86_64-3.5/statsmodels/interface\n",
      "    creating build/lib.macosx-10.6-x86_64-3.5/statsmodels/iolib\n",
      "    copying statsmodels/iolib/__init__.py -> build/lib.macosx-10.6-x86_64-3.5/statsmodels/iolib\n",
      "    copying statsmodels/iolib/api.py -> build/lib.macosx-10.6-x86_64-3.5/statsmodels/iolib\n",
      "    copying statsmodels/iolib/foreign.py -> build/lib.macosx-10.6-x86_64-3.5/statsmodels/iolib\n",
      "    copying statsmodels/iolib/openfile.py -> build/lib.macosx-10.6-x86_64-3.5/statsmodels/iolib\n",
      "    copying statsmodels/iolib/smpickle.py -> build/lib.macosx-10.6-x86_64-3.5/statsmodels/iolib\n",
      "    copying statsmodels/iolib/stata_summary_examples.py -> build/lib.macosx-10.6-x86_64-3.5/statsmodels/iolib\n",
      "    copying statsmodels/iolib/summary.py -> build/lib.macosx-10.6-x86_64-3.5/statsmodels/iolib\n",
      "    copying statsmodels/iolib/summary2.py -> build/lib.macosx-10.6-x86_64-3.5/statsmodels/iolib\n",
      "    copying statsmodels/iolib/table.py -> build/lib.macosx-10.6-x86_64-3.5/statsmodels/iolib\n",
      "    copying statsmodels/iolib/tableformatting.py -> build/lib.macosx-10.6-x86_64-3.5/statsmodels/iolib\n",
      "    creating build/lib.macosx-10.6-x86_64-3.5/statsmodels/miscmodels\n",
      "    copying statsmodels/miscmodels/__init__.py -> build/lib.macosx-10.6-x86_64-3.5/statsmodels/miscmodels\n",
      "    copying statsmodels/miscmodels/api.py -> build/lib.macosx-10.6-x86_64-3.5/statsmodels/miscmodels\n",
      "    copying statsmodels/miscmodels/count.py -> build/lib.macosx-10.6-x86_64-3.5/statsmodels/miscmodels\n",
      "    copying statsmodels/miscmodels/nonlinls.py -> build/lib.macosx-10.6-x86_64-3.5/statsmodels/miscmodels\n",
      "    copying statsmodels/miscmodels/tmodel.py -> build/lib.macosx-10.6-x86_64-3.5/statsmodels/miscmodels\n",
      "    copying statsmodels/miscmodels/try_mlecov.py -> build/lib.macosx-10.6-x86_64-3.5/statsmodels/miscmodels\n",
      "    creating build/lib.macosx-10.6-x86_64-3.5/statsmodels/multivariate\n",
      "    copying statsmodels/multivariate/__init__.py -> build/lib.macosx-10.6-x86_64-3.5/statsmodels/multivariate\n",
      "    copying statsmodels/multivariate/pca.py -> build/lib.macosx-10.6-x86_64-3.5/statsmodels/multivariate\n",
      "    creating build/lib.macosx-10.6-x86_64-3.5/statsmodels/nonparametric\n",
      "    copying statsmodels/nonparametric/__init__.py -> build/lib.macosx-10.6-x86_64-3.5/statsmodels/nonparametric\n",
      "    copying statsmodels/nonparametric/_kernel_base.py -> build/lib.macosx-10.6-x86_64-3.5/statsmodels/nonparametric\n",
      "    copying statsmodels/nonparametric/api.py -> build/lib.macosx-10.6-x86_64-3.5/statsmodels/nonparametric\n",
      "    copying statsmodels/nonparametric/bandwidths.py -> build/lib.macosx-10.6-x86_64-3.5/statsmodels/nonparametric\n",
      "    copying statsmodels/nonparametric/kde.py -> build/lib.macosx-10.6-x86_64-3.5/statsmodels/nonparametric\n",
      "    copying statsmodels/nonparametric/kdetools.py -> build/lib.macosx-10.6-x86_64-3.5/statsmodels/nonparametric\n",
      "    copying statsmodels/nonparametric/kernel_density.py -> build/lib.macosx-10.6-x86_64-3.5/statsmodels/nonparametric\n",
      "    copying statsmodels/nonparametric/kernel_regression.py -> build/lib.macosx-10.6-x86_64-3.5/statsmodels/nonparametric\n",
      "    copying statsmodels/nonparametric/kernels.py -> build/lib.macosx-10.6-x86_64-3.5/statsmodels/nonparametric\n",
      "    copying statsmodels/nonparametric/smoothers_lowess.py -> build/lib.macosx-10.6-x86_64-3.5/statsmodels/nonparametric\n",
      "    copying statsmodels/nonparametric/smoothers_lowess_old.py -> build/lib.macosx-10.6-x86_64-3.5/statsmodels/nonparametric\n",
      "    creating build/lib.macosx-10.6-x86_64-3.5/statsmodels/regression\n",
      "    copying statsmodels/regression/__init__.py -> build/lib.macosx-10.6-x86_64-3.5/statsmodels/regression\n",
      "    copying statsmodels/regression/_prediction.py -> build/lib.macosx-10.6-x86_64-3.5/statsmodels/regression\n",
      "    copying statsmodels/regression/feasible_gls.py -> build/lib.macosx-10.6-x86_64-3.5/statsmodels/regression\n",
      "    copying statsmodels/regression/linear_model.py -> build/lib.macosx-10.6-x86_64-3.5/statsmodels/regression\n",
      "    copying statsmodels/regression/mixed_linear_model.py -> build/lib.macosx-10.6-x86_64-3.5/statsmodels/regression\n",
      "    copying statsmodels/regression/quantile_regression.py -> build/lib.macosx-10.6-x86_64-3.5/statsmodels/regression\n",
      "    copying statsmodels/regression/recursive_ls.py -> build/lib.macosx-10.6-x86_64-3.5/statsmodels/regression\n",
      "    creating build/lib.macosx-10.6-x86_64-3.5/statsmodels/resampling\n",
      "    copying statsmodels/resampling/__init__.py -> build/lib.macosx-10.6-x86_64-3.5/statsmodels/resampling\n",
      "    creating build/lib.macosx-10.6-x86_64-3.5/statsmodels/robust\n",
      "    copying statsmodels/robust/__init__.py -> build/lib.macosx-10.6-x86_64-3.5/statsmodels/robust\n",
      "    copying statsmodels/robust/norms.py -> build/lib.macosx-10.6-x86_64-3.5/statsmodels/robust\n",
      "    copying statsmodels/robust/robust_linear_model.py -> build/lib.macosx-10.6-x86_64-3.5/statsmodels/robust\n",
      "    copying statsmodels/robust/scale.py -> build/lib.macosx-10.6-x86_64-3.5/statsmodels/robust\n",
      "    creating build/lib.macosx-10.6-x86_64-3.5/statsmodels/sandbox\n",
      "    copying statsmodels/sandbox/__init__.py -> build/lib.macosx-10.6-x86_64-3.5/statsmodels/sandbox\n",
      "    copying statsmodels/sandbox/bspline.py -> build/lib.macosx-10.6-x86_64-3.5/statsmodels/sandbox\n",
      "    copying statsmodels/sandbox/contrast_old.py -> build/lib.macosx-10.6-x86_64-3.5/statsmodels/sandbox\n",
      "    copying statsmodels/sandbox/cox.py -> build/lib.macosx-10.6-x86_64-3.5/statsmodels/sandbox\n",
      "    copying statsmodels/sandbox/descstats.py -> build/lib.macosx-10.6-x86_64-3.5/statsmodels/sandbox\n",
      "    copying statsmodels/sandbox/formula.py -> build/lib.macosx-10.6-x86_64-3.5/statsmodels/sandbox\n",
      "    copying statsmodels/sandbox/gam.py -> build/lib.macosx-10.6-x86_64-3.5/statsmodels/sandbox\n",
      "    copying statsmodels/sandbox/infotheo.py -> build/lib.macosx-10.6-x86_64-3.5/statsmodels/sandbox\n",
      "    copying statsmodels/sandbox/km_class.py -> build/lib.macosx-10.6-x86_64-3.5/statsmodels/sandbox\n",
      "    copying statsmodels/sandbox/mle.py -> build/lib.macosx-10.6-x86_64-3.5/statsmodels/sandbox\n",
      "    copying statsmodels/sandbox/multilinear.py -> build/lib.macosx-10.6-x86_64-3.5/statsmodels/sandbox\n",
      "    copying statsmodels/sandbox/pca.py -> build/lib.macosx-10.6-x86_64-3.5/statsmodels/sandbox\n",
      "    copying statsmodels/sandbox/predict_functional.py -> build/lib.macosx-10.6-x86_64-3.5/statsmodels/sandbox\n",
      "    copying statsmodels/sandbox/rls.py -> build/lib.macosx-10.6-x86_64-3.5/statsmodels/sandbox\n",
      "    copying statsmodels/sandbox/survival.py -> build/lib.macosx-10.6-x86_64-3.5/statsmodels/sandbox\n",
      "    copying statsmodels/sandbox/survival2.py -> build/lib.macosx-10.6-x86_64-3.5/statsmodels/sandbox\n",
      "    copying statsmodels/sandbox/sysreg.py -> build/lib.macosx-10.6-x86_64-3.5/statsmodels/sandbox\n",
      "    copying statsmodels/sandbox/utils_old.py -> build/lib.macosx-10.6-x86_64-3.5/statsmodels/sandbox\n",
      "    creating build/lib.macosx-10.6-x86_64-3.5/statsmodels/src\n",
      "    copying statsmodels/src/__init__.py -> build/lib.macosx-10.6-x86_64-3.5/statsmodels/src\n",
      "    creating build/lib.macosx-10.6-x86_64-3.5/statsmodels/stats\n",
      "    copying statsmodels/stats/__init__.py -> build/lib.macosx-10.6-x86_64-3.5/statsmodels/stats\n",
      "    copying statsmodels/stats/_adnorm.py -> build/lib.macosx-10.6-x86_64-3.5/statsmodels/stats\n",
      "    copying statsmodels/stats/_lilliefors.py -> build/lib.macosx-10.6-x86_64-3.5/statsmodels/stats\n",
      "    copying statsmodels/stats/anova.py -> build/lib.macosx-10.6-x86_64-3.5/statsmodels/stats\n",
      "    copying statsmodels/stats/api.py -> build/lib.macosx-10.6-x86_64-3.5/statsmodels/stats\n",
      "    copying statsmodels/stats/base.py -> build/lib.macosx-10.6-x86_64-3.5/statsmodels/stats\n",
      "    copying statsmodels/stats/contingency_tables.py -> build/lib.macosx-10.6-x86_64-3.5/statsmodels/stats\n",
      "    copying statsmodels/stats/contrast.py -> build/lib.macosx-10.6-x86_64-3.5/statsmodels/stats\n",
      "    copying statsmodels/stats/correlation_tools.py -> build/lib.macosx-10.6-x86_64-3.5/statsmodels/stats\n",
      "    copying statsmodels/stats/descriptivestats.py -> build/lib.macosx-10.6-x86_64-3.5/statsmodels/stats\n",
      "    copying statsmodels/stats/diagnostic.py -> build/lib.macosx-10.6-x86_64-3.5/statsmodels/stats\n",
      "    copying statsmodels/stats/gof.py -> build/lib.macosx-10.6-x86_64-3.5/statsmodels/stats\n",
      "    copying statsmodels/stats/inter_rater.py -> build/lib.macosx-10.6-x86_64-3.5/statsmodels/stats\n",
      "    copying statsmodels/stats/mediation.py -> build/lib.macosx-10.6-x86_64-3.5/statsmodels/stats\n",
      "    copying statsmodels/stats/moment_helpers.py -> build/lib.macosx-10.6-x86_64-3.5/statsmodels/stats\n",
      "    copying statsmodels/stats/multicomp.py -> build/lib.macosx-10.6-x86_64-3.5/statsmodels/stats\n",
      "    copying statsmodels/stats/multitest.py -> build/lib.macosx-10.6-x86_64-3.5/statsmodels/stats\n",
      "    copying statsmodels/stats/multivariate_tools.py -> build/lib.macosx-10.6-x86_64-3.5/statsmodels/stats\n",
      "    copying statsmodels/stats/outliers_influence.py -> build/lib.macosx-10.6-x86_64-3.5/statsmodels/stats\n",
      "    copying statsmodels/stats/power.py -> build/lib.macosx-10.6-x86_64-3.5/statsmodels/stats\n",
      "    copying statsmodels/stats/proportion.py -> build/lib.macosx-10.6-x86_64-3.5/statsmodels/stats\n",
      "    copying statsmodels/stats/sandwich_covariance.py -> build/lib.macosx-10.6-x86_64-3.5/statsmodels/stats\n",
      "    copying statsmodels/stats/stattools.py -> build/lib.macosx-10.6-x86_64-3.5/statsmodels/stats\n",
      "    copying statsmodels/stats/tabledist.py -> build/lib.macosx-10.6-x86_64-3.5/statsmodels/stats\n",
      "    copying statsmodels/stats/weightstats.py -> build/lib.macosx-10.6-x86_64-3.5/statsmodels/stats\n",
      "    creating build/lib.macosx-10.6-x86_64-3.5/statsmodels/tools\n",
      "    copying statsmodels/tools/__init__.py -> build/lib.macosx-10.6-x86_64-3.5/statsmodels/tools\n",
      "    copying statsmodels/tools/_testing.py -> build/lib.macosx-10.6-x86_64-3.5/statsmodels/tools\n",
      "    copying statsmodels/tools/catadd.py -> build/lib.macosx-10.6-x86_64-3.5/statsmodels/tools\n",
      "    copying statsmodels/tools/data.py -> build/lib.macosx-10.6-x86_64-3.5/statsmodels/tools\n",
      "    copying statsmodels/tools/decorators.py -> build/lib.macosx-10.6-x86_64-3.5/statsmodels/tools\n",
      "    copying statsmodels/tools/dump2module.py -> build/lib.macosx-10.6-x86_64-3.5/statsmodels/tools\n",
      "    copying statsmodels/tools/eval_measures.py -> build/lib.macosx-10.6-x86_64-3.5/statsmodels/tools\n",
      "    copying statsmodels/tools/grouputils.py -> build/lib.macosx-10.6-x86_64-3.5/statsmodels/tools\n",
      "    copying statsmodels/tools/linalg.py -> build/lib.macosx-10.6-x86_64-3.5/statsmodels/tools\n",
      "    copying statsmodels/tools/numdiff.py -> build/lib.macosx-10.6-x86_64-3.5/statsmodels/tools\n",
      "    copying statsmodels/tools/parallel.py -> build/lib.macosx-10.6-x86_64-3.5/statsmodels/tools\n",
      "    copying statsmodels/tools/print_version.py -> build/lib.macosx-10.6-x86_64-3.5/statsmodels/tools\n",
      "    copying statsmodels/tools/rootfinding.py -> build/lib.macosx-10.6-x86_64-3.5/statsmodels/tools\n",
      "    copying statsmodels/tools/sm_exceptions.py -> build/lib.macosx-10.6-x86_64-3.5/statsmodels/tools\n",
      "    copying statsmodels/tools/testing.py -> build/lib.macosx-10.6-x86_64-3.5/statsmodels/tools\n",
      "    copying statsmodels/tools/tools.py -> build/lib.macosx-10.6-x86_64-3.5/statsmodels/tools\n",
      "    copying statsmodels/tools/transform_model.py -> build/lib.macosx-10.6-x86_64-3.5/statsmodels/tools\n",
      "    copying statsmodels/tools/web.py -> build/lib.macosx-10.6-x86_64-3.5/statsmodels/tools\n",
      "    copying statsmodels/tools/wrappers.py -> build/lib.macosx-10.6-x86_64-3.5/statsmodels/tools\n",
      "    creating build/lib.macosx-10.6-x86_64-3.5/statsmodels/tsa\n",
      "    copying statsmodels/tsa/__init__.py -> build/lib.macosx-10.6-x86_64-3.5/statsmodels/tsa\n",
      "    copying statsmodels/tsa/_bds.py -> build/lib.macosx-10.6-x86_64-3.5/statsmodels/tsa\n",
      "    copying statsmodels/tsa/adfvalues.py -> build/lib.macosx-10.6-x86_64-3.5/statsmodels/tsa\n",
      "    copying statsmodels/tsa/api.py -> build/lib.macosx-10.6-x86_64-3.5/statsmodels/tsa\n",
      "    copying statsmodels/tsa/ar_model.py -> build/lib.macosx-10.6-x86_64-3.5/statsmodels/tsa\n",
      "    copying statsmodels/tsa/arima_model.py -> build/lib.macosx-10.6-x86_64-3.5/statsmodels/tsa\n",
      "    copying statsmodels/tsa/arima_process.py -> build/lib.macosx-10.6-x86_64-3.5/statsmodels/tsa\n",
      "    copying statsmodels/tsa/arma_mle.py -> build/lib.macosx-10.6-x86_64-3.5/statsmodels/tsa\n",
      "    copying statsmodels/tsa/descriptivestats.py -> build/lib.macosx-10.6-x86_64-3.5/statsmodels/tsa\n",
      "    copying statsmodels/tsa/mlemodel.py -> build/lib.macosx-10.6-x86_64-3.5/statsmodels/tsa\n",
      "    copying statsmodels/tsa/seasonal.py -> build/lib.macosx-10.6-x86_64-3.5/statsmodels/tsa\n",
      "    copying statsmodels/tsa/stattools.py -> build/lib.macosx-10.6-x86_64-3.5/statsmodels/tsa\n",
      "    copying statsmodels/tsa/tsatools.py -> build/lib.macosx-10.6-x86_64-3.5/statsmodels/tsa\n",
      "    copying statsmodels/tsa/varma_process.py -> build/lib.macosx-10.6-x86_64-3.5/statsmodels/tsa\n",
      "    copying statsmodels/tsa/x13.py -> build/lib.macosx-10.6-x86_64-3.5/statsmodels/tsa\n",
      "    creating build/lib.macosx-10.6-x86_64-3.5/statsmodels/base/tests\n",
      "    copying statsmodels/base/tests/__init__.py -> build/lib.macosx-10.6-x86_64-3.5/statsmodels/base/tests\n",
      "    copying statsmodels/base/tests/test_data.py -> build/lib.macosx-10.6-x86_64-3.5/statsmodels/base/tests\n",
      "    copying statsmodels/base/tests/test_generic_methods.py -> build/lib.macosx-10.6-x86_64-3.5/statsmodels/base/tests\n",
      "    copying statsmodels/base/tests/test_optimize.py -> build/lib.macosx-10.6-x86_64-3.5/statsmodels/base/tests\n",
      "    copying statsmodels/base/tests/test_shrink_pickle.py -> build/lib.macosx-10.6-x86_64-3.5/statsmodels/base/tests\n",
      "    creating build/lib.macosx-10.6-x86_64-3.5/statsmodels/compat/tests\n",
      "    copying statsmodels/compat/tests/__init__.py -> build/lib.macosx-10.6-x86_64-3.5/statsmodels/compat/tests\n",
      "    copying statsmodels/compat/tests/test_collections.py -> build/lib.macosx-10.6-x86_64-3.5/statsmodels/compat/tests\n",
      "    copying statsmodels/compat/tests/test_itercompat.py -> build/lib.macosx-10.6-x86_64-3.5/statsmodels/compat/tests\n",
      "    copying statsmodels/compat/tests/test_scipy_compat.py -> build/lib.macosx-10.6-x86_64-3.5/statsmodels/compat/tests\n",
      "    creating build/lib.macosx-10.6-x86_64-3.5/statsmodels/datasets/anes96\n",
      "    copying statsmodels/datasets/anes96/__init__.py -> build/lib.macosx-10.6-x86_64-3.5/statsmodels/datasets/anes96\n",
      "    copying statsmodels/datasets/anes96/data.py -> build/lib.macosx-10.6-x86_64-3.5/statsmodels/datasets/anes96\n",
      "    creating build/lib.macosx-10.6-x86_64-3.5/statsmodels/datasets/cancer\n",
      "    copying statsmodels/datasets/cancer/__init__.py -> build/lib.macosx-10.6-x86_64-3.5/statsmodels/datasets/cancer\n",
      "    copying statsmodels/datasets/cancer/data.py -> build/lib.macosx-10.6-x86_64-3.5/statsmodels/datasets/cancer\n",
      "    creating build/lib.macosx-10.6-x86_64-3.5/statsmodels/datasets/ccard\n",
      "    copying statsmodels/datasets/ccard/__init__.py -> build/lib.macosx-10.6-x86_64-3.5/statsmodels/datasets/ccard\n",
      "    copying statsmodels/datasets/ccard/data.py -> build/lib.macosx-10.6-x86_64-3.5/statsmodels/datasets/ccard\n",
      "    creating build/lib.macosx-10.6-x86_64-3.5/statsmodels/datasets/china_smoking\n",
      "    copying statsmodels/datasets/china_smoking/__init__.py -> build/lib.macosx-10.6-x86_64-3.5/statsmodels/datasets/china_smoking\n",
      "    copying statsmodels/datasets/china_smoking/data.py -> build/lib.macosx-10.6-x86_64-3.5/statsmodels/datasets/china_smoking\n",
      "    creating build/lib.macosx-10.6-x86_64-3.5/statsmodels/datasets/co2\n",
      "    copying statsmodels/datasets/co2/__init__.py -> build/lib.macosx-10.6-x86_64-3.5/statsmodels/datasets/co2\n",
      "    copying statsmodels/datasets/co2/data.py -> build/lib.macosx-10.6-x86_64-3.5/statsmodels/datasets/co2\n",
      "    creating build/lib.macosx-10.6-x86_64-3.5/statsmodels/datasets/committee\n",
      "    copying statsmodels/datasets/committee/__init__.py -> build/lib.macosx-10.6-x86_64-3.5/statsmodels/datasets/committee\n",
      "    copying statsmodels/datasets/committee/data.py -> build/lib.macosx-10.6-x86_64-3.5/statsmodels/datasets/committee\n",
      "    creating build/lib.macosx-10.6-x86_64-3.5/statsmodels/datasets/copper\n",
      "    copying statsmodels/datasets/copper/__init__.py -> build/lib.macosx-10.6-x86_64-3.5/statsmodels/datasets/copper\n",
      "    copying statsmodels/datasets/copper/data.py -> build/lib.macosx-10.6-x86_64-3.5/statsmodels/datasets/copper\n",
      "    creating build/lib.macosx-10.6-x86_64-3.5/statsmodels/datasets/cpunish\n",
      "    copying statsmodels/datasets/cpunish/__init__.py -> build/lib.macosx-10.6-x86_64-3.5/statsmodels/datasets/cpunish\n",
      "    copying statsmodels/datasets/cpunish/data.py -> build/lib.macosx-10.6-x86_64-3.5/statsmodels/datasets/cpunish\n",
      "    creating build/lib.macosx-10.6-x86_64-3.5/statsmodels/datasets/elnino\n",
      "    copying statsmodels/datasets/elnino/__init__.py -> build/lib.macosx-10.6-x86_64-3.5/statsmodels/datasets/elnino\n",
      "    copying statsmodels/datasets/elnino/data.py -> build/lib.macosx-10.6-x86_64-3.5/statsmodels/datasets/elnino\n",
      "    creating build/lib.macosx-10.6-x86_64-3.5/statsmodels/datasets/engel\n",
      "    copying statsmodels/datasets/engel/__init__.py -> build/lib.macosx-10.6-x86_64-3.5/statsmodels/datasets/engel\n",
      "    copying statsmodels/datasets/engel/data.py -> build/lib.macosx-10.6-x86_64-3.5/statsmodels/datasets/engel\n",
      "    creating build/lib.macosx-10.6-x86_64-3.5/statsmodels/datasets/fair\n",
      "    copying statsmodels/datasets/fair/__init__.py -> build/lib.macosx-10.6-x86_64-3.5/statsmodels/datasets/fair\n",
      "    copying statsmodels/datasets/fair/data.py -> build/lib.macosx-10.6-x86_64-3.5/statsmodels/datasets/fair\n",
      "    creating build/lib.macosx-10.6-x86_64-3.5/statsmodels/datasets/fertility\n",
      "    copying statsmodels/datasets/fertility/__init__.py -> build/lib.macosx-10.6-x86_64-3.5/statsmodels/datasets/fertility\n",
      "    copying statsmodels/datasets/fertility/data.py -> build/lib.macosx-10.6-x86_64-3.5/statsmodels/datasets/fertility\n",
      "    creating build/lib.macosx-10.6-x86_64-3.5/statsmodels/datasets/grunfeld\n",
      "    copying statsmodels/datasets/grunfeld/__init__.py -> build/lib.macosx-10.6-x86_64-3.5/statsmodels/datasets/grunfeld\n",
      "    copying statsmodels/datasets/grunfeld/data.py -> build/lib.macosx-10.6-x86_64-3.5/statsmodels/datasets/grunfeld\n",
      "    creating build/lib.macosx-10.6-x86_64-3.5/statsmodels/datasets/heart\n",
      "    copying statsmodels/datasets/heart/__init__.py -> build/lib.macosx-10.6-x86_64-3.5/statsmodels/datasets/heart\n",
      "    copying statsmodels/datasets/heart/data.py -> build/lib.macosx-10.6-x86_64-3.5/statsmodels/datasets/heart\n",
      "    creating build/lib.macosx-10.6-x86_64-3.5/statsmodels/datasets/longley\n",
      "    copying statsmodels/datasets/longley/__init__.py -> build/lib.macosx-10.6-x86_64-3.5/statsmodels/datasets/longley\n",
      "    copying statsmodels/datasets/longley/data.py -> build/lib.macosx-10.6-x86_64-3.5/statsmodels/datasets/longley\n",
      "    creating build/lib.macosx-10.6-x86_64-3.5/statsmodels/datasets/macrodata\n",
      "    copying statsmodels/datasets/macrodata/__init__.py -> build/lib.macosx-10.6-x86_64-3.5/statsmodels/datasets/macrodata\n",
      "    copying statsmodels/datasets/macrodata/data.py -> build/lib.macosx-10.6-x86_64-3.5/statsmodels/datasets/macrodata\n",
      "    creating build/lib.macosx-10.6-x86_64-3.5/statsmodels/datasets/modechoice\n",
      "    copying statsmodels/datasets/modechoice/__init__.py -> build/lib.macosx-10.6-x86_64-3.5/statsmodels/datasets/modechoice\n",
      "    copying statsmodels/datasets/modechoice/data.py -> build/lib.macosx-10.6-x86_64-3.5/statsmodels/datasets/modechoice\n",
      "    creating build/lib.macosx-10.6-x86_64-3.5/statsmodels/datasets/nile\n",
      "    copying statsmodels/datasets/nile/__init__.py -> build/lib.macosx-10.6-x86_64-3.5/statsmodels/datasets/nile\n",
      "    copying statsmodels/datasets/nile/data.py -> build/lib.macosx-10.6-x86_64-3.5/statsmodels/datasets/nile\n",
      "    creating build/lib.macosx-10.6-x86_64-3.5/statsmodels/datasets/randhie\n",
      "    copying statsmodels/datasets/randhie/__init__.py -> build/lib.macosx-10.6-x86_64-3.5/statsmodels/datasets/randhie\n",
      "    copying statsmodels/datasets/randhie/data.py -> build/lib.macosx-10.6-x86_64-3.5/statsmodels/datasets/randhie\n",
      "    creating build/lib.macosx-10.6-x86_64-3.5/statsmodels/datasets/scotland\n",
      "    copying statsmodels/datasets/scotland/__init__.py -> build/lib.macosx-10.6-x86_64-3.5/statsmodels/datasets/scotland\n",
      "    copying statsmodels/datasets/scotland/data.py -> build/lib.macosx-10.6-x86_64-3.5/statsmodels/datasets/scotland\n",
      "    creating build/lib.macosx-10.6-x86_64-3.5/statsmodels/datasets/spector\n",
      "    copying statsmodels/datasets/spector/__init__.py -> build/lib.macosx-10.6-x86_64-3.5/statsmodels/datasets/spector\n",
      "    copying statsmodels/datasets/spector/data.py -> build/lib.macosx-10.6-x86_64-3.5/statsmodels/datasets/spector\n",
      "    creating build/lib.macosx-10.6-x86_64-3.5/statsmodels/datasets/stackloss\n",
      "    copying statsmodels/datasets/stackloss/__init__.py -> build/lib.macosx-10.6-x86_64-3.5/statsmodels/datasets/stackloss\n",
      "    copying statsmodels/datasets/stackloss/data.py -> build/lib.macosx-10.6-x86_64-3.5/statsmodels/datasets/stackloss\n",
      "    creating build/lib.macosx-10.6-x86_64-3.5/statsmodels/datasets/star98\n",
      "    copying statsmodels/datasets/star98/__init__.py -> build/lib.macosx-10.6-x86_64-3.5/statsmodels/datasets/star98\n",
      "    copying statsmodels/datasets/star98/data.py -> build/lib.macosx-10.6-x86_64-3.5/statsmodels/datasets/star98\n",
      "    creating build/lib.macosx-10.6-x86_64-3.5/statsmodels/datasets/statecrime\n",
      "    copying statsmodels/datasets/statecrime/__init__.py -> build/lib.macosx-10.6-x86_64-3.5/statsmodels/datasets/statecrime\n",
      "    copying statsmodels/datasets/statecrime/data.py -> build/lib.macosx-10.6-x86_64-3.5/statsmodels/datasets/statecrime\n",
      "    creating build/lib.macosx-10.6-x86_64-3.5/statsmodels/datasets/strikes\n",
      "    copying statsmodels/datasets/strikes/__init__.py -> build/lib.macosx-10.6-x86_64-3.5/statsmodels/datasets/strikes\n",
      "    copying statsmodels/datasets/strikes/data.py -> build/lib.macosx-10.6-x86_64-3.5/statsmodels/datasets/strikes\n",
      "    creating build/lib.macosx-10.6-x86_64-3.5/statsmodels/datasets/sunspots\n",
      "    copying statsmodels/datasets/sunspots/__init__.py -> build/lib.macosx-10.6-x86_64-3.5/statsmodels/datasets/sunspots\n",
      "    copying statsmodels/datasets/sunspots/data.py -> build/lib.macosx-10.6-x86_64-3.5/statsmodels/datasets/sunspots\n",
      "    creating build/lib.macosx-10.6-x86_64-3.5/statsmodels/datasets/tests\n",
      "    copying statsmodels/datasets/tests/__init__.py -> build/lib.macosx-10.6-x86_64-3.5/statsmodels/datasets/tests\n",
      "    copying statsmodels/datasets/tests/test_data.py -> build/lib.macosx-10.6-x86_64-3.5/statsmodels/datasets/tests\n",
      "    copying statsmodels/datasets/tests/test_utils.py -> build/lib.macosx-10.6-x86_64-3.5/statsmodels/datasets/tests\n",
      "    creating build/lib.macosx-10.6-x86_64-3.5/statsmodels/discrete/tests\n",
      "    copying statsmodels/discrete/tests/__init__.py -> build/lib.macosx-10.6-x86_64-3.5/statsmodels/discrete/tests\n",
      "    copying statsmodels/discrete/tests/test_constrained.py -> build/lib.macosx-10.6-x86_64-3.5/statsmodels/discrete/tests\n",
      "    copying statsmodels/discrete/tests/test_discrete.py -> build/lib.macosx-10.6-x86_64-3.5/statsmodels/discrete/tests\n",
      "    copying statsmodels/discrete/tests/test_sandwich_cov.py -> build/lib.macosx-10.6-x86_64-3.5/statsmodels/discrete/tests\n",
      "    creating build/lib.macosx-10.6-x86_64-3.5/statsmodels/discrete/tests/results\n",
      "    copying statsmodels/discrete/tests/results/__init__.py -> build/lib.macosx-10.6-x86_64-3.5/statsmodels/discrete/tests/results\n",
      "    copying statsmodels/discrete/tests/results/results_count_robust_cluster.py -> build/lib.macosx-10.6-x86_64-3.5/statsmodels/discrete/tests/results\n",
      "    copying statsmodels/discrete/tests/results/results_discrete.py -> build/lib.macosx-10.6-x86_64-3.5/statsmodels/discrete/tests/results\n",
      "    copying statsmodels/discrete/tests/results/results_glm_logit_constrained.py -> build/lib.macosx-10.6-x86_64-3.5/statsmodels/discrete/tests/results\n",
      "    copying statsmodels/discrete/tests/results/results_poisson_constrained.py -> build/lib.macosx-10.6-x86_64-3.5/statsmodels/discrete/tests/results\n",
      "    creating build/lib.macosx-10.6-x86_64-3.5/statsmodels/distributions/tests\n",
      "    copying statsmodels/distributions/tests/__init__.py -> build/lib.macosx-10.6-x86_64-3.5/statsmodels/distributions/tests\n",
      "    copying statsmodels/distributions/tests/test_ecdf.py -> build/lib.macosx-10.6-x86_64-3.5/statsmodels/distributions/tests\n",
      "    copying statsmodels/distributions/tests/test_edgeworth.py -> build/lib.macosx-10.6-x86_64-3.5/statsmodels/distributions/tests\n",
      "    copying statsmodels/distributions/tests/test_mixture.py -> build/lib.macosx-10.6-x86_64-3.5/statsmodels/distributions/tests\n",
      "    creating build/lib.macosx-10.6-x86_64-3.5/statsmodels/duration/tests\n",
      "    copying statsmodels/duration/tests/__init__.py -> build/lib.macosx-10.6-x86_64-3.5/statsmodels/duration/tests\n",
      "    copying statsmodels/duration/tests/phreg_gentests.py -> build/lib.macosx-10.6-x86_64-3.5/statsmodels/duration/tests\n",
      "    copying statsmodels/duration/tests/survival_enet_r_results.py -> build/lib.macosx-10.6-x86_64-3.5/statsmodels/duration/tests\n",
      "    copying statsmodels/duration/tests/survival_r_results.py -> build/lib.macosx-10.6-x86_64-3.5/statsmodels/duration/tests\n",
      "    copying statsmodels/duration/tests/test_phreg.py -> build/lib.macosx-10.6-x86_64-3.5/statsmodels/duration/tests\n",
      "    copying statsmodels/duration/tests/test_survfunc.py -> build/lib.macosx-10.6-x86_64-3.5/statsmodels/duration/tests\n",
      "    creating build/lib.macosx-10.6-x86_64-3.5/statsmodels/duration/tests/results\n",
      "    copying statsmodels/duration/tests/results/__init__.py -> build/lib.macosx-10.6-x86_64-3.5/statsmodels/duration/tests/results\n",
      "    creating build/lib.macosx-10.6-x86_64-3.5/statsmodels/emplike/tests\n",
      "    copying statsmodels/emplike/tests/__init__.py -> build/lib.macosx-10.6-x86_64-3.5/statsmodels/emplike/tests\n",
      "    copying statsmodels/emplike/tests/test_aft.py -> build/lib.macosx-10.6-x86_64-3.5/statsmodels/emplike/tests\n",
      "    copying statsmodels/emplike/tests/test_anova.py -> build/lib.macosx-10.6-x86_64-3.5/statsmodels/emplike/tests\n",
      "    copying statsmodels/emplike/tests/test_descriptive.py -> build/lib.macosx-10.6-x86_64-3.5/statsmodels/emplike/tests\n",
      "    copying statsmodels/emplike/tests/test_origin.py -> build/lib.macosx-10.6-x86_64-3.5/statsmodels/emplike/tests\n",
      "    copying statsmodels/emplike/tests/test_regression.py -> build/lib.macosx-10.6-x86_64-3.5/statsmodels/emplike/tests\n",
      "    creating build/lib.macosx-10.6-x86_64-3.5/statsmodels/emplike/tests/results\n",
      "    copying statsmodels/emplike/tests/results/__init__.py -> build/lib.macosx-10.6-x86_64-3.5/statsmodels/emplike/tests/results\n",
      "    copying statsmodels/emplike/tests/results/el_results.py -> build/lib.macosx-10.6-x86_64-3.5/statsmodels/emplike/tests/results\n",
      "    creating build/lib.macosx-10.6-x86_64-3.5/statsmodels/formula/tests\n",
      "    copying statsmodels/formula/tests/__init__.py -> build/lib.macosx-10.6-x86_64-3.5/statsmodels/formula/tests\n",
      "    copying statsmodels/formula/tests/test_formula.py -> build/lib.macosx-10.6-x86_64-3.5/statsmodels/formula/tests\n",
      "    creating build/lib.macosx-10.6-x86_64-3.5/statsmodels/genmod/families\n",
      "    copying statsmodels/genmod/families/__init__.py -> build/lib.macosx-10.6-x86_64-3.5/statsmodels/genmod/families\n",
      "    copying statsmodels/genmod/families/family.py -> build/lib.macosx-10.6-x86_64-3.5/statsmodels/genmod/families\n",
      "    copying statsmodels/genmod/families/links.py -> build/lib.macosx-10.6-x86_64-3.5/statsmodels/genmod/families\n",
      "    copying statsmodels/genmod/families/varfuncs.py -> build/lib.macosx-10.6-x86_64-3.5/statsmodels/genmod/families\n",
      "    creating build/lib.macosx-10.6-x86_64-3.5/statsmodels/genmod/tests\n",
      "    copying statsmodels/genmod/tests/__init__.py -> build/lib.macosx-10.6-x86_64-3.5/statsmodels/genmod/tests\n",
      "    copying statsmodels/genmod/tests/gee_categorical_simulation_check.py -> build/lib.macosx-10.6-x86_64-3.5/statsmodels/genmod/tests\n",
      "    copying statsmodels/genmod/tests/gee_gaussian_simulation_check.py -> build/lib.macosx-10.6-x86_64-3.5/statsmodels/genmod/tests\n",
      "    copying statsmodels/genmod/tests/gee_poisson_simulation_check.py -> build/lib.macosx-10.6-x86_64-3.5/statsmodels/genmod/tests\n",
      "    copying statsmodels/genmod/tests/gee_simulation_check.py -> build/lib.macosx-10.6-x86_64-3.5/statsmodels/genmod/tests\n",
      "    copying statsmodels/genmod/tests/glmnet_r_results.py -> build/lib.macosx-10.6-x86_64-3.5/statsmodels/genmod/tests\n",
      "    copying statsmodels/genmod/tests/test_gee.py -> build/lib.macosx-10.6-x86_64-3.5/statsmodels/genmod/tests\n",
      "    copying statsmodels/genmod/tests/test_glm.py -> build/lib.macosx-10.6-x86_64-3.5/statsmodels/genmod/tests\n",
      "    copying statsmodels/genmod/tests/test_glm_weights.py -> build/lib.macosx-10.6-x86_64-3.5/statsmodels/genmod/tests\n",
      "    creating build/lib.macosx-10.6-x86_64-3.5/statsmodels/genmod/families/tests\n",
      "    copying statsmodels/genmod/families/tests/__init__.py -> build/lib.macosx-10.6-x86_64-3.5/statsmodels/genmod/families/tests\n",
      "    copying statsmodels/genmod/families/tests/test_link.py -> build/lib.macosx-10.6-x86_64-3.5/statsmodels/genmod/families/tests\n",
      "    creating build/lib.macosx-10.6-x86_64-3.5/statsmodels/genmod/tests/results\n",
      "    copying statsmodels/genmod/tests/results/__init__.py -> build/lib.macosx-10.6-x86_64-3.5/statsmodels/genmod/tests/results\n",
      "    copying statsmodels/genmod/tests/results/elastic_net_generate_tests.py -> build/lib.macosx-10.6-x86_64-3.5/statsmodels/genmod/tests/results\n",
      "    copying statsmodels/genmod/tests/results/gee_generate_tests.py -> build/lib.macosx-10.6-x86_64-3.5/statsmodels/genmod/tests/results\n",
      "    copying statsmodels/genmod/tests/results/glm_test_resids.py -> build/lib.macosx-10.6-x86_64-3.5/statsmodels/genmod/tests/results\n",
      "    copying statsmodels/genmod/tests/results/results_glm.py -> build/lib.macosx-10.6-x86_64-3.5/statsmodels/genmod/tests/results\n",
      "    copying statsmodels/genmod/tests/results/results_glm_poisson_weights.py -> build/lib.macosx-10.6-x86_64-3.5/statsmodels/genmod/tests/results\n",
      "    creating build/lib.macosx-10.6-x86_64-3.5/statsmodels/graphics/tests\n",
      "    copying statsmodels/graphics/tests/__init__.py -> build/lib.macosx-10.6-x86_64-3.5/statsmodels/graphics/tests\n",
      "    copying statsmodels/graphics/tests/test_boxplots.py -> build/lib.macosx-10.6-x86_64-3.5/statsmodels/graphics/tests\n",
      "    copying statsmodels/graphics/tests/test_correlation.py -> build/lib.macosx-10.6-x86_64-3.5/statsmodels/graphics/tests\n",
      "    copying statsmodels/graphics/tests/test_dotplot.py -> build/lib.macosx-10.6-x86_64-3.5/statsmodels/graphics/tests\n",
      "    copying statsmodels/graphics/tests/test_factorplots.py -> build/lib.macosx-10.6-x86_64-3.5/statsmodels/graphics/tests\n",
      "    copying statsmodels/graphics/tests/test_functional.py -> build/lib.macosx-10.6-x86_64-3.5/statsmodels/graphics/tests\n",
      "    copying statsmodels/graphics/tests/test_gofplots.py -> build/lib.macosx-10.6-x86_64-3.5/statsmodels/graphics/tests\n",
      "    copying statsmodels/graphics/tests/test_mosaicplot.py -> build/lib.macosx-10.6-x86_64-3.5/statsmodels/graphics/tests\n",
      "    copying statsmodels/graphics/tests/test_regressionplots.py -> build/lib.macosx-10.6-x86_64-3.5/statsmodels/graphics/tests\n",
      "    copying statsmodels/graphics/tests/test_tsaplots.py -> build/lib.macosx-10.6-x86_64-3.5/statsmodels/graphics/tests\n",
      "    creating build/lib.macosx-10.6-x86_64-3.5/statsmodels/imputation/tests\n",
      "    copying statsmodels/imputation/tests/__init__.py -> build/lib.macosx-10.6-x86_64-3.5/statsmodels/imputation/tests\n",
      "    copying statsmodels/imputation/tests/test_mice.py -> build/lib.macosx-10.6-x86_64-3.5/statsmodels/imputation/tests\n",
      "    copying statsmodels/imputation/tests/test_ros.py -> build/lib.macosx-10.6-x86_64-3.5/statsmodels/imputation/tests\n",
      "    creating build/lib.macosx-10.6-x86_64-3.5/statsmodels/iolib/tests\n",
      "    copying statsmodels/iolib/tests/__init__.py -> build/lib.macosx-10.6-x86_64-3.5/statsmodels/iolib/tests\n",
      "    copying statsmodels/iolib/tests/test_foreign.py -> build/lib.macosx-10.6-x86_64-3.5/statsmodels/iolib/tests\n",
      "    copying statsmodels/iolib/tests/test_pickle.py -> build/lib.macosx-10.6-x86_64-3.5/statsmodels/iolib/tests\n",
      "    copying statsmodels/iolib/tests/test_summary.py -> build/lib.macosx-10.6-x86_64-3.5/statsmodels/iolib/tests\n",
      "    copying statsmodels/iolib/tests/test_summary_old.py -> build/lib.macosx-10.6-x86_64-3.5/statsmodels/iolib/tests\n",
      "    copying statsmodels/iolib/tests/test_table.py -> build/lib.macosx-10.6-x86_64-3.5/statsmodels/iolib/tests\n",
      "    copying statsmodels/iolib/tests/test_table_econpy.py -> build/lib.macosx-10.6-x86_64-3.5/statsmodels/iolib/tests\n",
      "    creating build/lib.macosx-10.6-x86_64-3.5/statsmodels/iolib/tests/results\n",
      "    copying statsmodels/iolib/tests/results/__init__.py -> build/lib.macosx-10.6-x86_64-3.5/statsmodels/iolib/tests/results\n",
      "    copying statsmodels/iolib/tests/results/macrodata.py -> build/lib.macosx-10.6-x86_64-3.5/statsmodels/iolib/tests/results\n",
      "    creating build/lib.macosx-10.6-x86_64-3.5/statsmodels/miscmodels/tests\n",
      "    copying statsmodels/miscmodels/tests/__init__.py -> build/lib.macosx-10.6-x86_64-3.5/statsmodels/miscmodels/tests\n",
      "    copying statsmodels/miscmodels/tests/results_tmodel.py -> build/lib.macosx-10.6-x86_64-3.5/statsmodels/miscmodels/tests\n",
      "    copying statsmodels/miscmodels/tests/test_generic_mle.py -> build/lib.macosx-10.6-x86_64-3.5/statsmodels/miscmodels/tests\n",
      "    copying statsmodels/miscmodels/tests/test_poisson.py -> build/lib.macosx-10.6-x86_64-3.5/statsmodels/miscmodels/tests\n",
      "    copying statsmodels/miscmodels/tests/test_tarma.py -> build/lib.macosx-10.6-x86_64-3.5/statsmodels/miscmodels/tests\n",
      "    copying statsmodels/miscmodels/tests/test_tmodel.py -> build/lib.macosx-10.6-x86_64-3.5/statsmodels/miscmodels/tests\n",
      "    creating build/lib.macosx-10.6-x86_64-3.5/statsmodels/multivariate/tests\n",
      "    copying statsmodels/multivariate/tests/__init__.py -> build/lib.macosx-10.6-x86_64-3.5/statsmodels/multivariate/tests\n",
      "    copying statsmodels/multivariate/tests/test_pca.py -> build/lib.macosx-10.6-x86_64-3.5/statsmodels/multivariate/tests\n",
      "    creating build/lib.macosx-10.6-x86_64-3.5/statsmodels/multivariate/tests/results\n",
      "    copying statsmodels/multivariate/tests/results/__init__.py -> build/lib.macosx-10.6-x86_64-3.5/statsmodels/multivariate/tests/results\n",
      "    copying statsmodels/multivariate/tests/results/datamlw.py -> build/lib.macosx-10.6-x86_64-3.5/statsmodels/multivariate/tests/results\n",
      "    creating build/lib.macosx-10.6-x86_64-3.5/statsmodels/nonparametric/tests\n",
      "    copying statsmodels/nonparametric/tests/__init__.py -> build/lib.macosx-10.6-x86_64-3.5/statsmodels/nonparametric/tests\n",
      "    copying statsmodels/nonparametric/tests/test_bandwidths.py -> build/lib.macosx-10.6-x86_64-3.5/statsmodels/nonparametric/tests\n",
      "    copying statsmodels/nonparametric/tests/test_kde.py -> build/lib.macosx-10.6-x86_64-3.5/statsmodels/nonparametric/tests\n",
      "    copying statsmodels/nonparametric/tests/test_kernel_density.py -> build/lib.macosx-10.6-x86_64-3.5/statsmodels/nonparametric/tests\n",
      "    copying statsmodels/nonparametric/tests/test_kernel_regression.py -> build/lib.macosx-10.6-x86_64-3.5/statsmodels/nonparametric/tests\n",
      "    copying statsmodels/nonparametric/tests/test_kernels.py -> build/lib.macosx-10.6-x86_64-3.5/statsmodels/nonparametric/tests\n",
      "    copying statsmodels/nonparametric/tests/test_lowess.py -> build/lib.macosx-10.6-x86_64-3.5/statsmodels/nonparametric/tests\n",
      "    creating build/lib.macosx-10.6-x86_64-3.5/statsmodels/nonparametric/tests/results\n",
      "    copying statsmodels/nonparametric/tests/results/__init__.py -> build/lib.macosx-10.6-x86_64-3.5/statsmodels/nonparametric/tests/results\n",
      "    creating build/lib.macosx-10.6-x86_64-3.5/statsmodels/regression/tests\n",
      "    copying statsmodels/regression/tests/__init__.py -> build/lib.macosx-10.6-x86_64-3.5/statsmodels/regression/tests\n",
      "    copying statsmodels/regression/tests/generate_lasso.py -> build/lib.macosx-10.6-x86_64-3.5/statsmodels/regression/tests\n",
      "    copying statsmodels/regression/tests/generate_lme.py -> build/lib.macosx-10.6-x86_64-3.5/statsmodels/regression/tests\n",
      "    copying statsmodels/regression/tests/glmnet_r_results.py -> build/lib.macosx-10.6-x86_64-3.5/statsmodels/regression/tests\n",
      "    copying statsmodels/regression/tests/lme_r_results.py -> build/lib.macosx-10.6-x86_64-3.5/statsmodels/regression/tests\n",
      "    copying statsmodels/regression/tests/results_quantile_regression.py -> build/lib.macosx-10.6-x86_64-3.5/statsmodels/regression/tests\n",
      "    copying statsmodels/regression/tests/test_cov.py -> build/lib.macosx-10.6-x86_64-3.5/statsmodels/regression/tests\n",
      "    copying statsmodels/regression/tests/test_glsar_gretl.py -> build/lib.macosx-10.6-x86_64-3.5/statsmodels/regression/tests\n",
      "    copying statsmodels/regression/tests/test_glsar_stata.py -> build/lib.macosx-10.6-x86_64-3.5/statsmodels/regression/tests\n",
      "    copying statsmodels/regression/tests/test_lme.py -> build/lib.macosx-10.6-x86_64-3.5/statsmodels/regression/tests\n",
      "    copying statsmodels/regression/tests/test_quantile_regression.py -> build/lib.macosx-10.6-x86_64-3.5/statsmodels/regression/tests\n",
      "    copying statsmodels/regression/tests/test_recursive_ls.py -> build/lib.macosx-10.6-x86_64-3.5/statsmodels/regression/tests\n",
      "    copying statsmodels/regression/tests/test_regression.py -> build/lib.macosx-10.6-x86_64-3.5/statsmodels/regression/tests\n",
      "    copying statsmodels/regression/tests/test_robustcov.py -> build/lib.macosx-10.6-x86_64-3.5/statsmodels/regression/tests\n",
      "    copying statsmodels/regression/tests/tests_predict.py -> build/lib.macosx-10.6-x86_64-3.5/statsmodels/regression/tests\n",
      "    creating build/lib.macosx-10.6-x86_64-3.5/statsmodels/regression/tests/results\n",
      "    copying statsmodels/regression/tests/results/__init__.py -> build/lib.macosx-10.6-x86_64-3.5/statsmodels/regression/tests/results\n",
      "    copying statsmodels/regression/tests/results/macro_gr_corc_stata.py -> build/lib.macosx-10.6-x86_64-3.5/statsmodels/regression/tests/results\n",
      "    copying statsmodels/regression/tests/results/results_grunfeld_ols_robust_cluster.py -> build/lib.macosx-10.6-x86_64-3.5/statsmodels/regression/tests/results\n",
      "    copying statsmodels/regression/tests/results/results_macro_ols_robust.py -> build/lib.macosx-10.6-x86_64-3.5/statsmodels/regression/tests/results\n",
      "    copying statsmodels/regression/tests/results/results_regression.py -> build/lib.macosx-10.6-x86_64-3.5/statsmodels/regression/tests/results\n",
      "    creating build/lib.macosx-10.6-x86_64-3.5/statsmodels/robust/tests\n",
      "    copying statsmodels/robust/tests/__init__.py -> build/lib.macosx-10.6-x86_64-3.5/statsmodels/robust/tests\n",
      "    copying statsmodels/robust/tests/test_rlm.py -> build/lib.macosx-10.6-x86_64-3.5/statsmodels/robust/tests\n",
      "    copying statsmodels/robust/tests/test_scale.py -> build/lib.macosx-10.6-x86_64-3.5/statsmodels/robust/tests\n",
      "    creating build/lib.macosx-10.6-x86_64-3.5/statsmodels/robust/tests/results\n",
      "    copying statsmodels/robust/tests/results/__init__.py -> build/lib.macosx-10.6-x86_64-3.5/statsmodels/robust/tests/results\n",
      "    copying statsmodels/robust/tests/results/results_rlm.py -> build/lib.macosx-10.6-x86_64-3.5/statsmodels/robust/tests/results\n",
      "    creating build/lib.macosx-10.6-x86_64-3.5/statsmodels/sandbox/archive\n",
      "    copying statsmodels/sandbox/archive/__init__.py -> build/lib.macosx-10.6-x86_64-3.5/statsmodels/sandbox/archive\n",
      "    copying statsmodels/sandbox/archive/linalg_covmat.py -> build/lib.macosx-10.6-x86_64-3.5/statsmodels/sandbox/archive\n",
      "    copying statsmodels/sandbox/archive/linalg_decomp_1.py -> build/lib.macosx-10.6-x86_64-3.5/statsmodels/sandbox/archive\n",
      "    copying statsmodels/sandbox/archive/tsa.py -> build/lib.macosx-10.6-x86_64-3.5/statsmodels/sandbox/archive\n",
      "    creating build/lib.macosx-10.6-x86_64-3.5/statsmodels/sandbox/datarich\n",
      "    copying statsmodels/sandbox/datarich/__init__.py -> build/lib.macosx-10.6-x86_64-3.5/statsmodels/sandbox/datarich\n",
      "    copying statsmodels/sandbox/datarich/factormodels.py -> build/lib.macosx-10.6-x86_64-3.5/statsmodels/sandbox/datarich\n",
      "    creating build/lib.macosx-10.6-x86_64-3.5/statsmodels/sandbox/distributions\n",
      "    copying statsmodels/sandbox/distributions/__init__.py -> build/lib.macosx-10.6-x86_64-3.5/statsmodels/sandbox/distributions\n",
      "    copying statsmodels/sandbox/distributions/copula.py -> build/lib.macosx-10.6-x86_64-3.5/statsmodels/sandbox/distributions\n",
      "    copying statsmodels/sandbox/distributions/estimators.py -> build/lib.macosx-10.6-x86_64-3.5/statsmodels/sandbox/distributions\n",
      "    copying statsmodels/sandbox/distributions/extras.py -> build/lib.macosx-10.6-x86_64-3.5/statsmodels/sandbox/distributions\n",
      "    copying statsmodels/sandbox/distributions/genpareto.py -> build/lib.macosx-10.6-x86_64-3.5/statsmodels/sandbox/distributions\n",
      "    copying statsmodels/sandbox/distributions/gof_new.py -> build/lib.macosx-10.6-x86_64-3.5/statsmodels/sandbox/distributions\n",
      "    copying statsmodels/sandbox/distributions/multivariate.py -> build/lib.macosx-10.6-x86_64-3.5/statsmodels/sandbox/distributions\n",
      "    copying statsmodels/sandbox/distributions/mv_measures.py -> build/lib.macosx-10.6-x86_64-3.5/statsmodels/sandbox/distributions\n",
      "    copying statsmodels/sandbox/distributions/mv_normal.py -> build/lib.macosx-10.6-x86_64-3.5/statsmodels/sandbox/distributions\n",
      "    copying statsmodels/sandbox/distributions/otherdist.py -> build/lib.macosx-10.6-x86_64-3.5/statsmodels/sandbox/distributions\n",
      "    copying statsmodels/sandbox/distributions/quantize.py -> build/lib.macosx-10.6-x86_64-3.5/statsmodels/sandbox/distributions\n",
      "    copying statsmodels/sandbox/distributions/sppatch.py -> build/lib.macosx-10.6-x86_64-3.5/statsmodels/sandbox/distributions\n",
      "    copying statsmodels/sandbox/distributions/transform_functions.py -> build/lib.macosx-10.6-x86_64-3.5/statsmodels/sandbox/distributions\n",
      "    copying statsmodels/sandbox/distributions/transformed.py -> build/lib.macosx-10.6-x86_64-3.5/statsmodels/sandbox/distributions\n",
      "    copying statsmodels/sandbox/distributions/try_max.py -> build/lib.macosx-10.6-x86_64-3.5/statsmodels/sandbox/distributions\n",
      "    copying statsmodels/sandbox/distributions/try_pot.py -> build/lib.macosx-10.6-x86_64-3.5/statsmodels/sandbox/distributions\n",
      "    creating build/lib.macosx-10.6-x86_64-3.5/statsmodels/sandbox/mcevaluate\n",
      "    copying statsmodels/sandbox/mcevaluate/__init__.py -> build/lib.macosx-10.6-x86_64-3.5/statsmodels/sandbox/mcevaluate\n",
      "    copying statsmodels/sandbox/mcevaluate/arma.py -> build/lib.macosx-10.6-x86_64-3.5/statsmodels/sandbox/mcevaluate\n",
      "    creating build/lib.macosx-10.6-x86_64-3.5/statsmodels/sandbox/nonparametric\n",
      "    copying statsmodels/sandbox/nonparametric/__init__.py -> build/lib.macosx-10.6-x86_64-3.5/statsmodels/sandbox/nonparametric\n",
      "    copying statsmodels/sandbox/nonparametric/densityorthopoly.py -> build/lib.macosx-10.6-x86_64-3.5/statsmodels/sandbox/nonparametric\n",
      "    copying statsmodels/sandbox/nonparametric/dgp_examples.py -> build/lib.macosx-10.6-x86_64-3.5/statsmodels/sandbox/nonparametric\n",
      "    copying statsmodels/sandbox/nonparametric/kde2.py -> build/lib.macosx-10.6-x86_64-3.5/statsmodels/sandbox/nonparametric\n",
      "    copying statsmodels/sandbox/nonparametric/kdecovclass.py -> build/lib.macosx-10.6-x86_64-3.5/statsmodels/sandbox/nonparametric\n",
      "    copying statsmodels/sandbox/nonparametric/kernel_extras.py -> build/lib.macosx-10.6-x86_64-3.5/statsmodels/sandbox/nonparametric\n",
      "    copying statsmodels/sandbox/nonparametric/kernels.py -> build/lib.macosx-10.6-x86_64-3.5/statsmodels/sandbox/nonparametric\n",
      "    copying statsmodels/sandbox/nonparametric/smoothers.py -> build/lib.macosx-10.6-x86_64-3.5/statsmodels/sandbox/nonparametric\n",
      "    copying statsmodels/sandbox/nonparametric/testdata.py -> build/lib.macosx-10.6-x86_64-3.5/statsmodels/sandbox/nonparametric\n",
      "    creating build/lib.macosx-10.6-x86_64-3.5/statsmodels/sandbox/panel\n",
      "    copying statsmodels/sandbox/panel/__init__.py -> build/lib.macosx-10.6-x86_64-3.5/statsmodels/sandbox/panel\n",
      "    copying statsmodels/sandbox/panel/correlation_structures.py -> build/lib.macosx-10.6-x86_64-3.5/statsmodels/sandbox/panel\n",
      "    copying statsmodels/sandbox/panel/mixed.py -> build/lib.macosx-10.6-x86_64-3.5/statsmodels/sandbox/panel\n",
      "    copying statsmodels/sandbox/panel/panel_short.py -> build/lib.macosx-10.6-x86_64-3.5/statsmodels/sandbox/panel\n",
      "    copying statsmodels/sandbox/panel/panelmod.py -> build/lib.macosx-10.6-x86_64-3.5/statsmodels/sandbox/panel\n",
      "    copying statsmodels/sandbox/panel/random_panel.py -> build/lib.macosx-10.6-x86_64-3.5/statsmodels/sandbox/panel\n",
      "    copying statsmodels/sandbox/panel/sandwich_covariance.py -> build/lib.macosx-10.6-x86_64-3.5/statsmodels/sandbox/panel\n",
      "    copying statsmodels/sandbox/panel/sandwich_covariance_generic.py -> build/lib.macosx-10.6-x86_64-3.5/statsmodels/sandbox/panel\n",
      "    creating build/lib.macosx-10.6-x86_64-3.5/statsmodels/sandbox/regression\n",
      "    copying statsmodels/sandbox/regression/__init__.py -> build/lib.macosx-10.6-x86_64-3.5/statsmodels/sandbox/regression\n",
      "    copying statsmodels/sandbox/regression/anova_nistcertified.py -> build/lib.macosx-10.6-x86_64-3.5/statsmodels/sandbox/regression\n",
      "    copying statsmodels/sandbox/regression/ar_panel.py -> build/lib.macosx-10.6-x86_64-3.5/statsmodels/sandbox/regression\n",
      "    copying statsmodels/sandbox/regression/example_kernridge.py -> build/lib.macosx-10.6-x86_64-3.5/statsmodels/sandbox/regression\n",
      "    copying statsmodels/sandbox/regression/gmm.py -> build/lib.macosx-10.6-x86_64-3.5/statsmodels/sandbox/regression\n",
      "    copying statsmodels/sandbox/regression/kernridgeregress_class.py -> build/lib.macosx-10.6-x86_64-3.5/statsmodels/sandbox/regression\n",
      "    copying statsmodels/sandbox/regression/ols_anova_original.py -> build/lib.macosx-10.6-x86_64-3.5/statsmodels/sandbox/regression\n",
      "    copying statsmodels/sandbox/regression/onewaygls.py -> build/lib.macosx-10.6-x86_64-3.5/statsmodels/sandbox/regression\n",
      "    copying statsmodels/sandbox/regression/penalized.py -> build/lib.macosx-10.6-x86_64-3.5/statsmodels/sandbox/regression\n",
      "    copying statsmodels/sandbox/regression/predstd.py -> build/lib.macosx-10.6-x86_64-3.5/statsmodels/sandbox/regression\n",
      "    copying statsmodels/sandbox/regression/runmnl.py -> build/lib.macosx-10.6-x86_64-3.5/statsmodels/sandbox/regression\n",
      "    copying statsmodels/sandbox/regression/sympy_diff.py -> build/lib.macosx-10.6-x86_64-3.5/statsmodels/sandbox/regression\n",
      "    copying statsmodels/sandbox/regression/tools.py -> build/lib.macosx-10.6-x86_64-3.5/statsmodels/sandbox/regression\n",
      "    copying statsmodels/sandbox/regression/treewalkerclass.py -> build/lib.macosx-10.6-x86_64-3.5/statsmodels/sandbox/regression\n",
      "    copying statsmodels/sandbox/regression/try_catdata.py -> build/lib.macosx-10.6-x86_64-3.5/statsmodels/sandbox/regression\n",
      "    copying statsmodels/sandbox/regression/try_ols_anova.py -> build/lib.macosx-10.6-x86_64-3.5/statsmodels/sandbox/regression\n",
      "    copying statsmodels/sandbox/regression/try_treewalker.py -> build/lib.macosx-10.6-x86_64-3.5/statsmodels/sandbox/regression\n",
      "    creating build/lib.macosx-10.6-x86_64-3.5/statsmodels/sandbox/stats\n",
      "    copying statsmodels/sandbox/stats/__init__.py -> build/lib.macosx-10.6-x86_64-3.5/statsmodels/sandbox/stats\n",
      "    copying statsmodels/sandbox/stats/contrast_tools.py -> build/lib.macosx-10.6-x86_64-3.5/statsmodels/sandbox/stats\n",
      "    copying statsmodels/sandbox/stats/diagnostic.py -> build/lib.macosx-10.6-x86_64-3.5/statsmodels/sandbox/stats\n",
      "    copying statsmodels/sandbox/stats/ex_newtests.py -> build/lib.macosx-10.6-x86_64-3.5/statsmodels/sandbox/stats\n",
      "    copying statsmodels/sandbox/stats/multicomp.py -> build/lib.macosx-10.6-x86_64-3.5/statsmodels/sandbox/stats\n",
      "    copying statsmodels/sandbox/stats/runs.py -> build/lib.macosx-10.6-x86_64-3.5/statsmodels/sandbox/stats\n",
      "    copying statsmodels/sandbox/stats/stats_dhuard.py -> build/lib.macosx-10.6-x86_64-3.5/statsmodels/sandbox/stats\n",
      "    copying statsmodels/sandbox/stats/stats_mstats_short.py -> build/lib.macosx-10.6-x86_64-3.5/statsmodels/sandbox/stats\n",
      "    creating build/lib.macosx-10.6-x86_64-3.5/statsmodels/sandbox/tests\n",
      "    copying statsmodels/sandbox/tests/__init__.py -> build/lib.macosx-10.6-x86_64-3.5/statsmodels/sandbox/tests\n",
      "    copying statsmodels/sandbox/tests/datamlw.py -> build/lib.macosx-10.6-x86_64-3.5/statsmodels/sandbox/tests\n",
      "    copying statsmodels/sandbox/tests/maketests_mlabwrap.py -> build/lib.macosx-10.6-x86_64-3.5/statsmodels/sandbox/tests\n",
      "    copying statsmodels/sandbox/tests/model_results.py -> build/lib.macosx-10.6-x86_64-3.5/statsmodels/sandbox/tests\n",
      "    copying statsmodels/sandbox/tests/savervs.py -> build/lib.macosx-10.6-x86_64-3.5/statsmodels/sandbox/tests\n",
      "    copying statsmodels/sandbox/tests/test_formula.py -> build/lib.macosx-10.6-x86_64-3.5/statsmodels/sandbox/tests\n",
      "    copying statsmodels/sandbox/tests/test_gam.py -> build/lib.macosx-10.6-x86_64-3.5/statsmodels/sandbox/tests\n",
      "    copying statsmodels/sandbox/tests/test_pca.py -> build/lib.macosx-10.6-x86_64-3.5/statsmodels/sandbox/tests\n",
      "    copying statsmodels/sandbox/tests/test_predict_functional.py -> build/lib.macosx-10.6-x86_64-3.5/statsmodels/sandbox/tests\n",
      "    creating build/lib.macosx-10.6-x86_64-3.5/statsmodels/sandbox/tools\n",
      "    copying statsmodels/sandbox/tools/__init__.py -> build/lib.macosx-10.6-x86_64-3.5/statsmodels/sandbox/tools\n",
      "    copying statsmodels/sandbox/tools/cross_val.py -> build/lib.macosx-10.6-x86_64-3.5/statsmodels/sandbox/tools\n",
      "    copying statsmodels/sandbox/tools/mctools.py -> build/lib.macosx-10.6-x86_64-3.5/statsmodels/sandbox/tools\n",
      "    copying statsmodels/sandbox/tools/tools_pca.py -> build/lib.macosx-10.6-x86_64-3.5/statsmodels/sandbox/tools\n",
      "    copying statsmodels/sandbox/tools/try_mctools.py -> build/lib.macosx-10.6-x86_64-3.5/statsmodels/sandbox/tools\n",
      "    creating build/lib.macosx-10.6-x86_64-3.5/statsmodels/sandbox/tsa\n",
      "    copying statsmodels/sandbox/tsa/__init__.py -> build/lib.macosx-10.6-x86_64-3.5/statsmodels/sandbox/tsa\n",
      "    copying statsmodels/sandbox/tsa/diffusion.py -> build/lib.macosx-10.6-x86_64-3.5/statsmodels/sandbox/tsa\n",
      "    copying statsmodels/sandbox/tsa/diffusion2.py -> build/lib.macosx-10.6-x86_64-3.5/statsmodels/sandbox/tsa\n",
      "    copying statsmodels/sandbox/tsa/example_arma.py -> build/lib.macosx-10.6-x86_64-3.5/statsmodels/sandbox/tsa\n",
      "    copying statsmodels/sandbox/tsa/fftarma.py -> build/lib.macosx-10.6-x86_64-3.5/statsmodels/sandbox/tsa\n",
      "    copying statsmodels/sandbox/tsa/garch.py -> build/lib.macosx-10.6-x86_64-3.5/statsmodels/sandbox/tsa\n",
      "    copying statsmodels/sandbox/tsa/movstat.py -> build/lib.macosx-10.6-x86_64-3.5/statsmodels/sandbox/tsa\n",
      "    copying statsmodels/sandbox/tsa/try_arma_more.py -> build/lib.macosx-10.6-x86_64-3.5/statsmodels/sandbox/tsa\n",
      "    copying statsmodels/sandbox/tsa/try_fi.py -> build/lib.macosx-10.6-x86_64-3.5/statsmodels/sandbox/tsa\n",
      "    copying statsmodels/sandbox/tsa/try_var_convolve.py -> build/lib.macosx-10.6-x86_64-3.5/statsmodels/sandbox/tsa\n",
      "    copying statsmodels/sandbox/tsa/varma.py -> build/lib.macosx-10.6-x86_64-3.5/statsmodels/sandbox/tsa\n",
      "    creating build/lib.macosx-10.6-x86_64-3.5/statsmodels/sandbox/distributions/examples\n",
      "    copying statsmodels/sandbox/distributions/examples/__init__.py -> build/lib.macosx-10.6-x86_64-3.5/statsmodels/sandbox/distributions/examples\n",
      "    copying statsmodels/sandbox/distributions/examples/ex_extras.py -> build/lib.macosx-10.6-x86_64-3.5/statsmodels/sandbox/distributions/examples\n",
      "    copying statsmodels/sandbox/distributions/examples/ex_fitfr.py -> build/lib.macosx-10.6-x86_64-3.5/statsmodels/sandbox/distributions/examples\n",
      "    copying statsmodels/sandbox/distributions/examples/ex_gof.py -> build/lib.macosx-10.6-x86_64-3.5/statsmodels/sandbox/distributions/examples\n",
      "    copying statsmodels/sandbox/distributions/examples/ex_mvelliptical.py -> build/lib.macosx-10.6-x86_64-3.5/statsmodels/sandbox/distributions/examples\n",
      "    copying statsmodels/sandbox/distributions/examples/ex_transf2.py -> build/lib.macosx-10.6-x86_64-3.5/statsmodels/sandbox/distributions/examples\n",
      "    copying statsmodels/sandbox/distributions/examples/matchdist.py -> build/lib.macosx-10.6-x86_64-3.5/statsmodels/sandbox/distributions/examples\n",
      "    creating build/lib.macosx-10.6-x86_64-3.5/statsmodels/sandbox/distributions/tests\n",
      "    copying statsmodels/sandbox/distributions/tests/__init__.py -> build/lib.macosx-10.6-x86_64-3.5/statsmodels/sandbox/distributions/tests\n",
      "    copying statsmodels/sandbox/distributions/tests/_est_fit.py -> build/lib.macosx-10.6-x86_64-3.5/statsmodels/sandbox/distributions/tests\n",
      "    copying statsmodels/sandbox/distributions/tests/check_moments.py -> build/lib.macosx-10.6-x86_64-3.5/statsmodels/sandbox/distributions/tests\n",
      "    copying statsmodels/sandbox/distributions/tests/distparams.py -> build/lib.macosx-10.6-x86_64-3.5/statsmodels/sandbox/distributions/tests\n",
      "    copying statsmodels/sandbox/distributions/tests/test_extras.py -> build/lib.macosx-10.6-x86_64-3.5/statsmodels/sandbox/distributions/tests\n",
      "    copying statsmodels/sandbox/distributions/tests/test_multivariate.py -> build/lib.macosx-10.6-x86_64-3.5/statsmodels/sandbox/distributions/tests\n",
      "    copying statsmodels/sandbox/distributions/tests/test_norm_expan.py -> build/lib.macosx-10.6-x86_64-3.5/statsmodels/sandbox/distributions/tests\n",
      "    copying statsmodels/sandbox/distributions/tests/testtransf.py -> build/lib.macosx-10.6-x86_64-3.5/statsmodels/sandbox/distributions/tests\n",
      "    creating build/lib.macosx-10.6-x86_64-3.5/statsmodels/sandbox/nonparametric/tests\n",
      "    copying statsmodels/sandbox/nonparametric/tests/__init__.py -> build/lib.macosx-10.6-x86_64-3.5/statsmodels/sandbox/nonparametric/tests\n",
      "    copying statsmodels/sandbox/nonparametric/tests/ex_gam_am_new.py -> build/lib.macosx-10.6-x86_64-3.5/statsmodels/sandbox/nonparametric/tests\n",
      "    copying statsmodels/sandbox/nonparametric/tests/ex_gam_new.py -> build/lib.macosx-10.6-x86_64-3.5/statsmodels/sandbox/nonparametric/tests\n",
      "    copying statsmodels/sandbox/nonparametric/tests/ex_smoothers.py -> build/lib.macosx-10.6-x86_64-3.5/statsmodels/sandbox/nonparametric/tests\n",
      "    copying statsmodels/sandbox/nonparametric/tests/test_kernel_extras.py -> build/lib.macosx-10.6-x86_64-3.5/statsmodels/sandbox/nonparametric/tests\n",
      "    copying statsmodels/sandbox/nonparametric/tests/test_smoothers.py -> build/lib.macosx-10.6-x86_64-3.5/statsmodels/sandbox/nonparametric/tests\n",
      "    creating build/lib.macosx-10.6-x86_64-3.5/statsmodels/sandbox/panel/tests\n",
      "    copying statsmodels/sandbox/panel/tests/__init__.py -> build/lib.macosx-10.6-x86_64-3.5/statsmodels/sandbox/panel/tests\n",
      "    copying statsmodels/sandbox/panel/tests/test_random_panel.py -> build/lib.macosx-10.6-x86_64-3.5/statsmodels/sandbox/panel/tests\n",
      "    creating build/lib.macosx-10.6-x86_64-3.5/statsmodels/sandbox/regression/tests\n",
      "    copying statsmodels/sandbox/regression/tests/__init__.py -> build/lib.macosx-10.6-x86_64-3.5/statsmodels/sandbox/regression/tests\n",
      "    copying statsmodels/sandbox/regression/tests/results_gmm_griliches.py -> build/lib.macosx-10.6-x86_64-3.5/statsmodels/sandbox/regression/tests\n",
      "    copying statsmodels/sandbox/regression/tests/results_gmm_griliches_iter.py -> build/lib.macosx-10.6-x86_64-3.5/statsmodels/sandbox/regression/tests\n",
      "    copying statsmodels/sandbox/regression/tests/results_gmm_poisson.py -> build/lib.macosx-10.6-x86_64-3.5/statsmodels/sandbox/regression/tests\n",
      "    copying statsmodels/sandbox/regression/tests/results_ivreg2_griliches.py -> build/lib.macosx-10.6-x86_64-3.5/statsmodels/sandbox/regression/tests\n",
      "    copying statsmodels/sandbox/regression/tests/test_gmm.py -> build/lib.macosx-10.6-x86_64-3.5/statsmodels/sandbox/regression/tests\n",
      "    copying statsmodels/sandbox/regression/tests/test_gmm_poisson.py -> build/lib.macosx-10.6-x86_64-3.5/statsmodels/sandbox/regression/tests\n",
      "    creating build/lib.macosx-10.6-x86_64-3.5/statsmodels/sandbox/stats/tests\n",
      "    copying statsmodels/sandbox/stats/tests/__init__.py -> build/lib.macosx-10.6-x86_64-3.5/statsmodels/sandbox/stats/tests\n",
      "    creating build/lib.macosx-10.6-x86_64-3.5/statsmodels/stats/libqsturng\n",
      "    copying statsmodels/stats/libqsturng/__init__.py -> build/lib.macosx-10.6-x86_64-3.5/statsmodels/stats/libqsturng\n",
      "    copying statsmodels/stats/libqsturng/make_tbls.py -> build/lib.macosx-10.6-x86_64-3.5/statsmodels/stats/libqsturng\n",
      "    copying statsmodels/stats/libqsturng/qsturng_.py -> build/lib.macosx-10.6-x86_64-3.5/statsmodels/stats/libqsturng\n",
      "    creating build/lib.macosx-10.6-x86_64-3.5/statsmodels/stats/tests\n",
      "    copying statsmodels/stats/tests/__init__.py -> build/lib.macosx-10.6-x86_64-3.5/statsmodels/stats/tests\n",
      "    copying statsmodels/stats/tests/test_anova.py -> build/lib.macosx-10.6-x86_64-3.5/statsmodels/stats/tests\n",
      "    copying statsmodels/stats/tests/test_contingency_tables.py -> build/lib.macosx-10.6-x86_64-3.5/statsmodels/stats/tests\n",
      "    copying statsmodels/stats/tests/test_contrast.py -> build/lib.macosx-10.6-x86_64-3.5/statsmodels/stats/tests\n",
      "    copying statsmodels/stats/tests/test_corrpsd.py -> build/lib.macosx-10.6-x86_64-3.5/statsmodels/stats/tests\n",
      "    copying statsmodels/stats/tests/test_descriptivestats.py -> build/lib.macosx-10.6-x86_64-3.5/statsmodels/stats/tests\n",
      "    copying statsmodels/stats/tests/test_diagnostic.py -> build/lib.macosx-10.6-x86_64-3.5/statsmodels/stats/tests\n",
      "    copying statsmodels/stats/tests/test_gof.py -> build/lib.macosx-10.6-x86_64-3.5/statsmodels/stats/tests\n",
      "    copying statsmodels/stats/tests/test_groups_sw.py -> build/lib.macosx-10.6-x86_64-3.5/statsmodels/stats/tests\n",
      "    copying statsmodels/stats/tests/test_inter_rater.py -> build/lib.macosx-10.6-x86_64-3.5/statsmodels/stats/tests\n",
      "    copying statsmodels/stats/tests/test_mediation.py -> build/lib.macosx-10.6-x86_64-3.5/statsmodels/stats/tests\n",
      "    copying statsmodels/stats/tests/test_moment_helpers.py -> build/lib.macosx-10.6-x86_64-3.5/statsmodels/stats/tests\n",
      "    copying statsmodels/stats/tests/test_multi.py -> build/lib.macosx-10.6-x86_64-3.5/statsmodels/stats/tests\n",
      "    copying statsmodels/stats/tests/test_nonparametric.py -> build/lib.macosx-10.6-x86_64-3.5/statsmodels/stats/tests\n",
      "    copying statsmodels/stats/tests/test_pairwise.py -> build/lib.macosx-10.6-x86_64-3.5/statsmodels/stats/tests\n",
      "    copying statsmodels/stats/tests/test_panel_robustcov.py -> build/lib.macosx-10.6-x86_64-3.5/statsmodels/stats/tests\n",
      "    copying statsmodels/stats/tests/test_power.py -> build/lib.macosx-10.6-x86_64-3.5/statsmodels/stats/tests\n",
      "    copying statsmodels/stats/tests/test_proportion.py -> build/lib.macosx-10.6-x86_64-3.5/statsmodels/stats/tests\n",
      "    copying statsmodels/stats/tests/test_qsturng.py -> build/lib.macosx-10.6-x86_64-3.5/statsmodels/stats/tests\n",
      "    copying statsmodels/stats/tests/test_sandwich.py -> build/lib.macosx-10.6-x86_64-3.5/statsmodels/stats/tests\n",
      "    copying statsmodels/stats/tests/test_statstools.py -> build/lib.macosx-10.6-x86_64-3.5/statsmodels/stats/tests\n",
      "    copying statsmodels/stats/tests/test_tost.py -> build/lib.macosx-10.6-x86_64-3.5/statsmodels/stats/tests\n",
      "    copying statsmodels/stats/tests/test_weightstats.py -> build/lib.macosx-10.6-x86_64-3.5/statsmodels/stats/tests\n",
      "    creating build/lib.macosx-10.6-x86_64-3.5/statsmodels/stats/libqsturng/tests\n",
      "    copying statsmodels/stats/libqsturng/tests/__init__.py -> build/lib.macosx-10.6-x86_64-3.5/statsmodels/stats/libqsturng/tests\n",
      "    copying statsmodels/stats/libqsturng/tests/test_qsturng.py -> build/lib.macosx-10.6-x86_64-3.5/statsmodels/stats/libqsturng/tests\n",
      "    creating build/lib.macosx-10.6-x86_64-3.5/statsmodels/stats/tests/results\n",
      "    copying statsmodels/stats/tests/results/__init__.py -> build/lib.macosx-10.6-x86_64-3.5/statsmodels/stats/tests/results\n",
      "    copying statsmodels/stats/tests/results/results_multinomial_proportions.py -> build/lib.macosx-10.6-x86_64-3.5/statsmodels/stats/tests/results\n",
      "    copying statsmodels/stats/tests/results/results_panelrobust.py -> build/lib.macosx-10.6-x86_64-3.5/statsmodels/stats/tests/results\n",
      "    copying statsmodels/stats/tests/results/results_power.py -> build/lib.macosx-10.6-x86_64-3.5/statsmodels/stats/tests/results\n",
      "    copying statsmodels/stats/tests/results/results_proportion.py -> build/lib.macosx-10.6-x86_64-3.5/statsmodels/stats/tests/results\n",
      "    creating build/lib.macosx-10.6-x86_64-3.5/statsmodels/tools/tests\n",
      "    copying statsmodels/tools/tests/__init__.py -> build/lib.macosx-10.6-x86_64-3.5/statsmodels/tools/tests\n",
      "    copying statsmodels/tools/tests/test_catadd.py -> build/lib.macosx-10.6-x86_64-3.5/statsmodels/tools/tests\n",
      "    copying statsmodels/tools/tests/test_data.py -> build/lib.macosx-10.6-x86_64-3.5/statsmodels/tools/tests\n",
      "    copying statsmodels/tools/tests/test_eval_measures.py -> build/lib.macosx-10.6-x86_64-3.5/statsmodels/tools/tests\n",
      "    copying statsmodels/tools/tests/test_grouputils.py -> build/lib.macosx-10.6-x86_64-3.5/statsmodels/tools/tests\n",
      "    copying statsmodels/tools/tests/test_linalg.py -> build/lib.macosx-10.6-x86_64-3.5/statsmodels/tools/tests\n",
      "    copying statsmodels/tools/tests/test_numdiff.py -> build/lib.macosx-10.6-x86_64-3.5/statsmodels/tools/tests\n",
      "    copying statsmodels/tools/tests/test_parallel.py -> build/lib.macosx-10.6-x86_64-3.5/statsmodels/tools/tests\n",
      "    copying statsmodels/tools/tests/test_rootfinding.py -> build/lib.macosx-10.6-x86_64-3.5/statsmodels/tools/tests\n",
      "    copying statsmodels/tools/tests/test_tools.py -> build/lib.macosx-10.6-x86_64-3.5/statsmodels/tools/tests\n",
      "    copying statsmodels/tools/tests/test_transform_model.py -> build/lib.macosx-10.6-x86_64-3.5/statsmodels/tools/tests\n",
      "    copying statsmodels/tools/tests/test_web.py -> build/lib.macosx-10.6-x86_64-3.5/statsmodels/tools/tests\n",
      "    creating build/lib.macosx-10.6-x86_64-3.5/statsmodels/tsa/base\n",
      "    copying statsmodels/tsa/base/__init__.py -> build/lib.macosx-10.6-x86_64-3.5/statsmodels/tsa/base\n",
      "    copying statsmodels/tsa/base/datetools.py -> build/lib.macosx-10.6-x86_64-3.5/statsmodels/tsa/base\n",
      "    copying statsmodels/tsa/base/tsa_model.py -> build/lib.macosx-10.6-x86_64-3.5/statsmodels/tsa/base\n",
      "    creating build/lib.macosx-10.6-x86_64-3.5/statsmodels/tsa/filters\n",
      "    copying statsmodels/tsa/filters/__init__.py -> build/lib.macosx-10.6-x86_64-3.5/statsmodels/tsa/filters\n",
      "    copying statsmodels/tsa/filters/_utils.py -> build/lib.macosx-10.6-x86_64-3.5/statsmodels/tsa/filters\n",
      "    copying statsmodels/tsa/filters/api.py -> build/lib.macosx-10.6-x86_64-3.5/statsmodels/tsa/filters\n",
      "    copying statsmodels/tsa/filters/bk_filter.py -> build/lib.macosx-10.6-x86_64-3.5/statsmodels/tsa/filters\n",
      "    copying statsmodels/tsa/filters/cf_filter.py -> build/lib.macosx-10.6-x86_64-3.5/statsmodels/tsa/filters\n",
      "    copying statsmodels/tsa/filters/filtertools.py -> build/lib.macosx-10.6-x86_64-3.5/statsmodels/tsa/filters\n",
      "    copying statsmodels/tsa/filters/hp_filter.py -> build/lib.macosx-10.6-x86_64-3.5/statsmodels/tsa/filters\n",
      "    creating build/lib.macosx-10.6-x86_64-3.5/statsmodels/tsa/interp\n",
      "    copying statsmodels/tsa/interp/__init__.py -> build/lib.macosx-10.6-x86_64-3.5/statsmodels/tsa/interp\n",
      "    copying statsmodels/tsa/interp/denton.py -> build/lib.macosx-10.6-x86_64-3.5/statsmodels/tsa/interp\n",
      "    creating build/lib.macosx-10.6-x86_64-3.5/statsmodels/tsa/kalmanf\n",
      "    copying statsmodels/tsa/kalmanf/__init__.py -> build/lib.macosx-10.6-x86_64-3.5/statsmodels/tsa/kalmanf\n",
      "    copying statsmodels/tsa/kalmanf/kalmanfilter.py -> build/lib.macosx-10.6-x86_64-3.5/statsmodels/tsa/kalmanf\n",
      "    creating build/lib.macosx-10.6-x86_64-3.5/statsmodels/tsa/regime_switching\n",
      "    copying statsmodels/tsa/regime_switching/__init__.py -> build/lib.macosx-10.6-x86_64-3.5/statsmodels/tsa/regime_switching\n",
      "    copying statsmodels/tsa/regime_switching/markov_autoregression.py -> build/lib.macosx-10.6-x86_64-3.5/statsmodels/tsa/regime_switching\n",
      "    copying statsmodels/tsa/regime_switching/markov_regression.py -> build/lib.macosx-10.6-x86_64-3.5/statsmodels/tsa/regime_switching\n",
      "    copying statsmodels/tsa/regime_switching/markov_switching.py -> build/lib.macosx-10.6-x86_64-3.5/statsmodels/tsa/regime_switching\n",
      "    creating build/lib.macosx-10.6-x86_64-3.5/statsmodels/tsa/statespace\n",
      "    copying statsmodels/tsa/statespace/__init__.py -> build/lib.macosx-10.6-x86_64-3.5/statsmodels/tsa/statespace\n",
      "    copying statsmodels/tsa/statespace/api.py -> build/lib.macosx-10.6-x86_64-3.5/statsmodels/tsa/statespace\n",
      "    copying statsmodels/tsa/statespace/dynamic_factor.py -> build/lib.macosx-10.6-x86_64-3.5/statsmodels/tsa/statespace\n",
      "    copying statsmodels/tsa/statespace/kalman_filter.py -> build/lib.macosx-10.6-x86_64-3.5/statsmodels/tsa/statespace\n",
      "    copying statsmodels/tsa/statespace/kalman_smoother.py -> build/lib.macosx-10.6-x86_64-3.5/statsmodels/tsa/statespace\n",
      "    copying statsmodels/tsa/statespace/mlemodel.py -> build/lib.macosx-10.6-x86_64-3.5/statsmodels/tsa/statespace\n",
      "    copying statsmodels/tsa/statespace/representation.py -> build/lib.macosx-10.6-x86_64-3.5/statsmodels/tsa/statespace\n",
      "    copying statsmodels/tsa/statespace/sarimax.py -> build/lib.macosx-10.6-x86_64-3.5/statsmodels/tsa/statespace\n",
      "    copying statsmodels/tsa/statespace/structural.py -> build/lib.macosx-10.6-x86_64-3.5/statsmodels/tsa/statespace\n",
      "    copying statsmodels/tsa/statespace/tools.py -> build/lib.macosx-10.6-x86_64-3.5/statsmodels/tsa/statespace\n",
      "    copying statsmodels/tsa/statespace/varmax.py -> build/lib.macosx-10.6-x86_64-3.5/statsmodels/tsa/statespace\n",
      "    creating build/lib.macosx-10.6-x86_64-3.5/statsmodels/tsa/tests\n",
      "    copying statsmodels/tsa/tests/__init__.py -> build/lib.macosx-10.6-x86_64-3.5/statsmodels/tsa/tests\n",
      "    copying statsmodels/tsa/tests/test_adfuller_lag.py -> build/lib.macosx-10.6-x86_64-3.5/statsmodels/tsa/tests\n",
      "    copying statsmodels/tsa/tests/test_ar.py -> build/lib.macosx-10.6-x86_64-3.5/statsmodels/tsa/tests\n",
      "    copying statsmodels/tsa/tests/test_arima.py -> build/lib.macosx-10.6-x86_64-3.5/statsmodels/tsa/tests\n",
      "    copying statsmodels/tsa/tests/test_arima_process.py -> build/lib.macosx-10.6-x86_64-3.5/statsmodels/tsa/tests\n",
      "    copying statsmodels/tsa/tests/test_bds.py -> build/lib.macosx-10.6-x86_64-3.5/statsmodels/tsa/tests\n",
      "    copying statsmodels/tsa/tests/test_seasonal.py -> build/lib.macosx-10.6-x86_64-3.5/statsmodels/tsa/tests\n",
      "    copying statsmodels/tsa/tests/test_stattools.py -> build/lib.macosx-10.6-x86_64-3.5/statsmodels/tsa/tests\n",
      "    copying statsmodels/tsa/tests/test_tsa_tools.py -> build/lib.macosx-10.6-x86_64-3.5/statsmodels/tsa/tests\n",
      "    copying statsmodels/tsa/tests/test_x13.py -> build/lib.macosx-10.6-x86_64-3.5/statsmodels/tsa/tests\n",
      "    creating build/lib.macosx-10.6-x86_64-3.5/statsmodels/tsa/vector_ar\n",
      "    copying statsmodels/tsa/vector_ar/__init__.py -> build/lib.macosx-10.6-x86_64-3.5/statsmodels/tsa/vector_ar\n",
      "    copying statsmodels/tsa/vector_ar/api.py -> build/lib.macosx-10.6-x86_64-3.5/statsmodels/tsa/vector_ar\n",
      "    copying statsmodels/tsa/vector_ar/dynamic.py -> build/lib.macosx-10.6-x86_64-3.5/statsmodels/tsa/vector_ar\n",
      "    copying statsmodels/tsa/vector_ar/irf.py -> build/lib.macosx-10.6-x86_64-3.5/statsmodels/tsa/vector_ar\n",
      "    copying statsmodels/tsa/vector_ar/output.py -> build/lib.macosx-10.6-x86_64-3.5/statsmodels/tsa/vector_ar\n",
      "    copying statsmodels/tsa/vector_ar/plotting.py -> build/lib.macosx-10.6-x86_64-3.5/statsmodels/tsa/vector_ar\n",
      "    copying statsmodels/tsa/vector_ar/svar_model.py -> build/lib.macosx-10.6-x86_64-3.5/statsmodels/tsa/vector_ar\n",
      "    copying statsmodels/tsa/vector_ar/util.py -> build/lib.macosx-10.6-x86_64-3.5/statsmodels/tsa/vector_ar\n",
      "    copying statsmodels/tsa/vector_ar/var_model.py -> build/lib.macosx-10.6-x86_64-3.5/statsmodels/tsa/vector_ar\n",
      "    creating build/lib.macosx-10.6-x86_64-3.5/statsmodels/tsa/base/tests\n",
      "    copying statsmodels/tsa/base/tests/__init__.py -> build/lib.macosx-10.6-x86_64-3.5/statsmodels/tsa/base/tests\n",
      "    copying statsmodels/tsa/base/tests/test_base.py -> build/lib.macosx-10.6-x86_64-3.5/statsmodels/tsa/base/tests\n",
      "    copying statsmodels/tsa/base/tests/test_datetools.py -> build/lib.macosx-10.6-x86_64-3.5/statsmodels/tsa/base/tests\n",
      "    creating build/lib.macosx-10.6-x86_64-3.5/statsmodels/tsa/filters/tests\n",
      "    copying statsmodels/tsa/filters/tests/__init__.py -> build/lib.macosx-10.6-x86_64-3.5/statsmodels/tsa/filters/tests\n",
      "    copying statsmodels/tsa/filters/tests/test_filters.py -> build/lib.macosx-10.6-x86_64-3.5/statsmodels/tsa/filters/tests\n",
      "    creating build/lib.macosx-10.6-x86_64-3.5/statsmodels/tsa/filters/tests/results\n",
      "    copying statsmodels/tsa/filters/tests/results/__init__.py -> build/lib.macosx-10.6-x86_64-3.5/statsmodels/tsa/filters/tests/results\n",
      "    copying statsmodels/tsa/filters/tests/results/filter_results.py -> build/lib.macosx-10.6-x86_64-3.5/statsmodels/tsa/filters/tests/results\n",
      "    creating build/lib.macosx-10.6-x86_64-3.5/statsmodels/tsa/interp/tests\n",
      "    copying statsmodels/tsa/interp/tests/__init__.py -> build/lib.macosx-10.6-x86_64-3.5/statsmodels/tsa/interp/tests\n",
      "    copying statsmodels/tsa/interp/tests/test_denton.py -> build/lib.macosx-10.6-x86_64-3.5/statsmodels/tsa/interp/tests\n",
      "    creating build/lib.macosx-10.6-x86_64-3.5/statsmodels/tsa/regime_switching/tests\n",
      "    copying statsmodels/tsa/regime_switching/tests/__init__.py -> build/lib.macosx-10.6-x86_64-3.5/statsmodels/tsa/regime_switching/tests\n",
      "    copying statsmodels/tsa/regime_switching/tests/test_markov_autoregression.py -> build/lib.macosx-10.6-x86_64-3.5/statsmodels/tsa/regime_switching/tests\n",
      "    copying statsmodels/tsa/regime_switching/tests/test_markov_regression.py -> build/lib.macosx-10.6-x86_64-3.5/statsmodels/tsa/regime_switching/tests\n",
      "    copying statsmodels/tsa/regime_switching/tests/test_markov_switching.py -> build/lib.macosx-10.6-x86_64-3.5/statsmodels/tsa/regime_switching/tests\n",
      "    creating build/lib.macosx-10.6-x86_64-3.5/statsmodels/tsa/regime_switching/tests/results\n",
      "    copying statsmodels/tsa/regime_switching/tests/results/__init__.py -> build/lib.macosx-10.6-x86_64-3.5/statsmodels/tsa/regime_switching/tests/results\n",
      "    creating build/lib.macosx-10.6-x86_64-3.5/statsmodels/tsa/statespace/tests\n",
      "    copying statsmodels/tsa/statespace/tests/__init__.py -> build/lib.macosx-10.6-x86_64-3.5/statsmodels/tsa/statespace/tests\n",
      "    copying statsmodels/tsa/statespace/tests/test_dynamic_factor.py -> build/lib.macosx-10.6-x86_64-3.5/statsmodels/tsa/statespace/tests\n",
      "    copying statsmodels/tsa/statespace/tests/test_kalman.py -> build/lib.macosx-10.6-x86_64-3.5/statsmodels/tsa/statespace/tests\n",
      "    copying statsmodels/tsa/statespace/tests/test_mlemodel.py -> build/lib.macosx-10.6-x86_64-3.5/statsmodels/tsa/statespace/tests\n",
      "    copying statsmodels/tsa/statespace/tests/test_options.py -> build/lib.macosx-10.6-x86_64-3.5/statsmodels/tsa/statespace/tests\n",
      "    copying statsmodels/tsa/statespace/tests/test_prediction.py -> build/lib.macosx-10.6-x86_64-3.5/statsmodels/tsa/statespace/tests\n",
      "    copying statsmodels/tsa/statespace/tests/test_representation.py -> build/lib.macosx-10.6-x86_64-3.5/statsmodels/tsa/statespace/tests\n",
      "    copying statsmodels/tsa/statespace/tests/test_sarimax.py -> build/lib.macosx-10.6-x86_64-3.5/statsmodels/tsa/statespace/tests\n",
      "    copying statsmodels/tsa/statespace/tests/test_save.py -> build/lib.macosx-10.6-x86_64-3.5/statsmodels/tsa/statespace/tests\n",
      "    copying statsmodels/tsa/statespace/tests/test_smoothing.py -> build/lib.macosx-10.6-x86_64-3.5/statsmodels/tsa/statespace/tests\n",
      "    copying statsmodels/tsa/statespace/tests/test_structural.py -> build/lib.macosx-10.6-x86_64-3.5/statsmodels/tsa/statespace/tests\n",
      "    copying statsmodels/tsa/statespace/tests/test_tools.py -> build/lib.macosx-10.6-x86_64-3.5/statsmodels/tsa/statespace/tests\n",
      "    copying statsmodels/tsa/statespace/tests/test_varmax.py -> build/lib.macosx-10.6-x86_64-3.5/statsmodels/tsa/statespace/tests\n",
      "    creating build/lib.macosx-10.6-x86_64-3.5/statsmodels/tsa/statespace/tests/results\n",
      "    copying statsmodels/tsa/statespace/tests/results/__init__.py -> build/lib.macosx-10.6-x86_64-3.5/statsmodels/tsa/statespace/tests/results\n",
      "    copying statsmodels/tsa/statespace/tests/results/results_dynamic_factor.py -> build/lib.macosx-10.6-x86_64-3.5/statsmodels/tsa/statespace/tests/results\n",
      "    copying statsmodels/tsa/statespace/tests/results/results_kalman_filter.py -> build/lib.macosx-10.6-x86_64-3.5/statsmodels/tsa/statespace/tests/results\n",
      "    copying statsmodels/tsa/statespace/tests/results/results_sarimax.py -> build/lib.macosx-10.6-x86_64-3.5/statsmodels/tsa/statespace/tests/results\n",
      "    copying statsmodels/tsa/statespace/tests/results/results_structural.py -> build/lib.macosx-10.6-x86_64-3.5/statsmodels/tsa/statespace/tests/results\n",
      "    copying statsmodels/tsa/statespace/tests/results/results_varmax.py -> build/lib.macosx-10.6-x86_64-3.5/statsmodels/tsa/statespace/tests/results\n",
      "    creating build/lib.macosx-10.6-x86_64-3.5/statsmodels/tsa/tests/results\n",
      "    copying statsmodels/tsa/tests/results/__init__.py -> build/lib.macosx-10.6-x86_64-3.5/statsmodels/tsa/tests/results\n",
      "    copying statsmodels/tsa/tests/results/arima111_css_results.py -> build/lib.macosx-10.6-x86_64-3.5/statsmodels/tsa/tests/results\n",
      "    copying statsmodels/tsa/tests/results/arima111_results.py -> build/lib.macosx-10.6-x86_64-3.5/statsmodels/tsa/tests/results\n",
      "    copying statsmodels/tsa/tests/results/arima111nc_css_results.py -> build/lib.macosx-10.6-x86_64-3.5/statsmodels/tsa/tests/results\n",
      "    copying statsmodels/tsa/tests/results/arima111nc_results.py -> build/lib.macosx-10.6-x86_64-3.5/statsmodels/tsa/tests/results\n",
      "    copying statsmodels/tsa/tests/results/arima112_css_results.py -> build/lib.macosx-10.6-x86_64-3.5/statsmodels/tsa/tests/results\n",
      "    copying statsmodels/tsa/tests/results/arima112_results.py -> build/lib.macosx-10.6-x86_64-3.5/statsmodels/tsa/tests/results\n",
      "    copying statsmodels/tsa/tests/results/arima112nc_css_results.py -> build/lib.macosx-10.6-x86_64-3.5/statsmodels/tsa/tests/results\n",
      "    copying statsmodels/tsa/tests/results/arima112nc_results.py -> build/lib.macosx-10.6-x86_64-3.5/statsmodels/tsa/tests/results\n",
      "    copying statsmodels/tsa/tests/results/arima211_css_results.py -> build/lib.macosx-10.6-x86_64-3.5/statsmodels/tsa/tests/results\n",
      "    copying statsmodels/tsa/tests/results/arima211_results.py -> build/lib.macosx-10.6-x86_64-3.5/statsmodels/tsa/tests/results\n",
      "    copying statsmodels/tsa/tests/results/arima211nc_css_results.py -> build/lib.macosx-10.6-x86_64-3.5/statsmodels/tsa/tests/results\n",
      "    copying statsmodels/tsa/tests/results/arima211nc_results.py -> build/lib.macosx-10.6-x86_64-3.5/statsmodels/tsa/tests/results\n",
      "    copying statsmodels/tsa/tests/results/datamlw_tls.py -> build/lib.macosx-10.6-x86_64-3.5/statsmodels/tsa/tests/results\n",
      "    copying statsmodels/tsa/tests/results/make_arma.py -> build/lib.macosx-10.6-x86_64-3.5/statsmodels/tsa/tests/results\n",
      "    copying statsmodels/tsa/tests/results/results_ar.py -> build/lib.macosx-10.6-x86_64-3.5/statsmodels/tsa/tests/results\n",
      "    copying statsmodels/tsa/tests/results/results_arima.py -> build/lib.macosx-10.6-x86_64-3.5/statsmodels/tsa/tests/results\n",
      "    copying statsmodels/tsa/tests/results/results_arma.py -> build/lib.macosx-10.6-x86_64-3.5/statsmodels/tsa/tests/results\n",
      "    copying statsmodels/tsa/tests/results/results_process.py -> build/lib.macosx-10.6-x86_64-3.5/statsmodels/tsa/tests/results\n",
      "    copying statsmodels/tsa/tests/results/savedrvs.py -> build/lib.macosx-10.6-x86_64-3.5/statsmodels/tsa/tests/results\n",
      "    creating build/lib.macosx-10.6-x86_64-3.5/statsmodels/tsa/vector_ar/tests\n",
      "    copying statsmodels/tsa/vector_ar/tests/__init__.py -> build/lib.macosx-10.6-x86_64-3.5/statsmodels/tsa/vector_ar/tests\n",
      "    copying statsmodels/tsa/vector_ar/tests/example_svar.py -> build/lib.macosx-10.6-x86_64-3.5/statsmodels/tsa/vector_ar/tests\n",
      "    copying statsmodels/tsa/vector_ar/tests/test_svar.py -> build/lib.macosx-10.6-x86_64-3.5/statsmodels/tsa/vector_ar/tests\n",
      "    copying statsmodels/tsa/vector_ar/tests/test_var.py -> build/lib.macosx-10.6-x86_64-3.5/statsmodels/tsa/vector_ar/tests\n",
      "    creating build/lib.macosx-10.6-x86_64-3.5/statsmodels/tsa/vector_ar/tests/results\n",
      "    copying statsmodels/tsa/vector_ar/tests/results/__init__.py -> build/lib.macosx-10.6-x86_64-3.5/statsmodels/tsa/vector_ar/tests/results\n",
      "    copying statsmodels/tsa/vector_ar/tests/results/results_svar.py -> build/lib.macosx-10.6-x86_64-3.5/statsmodels/tsa/vector_ar/tests/results\n",
      "    copying statsmodels/tsa/vector_ar/tests/results/results_svar_st.py -> build/lib.macosx-10.6-x86_64-3.5/statsmodels/tsa/vector_ar/tests/results\n",
      "    copying statsmodels/tsa/vector_ar/tests/results/results_var.py -> build/lib.macosx-10.6-x86_64-3.5/statsmodels/tsa/vector_ar/tests/results\n",
      "    copying statsmodels/tsa/vector_ar/tests/results/results_var_data.py -> build/lib.macosx-10.6-x86_64-3.5/statsmodels/tsa/vector_ar/tests/results\n",
      "    package init file 'statsmodels/tsa/vector_ar/data/__init__.py' not found (or not a regular file)\n",
      "    copying statsmodels/datasets/anes96/anes96.csv -> build/lib.macosx-10.6-x86_64-3.5/statsmodels/datasets/anes96\n",
      "    copying statsmodels/datasets/cancer/cancer.csv -> build/lib.macosx-10.6-x86_64-3.5/statsmodels/datasets/cancer\n",
      "    copying statsmodels/datasets/ccard/ccard.csv -> build/lib.macosx-10.6-x86_64-3.5/statsmodels/datasets/ccard\n",
      "    copying statsmodels/datasets/china_smoking/china_smoking.csv -> build/lib.macosx-10.6-x86_64-3.5/statsmodels/datasets/china_smoking\n",
      "    copying statsmodels/datasets/co2/co2.csv -> build/lib.macosx-10.6-x86_64-3.5/statsmodels/datasets/co2\n",
      "    copying statsmodels/datasets/committee/committee.csv -> build/lib.macosx-10.6-x86_64-3.5/statsmodels/datasets/committee\n",
      "    copying statsmodels/datasets/copper/copper.csv -> build/lib.macosx-10.6-x86_64-3.5/statsmodels/datasets/copper\n",
      "    copying statsmodels/datasets/cpunish/cpunish.csv -> build/lib.macosx-10.6-x86_64-3.5/statsmodels/datasets/cpunish\n",
      "    copying statsmodels/datasets/elnino/elnino.csv -> build/lib.macosx-10.6-x86_64-3.5/statsmodels/datasets/elnino\n",
      "    copying statsmodels/datasets/engel/engel.csv -> build/lib.macosx-10.6-x86_64-3.5/statsmodels/datasets/engel\n",
      "    copying statsmodels/datasets/fair/fair.csv -> build/lib.macosx-10.6-x86_64-3.5/statsmodels/datasets/fair\n",
      "    copying statsmodels/datasets/fertility/fertility.csv -> build/lib.macosx-10.6-x86_64-3.5/statsmodels/datasets/fertility\n",
      "    copying statsmodels/datasets/grunfeld/grunfeld.csv -> build/lib.macosx-10.6-x86_64-3.5/statsmodels/datasets/grunfeld\n",
      "    copying statsmodels/datasets/heart/heart.csv -> build/lib.macosx-10.6-x86_64-3.5/statsmodels/datasets/heart\n",
      "    copying statsmodels/datasets/longley/longley.csv -> build/lib.macosx-10.6-x86_64-3.5/statsmodels/datasets/longley\n",
      "    copying statsmodels/datasets/macrodata/macrodata.csv -> build/lib.macosx-10.6-x86_64-3.5/statsmodels/datasets/macrodata\n",
      "    copying statsmodels/datasets/macrodata/macrodata.dta -> build/lib.macosx-10.6-x86_64-3.5/statsmodels/datasets/macrodata\n",
      "    copying statsmodels/datasets/modechoice/modechoice.csv -> build/lib.macosx-10.6-x86_64-3.5/statsmodels/datasets/modechoice\n",
      "    copying statsmodels/datasets/nile/nile.csv -> build/lib.macosx-10.6-x86_64-3.5/statsmodels/datasets/nile\n",
      "    copying statsmodels/datasets/randhie/randhie.csv -> build/lib.macosx-10.6-x86_64-3.5/statsmodels/datasets/randhie\n",
      "    copying statsmodels/datasets/scotland/scotvote.csv -> build/lib.macosx-10.6-x86_64-3.5/statsmodels/datasets/scotland\n",
      "    copying statsmodels/datasets/spector/spector.csv -> build/lib.macosx-10.6-x86_64-3.5/statsmodels/datasets/spector\n",
      "    copying statsmodels/datasets/stackloss/stackloss.csv -> build/lib.macosx-10.6-x86_64-3.5/statsmodels/datasets/stackloss\n",
      "    copying statsmodels/datasets/star98/star98.csv -> build/lib.macosx-10.6-x86_64-3.5/statsmodels/datasets/star98\n",
      "    copying statsmodels/datasets/statecrime/statecrime.csv -> build/lib.macosx-10.6-x86_64-3.5/statsmodels/datasets/statecrime\n",
      "    copying statsmodels/datasets/strikes/strikes.csv -> build/lib.macosx-10.6-x86_64-3.5/statsmodels/datasets/strikes\n",
      "    copying statsmodels/datasets/sunspots/sunspots.csv -> build/lib.macosx-10.6-x86_64-3.5/statsmodels/datasets/sunspots\n",
      "    copying statsmodels/datasets/tests/raw.github.com,vincentarelbundock,Rdatasets,master,csv,car,Duncan.csv.zip -> build/lib.macosx-10.6-x86_64-3.5/statsmodels/datasets/tests\n",
      "    copying statsmodels/datasets/tests/raw.github.com,vincentarelbundock,Rdatasets,master,datasets.csv.zip -> build/lib.macosx-10.6-x86_64-3.5/statsmodels/datasets/tests\n",
      "    copying statsmodels/datasets/tests/raw.github.com,vincentarelbundock,Rdatasets,master,doc,car,rst,Duncan.rst.zip -> build/lib.macosx-10.6-x86_64-3.5/statsmodels/datasets/tests\n",
      "    copying statsmodels/discrete/tests/results/mnlogit_resid.csv -> build/lib.macosx-10.6-x86_64-3.5/statsmodels/discrete/tests/results\n",
      "    copying statsmodels/discrete/tests/results/nbinom_resids.csv -> build/lib.macosx-10.6-x86_64-3.5/statsmodels/discrete/tests/results\n",
      "    copying statsmodels/discrete/tests/results/phat_mnlogit.csv -> build/lib.macosx-10.6-x86_64-3.5/statsmodels/discrete/tests/results\n",
      "    copying statsmodels/discrete/tests/results/poisson_resid.csv -> build/lib.macosx-10.6-x86_64-3.5/statsmodels/discrete/tests/results\n",
      "    copying statsmodels/discrete/tests/results/predict_prob_poisson.csv -> build/lib.macosx-10.6-x86_64-3.5/statsmodels/discrete/tests/results\n",
      "    copying statsmodels/discrete/tests/results/ships.csv -> build/lib.macosx-10.6-x86_64-3.5/statsmodels/discrete/tests/results\n",
      "    copying statsmodels/discrete/tests/results/yhat_mnlogit.csv -> build/lib.macosx-10.6-x86_64-3.5/statsmodels/discrete/tests/results\n",
      "    copying statsmodels/discrete/tests/results/yhat_poisson.csv -> build/lib.macosx-10.6-x86_64-3.5/statsmodels/discrete/tests/results\n",
      "    copying statsmodels/discrete/tests/results/mn_logit_summary.txt -> build/lib.macosx-10.6-x86_64-3.5/statsmodels/discrete/tests/results\n",
      "    copying statsmodels/duration/tests/results/bmt.csv -> build/lib.macosx-10.6-x86_64-3.5/statsmodels/duration/tests/results\n",
      "    copying statsmodels/duration/tests/results/bmt_results.csv -> build/lib.macosx-10.6-x86_64-3.5/statsmodels/duration/tests/results\n",
      "    copying statsmodels/duration/tests/results/survival_data_1000_10.csv -> build/lib.macosx-10.6-x86_64-3.5/statsmodels/duration/tests/results\n",
      "    copying statsmodels/duration/tests/results/survival_data_100_5.csv -> build/lib.macosx-10.6-x86_64-3.5/statsmodels/duration/tests/results\n",
      "    copying statsmodels/duration/tests/results/survival_data_20_1.csv -> build/lib.macosx-10.6-x86_64-3.5/statsmodels/duration/tests/results\n",
      "    copying statsmodels/duration/tests/results/survival_data_50_1.csv -> build/lib.macosx-10.6-x86_64-3.5/statsmodels/duration/tests/results\n",
      "    copying statsmodels/duration/tests/results/survival_data_50_2.csv -> build/lib.macosx-10.6-x86_64-3.5/statsmodels/duration/tests/results\n",
      "    copying statsmodels/genmod/tests/results/enet_binomial.csv -> build/lib.macosx-10.6-x86_64-3.5/statsmodels/genmod/tests/results\n",
      "    copying statsmodels/genmod/tests/results/enet_poisson.csv -> build/lib.macosx-10.6-x86_64-3.5/statsmodels/genmod/tests/results\n",
      "    copying statsmodels/genmod/tests/results/epil.csv -> build/lib.macosx-10.6-x86_64-3.5/statsmodels/genmod/tests/results\n",
      "    copying statsmodels/genmod/tests/results/gee_linear_1.csv -> build/lib.macosx-10.6-x86_64-3.5/statsmodels/genmod/tests/results\n",
      "    copying statsmodels/genmod/tests/results/gee_logistic_1.csv -> build/lib.macosx-10.6-x86_64-3.5/statsmodels/genmod/tests/results\n",
      "    copying statsmodels/genmod/tests/results/gee_nested_linear_1.csv -> build/lib.macosx-10.6-x86_64-3.5/statsmodels/genmod/tests/results\n",
      "    copying statsmodels/genmod/tests/results/gee_nominal_1.csv -> build/lib.macosx-10.6-x86_64-3.5/statsmodels/genmod/tests/results\n",
      "    copying statsmodels/genmod/tests/results/gee_ordinal_1.csv -> build/lib.macosx-10.6-x86_64-3.5/statsmodels/genmod/tests/results\n",
      "    copying statsmodels/genmod/tests/results/gee_poisson_1.csv -> build/lib.macosx-10.6-x86_64-3.5/statsmodels/genmod/tests/results\n",
      "    copying statsmodels/genmod/tests/results/igaussident_resids.csv -> build/lib.macosx-10.6-x86_64-3.5/statsmodels/genmod/tests/results\n",
      "    copying statsmodels/genmod/tests/results/inv_gaussian.csv -> build/lib.macosx-10.6-x86_64-3.5/statsmodels/genmod/tests/results\n",
      "    copying statsmodels/genmod/tests/results/iris.csv -> build/lib.macosx-10.6-x86_64-3.5/statsmodels/genmod/tests/results\n",
      "    copying statsmodels/genmod/tests/results/medparlogresids.csv -> build/lib.macosx-10.6-x86_64-3.5/statsmodels/genmod/tests/results\n",
      "    copying statsmodels/genmod/tests/results/stata_cancer_glm.csv -> build/lib.macosx-10.6-x86_64-3.5/statsmodels/genmod/tests/results\n",
      "    copying statsmodels/genmod/tests/results/stata_lbw_glm.csv -> build/lib.macosx-10.6-x86_64-3.5/statsmodels/genmod/tests/results\n",
      "    copying statsmodels/genmod/tests/results/stata_medpar1_glm.csv -> build/lib.macosx-10.6-x86_64-3.5/statsmodels/genmod/tests/results\n",
      "    copying statsmodels/iolib/tests/results/data_missing.dta -> build/lib.macosx-10.6-x86_64-3.5/statsmodels/iolib/tests/results\n",
      "    copying statsmodels/iolib/tests/results/time_series_examples.dta -> build/lib.macosx-10.6-x86_64-3.5/statsmodels/iolib/tests/results\n",
      "    copying statsmodels/nonparametric/tests/results/results_kcde.csv -> build/lib.macosx-10.6-x86_64-3.5/statsmodels/nonparametric/tests/results\n",
      "    copying statsmodels/nonparametric/tests/results/results_kde.csv -> build/lib.macosx-10.6-x86_64-3.5/statsmodels/nonparametric/tests/results\n",
      "    copying statsmodels/nonparametric/tests/results/results_kde_fft.csv -> build/lib.macosx-10.6-x86_64-3.5/statsmodels/nonparametric/tests/results\n",
      "    copying statsmodels/nonparametric/tests/results/results_kde_univ_weights.csv -> build/lib.macosx-10.6-x86_64-3.5/statsmodels/nonparametric/tests/results\n",
      "    copying statsmodels/nonparametric/tests/results/results_kde_weights.csv -> build/lib.macosx-10.6-x86_64-3.5/statsmodels/nonparametric/tests/results\n",
      "    copying statsmodels/nonparametric/tests/results/results_kernel_regression.csv -> build/lib.macosx-10.6-x86_64-3.5/statsmodels/nonparametric/tests/results\n",
      "    copying statsmodels/nonparametric/tests/results/test_lowess_delta.csv -> build/lib.macosx-10.6-x86_64-3.5/statsmodels/nonparametric/tests/results\n",
      "    copying statsmodels/nonparametric/tests/results/test_lowess_frac.csv -> build/lib.macosx-10.6-x86_64-3.5/statsmodels/nonparametric/tests/results\n",
      "    copying statsmodels/nonparametric/tests/results/test_lowess_iter.csv -> build/lib.macosx-10.6-x86_64-3.5/statsmodels/nonparametric/tests/results\n",
      "    copying statsmodels/nonparametric/tests/results/test_lowess_simple.csv -> build/lib.macosx-10.6-x86_64-3.5/statsmodels/nonparametric/tests/results\n",
      "    copying statsmodels/regression/tests/results/lasso_data.csv -> build/lib.macosx-10.6-x86_64-3.5/statsmodels/regression/tests/results\n",
      "    copying statsmodels/regression/tests/results/lme00.csv -> build/lib.macosx-10.6-x86_64-3.5/statsmodels/regression/tests/results\n",
      "    copying statsmodels/regression/tests/results/lme01.csv -> build/lib.macosx-10.6-x86_64-3.5/statsmodels/regression/tests/results\n",
      "    copying statsmodels/regression/tests/results/lme02.csv -> build/lib.macosx-10.6-x86_64-3.5/statsmodels/regression/tests/results\n",
      "    copying statsmodels/regression/tests/results/lme03.csv -> build/lib.macosx-10.6-x86_64-3.5/statsmodels/regression/tests/results\n",
      "    copying statsmodels/regression/tests/results/lme04.csv -> build/lib.macosx-10.6-x86_64-3.5/statsmodels/regression/tests/results\n",
      "    copying statsmodels/regression/tests/results/lme05.csv -> build/lib.macosx-10.6-x86_64-3.5/statsmodels/regression/tests/results\n",
      "    copying statsmodels/regression/tests/results/lme06.csv -> build/lib.macosx-10.6-x86_64-3.5/statsmodels/regression/tests/results\n",
      "    copying statsmodels/regression/tests/results/lme07.csv -> build/lib.macosx-10.6-x86_64-3.5/statsmodels/regression/tests/results\n",
      "    copying statsmodels/regression/tests/results/lme08.csv -> build/lib.macosx-10.6-x86_64-3.5/statsmodels/regression/tests/results\n",
      "    copying statsmodels/regression/tests/results/lme09.csv -> build/lib.macosx-10.6-x86_64-3.5/statsmodels/regression/tests/results\n",
      "    copying statsmodels/regression/tests/results/lme10.csv -> build/lib.macosx-10.6-x86_64-3.5/statsmodels/regression/tests/results\n",
      "    copying statsmodels/regression/tests/results/lme11.csv -> build/lib.macosx-10.6-x86_64-3.5/statsmodels/regression/tests/results\n",
      "    copying statsmodels/regression/tests/results/pastes.csv -> build/lib.macosx-10.6-x86_64-3.5/statsmodels/regression/tests/results\n",
      "    copying statsmodels/regression/tests/results/results_rls_R.csv -> build/lib.macosx-10.6-x86_64-3.5/statsmodels/regression/tests/results\n",
      "    copying statsmodels/regression/tests/results/results_rls_stata.csv -> build/lib.macosx-10.6-x86_64-3.5/statsmodels/regression/tests/results\n",
      "    copying statsmodels/regression/tests/results/leverage_influence_ols_nostars.txt -> build/lib.macosx-10.6-x86_64-3.5/statsmodels/regression/tests/results\n",
      "    copying statsmodels/sandbox/regression/tests/griliches76.dta -> build/lib.macosx-10.6-x86_64-3.5/statsmodels/sandbox/regression/tests\n",
      "    copying statsmodels/sandbox/regression/tests/racd10data_with_transformed.csv -> build/lib.macosx-10.6-x86_64-3.5/statsmodels/sandbox/regression/tests\n",
      "    copying statsmodels/stats/libqsturng/CH.r -> build/lib.macosx-10.6-x86_64-3.5/statsmodels/stats/libqsturng\n",
      "    copying statsmodels/stats/libqsturng/LICENSE.txt -> build/lib.macosx-10.6-x86_64-3.5/statsmodels/stats/libqsturng\n",
      "    copying statsmodels/stats/tests/test_data.txt -> build/lib.macosx-10.6-x86_64-3.5/statsmodels/stats/tests\n",
      "    copying statsmodels/stats/libqsturng/tests/bootleg.dat -> build/lib.macosx-10.6-x86_64-3.5/statsmodels/stats/libqsturng/tests\n",
      "    copying statsmodels/stats/tests/results/bootleg.csv -> build/lib.macosx-10.6-x86_64-3.5/statsmodels/stats/tests/results\n",
      "    copying statsmodels/stats/tests/results/contingency_table_r_results.csv -> build/lib.macosx-10.6-x86_64-3.5/statsmodels/stats/tests/results\n",
      "    copying statsmodels/stats/tests/results/framing.csv -> build/lib.macosx-10.6-x86_64-3.5/statsmodels/stats/tests/results\n",
      "    copying statsmodels/stats/tests/results/influence_measures_bool_R.csv -> build/lib.macosx-10.6-x86_64-3.5/statsmodels/stats/tests/results\n",
      "    copying statsmodels/stats/tests/results/influence_measures_R.csv -> build/lib.macosx-10.6-x86_64-3.5/statsmodels/stats/tests/results\n",
      "    copying statsmodels/stats/tests/results/influence_lsdiag_R.json -> build/lib.macosx-10.6-x86_64-3.5/statsmodels/stats/tests/results\n",
      "    copying statsmodels/tsa/regime_switching/tests/results/mar_filardo.csv -> build/lib.macosx-10.6-x86_64-3.5/statsmodels/tsa/regime_switching/tests/results\n",
      "    copying statsmodels/tsa/regime_switching/tests/results/results_predict_fedfunds.csv -> build/lib.macosx-10.6-x86_64-3.5/statsmodels/tsa/regime_switching/tests/results\n",
      "    copying statsmodels/tsa/regime_switching/tests/results/results_predict_rgnp.csv -> build/lib.macosx-10.6-x86_64-3.5/statsmodels/tsa/regime_switching/tests/results\n",
      "    copying statsmodels/tsa/statespace/tests/results/clark1989.csv -> build/lib.macosx-10.6-x86_64-3.5/statsmodels/tsa/statespace/tests/results\n",
      "    copying statsmodels/tsa/statespace/tests/results/results_clark1989_R.csv -> build/lib.macosx-10.6-x86_64-3.5/statsmodels/tsa/statespace/tests/results\n",
      "    copying statsmodels/tsa/statespace/tests/results/results_dynamic_factor_stata.csv -> build/lib.macosx-10.6-x86_64-3.5/statsmodels/tsa/statespace/tests/results\n",
      "    copying statsmodels/tsa/statespace/tests/results/results_realgdpar_stata.csv -> build/lib.macosx-10.6-x86_64-3.5/statsmodels/tsa/statespace/tests/results\n",
      "    copying statsmodels/tsa/statespace/tests/results/results_sarimax_coverage.csv -> build/lib.macosx-10.6-x86_64-3.5/statsmodels/tsa/statespace/tests/results\n",
      "    copying statsmodels/tsa/statespace/tests/results/results_smoothing_R.csv -> build/lib.macosx-10.6-x86_64-3.5/statsmodels/tsa/statespace/tests/results\n",
      "    copying statsmodels/tsa/statespace/tests/results/results_var_stata.csv -> build/lib.macosx-10.6-x86_64-3.5/statsmodels/tsa/statespace/tests/results\n",
      "    copying statsmodels/tsa/statespace/tests/results/results_varmax_stata.csv -> build/lib.macosx-10.6-x86_64-3.5/statsmodels/tsa/statespace/tests/results\n",
      "    copying statsmodels/tsa/statespace/tests/results/results_wpi1_ar3_matlab_ssm.csv -> build/lib.macosx-10.6-x86_64-3.5/statsmodels/tsa/statespace/tests/results\n",
      "    copying statsmodels/tsa/statespace/tests/results/results_wpi1_ar3_regression.csv -> build/lib.macosx-10.6-x86_64-3.5/statsmodels/tsa/statespace/tests/results\n",
      "    copying statsmodels/tsa/statespace/tests/results/results_wpi1_ar3_stata.csv -> build/lib.macosx-10.6-x86_64-3.5/statsmodels/tsa/statespace/tests/results\n",
      "    copying statsmodels/tsa/statespace/tests/results/results_wpi1_missing_ar3_matlab_ssm.csv -> build/lib.macosx-10.6-x86_64-3.5/statsmodels/tsa/statespace/tests/results\n",
      "    copying statsmodels/tsa/statespace/tests/results/results_wpi1_missing_ar3_regression.csv -> build/lib.macosx-10.6-x86_64-3.5/statsmodels/tsa/statespace/tests/results\n",
      "    copying statsmodels/tsa/statespace/tests/results/manufac.dta -> build/lib.macosx-10.6-x86_64-3.5/statsmodels/tsa/statespace/tests/results\n",
      "    copying statsmodels/tsa/tests/results/arima111_forecasts.csv -> build/lib.macosx-10.6-x86_64-3.5/statsmodels/tsa/tests/results\n",
      "    copying statsmodels/tsa/tests/results/arima212_forecast.csv -> build/lib.macosx-10.6-x86_64-3.5/statsmodels/tsa/tests/results\n",
      "    copying statsmodels/tsa/tests/results/ARMLEConstantPredict.csv -> build/lib.macosx-10.6-x86_64-3.5/statsmodels/tsa/tests/results\n",
      "    copying statsmodels/tsa/tests/results/AROLSConstantPredict.csv -> build/lib.macosx-10.6-x86_64-3.5/statsmodels/tsa/tests/results\n",
      "    copying statsmodels/tsa/tests/results/AROLSNoConstantPredict.csv -> build/lib.macosx-10.6-x86_64-3.5/statsmodels/tsa/tests/results\n",
      "    copying statsmodels/tsa/tests/results/bds_data.csv -> build/lib.macosx-10.6-x86_64-3.5/statsmodels/tsa/tests/results\n",
      "    copying statsmodels/tsa/tests/results/bds_results.csv -> build/lib.macosx-10.6-x86_64-3.5/statsmodels/tsa/tests/results\n",
      "    copying statsmodels/tsa/tests/results/resids_css_c.csv -> build/lib.macosx-10.6-x86_64-3.5/statsmodels/tsa/tests/results\n",
      "    copying statsmodels/tsa/tests/results/resids_css_nc.csv -> build/lib.macosx-10.6-x86_64-3.5/statsmodels/tsa/tests/results\n",
      "    copying statsmodels/tsa/tests/results/resids_exact_c.csv -> build/lib.macosx-10.6-x86_64-3.5/statsmodels/tsa/tests/results\n",
      "    copying statsmodels/tsa/tests/results/resids_exact_nc.csv -> build/lib.macosx-10.6-x86_64-3.5/statsmodels/tsa/tests/results\n",
      "    copying statsmodels/tsa/tests/results/results_ar_forecast_mle_dynamic.csv -> build/lib.macosx-10.6-x86_64-3.5/statsmodels/tsa/tests/results\n",
      "    copying statsmodels/tsa/tests/results/results_arima_exog_forecasts_css.csv -> build/lib.macosx-10.6-x86_64-3.5/statsmodels/tsa/tests/results\n",
      "    copying statsmodels/tsa/tests/results/results_arima_exog_forecasts_mle.csv -> build/lib.macosx-10.6-x86_64-3.5/statsmodels/tsa/tests/results\n",
      "    copying statsmodels/tsa/tests/results/results_arima_forecasts.csv -> build/lib.macosx-10.6-x86_64-3.5/statsmodels/tsa/tests/results\n",
      "    copying statsmodels/tsa/tests/results/results_arima_forecasts_all_css.csv -> build/lib.macosx-10.6-x86_64-3.5/statsmodels/tsa/tests/results\n",
      "    copying statsmodels/tsa/tests/results/results_arima_forecasts_all_css_diff.csv -> build/lib.macosx-10.6-x86_64-3.5/statsmodels/tsa/tests/results\n",
      "    copying statsmodels/tsa/tests/results/results_arima_forecasts_all_mle.csv -> build/lib.macosx-10.6-x86_64-3.5/statsmodels/tsa/tests/results\n",
      "    copying statsmodels/tsa/tests/results/results_arima_forecasts_all_mle_diff.csv -> build/lib.macosx-10.6-x86_64-3.5/statsmodels/tsa/tests/results\n",
      "    copying statsmodels/tsa/tests/results/results_arma_forecasts.csv -> build/lib.macosx-10.6-x86_64-3.5/statsmodels/tsa/tests/results\n",
      "    copying statsmodels/tsa/tests/results/results_corrgram.csv -> build/lib.macosx-10.6-x86_64-3.5/statsmodels/tsa/tests/results\n",
      "    copying statsmodels/tsa/tests/results/y_arma_data.csv -> build/lib.macosx-10.6-x86_64-3.5/statsmodels/tsa/tests/results\n",
      "    copying statsmodels/tsa/tests/results/yhat_css_c.csv -> build/lib.macosx-10.6-x86_64-3.5/statsmodels/tsa/tests/results\n",
      "    copying statsmodels/tsa/tests/results/yhat_css_nc.csv -> build/lib.macosx-10.6-x86_64-3.5/statsmodels/tsa/tests/results\n",
      "    copying statsmodels/tsa/tests/results/yhat_exact_c.csv -> build/lib.macosx-10.6-x86_64-3.5/statsmodels/tsa/tests/results\n",
      "    copying statsmodels/tsa/tests/results/yhat_exact_nc.csv -> build/lib.macosx-10.6-x86_64-3.5/statsmodels/tsa/tests/results\n",
      "    copying statsmodels/tsa/vector_ar/tests/results/vars_results.npz -> build/lib.macosx-10.6-x86_64-3.5/statsmodels/tsa/vector_ar/tests/results\n",
      "    creating build/lib.macosx-10.6-x86_64-3.5/statsmodels/tsa/vector_ar/data\n",
      "    copying statsmodels/tsa/vector_ar/data/e1.dat -> build/lib.macosx-10.6-x86_64-3.5/statsmodels/tsa/vector_ar/data\n",
      "    copying statsmodels/tsa/vector_ar/data/e2.dat -> build/lib.macosx-10.6-x86_64-3.5/statsmodels/tsa/vector_ar/data\n",
      "    copying statsmodels/tsa/vector_ar/data/e3.dat -> build/lib.macosx-10.6-x86_64-3.5/statsmodels/tsa/vector_ar/data\n",
      "    copying statsmodels/tsa/vector_ar/data/e4.dat -> build/lib.macosx-10.6-x86_64-3.5/statsmodels/tsa/vector_ar/data\n",
      "    copying statsmodels/tsa/vector_ar/data/e5.dat -> build/lib.macosx-10.6-x86_64-3.5/statsmodels/tsa/vector_ar/data\n",
      "    copying statsmodels/tsa/vector_ar/data/e6.dat -> build/lib.macosx-10.6-x86_64-3.5/statsmodels/tsa/vector_ar/data\n",
      "    running build_ext\n",
      "    building 'statsmodels.nonparametric._smoothers_lowess' extension\n",
      "    C compiler: /usr/bin/clang -Wno-unused-result -Wsign-compare -Wunreachable-code -DNDEBUG -g -fwrapv -O3 -Wall -Wstrict-prototypes -I/Users/jonathanhilgart/anaconda/include -arch x86_64\n",
      "    \n",
      "    creating build/temp.macosx-10.6-x86_64-3.5\n",
      "    creating build/temp.macosx-10.6-x86_64-3.5/statsmodels\n",
      "    creating build/temp.macosx-10.6-x86_64-3.5/statsmodels/nonparametric\n",
      "    compile options: '-I/Users/jonathanhilgart/anaconda/lib/python3.5/site-packages/numpy/core/include -I/Users/jonathanhilgart/anaconda/include/python3.5m -c'\n",
      "    Warning: Can't read registry to find the necessary compiler setting\n",
      "    Make sure that Python modules winreg, win32api or win32con are installed.\n",
      "    clang: statsmodels/nonparametric/_smoothers_lowess.c\n",
      "    xcrun: error: invalid active developer path (/Library/Developer/CommandLineTools), missing xcrun at: /Library/Developer/CommandLineTools/usr/bin/xcrun\n",
      "    xcrun: error: invalid active developer path (/Library/Developer/CommandLineTools), missing xcrun at: /Library/Developer/CommandLineTools/usr/bin/xcrun\n",
      "    error: Command \"/usr/bin/clang -Wno-unused-result -Wsign-compare -Wunreachable-code -DNDEBUG -g -fwrapv -O3 -Wall -Wstrict-prototypes -I/Users/jonathanhilgart/anaconda/include -arch x86_64 -I/Users/jonathanhilgart/anaconda/lib/python3.5/site-packages/numpy/core/include -I/Users/jonathanhilgart/anaconda/include/python3.5m -c statsmodels/nonparametric/_smoothers_lowess.c -o build/temp.macosx-10.6-x86_64-3.5/statsmodels/nonparametric/_smoothers_lowess.o\" failed with exit status 1\n",
      "    \n",
      "    ----------------------------------------\n",
      "\u001b[?25h  Rolling back uninstall of statsmodels\n",
      "\u001b[31mCommand \"/Users/jonathanhilgart/anaconda/bin/python -u -c \"import setuptools, tokenize;__file__='/var/folders/0r/jkhwtgvx0wb9vrk6xn4bmz2m0000gn/T/pip-1v19ngdi-build/setup.py';exec(compile(getattr(tokenize, 'open', open)(__file__).read().replace('\\r\\n', '\\n'), __file__, 'exec'))\" install --record /var/folders/0r/jkhwtgvx0wb9vrk6xn4bmz2m0000gn/T/pip-2idfvr6w-record/install-record.txt --single-version-externally-managed --compile\" failed with error code 1 in /var/folders/0r/jkhwtgvx0wb9vrk6xn4bmz2m0000gn/T/pip-1v19ngdi-build/\u001b[0m\n"
     ]
    }
   ],
   "source": [
    "!pip install git+git://github.com/statsmodels/statsmodels.git"
   ]
  },
  {
   "cell_type": "markdown",
   "metadata": {},
   "source": [
    "_**N.B.**_ If you get a message saying:\n",
    "> Agreeing to the Xcode/iOS license requires admin privileges, please re-run as root via sudo.  \n",
    "\n",
    "_Do **not** do this._ Instead, run Xcode as a normal user, it will automatically ask you to agree to the Xcode/iOS license. Supply your password. Close Xcode and try again."
   ]
  },
  {
   "cell_type": "markdown",
   "metadata": {},
   "source": [
    "### Example 0: Simulated Data\n",
    "\n",
    "So far, we have been assuming that errors are independent and identically distributed (i.i.d.). Consider the idependence assumption: in other words, that order doesn't matter. But what if that's not the case? Consider the following example adapted from [Bayesian Methods for Hackers](https://github.com/CamDavidsonPilon/Probabilistic-Programming-and-Bayesian-Methods-for-Hackers):"
   ]
  },
  {
   "cell_type": "code",
   "execution_count": 5,
   "metadata": {
    "collapsed": false
   },
   "outputs": [
    {
     "name": "stdout",
     "output_type": "stream",
     "text": [
      "Populating the interactive namespace from numpy and matplotlib\n"
     ]
    }
   ],
   "source": [
    "%pylab inline\n",
    "import pandas as pd\n",
    "import seaborn as sns\n",
    "import statsmodels.formula.api as smf"
   ]
  },
  {
   "cell_type": "markdown",
   "metadata": {},
   "source": [
    "### Autocorrelation\n",
    "\n",
    "> Autocorrelation is a measure of how related a series of numbers is with itself. A measurement of 1.0 is perfect positive autocorrelation, 0 no autocorrelation, and -1 is perfect negative correlation.  If you are familiar with standard *correlation*, then autocorrelation is just how correlated a series, $x_\\tau$, at time $t$ is with the series at time $t-k$:\n",
    "> \n",
    "$$R(k) = Corr( x_t, x_{t-k} ) $$\n",
    "> \n",
    "> For example, consider the two series:\n",
    "> \n",
    "$$x_t \\sim \\text{Normal}(0,1), \\;\\; x_0 = 0$$\n",
    "$$y_t \\sim \\text{Normal}(y_{t-1}, 1 ), \\;\\; y_0 = 0$$\n",
    "> \n",
    "> which have example paths like:"
   ]
  },
  {
   "cell_type": "code",
   "execution_count": 3,
   "metadata": {
    "collapsed": false
   },
   "outputs": [
    {
     "data": {
      "image/png": "[encoded data removed]",
      "text/plain": [
       "<matplotlib.figure.Figure at 0x114e31eb8>"
      ]
     },
     "metadata": {},
     "output_type": "display_data"
    }
   ],
   "source": [
    "figsize(12.5, 4)\n",
    "x_t = normal(0, 1, 200)\n",
    "x_t[0] = 0\n",
    "y_t = zeros(200)\n",
    "for t in range(1, 200):\n",
    "    y_t[t] = normal(y_t[t - 1], 1)\n",
    "\n",
    "plot(y_t, label=\"$y_t$\")\n",
    "plot(x_t, label=\"$x_t$\")\n",
    "xlabel(\"time, $t$\")\n",
    "legend();"
   ]
  },
  {
   "cell_type": "markdown",
   "metadata": {},
   "source": [
    "> One way to think of autocorrelation is \"If I know the position of the series at time $s$, can it help me know where I am at time $t$?\" In the series $x_t$, the answer is No. By construction, $x_t$ are random variables. If I told you that $x_2 = 0.5$, could you give me a better guess about $x_3$? No.\n",
    ">  \n",
    "> On the other hand, $y_t$ is autocorrelated. By construction, if I knew that $y_2 = 10$, I can be very confident that $y_3$ will not be very far from 10. Similarly, I can even make a (less confident guess) about $y_4$: it will probably not be near 0 or 20, but a value of 5 is not too unlikely. I can make a similar argument about $y_5$, but again, I am less confident. Taking this to its logical conclusion, we must concede that as $k$, the lag between time points, increases the autocorrelation decreases. We can visualize this:"
   ]
  },
  {
   "cell_type": "code",
   "execution_count": 13,
   "metadata": {
    "collapsed": false
   },
   "outputs": [
    {
     "data": {
      "image/png": "[encoded data removed]",
      "text/plain": [
       "<matplotlib.figure.Figure at 0x1187a39e8>"
      ]
     },
     "metadata": {},
     "output_type": "display_data"
    }
   ],
   "source": [
    "from statsmodels.graphics.tsaplots import plot_acf\n",
    "\n",
    "plot_acf(x_t)\n",
    "plt.title(\"Autocorrelation plot of $x_t$ for differing $k$ lags.\");\n"
   ]
  },
  {
   "cell_type": "code",
   "execution_count": 15,
   "metadata": {
    "collapsed": false
   },
   "outputs": [
    {
     "data": {
      "image/png": "[encoded data removed]",
      "text/plain": [
       "<matplotlib.figure.Figure at 0x1172c10f0>"
      ]
     },
     "metadata": {},
     "output_type": "display_data"
    }
   ],
   "source": [
    "plot_acf(y_t )\n",
    "plt.title(\"Autocorrelation plot of $y_t$ for differing $k$ lags.\");"
   ]
  },
  {
   "cell_type": "markdown",
   "metadata": {},
   "source": [
    "> Notice that as $k$ increases, the autocorrelation of $y_t$ decreases from a very high point. Compare with the autocorrelation of $x_t$ which looks like noise (which it really is), hence we can conclude no autocorrelation exists in this series. "
   ]
  },
  {
   "cell_type": "markdown",
   "metadata": {},
   "source": [
    "### Definition  \n",
    "\n",
    "We assume a time series, $\\{y_t\\}$, has the following properties:  \n",
    "\n",
    "* $y_t$ is an observation of the level of $y$ at time $t$\n",
    "* $\\{y_t\\}$ is time series, i.e., the collection of observations:\n",
    "    * May extend back to $t = 0$ or $t = −\\infty$, depending on the problem.\n",
    "    * E.g., $t \\in \\{0, \\dots, T\\}$\n",
    "\n",
    "### Assumptions  \n",
    "\n",
    "We assume:  \n",
    "* Discrete time:\n",
    "    * Sampling at regular intervals\n",
    "    * even if process is continuous\n",
    "* Evenly spaced observations\n",
    "* No missing observations"
   ]
  },
  {
   "cell_type": "markdown",
   "metadata": {},
   "source": [
    "## Autoregressive Models\n",
    "\n",
    "<!-- https://onlinecourses.science.psu.edu/stat501/node/358 -->\n",
    "\n",
    "> A **time series** is a sequence of measurements of the same variable(s) made over time.  Usually the measurements are made at evenly spaced times - for example,  monthly or yearly. Let us first consider the problem in which  we have a $y$-variable measured as a time  series. As an example, we might have $y$ a measure of global temperature, with measurements observed each year. To emphasize that we have measured values over time, we use \"$t$\" as a subscript rather than the usual \"$i$\", $i.e.~y_t$ means $y$ measured in time period $t$. An **autoregressive model** is when a value from a time series is regressed on previous values from that same time series. for example, $y_t$ on $y_{t-1}$:  \n",
    ">  \n",
    "$$y_{t}=\\beta_{0}+\\beta_{1}y_{t-1}+\\epsilon_{t}$$\n",
    ">  \n",
    "> In this regression model, the response variable in the previous time period has become the predictor and the errors have our usual assumptions about errors in a simple linear regression model. The **order** of an autoregression is the number of immediately preceding values in the series that are used to predict the value at the present time. So, the preceding model is a first-order autoregression, written as AR(1).  \n",
    "\n",
    "> If we want to predict $y$ this year ($y_t$) using measurements of global temperature in the previous two years ($y_{t−1},y_{t−2}$), then the autoregressive model for doing so would be:\n",
    ">  \n",
    "$$y_{t}=\\beta_{0}+\\beta_{1}y_{t-1}+\\beta_{2}y_{t-2}+\\epsilon_{t}$$\n",
    ">  \n",
    "> This model is a second-order autoregression, written as AR(2), since the value at time $t$ is predicted from the values at times $t-1$ and $t-2$. More generally, a $k^{\\textrm{th}}$-order autoregression, written as AR($k$), is a multiple linear regression in which the value of the series at any time $t$ is a (linear) function of the values at times $t-1,t-2,\\ldots,t-k$."
   ]
  },
  {
   "cell_type": "markdown",
   "metadata": {
    "collapsed": true
   },
   "source": [
    "### Autocorrelation and Partial Autocorrelation\n",
    "> The coefficient of correlation between two values in a time series is called the **autocorrelation function** (**ACF**) For example the ACF for a time series $y_t$ is given by:  \n",
    ">  \n",
    "$$\\mbox{Corr}(y_{t},y_{t-k})$$\n",
    ">  \n",
    "> This value of $k$ is the time gap being considered and is called the **lag**. A **lag 1** autocorrelation ($i.e.~k = 1$ in the above) is the correlation between values that are one time period apart. More generally, a **lag $k$** autocorrelation is the correlation between values that are $k$ time periods apart.\n",
    ">  \n",
    "> The ACF is a way to measure the linear relationship between an observation at time $t$ and the observations at previous times. \n",
    "\n",
    "\n",
    "<!--If we assume an AR($k$) model, then we may wish to only measure the association between $y_t$ and $y_{t−k}$ and filter out the linear influence of the random variables that lie in between $(i.e.~y_{t-1},y_{t-2},\\ldots,y_{t-(k-1)})$, which requires a transformation on the time series. Then by calculating the correlation of the transformed time series we obtain the **partial autocorrelation function** (**PACF**).  \n",
    ">  \n",
    "> The PACF is most useful for identifying the order of an autoregressive model. Specifically, sample partial autocorrelations that are significantly different from 0 indicate lagged terms of $y$ that are useful predictors of $y_t$.\n",
    "-->"
   ]
  },
  {
   "cell_type": "markdown",
   "metadata": {
    "collapsed": true
   },
   "source": [
    "### Example 1: Google Data"
   ]
  },
  {
   "cell_type": "code",
   "execution_count": 16,
   "metadata": {
    "collapsed": false
   },
   "outputs": [
    {
     "name": "stdout",
     "output_type": "stream",
     "text": [
      "Collecting pandas_datareader\n",
      "  Downloading pandas_datareader-0.2.1-py2.py3-none-any.whl\n",
      "Requirement already satisfied (use --upgrade to upgrade): requests in /Users/jonathanhilgart/anaconda/lib/python3.5/site-packages (from pandas_datareader)\n",
      "Collecting requests-file (from pandas_datareader)\n",
      "  Downloading requests-file-1.4.tar.gz\n",
      "Requirement already satisfied (use --upgrade to upgrade): pandas in /Users/jonathanhilgart/anaconda/lib/python3.5/site-packages (from pandas_datareader)\n",
      "Requirement already satisfied (use --upgrade to upgrade): six in /Users/jonathanhilgart/anaconda/lib/python3.5/site-packages (from requests-file->pandas_datareader)\n",
      "Requirement already satisfied (use --upgrade to upgrade): python-dateutil>=2 in /Users/jonathanhilgart/anaconda/lib/python3.5/site-packages (from pandas->pandas_datareader)\n",
      "Requirement already satisfied (use --upgrade to upgrade): pytz>=2011k in /Users/jonathanhilgart/anaconda/lib/python3.5/site-packages (from pandas->pandas_datareader)\n",
      "Requirement already satisfied (use --upgrade to upgrade): numpy>=1.7.0 in /Users/jonathanhilgart/anaconda/lib/python3.5/site-packages (from pandas->pandas_datareader)\n",
      "Building wheels for collected packages: requests-file\n",
      "  Running setup.py bdist_wheel for requests-file ... \u001b[?25l-\b \b\\\b \bdone\n",
      "\u001b[?25h  Stored in directory: /Users/jonathanhilgart/Library/Caches/pip/wheels/a4/4c/1c/8f22cae3cebc5e0b7da07bbf4feee223c2c86702e391c47df0\n",
      "Successfully built requests-file\n",
      "Installing collected packages: requests-file, pandas-datareader\n",
      "Successfully installed pandas-datareader-0.2.1 requests-file-1.4\n"
     ]
    }
   ],
   "source": [
    "!pip install pandas_datareader"
   ]
  },
  {
   "cell_type": "code",
   "execution_count": 17,
   "metadata": {
    "collapsed": false
   },
   "outputs": [],
   "source": [
    "import pandas_datareader.data as web"
   ]
  },
  {
   "cell_type": "code",
   "execution_count": 22,
   "metadata": {
    "collapsed": false
   },
   "outputs": [
    {
     "data": {
      "text/html": [
       "<div>\n",
       "<table border=\"1\" class=\"dataframe\">\n",
       "  <thead>\n",
       "    <tr style=\"text-align: right;\">\n",
       "      <th></th>\n",
       "      <th>Open</th>\n",
       "      <th>High</th>\n",
       "      <th>Low</th>\n",
       "      <th>Close</th>\n",
       "      <th>Volume</th>\n",
       "      <th>Adj Close</th>\n",
       "    </tr>\n",
       "  </thead>\n",
       "  <tbody>\n",
       "    <tr>\n",
       "      <th>count</th>\n",
       "      <td>105.000000</td>\n",
       "      <td>105.000000</td>\n",
       "      <td>105.000000</td>\n",
       "      <td>105.000000</td>\n",
       "      <td>1.050000e+02</td>\n",
       "      <td>105.000000</td>\n",
       "    </tr>\n",
       "    <tr>\n",
       "      <th>mean</th>\n",
       "      <td>224.379147</td>\n",
       "      <td>227.418199</td>\n",
       "      <td>221.583904</td>\n",
       "      <td>224.715624</td>\n",
       "      <td>2.529376e+07</td>\n",
       "      <td>112.245566</td>\n",
       "    </tr>\n",
       "    <tr>\n",
       "      <th>std</th>\n",
       "      <td>42.687043</td>\n",
       "      <td>43.569845</td>\n",
       "      <td>42.004527</td>\n",
       "      <td>42.976076</td>\n",
       "      <td>1.374880e+07</td>\n",
       "      <td>21.466571</td>\n",
       "    </tr>\n",
       "    <tr>\n",
       "      <th>min</th>\n",
       "      <td>175.300300</td>\n",
       "      <td>178.400306</td>\n",
       "      <td>172.570298</td>\n",
       "      <td>174.990304</td>\n",
       "      <td>7.438100e+06</td>\n",
       "      <td>87.407744</td>\n",
       "    </tr>\n",
       "    <tr>\n",
       "      <th>25%</th>\n",
       "      <td>187.730329</td>\n",
       "      <td>189.850325</td>\n",
       "      <td>185.070321</td>\n",
       "      <td>187.400315</td>\n",
       "      <td>1.527420e+07</td>\n",
       "      <td>93.606551</td>\n",
       "    </tr>\n",
       "    <tr>\n",
       "      <th>50%</th>\n",
       "      <td>217.820375</td>\n",
       "      <td>220.850371</td>\n",
       "      <td>214.260367</td>\n",
       "      <td>215.810363</td>\n",
       "      <td>2.092220e+07</td>\n",
       "      <td>107.797384</td>\n",
       "    </tr>\n",
       "    <tr>\n",
       "      <th>75%</th>\n",
       "      <td>269.430470</td>\n",
       "      <td>277.300478</td>\n",
       "      <td>267.430444</td>\n",
       "      <td>274.800477</td>\n",
       "      <td>3.318840e+07</td>\n",
       "      <td>137.262976</td>\n",
       "    </tr>\n",
       "    <tr>\n",
       "      <th>max</th>\n",
       "      <td>306.280512</td>\n",
       "      <td>309.250531</td>\n",
       "      <td>302.000514</td>\n",
       "      <td>304.100523</td>\n",
       "      <td>7.741340e+07</td>\n",
       "      <td>151.898363</td>\n",
       "    </tr>\n",
       "  </tbody>\n",
       "</table>\n",
       "</div>"
      ],
      "text/plain": [
       "             Open        High         Low       Close        Volume  \\\n",
       "count  105.000000  105.000000  105.000000  105.000000  1.050000e+02   \n",
       "mean   224.379147  227.418199  221.583904  224.715624  2.529376e+07   \n",
       "std     42.687043   43.569845   42.004527   42.976076  1.374880e+07   \n",
       "min    175.300300  178.400306  172.570298  174.990304  7.438100e+06   \n",
       "25%    187.730329  189.850325  185.070321  187.400315  1.527420e+07   \n",
       "50%    217.820375  220.850371  214.260367  215.810363  2.092220e+07   \n",
       "75%    269.430470  277.300478  267.430444  274.800477  3.318840e+07   \n",
       "max    306.280512  309.250531  302.000514  304.100523  7.741340e+07   \n",
       "\n",
       "        Adj Close  \n",
       "count  105.000000  \n",
       "mean   112.245566  \n",
       "std     21.466571  \n",
       "min     87.407744  \n",
       "25%     93.606551  \n",
       "50%    107.797384  \n",
       "75%    137.262976  \n",
       "max    151.898363  "
      ]
     },
     "execution_count": 22,
     "metadata": {},
     "output_type": "execute_result"
    }
   ],
   "source": [
    "start = datetime.datetime(2005, 2, 7)\n",
    "\n",
    "end = datetime.datetime(2005, 7, 7)\n",
    "\n",
    "goog = web.DataReader(\"GOOG\", 'yahoo', start, end)\n",
    "\n",
    "goog.describe()"
   ]
  },
  {
   "cell_type": "code",
   "execution_count": 23,
   "metadata": {
    "collapsed": false
   },
   "outputs": [
    {
     "data": {
      "image/png": "[encoded data removed]",
      "text/plain": [
       "<matplotlib.figure.Figure at 0x1190e3518>"
      ]
     },
     "metadata": {},
     "output_type": "display_data"
    }
   ],
   "source": [
    "goog.Close.plot();"
   ]
  },
  {
   "cell_type": "markdown",
   "metadata": {},
   "source": [
    "> Consecutive values appear to follow one another fairly closely, suggesting an autoregression model could be appropriate. "
   ]
  },
  {
   "cell_type": "code",
   "execution_count": 24,
   "metadata": {
    "collapsed": false
   },
   "outputs": [
    {
     "data": {
      "image/png": "[encoded data removed]",
      "text/plain": [
       "<matplotlib.figure.Figure at 0x11b320a90>"
      ]
     },
     "metadata": {},
     "output_type": "display_data"
    }
   ],
   "source": [
    "plot_acf(goog.Close, alpha=1.0);"
   ]
  },
  {
   "cell_type": "markdown",
   "metadata": {},
   "source": [
    "This looks a lot like the ACF from our simulated data above."
   ]
  },
  {
   "cell_type": "markdown",
   "metadata": {},
   "source": [
    "> A start in evaluating whether an AR(1) might work is to plot values of the series against **lag 1 values** of the series.  Let $x_t$ denote the value of the series at any particular time $t$, so $x_{t-1}$ denotes the value of the series one time before time $t$.  That is, $x_{t-1}$ is the lag 1 value of $x_t$.  As a short example, here are the first five values in the earthquake series along with their lag 1 values:"
   ]
  },
  {
   "cell_type": "code",
   "execution_count": 25,
   "metadata": {
    "collapsed": false
   },
   "outputs": [
    {
     "data": {
      "text/html": [
       "<div>\n",
       "<table border=\"1\" class=\"dataframe\">\n",
       "  <thead>\n",
       "    <tr style=\"text-align: right;\">\n",
       "      <th></th>\n",
       "      <th>price</th>\n",
       "      <th>lag1price</th>\n",
       "    </tr>\n",
       "    <tr>\n",
       "      <th>Date</th>\n",
       "      <th></th>\n",
       "      <th></th>\n",
       "    </tr>\n",
       "  </thead>\n",
       "  <tbody>\n",
       "    <tr>\n",
       "      <th>2005-02-07</th>\n",
       "      <td>196.030335</td>\n",
       "      <td>NaN</td>\n",
       "    </tr>\n",
       "    <tr>\n",
       "      <th>2005-02-08</th>\n",
       "      <td>198.640336</td>\n",
       "      <td>196.030335</td>\n",
       "    </tr>\n",
       "    <tr>\n",
       "      <th>2005-02-09</th>\n",
       "      <td>191.580329</td>\n",
       "      <td>198.640336</td>\n",
       "    </tr>\n",
       "    <tr>\n",
       "      <th>2005-02-10</th>\n",
       "      <td>187.980317</td>\n",
       "      <td>191.580329</td>\n",
       "    </tr>\n",
       "    <tr>\n",
       "      <th>2005-02-11</th>\n",
       "      <td>187.400315</td>\n",
       "      <td>187.980317</td>\n",
       "    </tr>\n",
       "  </tbody>\n",
       "</table>\n",
       "</div>"
      ],
      "text/plain": [
       "                 price   lag1price\n",
       "Date                              \n",
       "2005-02-07  196.030335         NaN\n",
       "2005-02-08  198.640336  196.030335\n",
       "2005-02-09  191.580329  198.640336\n",
       "2005-02-10  187.980317  191.580329\n",
       "2005-02-11  187.400315  187.980317"
      ]
     },
     "execution_count": 25,
     "metadata": {},
     "output_type": "execute_result"
    }
   ],
   "source": [
    "google_stock = pd.DataFrame({'price': goog.Close})\n",
    "google_stock['lag1price'] = google_stock.price.shift()\n",
    "google_stock.head()"
   ]
  },
  {
   "cell_type": "markdown",
   "metadata": {},
   "source": [
    "Here’s a plot of $x_t$ versus $x_{t-1}$:"
   ]
  },
  {
   "cell_type": "code",
   "execution_count": 26,
   "metadata": {
    "collapsed": false
   },
   "outputs": [
    {
     "data": {
      "image/png": "[encoded data removed]",
      "text/plain": [
       "<matplotlib.figure.Figure at 0x1190d4978>"
      ]
     },
     "metadata": {},
     "output_type": "display_data"
    }
   ],
   "source": [
    "sns.lmplot('price', 'lag1price', google_stock);"
   ]
  },
  {
   "cell_type": "markdown",
   "metadata": {},
   "source": [
    "> There appears to be a moderate linear pattern, suggesting that the first-order autoregression model $$ y_{t}=\\beta_{0}+\\beta_{1}y_{t-1}+\\epsilon_{t}$$ could be useful."
   ]
  },
  {
   "cell_type": "code",
   "execution_count": 27,
   "metadata": {
    "collapsed": false
   },
   "outputs": [
    {
     "data": {
      "text/html": [
       "<table class=\"simpletable\">\n",
       "<caption>OLS Regression Results</caption>\n",
       "<tr>\n",
       "  <th>Dep. Variable:</th>          <td>price</td>      <th>  R-squared:         </th> <td>   0.989</td> \n",
       "</tr>\n",
       "<tr>\n",
       "  <th>Model:</th>                   <td>OLS</td>       <th>  Adj. R-squared:    </th> <td>   0.989</td> \n",
       "</tr>\n",
       "<tr>\n",
       "  <th>Method:</th>             <td>Least Squares</td>  <th>  F-statistic:       </th> <td>   9502.</td> \n",
       "</tr>\n",
       "<tr>\n",
       "  <th>Date:</th>             <td>Wed, 05 Oct 2016</td> <th>  Prob (F-statistic):</th> <td>1.71e-102</td>\n",
       "</tr>\n",
       "<tr>\n",
       "  <th>Time:</th>                 <td>18:28:48</td>     <th>  Log-Likelihood:    </th> <td> -302.11</td> \n",
       "</tr>\n",
       "<tr>\n",
       "  <th>No. Observations:</th>      <td>   104</td>      <th>  AIC:               </th> <td>   608.2</td> \n",
       "</tr>\n",
       "<tr>\n",
       "  <th>Df Residuals:</th>          <td>   102</td>      <th>  BIC:               </th> <td>   613.5</td> \n",
       "</tr>\n",
       "<tr>\n",
       "  <th>Df Model:</th>              <td>     1</td>      <th>                     </th>     <td> </td>    \n",
       "</tr>\n",
       "<tr>\n",
       "  <th>Covariance Type:</th>      <td>nonrobust</td>    <th>                     </th>     <td> </td>    \n",
       "</tr>\n",
       "</table>\n",
       "<table class=\"simpletable\">\n",
       "<tr>\n",
       "      <td></td>         <th>coef</th>     <th>std err</th>      <th>t</th>      <th>P>|t|</th> <th>[95.0% Conf. Int.]</th> \n",
       "</tr>\n",
       "<tr>\n",
       "  <th>Intercept</th> <td>   -0.3585</td> <td>    2.353</td> <td>   -0.152</td> <td> 0.879</td> <td>   -5.025     4.308</td>\n",
       "</tr>\n",
       "<tr>\n",
       "  <th>lag1price</th> <td>    1.0059</td> <td>    0.010</td> <td>   97.476</td> <td> 0.000</td> <td>    0.985     1.026</td>\n",
       "</tr>\n",
       "</table>\n",
       "<table class=\"simpletable\">\n",
       "<tr>\n",
       "  <th>Omnibus:</th>       <td> 4.453</td> <th>  Durbin-Watson:     </th> <td>   1.850</td>\n",
       "</tr>\n",
       "<tr>\n",
       "  <th>Prob(Omnibus):</th> <td> 0.108</td> <th>  Jarque-Bera (JB):  </th> <td>   5.837</td>\n",
       "</tr>\n",
       "<tr>\n",
       "  <th>Skew:</th>          <td>-0.003</td> <th>  Prob(JB):          </th> <td>  0.0540</td>\n",
       "</tr>\n",
       "<tr>\n",
       "  <th>Kurtosis:</th>      <td> 4.161</td> <th>  Cond. No.          </th> <td>1.23e+03</td>\n",
       "</tr>\n",
       "</table>"
      ],
      "text/plain": [
       "<class 'statsmodels.iolib.summary.Summary'>\n",
       "\"\"\"\n",
       "                            OLS Regression Results                            \n",
       "==============================================================================\n",
       "Dep. Variable:                  price   R-squared:                       0.989\n",
       "Model:                            OLS   Adj. R-squared:                  0.989\n",
       "Method:                 Least Squares   F-statistic:                     9502.\n",
       "Date:                Wed, 05 Oct 2016   Prob (F-statistic):          1.71e-102\n",
       "Time:                        18:28:48   Log-Likelihood:                -302.11\n",
       "No. Observations:                 104   AIC:                             608.2\n",
       "Df Residuals:                     102   BIC:                             613.5\n",
       "Df Model:                           1                                         \n",
       "Covariance Type:            nonrobust                                         \n",
       "==============================================================================\n",
       "                 coef    std err          t      P>|t|      [95.0% Conf. Int.]\n",
       "------------------------------------------------------------------------------\n",
       "Intercept     -0.3585      2.353     -0.152      0.879        -5.025     4.308\n",
       "lag1price      1.0059      0.010     97.476      0.000         0.985     1.026\n",
       "==============================================================================\n",
       "Omnibus:                        4.453   Durbin-Watson:                   1.850\n",
       "Prob(Omnibus):                  0.108   Jarque-Bera (JB):                5.837\n",
       "Skew:                          -0.003   Prob(JB):                       0.0540\n",
       "Kurtosis:                       4.161   Cond. No.                     1.23e+03\n",
       "==============================================================================\n",
       "\n",
       "Warnings:\n",
       "[1] Standard Errors assume that the covariance matrix of the errors is correctly specified.\n",
       "[2] The condition number is large, 1.23e+03. This might indicate that there are\n",
       "strong multicollinearity or other numerical problems.\n",
       "\"\"\""
      ]
     },
     "execution_count": 27,
     "metadata": {},
     "output_type": "execute_result"
    }
   ],
   "source": [
    "ar1 = smf.ols('price ~ lag1price', data = google_stock).fit()\n",
    "ar1.summary()"
   ]
  },
  {
   "cell_type": "markdown",
   "metadata": {},
   "source": [
    "We see that the slope coefficient is significantly different from 0, so the lag 1 variable is a helpful predictor.  The $R^2$ value is quite strong at 98.9%."
   ]
  },
  {
   "cell_type": "markdown",
   "metadata": {},
   "source": [
    "#### Residual Analysis\n",
    "\n",
    "> In traditional regression, a plot of residuals versus fits is a useful diagnostic tool. The ideal for this plot is a horizontal band of points. Following is a plot of residuals versus predicted values for our estimated model. It doesn’t show any serious problems."
   ]
  },
  {
   "cell_type": "code",
   "execution_count": 28,
   "metadata": {
    "collapsed": false
   },
   "outputs": [
    {
     "data": {
      "image/png": "[encoded data removed]",
      "text/plain": [
       "<matplotlib.figure.Figure at 0x118298160>"
      ]
     },
     "metadata": {},
     "output_type": "display_data"
    }
   ],
   "source": [
    "sns.residplot('price', 'lag1price', google_stock);"
   ]
  },
  {
   "cell_type": "markdown",
   "metadata": {},
   "source": [
    "Another way to create an AR model, without having to manually create `lag` columns, is using `statsmodels.tsa.ar_model`:"
   ]
  },
  {
   "cell_type": "code",
   "execution_count": 30,
   "metadata": {
    "collapsed": true
   },
   "outputs": [],
   "source": [
    "from statsmodels.tsa.ar_model import AR\n",
    "\n",
    "goog_ar1 = AR(goog.Close).fit(1)"
   ]
  },
  {
   "cell_type": "code",
   "execution_count": 31,
   "metadata": {
    "collapsed": false
   },
   "outputs": [
    {
     "data": {
      "text/html": [
       "<div>\n",
       "<table border=\"1\" class=\"dataframe\">\n",
       "  <thead>\n",
       "    <tr style=\"text-align: right;\">\n",
       "      <th></th>\n",
       "      <th>coef</th>\n",
       "      <th>std err</th>\n",
       "      <th>t</th>\n",
       "      <th>P&gt;|t|</th>\n",
       "    </tr>\n",
       "  </thead>\n",
       "  <tbody>\n",
       "    <tr>\n",
       "      <th>const</th>\n",
       "      <td>-0.358454</td>\n",
       "      <td>2.352889</td>\n",
       "      <td>-0.152346</td>\n",
       "      <td>0.878914</td>\n",
       "    </tr>\n",
       "    <tr>\n",
       "      <th>L1.Close</th>\n",
       "      <td>1.005871</td>\n",
       "      <td>0.010319</td>\n",
       "      <td>97.476447</td>\n",
       "      <td>0.000000</td>\n",
       "    </tr>\n",
       "  </tbody>\n",
       "</table>\n",
       "</div>"
      ],
      "text/plain": [
       "              coef   std err          t     P>|t|\n",
       "const    -0.358454  2.352889  -0.152346  0.878914\n",
       "L1.Close  1.005871  0.010319  97.476447  0.000000"
      ]
     },
     "execution_count": 31,
     "metadata": {},
     "output_type": "execute_result"
    }
   ],
   "source": [
    "def ar_summary(ar_model):\n",
    "    return pd.DataFrame.from_items([('coef', ar_model.params), \n",
    "                                    ('std err', ar_model.bse),\n",
    "                                    ('t', ar_model.tvalues), \n",
    "                                    ('P>|t|', ar_model.pvalues)])\n",
    "\n",
    "ar_summary(goog_ar1)"
   ]
  },
  {
   "cell_type": "markdown",
   "metadata": {},
   "source": [
    "### Autocorrelation Function (ACF)\n",
    "\n",
    "The autocorrelation function (ACF) for a series gives correlations between the series $y_t$ and lagged values of the series for lags of 1, 2, 3, and so on. The lagged values can be written as $y_{t-1},y_{t-2},y_{t-3}$ and so on. The ACF gives correlations between $y_t$ and $y_{t-1},y_{t-2},y_{t-3}$ and so on. \n",
    "\n",
    "The ACF can be used to identify the possible structure of time series data.  That can be tricky going as there often isn’t a single clear-cut interpretation of a sample autocorrelation function. The ideal for a sample ACF of residuals is that there aren’t any significant correlations for any lag.\n",
    "\n",
    "Following is the ACF of the residuals for the Example 1, where we used an AR(1) model. The \"lag\" (time span between observations) is shown along the horizontal, and the autocorrelation is on the vertical. The shaded blue area indicate bounds for statistical significance. This is a good ACF for residuals.  Nothing is significant; that’s what we want for residuals."
   ]
  },
  {
   "cell_type": "code",
   "execution_count": 33,
   "metadata": {
    "collapsed": false
   },
   "outputs": [
    {
     "data": {
      "image/png": "[encoded data removed]",
      "text/plain": [
       "<matplotlib.figure.Figure at 0x1187bbf60>"
      ]
     },
     "metadata": {},
     "output_type": "display_data"
    }
   ],
   "source": [
    "from statsmodels.tsa.stattools import acf\n",
    "from statsmodels.graphics.tsaplots import plot_acf\n",
    "\n",
    "plot_acf(goog_ar1.resid);"
   ]
  },
  {
   "cell_type": "markdown",
   "metadata": {},
   "source": [
    "### Example 2: NYSE Data"
   ]
  },
  {
   "cell_type": "markdown",
   "metadata": {},
   "source": [
    "<!--example adapted from _Introductor Econometrics_ by Jeffrey M. Woolridge-->\n",
    "We can use this to test a version of the _efficient markets hypothesis_ (EMH). Let $y_t$ be the weekly percentage return (from Wednesday close to Wednesday close) on the New York Stock Exchange composite index. A strict form of the efficient markets hypothesis states that information observable to the market prior to week should not help to predict the return during week $t$. If we use only past information on $y$, the EMH is stated as  \n",
    "\n",
    "$$E(y_t\\mid y_{t-1},y_{t-2},\\ldots)=E(y_t).$$\n",
    "\n",
    "If this is false, then we could use information on past weekly returns to predict the current return. The EMH presumes that such investment opportunities will be noticed and will disappear almost instantaneously.  \n",
    "\n",
    "One simple way to test this is to specify the AR(1) model as the alternative model. Then, the null hypothesis is easily stated as $H_0:\\beta_1=0$. Under the null hypothesis, stock returns are serially uncorrelated, so we can safely assume that they are weakly dependent. We can use the usual OLS $t$ statistic for $\\hat{\\beta}_1$ to test $H_0:\\beta_1=0$ against $H_1:\\beta_1\\neq0$.  \n",
    "\n",
    "The weekly returns in NYSE are computed using data from January 1976 through March 1989. In the rare case that Wednesday was a holiday, the close at the next trading day was used. The average weekly return over this period was .196 in percentage form, with the largest weekly return being 8.45% and the smallest being 215.32% (during the stock market crash of October 1987)."
   ]
  },
  {
   "cell_type": "code",
   "execution_count": 34,
   "metadata": {
    "collapsed": false
   },
   "outputs": [
    {
     "data": {
      "text/html": [
       "<div>\n",
       "<table border=\"1\" class=\"dataframe\">\n",
       "  <thead>\n",
       "    <tr style=\"text-align: right;\">\n",
       "      <th></th>\n",
       "      <th>count</th>\n",
       "      <th>mean</th>\n",
       "      <th>std</th>\n",
       "      <th>min</th>\n",
       "      <th>25%</th>\n",
       "      <th>50%</th>\n",
       "      <th>75%</th>\n",
       "      <th>max</th>\n",
       "    </tr>\n",
       "  </thead>\n",
       "  <tbody>\n",
       "    <tr>\n",
       "      <th>y</th>\n",
       "      <td>690.0</td>\n",
       "      <td>0.195784</td>\n",
       "      <td>2.114532</td>\n",
       "      <td>-15.321728</td>\n",
       "      <td>-1.099878</td>\n",
       "      <td>0.334362</td>\n",
       "      <td>1.546531</td>\n",
       "      <td>8.448762</td>\n",
       "    </tr>\n",
       "  </tbody>\n",
       "</table>\n",
       "</div>"
      ],
      "text/plain": [
       "   count      mean       std        min       25%       50%       75%  \\\n",
       "y  690.0  0.195784  2.114532 -15.321728 -1.099878  0.334362  1.546531   \n",
       "\n",
       "        max  \n",
       "y  8.448762  "
      ]
     },
     "execution_count": 34,
     "metadata": {},
     "output_type": "execute_result"
    },
    {
     "data": {
      "image/png": "[encoded data removed]",
      "text/plain": [
       "<matplotlib.figure.Figure at 0x11b41f0f0>"
      ]
     },
     "metadata": {},
     "output_type": "display_data"
    }
   ],
   "source": [
    "nyse = pd.read_csv('https://s3-us-west-2.amazonaws.com/dsci/6002/data/nyse.csv', index_col=0)\n",
    "nyse.index = pd.date_range('January 1976', periods=len(nyse), freq='W')\n",
    "nyse.plot()\n",
    "nyse.describe().T"
   ]
  },
  {
   "cell_type": "markdown",
   "metadata": {},
   "source": [
    "Estimation of the AR(1) model gives:"
   ]
  },
  {
   "cell_type": "code",
   "execution_count": 35,
   "metadata": {
    "collapsed": false
   },
   "outputs": [
    {
     "data": {
      "text/html": [
       "<div>\n",
       "<table border=\"1\" class=\"dataframe\">\n",
       "  <thead>\n",
       "    <tr style=\"text-align: right;\">\n",
       "      <th></th>\n",
       "      <th>coef</th>\n",
       "      <th>std err</th>\n",
       "      <th>t</th>\n",
       "      <th>P&gt;|t|</th>\n",
       "    </tr>\n",
       "  </thead>\n",
       "  <tbody>\n",
       "    <tr>\n",
       "      <th>const</th>\n",
       "      <td>0.179634</td>\n",
       "      <td>0.080742</td>\n",
       "      <td>2.224792</td>\n",
       "      <td>0.026095</td>\n",
       "    </tr>\n",
       "    <tr>\n",
       "      <th>L1.y</th>\n",
       "      <td>0.058898</td>\n",
       "      <td>0.038023</td>\n",
       "      <td>1.549018</td>\n",
       "      <td>0.121377</td>\n",
       "    </tr>\n",
       "  </tbody>\n",
       "</table>\n",
       "</div>"
      ],
      "text/plain": [
       "           coef   std err         t     P>|t|\n",
       "const  0.179634  0.080742  2.224792  0.026095\n",
       "L1.y   0.058898  0.038023  1.549018  0.121377"
      ]
     },
     "execution_count": 35,
     "metadata": {},
     "output_type": "execute_result"
    }
   ],
   "source": [
    "nyse_ar1 = AR(nyse.y).fit(1)\n",
    "ar_summary(nyse_ar1)"
   ]
  },
  {
   "cell_type": "code",
   "execution_count": 36,
   "metadata": {
    "collapsed": true
   },
   "outputs": [],
   "source": [
    "AR?"
   ]
  },
  {
   "cell_type": "markdown",
   "metadata": {},
   "source": [
    "The $t$ statistic for the coefficient on ${return}_{t-1}$ is about 1.55, and so $H_0:\\beta_1=0$ cannot be rejected against the two-sided alternative, even at the 10% significance level. The estimate does suggest a slight positive correlation in the NYSE return from one week to the next, but it is not strong enough to warrant rejection of the efficient markets hypothesis."
   ]
  },
  {
   "cell_type": "markdown",
   "metadata": {},
   "source": [
    "In this example, using an AR(1) model to test the EMH might not detect correlation between weekly returns that are more than one week apart. It is easy to estimate models with more than one lag. For example, an _autoregressive model of order two_, or AR(2) model, is \n",
    "\n",
    "$$y_t=\\beta_0+\\beta_1y_{t-1}+\\beta_2y_{t-2}+\\epsilon_t\\\\\n",
    "E(\\epsilon_t\\mid y_{t-1},y_{t-2},\\ldots)=0.$$ \n",
    "\n",
    "There are stability conditions on $\\beta_1$ and $\\beta_2$ that are needed to ensure that the AR(2) process is weakly dependent, but this is not an issue here because the null hypothesis states that the EMH holds: \n",
    "\n",
    "$$H_0:\\beta_1=\\beta_2=0$$\n",
    "\n",
    "If we estimate an AR(2) model for ${return}_t$, we obtain:"
   ]
  },
  {
   "cell_type": "code",
   "execution_count": 19,
   "metadata": {
    "collapsed": false
   },
   "outputs": [
    {
     "data": {
      "text/html": [
       "<div>\n",
       "<table border=\"1\" class=\"dataframe\">\n",
       "  <thead>\n",
       "    <tr style=\"text-align: right;\">\n",
       "      <th></th>\n",
       "      <th>coef</th>\n",
       "      <th>std err</th>\n",
       "      <th>t</th>\n",
       "      <th>P&gt;|t|</th>\n",
       "    </tr>\n",
       "  </thead>\n",
       "  <tbody>\n",
       "    <tr>\n",
       "      <th>const</th>\n",
       "      <td>0.185748</td>\n",
       "      <td>0.081150</td>\n",
       "      <td>2.288945</td>\n",
       "      <td>0.022083</td>\n",
       "    </tr>\n",
       "    <tr>\n",
       "      <th>L1.y</th>\n",
       "      <td>0.060315</td>\n",
       "      <td>0.038177</td>\n",
       "      <td>1.579865</td>\n",
       "      <td>0.114138</td>\n",
       "    </tr>\n",
       "    <tr>\n",
       "      <th>L2.y</th>\n",
       "      <td>-0.038075</td>\n",
       "      <td>0.038143</td>\n",
       "      <td>-0.998226</td>\n",
       "      <td>0.318170</td>\n",
       "    </tr>\n",
       "  </tbody>\n",
       "</table>\n",
       "</div>"
      ],
      "text/plain": [
       "           coef   std err         t     P>|t|\n",
       "const  0.185748  0.081150  2.288945  0.022083\n",
       "L1.y   0.060315  0.038177  1.579865  0.114138\n",
       "L2.y  -0.038075  0.038143 -0.998226  0.318170"
      ]
     },
     "execution_count": 19,
     "metadata": {},
     "output_type": "execute_result"
    }
   ],
   "source": [
    "nyse_ar2 = AR(nyse.y).fit(2)\n",
    "ar_summary(nyse_ar2)"
   ]
  },
  {
   "cell_type": "markdown",
   "metadata": {},
   "source": [
    "The two lags are individually insignificant at the 10% level."
   ]
  },
  {
   "cell_type": "markdown",
   "metadata": {},
   "source": [
    "### Example 3: Cardiovascular Mortality\n",
    "<!-- https://onlinecourses.science.psu.edu/stat510/node/60 -->\n",
    "Here’s a time series of the cardiovascular mortality rate in Los Angeles County, 1970-1979"
   ]
  },
  {
   "cell_type": "code",
   "execution_count": 38,
   "metadata": {
    "collapsed": false
   },
   "outputs": [
    {
     "data": {
      "image/png": "[encoded data removed]",
      "text/plain": [
       "<matplotlib.figure.Figure at 0x11b416978>"
      ]
     },
     "metadata": {},
     "output_type": "display_data"
    }
   ],
   "source": [
    "mort = pd.read_table('http://anson.ucdavis.edu/~shumway/cmort.dat', header=None)\n",
    "mort.index = pd.date_range('1970', periods=len(mort), freq='W')\n",
    "mort.plot();"
   ]
  },
  {
   "cell_type": "markdown",
   "metadata": {},
   "source": [
    "There is a slight downward trend, so the series may not be stationary.\n",
    "\n",
    "### Stationary Series\n",
    "\n",
    "> For an ACF to make sense, the series must be a _weakly stationary_ series.  This means that the autocorrelation for any particular lag is the same regardless of where we are in time.\n",
    "> \n",
    "> **Definition:** A series $x_t$ is said to be **(weakly) stationary** if it satisfies the following properties:\n",
    "> \n",
    "* The mean $E(x_t)$ is the same for all $t$.\n",
    "* The variance of $x_t$ is the same for all $t$.\n",
    "* The covariance (and also correlation) between $x_t$ and $x_{t-h}$ is the same for all $t$.\n",
    "> \n",
    "> Many stationary series have recognizable ACF patterns. Most series that we encounter in practice, however, are not stationary. A continual downward trend, for example, is a violation of the requirement that the mean is the same for all $t$. Distinct seasonal patterns also violate that requirement. "
   ]
  },
  {
   "cell_type": "markdown",
   "metadata": {},
   "source": [
    "Returning to Example 3, to create a (possibly) stationary series, we’ll examine the **first differences** $y_t = x_t - x_{t-1}$. This is a common time series method for creating a de-trended series and thus potentially a stationary series. Think about a straight line – there are constant differences in average $y$ for each change of 1-unit in $x$.\n",
    "\n",
    "The time series plot of the first differences is the following:"
   ]
  },
  {
   "cell_type": "code",
   "execution_count": 39,
   "metadata": {
    "collapsed": false
   },
   "outputs": [
    {
     "data": {
      "image/png": "[encoded data removed]",
      "text/plain": [
       "<matplotlib.figure.Figure at 0x11863b208>"
      ]
     },
     "metadata": {},
     "output_type": "display_data"
    }
   ],
   "source": [
    "mortdiff = mort.diff().dropna()\n",
    "mortdiff.plot();"
   ]
  },
  {
   "cell_type": "markdown",
   "metadata": {},
   "source": [
    "The following plot is the sample estimate of the autocorrelation function of 1st differences:"
   ]
  },
  {
   "cell_type": "code",
   "execution_count": 41,
   "metadata": {
    "collapsed": false
   },
   "outputs": [
    {
     "data": {
      "image/png": "[encoded data removed]",
      "text/plain": [
       "<matplotlib.figure.Figure at 0x11b4dc390>"
      ]
     },
     "metadata": {},
     "output_type": "display_data"
    }
   ],
   "source": [
    "plot_acf(mortdiff);"
   ]
  },
  {
   "cell_type": "code",
   "execution_count": 42,
   "metadata": {
    "collapsed": false
   },
   "outputs": [
    {
     "data": {
      "text/plain": [
       "1   -0.506029\n",
       "2    0.205100\n",
       "3   -0.126110\n",
       "4    0.062476\n",
       "5   -0.015190\n",
       "dtype: float64"
      ]
     },
     "execution_count": 42,
     "metadata": {},
     "output_type": "execute_result"
    }
   ],
   "source": [
    "pd.Series(acf(mortdiff))[1:6]"
   ]
  },
  {
   "cell_type": "markdown",
   "metadata": {},
   "source": [
    "> This looks like the pattern of an AR(1) with a negative lag 1 autocorrelation.  Note that the lag 2 correlation is roughly equal to the squared value of the lag 1 correlation.  The lag 3 correlation is nearly exactly equal to the cubed value of the lag 1 correlation, and the lag 4 correlation nearly equals the fourth power of the lag 1 correlation.  Thus an AR(1) model may be a suitable model for the first differences $y_t = x_t - x_{t-1}$.\n",
    "\n",
    "Thus:"
   ]
  },
  {
   "cell_type": "code",
   "execution_count": 43,
   "metadata": {
    "collapsed": false
   },
   "outputs": [
    {
     "data": {
      "text/html": [
       "<div>\n",
       "<table border=\"1\" class=\"dataframe\">\n",
       "  <thead>\n",
       "    <tr style=\"text-align: right;\">\n",
       "      <th></th>\n",
       "      <th>coef</th>\n",
       "      <th>std err</th>\n",
       "      <th>t</th>\n",
       "      <th>P&gt;|t|</th>\n",
       "    </tr>\n",
       "  </thead>\n",
       "  <tbody>\n",
       "    <tr>\n",
       "      <th>const</th>\n",
       "      <td>-0.046272</td>\n",
       "      <td>0.258996</td>\n",
       "      <td>-0.178659</td>\n",
       "      <td>8.582055e-01</td>\n",
       "    </tr>\n",
       "    <tr>\n",
       "      <th>L1.y</th>\n",
       "      <td>-0.506364</td>\n",
       "      <td>0.038376</td>\n",
       "      <td>-13.194874</td>\n",
       "      <td>9.391158e-40</td>\n",
       "    </tr>\n",
       "  </tbody>\n",
       "</table>\n",
       "</div>"
      ],
      "text/plain": [
       "           coef   std err          t         P>|t|\n",
       "const -0.046272  0.258996  -0.178659  8.582055e-01\n",
       "L1.y  -0.506364  0.038376 -13.194874  9.391158e-40"
      ]
     },
     "execution_count": 43,
     "metadata": {},
     "output_type": "execute_result"
    }
   ],
   "source": [
    "mort_ar1 = AR(mortdiff[0]).fit(1)\n",
    "ar_summary(mort_ar1)"
   ]
  },
  {
   "cell_type": "code",
   "execution_count": null,
   "metadata": {
    "collapsed": true
   },
   "outputs": [],
   "source": []
  }
 ],
 "metadata": {
  "anaconda-cloud": {},
  "kernelspec": {
   "display_name": "Python [Root]",
   "language": "python",
   "name": "Python [Root]"
  },
  "language_info": {
   "codemirror_mode": {
    "name": "ipython",
    "version": 3
   },
   "file_extension": ".py",
   "mimetype": "text/x-python",
   "name": "python",
   "nbconvert_exporter": "python",
   "pygments_lexer": "ipython3",
   "version": "3.5.2"
  }
 },
 "nbformat": 4,
 "nbformat_minor": 0
}
