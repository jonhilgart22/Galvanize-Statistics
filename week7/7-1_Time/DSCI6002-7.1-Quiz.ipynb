{
 "cells": [
  {
   "cell_type": "markdown",
   "metadata": {},
   "source": [
    "# Quiz 7.1  \n",
    "\n",
    "An electric company is trying to determine the electrical energy needs for the residential customers in its service territory. By identifying certain customer and environmental characteristics, the utility hopes to build a multiple regression model for $Y$, the monthly kilowatthour usage. The independent variables under consideration are  \n",
    "\n",
    "$X_1 =$ Square feet of living space  \n",
    "\n",
    "$X_2 =$ Average monthly temperature  \n",
    "\n",
    "$X_3 =$ Age of residence  \n",
    "\n",
    "$X 4 =$ Proportion of available sunshine hours  \n",
    "\n",
    "The data file is stored in https://s3-us-west-2.amazonaws.com/dsci/6002/data/elec.csv  \n",
    "\n",
    "1) Using backward stepwise regression, build a model to describe electricity usage.  \n",
    "\n",
    "2) Test if the linear regression assumptions are met.  "
   ]
  }
 ],
 "metadata": {
  "anaconda-cloud": {},
  "kernelspec": {
   "display_name": "Python [Root]",
   "language": "python",
   "name": "Python [Root]"
  },
  "language_info": {
   "codemirror_mode": {
    "name": "ipython",
    "version": 3
   },
   "file_extension": ".py",
   "mimetype": "text/x-python",
   "name": "python",
   "nbconvert_exporter": "python",
   "pygments_lexer": "ipython3",
   "version": "3.5.2"
  }
 },
 "nbformat": 4,
 "nbformat_minor": 0
}
