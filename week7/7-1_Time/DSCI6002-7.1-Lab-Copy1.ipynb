{
 "cells": [
  {
   "cell_type": "markdown",
   "metadata": {},
   "source": [
    "# Lab 7.1: Introduction to Time Series "
   ]
  },
  {
   "cell_type": "markdown",
   "metadata": {},
   "source": [
    "## Exploring Monthly Birth Data   \n",
    "\n",
    "The number of live births (in hundreds of thousands) per month in the U.S. was \n",
    "collected for the past 31 years (https://s3-us-west-2.amazonaws.com/dsci/6002/data/birth.txt) starting in January 1980 and ending\n",
    "December, 2010. We will be exploring this time series using various methods and predict\n",
    "the birth counts for 2011.\n",
    "\n",
    "1) Load the data into a pandas dataframe."
   ]
  },
  {
   "cell_type": "markdown",
   "metadata": {},
   "source": [
    "2) Using `pandas.date_range()` to create a `dates` variable \n",
    "   (from January 1980 and ending December, 2010)."
   ]
  },
  {
   "cell_type": "markdown",
   "metadata": {},
   "source": [
    "3) Create a `time` variable (range: 1-372) to be used later in the regressions \n",
    "and both a `month` and `year` variable (use `pd.DatetimeIndex` to strip these \n",
    "values from your dates). "
   ]
  },
  {
   "cell_type": "markdown",
   "metadata": {},
   "source": [
    "4) Set the `dates` variable as the index of your dataframe."
   ]
  },
  {
   "cell_type": "markdown",
   "metadata": {},
   "source": [
    "5) Calculate some aggregated statistics by month and year. What months have \n",
    "the highest birthrates? Any intuition as to why?"
   ]
  },
  {
   "cell_type": "markdown",
   "metadata": {},
   "source": [
    "6) Turn the `num_births` into a time series using `pd.Series()`."
   ]
  },
  {
   "cell_type": "markdown",
   "metadata": {},
   "source": [
    "7) Plot the overall data. What are your thoughts about the general pattern \n",
    "and or seasonal variation?\n",
    "\n",
    "![image](images/birthdata.png)"
   ]
  },
  {
   "cell_type": "markdown",
   "metadata": {},
   "source": [
    "8) Plot the data for 2006-2010, is the seasonal pattern more apparent? "
   ]
  },
  {
   "cell_type": "markdown",
   "metadata": {},
   "source": [
    "9) Use `df.resample('Q-NOV')` to get quarterly means that follow the seasons of the year (spring, summer, fall, winter). "
   ]
  },
  {
   "cell_type": "markdown",
   "metadata": {},
   "source": [
    "10) Superimpose the yearly averages and the seasonal averages onto the monthly\n",
    "data.\n",
    "\n",
    "![image](images/birthdata_with_averages.png)"
   ]
  }
 ],
 "metadata": {
  "anaconda-cloud": {},
  "kernelspec": {
   "display_name": "Python [Root]",
   "language": "python",
   "name": "Python [Root]"
  },
  "language_info": {
   "codemirror_mode": {
    "name": "ipython",
    "version": 3
   },
   "file_extension": ".py",
   "mimetype": "text/x-python",
   "name": "python",
   "nbconvert_exporter": "python",
   "pygments_lexer": "ipython3",
   "version": "3.5.2"
  }
 },
 "nbformat": 4,
 "nbformat_minor": 0
}
