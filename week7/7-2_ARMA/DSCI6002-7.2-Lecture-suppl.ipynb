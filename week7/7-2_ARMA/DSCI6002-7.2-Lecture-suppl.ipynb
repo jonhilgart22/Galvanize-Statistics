{
 "cells": [
  {
   "cell_type": "markdown",
   "metadata": {
    "slideshow": {
     "slide_type": "slide"
    }
   },
   "source": [
    "# Supplement to Lecture 7.2: ARIMA, SARIMA, ETS\n",
    "\n",
    "## Outline\n",
    "\n",
    "* Define key time series concepts and properties\n",
    "* Describe ARIMA model\n",
    "* Use Box-Jenkins work-flow to estimate an ARIMA model\n",
    "    * Use graphical tools to pick an ARIMA model\n",
    "    * Estimate/forecast/evaluate an ARIMA model\n",
    "    * Model selection\n",
    "\n",
    "## Objectives  \n",
    "\n",
    "* Define key time series concepts\n",
    "* Use graphical tools to analyze time series data\n",
    "* Train and evaluate ARIMA models using Python’s StatsModels"
   ]
  },
  {
   "cell_type": "markdown",
   "metadata": {
    "slideshow": {
     "slide_type": "slide"
    }
   },
   "source": [
    "## References  \n",
    "\n",
    "Some helpful references, arranged by increasing difficulty:  \n",
    "\n",
    "* Hyndman & Athanasopoulos: “[Forecasting: principles and practice](https://www.otexts.org/fpp)”\n",
    "* Enders: “Applied Econometric Time Series”\n",
    "* Hamilton: “Time Series Analysis”"
   ]
  },
  {
   "cell_type": "markdown",
   "metadata": {
    "slideshow": {
     "slide_type": "slide"
    }
   },
   "source": [
    "## Time Series Data  \n",
    "\n",
    "Time series data is a sequence of observations of some quantity of interest, which are collected over time, such as:  \n",
    "\n",
    "* GDP\n",
    "* The price of toilet paper or a stock\n",
    "* Demand for a good\n",
    "* Unemployment\n",
    "* Web traffic (clicks, logins, posts, etc.)"
   ]
  },
  {
   "cell_type": "markdown",
   "metadata": {
    "slideshow": {
     "slide_type": "slide"
    }
   },
   "source": [
    "### Definition  \n",
    "\n",
    "We assume a time series, $\\{y_t\\}$, has the following properties:  \n",
    "\n",
    "* $y_t$ is an observation of the level of $y$ at time $t$\n",
    "* $\\{y_t\\}$ is time series, i.e., the collection of observations:\n",
    "    * May extend back to $t = 0$ or $t = −\\infty$, depending on the problem.\n",
    "    * E.g., $t \\in \\{0, \\dots, T\\}$"
   ]
  },
  {
   "cell_type": "markdown",
   "metadata": {
    "slideshow": {
     "slide_type": "slide"
    }
   },
   "source": [
    "### Assumptions  \n",
    "\n",
    "We assume:  \n",
    "* Discrete time:\n",
    "    * Sampling at regular intervals\n",
    "    * even if process is continuous\n",
    "* Evenly spaced observations\n",
    "* No missing observations"
   ]
  },
  {
   "cell_type": "markdown",
   "metadata": {
    "slideshow": {
     "slide_type": "slide"
    }
   },
   "source": [
    "### Components of a time series  \n",
    "\n",
    "Think of a time series as consisting of several different components:  \n",
    "* Trend\n",
    "* Seasonality\n",
    "* Cyclic\n",
    "* Irregular\n",
    "\n",
    "Can be additive or multiplicative"
   ]
  },
  {
   "cell_type": "markdown",
   "metadata": {
    "slideshow": {
     "slide_type": "slide"
    }
   },
   "source": [
    "### Example decomposition from Hyndman et al.  \n",
    "\n",
    "<img src=\"images/ts_decomposition.png\" width=\"600\">  "
   ]
  },
  {
   "cell_type": "markdown",
   "metadata": {
    "slideshow": {
     "slide_type": "slide"
    }
   },
   "source": [
    "### Example time series from Hyndman et al.  \n",
    "\n",
    "<img src=\"images/ts_examples.png\" width=\"600\">  "
   ]
  },
  {
   "cell_type": "markdown",
   "metadata": {
    "slideshow": {
     "slide_type": "slide"
    }
   },
   "source": [
    "## Two popular models  \n",
    "\n",
    "* ARIMA(p,d,q):\n",
    "    * Captures key aspects of time series data  \n",
    "    \n",
    "* Exponential smoothing (ETS):\n",
    "    * Smooths out irregular shocks to model trend and seasonality\n",
    "    * Updates forecast with linear combination of past forecast and current value"
   ]
  },
  {
   "cell_type": "markdown",
   "metadata": {
    "slideshow": {
     "slide_type": "slide"
    }
   },
   "source": [
    "### Notation  \n",
    "\n",
    "* $y_t$ : the level of some value of interest at time $t$\n",
    "* $\\varepsilon_t$ : the value of a shock, $\\varepsilon$, at time $t$\n",
    "* $\\hat{y}_{t+h|t}$ is the forecast for $y_{t+h}$ based on the information available at time $t$"
   ]
  },
  {
   "cell_type": "markdown",
   "metadata": {
    "slideshow": {
     "slide_type": "slide"
    }
   },
   "source": [
    "## ARIMA Models  \n",
    "\n",
    "The Box-Jenkins Methodology applies autoregressive moving average models to find the best fit of a time series based on past values.  \n",
    "\n",
    "**3-stage approach**:  \n",
    "1. Model Identification\n",
    "    * Making sure data is stationary\n",
    "    * Identifying seasonality\n",
    "    * Using plots of autocorrelation (ACF) and partial autocorrelation (PACF) to decide which autoregressive and/or moving average components to include\n",
    "2. Parameter Estimation via MLE or non-linear least squares\n",
    "3. Model Checking by testing the model residuals  \n",
    "\n",
    "If estimation is inadequate, we return to step 1 and iterate."
   ]
  },
  {
   "cell_type": "markdown",
   "metadata": {
    "slideshow": {
     "slide_type": "slide"
    }
   },
   "source": [
    "### Stationary Time Series  \n",
    "\n",
    "A stationary time series is one for which the statistical behavior of a set of observations $y_{t_1}, y_{t_2}, \\dots, y_{t_k}$ is identical to that of the shifted set of observations $y_{t_{1+h}}, y_{t_{2+h}}, \\dots, y_{t_{k+h}}$ for any collection of time points $t_1, t_2, \\dots, t_k$ and for any shift $h$ (lag).  \n",
    "\n",
    "This is the definition of strong stationarity and is too strong for most applications.  "
   ]
  },
  {
   "cell_type": "markdown",
   "metadata": {
    "slideshow": {
     "slide_type": "slide"
    }
   },
   "source": [
    "### Weak Stationarity  \n",
    "\n",
    "There is a relaxed definition, referred to as weak stationarity which requires only that the first and second moments satisfy the following constraints:  \n",
    "\n",
    "\n",
    "$$ E(y_t) = \\mu \\text{ for all } t $$  \n",
    "\n",
    "\n",
    "$$ \\gamma_y (h) = E[(y_{t+h} - \\mu)(y_t 􀀀- \\mu)] $$  \n",
    "\n",
    "where $E$ is the usual expectation over the population density, $h$ is the time shift (lag), and  $\\gamma_y (h)$ is called the *autocovariance function* and we additionally assert that  \n",
    "\n",
    "$$\\gamma_y (h) = \\gamma_y (-􀀀h) $$  \n",
    "\n",
    "In general, a stationary time series will have no predictable patterns in the long-term. "
   ]
  },
  {
   "cell_type": "markdown",
   "metadata": {
    "slideshow": {
     "slide_type": "slide"
    }
   },
   "source": [
    "### ACF and PACF  \n",
    "\n",
    "* Autocorrelation Function (ACF)  \n",
    "    * Measures correlation at adjacent points of the same series  \n",
    "    \n",
    "    $$ \\rho_y (h) = \\frac{\\gamma_y (h)}{\\gamma_y (0)} $$  \n",
    "    \n",
    "    $$ -1 < \\rho_y (h) < 1 $$  \n",
    "    \n",
    "* Partial Autocorrelation Function (PACF)  \n",
    "    * On can think of the PACF as the simple correlation between two points separated by a lag $h$, say $y_t$ and $y_{t-􀀀h}$, with the effect of the intervening points $y_{t-􀀀1}, y_{t-􀀀2}, \\dots, y_{t-􀀀h+1}$ conditioned out."
   ]
  },
  {
   "cell_type": "markdown",
   "metadata": {
    "slideshow": {
     "slide_type": "slide"
    }
   },
   "source": [
    "### Nonstationarity  \n",
    "\n",
    "So time series with trends, or with seasonality, are not stationary — the trend and seasonality will affect the value of the time series at different times.  \n",
    "\n",
    "Most time series are not stationary to begin with, so need to modify the series to improve the approximation of stationarity by  \n",
    "\n",
    "* Detrending\n",
    "* Differencing\n",
    "* Transformations "
   ]
  },
  {
   "cell_type": "markdown",
   "metadata": {
    "slideshow": {
     "slide_type": "slide"
    }
   },
   "source": [
    "### Detrending  \n",
    "\n",
    "The general version of a nonstationary time series is to assume\n",
    "a general linear trend of the form  \n",
    "\n",
    "$$ y_t = \\beta_0 + \\beta_1 t + \\varepsilon_t  $$  \n",
    "\n",
    "The natural thing to do is to consider the residual  \n",
    "\n",
    "$$\\hat{e}_t = y_t - \\hat{\\beta}_0 - \\hat{\\beta}_1 t $$  \n",
    "\n",
    "as a plausible stationary series where $\\beta_0$ and $\\beta_1$ are the estimated intercept and slope coefficients based on least squares estimation."
   ]
  },
  {
   "cell_type": "markdown",
   "metadata": {
    "slideshow": {
     "slide_type": "slide"
    }
   },
   "source": [
    "### Differencing  \n",
    "\n",
    "A common first step for achieving stationity is with the first difference\n",
    "$$ \\nabla  y_t = y_t 􀀀- y_{t-􀀀1} $$  \n",
    "\n",
    "\n",
    "$ \\nabla  y_t$ is useful for series with trend.    \n",
    "\n",
    "Higher order differences are defined as successive applications of the operator 5. For example, the second difference is  \n",
    "\n",
    "$$ \\nabla^2 y_t = \\nabla[\\nabla y_t] = [y_t - y_{t - 1}] - [y_{t - 1} - y_{t - 2}] $$  \n",
    "\n",
    "If the model also contains a quadratic trend term, $ \\nabla^2 y_t$ usually\n",
    "reduces the model to a stationary form."
   ]
  },
  {
   "cell_type": "markdown",
   "metadata": {
    "slideshow": {
     "slide_type": "slide"
    }
   },
   "source": [
    "### Example: Global Temperatures  \n",
    "\n",
    "Consider a global temperatures series: the data are a combination\n",
    "of land-air average temperature anomalies for the years 1900-1997.  \n",
    "\n",
    "<img src=\"images/global_temp.png\" width=\"600\">  "
   ]
  },
  {
   "cell_type": "markdown",
   "metadata": {
    "slideshow": {
     "slide_type": "slide"
    }
   },
   "source": [
    "We first look at detrending the time series and examine the residuals from the model  \n",
    "\n",
    "$$ \\hat{Temp} = -􀀀12.2 + 0.006 \\times Years $$  \n",
    "\n",
    "<img src=\"images/global_detrend.png\" width=\"600\"> "
   ]
  },
  {
   "cell_type": "markdown",
   "metadata": {
    "slideshow": {
     "slide_type": "slide"
    }
   },
   "source": [
    "Next, look at differencing the time series with the first difference  \n",
    "\n",
    "<img src=\"images/global_diff.png\" width=\"600\"> "
   ]
  },
  {
   "cell_type": "markdown",
   "metadata": {
    "slideshow": {
     "slide_type": "slide"
    }
   },
   "source": [
    "### Transformations  \n",
    "\n",
    "A transformation that cuts down the values of larger peaks of a\n",
    "time series and emphasizes the lower values may be effective in\n",
    "reducing nonstationary behavior due to changing variance.  \n",
    "\n",
    "Examples:  \n",
    "\n",
    "* The logarithmic transformation, $log (y_t )$ usually exponential-base (natural log)\n",
    "* The square root transformation, $\\sqrt{y_t}$, useful for count data  \n",
    "* More general transformations fall within the Box-Cox family"
   ]
  },
  {
   "cell_type": "markdown",
   "metadata": {
    "slideshow": {
     "slide_type": "slide"
    }
   },
   "source": [
    "### Example: Johnson & Johnson Data  \n",
    "\n",
    "The following figures shows quarterly earnings per share for\n",
    "Johnson&Johnson from 1960 to 1980 before and after a log\n",
    "transformation.  \n",
    "\n",
    "<img src=\"images/johnson_example.png\" width=\"600\"> "
   ]
  },
  {
   "cell_type": "markdown",
   "metadata": {
    "slideshow": {
     "slide_type": "slide"
    }
   },
   "source": [
    "### Assessing Stationarity  \n",
    "\n",
    "Box-Jenkins models describe stationary time series, so we must\n",
    "determine if the series is stationary and if not, transform it to\n",
    "attain stationarity.  \n",
    "\n",
    "We can use the ACF to determine if the time series is stationary    \n",
    "\n",
    "* If the ACF dies down quickly (relatively few significant lags) we can consider the series stationary\n",
    "* If it dies down slowly then we need to try some transformations to either remove the trend or stabilize the variance\n",
    "* We will then use the new transformed series as the \"working\" time series for the remainder of the analysis  "
   ]
  },
  {
   "cell_type": "markdown",
   "metadata": {
    "slideshow": {
     "slide_type": "slide"
    }
   },
   "source": [
    "### ARIMA introduction  \n",
    "\n",
    "* ARIMA(p,d,q) consists of: \n",
    "    * AR(p): persistence of history through AR terms\n",
    "    * I(d): trend\n",
    "    * MA(q): influence of past shocks through MA terms\n",
    "* Can add higher order lags for seasonality"
   ]
  },
  {
   "cell_type": "markdown",
   "metadata": {
    "slideshow": {
     "slide_type": "slide"
    }
   },
   "source": [
    "#### AR(p)  \n",
    "\n",
    "AR(p) means auto-regressive of order p:  \n",
    "\n",
    "$$ y_t = \u001e",
    "\\phi_1  y_{t−1} + \\dots + \u001e",
    "\\phi_p  y_{t−p} + \\varepsilon_t $$"
   ]
  },
  {
   "cell_type": "markdown",
   "metadata": {
    "slideshow": {
     "slide_type": "slide"
    }
   },
   "source": [
    "#### MA(q)  \n",
    "\n",
    "An MA(q) model captures the persistence of past shocks.  \n",
    "\n",
    "MA(q) means moving average of order q:  \n",
    "\n",
    "$$ y_t = \\varepsilon_t +  \\theta_1  \\varepsilon_{t−1} + \\dots + \\theta_q \\varepsilon_{t - q} $$"
   ]
  },
  {
   "cell_type": "markdown",
   "metadata": {
    "slideshow": {
     "slide_type": "slide"
    }
   },
   "source": [
    "#### I(d)   \n",
    "\n",
    "An I(d) model captures the non-stationary trend.  \n",
    "\n",
    "* I(d) means integrated of order d:\n",
    "$$ y_t = y_{t−1} + \\mu + \\varepsilon_t $$  \n",
    "* d is how many times you must difference the series so that it is stationary\n",
    "* Usually, $d \\in {0, 1, 2}$\n",
    "* Differencing should remove the trend component\n",
    "* Compute differences with `np.diff(n=d)` or `pd.Series.diff(periods=d)`"
   ]
  },
  {
   "cell_type": "markdown",
   "metadata": {
    "slideshow": {
     "slide_type": "slide"
    }
   },
   "source": [
    "### ARIMA models  \n",
    "\n",
    "An ARIMA(p,d,q) is a general model which includes AR, I, and MA:  \n",
    "\n",
    "* AR(p): AR of order p\n",
    "* I(d): I of order d\n",
    "* MA(q): MA of order q  \n",
    "\n",
    "Remarks:\n",
    "* AR, I, and/or MA may be missing from a general ARIMA model\n",
    "* May also include seasonal components . . . Specify as ARIMA(p,d,q)(P,D,Q)\n",
    "* If d = 0 $\\Rightarrow$ ARIMA becomes ARMA"
   ]
  },
  {
   "cell_type": "markdown",
   "metadata": {
    "slideshow": {
     "slide_type": "slide"
    }
   },
   "source": [
    "### Box-Jenkins Method  \n",
    "\n",
    "General Steps:\n",
    "* Identify the steps needed to achieve stationarity (detrending,\n",
    "differencing, and/or transformations)\n",
    "* Utilize ACF to see if stationarity is achieved. Lags should die\n",
    "down quickly.\n",
    "* Use ACF/PACF to identify potential models by where the lags\n",
    "cut off.\n",
    "    * PACF identifies AR(p)\n",
    "    * ACF identifies MA(q)\n",
    "* Fit model and examine residuals\n",
    "    * If white noise, you're done\n",
    "    * Else, identify additional components and update model"
   ]
  },
  {
   "cell_type": "code",
   "execution_count": 1,
   "metadata": {
    "collapsed": false,
    "slideshow": {
     "slide_type": "skip"
    }
   },
   "outputs": [
    {
     "name": "stdout",
     "output_type": "stream",
     "text": [
      "Populating the interactive namespace from numpy and matplotlib\n"
     ]
    }
   ],
   "source": [
    "%pylab inline\n",
    "import pandas as pd\n",
    "import statsmodels.api as sm"
   ]
  },
  {
   "cell_type": "code",
   "execution_count": 2,
   "metadata": {
    "collapsed": true,
    "slideshow": {
     "slide_type": "skip"
    }
   },
   "outputs": [],
   "source": [
    "np.random.seed(12345)\n",
    "arparams = np.array([.75, -.25])\n",
    "maparams = np.array([.65, .35])\n",
    "ar = np.r_[1, -arparams] # add zero-lag and negate\n",
    "ma = np.r_[1, maparams] # add zero-lag\n",
    "y = sm.tsa.arma_generate_sample(ar, ma, 250)"
   ]
  },
  {
   "cell_type": "code",
   "execution_count": 3,
   "metadata": {
    "collapsed": false,
    "slideshow": {
     "slide_type": "slide"
    }
   },
   "outputs": [
    {
     "data": {
      "image/png": "[encoded data removed]",
      "text/plain": [
       "<matplotlib.figure.Figure at 0x1040f6cf8>"
      ]
     },
     "metadata": {},
     "output_type": "display_data"
    }
   ],
   "source": [
    "sm.graphics.tsa.plot_acf(y, lags=28, alpha=0.05);"
   ]
  },
  {
   "cell_type": "code",
   "execution_count": 4,
   "metadata": {
    "collapsed": false,
    "slideshow": {
     "slide_type": "slide"
    }
   },
   "outputs": [
    {
     "data": {
      "image/png": "[encoded data removed]",
      "text/plain": [
       "<matplotlib.figure.Figure at 0x116f155f8>"
      ]
     },
     "metadata": {},
     "output_type": "display_data"
    }
   ],
   "source": [
    "sm.graphics.tsa.plot_pacf(y, lags=28, alpha=0.05);"
   ]
  },
  {
   "cell_type": "code",
   "execution_count": 5,
   "metadata": {
    "collapsed": false,
    "slideshow": {
     "slide_type": "slide"
    }
   },
   "outputs": [
    {
     "data": {
      "text/html": [
       "<table class=\"simpletable\">\n",
       "<tr>\n",
       "        <td>Model:</td>              <td>ARIMA</td>              <td>BIC:</td>          <td>1539.7400</td>\n",
       "</tr>\n",
       "<tr>\n",
       "  <td>Dependent Variable:</td>       <td>D.m1</td>          <td>Log-Likelihood:</td>     <td>-759.25</td> \n",
       "</tr>\n",
       "<tr>\n",
       "         <td>Date:</td>        <td>2016-10-04 11:13</td>        <td>Scale:</td>          <td>1.0000</td>  \n",
       "</tr>\n",
       "<tr>\n",
       "   <td>No. Observations:</td>         <td>202</td>              <td>Method:</td>         <td>css-mle</td> \n",
       "</tr>\n",
       "<tr>\n",
       "       <td>Df Model:</td>              <td>3</td>               <td>Sample:</td>       <td>06-30-1959</td>\n",
       "</tr>\n",
       "<tr>\n",
       "     <td>Df Residuals:</td>           <td>199</td>                 <td></td>           <td>09-30-2009</td>\n",
       "</tr>\n",
       "<tr>\n",
       "      <td>Converged:</td>           <td>1.0000</td>      <td>S.D. of innovations:</td>   <td>10.364</td>  \n",
       "</tr>\n",
       "<tr>\n",
       "         <td>AIC:</td>             <td>1526.5069</td>            <td>HQIC:</td>         <td>1531.861</td> \n",
       "</tr>\n",
       "</table>\n",
       "<table class=\"simpletable\">\n",
       "<tr>\n",
       "       <td></td>       <th>Coef.</th>  <th>Std.Err.</th>    <th>t</th>     <th>P>|t|</th> <th>[0.025</th>  <th>0.975]</th> \n",
       "</tr>\n",
       "<tr>\n",
       "  <th>const</th>      <td>7.9682</td>   <td>2.5951</td>  <td>3.0705</td>  <td>0.0024</td> <td>2.8820</td>  <td>13.0544</td>\n",
       "</tr>\n",
       "<tr>\n",
       "  <th>ar.L1.D.m1</th> <td>0.8290</td>   <td>0.0613</td>  <td>13.5210</td> <td>0.0000</td> <td>0.7088</td>  <td>0.9491</td> \n",
       "</tr>\n",
       "<tr>\n",
       "  <th>ma.L1.D.m1</th> <td>-0.3806</td>  <td>0.0931</td>  <td>-4.0905</td> <td>0.0001</td> <td>-0.5630</td> <td>-0.1983</td>\n",
       "</tr>\n",
       "</table>\n",
       "<table class=\"simpletable\">\n",
       "<tr>\n",
       "    <td></td>    <th>Real</th>  <th>Imaginary</th> <th>Modulus</th> <th>Frequency</th>\n",
       "</tr>\n",
       "<tr>\n",
       "  <th>AR.1</th> <td>1.2063</td>  <td>0.0000</td>   <td>1.2063</td>   <td>0.0000</td>  \n",
       "</tr>\n",
       "<tr>\n",
       "  <th>MA.1</th> <td>2.6272</td>  <td>0.0000</td>   <td>2.6272</td>   <td>0.0000</td>  \n",
       "</tr>\n",
       "</table>"
      ],
      "text/plain": [
       "<class 'statsmodels.iolib.summary2.Summary'>\n",
       "\"\"\"\n",
       "                           Results: ARIMA\n",
       "====================================================================\n",
       "Model:              ARIMA            BIC:                 1539.7400 \n",
       "Dependent Variable: D.m1             Log-Likelihood:      -759.25   \n",
       "Date:               2016-10-04 11:13 Scale:               1.0000    \n",
       "No. Observations:   202              Method:              css-mle   \n",
       "Df Model:           3                Sample:              06-30-1959\n",
       "Df Residuals:       199                                   09-30-2009\n",
       "Converged:          1.0000           S.D. of innovations: 10.364    \n",
       "AIC:                1526.5069        HQIC:                1531.861  \n",
       "----------------------------------------------------------------------\n",
       "              Coef.    Std.Err.      t      P>|t|     [0.025    0.975]\n",
       "----------------------------------------------------------------------\n",
       "const         7.9682     2.5951    3.0705   0.0024    2.8820   13.0544\n",
       "ar.L1.D.m1    0.8290     0.0613   13.5210   0.0000    0.7088    0.9491\n",
       "ma.L1.D.m1   -0.3806     0.0931   -4.0905   0.0001   -0.5630   -0.1983\n",
       "-----------------------------------------------------------------------------\n",
       "                 Real           Imaginary          Modulus          Frequency\n",
       "-----------------------------------------------------------------------------\n",
       "AR.1            1.2063             0.0000           1.2063             0.0000\n",
       "MA.1            2.6272             0.0000           2.6272             0.0000\n",
       "====================================================================\n",
       "\n",
       "\"\"\""
      ]
     },
     "execution_count": 5,
     "metadata": {},
     "output_type": "execute_result"
    }
   ],
   "source": [
    "data = sm.datasets.macrodata.load_pandas()\n",
    "df = data.data\n",
    "df.index = pd.Index(sm.tsa.datetools.dates_from_range('1959Q1', '2009Q3'))\n",
    "y = df.m1\n",
    "X = df[['realgdp', 'cpi']]\n",
    "model = sm.tsa.ARIMA(endog=y, order=[1,1,1])\n",
    "results = model.fit()\n",
    "results.summary2()"
   ]
  },
  {
   "cell_type": "code",
   "execution_count": 6,
   "metadata": {
    "collapsed": false,
    "slideshow": {
     "slide_type": "slide"
    }
   },
   "outputs": [
    {
     "data": {
      "text/plain": [
       "array([ 1699.86834437,  1722.75810998,  1743.09582822,  1761.31797748,\n",
       "        1777.78638493,  1792.80099422,  1806.61044941,  1819.42086884,\n",
       "        1831.40311824,  1842.69884011])"
      ]
     },
     "execution_count": 6,
     "metadata": {},
     "output_type": "execute_result"
    }
   ],
   "source": [
    "y_hat, stderr, pred_int = results.forecast(steps=10, alpha=0.05)\n",
    "y_hat"
   ]
  },
  {
   "cell_type": "markdown",
   "metadata": {
    "slideshow": {
     "slide_type": "slide"
    }
   },
   "source": [
    "### Seasonal ARIMA  \n",
    "\n",
    "Seasonal ARIMA (or SARIMA(p,d,q)x(P,D,Q)xL) are an extension\n",
    "of ARIMA(p,d,q) models to address seasonality.  \n",
    "\n",
    "Methods used are identical to those above except we focus on the\n",
    "seasonal lags (L) including taking a seasonal difference $\\nabla^D$ which is the difference in the seasonal lags.  \n",
    "\n",
    "For Example:\n",
    "* If quarterly data, we would focus on lags: 4, 8, 12, etc\n",
    "* If monthly data, we would focus on lags: 12, 24, 36, etc\n",
    "* If daily data, we might focus on lags: 7, 14, 21, etc\n",
    "* If hourly data, we might focus on lags: 24, 48, 72, etc  \n",
    "\n",
    "We can fit seasonal ARIMA model using `statsmodels.tsa.SARIMAX` in Python."
   ]
  }
 ],
 "metadata": {
  "anaconda-cloud": {},
  "kernelspec": {
   "display_name": "Python [Root]",
   "language": "python",
   "name": "Python [Root]"
  },
  "language_info": {
   "codemirror_mode": {
    "name": "ipython",
    "version": 3
   },
   "file_extension": ".py",
   "mimetype": "text/x-python",
   "name": "python",
   "nbconvert_exporter": "python",
   "pygments_lexer": "ipython3",
   "version": "3.5.2"
  }
 },
 "nbformat": 4,
 "nbformat_minor": 0
}
