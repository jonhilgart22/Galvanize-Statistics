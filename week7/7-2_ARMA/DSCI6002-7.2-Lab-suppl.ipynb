{
 "cells": [
  {
   "cell_type": "markdown",
   "metadata": {},
   "source": [
    "# Lab 7.2 Supplement: ETS and ARIMA"
   ]
  },
  {
   "cell_type": "markdown",
   "metadata": {},
   "source": [
    "## Modeling Monthly Birth Data   \n",
    "\n",
    "...continuing from yesterday's lab...."
   ]
  },
  {
   "cell_type": "markdown",
   "metadata": {},
   "source": [
    "11) Use time series regression methods to fit a model. Using `OLS` in `statsmodels`, fit the overall trend with increasing polynomial terms. \n",
    "    - You will need to take your `time` variable and create `time^2, time^3\n",
    "    time^4, time^5`\n",
    "    - Increase model complexity by adding a higher order term\n",
    "        - Examine the summary information and compare each model to the \n",
    "          model before it (i.e. simple linear with `time` compared to 2nd order\n",
    "          polynomial with `time` + `time^2`) by examining AIC/BIC.\n",
    "        - Superimpose (by plotting) the fitted onto the original data and predict\n",
    "          the values for 2011\n",
    "        - Keep increasing until general trend has been captured \n",
    "          (You won't be able to capture the bump between 1999-2004 without a very \n",
    "          complicated model and there's no reason to assume that future values \n",
    "          wouldn't follow the more general trend) "
   ]
  },
  {
   "cell_type": "markdown",
   "metadata": {},
   "source": [
    "12) Now that you have fit trend, add in the monthly component via dummy variables to capture seasonality.  You could  also try to create a 'seasons of the year' variable and fit the quarterly time series instead of the original monthly time you plotted earlier...opportunity to play around."
   ]
  },
  {
   "cell_type": "markdown",
   "metadata": {},
   "source": [
    "13) Plot the `dates` variable (`x`) against the residuals (`y`) of the final model (including the seasonality term).\n",
    "    Is there an obvious pattern of the residuals with respect to time? If there is any autocorrelation left in the \n",
    "    model, there will be some pattern in your residual and we'll learn to address that in the afternoon."
   ]
  },
  {
   "cell_type": "markdown",
   "metadata": {},
   "source": [
    "14) Fit a ARIMA or seasonal ARIMA model to the birth data."
   ]
  }
 ],
 "metadata": {
  "anaconda-cloud": {},
  "kernelspec": {
   "display_name": "Python [Root]",
   "language": "python",
   "name": "Python [Root]"
  },
  "language_info": {
   "codemirror_mode": {
    "name": "ipython",
    "version": 3
   },
   "file_extension": ".py",
   "mimetype": "text/x-python",
   "name": "python",
   "nbconvert_exporter": "python",
   "pygments_lexer": "ipython3",
   "version": "3.5.2"
  }
 },
 "nbformat": 4,
 "nbformat_minor": 0
}
