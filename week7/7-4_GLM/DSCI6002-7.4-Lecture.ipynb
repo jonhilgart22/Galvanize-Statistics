{
 "cells": [
  {
   "cell_type": "markdown",
   "metadata": {},
   "source": [
    "# Lecture 7.4: The Generalized Linear Model"
   ]
  },
  {
   "cell_type": "markdown",
   "metadata": {},
   "source": [
    "## Outline  \n",
    "\n",
    "* [Logistic Regression Review](#Logistic-Regression-Review)\n",
    "* [Generalized Linear Model](#GLM)\n",
    "* [Bernoulli (binomial) Distribution](#Bernoulli-Distribution)\n",
    "* [Interpreting Results](#Interpreting-Results)"
   ]
  },
  {
   "cell_type": "markdown",
   "metadata": {},
   "source": [
    "# Logistic Regression Review"
   ]
  },
  {
   "cell_type": "markdown",
   "metadata": {},
   "source": [
    "### Example\n",
    "\n",
    "Emails are collected from a single email account, and we want to develop a basic spam filter using these data. The response variable, spam, has been encoded to take value 0 when a message is not spam and 1 when it is spam. Our task is to build an appropriate model that classifies messages as spam or not spam using email characteristics coded as predictor variables."
   ]
  },
  {
   "cell_type": "code",
   "execution_count": null,
   "metadata": {
    "collapsed": false
   },
   "outputs": [],
   "source": [
    "%pylab inline\n",
    "\n",
    "import pandas as pd\n",
    "import seaborn as sns\n",
    "import statsmodels.formula.api as smf\n",
    "import yaml\n",
    "\n",
    "from sqlalchemy import create_engine\n",
    "from statsmodels.genmod.families import family\n",
    "\n",
    "pg_creds = yaml.load(open('../../pg_creds.yaml'))['student']\n",
    "\n",
    "engine = create_engine('postgresql://{user}:{password}@{host}:{port}/{dbname}'.format(**pg_creds))"
   ]
  },
  {
   "cell_type": "code",
   "execution_count": null,
   "metadata": {
    "collapsed": false
   },
   "outputs": [],
   "source": [
    "emails = pd.read_sql_table('email', engine, index_col='msg_id')\n",
    "emails.head()"
   ]
  },
  {
   "cell_type": "markdown",
   "metadata": {},
   "source": [
    "We will use the following variables to build the model:  \n",
    "\n",
    "* `spam`: Specifies whether the message was spam  \n",
    "\n",
    "* `num_char`: The number of characters in the email  \n",
    "\n",
    "* `line_breaks`: The number of line breaks in the email (not including text wrapping)\n",
    "\n",
    "* `to_multiple`: An indicator variable for if more than one person was listed in the To field of the email.  \n",
    "\n",
    "* `cc`: An indicator for if someone was CCed on the email.  \n",
    "\n",
    "* `attach`: An indicator for if there was an attachment, such as a document or image.  \n",
    "\n",
    "* `dollar`: An indicator for if the word \"dollar\" or dollar symbol (\\$) appeared in the email.  \n",
    "\n",
    "* `re_subj`: Indicates whether \"Re:\" was included at the start of the email subject."
   ]
  },
  {
   "cell_type": "markdown",
   "metadata": {},
   "source": [
    "First, let's try to build a simple linear regression model to classify the emails based on the number of characters in the email - `num_char`."
   ]
  },
  {
   "cell_type": "code",
   "execution_count": null,
   "metadata": {
    "collapsed": false
   },
   "outputs": [],
   "source": [
    "sns.lmplot('num_char', 'spam', emails, aspect=1.5, y_jitter=.1, fit_reg=False);"
   ]
  },
  {
   "cell_type": "markdown",
   "metadata": {},
   "source": [
    "<!--\n",
    "We use logistic regression to convert probabilities...\n",
    "========================================================\n",
    "![probabilities](images/logistic_regression1.png)\n",
    "\n",
    "...into class labels!\n",
    "========================================================\n",
    "![class labels](images/logistic_regression2.png)\n",
    "\n",
    "Probabilities are “snapped” to class labels  \n",
    "(e.g. by threshholding at 50%).\n",
    "\n",
    "Example problems: Logistic Regression\n",
    "========================================================\n",
    "Credit Transactions: Fraudulent? (Yes, No)\n",
    "\n",
    "Gender of a user: (boy, girl)\n",
    "\n",
    "Do I have $x$ disease: (yes, no)\n",
    "\n",
    "Will a student get the question right on the test? (yes, no)\n",
    "-->\n",
    "\n",
    "Logistic vs Linear Regression\n",
    "========================================================\n",
    "Both of these models work similarly. In fact, we can think of logistic regression as an extension of linear regression.\n",
    "\n",
    "There are a couple important differences, however\n",
    "\n",
    "- Difference 1: Outcome Variables\n",
    "- Difference 2: Error Terms"
   ]
  },
  {
   "cell_type": "markdown",
   "metadata": {},
   "source": [
    "### The Linear Regression Model"
   ]
  },
  {
   "cell_type": "code",
   "execution_count": null,
   "metadata": {
    "collapsed": false
   },
   "outputs": [],
   "source": [
    "model1 = smf.ols('spam ~ num_char', data = emails).fit()\n",
    "model1.summary()"
   ]
  },
  {
   "cell_type": "code",
   "execution_count": null,
   "metadata": {
    "collapsed": false
   },
   "outputs": [],
   "source": [
    "sns.lmplot('num_char', 'spam', emails, aspect=1.5, y_jitter=.1);"
   ]
  },
  {
   "cell_type": "markdown",
   "metadata": {},
   "source": [
    "### The Logistic Regression Model"
   ]
  },
  {
   "cell_type": "code",
   "execution_count": null,
   "metadata": {
    "collapsed": false
   },
   "outputs": [],
   "source": [
    "logit_model1 = smf.logit('spam ~ num_char', data = emails).fit()\n",
    "logit_model1.summary()"
   ]
  },
  {
   "cell_type": "code",
   "execution_count": null,
   "metadata": {
    "collapsed": false
   },
   "outputs": [],
   "source": [
    "sns.lmplot('num_char', 'spam', emails, aspect=1.5, y_jitter=.1, logistic=True);"
   ]
  },
  {
   "cell_type": "markdown",
   "metadata": {},
   "source": [
    "<!--\n",
    "The Python output states that  \n",
    "\n",
    "$$ P(spam = 1) = \\frac{exp(-1.7987 - 0.0621 \\times num\\_char)}{1 + exp(-1.7987 - 0.0621 \\times num\\_char)} $$\n",
    "-->"
   ]
  },
  {
   "cell_type": "markdown",
   "metadata": {},
   "source": [
    "# Outcome Variables"
   ]
  },
  {
   "cell_type": "markdown",
   "metadata": {},
   "source": [
    "The key variable in any regression problem is the **conditional mean** of the outcome variable y given the value of the covariate x:\n",
    "\n",
    "_Conditional mean_: $E(y|x)$\n",
    "\n",
    "In linear regression, we assume that this conditional mean is a linear function taking values in $(-\\infty, +\\infty)$:\n",
    "\n",
    "$$ E(y|x) = \\alpha + \\beta x $$\n",
    "\n",
    "## Why we shouldn't use linear regression for classification problems\n",
    "\n",
    "Bounds can be greater than 0 and 1\n",
    "\n",
    "Sometimes extra data can really throw off our thresholds\n",
    "\n",
    "Impossible to scale/predict when data throws off the regression\n",
    "\n",
    "## Outcome Variables\n",
    "\n",
    "In logistic regression, we’ve seen that the _conditional mean of the outcome variable takes values only in the unit interval [0, 1]_.\n",
    "\n",
    "0 = negative class (false)\n",
    "\n",
    "1 = positive class (true)\n",
    "\n",
    "The first step in extending linear regression to logistic regression is to map the outcome variable $E(y|x)$ into the unit interval.\n",
    "\n",
    "## How do we do this?\n",
    "\n",
    "By using a transformation called the **logistic function**:\n",
    "$$ E(y \\mid x) = \\pi(x) = \\frac{e^{\\alpha + \\beta x}}{1 + e^{\\alpha + \\beta x}} $$\n",
    "\n",
    "We've already seen what this looks like:  \n",
    "![probabilities](images/logistic_regression1.png)\n",
    "\n",
    "For any value of x, y is in the interval [0, 1]  \n",
    "This is a nonlinear transformation!\n",
    "\n",
    "## The Logistic Function\n",
    "\n",
    "The **logit function** is an important transformation of the logistic function. Notice that it returns the linear model!  \n",
    "$$ g(x) = ln\\left(\\frac{\\pi(x)}{1-\\pi(x)}\\right) = \\alpha + \\beta x $$\n",
    "\n",
    "Here, $\\pi(x)$ ($pi$ of $x$) is the probability of $x$ occuring\n",
    "\n",
    "(The logit function is also called the **log-odds function**)\n",
    "\n",
    "## Outcome Variables - Review\n",
    "\n",
    "The expected outcome for a logistic regression is anywhere in the range of 0 and 1.\n",
    "\n",
    "A conditional mean just represents the average expected value from a prediction\n",
    "\n",
    "The logistic formula transformation is what allows us to scale our regression results"
   ]
  },
  {
   "cell_type": "markdown",
   "metadata": {},
   "source": [
    "# Error Terms"
   ]
  },
  {
   "cell_type": "markdown",
   "metadata": {},
   "source": [
    "The second difference between linear regression and the logistic regression model is in the error term.\n",
    "\n",
    "One of the key assumptions of linear regression is that the error terms follow independent Gaussian distributions with zero mean and constant variance:  \n",
    "$$ \\epsilon \\sim N(0, \\sigma^2) $$\n",
    "\n",
    "## OLS vs. MLE\n",
    "\n",
    "Consider the following:  "
   ]
  },
  {
   "cell_type": "markdown",
   "metadata": {},
   "source": [
    "| Case | Model 1 | Model 2 | Observed Value |\n",
    "|:----:|:-------:|:-------:|:----:|\n",
    "|   1   |    0.8 |     1.0 | 1 |\n",
    "|   2   |    0.1 |     0.0 | 1 |\n",
    "|   3   |    0.9 |     1.0 | 1 |\n",
    "|   4   |    0.5 |     0.0 | 0 |\n",
    "| Sum Sq. Resid | 1.11 | 1.00 |"
   ]
  },
  {
   "cell_type": "markdown",
   "metadata": {},
   "source": [
    "According to OLS, Model 2 is superior than model _even though Model 2 says it's **impossible** to have an outcome of 1 in case 2_.\n",
    "\n",
    "## Logistic Regression\n",
    "\n",
    "In logistic regression, the outcome variable can take only two values: 0 or 1.\n",
    "\n",
    "It’s easy to show from this that instead of following a Gaussian distribution, the error term in logistic regression follows a Bernoulli distribution:  \n",
    "$$ \\epsilon \\sim B(0, \\pi(1-\\pi)) $$\n",
    "\n",
    "This is the same distribution followed by a coin toss.  \n",
    "Think about why this makes sense!\n",
    "\n",
    "## OLS vs. MLE\n",
    "\n",
    "This is no good. If our model says an event is _impossible_ but it happens anyway, _that is not a good model_. \n",
    "\n",
    "Remember: we are dealing with probabilities. We should _treat_ them like probabilities.\n",
    "\n",
    "Model 1: $P(1,1,1,0) = 0.8 \\times 0.1 \\times 0.9 \\times (1-0.5) = 0.036$\n",
    "\n",
    "Model 2: $P(1,1,1,0) = 1 \\times 0 \\times 1 \\times (1 - 0) = 0$\n",
    "\n",
    "**Conclusion:** Model 1 is better.\n",
    "\n",
    "This is called the Maximum Liklihood Estimate or MLE"
   ]
  },
  {
   "cell_type": "markdown",
   "metadata": {},
   "source": [
    "# GLM"
   ]
  },
  {
   "cell_type": "markdown",
   "metadata": {},
   "source": [
    "These two key differences define the logistic regression model, and they also lead us to a kind of unification of regression techniques called **generalized linear models**.\n",
    "\n",
    "Briefly, GLMs generalize the distribution of the error term, and allow the conditional mean of the response variable to be related to the linear model by a **link function**.\n",
    "\n",
    "In the present case, the error term follows a Bernoulli distribution, and the logit is the link function that connects us to the linear predictor.\n",
    "\n",
    "$$ g(x) = ln\\left(\\frac{\\pi(x)}{1-\\pi(x)}\\right) = \\alpha + \\beta x $$\n",
    "\n",
    "Since the Bernoulli distribution and the logit function share a common parameter $\\pi$, we say that the logit is the **canonical link function** for the Bernoulli distribution."
   ]
  },
  {
   "cell_type": "markdown",
   "metadata": {},
   "source": [
    "## Linear Regression using OLS in `statsmodels`"
   ]
  },
  {
   "cell_type": "code",
   "execution_count": null,
   "metadata": {
    "collapsed": false
   },
   "outputs": [],
   "source": [
    "model1 = smf.ols('spam ~ num_char', data = emails).fit()\n",
    "model1.params"
   ]
  },
  {
   "cell_type": "markdown",
   "metadata": {},
   "source": [
    "## Linear Regression using GLM in `statsmodels`"
   ]
  },
  {
   "cell_type": "code",
   "execution_count": null,
   "metadata": {
    "collapsed": false
   },
   "outputs": [],
   "source": [
    "glm_norm = smf.glm('spam ~ num_char', data = emails).fit()\n",
    "glm_norm.params"
   ]
  },
  {
   "cell_type": "markdown",
   "metadata": {},
   "source": [
    "## Linear Regression using GLM (with `family` specified)"
   ]
  },
  {
   "cell_type": "markdown",
   "metadata": {},
   "source": [
    "<!--small>*For some reason,* \n",
    "```python\n",
    "from statsmodels.api.families import Gaussian, Binomial\n",
    "```\n",
    "*doesn't work.*</small-->"
   ]
  },
  {
   "cell_type": "code",
   "execution_count": null,
   "metadata": {
    "collapsed": false
   },
   "outputs": [],
   "source": [
    "glm_norm = smf.glm('spam ~ num_char', data = emails, family=family.Gaussian()).fit()\n",
    "glm_norm.params"
   ]
  },
  {
   "cell_type": "markdown",
   "metadata": {},
   "source": [
    "## Logistic Regression using Logit"
   ]
  },
  {
   "cell_type": "code",
   "execution_count": null,
   "metadata": {
    "collapsed": false
   },
   "outputs": [],
   "source": [
    "smf.logit('spam ~ num_char', data = emails).fit().params"
   ]
  },
  {
   "cell_type": "markdown",
   "metadata": {},
   "source": [
    "## Logistic Regression using GLM"
   ]
  },
  {
   "cell_type": "code",
   "execution_count": null,
   "metadata": {
    "collapsed": false
   },
   "outputs": [],
   "source": [
    "glm_binom = smf.glm('spam ~ num_char', data = emails, family=family.Binomial()).fit()\n",
    "glm_binom.params"
   ]
  },
  {
   "cell_type": "markdown",
   "metadata": {},
   "source": [
    "# Bernoulli Distribution"
   ]
  },
  {
   "cell_type": "code",
   "execution_count": null,
   "metadata": {
    "collapsed": false
   },
   "outputs": [],
   "source": [
    "sns.lmplot('num_char', 'spam', emails, aspect=1.5, y_jitter=.1, logistic=True);"
   ]
  },
  {
   "cell_type": "markdown",
   "metadata": {},
   "source": [
    "This utilizes logit for our link function."
   ]
  },
  {
   "cell_type": "markdown",
   "metadata": {},
   "source": [
    "Error terms - Review\n",
    "========================================================\n",
    "The Gaussian discribution represents the typical distribution we'd see in a linear regression\n",
    "\n",
    "The Bernoulli represents the typical distribution we'd see in a logistic regression\n",
    "\n",
    "Understanding these two distrubutions helps us better understand what should be expected in our outcomes"
   ]
  },
  {
   "cell_type": "markdown",
   "metadata": {},
   "source": [
    "---"
   ]
  },
  {
   "cell_type": "markdown",
   "metadata": {},
   "source": [
    "# GLM for Poisson Data"
   ]
  },
  {
   "cell_type": "markdown",
   "metadata": {},
   "source": [
    "### GLM for Counts\n",
    "\n",
    "Situation: The outcome variable $Y$ is a count\n",
    "\n",
    "GLM for counts have as it’s random component the **Poisson Distribution**\n",
    "\n",
    "1. Number of cargo ships damaged by waves (classic example given by McCullagh & Nelder, 1989)\n",
    "2. Number of deaths due to AIDS in Australia per quarter\n",
    "3. Daily homicide counts in California"
   ]
  },
  {
   "cell_type": "markdown",
   "metadata": {},
   "source": [
    "### Poisson Rates\n",
    "\n",
    "In some cases, the counts are affected by the amount of “exposure”.\n",
    "\n",
    "For example, the number of homicides may be affected by\n",
    "\n",
    "1. The underlying population size\n",
    "2. The local gun laws\n",
    "3. The size of the police force\n",
    "\n",
    "When this occurs, we may want to take into account the “denominator” and form a rate such as\n",
    "\n",
    "$$\\frac{Y}{t} = rate$$\n",
    "\n",
    "where $t$ represents a quantification of exposure.\n",
    "\n",
    "We will also look that this defined as\n",
    "$$Y = rate \\times t$$"
   ]
  },
  {
   "cell_type": "markdown",
   "metadata": {},
   "source": [
    "### Components of the GLM\n",
    "\n",
    "The components of a GLM for a count response are\n",
    "\n",
    "1. Random Component: Poisson distribution and model the expected value of $Y$, denoted by $E(Y) = \\mu$.\n",
    "2. Systematic component: For now we will look at just one explanatory variable $x$\n",
    "3. Link: We could use\n",
    "    1. **Identity Link** which would give us $$\\mu = \\alpha + \\beta x$$ But, just as for binomial data, the model can yield $\\mu < 0$ (Note $\\mu \\geq 0$)\n",
    "    2. **Log Link** (most common and the canonical link) $$log(\\mu) = \\alpha + \\beta x$$"
   ]
  },
  {
   "cell_type": "markdown",
   "metadata": {},
   "source": [
    "### Poisson Loglinear Model\n",
    "\n",
    "Our model is\n",
    "$$log(\\mu) = \\alpha + \\beta x$$\n",
    "\n",
    "Since the log of the expected value of $Y$ is a linear function of explanatory variable(s), and\n",
    "the expected value of $Y$ is a multiplicative function of $x$:\n",
    "\n",
    "$$\\mu = e^{\\alpha+\\beta x}\\\\\n",
    "\\mu = e^\\alpha e^{\\beta x}$$\n",
    "What does this mean for $\\mu$? How do we interpret $\\beta$?"
   ]
  },
  {
   "cell_type": "markdown",
   "metadata": {},
   "source": [
    "Consider 2 values of $x$, say ($x_1$ & $x_2$) such that the difference between them equals 1. For\n",
    "example, $x_1 = 10$ and $x_2 = 11$.\n",
    "\n",
    "Denote, $\\mu_1 = E(Y | x = 10)$. Then\n",
    "$$\\mu_1 = e^\\alpha e^{\\beta 10}$$\n",
    "and the expected value when $x = 11$ is\n",
    "$$\\mu_2 = e^\\alpha e^{\\beta 11}\\\\\n",
    "= e^\\alpha e^{\\beta 10} e^\\beta\\\\\n",
    "= \\mu_1 e^\\beta$$\n",
    "Thus, a 1-unit change in $x$ has a multiplicative effect on the mean of $Y$."
   ]
  },
  {
   "cell_type": "markdown",
   "metadata": {},
   "source": [
    "1. If $\\beta = 0$, then $e^0 = 1$ and $\\mu_2$ is the same as $\\mu_1$. That is, $\\mu = E(Y)$ is not related to $x$.\n",
    "2. if $\\beta > 0$, then $e^\\beta > 1$ and $\\mu_2$ is $e^\\beta$ times **larger** than $\\mu_1$.\n",
    "3. if $\\beta < 0$, then $e^\\beta < 1$ and $\\mu_2$ is $e^\\beta$ times **smaller** than $\\mu_1$."
   ]
  },
  {
   "cell_type": "markdown",
   "metadata": {},
   "source": [
    "### Example \n",
    "\n",
    "<!--small>Adapted from [stat.umn.edu/geyer/5931/mle/seeds.pdf](http://www.stat.umn.edu/geyer/5931/mle/seeds.pdf)</small-->\n",
    "\n",
    "As part of a research program to assess the evolutionary consequences of extreme\n",
    "population fragmentation, Stuart Wagenius has conducted a field experiment to \n",
    "study seedling recruitment in *Echinacea angustifolia*\n",
    "(purple coneflower).  The \n",
    "experiment was designed to test the effect of different vegetation types and \n",
    "burn treatments on recruitment.  Interactions between these factors were also\n",
    "of interest.\n",
    "\n",
    "Approximately 100 seeds were sown into each plot.  In order to establish the \n",
    "viability of each seed lot, germination trials were conducted in the lab on\n",
    "randomly chosen lots of a known number of seeds (also around 100).  It was \n",
    "of interest to take into account the results of the germination trials in \n",
    "the analysis of the data from the field experiment.\n",
    "\n",
    "The experiment was conducted for three years, with new lots of seeds sown \n",
    "into a separate set of plots in the fall of each year and seedling \n",
    "establishment monitored in the spring.  \n",
    "\n",
    "The data for the year 2003 can be read into `python` and inspected by"
   ]
  },
  {
   "cell_type": "code",
   "execution_count": null,
   "metadata": {
    "collapsed": false
   },
   "outputs": [],
   "source": [
    "mydata = pd.read_table(\"https://s3-us-west-2.amazonaws.com/dsci/6002/data/seeds.txt\", delim_whitespace=True)\n",
    "mydata.head()"
   ]
  },
  {
   "cell_type": "markdown",
   "metadata": {},
   "source": [
    "from which we see there are six variables in the data set\n",
    "`vegtype`, `burn01`, `burn02`, `burn03`,\n",
    "`totalseeds`, and `seedlings`.\n",
    "\n",
    "Working backwards from the end, `seedlings` is the number of seedlings\n",
    "that sprouted.  This is the response and is assumed to be\n",
    "$\\text{Poisson}(n \\lambda)$, where $n$ is the number of seeds sown,\n",
    "the variable `totalseeds` in the data set, and $\\lambda$ is some\n",
    "function of the other covariates (`vegtype` and the three `burn`\n",
    "variables).\n",
    "\n",
    "The variable `vegtype` indicates the type of field.  The `oldfield`\n",
    "part of a value (in both `oldfieldcool` and `oldfieldwarm`)\n",
    "indicates that the field was once used for agriculture.  The\n",
    "`warm` part of a value (in both `oldfieldwarm` and `plantwarm`)\n",
    "indicates warm weather grasses were growing in the field and\n",
    "the `cool` part of a value indicates cool weather grasses.\n",
    "The value `yes` for the variables `burn01`, `burn02`,\n",
    "and `burn03` indicates that a field was burned in 2001, 2002, or 2003,\n",
    "respectively.  Owing to a mistake in the experimental design `burn03`\n",
    "is completely confounded with `vegtype` and hence has been omitted from\n",
    "the analysis (this isn't right, but it is not clear what else to do)."
   ]
  },
  {
   "cell_type": "code",
   "execution_count": null,
   "metadata": {
    "collapsed": false
   },
   "outputs": [],
   "source": [
    "out = smf.glm('seedlings ~ vegtype + burn01 == \"no\" + burn02 == \"no\"', \n",
    "              data=mydata, \n",
    "              offset=log(mydata.totalseeds), \n",
    "              family=family.Poisson()).fit()\n",
    "out.summary()"
   ]
  },
  {
   "cell_type": "markdown",
   "metadata": {},
   "source": [
    "The way this works is that the mean value parameter is n\u0015. The link function\n",
    "we are using is “log” (the default for the poisson family), which makes the linear\n",
    "predictor the same as the canonical parameter\n",
    "$$\\eta = \\log(n) + \\log(\\lambda)$$\n",
    "thus we see that $\\log(n)$ is just a *known* constant additive term in the linear\n",
    "predictor. The way `statsmodels` handles such a term in the linear predictor that does\n",
    "not contain an unknown parameter to fit is as an “offset”. Since the variable\n",
    "$n$ in the math formula is the variable `totalseeds` in python, the “offset” is\n",
    "`log(totalseeds)`.\n",
    "\n",
    "Thus the model being fit is that the linear predictor value of the $i$-th case is\n",
    "$$\\eta_i = \\log(n_i) + \\sum_{j=1}^k d_{ij}\\beta_j$$\n",
    "where the $\\beta_j$ are the regression coefficients and $d_{ij}$ the value of the $j$-th dummy\n",
    "variable for the $i$-th case. You don’t create the dummy variables. `statsmodels` does that\n",
    "for itself."
   ]
  },
  {
   "cell_type": "markdown",
   "metadata": {},
   "source": [
    "From https://en.wikipedia.org/wiki/Generalized_linear_model#Link_function:\n",
    "<table class=\"wikitable\" style=\"background:white;\">\n",
    "<caption>Common distributions with typical uses and canonical link functions</caption>\n",
    "<tbody><tr>\n",
    "<th>Distribution</th>\n",
    "<th>Support of distribution</th>\n",
    "<th>Typical uses</th>\n",
    "<th>Link name</th>\n",
    "<th>Link function</th>\n",
    "<th>Mean function</th>\n",
    "</tr>\n",
    "<tr>\n",
    "<td><a href=\"/wiki/Normal_distribution\" title=\"Normal distribution\">Normal</a></td>\n",
    "<td>real: <span><span class=\"mwe-math-mathml-inline mwe-math-mathml-a11y\" style=\"display: none;\"><math xmlns=\"http://www.w3.org/1998/Math/MathML\">\n",
    "  <semantics>\n",
    "    <mrow class=\"MJX-TeXAtom-ORD\">\n",
    "      <mstyle displaystyle=\"true\" scriptlevel=\"0\">\n",
    "        <mo stretchy=\"false\">(</mo>\n",
    "        <mo>−<!-- − --></mo>\n",
    "        <mi mathvariant=\"normal\">∞<!-- ∞ --></mi>\n",
    "        <mo>,</mo>\n",
    "        <mo>+</mo>\n",
    "        <mi mathvariant=\"normal\">∞<!-- ∞ --></mi>\n",
    "        <mo stretchy=\"false\">)</mo>\n",
    "      </mstyle>\n",
    "    </mrow>\n",
    "    <annotation encoding=\"application/x-tex\">{\\displaystyle (-\\infty ,+\\infty )}</annotation>\n",
    "  </semantics>\n",
    "</math></span><img src=\"https://wikimedia.org/api/rest_v1/media/math/render/svg/e577bfa9ed1c0f83ed643206abae3cd2f234cf9c\" class=\"mwe-math-fallback-image-inline\" aria-hidden=\"true\" style=\"vertical-align: -0.838ex; width:11.18ex; height:2.843ex;\" alt=\"(-\\infty ,+\\infty )\"></span></td>\n",
    "<td>Linear-response data</td>\n",
    "<td>Identity</td>\n",
    "<td><span><span class=\"mwe-math-mathml-inline mwe-math-mathml-a11y\" style=\"display: none;\"><math xmlns=\"http://www.w3.org/1998/Math/MathML\">\n",
    "  <semantics>\n",
    "    <mrow class=\"MJX-TeXAtom-ORD\">\n",
    "      <mstyle displaystyle=\"true\" scriptlevel=\"0\">\n",
    "        <mrow class=\"MJX-TeXAtom-ORD\">\n",
    "          <mi mathvariant=\"bold\">X</mi>\n",
    "        </mrow>\n",
    "        <mrow class=\"MJX-TeXAtom-ORD\">\n",
    "          <mi mathvariant=\"bold-italic\">β<!-- β --></mi>\n",
    "        </mrow>\n",
    "        <mo>=</mo>\n",
    "        <mi>μ<!-- μ --></mi>\n",
    "        <mspace width=\"thinmathspace\"></mspace>\n",
    "        <mspace width=\"negativethinmathspace\"></mspace>\n",
    "      </mstyle>\n",
    "    </mrow>\n",
    "    <annotation encoding=\"application/x-tex\">{\\displaystyle \\mathbf {X} {\\boldsymbol {\\beta }}=\\mu \\,\\!}</annotation>\n",
    "  </semantics>\n",
    "</math></span><img src=\"https://wikimedia.org/api/rest_v1/media/math/render/svg/63238c06f9c1927aee60b40fec3adccd419cf32a\" class=\"mwe-math-fallback-image-inline\" aria-hidden=\"true\" style=\"vertical-align: -0.838ex; margin-right: -0.387ex; width:8.483ex; height:2.676ex;\" alt=\"\\mathbf {X} {\\boldsymbol {\\beta }}=\\mu \\,\\!\"></span></td>\n",
    "<td><span><span class=\"mwe-math-mathml-inline mwe-math-mathml-a11y\" style=\"display: none;\"><math xmlns=\"http://www.w3.org/1998/Math/MathML\">\n",
    "  <semantics>\n",
    "    <mrow class=\"MJX-TeXAtom-ORD\">\n",
    "      <mstyle displaystyle=\"true\" scriptlevel=\"0\">\n",
    "        <mi>μ<!-- μ --></mi>\n",
    "        <mo>=</mo>\n",
    "        <mrow class=\"MJX-TeXAtom-ORD\">\n",
    "          <mi mathvariant=\"bold\">X</mi>\n",
    "        </mrow>\n",
    "        <mrow class=\"MJX-TeXAtom-ORD\">\n",
    "          <mi mathvariant=\"bold-italic\">β<!-- β --></mi>\n",
    "        </mrow>\n",
    "        <mspace width=\"thinmathspace\"></mspace>\n",
    "        <mspace width=\"negativethinmathspace\"></mspace>\n",
    "      </mstyle>\n",
    "    </mrow>\n",
    "    <annotation encoding=\"application/x-tex\">{\\displaystyle \\mu =\\mathbf {X} {\\boldsymbol {\\beta }}\\,\\!}</annotation>\n",
    "  </semantics>\n",
    "</math></span><img src=\"https://wikimedia.org/api/rest_v1/media/math/render/svg/12c514082234f52d09595635789f474de0279b7d\" class=\"mwe-math-fallback-image-inline\" aria-hidden=\"true\" style=\"vertical-align: -0.838ex; margin-right: -0.387ex; width:8.483ex; height:2.676ex;\" alt=\"\\mu =\\mathbf {X} {\\boldsymbol {\\beta }}\\,\\!\"></span></td>\n",
    "</tr>\n",
    "<tr>\n",
    "<td><a href=\"/wiki/Exponential_distribution\" title=\"Exponential distribution\">Exponential</a></td>\n",
    "<td rowspan=\"2\">real: <span><span class=\"mwe-math-mathml-inline mwe-math-mathml-a11y\" style=\"display: none;\"><math xmlns=\"http://www.w3.org/1998/Math/MathML\">\n",
    "  <semantics>\n",
    "    <mrow class=\"MJX-TeXAtom-ORD\">\n",
    "      <mstyle displaystyle=\"true\" scriptlevel=\"0\">\n",
    "        <mo stretchy=\"false\">(</mo>\n",
    "        <mn>0</mn>\n",
    "        <mo>,</mo>\n",
    "        <mo>+</mo>\n",
    "        <mi mathvariant=\"normal\">∞<!-- ∞ --></mi>\n",
    "        <mo stretchy=\"false\">)</mo>\n",
    "      </mstyle>\n",
    "    </mrow>\n",
    "    <annotation encoding=\"application/x-tex\">{\\displaystyle (0,+\\infty )}</annotation>\n",
    "  </semantics>\n",
    "</math></span><img src=\"https://wikimedia.org/api/rest_v1/media/math/render/svg/de77e40eb7e2582eef8a5a1da1bc027b7d9a8d6e\" class=\"mwe-math-fallback-image-inline\" aria-hidden=\"true\" style=\"vertical-align: -0.838ex; width:8.2ex; height:2.843ex;\" alt=\"(0,+\\infty )\"></span></td>\n",
    "<td rowspan=\"2\">Exponential-response data, scale parameters</td>\n",
    "<td rowspan=\"2\"><a href=\"/wiki/Multiplicative_inverse\" title=\"Multiplicative inverse\">Inverse</a></td>\n",
    "<td rowspan=\"2\"><span><span class=\"mwe-math-mathml-inline mwe-math-mathml-a11y\" style=\"display: none;\"><math xmlns=\"http://www.w3.org/1998/Math/MathML\">\n",
    "  <semantics>\n",
    "    <mrow class=\"MJX-TeXAtom-ORD\">\n",
    "      <mstyle displaystyle=\"true\" scriptlevel=\"0\">\n",
    "        <mrow class=\"MJX-TeXAtom-ORD\">\n",
    "          <mi mathvariant=\"bold\">X</mi>\n",
    "        </mrow>\n",
    "        <mrow class=\"MJX-TeXAtom-ORD\">\n",
    "          <mi mathvariant=\"bold-italic\">β<!-- β --></mi>\n",
    "        </mrow>\n",
    "        <mo>=</mo>\n",
    "        <msup>\n",
    "          <mi>μ<!-- μ --></mi>\n",
    "          <mrow class=\"MJX-TeXAtom-ORD\">\n",
    "            <mo>−<!-- − --></mo>\n",
    "            <mn>1</mn>\n",
    "          </mrow>\n",
    "        </msup>\n",
    "        <mspace width=\"thinmathspace\"></mspace>\n",
    "        <mspace width=\"negativethinmathspace\"></mspace>\n",
    "      </mstyle>\n",
    "    </mrow>\n",
    "    <annotation encoding=\"application/x-tex\">{\\displaystyle \\mathbf {X} {\\boldsymbol {\\beta }}=\\mu ^{-1}\\,\\!}</annotation>\n",
    "  </semantics>\n",
    "</math></span><img src=\"https://wikimedia.org/api/rest_v1/media/math/render/svg/35c753c466b330a78b576fc8727e188962cc604f\" class=\"mwe-math-fallback-image-inline\" aria-hidden=\"true\" style=\"vertical-align: -0.838ex; margin-right: -0.387ex; width:10.83ex; height:3.176ex;\" alt=\"{\\displaystyle \\mathbf {X} {\\boldsymbol {\\beta }}=\\mu ^{-1}\\,\\!}\"></span></td>\n",
    "<td rowspan=\"2\"><span><span class=\"mwe-math-mathml-inline mwe-math-mathml-a11y\" style=\"display: none;\"><math xmlns=\"http://www.w3.org/1998/Math/MathML\">\n",
    "  <semantics>\n",
    "    <mrow class=\"MJX-TeXAtom-ORD\">\n",
    "      <mstyle displaystyle=\"true\" scriptlevel=\"0\">\n",
    "        <mi>μ<!-- μ --></mi>\n",
    "        <mo>=</mo>\n",
    "        <mo stretchy=\"false\">(</mo>\n",
    "        <mrow class=\"MJX-TeXAtom-ORD\">\n",
    "          <mi mathvariant=\"bold\">X</mi>\n",
    "        </mrow>\n",
    "        <mrow class=\"MJX-TeXAtom-ORD\">\n",
    "          <mi mathvariant=\"bold-italic\">β<!-- β --></mi>\n",
    "        </mrow>\n",
    "        <msup>\n",
    "          <mo stretchy=\"false\">)</mo>\n",
    "          <mrow class=\"MJX-TeXAtom-ORD\">\n",
    "            <mo>−<!-- − --></mo>\n",
    "            <mn>1</mn>\n",
    "          </mrow>\n",
    "        </msup>\n",
    "        <mspace width=\"thinmathspace\"></mspace>\n",
    "        <mspace width=\"negativethinmathspace\"></mspace>\n",
    "      </mstyle>\n",
    "    </mrow>\n",
    "    <annotation encoding=\"application/x-tex\">{\\displaystyle \\mu =(\\mathbf {X} {\\boldsymbol {\\beta }})^{-1}\\,\\!}</annotation>\n",
    "  </semantics>\n",
    "</math></span><img src=\"https://wikimedia.org/api/rest_v1/media/math/render/svg/77e75642db84d5f96e6c2ceb8b6c1deec1b41037\" class=\"mwe-math-fallback-image-inline\" aria-hidden=\"true\" style=\"vertical-align: -0.838ex; margin-right: -0.387ex; width:12.66ex; height:3.176ex;\" alt=\"{\\displaystyle \\mu =(\\mathbf {X} {\\boldsymbol {\\beta }})^{-1}\\,\\!}\"></span></td>\n",
    "</tr>\n",
    "<tr>\n",
    "<td><a href=\"/wiki/Gamma_distribution\" title=\"Gamma distribution\">Gamma</a></td>\n",
    "</tr>\n",
    "<tr>\n",
    "<td><a href=\"/wiki/Inverse_Gaussian_distribution\" title=\"Inverse Gaussian distribution\">Inverse<br>\n",
    "Gaussian</a></td>\n",
    "<td>real: <span><span class=\"mwe-math-mathml-inline mwe-math-mathml-a11y\" style=\"display: none;\"><math xmlns=\"http://www.w3.org/1998/Math/MathML\">\n",
    "  <semantics>\n",
    "    <mrow class=\"MJX-TeXAtom-ORD\">\n",
    "      <mstyle displaystyle=\"true\" scriptlevel=\"0\">\n",
    "        <mo stretchy=\"false\">(</mo>\n",
    "        <mn>0</mn>\n",
    "        <mo>,</mo>\n",
    "        <mo>+</mo>\n",
    "        <mi mathvariant=\"normal\">∞<!-- ∞ --></mi>\n",
    "        <mo stretchy=\"false\">)</mo>\n",
    "      </mstyle>\n",
    "    </mrow>\n",
    "    <annotation encoding=\"application/x-tex\">{\\displaystyle (0,+\\infty )}</annotation>\n",
    "  </semantics>\n",
    "</math></span><img src=\"https://wikimedia.org/api/rest_v1/media/math/render/svg/de77e40eb7e2582eef8a5a1da1bc027b7d9a8d6e\" class=\"mwe-math-fallback-image-inline\" aria-hidden=\"true\" style=\"vertical-align: -0.838ex; width:8.2ex; height:2.843ex;\" alt=\"(0,+\\infty )\"></span></td>\n",
    "<td></td>\n",
    "<td>Inverse<br>\n",
    "squared</td>\n",
    "<td><span><span class=\"mwe-math-mathml-inline mwe-math-mathml-a11y\" style=\"display: none;\"><math xmlns=\"http://www.w3.org/1998/Math/MathML\">\n",
    "  <semantics>\n",
    "    <mrow class=\"MJX-TeXAtom-ORD\">\n",
    "      <mstyle displaystyle=\"true\" scriptlevel=\"0\">\n",
    "        <mrow class=\"MJX-TeXAtom-ORD\">\n",
    "          <mi mathvariant=\"bold\">X</mi>\n",
    "        </mrow>\n",
    "        <mrow class=\"MJX-TeXAtom-ORD\">\n",
    "          <mi mathvariant=\"bold-italic\">β<!-- β --></mi>\n",
    "        </mrow>\n",
    "        <mo>=</mo>\n",
    "        <msup>\n",
    "          <mi>μ<!-- μ --></mi>\n",
    "          <mrow class=\"MJX-TeXAtom-ORD\">\n",
    "            <mo>−<!-- − --></mo>\n",
    "            <mn>2</mn>\n",
    "          </mrow>\n",
    "        </msup>\n",
    "        <mspace width=\"thinmathspace\"></mspace>\n",
    "        <mspace width=\"negativethinmathspace\"></mspace>\n",
    "      </mstyle>\n",
    "    </mrow>\n",
    "    <annotation encoding=\"application/x-tex\">{\\displaystyle \\mathbf {X} {\\boldsymbol {\\beta }}=\\mu ^{-2}\\,\\!}</annotation>\n",
    "  </semantics>\n",
    "</math></span><img src=\"https://wikimedia.org/api/rest_v1/media/math/render/svg/0a3b87590326202b24e85ce5762989fd34bff8c2\" class=\"mwe-math-fallback-image-inline\" aria-hidden=\"true\" style=\"vertical-align: -0.838ex; margin-right: -0.387ex; width:10.83ex; height:3.176ex;\" alt=\"{\\displaystyle \\mathbf {X} {\\boldsymbol {\\beta }}=\\mu ^{-2}\\,\\!}\"></span></td>\n",
    "<td><span><span class=\"mwe-math-mathml-inline mwe-math-mathml-a11y\" style=\"display: none;\"><math xmlns=\"http://www.w3.org/1998/Math/MathML\">\n",
    "  <semantics>\n",
    "    <mrow class=\"MJX-TeXAtom-ORD\">\n",
    "      <mstyle displaystyle=\"true\" scriptlevel=\"0\">\n",
    "        <mi>μ<!-- μ --></mi>\n",
    "        <mo>=</mo>\n",
    "        <mo stretchy=\"false\">(</mo>\n",
    "        <mrow class=\"MJX-TeXAtom-ORD\">\n",
    "          <mi mathvariant=\"bold\">X</mi>\n",
    "        </mrow>\n",
    "        <mrow class=\"MJX-TeXAtom-ORD\">\n",
    "          <mi mathvariant=\"bold-italic\">β<!-- β --></mi>\n",
    "        </mrow>\n",
    "        <msup>\n",
    "          <mo stretchy=\"false\">)</mo>\n",
    "          <mrow class=\"MJX-TeXAtom-ORD\">\n",
    "            <mo>−<!-- − --></mo>\n",
    "            <mn>1</mn>\n",
    "            <mrow class=\"MJX-TeXAtom-ORD\">\n",
    "              <mo>/</mo>\n",
    "            </mrow>\n",
    "            <mn>2</mn>\n",
    "          </mrow>\n",
    "        </msup>\n",
    "        <mspace width=\"thinmathspace\"></mspace>\n",
    "        <mspace width=\"negativethinmathspace\"></mspace>\n",
    "      </mstyle>\n",
    "    </mrow>\n",
    "    <annotation encoding=\"application/x-tex\">{\\displaystyle \\mu =(\\mathbf {X} {\\boldsymbol {\\beta }})^{-1/2}\\,\\!}</annotation>\n",
    "  </semantics>\n",
    "</math></span><img src=\"https://wikimedia.org/api/rest_v1/media/math/render/svg/9f2b2781a377e3d9ed78c1b1e026fda1e8895402\" class=\"mwe-math-fallback-image-inline\" aria-hidden=\"true\" style=\"vertical-align: -0.838ex; margin-right: -0.387ex; width:14.319ex; height:3.343ex;\" alt=\"{\\displaystyle \\mu =(\\mathbf {X} {\\boldsymbol {\\beta }})^{-1/2}\\,\\!}\"></span></td>\n",
    "</tr>\n",
    "<tr>\n",
    "<td><a href=\"/wiki/Poisson_distribution\" title=\"Poisson distribution\">Poisson</a></td>\n",
    "<td>integer: <span><span class=\"mwe-math-mathml-inline mwe-math-mathml-a11y\" style=\"display: none;\"><math xmlns=\"http://www.w3.org/1998/Math/MathML\">\n",
    "  <semantics>\n",
    "    <mrow class=\"MJX-TeXAtom-ORD\">\n",
    "      <mstyle displaystyle=\"true\" scriptlevel=\"0\">\n",
    "        <mn>0</mn>\n",
    "        <mo>,</mo>\n",
    "        <mn>1</mn>\n",
    "        <mo>,</mo>\n",
    "        <mn>2</mn>\n",
    "        <mo>,</mo>\n",
    "        <mo>…<!-- … --></mo>\n",
    "      </mstyle>\n",
    "    </mrow>\n",
    "    <annotation encoding=\"application/x-tex\">{\\displaystyle 0,1,2,\\ldots }</annotation>\n",
    "  </semantics>\n",
    "</math></span><img src=\"https://wikimedia.org/api/rest_v1/media/math/render/svg/b1da8ed7e74b31b6314f23f122a1198c104fcaad\" class=\"mwe-math-fallback-image-inline\" aria-hidden=\"true\" style=\"vertical-align: -0.671ex; width:9.386ex; height:2.509ex;\" alt=\"0,1,2,\\ldots \"></span></td>\n",
    "<td>count of occurrences in fixed amount of time/space</td>\n",
    "<td><a href=\"/wiki/Natural_logarithm\" title=\"Natural logarithm\">Log</a></td>\n",
    "<td><span><span class=\"mwe-math-mathml-inline mwe-math-mathml-a11y\" style=\"display: none;\"><math xmlns=\"http://www.w3.org/1998/Math/MathML\">\n",
    "  <semantics>\n",
    "    <mrow class=\"MJX-TeXAtom-ORD\">\n",
    "      <mstyle displaystyle=\"true\" scriptlevel=\"0\">\n",
    "        <mrow class=\"MJX-TeXAtom-ORD\">\n",
    "          <mi mathvariant=\"bold\">X</mi>\n",
    "        </mrow>\n",
    "        <mrow class=\"MJX-TeXAtom-ORD\">\n",
    "          <mi mathvariant=\"bold-italic\">β<!-- β --></mi>\n",
    "        </mrow>\n",
    "        <mo>=</mo>\n",
    "        <mi>ln</mi>\n",
    "        <mo>⁡<!-- ⁡ --></mo>\n",
    "        <mrow class=\"MJX-TeXAtom-ORD\">\n",
    "          <mo stretchy=\"false\">(</mo>\n",
    "          <mi>μ<!-- μ --></mi>\n",
    "          <mo stretchy=\"false\">)</mo>\n",
    "        </mrow>\n",
    "        <mspace width=\"thinmathspace\"></mspace>\n",
    "        <mspace width=\"negativethinmathspace\"></mspace>\n",
    "      </mstyle>\n",
    "    </mrow>\n",
    "    <annotation encoding=\"application/x-tex\">{\\displaystyle \\mathbf {X} {\\boldsymbol {\\beta }}=\\ln {(\\mu )}\\,\\!}</annotation>\n",
    "  </semantics>\n",
    "</math></span><img src=\"https://wikimedia.org/api/rest_v1/media/math/render/svg/ef9f78b057c55a36d8b2516ba1f22a64f601fa1e\" class=\"mwe-math-fallback-image-inline\" aria-hidden=\"true\" style=\"vertical-align: -0.838ex; margin-right: -0.387ex; width:12.66ex; height:2.843ex;\" alt=\"\\mathbf {X} {\\boldsymbol {\\beta }}=\\ln {(\\mu )}\\,\\!\"></span></td>\n",
    "<td><span><span class=\"mwe-math-mathml-inline mwe-math-mathml-a11y\" style=\"display: none;\"><math xmlns=\"http://www.w3.org/1998/Math/MathML\">\n",
    "  <semantics>\n",
    "    <mrow class=\"MJX-TeXAtom-ORD\">\n",
    "      <mstyle displaystyle=\"true\" scriptlevel=\"0\">\n",
    "        <mi>μ<!-- μ --></mi>\n",
    "        <mo>=</mo>\n",
    "        <mi>exp</mi>\n",
    "        <mo>⁡<!-- ⁡ --></mo>\n",
    "        <mrow class=\"MJX-TeXAtom-ORD\">\n",
    "          <mo stretchy=\"false\">(</mo>\n",
    "          <mrow class=\"MJX-TeXAtom-ORD\">\n",
    "            <mi mathvariant=\"bold\">X</mi>\n",
    "          </mrow>\n",
    "          <mrow class=\"MJX-TeXAtom-ORD\">\n",
    "            <mi mathvariant=\"bold-italic\">β<!-- β --></mi>\n",
    "          </mrow>\n",
    "          <mo stretchy=\"false\">)</mo>\n",
    "        </mrow>\n",
    "        <mspace width=\"thinmathspace\"></mspace>\n",
    "        <mspace width=\"negativethinmathspace\"></mspace>\n",
    "      </mstyle>\n",
    "    </mrow>\n",
    "    <annotation encoding=\"application/x-tex\">{\\displaystyle \\mu =\\exp {(\\mathbf {X} {\\boldsymbol {\\beta }})}\\,\\!}</annotation>\n",
    "  </semantics>\n",
    "</math></span><img src=\"https://wikimedia.org/api/rest_v1/media/math/render/svg/b8cdcc2a7f1ac3de2da641254ab17cd120d1ce5e\" class=\"mwe-math-fallback-image-inline\" aria-hidden=\"true\" style=\"vertical-align: -0.838ex; margin-right: -0.387ex; width:14.284ex; height:2.843ex;\" alt=\"\\mu =\\exp {(\\mathbf {X} {\\boldsymbol {\\beta }})}\\,\\!\"></span></td>\n",
    "</tr>\n",
    "<tr>\n",
    "<td><a href=\"/wiki/Bernoulli_distribution\" title=\"Bernoulli distribution\">Bernoulli</a></td>\n",
    "<td>integer: <span><span class=\"mwe-math-mathml-inline mwe-math-mathml-a11y\" style=\"display: none;\"><math xmlns=\"http://www.w3.org/1998/Math/MathML\">\n",
    "  <semantics>\n",
    "    <mrow class=\"MJX-TeXAtom-ORD\">\n",
    "      <mstyle displaystyle=\"true\" scriptlevel=\"0\">\n",
    "        <mo fence=\"false\" stretchy=\"false\">{</mo>\n",
    "        <mn>0</mn>\n",
    "        <mo>,</mo>\n",
    "        <mn>1</mn>\n",
    "        <mo fence=\"false\" stretchy=\"false\">}</mo>\n",
    "      </mstyle>\n",
    "    </mrow>\n",
    "    <annotation encoding=\"application/x-tex\">{\\displaystyle \\{0,1\\}}</annotation>\n",
    "  </semantics>\n",
    "</math></span><img src=\"https://wikimedia.org/api/rest_v1/media/math/render/svg/28de5781698336d21c9c560fb1cbb3fb406923eb\" class=\"mwe-math-fallback-image-inline\" aria-hidden=\"true\" style=\"vertical-align: -0.838ex; width:5.736ex; height:2.843ex;\" alt=\"\\{0,1\\}\"></span></td>\n",
    "<td>outcome of single yes/no occurrence</td>\n",
    "<td rowspan=\"5\"><a href=\"/wiki/Logit\" title=\"Logit\">Logit</a></td>\n",
    "<td rowspan=\"5\"><span><span class=\"mwe-math-mathml-inline mwe-math-mathml-a11y\" style=\"display: none;\"><math xmlns=\"http://www.w3.org/1998/Math/MathML\">\n",
    "  <semantics>\n",
    "    <mrow class=\"MJX-TeXAtom-ORD\">\n",
    "      <mstyle displaystyle=\"true\" scriptlevel=\"0\">\n",
    "        <mrow class=\"MJX-TeXAtom-ORD\">\n",
    "          <mi mathvariant=\"bold\">X</mi>\n",
    "        </mrow>\n",
    "        <mrow class=\"MJX-TeXAtom-ORD\">\n",
    "          <mi mathvariant=\"bold-italic\">β<!-- β --></mi>\n",
    "        </mrow>\n",
    "        <mo>=</mo>\n",
    "        <mi>ln</mi>\n",
    "        <mo>⁡<!-- ⁡ --></mo>\n",
    "        <mrow class=\"MJX-TeXAtom-ORD\">\n",
    "          <mrow>\n",
    "            <mo>(</mo>\n",
    "            <mrow class=\"MJX-TeXAtom-ORD\">\n",
    "              <mfrac>\n",
    "                <mi>μ<!-- μ --></mi>\n",
    "                <mrow>\n",
    "                  <mn>1</mn>\n",
    "                  <mo>−<!-- − --></mo>\n",
    "                  <mi>μ<!-- μ --></mi>\n",
    "                </mrow>\n",
    "              </mfrac>\n",
    "            </mrow>\n",
    "            <mo>)</mo>\n",
    "          </mrow>\n",
    "        </mrow>\n",
    "        <mspace width=\"thinmathspace\"></mspace>\n",
    "        <mspace width=\"negativethinmathspace\"></mspace>\n",
    "      </mstyle>\n",
    "    </mrow>\n",
    "    <annotation encoding=\"application/x-tex\">{\\displaystyle \\mathbf {X} {\\boldsymbol {\\beta }}=\\ln {\\left({\\frac {\\mu }{1-\\mu }}\\right)}\\,\\!}</annotation>\n",
    "  </semantics>\n",
    "</math></span><img src=\"https://wikimedia.org/api/rest_v1/media/math/render/svg/b1399fce891de947b987e2e8ae8abd942316a681\" class=\"mwe-math-fallback-image-inline\" aria-hidden=\"true\" style=\"vertical-align: -2.505ex; margin-right: -0.387ex; width:19.132ex; height:6.176ex;\" alt=\"\\mathbf {X} {\\boldsymbol {\\beta }}=\\ln {\\left({\\frac {\\mu }{1-\\mu }}\\right)}\\,\\!\"></span></td>\n",
    "<td rowspan=\"5\"><span><span class=\"mwe-math-mathml-inline mwe-math-mathml-a11y\" style=\"display: none;\"><math xmlns=\"http://www.w3.org/1998/Math/MathML\">\n",
    "  <semantics>\n",
    "    <mrow class=\"MJX-TeXAtom-ORD\">\n",
    "      <mstyle displaystyle=\"true\" scriptlevel=\"0\">\n",
    "        <mi>μ<!-- μ --></mi>\n",
    "        <mo>=</mo>\n",
    "        <mrow class=\"MJX-TeXAtom-ORD\">\n",
    "          <mfrac>\n",
    "            <mrow>\n",
    "              <mi>exp</mi>\n",
    "              <mo>⁡<!-- ⁡ --></mo>\n",
    "              <mrow class=\"MJX-TeXAtom-ORD\">\n",
    "                <mo stretchy=\"false\">(</mo>\n",
    "                <mrow class=\"MJX-TeXAtom-ORD\">\n",
    "                  <mi mathvariant=\"bold\">X</mi>\n",
    "                </mrow>\n",
    "                <mrow class=\"MJX-TeXAtom-ORD\">\n",
    "                  <mi mathvariant=\"bold-italic\">β<!-- β --></mi>\n",
    "                </mrow>\n",
    "                <mo stretchy=\"false\">)</mo>\n",
    "              </mrow>\n",
    "            </mrow>\n",
    "            <mrow>\n",
    "              <mn>1</mn>\n",
    "              <mo>+</mo>\n",
    "              <mi>exp</mi>\n",
    "              <mo>⁡<!-- ⁡ --></mo>\n",
    "              <mrow class=\"MJX-TeXAtom-ORD\">\n",
    "                <mo stretchy=\"false\">(</mo>\n",
    "                <mrow class=\"MJX-TeXAtom-ORD\">\n",
    "                  <mi mathvariant=\"bold\">X</mi>\n",
    "                </mrow>\n",
    "                <mrow class=\"MJX-TeXAtom-ORD\">\n",
    "                  <mi mathvariant=\"bold-italic\">β<!-- β --></mi>\n",
    "                </mrow>\n",
    "                <mo stretchy=\"false\">)</mo>\n",
    "              </mrow>\n",
    "            </mrow>\n",
    "          </mfrac>\n",
    "        </mrow>\n",
    "        <mo>=</mo>\n",
    "        <mrow class=\"MJX-TeXAtom-ORD\">\n",
    "          <mfrac>\n",
    "            <mn>1</mn>\n",
    "            <mrow>\n",
    "              <mn>1</mn>\n",
    "              <mo>+</mo>\n",
    "              <mi>exp</mi>\n",
    "              <mo>⁡<!-- ⁡ --></mo>\n",
    "              <mrow class=\"MJX-TeXAtom-ORD\">\n",
    "                <mo stretchy=\"false\">(</mo>\n",
    "                <mo>−<!-- − --></mo>\n",
    "                <mrow class=\"MJX-TeXAtom-ORD\">\n",
    "                  <mi mathvariant=\"bold\">X</mi>\n",
    "                </mrow>\n",
    "                <mrow class=\"MJX-TeXAtom-ORD\">\n",
    "                  <mi mathvariant=\"bold-italic\">β<!-- β --></mi>\n",
    "                </mrow>\n",
    "                <mo stretchy=\"false\">)</mo>\n",
    "              </mrow>\n",
    "            </mrow>\n",
    "          </mfrac>\n",
    "        </mrow>\n",
    "        <mspace width=\"thinmathspace\"></mspace>\n",
    "        <mspace width=\"negativethinmathspace\"></mspace>\n",
    "      </mstyle>\n",
    "    </mrow>\n",
    "    <annotation encoding=\"application/x-tex\">{\\displaystyle \\mu ={\\frac {\\exp {(\\mathbf {X} {\\boldsymbol {\\beta }})}}{1+\\exp {(\\mathbf {X} {\\boldsymbol {\\beta }})}}}={\\frac {1}{1+\\exp {(-\\mathbf {X} {\\boldsymbol {\\beta }})}}}\\,\\!}</annotation>\n",
    "  </semantics>\n",
    "</math></span><img src=\"https://wikimedia.org/api/rest_v1/media/math/render/svg/edc5319ec8c1afe66476e8fc9c12710965ddfdca\" class=\"mwe-math-fallback-image-inline\" aria-hidden=\"true\" style=\"vertical-align: -2.671ex; margin-right: -0.387ex; width:38.306ex; height:6.509ex;\" alt=\"\\mu ={\\frac {\\exp {(\\mathbf {X} {\\boldsymbol {\\beta }})}}{1+\\exp {(\\mathbf {X} {\\boldsymbol {\\beta }})}}}={\\frac {1}{1+\\exp {(-\\mathbf {X} {\\boldsymbol {\\beta }})}}}\\,\\!\"></span></td>\n",
    "</tr>\n",
    "<tr>\n",
    "<td><a href=\"/wiki/Binomial_distribution\" title=\"Binomial distribution\">Binomial</a></td>\n",
    "<td>integer: <span><span class=\"mwe-math-mathml-inline mwe-math-mathml-a11y\" style=\"display: none;\"><math xmlns=\"http://www.w3.org/1998/Math/MathML\">\n",
    "  <semantics>\n",
    "    <mrow class=\"MJX-TeXAtom-ORD\">\n",
    "      <mstyle displaystyle=\"true\" scriptlevel=\"0\">\n",
    "        <mn>0</mn>\n",
    "        <mo>,</mo>\n",
    "        <mn>1</mn>\n",
    "        <mo>,</mo>\n",
    "        <mo>…<!-- … --></mo>\n",
    "        <mo>,</mo>\n",
    "        <mi>N</mi>\n",
    "      </mstyle>\n",
    "    </mrow>\n",
    "    <annotation encoding=\"application/x-tex\">{\\displaystyle 0,1,\\ldots ,N}</annotation>\n",
    "  </semantics>\n",
    "</math></span><img src=\"https://wikimedia.org/api/rest_v1/media/math/render/svg/4f0dabd0eecff746a5377991354a67ea28a4e684\" class=\"mwe-math-fallback-image-inline\" aria-hidden=\"true\" style=\"vertical-align: -0.671ex; width:10.674ex; height:2.509ex;\" alt=\"0,1,\\ldots ,N\"></span></td>\n",
    "<td>count of # of \"yes\" occurrences out of N yes/no occurrences</td>\n",
    "</tr>\n",
    "<tr>\n",
    "<td rowspan=\"2\"><a href=\"/wiki/Categorical_distribution\" title=\"Categorical distribution\">Categorical</a></td>\n",
    "<td>integer: <span><span class=\"mwe-math-mathml-inline mwe-math-mathml-a11y\" style=\"display: none;\"><math xmlns=\"http://www.w3.org/1998/Math/MathML\">\n",
    "  <semantics>\n",
    "    <mrow class=\"MJX-TeXAtom-ORD\">\n",
    "      <mstyle displaystyle=\"true\" scriptlevel=\"0\">\n",
    "        <mo stretchy=\"false\">[</mo>\n",
    "        <mn>0</mn>\n",
    "        <mo>,</mo>\n",
    "        <mi>K</mi>\n",
    "        <mo stretchy=\"false\">)</mo>\n",
    "      </mstyle>\n",
    "    </mrow>\n",
    "    <annotation encoding=\"application/x-tex\">{\\displaystyle [0,K)}</annotation>\n",
    "  </semantics>\n",
    "</math></span><img src=\"https://wikimedia.org/api/rest_v1/media/math/render/svg/aa074207d3bea2e879410172ce89ba2435d37d11\" class=\"mwe-math-fallback-image-inline\" aria-hidden=\"true\" style=\"vertical-align: -0.838ex; width:5.866ex; height:2.843ex;\" alt=\"[0,K)\"></span></td>\n",
    "<td rowspan=\"2\">outcome of single K-way occurrence</td>\n",
    "</tr>\n",
    "<tr>\n",
    "<td>K-vector of integer: <span><span class=\"mwe-math-mathml-inline mwe-math-mathml-a11y\" style=\"display: none;\"><math xmlns=\"http://www.w3.org/1998/Math/MathML\">\n",
    "  <semantics>\n",
    "    <mrow class=\"MJX-TeXAtom-ORD\">\n",
    "      <mstyle displaystyle=\"true\" scriptlevel=\"0\">\n",
    "        <mo stretchy=\"false\">[</mo>\n",
    "        <mn>0</mn>\n",
    "        <mo>,</mo>\n",
    "        <mn>1</mn>\n",
    "        <mo stretchy=\"false\">]</mo>\n",
    "      </mstyle>\n",
    "    </mrow>\n",
    "    <annotation encoding=\"application/x-tex\">{\\displaystyle [0,1]}</annotation>\n",
    "  </semantics>\n",
    "</math></span><img src=\"https://wikimedia.org/api/rest_v1/media/math/render/svg/738f7d23bb2d9642bab520020873cccbef49768d\" class=\"mwe-math-fallback-image-inline\" aria-hidden=\"true\" style=\"vertical-align: -0.838ex; width:4.705ex; height:2.843ex;\" alt=\"[0,1]\"></span>, where exactly one element in the vector has the value 1</td>\n",
    "</tr>\n",
    "<tr>\n",
    "<td><a href=\"/wiki/Multinomial_distribution\" title=\"Multinomial distribution\">Multinomial</a></td>\n",
    "<td>K-vector of integer: <span><span class=\"mwe-math-mathml-inline mwe-math-mathml-a11y\" style=\"display: none;\"><math xmlns=\"http://www.w3.org/1998/Math/MathML\">\n",
    "  <semantics>\n",
    "    <mrow class=\"MJX-TeXAtom-ORD\">\n",
    "      <mstyle displaystyle=\"true\" scriptlevel=\"0\">\n",
    "        <mo stretchy=\"false\">[</mo>\n",
    "        <mn>0</mn>\n",
    "        <mo>,</mo>\n",
    "        <mi>N</mi>\n",
    "        <mo stretchy=\"false\">]</mo>\n",
    "      </mstyle>\n",
    "    </mrow>\n",
    "    <annotation encoding=\"application/x-tex\">{\\displaystyle [0,N]}</annotation>\n",
    "  </semantics>\n",
    "</math></span><img src=\"https://wikimedia.org/api/rest_v1/media/math/render/svg/703d57dca548a7f9d927247c2a27b67666aebdd5\" class=\"mwe-math-fallback-image-inline\" aria-hidden=\"true\" style=\"vertical-align: -0.838ex; width:5.606ex; height:2.843ex;\" alt=\"[0,N]\"></span></td>\n",
    "<td>count of occurrences of different types (1 .. K) out of N total K-way occurrences</td>\n",
    "</tr>\n",
    "</tbody></table>"
   ]
  }
 ],
 "metadata": {
  "anaconda-cloud": {},
  "kernelspec": {
   "display_name": "Python [Root]",
   "language": "python",
   "name": "Python [Root]"
  },
  "language_info": {
   "codemirror_mode": {
    "name": "ipython",
    "version": 3
   },
   "file_extension": ".py",
   "mimetype": "text/x-python",
   "name": "python",
   "nbconvert_exporter": "python",
   "pygments_lexer": "ipython3",
   "version": "3.5.2"
  }
 },
 "nbformat": 4,
 "nbformat_minor": 0
}
