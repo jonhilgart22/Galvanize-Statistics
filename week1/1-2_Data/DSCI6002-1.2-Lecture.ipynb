{
 "cells": [
  {
   "cell_type": "markdown",
   "metadata": {
    "slideshow": {
     "slide_type": "slide"
    }
   },
   "source": [
    "# Lecture 1.2: Working with Data"
   ]
  },
  {
   "cell_type": "markdown",
   "metadata": {
    "slideshow": {
     "slide_type": "slide"
    }
   },
   "source": [
    "## Outline\n",
    "\n",
    "* How to collect data?\n",
    "* How to design an experiment?\n",
    "* How to summarize data?\n",
    "* Correlation vs. causation"
   ]
  },
  {
   "cell_type": "markdown",
   "metadata": {
    "slideshow": {
     "slide_type": "slide"
    }
   },
   "source": [
    "## What is Data?\n",
    "\n",
    "> **Data** is a set of values of qualitative or quantitative variables; restated, pieces of data are individual pieces of information. Data is measured, collected and reported, and analyzed, whereupon it can be visualized using graphs or images. ([Wikipedia](https://en.wikipedia.org/wiki/Data))"
   ]
  },
  {
   "cell_type": "markdown",
   "metadata": {
    "slideshow": {
     "slide_type": "slide"
    }
   },
   "source": [
    "## Statistical Data Discovery in General\n",
    "\n",
    "* Start with a question/hypothesis\n",
    "* Collect data\n",
    "* Analyze\n",
    "* Check the results\n",
    "* Repeat? Redesign?\n",
    "* Communicate the results / visualization"
   ]
  },
  {
   "cell_type": "markdown",
   "metadata": {
    "slideshow": {
     "slide_type": "subslide"
    }
   },
   "source": [
    "<center><img src=\"images/sample_inference.png\"></center>"
   ]
  },
  {
   "cell_type": "markdown",
   "metadata": {
    "slideshow": {
     "slide_type": "slide"
    }
   },
   "source": [
    "## Example: What % of Earth is Covered by Trees?\n",
    "\n",
    "<img src=\"images/earth.png\" width=\"350\">"
   ]
  },
  {
   "cell_type": "markdown",
   "metadata": {
    "slideshow": {
     "slide_type": "subslide"
    }
   },
   "source": [
    "* What is the research questions?\n",
    "* How should we collect data to answer this question?\n",
    "* How to analyze the data?\n",
    "* Does our estimate make sense?\n",
    "* What are the limitations in this study? What can we do to improve our estimate?\n",
    "* How should we present the result?"
   ]
  },
  {
   "cell_type": "markdown",
   "metadata": {
    "slideshow": {
     "slide_type": "slide"
    }
   },
   "source": [
    "## Getting Good Data\n",
    "\n",
    "In statistics, our questions are about a population. The **population** is the complete set of items about which information is desired. In our previous example, the population is the entire surface area of earth.\n",
    "\n",
    "In many cases, is it infeasible, too costly, or too time-consuming to collect data from the entire population, and instead, we obtain a sample which is a subset of the population.\n",
    "\n",
    "Since statistical studies are driven by data, the way we collect data is at least as important as the data analysis/modeling."
   ]
  },
  {
   "cell_type": "markdown",
   "metadata": {
    "slideshow": {
     "slide_type": "subslide"
    }
   },
   "source": [
    "* A sample should be representative of the population (junk in = junk out)\n",
    "\n",
    "<img src=\"images/population_sample.png\" width=\"500\">\n",
    "\n",
    "* Random sampling is often the best way to achieve this"
   ]
  },
  {
   "cell_type": "markdown",
   "metadata": {
    "slideshow": {
     "slide_type": "slide"
    }
   },
   "source": [
    "## Sampling Methods\n",
    "\n",
    "* Simple random sampling (SRS)\n",
    "    * The easiest most widespread form of sampling\n",
    "    * Each subject has an equal chance to being in the sample\n",
    "* Other common sampling methods:\n",
    "    * Systematic sampling\n",
    "    * Stratified sampling\n",
    "    * Cluster sampling"
   ]
  },
  {
   "cell_type": "markdown",
   "metadata": {
    "slideshow": {
     "slide_type": "slide"
    }
   },
   "source": [
    "## Sampling bias\n",
    "\n",
    "A sampling method is biased if the items in the population do not have the same chance of being included in the sample, i.e., the sample is not representative of the population."
   ]
  },
  {
   "cell_type": "markdown",
   "metadata": {
    "slideshow": {
     "slide_type": "subslide"
    }
   },
   "source": [
    "### Common types of sample bias:\n",
    "\n",
    "* **Selection bias**: occurs when some groups in the population are under- or over-represented \n",
    "* **Nonresponse bias**: occurs when some of the sampled subjects refuse to participate, or cannot be reached\n",
    "* **Response bias**: occurs when the subject gives incorrect response or when the interviewer asks misleading or confusing questions. E.g., \"Do you think we should have stricter gun control laws to reduce gun-related crimes?\""
   ]
  },
  {
   "cell_type": "markdown",
   "metadata": {
    "slideshow": {
     "slide_type": "slide"
    }
   },
   "source": [
    "## Data Collection Procedures\n",
    "\n",
    "* Observational study\n",
    "    * Cross-sectional study\n",
    "    * Retrospective (or case-control) study\n",
    "    * Prospective (or longitudinal) study\n",
    "* Experiment"
   ]
  },
  {
   "cell_type": "markdown",
   "metadata": {
    "slideshow": {
     "slide_type": "slide"
    }
   },
   "source": [
    "### Observational Study\n",
    "\n",
    "* Records data on individuals without attempting to influence the variables\n",
    "    * A survey is a type of observational study\n",
    "* There can be lurking (confounding) variabels affecting the results\n",
    "    * A **lurking (confounding) variable** is a variable that is not included in the study but has an effect on the variables being studied. E.g., Drinking bottled water seems to be associated with having healthier babies - are there any lurking variables?"
   ]
  },
  {
   "cell_type": "markdown",
   "metadata": {
    "slideshow": {
     "slide_type": "subslide"
    }
   },
   "source": [
    "* **Cannot show causation**\n",
    "    * We need to use randomized experiments to show cause & effect relationship"
   ]
  },
  {
   "cell_type": "markdown",
   "metadata": {
    "slideshow": {
     "slide_type": "slide"
    }
   },
   "source": [
    "### Types of Observational Study\n",
    "\n",
    "* Cross-sectional study: data are collected at one point in time\n",
    "* Retrospective (or case-control) study: data are collected from the past\n",
    "* Prospective (or longitudinal) study: data are collected in the future"
   ]
  },
  {
   "cell_type": "markdown",
   "metadata": {
    "slideshow": {
     "slide_type": "slide"
    }
   },
   "source": [
    "### Design of Experiments (DOE)\n",
    "\n",
    "A simple design case:\n",
    "\n",
    "* Randomly assign the experiment subjects into two treatment groups, e.g., one group of patients receive a new medical treatment and the other group receive an old treatment\n",
    "* Record and compare the responses\n",
    "\n",
    "A randomized controlled experiment can provide evidence for causation. Although they can be unethical or too expensive to perform."
   ]
  },
  {
   "cell_type": "markdown",
   "metadata": {
    "slideshow": {
     "slide_type": "slide"
    }
   },
   "source": [
    "## Summary Statistics\n",
    "\n",
    "Summary statistics are used for summarizing a sample. The most commonly used summary statistics describe the following characteristics of the data.\n",
    "\n",
    "* Measure of location/center\n",
    "* Measure of spread\n",
    "* Measure of shape\n",
    "* Measure of association/dependence (bivariate)"
   ]
  },
  {
   "cell_type": "markdown",
   "metadata": {
    "slideshow": {
     "slide_type": "slide"
    }
   },
   "source": [
    "### Location\n",
    "\n",
    "* **Mean**: the arithmetic average of the data values\n",
    "$$ \\bar{x} = \\frac{\\sum_{i=1}^n x_i}{n} = \\frac{x_1 + x_2 + \\ldots + x_n}{n} $$\n",
    "    where n is the sample size.\n",
    "    \n",
    "    * The most common measure of center\n",
    "    * Can be affected by extreme data values (outliers)\n",
    "\n",
    "<img src=\"images/mean.png\" width=\"600\">"
   ]
  },
  {
   "cell_type": "markdown",
   "metadata": {
    "slideshow": {
     "slide_type": "subslide"
    }
   },
   "source": [
    "* **Median**: the middle number when the data values are put in order\n",
    "    * If n is odd, the median is exactly the middle number\n",
    "    * If n is even, the median is the average of the two middle numbers\n",
    "    * Not affected by extreme values (outliers)\n",
    "    \n",
    "<img src=\"images/median.png\" width=\"600\">"
   ]
  },
  {
   "cell_type": "markdown",
   "metadata": {
    "slideshow": {
     "slide_type": "subslide"
    }
   },
   "source": [
    "* **Mode**: the most frequently occurred value\n",
    "    * There may be no mode or several modes\n",
    "    * Not affected by extreme values (outliers)\n",
    "    \n",
    "<img src=\"images/mode.png\" width=\"600\">"
   ]
  },
  {
   "cell_type": "markdown",
   "metadata": {
    "slideshow": {
     "slide_type": "subslide"
    }
   },
   "source": [
    "* **Percentile**: the $p^{th}$ percentile - $p\\%$ of the values in the data are less than or equal to this value ($0 \\leq p \\leq 100$)\n",
    "\n",
    "* **Quartile**: \n",
    "    * $1^{st}$ quartile = $25^{th}$ percentile\n",
    "    * $2^{nd}$ quartile = $50^{th}$ percentile = median\n",
    "    * $3^{rd}$ quartile = $75^{th}$ percentile\n",
    "    \n",
    "<img src=\"images/quartile.png\" width=\"500\">"
   ]
  },
  {
   "cell_type": "markdown",
   "metadata": {
    "slideshow": {
     "slide_type": "slide"
    }
   },
   "source": [
    "### Spread\n",
    "\n",
    "* **Variance**\n",
    "\n",
    "$$ s^2_x = \\frac{1}{n-1} \\sum_{i=1}^n (x_i - \\bar{x})^2 $$\n",
    "\n",
    "* **Standard deviation**\n",
    "\n",
    "$$ s_x = \\sqrt{\\frac{1}{n-1} \\sum_{i=1}^n (x_i - \\bar{x})^2} $$"
   ]
  },
  {
   "cell_type": "markdown",
   "metadata": {
    "slideshow": {
     "slide_type": "subslide"
    }
   },
   "source": [
    "* **Range** $= x_{maximum} - x_{minimum}$"
   ]
  },
  {
   "cell_type": "markdown",
   "metadata": {
    "slideshow": {
     "slide_type": "fragment"
    }
   },
   "source": [
    "* **Inter-quartile range (IQR)** $= Q_3 - Q_1$"
   ]
  },
  {
   "cell_type": "markdown",
   "metadata": {
    "slideshow": {
     "slide_type": "slide"
    }
   },
   "source": [
    "### Shape\n",
    "\n",
    "* **Skewness**: a measure of the asymmetry of a distribution\n",
    "\n",
    "<img src=\"images/skewness.png\" width=\"600\">\n",
    "<img src=\"images/shape.png\" width=\"600\">"
   ]
  },
  {
   "cell_type": "markdown",
   "metadata": {
    "slideshow": {
     "slide_type": "subslide"
    }
   },
   "source": [
    "* **Kurtosis**: a measure of the \"peakedness\" of a distribution\n",
    "\n",
    "<img src=\"images/kurtosis.png\" width=\"500\">"
   ]
  },
  {
   "cell_type": "markdown",
   "metadata": {
    "slideshow": {
     "slide_type": "slide"
    }
   },
   "source": [
    "### Dependence\n",
    "\n",
    "* **Covariance**: \n",
    "\n",
    "$$ s_{xy} = \\frac{1}{n-1} \\sum_{i=1}^n (x_i - \\bar{x})(y_i - \\bar{y}) $$\n",
    "\n",
    "* **Correlation**\n",
    "\n",
    "$$ r_{xy} = \\frac{s_{xy}}{s_x s_y} $$"
   ]
  },
  {
   "cell_type": "markdown",
   "metadata": {
    "slideshow": {
     "slide_type": "subslide"
    }
   },
   "source": [
    "* Covariance and correlation summarize the **linear relationship** between two variables\n",
    "\n",
    "* Covariance only shows the direction of the relationship\n",
    "    * $s_{xy} > 0$, large $X$ $\\Leftrightarrow$ large $Y$, positive relationship\n",
    "    * $s_{xy} < 0$, large $X$ $\\Leftrightarrow$ small $Y$, negative relationship\n",
    "\n",
    "* Correlation shows both the direction and the strength of the relationship\n",
    "    * $r_{xy} > 0$, positive relationship; $r_{xy} < 0$, negative relationship\n",
    "    * the larger the $|r_{xy}|$ is, the stronger the relationship is"
   ]
  },
  {
   "cell_type": "markdown",
   "metadata": {
    "slideshow": {
     "slide_type": "slide"
    }
   },
   "source": [
    "## Correlation and Causation\n",
    "\n",
    "* **Correlation does not imply causation**\n",
    "* To make causal conclusions, we need to conduct a randomized experiment so that all the potential confouding effects are averaged out due to random group assignment."
   ]
  },
  {
   "cell_type": "markdown",
   "metadata": {
    "slideshow": {
     "slide_type": "notes"
    }
   },
   "source": [
    "Lab\n",
    "----\n",
    "1. How to issue a pull request (Stephanie)\n",
    "2. Lab Walkthrough"
   ]
  }
 ],
 "metadata": {
  "anaconda-cloud": {},
  "celltoolbar": "Slideshow",
  "kernelspec": {
   "display_name": "Python [Root]",
   "language": "python",
   "name": "Python [Root]"
  },
  "language_info": {
   "codemirror_mode": {
    "name": "ipython",
    "version": 3
   },
   "file_extension": ".py",
   "mimetype": "text/x-python",
   "name": "python",
   "nbconvert_exporter": "python",
   "pygments_lexer": "ipython3",
   "version": "3.5.2"
  }
 },
 "nbformat": 4,
 "nbformat_minor": 0
}
