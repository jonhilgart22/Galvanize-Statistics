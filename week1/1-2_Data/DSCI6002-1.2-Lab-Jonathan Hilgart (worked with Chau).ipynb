{
 "cells": [
  {
   "cell_type": "markdown",
   "metadata": {
    "slideshow": {
     "slide_type": "slide"
    }
   },
   "source": [
    "# Lab1.2: Databases and SQL\n",
    "\n",
    "## Outline\n",
    "\n",
    "* Introduction to SQL\n",
    "* Practice writing basic SQL queries"
   ]
  },
  {
   "cell_type": "markdown",
   "metadata": {
    "slideshow": {
     "slide_type": "slide"
    }
   },
   "source": [
    "## Why learn RDBMS/SQL?\n",
    "\n",
    "RDBMS = Relational Database Management System\n",
    "\n",
    "SQL = Structured Query Language\n",
    "\n",
    "SQL is everywhere. It will often be the tool between you and the data you want. The majority of businesses store their data in a RDBMS and use SQL or SQL-like tools to access it. The combination is exceptionally good at efficiently storing complicated data sets while allowing for efficient information retrieval.\n",
    "\n",
    "Data is stored in a SQL server, usually connected to remotely. For the exercises and examples, we'll be locally hosting our database. This is somewhat atypical of what you'll experience in the field.\n",
    "\n",
    "Example:\n",
    "Web front end <----> SQL Server <----> Data Queries\n"
   ]
  },
  {
   "cell_type": "markdown",
   "metadata": {
    "slideshow": {
     "slide_type": "slide"
    }
   },
   "source": [
    "## Data Persistence\n",
    "\n",
    "The most common form of data persistence is the flat file. You open up a text\n",
    "editor, enter some information, and save the file to disk. You've just persisted\n",
    "some data and can transfer that file wherever you wish. For most data, that's\n",
    "enough, but for many applications, there are additional constraints other than\n",
    "persistence and portability.\n",
    "\n",
    "For example,\n",
    "\n",
    "  * Ease of sharing between programming languages\n",
    "  * Reliability guarantees \n",
    "  * Data integrity guarantees (e.g. no duplication)\n",
    "  * Ability to query data efficiently\n",
    "  * Ability to model relations in data\n",
    "\n",
    "The first constraint is easily met by data formats such as JSON, CSV, or XML.\n",
    "All mainstream programming languages have libraries to convert these formats to\n",
    "native data structures and back to the interchange format. For example, Python\n",
    "has the `json` module that converts between JSON strings and Python dicts.\n",
    "\n",
    "However, these widely used data formats cannot meet the other constraints\n",
    "listed above (and this is by no means an exhaustive list of desirable\n",
    "constraints on data persistence)."
   ]
  },
  {
   "cell_type": "markdown",
   "metadata": {
    "slideshow": {
     "slide_type": "slide"
    }
   },
   "source": [
    "## Relational Database Management Systems (RDBMS)\n",
    "\n",
    "Relational databases such as PosgreSQL, MySQL, and SQLite were built for just\n",
    "those purposes. They provide the ability to model relations in data and query\n",
    "the data and their relations efficiently. They also provide a bevy of guarantees\n",
    "to maintain data consistency and integrity.\n",
    "\n",
    "*Note: The sorts of guarantees that these databases provide is beyond\n",
    "the scope of this document (and this class), but feel free to reference the\n",
    "resources at the bottom of this document if you're interested in learning more\n",
    "about the underlying theory of relational databases.*\n",
    "\n",
    "*Second Note: there are non-relational databases (NoSQL/MongoDB, etc.) that store data with different constraints and mechanisms for relationships between data subsets. We'll touch on these later in the course.*"
   ]
  },
  {
   "cell_type": "markdown",
   "metadata": {},
   "source": [
    "## The RDBMS Data Model"
   ]
  },
  {
   "cell_type": "markdown",
   "metadata": {},
   "source": [
    "To proceed with this lab, first install the `ipython-sql` extension:"
   ]
  },
  {
   "cell_type": "code",
   "execution_count": 1,
   "metadata": {
    "collapsed": false
   },
   "outputs": [
    {
     "name": "stdout",
     "output_type": "stream",
     "text": [
      "Collecting ipython-sql\n",
      "  Downloading ipython-sql-0.3.6.tar.gz\n",
      "Collecting prettytable (from ipython-sql)\n",
      "  Downloading prettytable-0.7.2.zip\n",
      "Requirement already satisfied (use --upgrade to upgrade): ipython>=1.0 in /Users/jonathanhilgart/anaconda/lib/python3.5/site-packages (from ipython-sql)\n",
      "Requirement already satisfied (use --upgrade to upgrade): sqlalchemy>=0.6.7 in /Users/jonathanhilgart/anaconda/lib/python3.5/site-packages (from ipython-sql)\n",
      "Collecting sqlparse (from ipython-sql)\n",
      "  Downloading sqlparse-0.2.1.tar.gz (53kB)\n",
      "\u001b[K    100% |████████████████████████████████| 61kB 1.6MB/s \n",
      "\u001b[?25hRequirement already satisfied (use --upgrade to upgrade): six in /Users/jonathanhilgart/anaconda/lib/python3.5/site-packages (from ipython-sql)\n",
      "Building wheels for collected packages: ipython-sql, prettytable, sqlparse\n",
      "  Running setup.py bdist_wheel for ipython-sql ... \u001b[?25l-\b \b\\\b \b|\b \bdone\n",
      "\u001b[?25h  Stored in directory: /Users/jonathanhilgart/Library/Caches/pip/wheels/c1/43/06/1d23ebe4d5f622d90231c7e394d77944700340fd33426dcaff\n",
      "  Running setup.py bdist_wheel for prettytable ... \u001b[?25l-\b \b\\\b \bdone\n",
      "\u001b[?25h  Stored in directory: /Users/jonathanhilgart/Library/Caches/pip/wheels/b6/90/7b/1c22b89217d0eba6d5f406e562365ebee804f0d4595b2bdbcd\n",
      "  Running setup.py bdist_wheel for sqlparse ... \u001b[?25l-\b \b\\\b \b|\b \bdone\n",
      "\u001b[?25h  Stored in directory: /Users/jonathanhilgart/Library/Caches/pip/wheels/e2/82/57/0a192624b6d4faa1d64d2b1f0efae857496b4f35fb7e86aba1\n",
      "Successfully built ipython-sql prettytable sqlparse\n",
      "Installing collected packages: prettytable, sqlparse, ipython-sql\n",
      "Successfully installed ipython-sql-0.3.6 prettytable-0.7.2 sqlparse-0.2.1\n"
     ]
    }
   ],
   "source": [
    "!pip install ipython-sql"
   ]
  },
  {
   "cell_type": "markdown",
   "metadata": {},
   "source": [
    "Load it using the `%load_ext` magic, which will impart `sql` magic to Jupyter (yes, it's actually called \"magic\")."
   ]
  },
  {
   "cell_type": "code",
   "execution_count": 2,
   "metadata": {
    "collapsed": false
   },
   "outputs": [
    {
     "name": "stderr",
     "output_type": "stream",
     "text": [
      "/Users/jonathanhilgart/anaconda/lib/python3.5/site-packages/IPython/config.py:13: ShimWarning: The `IPython.config` package has been deprecated. You should import from traitlets.config instead.\n",
      "  \"You should import from traitlets.config instead.\", ShimWarning)\n",
      "/Users/jonathanhilgart/anaconda/lib/python3.5/site-packages/IPython/utils/traitlets.py:5: UserWarning: IPython.utils.traitlets has moved to a top-level traitlets package.\n",
      "  warn(\"IPython.utils.traitlets has moved to a top-level traitlets package.\")\n"
     ]
    }
   ],
   "source": [
    "%load_ext sql"
   ]
  },
  {
   "cell_type": "markdown",
   "metadata": {},
   "source": [
    "<small>You may get a `ShimWarning` warning here. Don't worry about it. It's a minor bug that should be fixed in a later release of `ipython-sql` but shouldn't effect your work.</small>\n",
    "\n",
    "Connect to a dummy `sqlite` database as such:"
   ]
  },
  {
   "cell_type": "code",
   "execution_count": 3,
   "metadata": {
    "collapsed": false
   },
   "outputs": [
    {
     "data": {
      "text/plain": [
       "'Connected: None@None'"
      ]
     },
     "execution_count": 3,
     "metadata": {},
     "output_type": "execute_result"
    }
   ],
   "source": [
    "%sql sqlite://"
   ]
  },
  {
   "cell_type": "markdown",
   "metadata": {},
   "source": [
    "Relational databases have a **schema** that defines the structure of the data. It's set when the database is created and is difficult to change later.\n",
    "\n",
    "Each database is composed of a number of user-defined **tables**, each with\n",
    "**columns** and **rows**. Each column is of a certain **data type** such as\n",
    "integer, string, or date. Each row is an entry in the table with data for each\n",
    "column of that table.\n",
    "\n",
    "Here's an example of a database table creation specifying a `customers` table with various\n",
    "fields and their data types:"
   ]
  },
  {
   "cell_type": "code",
   "execution_count": 4,
   "metadata": {
    "collapsed": false
   },
   "outputs": [
    {
     "name": "stdout",
     "output_type": "stream",
     "text": [
      "Done.\n",
      "Done.\n"
     ]
    },
    {
     "data": {
      "text/plain": [
       "[]"
      ]
     },
     "execution_count": 4,
     "metadata": {},
     "output_type": "execute_result"
    }
   ],
   "source": [
    "%%sql\n",
    "DROP TABLE IF EXISTS customers;  -- Included so we can run this multiple times without error.\n",
    "\n",
    "CREATE TABLE customers (\n",
    "    id INTEGER PRIMARY KEY\n",
    ",   name VARCHAR(50)\n",
    ",   age INTEGER\n",
    ",   city VARCHAR(255)\n",
    ",   state VARCHAR(2));"
   ]
  },
  {
   "cell_type": "markdown",
   "metadata": {},
   "source": [
    "The data types available to you vary from system to system. These above will work in either PostgreSQL or SQLite. `VARCHAR` is a string data type.\n",
    "\n",
    "A **primary key** is a column in a table that uniquely identifies that entry. No\n",
    "two rows in the same table can share a value for a column specified as primary\n",
    "key. The primary key column is most often `id`.\n",
    "\n",
    "The table is currently empty:"
   ]
  },
  {
   "cell_type": "code",
   "execution_count": 5,
   "metadata": {
    "collapsed": false
   },
   "outputs": [
    {
     "name": "stdout",
     "output_type": "stream",
     "text": [
      "Done.\n"
     ]
    },
    {
     "data": {
      "text/html": [
       "<table>\n",
       "    <tr>\n",
       "        <th>id</th>\n",
       "        <th>name</th>\n",
       "        <th>age</th>\n",
       "        <th>city</th>\n",
       "        <th>state</th>\n",
       "    </tr>\n",
       "</table>"
      ],
      "text/plain": [
       "[]"
      ]
     },
     "execution_count": 5,
     "metadata": {},
     "output_type": "execute_result"
    }
   ],
   "source": [
    "%sql SELECT * FROM customers"
   ]
  },
  {
   "cell_type": "markdown",
   "metadata": {},
   "source": [
    "We can `INSERT` data into it as follows:"
   ]
  },
  {
   "cell_type": "code",
   "execution_count": 6,
   "metadata": {
    "collapsed": false
   },
   "outputs": [
    {
     "name": "stdout",
     "output_type": "stream",
     "text": [
      "3 rows affected.\n"
     ]
    },
    {
     "data": {
      "text/plain": [
       "[]"
      ]
     },
     "execution_count": 6,
     "metadata": {},
     "output_type": "execute_result"
    }
   ],
   "source": [
    "%%sql\n",
    "INSERT INTO customers VALUES \n",
    "    (1, 'john', 25, 'San Francisco', 'CA'),\n",
    "    (2, 'becky', 30, 'NYC', 'NY'),\n",
    "    (3, 'sarah', 20, 'Denver', 'CO');"
   ]
  },
  {
   "cell_type": "markdown",
   "metadata": {},
   "source": [
    "Now with data:"
   ]
  },
  {
   "cell_type": "code",
   "execution_count": 7,
   "metadata": {
    "collapsed": false
   },
   "outputs": [
    {
     "name": "stdout",
     "output_type": "stream",
     "text": [
      "Done.\n"
     ]
    },
    {
     "data": {
      "text/html": [
       "<table>\n",
       "    <tr>\n",
       "        <th>id</th>\n",
       "        <th>name</th>\n",
       "        <th>age</th>\n",
       "        <th>city</th>\n",
       "        <th>state</th>\n",
       "    </tr>\n",
       "    <tr>\n",
       "        <td>1</td>\n",
       "        <td>john</td>\n",
       "        <td>25</td>\n",
       "        <td>San Francisco</td>\n",
       "        <td>CA</td>\n",
       "    </tr>\n",
       "    <tr>\n",
       "        <td>2</td>\n",
       "        <td>becky</td>\n",
       "        <td>30</td>\n",
       "        <td>NYC</td>\n",
       "        <td>NY</td>\n",
       "    </tr>\n",
       "    <tr>\n",
       "        <td>3</td>\n",
       "        <td>sarah</td>\n",
       "        <td>20</td>\n",
       "        <td>Denver</td>\n",
       "        <td>CO</td>\n",
       "    </tr>\n",
       "</table>"
      ],
      "text/plain": [
       "[(1, 'john', 25, 'San Francisco', 'CA'),\n",
       " (2, 'becky', 30, 'NYC', 'NY'),\n",
       " (3, 'sarah', 20, 'Denver', 'CO')]"
      ]
     },
     "execution_count": 7,
     "metadata": {},
     "output_type": "execute_result"
    }
   ],
   "source": [
    "%sql SELECT * FROM customers"
   ]
  },
  {
   "cell_type": "markdown",
   "metadata": {},
   "source": [
    "## Modeling Relations in RDBMS\n",
    "\n",
    "Part of the power of relational databases are their ability to model relations\n",
    "in data. The way they do so is through the use of **foreign keys**.\n",
    "A foreign key is a column that references some other entry in the database.\n",
    "That foreign entry could be in the same table or in some other table. Foreign\n",
    "keys are how relations are modeled in relational databases.\n",
    "\n",
    "For example, let's say there is another table that contains data for each visit\n",
    "to our website. Each time a customer visits the site, a row is created and inserted\n",
    "into the `visits` table. We'd like to maintain some data that indicates which\n",
    "visit is associated with which customer (so that we could later, for example, find\n",
    "the customers who visited our site the most). Each visit then will have a `customer_id`\n",
    "that can connect it to a customer in the `customers` table.\n",
    "\n",
    "Here's the definition of the `visits` table:"
   ]
  },
  {
   "cell_type": "code",
   "execution_count": 8,
   "metadata": {
    "collapsed": false
   },
   "outputs": [
    {
     "name": "stdout",
     "output_type": "stream",
     "text": [
      "Done.\n",
      "Done.\n",
      "5 rows affected.\n"
     ]
    },
    {
     "data": {
      "text/plain": [
       "[]"
      ]
     },
     "execution_count": 8,
     "metadata": {},
     "output_type": "execute_result"
    }
   ],
   "source": [
    "%%sql\n",
    "DROP TABLE IF EXISTS visits;  -- Included so we can run this multiple times without error.\n",
    "\n",
    "CREATE TABLE visits (\n",
    "    created_at TIMESTAMP\n",
    ",   customer_id INTEGER REFERENCES customers(id) \n",
    ",   PRIMARY KEY(created_at, customer_id));\n",
    "\n",
    "INSERT INTO visits VALUES \n",
    "    ('2016-06-20', 1),\n",
    "    ('2016-07-30', 1),\n",
    "    ('2016-06-20', 3),\n",
    "    ('2016-04-09', 1),\n",
    "    ('2016-03-09', 2);"
   ]
  },
  {
   "cell_type": "markdown",
   "metadata": {},
   "source": [
    "Here's an example of what this visits table looks like:"
   ]
  },
  {
   "cell_type": "code",
   "execution_count": 10,
   "metadata": {
    "collapsed": false
   },
   "outputs": [
    {
     "name": "stdout",
     "output_type": "stream",
     "text": [
      "Done.\n"
     ]
    },
    {
     "data": {
      "text/html": [
       "<table>\n",
       "    <tr>\n",
       "        <th>created_at</th>\n",
       "        <th>customer_id</th>\n",
       "    </tr>\n",
       "    <tr>\n",
       "        <td>2016-06-20</td>\n",
       "        <td>1</td>\n",
       "    </tr>\n",
       "    <tr>\n",
       "        <td>2016-07-30</td>\n",
       "        <td>1</td>\n",
       "    </tr>\n",
       "    <tr>\n",
       "        <td>2016-06-20</td>\n",
       "        <td>3</td>\n",
       "    </tr>\n",
       "    <tr>\n",
       "        <td>2016-04-09</td>\n",
       "        <td>1</td>\n",
       "    </tr>\n",
       "    <tr>\n",
       "        <td>2016-03-09</td>\n",
       "        <td>2</td>\n",
       "    </tr>\n",
       "</table>"
      ],
      "text/plain": [
       "[('2016-06-20', 1),\n",
       " ('2016-07-30', 1),\n",
       " ('2016-06-20', 3),\n",
       " ('2016-04-09', 1),\n",
       " ('2016-03-09', 2)]"
      ]
     },
     "execution_count": 10,
     "metadata": {},
     "output_type": "execute_result"
    }
   ],
   "source": [
    "%sql SELECT * FROM visits"
   ]
  },
  {
   "cell_type": "markdown",
   "metadata": {
    "slideshow": {
     "slide_type": "slide"
    }
   },
   "source": [
    "Here we specify not only that the `visits` table has a column called `customer_id`,\n",
    "but that the column references the `id` column in the `customers` table. PostgreSQL\n",
    "will treat this as a constraint and ensure that new visits have a `customer_id`\n",
    "value that references an actual customer in the database."
   ]
  },
  {
   "cell_type": "markdown",
   "metadata": {},
   "source": [
    "### Types of Relationships\n",
    "\n",
    "#### One-to-one\n",
    "\n",
    "For a one-to-one relationship, place the foreign key on either side of the\n",
    "relationship.\n",
    "\n",
    "**Example: Customers and Licenses**\n",
    "Licenses is a table that holds the _most recent_ driver's license number for a customer,\n",
    "because customers can only have 1 driver's license at time, it will be a one-to-one relationship."
   ]
  },
  {
   "cell_type": "code",
   "execution_count": 13,
   "metadata": {
    "collapsed": false
   },
   "outputs": [
    {
     "name": "stdout",
     "output_type": "stream",
     "text": [
      "Done.\n",
      "Done.\n",
      "2 rows affected.\n",
      "Done.\n"
     ]
    },
    {
     "data": {
      "text/html": [
       "<table>\n",
       "    <tr>\n",
       "        <th>state</th>\n",
       "        <th>number</th>\n",
       "        <th>uploaded_at</th>\n",
       "        <th>customer_id</th>\n",
       "    </tr>\n",
       "    <tr>\n",
       "        <td>CO</td>\n",
       "        <td>DL19480284</td>\n",
       "        <td>2013-04-18</td>\n",
       "        <td>3</td>\n",
       "    </tr>\n",
       "    <tr>\n",
       "        <td>CA</td>\n",
       "        <td>DL19852984</td>\n",
       "        <td>2014-05-12</td>\n",
       "        <td>1</td>\n",
       "    </tr>\n",
       "</table>"
      ],
      "text/plain": [
       "[('CO', 'DL19480284', '2013-04-18', 3), ('CA', 'DL19852984', '2014-05-12', 1)]"
      ]
     },
     "execution_count": 13,
     "metadata": {},
     "output_type": "execute_result"
    }
   ],
   "source": [
    "%%sql\n",
    "DROP TABLE IF EXISTS licenses;  -- Included so we can run this multiple times without error.\n",
    "\n",
    "CREATE TABLE licenses (\n",
    "  state VARCHAR(2)\n",
    ", number VARCHAR(20)\n",
    ", uploaded_at TIMESTAMP\n",
    ", customer_id INTEGER REFERENCES customers(id)\n",
    ", PRIMARY KEY(state, number));\n",
    "\n",
    "INSERT INTO licenses VALUES \n",
    "    ('CO', 'DL19480284', '2013-04-18', 3),\n",
    "    ('CA', 'DL19852984', '2014-05-12', 1);\n",
    "\n",
    "SELECT * FROM licenses;"
   ]
  },
  {
   "cell_type": "markdown",
   "metadata": {},
   "source": [
    "To find the license for a customer:"
   ]
  },
  {
   "cell_type": "code",
   "execution_count": 14,
   "metadata": {
    "collapsed": false
   },
   "outputs": [
    {
     "name": "stdout",
     "output_type": "stream",
     "text": [
      "Done.\n"
     ]
    },
    {
     "data": {
      "text/html": [
       "<table>\n",
       "    <tr>\n",
       "        <th>state</th>\n",
       "        <th>number</th>\n",
       "        <th>uploaded_at</th>\n",
       "        <th>customer_id</th>\n",
       "    </tr>\n",
       "    <tr>\n",
       "        <td>CA</td>\n",
       "        <td>DL19852984</td>\n",
       "        <td>2014-05-12</td>\n",
       "        <td>1</td>\n",
       "    </tr>\n",
       "</table>"
      ],
      "text/plain": [
       "[('CA', 'DL19852984', '2014-05-12', 1)]"
      ]
     },
     "execution_count": 14,
     "metadata": {},
     "output_type": "execute_result"
    }
   ],
   "source": [
    "%%sql\n",
    "SELECT *\n",
    "FROM licenses\n",
    "WHERE customer_id=1"
   ]
  },
  {
   "cell_type": "markdown",
   "metadata": {
    "slideshow": {
     "slide_type": "slide"
    }
   },
   "source": [
    "**Notice** we also used a UNIQUE constraint as the last part of our CREATE TABLE statement.\n",
    "This is part of the power of SQL.  Because State and Driver's Licenses numbers should be unique,\n",
    "we can help limit data input errors by placing a UNIQUE constraint."
   ]
  },
  {
   "cell_type": "markdown",
   "metadata": {},
   "source": [
    "#### One-to-many and many-to-one\n",
    "\n",
    "For a one-to-many/many-to-one relationship (they are inverses of each other),\n",
    "place the foreign key on the many side of the relationship.\n",
    "\n",
    "**Example: Customer and Visits**\n",
    "\n",
    "To find the visits for a customer:"
   ]
  },
  {
   "cell_type": "code",
   "execution_count": 12,
   "metadata": {
    "collapsed": false
   },
   "outputs": [
    {
     "name": "stdout",
     "output_type": "stream",
     "text": [
      "Done.\n"
     ]
    },
    {
     "data": {
      "text/html": [
       "<table>\n",
       "    <tr>\n",
       "        <th>created_at</th>\n",
       "        <th>customer_id</th>\n",
       "    </tr>\n",
       "    <tr>\n",
       "        <td>2016-06-20</td>\n",
       "        <td>1</td>\n",
       "    </tr>\n",
       "    <tr>\n",
       "        <td>2016-07-30</td>\n",
       "        <td>1</td>\n",
       "    </tr>\n",
       "    <tr>\n",
       "        <td>2016-04-09</td>\n",
       "        <td>1</td>\n",
       "    </tr>\n",
       "</table>"
      ],
      "text/plain": [
       "[('2016-06-20', 1), ('2016-07-30', 1), ('2016-04-09', 1)]"
      ]
     },
     "execution_count": 12,
     "metadata": {},
     "output_type": "execute_result"
    }
   ],
   "source": [
    "%%sql\n",
    "SELECT *\n",
    "FROM visits\n",
    "WHERE customer_id=1"
   ]
  },
  {
   "cell_type": "markdown",
   "metadata": {},
   "source": [
    "To find details on the customer for that visit:"
   ]
  },
  {
   "cell_type": "code",
   "execution_count": 18,
   "metadata": {
    "collapsed": false,
    "slideshow": {
     "slide_type": "slide"
    }
   },
   "outputs": [
    {
     "name": "stdout",
     "output_type": "stream",
     "text": [
      "Done.\n"
     ]
    },
    {
     "data": {
      "text/html": [
       "<table>\n",
       "    <tr>\n",
       "        <th>id</th>\n",
       "        <th>name</th>\n",
       "        <th>age</th>\n",
       "        <th>city</th>\n",
       "        <th>state</th>\n",
       "    </tr>\n",
       "    <tr>\n",
       "        <td>1</td>\n",
       "        <td>john</td>\n",
       "        <td>25</td>\n",
       "        <td>San Francisco</td>\n",
       "        <td>CA</td>\n",
       "    </tr>\n",
       "</table>"
      ],
      "text/plain": [
       "[(1, 'john', 25, 'San Francisco', 'CA')]"
      ]
     },
     "execution_count": 18,
     "metadata": {},
     "output_type": "execute_result"
    }
   ],
   "source": [
    "%%sql\n",
    "SELECT *\n",
    "FROM customers\n",
    "WHERE id=1"
   ]
  },
  {
   "cell_type": "markdown",
   "metadata": {},
   "source": [
    "#### Many-to-many\n",
    "\n",
    "For a many-to-many relationship, create a table that contains two foreign keys,\n",
    "one to each side of the relationship. This intermediate table is often referred\n",
    "to as a **JOIN table**.\n",
    "\n",
    "**Example 1: Customers and Products**\n",
    "\n",
    "Here is our products table.  It lists all the products in the inventory."
   ]
  },
  {
   "cell_type": "code",
   "execution_count": 23,
   "metadata": {
    "collapsed": false
   },
   "outputs": [
    {
     "name": "stdout",
     "output_type": "stream",
     "text": [
      "Done.\n",
      "Done.\n",
      "3 rows affected.\n",
      "Done.\n"
     ]
    },
    {
     "data": {
      "text/html": [
       "<table>\n",
       "    <tr>\n",
       "        <th>id</th>\n",
       "        <th>name</th>\n",
       "        <th>price</th>\n",
       "    </tr>\n",
       "    <tr>\n",
       "        <td>1</td>\n",
       "        <td>soccer ball</td>\n",
       "        <td>20.5</td>\n",
       "    </tr>\n",
       "    <tr>\n",
       "        <td>2</td>\n",
       "        <td>iPod</td>\n",
       "        <td>200.0</td>\n",
       "    </tr>\n",
       "    <tr>\n",
       "        <td>3</td>\n",
       "        <td>headphones</td>\n",
       "        <td>50.0</td>\n",
       "    </tr>\n",
       "</table>"
      ],
      "text/plain": [
       "[(1, 'soccer ball', 20.5), (2, 'iPod', 200.0), (3, 'headphones', 50.0)]"
      ]
     },
     "execution_count": 23,
     "metadata": {},
     "output_type": "execute_result"
    }
   ],
   "source": [
    "%%sql\n",
    "DROP TABLE IF EXISTS products;  -- Included so we can run this multiple times without error.\n",
    "\n",
    "CREATE TABLE products (\n",
    "  id INTEGER PRIMARY KEY\n",
    ", name VARCHAR(50)\n",
    ", price FLOAT\n",
    ");\n",
    "\n",
    "INSERT INTO products (name, price) VALUES  -- notice the id will be filled automatically\n",
    "    ('soccer ball', 20.5),\n",
    "    ('iPod', 200),\n",
    "    ('headphones', 50);\n",
    "\n",
    "SELECT * FROM products"
   ]
  },
  {
   "cell_type": "markdown",
   "metadata": {},
   "source": [
    "How do we know which customer purchased which product?  Here is our **JOIN** table."
   ]
  },
  {
   "cell_type": "code",
   "execution_count": 21,
   "metadata": {
    "collapsed": false
   },
   "outputs": [
    {
     "name": "stdout",
     "output_type": "stream",
     "text": [
      "Done.\n",
      "Done.\n",
      "3 rows affected.\n",
      "Done.\n"
     ]
    },
    {
     "data": {
      "text/html": [
       "<table>\n",
       "    <tr>\n",
       "        <th>customer_id</th>\n",
       "        <th>product_id</th>\n",
       "        <th>date</th>\n",
       "        <th>quantity</th>\n",
       "    </tr>\n",
       "    <tr>\n",
       "        <td>1</td>\n",
       "        <td>2</td>\n",
       "        <td>2016-07-30</td>\n",
       "        <td>2</td>\n",
       "    </tr>\n",
       "    <tr>\n",
       "        <td>2</td>\n",
       "        <td>3</td>\n",
       "        <td>2016-06-20</td>\n",
       "        <td>3</td>\n",
       "    </tr>\n",
       "    <tr>\n",
       "        <td>1</td>\n",
       "        <td>3</td>\n",
       "        <td>2016-04-09</td>\n",
       "        <td>1</td>\n",
       "    </tr>\n",
       "</table>"
      ],
      "text/plain": [
       "[(1, 2, '2016-07-30', 2), (2, 3, '2016-06-20', 3), (1, 3, '2016-04-09', 1)]"
      ]
     },
     "execution_count": 21,
     "metadata": {},
     "output_type": "execute_result"
    }
   ],
   "source": [
    "%%sql\n",
    "DROP TABLE IF EXISTS purchases;  -- Included so we can run this multiple times without error.\n",
    "\n",
    "CREATE TABLE purchases (\n",
    "    customer_id INTEGER REFERENCES customers(id)\n",
    ",   product_id INTEGER REFERENCES products(id)\n",
    ",   date TIMESTAMP\n",
    ",   quantity INTEGER\n",
    ",   PRIMARY KEY(customer_id, product_id, date));\n",
    "\n",
    "INSERT INTO purchases VALUES \n",
    "    (1, 2, '2016-07-30', 2),\n",
    "    (2, 3, '2016-06-20', 3),\n",
    "    (1, 3, '2016-04-09', 1);\n",
    "\n",
    "SELECT * FROM purchases;"
   ]
  },
  {
   "cell_type": "markdown",
   "metadata": {},
   "source": [
    "**Notice**  In the customers and products tables, there are PRIMARY KEY constraints on the IDs.\n",
    "This ensures there is only 1 record for each customer and product.  We then used those keys to \n",
    "place FOREIGN KEY constraints on the customer_id and product_id in purchases.  This ensures our\n",
    "data will only contain purchases by customers already in the database for products already in the\n",
    "database.  Any other scenario indicates our data is not correct.\n",
    "\n",
    "To find the products purchased by a customer:"
   ]
  },
  {
   "cell_type": "code",
   "execution_count": 24,
   "metadata": {
    "collapsed": false
   },
   "outputs": [
    {
     "name": "stdout",
     "output_type": "stream",
     "text": [
      "Done.\n"
     ]
    },
    {
     "data": {
      "text/html": [
       "<table>\n",
       "    <tr>\n",
       "        <th>id</th>\n",
       "        <th>name</th>\n",
       "        <th>price</th>\n",
       "    </tr>\n",
       "    <tr>\n",
       "        <td>2</td>\n",
       "        <td>iPod</td>\n",
       "        <td>200.0</td>\n",
       "    </tr>\n",
       "    <tr>\n",
       "        <td>3</td>\n",
       "        <td>headphones</td>\n",
       "        <td>50.0</td>\n",
       "    </tr>\n",
       "</table>"
      ],
      "text/plain": [
       "[(2, 'iPod', 200.0), (3, 'headphones', 50.0)]"
      ]
     },
     "execution_count": 24,
     "metadata": {},
     "output_type": "execute_result"
    }
   ],
   "source": [
    "%%sql\n",
    "SELECT products.*\n",
    "FROM products\n",
    "JOIN purchases\n",
    "  ON products.id = purchases.product_id\n",
    "WHERE purchases.customer_id=1"
   ]
  },
  {
   "cell_type": "markdown",
   "metadata": {},
   "source": [
    "To find the customers who purchased a product:"
   ]
  },
  {
   "cell_type": "code",
   "execution_count": 25,
   "metadata": {
    "collapsed": false,
    "slideshow": {
     "slide_type": "slide"
    }
   },
   "outputs": [
    {
     "name": "stdout",
     "output_type": "stream",
     "text": [
      "Done.\n"
     ]
    },
    {
     "data": {
      "text/html": [
       "<table>\n",
       "    <tr>\n",
       "        <th>id</th>\n",
       "        <th>name</th>\n",
       "        <th>age</th>\n",
       "        <th>city</th>\n",
       "        <th>state</th>\n",
       "    </tr>\n",
       "    <tr>\n",
       "        <td>1</td>\n",
       "        <td>john</td>\n",
       "        <td>25</td>\n",
       "        <td>San Francisco</td>\n",
       "        <td>CA</td>\n",
       "    </tr>\n",
       "    <tr>\n",
       "        <td>2</td>\n",
       "        <td>becky</td>\n",
       "        <td>30</td>\n",
       "        <td>NYC</td>\n",
       "        <td>NY</td>\n",
       "    </tr>\n",
       "</table>"
      ],
      "text/plain": [
       "[(1, 'john', 25, 'San Francisco', 'CA'), (2, 'becky', 30, 'NYC', 'NY')]"
      ]
     },
     "execution_count": 25,
     "metadata": {},
     "output_type": "execute_result"
    }
   ],
   "source": [
    "%%sql\n",
    "SELECT customers.*\n",
    "FROM customers\n",
    "JOIN purchases\n",
    "  ON customers.id = purchases.customer_id\n",
    "WHERE purchases.product_id=3"
   ]
  },
  {
   "cell_type": "markdown",
   "metadata": {
    "slideshow": {
     "slide_type": "slide"
    }
   },
   "source": [
    "\n",
    "\n",
    "## Schema Normalization\n",
    "\n",
    "When designing a database schema (the tables and columns the database will\n",
    "contain), we aim to minimize redundancy. This most importantly comes into play\n",
    "with relations between data. As you saw above, when you want to relate data to\n",
    "each other, use a simple foreign key - that's the smallest piece of information\n",
    "that you can keep about another entry.\n",
    "\n",
    "As an example, each post has an author, which is an entry in the `customers` table.\n",
    "In a fully normalized schema, the post entry would have a `customer_id` which would\n",
    "relate the post to a customer. A denormalized way of doing this would be to have a\n",
    "column in the `posts` table called `author_name`, which would duplicate the\n",
    "`name` column in the `customers` table. \n",
    "\n",
    "Normalization is largely about reducing redundancy. The cost is that some\n",
    "queries will take longer to run because you will have to look up additional\n",
    "information in other tables. The benefit is simplicity and a system that is\n",
    "easier to understand and use. Always start with a fully normalized schema and\n",
    "then when performance becomes an issue, you can consider selectively\n",
    "denormalizing.\n",
    "\n",
    "You can learn more about database normalization from [Wikipedia][wiki-normal].\n",
    "\n",
    "[wiki-normal]: http://en.wikipedia.org/wiki/Database_normalization"
   ]
  },
  {
   "cell_type": "markdown",
   "metadata": {
    "slideshow": {
     "slide_type": "slide"
    }
   },
   "source": [
    "## SQL\n",
    "\n",
    "Structured Query Language (SQL) is the language used to query relational\n",
    "databases. All RDBMS use SQL and the syntax and keywords are for the most part\n",
    "the same across systems, though each system does have some of its own\n",
    "peculiarities.\n",
    "\n",
    "SQL is used to interact with RDBMS. That is, it allows you to create tables,\n",
    "alter tables, insert records, update records, delete records, and query for\n",
    "records within and across tables.\n",
    "\n",
    "**We will focus primarily on querying.**\n",
    "\n",
    "SQL, unlike Python or many other general purpose programming languages, is a\n",
    "declarative language, meaning the query describes the set of results. Here's an\n",
    "example of a simple query:\n",
    "\n",
    "```sql\n",
    "SELECT name, age\n",
    "FROM customers\n",
    "```\n",
    "\n",
    "This query returns the name and age for every customer in the `customers` table.\n",
    "\n",
    "```sql\n",
    "SELECT name, age\n",
    "FROM customers\n",
    "WHERE state = 'CA'\n",
    "```\n",
    "\n",
    "This query returns the name and age for every customer in the `customers` table who\n",
    "lives in CA."
   ]
  },
  {
   "cell_type": "markdown",
   "metadata": {
    "slideshow": {
     "slide_type": "slide"
    }
   },
   "source": [
    "## SQL Queries\n",
    "\n",
    "SQL queries are composed of **clauses**. Each clause begins with a **keyword**.\n",
    "Every query begins with the `SELECT` clause followed by the `FROM` and\n",
    "`JOIN` clauses. You then have the ability to apply filtering, aggregation, and\n",
    "ordering clauses. \n",
    "\n",
    "While `SELECT` appears at the top of the query, it is actually very nearly the\n",
    "last part of the query that is executed. `SELECT` specifies the columns that\n",
    "should be returned. \n",
    "\n",
    "**The most important parts of any SQL query are the `FROM` and `JOIN` clauses.**\n",
    "These are the first parts of the query to be evaluated, specifying the rows upon\n",
    "which all the filtering, aggregation, and ordering functions are applied.\n",
    "\n",
    "We'll briefly cover `JOIN` and variants and then move to a conceptual overview\n",
    "of the order of execution of a SQL query followed by a detailed example."
   ]
  },
  {
   "cell_type": "markdown",
   "metadata": {},
   "source": [
    "### Aggregations\n",
    "\n",
    "SQL allows you to aggregate your data set based on common keys.  To see the number of visits\n",
    "from each customer_id we would query:"
   ]
  },
  {
   "cell_type": "code",
   "execution_count": 26,
   "metadata": {
    "collapsed": false
   },
   "outputs": [
    {
     "name": "stdout",
     "output_type": "stream",
     "text": [
      "Done.\n"
     ]
    },
    {
     "data": {
      "text/html": [
       "<table>\n",
       "    <tr>\n",
       "        <th>customer_id</th>\n",
       "        <th>COUNT(*)</th>\n",
       "    </tr>\n",
       "    <tr>\n",
       "        <td>1</td>\n",
       "        <td>3</td>\n",
       "    </tr>\n",
       "    <tr>\n",
       "        <td>2</td>\n",
       "        <td>1</td>\n",
       "    </tr>\n",
       "    <tr>\n",
       "        <td>3</td>\n",
       "        <td>1</td>\n",
       "    </tr>\n",
       "</table>"
      ],
      "text/plain": [
       "[(1, 3), (2, 1), (3, 1)]"
      ]
     },
     "execution_count": 26,
     "metadata": {},
     "output_type": "execute_result"
    }
   ],
   "source": [
    "%%sql\n",
    "SELECT customer_id, COUNT(*)\n",
    "FROM visits\n",
    "GROUP BY customer_id"
   ]
  },
  {
   "cell_type": "markdown",
   "metadata": {
    "slideshow": {
     "slide_type": "slide"
    }
   },
   "source": [
    "**Notice** The GROUP BY clause tells SQL what common factor we'd like to use to aggregate the data.\n",
    "The COUNT aggregate function tells SQL how we'd like to aggregate."
   ]
  },
  {
   "cell_type": "markdown",
   "metadata": {},
   "source": [
    "### Aggregations Cont.\n",
    "When we JOIN tables we are essentially creating a new table, so we can use aggregate functions when \n",
    "using JOINs.  To get the amount of revenue from each product:"
   ]
  },
  {
   "cell_type": "code",
   "execution_count": 27,
   "metadata": {
    "collapsed": false
   },
   "outputs": [
    {
     "name": "stdout",
     "output_type": "stream",
     "text": [
      "Done.\n"
     ]
    },
    {
     "data": {
      "text/html": [
       "<table>\n",
       "    <tr>\n",
       "        <th>name</th>\n",
       "        <th>id</th>\n",
       "        <th>revenue</th>\n",
       "    </tr>\n",
       "    <tr>\n",
       "        <td>headphones</td>\n",
       "        <td>3</td>\n",
       "        <td>200.0</td>\n",
       "    </tr>\n",
       "    <tr>\n",
       "        <td>iPod</td>\n",
       "        <td>2</td>\n",
       "        <td>400.0</td>\n",
       "    </tr>\n",
       "</table>"
      ],
      "text/plain": [
       "[('headphones', 3, 200.0), ('iPod', 2, 400.0)]"
      ]
     },
     "execution_count": 27,
     "metadata": {},
     "output_type": "execute_result"
    }
   ],
   "source": [
    "%%sql\n",
    "SELECT products.name, products.id, SUM(purchases.quantity * products.price) AS revenue\n",
    "FROM products\n",
    "JOIN purchases \n",
    "  ON products.id=purchases.product_id\n",
    "GROUP BY products.name, products.id"
   ]
  },
  {
   "cell_type": "markdown",
   "metadata": {},
   "source": [
    "### Sorting\n",
    "\n",
    "To make the results more readable, we can sort them.  Maybe we want the customers in alphabetical order."
   ]
  },
  {
   "cell_type": "code",
   "execution_count": 28,
   "metadata": {
    "collapsed": false
   },
   "outputs": [
    {
     "name": "stdout",
     "output_type": "stream",
     "text": [
      "Done.\n"
     ]
    },
    {
     "data": {
      "text/html": [
       "<table>\n",
       "    <tr>\n",
       "        <th>id</th>\n",
       "        <th>name</th>\n",
       "        <th>age</th>\n",
       "        <th>city</th>\n",
       "        <th>state</th>\n",
       "    </tr>\n",
       "    <tr>\n",
       "        <td>2</td>\n",
       "        <td>becky</td>\n",
       "        <td>30</td>\n",
       "        <td>NYC</td>\n",
       "        <td>NY</td>\n",
       "    </tr>\n",
       "    <tr>\n",
       "        <td>1</td>\n",
       "        <td>john</td>\n",
       "        <td>25</td>\n",
       "        <td>San Francisco</td>\n",
       "        <td>CA</td>\n",
       "    </tr>\n",
       "    <tr>\n",
       "        <td>3</td>\n",
       "        <td>sarah</td>\n",
       "        <td>20</td>\n",
       "        <td>Denver</td>\n",
       "        <td>CO</td>\n",
       "    </tr>\n",
       "</table>"
      ],
      "text/plain": [
       "[(2, 'becky', 30, 'NYC', 'NY'),\n",
       " (1, 'john', 25, 'San Francisco', 'CA'),\n",
       " (3, 'sarah', 20, 'Denver', 'CO')]"
      ]
     },
     "execution_count": 28,
     "metadata": {},
     "output_type": "execute_result"
    }
   ],
   "source": [
    "%%sql\n",
    "SELECT *\n",
    "FROM customers\n",
    "ORDER BY NAME"
   ]
  },
  {
   "cell_type": "markdown",
   "metadata": {},
   "source": [
    "And if we wanted them in reverse alphabetical order, we'd add the DESC keyword."
   ]
  },
  {
   "cell_type": "code",
   "execution_count": 21,
   "metadata": {
    "collapsed": false
   },
   "outputs": [
    {
     "name": "stdout",
     "output_type": "stream",
     "text": [
      "Done.\n"
     ]
    },
    {
     "data": {
      "text/html": [
       "<table>\n",
       "    <tr>\n",
       "        <th>id</th>\n",
       "        <th>name</th>\n",
       "        <th>age</th>\n",
       "        <th>city</th>\n",
       "        <th>state</th>\n",
       "    </tr>\n",
       "    <tr>\n",
       "        <td>3</td>\n",
       "        <td>sarah</td>\n",
       "        <td>20</td>\n",
       "        <td>Denver</td>\n",
       "        <td>CO</td>\n",
       "    </tr>\n",
       "    <tr>\n",
       "        <td>1</td>\n",
       "        <td>john</td>\n",
       "        <td>25</td>\n",
       "        <td>San Francisco</td>\n",
       "        <td>CA</td>\n",
       "    </tr>\n",
       "    <tr>\n",
       "        <td>2</td>\n",
       "        <td>becky</td>\n",
       "        <td>30</td>\n",
       "        <td>NYC</td>\n",
       "        <td>NY</td>\n",
       "    </tr>\n",
       "</table>"
      ],
      "text/plain": [
       "[(3, 'sarah', 20, 'Denver', 'CO'),\n",
       " (1, 'john', 25, 'San Francisco', 'CA'),\n",
       " (2, 'becky', 30, 'NYC', 'NY')]"
      ]
     },
     "execution_count": 21,
     "metadata": {},
     "output_type": "execute_result"
    }
   ],
   "source": [
    "%%sql\n",
    "SELECT *\n",
    "FROM customers\n",
    "ORDER BY NAME DESC"
   ]
  },
  {
   "cell_type": "markdown",
   "metadata": {
    "slideshow": {
     "slide_type": "slide"
    }
   },
   "source": [
    "### SQL Order of Operations\n",
    "\n",
    "SQL does not perform operations \"top to bottom\".  Rather it executes statements in the following order:\n",
    "\n",
    "1. **FROM**, **JOIN**: first the product of all tables is formed\n",
    "2. **WHERE**: the where clause is used to filter rows not satisfying search conditions\n",
    "3. **GROUP BY** + (**COUNT**, **SUM**, etc): rows are grouped using the columns in the group by clause and the aggregation functions are applied\n",
    "4. **HAVING**: like the **WHERE** clause, but can be applied after aggregation\n",
    "5. **SELECT**: the targeted list of columns are evaluated and returned\n",
    "6. **ORDER BY**: the resulting rows are sorted\n"
   ]
  },
  {
   "cell_type": "markdown",
   "metadata": {
    "slideshow": {
     "slide_type": "slide"
    }
   },
   "source": [
    "### `JOIN` types\n",
    "\n",
    "The various `JOIN`s specify how to deal with different circumstances regarding\n",
    "the primary and foreign key matchings. "
   ]
  },
  {
   "cell_type": "markdown",
   "metadata": {
    "slideshow": {
     "slide_type": "fragment"
    }
   },
   "source": [
    "`INNER JOIN`s discard any entries that do not have a match between the keys\n",
    "specified in the `ON` clause. For example, in the above query, any customer who had\n",
    "not visited the site will NOT be in the result set because a match would not\n",
    "have been found between the customer's `id` and a visit's `customer_id`.\n",
    "\n",
    "![inner_join](https://cloud.githubusercontent.com/assets/1425450/9778836/9f669cae-572a-11e5-9c96-98b59a930b7d.png)"
   ]
  },
  {
   "cell_type": "markdown",
   "metadata": {
    "slideshow": {
     "slide_type": "fragment"
    }
   },
   "source": [
    "A `LEFT OUTER JOIN` keeps all the entries in the left table regardless of\n",
    "whether a match is found in the right table. In that case, the columns\n",
    "associated with the right table for that entry will simply be `NULL`. A `RIGHT\n",
    "OUTER JOIN` is the same except it keeps all the entries in the right table\n",
    "instead of the left one.\n",
    "\n",
    "![left_join](https://cloud.githubusercontent.com/assets/1425450/9778839/9f69bbd2-572a-11e5-9b13-7b2c2d7a04fb.png)\n",
    "\n",
    "![right_join](https://cloud.githubusercontent.com/assets/1425450/9779109/19ace62e-572d-11e5-9868-17a9a7e3440f.png)"
   ]
  },
  {
   "cell_type": "code",
   "execution_count": 29,
   "metadata": {
    "collapsed": false
   },
   "outputs": [
    {
     "name": "stdout",
     "output_type": "stream",
     "text": [
      "Done.\n"
     ]
    },
    {
     "data": {
      "text/html": [
       "<table>\n",
       "    <tr>\n",
       "        <th>id</th>\n",
       "        <th>number</th>\n",
       "    </tr>\n",
       "    <tr>\n",
       "        <td>1</td>\n",
       "        <td>DL19852984</td>\n",
       "    </tr>\n",
       "    <tr>\n",
       "        <td>2</td>\n",
       "        <td>None</td>\n",
       "    </tr>\n",
       "    <tr>\n",
       "        <td>3</td>\n",
       "        <td>DL19480284</td>\n",
       "    </tr>\n",
       "</table>"
      ],
      "text/plain": [
       "[(1, 'DL19852984'), (2, None), (3, 'DL19480284')]"
      ]
     },
     "execution_count": 29,
     "metadata": {},
     "output_type": "execute_result"
    }
   ],
   "source": [
    "%%sql\n",
    "SELECT c.id, l.number\n",
    "FROM customers c\n",
    "LEFT JOIN licenses l\n",
    "  ON l.customer_id = c.id"
   ]
  },
  {
   "cell_type": "markdown",
   "metadata": {
    "slideshow": {
     "slide_type": "fragment"
    }
   },
   "source": [
    "A `FULL OUTER JOIN` will keep the rows of both tables no matter what with `NULL`\n",
    "values for ones that don't have matches.\n",
    "\n",
    "![full_outer_join](https://cloud.githubusercontent.com/assets/1425450/9778837/9f66b90a-572a-11e5-9d29-2b6c817cc7ec.png)"
   ]
  },
  {
   "cell_type": "markdown",
   "metadata": {
    "slideshow": {
     "slide_type": "slide"
    }
   },
   "source": [
    "# Advanced SQL\n",
    "\n",
    "To be a SQL wizard, it's important to become very comfortable with SQL joins, nested `SELECTS` and `GROUP BY`s.\n",
    "\n",
    "Let's say for an online sales company you have the following tables:\n",
    "```sql\n",
    "CREATE TABLE CUSTOMERS (\n",
    "    id INTEGER PRIMARY KEY\n",
    ",   name VARCHAR(50)\n",
    ",   age INTEGER\n",
    ",   city VARCHAR(255)\n",
    ",   state VARCHAR(2)\n",
    "    );\n",
    "    \n",
    "CREATE TABLE PRODUCTS (\n",
    "\tid INTEGER PRIMARY KEY\n",
    ",\tname VARCHAR(50)\n",
    ",\tprice FLOAT\n",
    "\t);\n",
    "    \n",
    "CREATE TABLE purchases (\n",
    "    customer_id INTEGER REFERENCES customers(id)\n",
    ",    product_id INTEGER REFERENCES products(id)\n",
    ",    date TIMESTAMP\n",
    ",    quantity INTEGER );\n",
    "\n",
    "CREATE TABLE VISITS (\n",
    "  id INTEGER PRIMARY KEY\n",
    ",  created_at TIMESTAMP\n",
    ",  customer_id INTEGER REFERENCES customers(id) );\n",
    "```"
   ]
  },
  {
   "cell_type": "markdown",
   "metadata": {
    "slideshow": {
     "slide_type": "slide"
    }
   },
   "source": [
    "### Inner Join\n",
    "\n",
    "![inner_join](https://cloud.githubusercontent.com/assets/1425450/9778836/9f669cae-572a-11e5-9c96-98b59a930b7d.png)\n",
    "\n",
    "If you want to get all the purchases but you want to include the customer name and the product name, you would use a stardard join (this is also called an *inner join*):\n",
    "\n",
    "```sql\n",
    "SELECT customers.name AS cust_name, products.name AS prod_name, date, quantity\n",
    "FROM purchases purchases\n",
    "JOIN products \n",
    "    ON products.id=purchases.product_id\n",
    "JOIN customers \n",
    "    ON customers.id=purchases.customer_id;\n",
    "```"
   ]
  },
  {
   "cell_type": "markdown",
   "metadata": {},
   "source": [
    "### Outer Join\n",
    "\n",
    "Let's say there's a mistake in our database and some products are in the purchase table but not in the products table. With the above inner join query, they would just end up being excluded. An inner join only includes entries which are in both tables."
   ]
  },
  {
   "cell_type": "code",
   "execution_count": 30,
   "metadata": {
    "collapsed": false,
    "slideshow": {
     "slide_type": "slide"
    }
   },
   "outputs": [
    {
     "name": "stdout",
     "output_type": "stream",
     "text": [
      "Done.\n",
      "Done.\n",
      "3 rows affected.\n"
     ]
    },
    {
     "data": {
      "text/plain": [
       "[]"
      ]
     },
     "execution_count": 30,
     "metadata": {},
     "output_type": "execute_result"
    }
   ],
   "source": [
    "%%sql -- Table with mistakes\n",
    "\n",
    "DROP TABLE IF EXISTS purchases_no_key;\n",
    "\n",
    "CREATE TABLE purchases_no_key (\n",
    "    customer_id INTEGER REFERENCES customers(id)\n",
    ",   product_id INTEGER REFERENCES products(id)\n",
    ",   date TIMESTAMP\n",
    ",   quantity INTEGER\n",
    ",   PRIMARY KEY(customer_id, product_id, date));\n",
    "\n",
    "INSERT INTO purchases_no_key (customer_id, product_id, date, quantity) VALUES\n",
    "    (1, 2, '2015-07-30', 2)\n",
    ",   (2, 4, '2015-06-20', 3)\n",
    ",   (1, 3, '2015-04-09', 1);"
   ]
  },
  {
   "cell_type": "markdown",
   "metadata": {},
   "source": [
    "We can ensure all records are included in our result by using an *outer join*."
   ]
  },
  {
   "cell_type": "code",
   "execution_count": 31,
   "metadata": {
    "collapsed": false
   },
   "outputs": [
    {
     "name": "stdout",
     "output_type": "stream",
     "text": [
      "Done.\n"
     ]
    },
    {
     "data": {
      "text/html": [
       "<table>\n",
       "    <tr>\n",
       "        <th>cust_name</th>\n",
       "        <th>prod_name</th>\n",
       "        <th>date</th>\n",
       "        <th>quantity</th>\n",
       "    </tr>\n",
       "    <tr>\n",
       "        <td>john</td>\n",
       "        <td>iPod</td>\n",
       "        <td>2015-07-30</td>\n",
       "        <td>2</td>\n",
       "    </tr>\n",
       "    <tr>\n",
       "        <td>becky</td>\n",
       "        <td>None</td>\n",
       "        <td>2015-06-20</td>\n",
       "        <td>3</td>\n",
       "    </tr>\n",
       "    <tr>\n",
       "        <td>john</td>\n",
       "        <td>headphones</td>\n",
       "        <td>2015-04-09</td>\n",
       "        <td>1</td>\n",
       "    </tr>\n",
       "</table>"
      ],
      "text/plain": [
       "[('john', 'iPod', '2015-07-30', 2),\n",
       " ('becky', None, '2015-06-20', 3),\n",
       " ('john', 'headphones', '2015-04-09', 1)]"
      ]
     },
     "execution_count": 31,
     "metadata": {},
     "output_type": "execute_result"
    }
   ],
   "source": [
    "%%sql\n",
    "SELECT customers.name AS cust_name, products.name AS prod_name, date, quantity\n",
    "FROM purchases_no_key purchases\n",
    "LEFT OUTER JOIN products \n",
    "    ON products.id=purchases.product_id\n",
    "JOIN customers \n",
    "    ON customers.id=purchases.customer_id;"
   ]
  },
  {
   "cell_type": "markdown",
   "metadata": {
    "slideshow": {
     "slide_type": "slide"
    }
   },
   "source": [
    "![left_join](https://cloud.githubusercontent.com/assets/1425450/9778839/9f69bbd2-572a-11e5-9b13-7b2c2d7a04fb.png)\n",
    "\n",
    "The LEFT means that everything from the first table will be included even if there isn't a matching entry in the second table. This will include those missing products, but their names will be `NULL`."
   ]
  },
  {
   "cell_type": "markdown",
   "metadata": {},
   "source": [
    "We'll want to isolate those mistakes, we can use the same query as above, but only returns rows where\n",
    "something in the left table isn't in the joined table."
   ]
  },
  {
   "cell_type": "code",
   "execution_count": 33,
   "metadata": {
    "collapsed": false
   },
   "outputs": [
    {
     "name": "stdout",
     "output_type": "stream",
     "text": [
      "Done.\n"
     ]
    },
    {
     "data": {
      "text/html": [
       "<table>\n",
       "    <tr>\n",
       "        <th>customer_id</th>\n",
       "        <th>product_id</th>\n",
       "        <th>date</th>\n",
       "        <th>quantity</th>\n",
       "        <th>name</th>\n",
       "    </tr>\n",
       "    <tr>\n",
       "        <td>2</td>\n",
       "        <td>4</td>\n",
       "        <td>2015-06-20</td>\n",
       "        <td>3</td>\n",
       "        <td>None</td>\n",
       "    </tr>\n",
       "</table>"
      ],
      "text/plain": [
       "[(2, 4, '2015-06-20', 3, None)]"
      ]
     },
     "execution_count": 33,
     "metadata": {},
     "output_type": "execute_result"
    }
   ],
   "source": [
    "%%sql\n",
    "SELECT purchases.*,products.name\n",
    "FROM purchases_no_key purchases\n",
    "LEFT OUTER JOIN products \n",
    "    ON products.id=purchases.product_id\n",
    "JOIN customers \n",
    "    ON customers.id=purchases.customer_id\n",
    "WHERE products.name IS NULL;"
   ]
  },
  {
   "cell_type": "markdown",
   "metadata": {},
   "source": [
    "![left_join_null](https://cloud.githubusercontent.com/assets/1425450/9779111/1b8b0df4-572d-11e5-922d-55d7b2d36dd2.png)\n",
    "\n",
    "Even better, we can create the Purchases table with a FOREIGN KEY constraint to ensure that all customer and product ids are in their respective tables.  If you try the below, you will receive an error:"
   ]
  },
  {
   "cell_type": "code",
   "execution_count": 48,
   "metadata": {
    "collapsed": false
   },
   "outputs": [
    {
     "name": "stdout",
     "output_type": "stream",
     "text": [
      "Done.\n"
     ]
    },
    {
     "data": {
      "text/plain": [
       "[]"
      ]
     },
     "execution_count": 48,
     "metadata": {},
     "output_type": "execute_result"
    }
   ],
   "source": [
    "%sql PRAGMA foreign_keys = OFF;"
   ]
  },
  {
   "cell_type": "markdown",
   "metadata": {
    "slideshow": {
     "slide_type": "slide"
    }
   },
   "source": [
    "<!--\n",
    "```sql\n",
    "INSERT INTO purchases (customer_id, product_id, date, quantity) VALUES\n",
    "   (2, 4, '2015-06-20', 3);\n",
    "\n",
    "ERROR:  insert or update on table \"purchases\" violates foreign key constraint \"purchases_product_id_fkey\"\n",
    "DETAIL:  Key (product_id)=(4) is not present in table \"products\".\n",
    "```\n",
    "-->"
   ]
  },
  {
   "cell_type": "code",
   "execution_count": 49,
   "metadata": {
    "collapsed": false
   },
   "outputs": [
    {
     "name": "stdout",
     "output_type": "stream",
     "text": [
      "(sqlite3.OperationalError) no such table: purchases [SQL: \"INSERT INTO purchases (customer_id, product_id, date, quantity) VALUES\\n   (2, 4, '2015-06-20', 3);\"]\n"
     ]
    }
   ],
   "source": [
    "%%sql\n",
    "INSERT INTO purchases (customer_id, product_id, date, quantity) VALUES\n",
    "   (2, 4, '2015-06-20', 3);"
   ]
  },
  {
   "cell_type": "markdown",
   "metadata": {},
   "source": [
    "### Except\n",
    "\n",
    "\n",
    "You can also use `EXCEPT` (MINUS in some versions of SQL):"
   ]
  },
  {
   "cell_type": "code",
   "execution_count": 38,
   "metadata": {
    "collapsed": false,
    "slideshow": {
     "slide_type": "slide"
    }
   },
   "outputs": [
    {
     "name": "stdout",
     "output_type": "stream",
     "text": [
      "Done.\n"
     ]
    },
    {
     "data": {
      "text/html": [
       "<table>\n",
       "    <tr>\n",
       "        <th>product_id</th>\n",
       "    </tr>\n",
       "    <tr>\n",
       "        <td>4</td>\n",
       "    </tr>\n",
       "</table>"
      ],
      "text/plain": [
       "[(4,)]"
      ]
     },
     "execution_count": 38,
     "metadata": {},
     "output_type": "execute_result"
    }
   ],
   "source": [
    "%%sql\n",
    "SELECT purchases.product_id\n",
    "FROM purchases_no_key purchases\n",
    "EXCEPT\n",
    "SELECT products.id\n",
    "FROM products;"
   ]
  },
  {
   "cell_type": "markdown",
   "metadata": {},
   "source": [
    "### Getting the maximum\n",
    "\n",
    "For this we will assume that there's no missing data in our tables.\n",
    "\n",
    "There is a MAX function which gives you the maximum value, but often you want the entry associated with it. Let's say you want to find the most expensive item. The way to do this is to find the maximum price and then find all the elements whose price is that value.\n",
    "\n",
    "This requires you to do a nested SELECT statement."
   ]
  },
  {
   "cell_type": "code",
   "execution_count": 29,
   "metadata": {
    "collapsed": false,
    "slideshow": {
     "slide_type": "slide"
    }
   },
   "outputs": [
    {
     "name": "stdout",
     "output_type": "stream",
     "text": [
      "Done.\n"
     ]
    },
    {
     "data": {
      "text/html": [
       "<table>\n",
       "    <tr>\n",
       "        <th>id</th>\n",
       "        <th>name</th>\n",
       "        <th>price</th>\n",
       "    </tr>\n",
       "    <tr>\n",
       "        <td>2</td>\n",
       "        <td>iPod</td>\n",
       "        <td>200.0</td>\n",
       "    </tr>\n",
       "</table>"
      ],
      "text/plain": [
       "[(2, 'iPod', 200.0)]"
      ]
     },
     "execution_count": 29,
     "metadata": {},
     "output_type": "execute_result"
    }
   ],
   "source": [
    "%%sql\n",
    "SELECT *\n",
    "FROM products\n",
    "WHERE price=(\n",
    "            SELECT MAX(price) \n",
    "            FROM products\n",
    "            ); "
   ]
  },
  {
   "cell_type": "markdown",
   "metadata": {
    "slideshow": {
     "slide_type": "slide"
    }
   },
   "source": [
    "Or maybe you want the product which has generated the most profit. Sometimes it's helpful to, instead of having multiple nested selects, creating a temporary table as an intermediary step."
   ]
  },
  {
   "cell_type": "code",
   "execution_count": 39,
   "metadata": {
    "collapsed": false
   },
   "outputs": [
    {
     "name": "stdout",
     "output_type": "stream",
     "text": [
      "Done.\n",
      "Done.\n",
      "Done.\n"
     ]
    },
    {
     "data": {
      "text/html": [
       "<table>\n",
       "    <tr>\n",
       "        <th>name</th>\n",
       "        <th>product_id</th>\n",
       "    </tr>\n",
       "    <tr>\n",
       "        <td>iPod</td>\n",
       "        <td>2</td>\n",
       "    </tr>\n",
       "</table>"
      ],
      "text/plain": [
       "[('iPod', 2)]"
      ]
     },
     "execution_count": 39,
     "metadata": {},
     "output_type": "execute_result"
    }
   ],
   "source": [
    "%%sql\n",
    "DROP TABLE IF EXISTS profits;\n",
    "\n",
    "CREATE TEMPORARY TABLE profits AS\n",
    "SELECT name, products.id AS product_id, SUM(purchases.quantity * products.price) AS profit\n",
    "FROM products\n",
    "JOIN purchases\n",
    "    ON products.id=purchases.product_id\n",
    "GROUP BY products.name, products.id;\n",
    "\n",
    "SELECT name, product_id\n",
    "FROM profits\n",
    "WHERE profit=(SELECT MAX(profit) FROM profits);"
   ]
  },
  {
   "cell_type": "markdown",
   "metadata": {
    "slideshow": {
     "slide_type": "slide"
    }
   },
   "source": [
    "You can also do this using a WITH clause:"
   ]
  },
  {
   "cell_type": "code",
   "execution_count": 31,
   "metadata": {
    "collapsed": false
   },
   "outputs": [
    {
     "name": "stdout",
     "output_type": "stream",
     "text": [
      "Done.\n"
     ]
    },
    {
     "data": {
      "text/html": [
       "<table>\n",
       "    <tr>\n",
       "        <th>name</th>\n",
       "        <th>id</th>\n",
       "    </tr>\n",
       "    <tr>\n",
       "        <td>iPod</td>\n",
       "        <td>2</td>\n",
       "    </tr>\n",
       "</table>"
      ],
      "text/plain": [
       "[('iPod', 2)]"
      ]
     },
     "execution_count": 31,
     "metadata": {},
     "output_type": "execute_result"
    }
   ],
   "source": [
    "%%sql\n",
    "WITH p AS (\n",
    "SELECT products.name, products.id, SUM(purchases.quantity * products.price) AS profit\n",
    "FROM products\n",
    "JOIN  purchases\n",
    "    ON products.id=purchases.product_id\n",
    "GROUP BY products.name, products.id)\n",
    "\n",
    "SELECT name, id\n",
    "FROM p\n",
    "WHERE profit=(SELECT MAX(profit) FROM p);"
   ]
  },
  {
   "cell_type": "markdown",
   "metadata": {
    "slideshow": {
     "slide_type": "slide"
    }
   },
   "source": [
    "<!--\n",
    "### Windowing Functions\n",
    "\n",
    "If all of this made sense so far and you are ready for more, checkout [windowing functions](http://www.postgresql.org/docs/9.1/static/tutorial-window.html)\n",
    "\n",
    "We can get the same result as above using the RANK window function.\n",
    "\n",
    "```sql\n",
    "WITH p AS (\n",
    "SELECT products.name, products.id, SUM(purchases.quantity * products.price) AS profit\n",
    "FROM products\n",
    "JOIN  purchases\n",
    "    ON products.id=purchases.product_id\n",
    "GROUP BY products.name, products.id)\n",
    "\n",
    "SELECT name, id, profit\n",
    "FROM (  SELECT name, id, profit, rank() OVER (ORDER BY profit DESC)\n",
    "        FROM p) ranked_profit\n",
    "    WHERE rank=1\n",
    "```\n",
    "-->"
   ]
  },
  {
   "cell_type": "markdown",
   "metadata": {
    "slideshow": {
     "slide_type": "slide"
    }
   },
   "source": [
    "## Keyword Cheatsheet\n",
    "\n",
    "* Return values\n",
    "  * SELECT\n",
    "  * DISTINCT\n",
    "* Tables and rows\n",
    "  * FROM\n",
    "  * JOIN\n",
    "    * INNER\n",
    "    * LEFT, RIGHT\n",
    "    * FULL\n",
    "* Filtering\n",
    "  * WHERE\n",
    "  * =, !=, >, <, >=, <=\n",
    "  * AND, OR\n",
    "  * IN, NOT IN\n",
    "  * LIKE\n",
    "  * IS NULL, IS NOT NULL\n",
    "  * LIMIT\n",
    "  * BETWEEN\n",
    "* Aggregating\n",
    "  * GROUP BY\n",
    "  * COUNT\n",
    "  * MAX, MIN\n",
    "  * SUM\n",
    "  * AVG\n",
    "  * HAVING\n",
    "* Ordering\n",
    "  * ORDER BY\n",
    "* Aliasing\n",
    "  * AS\n"
   ]
  },
  {
   "cell_type": "markdown",
   "metadata": {
    "slideshow": {
     "slide_type": "slide"
    }
   },
   "source": [
    "## Additional Resources\n",
    "\n",
    "* [SQLite Documentation](https://www.sqlite.org/docs.html)\n",
    "* [PostgreSQL Documentation](http://www.postgresql.org/docs/9.2/interactive/index.html)\n",
    "* [SQL for Data Science](http://bensresearch.com/downloads/SQL.pdf)\n",
    "\n",
    "**Database theory resources**\n",
    "\n",
    "* [ACID](http://en.wikipedia.org/wiki/ACID)\n",
    "* [CAP Theorem](http://en.wikipedia.org/wiki/CAP_theorem)\n",
    "* [Relational Algebra](http://en.wikipedia.org/wiki/Relational_algebra)\n",
    "* [Set Theory](http://en.wikipedia.org/wiki/Set_theory)"
   ]
  },
  {
   "cell_type": "markdown",
   "metadata": {},
   "source": [
    "## Lab Exerciese\n",
    "\n",
    "1. Complete chapters 1, 3, 5 and 6 in this [online SQL tutorial](http://sqlzoo.net/wiki/SQL_Tutorial). The harder questions are optional.  \n",
    "\n",
    "2. Explore the Titanic database.\n",
    "    1. Download `titanic.db` from [https://s3-us-west-2.amazonaws.com/dsci/6002/data/titanic.db](https://s3-us-west-2.amazonaws.com/dsci/6002/data/titanic.db)\n",
    "    2. Open a new terminal and navigate to where you put `titantic.db`\n",
    "    3. Enter the following command: `sqlite3 titanic.db`\n",
    "    4. Now we are in the database, we can check out the names of the tables in the database by entering the following:  \n",
    "       `SELECT name FROM sqlite_master WHERE type = \"table\"`  \n",
    "    You should see the following output, otherwise ask for help:\n",
    "  ```\n",
    "  name\n",
    "  info\n",
    "  ```\n",
    "\n",
    "**Questions:**\n",
    "\n",
    "1. Select the first 3 rows in each of the tables (2 tables). State which column contains the primary key.  \n",
    "    __HINT: .schema can give info on the database in sqlite__ \n",
    "2. How many of the passengers are male/female.\n",
    "\n",
    "3. The percentage of female onboard.\n",
    "\n",
    "4. Express the ratio of `male:female` onboard.\n",
    "\n",
    "5. Mean age of passengers\n",
    "\n",
    "6. Max age of passengers\n",
    "\n",
    "7. Variance of age of passengers (**SQLite does not have built-in, but most other SQL have**)\n",
    "    _**HINT: Make a table of `age,average_age` first**_\n",
    "\n",
    "8. Number of passenger in each `Pclass`\n",
    "\n",
    "9. Mean `Fare` for each `Pclass`\n",
    "\n",
    "10. The number of passenger that does not have a name in the `info` table\n",
    "    _**HINT: Do a `LEFT JOIN` and `INNER JOIN` between `info` and `name` and compare the count**_\n",
    "\n",
    "11. Repeat `Ex10.` using one `LEFT JOIN` and the `IS NULL` function\n",
    "\n",
    "12. Find the number of people with `Mr.` in their name\n",
    "\n",
    "13. Compute the survival rate for male and female."
   ]
  },
  {
   "cell_type": "code",
   "execution_count": 45,
   "metadata": {
    "collapsed": false
   },
   "outputs": [
    {
     "data": {
      "text/plain": [
       "'Connected: None@titanic.db'"
      ]
     },
     "execution_count": 45,
     "metadata": {},
     "output_type": "execute_result"
    }
   ],
   "source": [
    "%sql sqlite:///titanic.db ##Load the Titanic "
   ]
  },
  {
   "cell_type": "markdown",
   "metadata": {},
   "source": [
    "Question One"
   ]
  },
  {
   "cell_type": "code",
   "execution_count": 56,
   "metadata": {
    "collapsed": false
   },
   "outputs": [
    {
     "name": "stdout",
     "output_type": "stream",
     "text": [
      "Done.\n"
     ]
    },
    {
     "data": {
      "text/html": [
       "<table>\n",
       "    <tr>\n",
       "        <th>name</th>\n",
       "    </tr>\n",
       "    <tr>\n",
       "        <td>name</td>\n",
       "    </tr>\n",
       "    <tr>\n",
       "        <td>info</td>\n",
       "    </tr>\n",
       "</table>"
      ],
      "text/plain": [
       "[('name',), ('info',)]"
      ]
     },
     "execution_count": 56,
     "metadata": {},
     "output_type": "execute_result"
    }
   ],
   "source": [
    "%%sql\n",
    "SELECT name FROM sqlite_master WHERE type = \"table\""
   ]
  },
  {
   "cell_type": "code",
   "execution_count": 442,
   "metadata": {
    "collapsed": false
   },
   "outputs": [
    {
     "name": "stdout",
     "output_type": "stream",
     "text": [
      "(sqlite3.OperationalError) near \".\": syntax error [SQL: '.schema(name)']\n"
     ]
    }
   ],
   "source": [
    "%%sql\n",
    "\n",
    ".schema(name)"
   ]
  },
  {
   "cell_type": "code",
   "execution_count": 68,
   "metadata": {
    "collapsed": false
   },
   "outputs": [
    {
     "name": "stdout",
     "output_type": "stream",
     "text": [
      "Done.\n"
     ]
    },
    {
     "data": {
      "text/html": [
       "<table>\n",
       "    <tr>\n",
       "        <th>PassengerId</th>\n",
       "        <th>Name</th>\n",
       "    </tr>\n",
       "    <tr>\n",
       "        <td>1</td>\n",
       "        <td>Braund, Mr. Owen Harris</td>\n",
       "    </tr>\n",
       "    <tr>\n",
       "        <td>2</td>\n",
       "        <td>Cumings, Mrs. John Bradley (Florence Briggs Thayer)</td>\n",
       "    </tr>\n",
       "    <tr>\n",
       "        <td>3</td>\n",
       "        <td>Heikkinen, Miss. Laina</td>\n",
       "    </tr>\n",
       "</table>"
      ],
      "text/plain": [
       "[(1, 'Braund, Mr. Owen Harris'),\n",
       " (2, 'Cumings, Mrs. John Bradley (Florence Briggs Thayer)'),\n",
       " (3, 'Heikkinen, Miss. Laina')]"
      ]
     },
     "execution_count": 68,
     "metadata": {},
     "output_type": "execute_result"
    }
   ],
   "source": [
    "%%sql\n",
    "SELECT *\n",
    "FROM name\n",
    "LIMIT 3;\n",
    "\n"
   ]
  },
  {
   "cell_type": "markdown",
   "metadata": {},
   "source": [
    "The primary key for table name is PassengerId.\n"
   ]
  },
  {
   "cell_type": "code",
   "execution_count": 69,
   "metadata": {
    "collapsed": false
   },
   "outputs": [
    {
     "name": "stdout",
     "output_type": "stream",
     "text": [
      "Done.\n"
     ]
    },
    {
     "data": {
      "text/html": [
       "<table>\n",
       "    <tr>\n",
       "        <th>PassengerId</th>\n",
       "        <th>Survived</th>\n",
       "        <th>Pclass</th>\n",
       "        <th>Sex</th>\n",
       "        <th>Age</th>\n",
       "        <th>SibSp</th>\n",
       "        <th>Parch</th>\n",
       "        <th>Ticket</th>\n",
       "        <th>Fare</th>\n",
       "        <th>Cabin</th>\n",
       "        <th>Embarked</th>\n",
       "    </tr>\n",
       "    <tr>\n",
       "        <td>1</td>\n",
       "        <td>0</td>\n",
       "        <td>3</td>\n",
       "        <td>male</td>\n",
       "        <td>22.0</td>\n",
       "        <td>1</td>\n",
       "        <td>0</td>\n",
       "        <td>A/5 21171</td>\n",
       "        <td>7.25</td>\n",
       "        <td>None</td>\n",
       "        <td>S</td>\n",
       "    </tr>\n",
       "    <tr>\n",
       "        <td>2</td>\n",
       "        <td>1</td>\n",
       "        <td>1</td>\n",
       "        <td>female</td>\n",
       "        <td>38.0</td>\n",
       "        <td>1</td>\n",
       "        <td>0</td>\n",
       "        <td>PC 17599</td>\n",
       "        <td>71.2833</td>\n",
       "        <td>C85</td>\n",
       "        <td>C</td>\n",
       "    </tr>\n",
       "    <tr>\n",
       "        <td>3</td>\n",
       "        <td>1</td>\n",
       "        <td>3</td>\n",
       "        <td>female</td>\n",
       "        <td>26.0</td>\n",
       "        <td>0</td>\n",
       "        <td>0</td>\n",
       "        <td>STON/O2. 3101282</td>\n",
       "        <td>7.925</td>\n",
       "        <td>None</td>\n",
       "        <td>S</td>\n",
       "    </tr>\n",
       "</table>"
      ],
      "text/plain": [
       "[(1, 0, 3, 'male', 22.0, 1, 0, 'A/5 21171', 7.25, None, 'S'),\n",
       " (2, 1, 1, 'female', 38.0, 1, 0, 'PC 17599', 71.2833, 'C85', 'C'),\n",
       " (3, 1, 3, 'female', 26.0, 0, 0, 'STON/O2. 3101282', 7.925, None, 'S')]"
      ]
     },
     "execution_count": 69,
     "metadata": {},
     "output_type": "execute_result"
    }
   ],
   "source": [
    "%%sql\n",
    "SELECT *\n",
    "FROM info\n",
    "LIMIT 3;"
   ]
  },
  {
   "cell_type": "markdown",
   "metadata": {},
   "source": [
    "The primary key in table info is the PassengerId column."
   ]
  },
  {
   "cell_type": "markdown",
   "metadata": {},
   "source": [
    "# Question Two\n",
    "How many of the passengers are male/female."
   ]
  },
  {
   "cell_type": "code",
   "execution_count": 440,
   "metadata": {
    "collapsed": false
   },
   "outputs": [
    {
     "name": "stdout",
     "output_type": "stream",
     "text": [
      "Done.\n"
     ]
    },
    {
     "data": {
      "text/html": [
       "<table>\n",
       "    <tr>\n",
       "        <th>Sex</th>\n",
       "        <th>number_of_people</th>\n",
       "    </tr>\n",
       "    <tr>\n",
       "        <td>female</td>\n",
       "        <td>314</td>\n",
       "    </tr>\n",
       "    <tr>\n",
       "        <td>male</td>\n",
       "        <td>577</td>\n",
       "    </tr>\n",
       "</table>"
      ],
      "text/plain": [
       "[('female', 314), ('male', 577)]"
      ]
     },
     "execution_count": 440,
     "metadata": {},
     "output_type": "execute_result"
    }
   ],
   "source": [
    "%%sql\n",
    "SELECT Sex,\n",
    "COUNT(Sex)  as number_of_people\n",
    "FROM info\n",
    "GROUP BY sex;\n"
   ]
  },
  {
   "cell_type": "code",
   "execution_count": null,
   "metadata": {
    "collapsed": false
   },
   "outputs": [],
   "source": []
  },
  {
   "cell_type": "markdown",
   "metadata": {},
   "source": [
    "# Question Three\n",
    "The percentage of female onboard."
   ]
  },
  {
   "cell_type": "code",
   "execution_count": 130,
   "metadata": {
    "collapsed": false
   },
   "outputs": [
    {
     "name": "stdout",
     "output_type": "stream",
     "text": [
      "Done.\n"
     ]
    },
    {
     "data": {
      "text/html": [
       "<table>\n",
       "    <tr>\n",
       "        <th>Percent_Female</th>\n",
       "    </tr>\n",
       "    <tr>\n",
       "        <td>35.24130190796858</td>\n",
       "    </tr>\n",
       "</table>"
      ],
      "text/plain": [
       "[(35.24130190796858,)]"
      ]
     },
     "execution_count": 130,
     "metadata": {},
     "output_type": "execute_result"
    }
   ],
   "source": [
    "%%sql\n",
    "SELECT \n",
    "COUNT(Sex)* 100.00/ (SELECT COUNT(Sex) FROM info) as Percent_Female\n",
    "FROM info\n",
    "WHERE Sex='female'\n",
    ";\n",
    "\n"
   ]
  },
  {
   "cell_type": "markdown",
   "metadata": {},
   "source": [
    "# Question Four\n",
    "Express the ratio of male:female onboard.\n"
   ]
  },
  {
   "cell_type": "code",
   "execution_count": 154,
   "metadata": {
    "collapsed": false
   },
   "outputs": [
    {
     "name": "stdout",
     "output_type": "stream",
     "text": [
      "Done.\n"
     ]
    },
    {
     "data": {
      "text/html": [
       "<table>\n",
       "    <tr>\n",
       "        <th>Male_to_Female_ratio</th>\n",
       "    </tr>\n",
       "    <tr>\n",
       "        <td>1.8375796178343948</td>\n",
       "    </tr>\n",
       "</table>"
      ],
      "text/plain": [
       "[(1.8375796178343948,)]"
      ]
     },
     "execution_count": 154,
     "metadata": {},
     "output_type": "execute_result"
    }
   ],
   "source": [
    "%%sql\n",
    "SELECT \n",
    "COUNT(Sex)* 1.00/ (SELECT COUNT(Sex) FROM info WHERE Sex='female') as Male_to_Female_ratio\n",
    "FROM info\n",
    "WHERE Sex='male'\n",
    ";"
   ]
  },
  {
   "cell_type": "markdown",
   "metadata": {},
   "source": [
    "# Question Five\n",
    "Mean age of passengers"
   ]
  },
  {
   "cell_type": "code",
   "execution_count": 135,
   "metadata": {
    "collapsed": false
   },
   "outputs": [
    {
     "name": "stdout",
     "output_type": "stream",
     "text": [
      "Done.\n"
     ]
    },
    {
     "data": {
      "text/html": [
       "<table>\n",
       "    <tr>\n",
       "        <th>AVG(Age)</th>\n",
       "    </tr>\n",
       "    <tr>\n",
       "        <td>29.69911764705882</td>\n",
       "    </tr>\n",
       "</table>"
      ],
      "text/plain": [
       "[(29.69911764705882,)]"
      ]
     },
     "execution_count": 135,
     "metadata": {},
     "output_type": "execute_result"
    }
   ],
   "source": [
    "%%sql\n",
    "SELECT\n",
    "AVG(Age)\n",
    "FROM info;"
   ]
  },
  {
   "cell_type": "markdown",
   "metadata": {},
   "source": [
    "# Question Six\n",
    "Max age of passengers\n"
   ]
  },
  {
   "cell_type": "code",
   "execution_count": 138,
   "metadata": {
    "collapsed": false
   },
   "outputs": [
    {
     "name": "stdout",
     "output_type": "stream",
     "text": [
      "Done.\n"
     ]
    },
    {
     "data": {
      "text/html": [
       "<table>\n",
       "    <tr>\n",
       "        <th>MAX(Age)</th>\n",
       "    </tr>\n",
       "    <tr>\n",
       "        <td>80.0</td>\n",
       "    </tr>\n",
       "</table>"
      ],
      "text/plain": [
       "[(80.0,)]"
      ]
     },
     "execution_count": 138,
     "metadata": {},
     "output_type": "execute_result"
    }
   ],
   "source": [
    "%%sql\n",
    "SELECT\n",
    "MAX(Age)\n",
    "FROM info;"
   ]
  },
  {
   "cell_type": "markdown",
   "metadata": {},
   "source": [
    "# Question Seven\n",
    "Variance of age of passengers (SQLite does not have built-in, but most other SQL have) _HINT: Make a table of age,       average_age first_"
   ]
  },
  {
   "cell_type": "code",
   "execution_count": 323,
   "metadata": {
    "collapsed": false
   },
   "outputs": [
    {
     "name": "stdout",
     "output_type": "stream",
     "text": [
      "Done.\n",
      "Done.\n",
      "Done.\n"
     ]
    },
    {
     "data": {
      "text/html": [
       "<table>\n",
       "    <tr>\n",
       "        <th>age</th>\n",
       "        <th>avg_age</th>\n",
       "        <th>age_variance</th>\n",
       "    </tr>\n",
       "</table>"
      ],
      "text/plain": [
       "[]"
      ]
     },
     "execution_count": 323,
     "metadata": {},
     "output_type": "execute_result"
    }
   ],
   "source": [
    "%%sql\n",
    "DROP TABLE IF EXISTS age_avg_age ; ---- This will let us run this cell multiple times\n",
    "\n",
    "CREATE TABLE age_avg_age\n",
    "(\n",
    "    age INTEGER REFERENCES info(age), ----not sure if we need this\n",
    "    avg_age INTEGER,\n",
    "    age_variance INTEGER\n",
    "\n",
    ")\n",
    ";\n",
    "\n",
    "SELECT * FROM age_avg_age;"
   ]
  },
  {
   "cell_type": "code",
   "execution_count": 324,
   "metadata": {
    "collapsed": false
   },
   "outputs": [
    {
     "name": "stdout",
     "output_type": "stream",
     "text": [
      "891 rows affected.\n"
     ]
    },
    {
     "data": {
      "text/plain": [
       "[]"
      ]
     },
     "execution_count": 324,
     "metadata": {},
     "output_type": "execute_result"
    }
   ],
   "source": [
    "%%sql\n",
    "INSERT INTO age_avg_age\n",
    "(age)\n",
    "SELECT age FROM INFO;\n",
    "\n"
   ]
  },
  {
   "cell_type": "code",
   "execution_count": 325,
   "metadata": {
    "collapsed": true
   },
   "outputs": [],
   "source": [
    "### next answer used this http://geekswithblogs.net/whiletrue/archive/2009/08/04/using-select-statement-to-update-records-in-sql.aspx"
   ]
  },
  {
   "cell_type": "code",
   "execution_count": 326,
   "metadata": {
    "collapsed": false
   },
   "outputs": [
    {
     "name": "stdout",
     "output_type": "stream",
     "text": [
      "891 rows affected.\n"
     ]
    },
    {
     "data": {
      "text/plain": [
       "[]"
      ]
     },
     "execution_count": 326,
     "metadata": {},
     "output_type": "execute_result"
    }
   ],
   "source": [
    "%%sql  \n",
    "UPDATE age_avg_age\n",
    "SET avg_age= (\n",
    "SELECT AVG(age) -- set the average for every row to the avg(age)\n",
    "FROM info );"
   ]
  },
  {
   "cell_type": "code",
   "execution_count": 327,
   "metadata": {
    "collapsed": false
   },
   "outputs": [
    {
     "name": "stdout",
     "output_type": "stream",
     "text": [
      "Done.\n"
     ]
    },
    {
     "data": {
      "text/html": [
       "<table>\n",
       "    <tr>\n",
       "        <th>age</th>\n",
       "        <th>avg_age</th>\n",
       "        <th>age_variance</th>\n",
       "    </tr>\n",
       "    <tr>\n",
       "        <td>22</td>\n",
       "        <td>29.69911764705882</td>\n",
       "        <td>None</td>\n",
       "    </tr>\n",
       "    <tr>\n",
       "        <td>38</td>\n",
       "        <td>29.69911764705882</td>\n",
       "        <td>None</td>\n",
       "    </tr>\n",
       "    <tr>\n",
       "        <td>26</td>\n",
       "        <td>29.69911764705882</td>\n",
       "        <td>None</td>\n",
       "    </tr>\n",
       "    <tr>\n",
       "        <td>35</td>\n",
       "        <td>29.69911764705882</td>\n",
       "        <td>None</td>\n",
       "    </tr>\n",
       "    <tr>\n",
       "        <td>35</td>\n",
       "        <td>29.69911764705882</td>\n",
       "        <td>None</td>\n",
       "    </tr>\n",
       "</table>"
      ],
      "text/plain": [
       "[(22, 29.69911764705882, None),\n",
       " (38, 29.69911764705882, None),\n",
       " (26, 29.69911764705882, None),\n",
       " (35, 29.69911764705882, None),\n",
       " (35, 29.69911764705882, None)]"
      ]
     },
     "execution_count": 327,
     "metadata": {},
     "output_type": "execute_result"
    }
   ],
   "source": [
    "%%sql\n",
    "select * from age_avg_age LIMIT 5;"
   ]
  },
  {
   "cell_type": "code",
   "execution_count": 328,
   "metadata": {
    "collapsed": false
   },
   "outputs": [
    {
     "name": "stdout",
     "output_type": "stream",
     "text": [
      "891 rows affected.\n"
     ]
    },
    {
     "data": {
      "text/plain": [
       "[]"
      ]
     },
     "execution_count": 328,
     "metadata": {},
     "output_type": "execute_result"
    }
   ],
   "source": [
    "%%sql\n",
    "UPDATE age_avg_age\n",
    "SET  age_variance =\n",
    "\n",
    "( SELECT ((SUM((age-avg_age)*(age-avg_age)))/(COUNT(age))) FROM age_avg_age) ; --- use N for variance, N > 30\n",
    "\n"
   ]
  },
  {
   "cell_type": "code",
   "execution_count": 329,
   "metadata": {
    "collapsed": false
   },
   "outputs": [
    {
     "name": "stdout",
     "output_type": "stream",
     "text": [
      "Done.\n"
     ]
    },
    {
     "data": {
      "text/html": [
       "<table>\n",
       "    <tr>\n",
       "        <th>age</th>\n",
       "        <th>avg_age</th>\n",
       "        <th>age_variance</th>\n",
       "    </tr>\n",
       "    <tr>\n",
       "        <td>22</td>\n",
       "        <td>29.69911764705882</td>\n",
       "        <td>210.7235797536662</td>\n",
       "    </tr>\n",
       "</table>"
      ],
      "text/plain": [
       "[(22, 29.69911764705882, 210.7235797536662)]"
      ]
     },
     "execution_count": 329,
     "metadata": {},
     "output_type": "execute_result"
    }
   ],
   "source": [
    "%%sql\n",
    "select * from age_avg_age LIMIT 1;"
   ]
  },
  {
   "cell_type": "markdown",
   "metadata": {},
   "source": [
    "# Question Eight\n",
    "\n",
    "Number of passenger in each Pclass"
   ]
  },
  {
   "cell_type": "code",
   "execution_count": 336,
   "metadata": {
    "collapsed": false
   },
   "outputs": [
    {
     "name": "stdout",
     "output_type": "stream",
     "text": [
      "Done.\n"
     ]
    },
    {
     "data": {
      "text/html": [
       "<table>\n",
       "    <tr>\n",
       "        <th>Pclass</th>\n",
       "        <th>COUNT(pClass)</th>\n",
       "    </tr>\n",
       "    <tr>\n",
       "        <td>1</td>\n",
       "        <td>216</td>\n",
       "    </tr>\n",
       "    <tr>\n",
       "        <td>2</td>\n",
       "        <td>184</td>\n",
       "    </tr>\n",
       "    <tr>\n",
       "        <td>3</td>\n",
       "        <td>491</td>\n",
       "    </tr>\n",
       "</table>"
      ],
      "text/plain": [
       "[(1, 216), (2, 184), (3, 491)]"
      ]
     },
     "execution_count": 336,
     "metadata": {},
     "output_type": "execute_result"
    }
   ],
   "source": [
    "%%sql\n",
    "SELECT \n",
    "pClass, COUNT(pClass)\n",
    "FROM info\n",
    "GROUP BY pClass\n",
    ";"
   ]
  },
  {
   "cell_type": "code",
   "execution_count": 321,
   "metadata": {
    "collapsed": false
   },
   "outputs": [
    {
     "name": "stdout",
     "output_type": "stream",
     "text": [
      "Done.\n"
     ]
    },
    {
     "data": {
      "text/html": [
       "<table>\n",
       "    <tr>\n",
       "        <th>pCLass_2</th>\n",
       "    </tr>\n",
       "    <tr>\n",
       "        <td>184</td>\n",
       "    </tr>\n",
       "</table>"
      ],
      "text/plain": [
       "[(184,)]"
      ]
     },
     "execution_count": 321,
     "metadata": {},
     "output_type": "execute_result"
    }
   ],
   "source": []
  },
  {
   "cell_type": "code",
   "execution_count": 322,
   "metadata": {
    "collapsed": false
   },
   "outputs": [
    {
     "name": "stdout",
     "output_type": "stream",
     "text": [
      "Done.\n"
     ]
    },
    {
     "data": {
      "text/html": [
       "<table>\n",
       "    <tr>\n",
       "        <th>pCLass_3</th>\n",
       "    </tr>\n",
       "    <tr>\n",
       "        <td>491</td>\n",
       "    </tr>\n",
       "</table>"
      ],
      "text/plain": [
       "[(491,)]"
      ]
     },
     "execution_count": 322,
     "metadata": {},
     "output_type": "execute_result"
    }
   ],
   "source": []
  },
  {
   "cell_type": "markdown",
   "metadata": {},
   "source": [
    "# Question Nine\n",
    "Mean Fare for each Pclass"
   ]
  },
  {
   "cell_type": "code",
   "execution_count": 331,
   "metadata": {
    "collapsed": false
   },
   "outputs": [
    {
     "name": "stdout",
     "output_type": "stream",
     "text": [
      "Done.\n"
     ]
    },
    {
     "data": {
      "text/html": [
       "<table>\n",
       "    <tr>\n",
       "        <th>AVG(Fare)</th>\n",
       "        <th>Pclass</th>\n",
       "    </tr>\n",
       "    <tr>\n",
       "        <td>84.15468749999992</td>\n",
       "        <td>1</td>\n",
       "    </tr>\n",
       "    <tr>\n",
       "        <td>20.66218315217391</td>\n",
       "        <td>2</td>\n",
       "    </tr>\n",
       "    <tr>\n",
       "        <td>13.675550101832997</td>\n",
       "        <td>3</td>\n",
       "    </tr>\n",
       "</table>"
      ],
      "text/plain": [
       "[(84.15468749999992, 1), (20.66218315217391, 2), (13.675550101832997, 3)]"
      ]
     },
     "execution_count": 331,
     "metadata": {},
     "output_type": "execute_result"
    }
   ],
   "source": [
    "%%sql\n",
    "SELECT\n",
    "AVG(Fare), pCLass\n",
    "From INFO\n",
    "GROUP BY pClass;"
   ]
  },
  {
   "cell_type": "markdown",
   "metadata": {},
   "source": [
    "# Question Ten\n",
    "The number of passengers that do not have a name in the info table HINT: Do a LEFT JOIN and INNER JOIN between info and name and compare the count"
   ]
  },
  {
   "cell_type": "code",
   "execution_count": 341,
   "metadata": {
    "collapsed": false
   },
   "outputs": [
    {
     "name": "stdout",
     "output_type": "stream",
     "text": [
      "Done.\n"
     ]
    },
    {
     "data": {
      "text/html": [
       "<table>\n",
       "    <tr>\n",
       "        <th>PassengerId</th>\n",
       "        <th>Name</th>\n",
       "    </tr>\n",
       "    <tr>\n",
       "        <td>1</td>\n",
       "        <td>Braund, Mr. Owen Harris</td>\n",
       "    </tr>\n",
       "    <tr>\n",
       "        <td>2</td>\n",
       "        <td>Cumings, Mrs. John Bradley (Florence Briggs Thayer)</td>\n",
       "    </tr>\n",
       "</table>"
      ],
      "text/plain": [
       "[(1, 'Braund, Mr. Owen Harris'),\n",
       " (2, 'Cumings, Mrs. John Bradley (Florence Briggs Thayer)')]"
      ]
     },
     "execution_count": 341,
     "metadata": {},
     "output_type": "execute_result"
    }
   ],
   "source": [
    "%%sql\n",
    "SELECT * \n",
    "FROM name \n",
    "LIMIT 2;"
   ]
  },
  {
   "cell_type": "code",
   "execution_count": 372,
   "metadata": {
    "collapsed": false
   },
   "outputs": [
    {
     "ename": "SyntaxError",
     "evalue": "invalid syntax (<ipython-input-372-5d2aa8446e8a>, line 1)",
     "output_type": "error",
     "traceback": [
      "\u001b[0;36m  File \u001b[0;32m\"<ipython-input-372-5d2aa8446e8a>\"\u001b[0;36m, line \u001b[0;32m1\u001b[0m\n\u001b[0;31m    --http://stackoverflow.com/questions/14189216/case-in-select-statement\u001b[0m\n\u001b[0m          ^\u001b[0m\n\u001b[0;31mSyntaxError\u001b[0m\u001b[0;31m:\u001b[0m invalid syntax\n"
     ]
    }
   ],
   "source": [
    "##http://stackoverflow.com/questions/14189216/case-in-select-statement   FOr this question"
   ]
  },
  {
   "cell_type": "code",
   "execution_count": 381,
   "metadata": {
    "collapsed": false
   },
   "outputs": [
    {
     "name": "stdout",
     "output_type": "stream",
     "text": [
      "Done.\n"
     ]
    },
    {
     "data": {
      "text/html": [
       "<table>\n",
       "    <tr>\n",
       "        <th>Number_of_people_without_names</th>\n",
       "    </tr>\n",
       "    <tr>\n",
       "        <td>20</td>\n",
       "    </tr>\n",
       "</table>"
      ],
      "text/plain": [
       "[(20,)]"
      ]
     },
     "execution_count": 381,
     "metadata": {},
     "output_type": "execute_result"
    }
   ],
   "source": [
    "%%sql\n",
    "\n",
    "SELECT COUNT(info.PassengerId) -\n",
    "\n",
    "(\n",
    "SELECT COUNT(Name) \n",
    "FROM info\n",
    "INNER JOIN name\n",
    "ON   info.PassengerID = name.PassengerID\n",
    "WHERE name IS NOT NULL \n",
    ")\n",
    "AS Number_of_people_without_names\n",
    "FROM info\n",
    "LEFT JOIN name\n",
    "ON info.PassengerID = name.PassengerID;"
   ]
  },
  {
   "cell_type": "code",
   "execution_count": null,
   "metadata": {
    "collapsed": false
   },
   "outputs": [],
   "source": []
  },
  {
   "cell_type": "markdown",
   "metadata": {},
   "source": [
    "# If we assume that every PassengerId is unique (which is should be as a primary key), then that means that there are 20 records (891-871) that do not have a name but have a PassengerIf (from the info table).\n"
   ]
  },
  {
   "cell_type": "markdown",
   "metadata": {},
   "source": [
    "# Question Eleven\n",
    "Repeat Ex10. using one LEFT JOIN and the IS NULL function"
   ]
  },
  {
   "cell_type": "code",
   "execution_count": 401,
   "metadata": {
    "collapsed": false
   },
   "outputs": [
    {
     "name": "stdout",
     "output_type": "stream",
     "text": [
      "Done.\n"
     ]
    },
    {
     "data": {
      "text/html": [
       "<table>\n",
       "    <tr>\n",
       "        <th>Number_of_people_without_names</th>\n",
       "    </tr>\n",
       "    <tr>\n",
       "        <td>20</td>\n",
       "    </tr>\n",
       "</table>"
      ],
      "text/plain": [
       "[(20,)]"
      ]
     },
     "execution_count": 401,
     "metadata": {},
     "output_type": "execute_result"
    }
   ],
   "source": [
    "%%sql\n",
    "SELECT COUNT(info.passengerId) as Number_of_people_without_names -- info table has 891 recrods  name has 871\n",
    "FROM info\n",
    "LEFT JOIN name\n",
    "ON info.PassengerID = name.PassengerID\n",
    "WHERE name IS NULL;"
   ]
  },
  {
   "cell_type": "markdown",
   "metadata": {},
   "source": [
    "# Question Twelve\n",
    "Find the number of people with Mr. in their name"
   ]
  },
  {
   "cell_type": "code",
   "execution_count": 404,
   "metadata": {
    "collapsed": false
   },
   "outputs": [
    {
     "name": "stdout",
     "output_type": "stream",
     "text": [
      "Done.\n"
     ]
    },
    {
     "data": {
      "text/html": [
       "<table>\n",
       "    <tr>\n",
       "        <th>Number_of_people_with_mr</th>\n",
       "    </tr>\n",
       "    <tr>\n",
       "        <td>500</td>\n",
       "    </tr>\n",
       "</table>"
      ],
      "text/plain": [
       "[(500,)]"
      ]
     },
     "execution_count": 404,
     "metadata": {},
     "output_type": "execute_result"
    }
   ],
   "source": [
    "%%sql\n",
    "SELECT COUNT(name) as Number_of_people_with_mr\n",
    "FROM name\n",
    "WHERE name LIKE '%Mr.%';"
   ]
  },
  {
   "cell_type": "markdown",
   "metadata": {},
   "source": [
    "# Question Thirteen\n",
    "Compute the survival rate for male and female."
   ]
  },
  {
   "cell_type": "code",
   "execution_count": 438,
   "metadata": {
    "collapsed": false
   },
   "outputs": [],
   "source": [
    "##http://stackoverflow.com/questions/27253333/how-to-calculate-ratio-using-sql-query  This question used this answer"
   ]
  },
  {
   "cell_type": "code",
   "execution_count": 437,
   "metadata": {
    "collapsed": false
   },
   "outputs": [
    {
     "name": "stdout",
     "output_type": "stream",
     "text": [
      "Done.\n"
     ]
    },
    {
     "data": {
      "text/html": [
       "<table>\n",
       "    <tr>\n",
       "        <th>male_survival_ratio</th>\n",
       "        <th>female_survival_ratio</th>\n",
       "    </tr>\n",
       "    <tr>\n",
       "        <td>12.23</td>\n",
       "        <td>26.15</td>\n",
       "    </tr>\n",
       "</table>"
      ],
      "text/plain": [
       "[(12.23, 26.15)]"
      ]
     },
     "execution_count": 437,
     "metadata": {},
     "output_type": "execute_result"
    }
   ],
   "source": [
    "%%sql  -- This is the answer if the survival rates are relative to the entire population that either survived or perished, not to the individual gender\n",
    "SELECT ROUND(SUM(CASE WHEN Sex = 'male' AND survived = 1 THEN 1 else 0 end)*100.00/COUNT(Sex),2) as male_survival_ratio,\n",
    "       ROUND(SUM(CASE WHEN Sex = 'female' AND survived=1 THEN 1 else 0 end)*100.00/COUNT(Sex),2) as female_survival_ratio\n",
    "FROM info;"
   ]
  },
  {
   "cell_type": "code",
   "execution_count": null,
   "metadata": {
    "collapsed": true
   },
   "outputs": [],
   "source": []
  }
 ],
 "metadata": {
  "anaconda-cloud": {},
  "kernelspec": {
   "display_name": "Python [Root]",
   "language": "python",
   "name": "Python [Root]"
  },
  "language_info": {
   "codemirror_mode": {
    "name": "ipython",
    "version": 3
   },
   "file_extension": ".py",
   "mimetype": "text/x-python",
   "name": "python",
   "nbconvert_exporter": "python",
   "pygments_lexer": "ipython3",
   "version": "3.5.2"
  }
 },
 "nbformat": 4,
 "nbformat_minor": 0
}
