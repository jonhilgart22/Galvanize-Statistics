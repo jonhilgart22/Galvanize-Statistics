{
 "cells": [
  {
   "cell_type": "markdown",
   "metadata": {
    "slideshow": {
     "slide_type": "slide"
    }
   },
   "source": [
    "# Lecture 1.1: Introduction"
   ]
  },
  {
   "cell_type": "markdown",
   "metadata": {
    "nbpresent": {
     "id": "995fa445-1d0d-4a64-802b-13a7233bf2d6"
    },
    "slideshow": {
     "slide_type": "slide"
    }
   },
   "source": [
    "## Outline\n",
    "\n",
    "* Introduction\n",
    "* Syllabus\n",
    "* Interview Question of the Day\n",
    "* What is Data Science?\n",
    "* Data Science Process\n",
    "* Who is a Data Scientist?\n",
    "* Why Study Statistics?"
   ]
  },
  {
   "cell_type": "markdown",
   "metadata": {
    "slideshow": {
     "slide_type": "slide"
    }
   },
   "source": [
    "### Who am I?\n",
    "<br>\n",
    "#### Alessandro Gagliardi \n",
    "\n",
    "- 1997 - 2001 - Studied Computer Science at UC Santa Cruz  \n",
    "- 2001 - 2005 - Worked as a web-developer in NYC\n",
    "- 2005 - 2010 - Studied Integrative Neural Science at Rutgers\n",
    "- 2010 - 2011 - Taught Psychology and Neuroscience at USF\n",
    "- 2011 - 2013 - Analytics Engineer at Path\n",
    "- 2013 - 2015 - Senior Data Scientist at Glassdoor\n",
    "- 2014 - 2015 - Data Science Instructor at General Assembly\n",
    "- 2015 - present - Lead Professor at GalvanizeU"
   ]
  },
  {
   "cell_type": "markdown",
   "metadata": {
    "slideshow": {
     "slide_type": "slide"
    }
   },
   "source": [
    "### Who is our Data Scientist in Residence?  \n",
    "<br>\n",
    "#### Stephanie Tong\n",
    "\n",
    "- 2008 - 2014 - Studied Civil Engineering at University of Illinois\n",
    "- 2009 - 2014 - Research Assistant in Structural Engineering at University of Illinois at Urbana-Champaign\n",
    "- 2014 - 2016 - Structural Design Engineer at Magnusson Klemencic Associates\n",
    "- 2016 - present - Data Science Fellow at Galvanize"
   ]
  },
  {
   "cell_type": "markdown",
   "metadata": {
    "slideshow": {
     "slide_type": "slide"
    }
   },
   "source": [
    "### Who are you?\n",
    "\n",
    "- What should we call you?\n",
    "- How did you spend your time before you came here?\n",
    "- Besides this one, which course are you most looking forward to taking?\n",
    "- Tell us something about yourself that no one in this room knows already."
   ]
  },
  {
   "cell_type": "markdown",
   "metadata": {
    "nbpresent": {
     "id": "85f88828-b309-40e4-a85c-f3c87d1562f5"
    },
    "slideshow": {
     "slide_type": "slide"
    }
   },
   "source": [
    "## [Syllabus](../../README.md)"
   ]
  },
  {
   "cell_type": "markdown",
   "metadata": {
    "slideshow": {
     "slide_type": "slide"
    }
   },
   "source": [
    "### On Your Own\n",
    "\n",
    "> Why do you want to be a data scientist?\n",
    "\n",
    "Imagine that you are in job interview and you are asked that question. Spend a couple minutes to formulate an answer.\n",
    "\n",
    "### In Small Groups\n",
    "\n",
    "Take turns answering the question.  \n",
    "\n",
    "Listeners: feel free to ask follow-up questions,  \n",
    "but don't take more than 2 minutes per person."
   ]
  },
  {
   "cell_type": "markdown",
   "metadata": {
    "nbpresent": {
     "id": "7191731a-1d37-4d35-ae37-0bb77190b4c5"
    },
    "slideshow": {
     "slide_type": "slide"
    }
   },
   "source": [
    "## What is Data Science?\n",
    "\n",
    "> ** Data Science ** is the extraction of knowledge from large volumes of data that are structured or unstructured, ... ([Wikipedia](https://en.wikipedia.org/wiki/Data_science))\n",
    "\n",
    "** Data Science = Data + Science **"
   ]
  },
  {
   "cell_type": "markdown",
   "metadata": {
    "slideshow": {
     "slide_type": "slide"
    }
   },
   "source": [
    "** Data ** can be:"
   ]
  },
  {
   "cell_type": "markdown",
   "metadata": {
    "slideshow": {
     "slide_type": "fragment"
    }
   },
   "source": [
    "* Unstructured (e.g. Email, Photos, Books, etc.)\n",
    "    - Most data in the world is unstructured. That is, it does not conform to any predetermined computer-readable form."
   ]
  },
  {
   "cell_type": "markdown",
   "metadata": {
    "slideshow": {
     "slide_type": "subslide"
    }
   },
   "source": [
    "* Semi-Structured (e.g. XML, JSON, NoSQL, APIs, etc.)\n",
    "    - Semi-structured data is a relatively new thing and has a lot to do with the web. Semi-structured data is machine readable but does not conform to a rigid structure."
   ]
  },
  {
   "cell_type": "markdown",
   "metadata": {
    "nbpresent": {
     "id": "64a3b6d0-393e-4ec2-8878-2a4a45e1e0c4"
    },
    "slideshow": {
     "slide_type": "subslide"
    }
   },
   "source": [
    "* Structured (e.g. SQL, Data Frames, etc.)\n",
    "    - Ultimately, Data Scientists need our data to be structured before we can do anything with it. Relational databases are structured."
   ]
  },
  {
   "cell_type": "markdown",
   "metadata": {
    "slideshow": {
     "slide_type": "slide"
    }
   },
   "source": [
    "** Science ** can be:\n",
    "\n",
    "* Explorations / Explanations\n",
    "\n",
    "* Inferences / Predictions"
   ]
  },
  {
   "cell_type": "markdown",
   "metadata": {
    "slideshow": {
     "slide_type": "slide"
    }
   },
   "source": [
    "### Data Science Workflow\n",
    "\n",
    "From [a Taxonomy of Data Science](http://www.dataists.com/2010/09/a-taxonomy-of-data-science/) (by Dataists)\n",
    "\n",
    "1. Obtain\n",
    "\n",
    "2. Scrub\n",
    "\n",
    "3. Explore\n",
    "\n",
    "4. Model\n",
    "\n",
    "5. Interpret"
   ]
  },
  {
   "cell_type": "markdown",
   "metadata": {
    "slideshow": {
     "slide_type": "subslide"
    }
   },
   "source": [
    "### Workflow Example:\n",
    "#### Problem: what are the leading indicators that a user will make a new purchase?\n",
    "\n",
    "1. Collect data around user retention, user actions within the product, potentially find data outside of company\n",
    "\n",
    "2. Extract aggregated values from raw data  \n",
    "\n",
    "    1. How many times did a user share through Facebook within a week? A month?\n",
    "    2. How often did they open up our emails?\n",
    "\n",
    "3. Examine data to find common distributions and correlations\n",
    "\n",
    "4. Extract new meaning to predict if user would purchase again\n",
    "\n",
    "5. Share results (and probably also go back to the drawing board)"
   ]
  },
  {
   "cell_type": "markdown",
   "metadata": {
    "slideshow": {
     "slide_type": "slide"
    }
   },
   "source": [
    "### Data Science = Computer Science + Statistics\n",
    "<br>\n",
    "#### Computer Science\n",
    "1. Artificial Intelligence (Alan Turing)\n",
    "2. Relational Calculus / First-Order Logic (Edgar F. Codd)\n",
    "<br>  <br>  \n",
    "\n",
    "#### Statistics\n",
    "1. Probability and Significance (Ronald Fisher)\n",
    "2. Statistical Learning Theory (Vladimir N. Vapnik)"
   ]
  },
  {
   "cell_type": "markdown",
   "metadata": {
    "slideshow": {
     "slide_type": "subslide"
    }
   },
   "source": [
    "### Other Fields Contributing to Data Science\n",
    "<br>\n",
    "#### Psychology\n",
    "1. Signal Detection Theory\n",
    "2. Connectionism & Parallel Distributed Processing\n",
    "<br>  <br>  \n",
    "\n",
    "#### Complex Systems\n",
    "1. Artificial Life\n",
    "2. Graph Theory"
   ]
  },
  {
   "cell_type": "markdown",
   "metadata": {
    "slideshow": {
     "slide_type": "subslide"
    }
   },
   "source": [
    "### What else?"
   ]
  },
  {
   "cell_type": "markdown",
   "metadata": {
    "slideshow": {
     "slide_type": "fragment"
    }
   },
   "source": [
    "* Physics\n",
    "* Economics\n",
    "* Linguistics\n",
    "* Bioinformatics"
   ]
  },
  {
   "cell_type": "markdown",
   "metadata": {
    "nbpresent": {
     "id": "b88bc15f-e8da-4eff-8a93-72747e6b9d58"
    },
    "slideshow": {
     "slide_type": "slide"
    }
   },
   "source": [
    "<img src=\"images/growth_tools.png\" width=\"900\">"
   ]
  },
  {
   "cell_type": "markdown",
   "metadata": {
    "nbpresent": {
     "id": "dab4b347-adff-4323-ba15-de976ddbec87"
    },
    "slideshow": {
     "slide_type": "slide"
    }
   },
   "source": [
    "## Data Science Process\n",
    "\n",
    "<img src=\"images/data_science_process.png\" width=\"700\">\n",
    "<!--\n",
    "\"<a href=\"https://commons.wikimedia.org/wiki/File:Data_visualization_process_v1.png#/media/File:Data_visualization_process_v1.png\">Data science process</a>\" by <a href=\"//en.wikipedia.org/wiki/User:Farcaster\" class=\"extiw\" title=\"wikipedia:User:Farcaster\">Farcaster</a> at <a href=\"//en.wikipedia.org/wiki/\" class=\"extiw\" title=\"wikipedia:\">English Wikipedia</a>. Licensed under <a href=\"http://creativecommons.org/licenses/by-sa/3.0\" title=\"Creative Commons Attribution-Share Alike 3.0\">CC BY-SA 3.0</a> via <a href=\"https://commons.wikimedia.org/wiki/\">Commons</a>.\n",
    "-->"
   ]
  },
  {
   "cell_type": "markdown",
   "metadata": {
    "nbpresent": {
     "id": "90ab8e9d-1257-468c-abc8-24c6e7bda53d"
    },
    "slideshow": {
     "slide_type": "slide"
    }
   },
   "source": [
    "## Who is a Data Scientist?\n",
    "\n",
    "* “By definition every scientist is a Data Scientist” \n",
    "* What makes a good Data Scientist: \n",
    "\n",
    "    ** Data Scientist = Programing Skills + Statistics **\n",
    "    \n",
    "    \n",
    "* What makes a good Data Scientist great:\n",
    "    * **Creativity** – open your mind!\n",
    "    * **Intuition** (theory, research, everyday experiences)\n",
    "    * **Empathy** for the organization (by the time..)\n",
    "    * **Excitement** \n",
    "\n"
   ]
  },
  {
   "cell_type": "markdown",
   "metadata": {
    "nbpresent": {
     "id": "81632790-077b-49d2-92c5-9c8bd383bf1f"
    },
    "slideshow": {
     "slide_type": "slide"
    }
   },
   "source": [
    "## Why Study Statistics?\n",
    "\n",
    "* Statistics – is an crucial part of Data Science, by definition\n",
    "    * \"Statistics is the study of the collection, organization, analysis, interpretation, and presentation of data.\" ([Wikipedia](https://en.wikipedia.org/wiki/Statistics))"
   ]
  },
  {
   "cell_type": "markdown",
   "metadata": {
    "nbpresent": {
     "id": "177bdae6-f2ee-4391-97fb-6e0b6b6ac9d5"
    },
    "slideshow": {
     "slide_type": "slide"
    }
   },
   "source": [
    "### Example: 41 Shades of Blue\n",
    "\n",
    "* Google tested 41 shades of blue to maximize clicks on a toolbar\n",
    "* How? A/B testing\n",
    "* Result? An extra $200m a year in revenue!\n",
    "\n",
    "<img src=\"images/google_blue.png\" width=\"500\">\n"
   ]
  },
  {
   "cell_type": "markdown",
   "metadata": {
    "nbpresent": {
     "id": "bd89348e-8f2f-46fa-a160-e40f4099a899"
    },
    "slideshow": {
     "slide_type": "slide"
    }
   },
   "source": [
    "### Example: Does Education Affect Wage?\n",
    "\n",
    "Say we want to model this relationship as a straight line,\n",
    "\n",
    "$$ Wage = \\beta_0 + \\beta_1 \\times Education + random \\ noise $$\n",
    "\n",
    "\n",
    "<img src=\"images/wage_educ.png\" width=\"600\">"
   ]
  },
  {
   "cell_type": "markdown",
   "metadata": {
    "nbpresent": {
     "id": "4a15219a-c873-45f2-a436-b7619ea1fb83"
    },
    "slideshow": {
     "slide_type": "slide"
    }
   },
   "source": [
    "### Why we need Statistics?\n",
    "* We cannot sample the whole population\n",
    "    * And if we could – it would be very expensive\n",
    "* Statistics is fundamental to the core of machine learning\n",
    "    * We need to know the distributions to build models\n",
    "    * We use Statistics to make predictions\n",
    "* A/B testing, used by companies like Google, Microsoft and Amazon, is simply a form of staitistical hypothesis testing"
   ]
  },
  {
   "cell_type": "markdown",
   "metadata": {
    "nbpresent": {
     "id": "038825aa-670b-4188-b4a2-3c4c25675f57"
    },
    "slideshow": {
     "slide_type": "slide"
    }
   },
   "source": [
    "“Statistics are ubiquitous in life, and so should be statistical reasoning.”\n",
    "        -*Alan Blinder, former Federal Reserve vice chairman and Princeton academic*\n",
    "    \n",
    "\n",
    "\"I keep saying that the sexy job in the next 10 years will be statisticians. And I’m not kidding.”\n",
    "        –*Hal Varian, Chief Economist, Google*"
   ]
  }
 ],
 "metadata": {
  "anaconda-cloud": {},
  "celltoolbar": "Slideshow",
  "kernelspec": {
   "display_name": "Python [Root]",
   "language": "python",
   "name": "Python [Root]"
  },
  "language_info": {
   "codemirror_mode": {
    "name": "ipython",
    "version": 3
   },
   "file_extension": ".py",
   "mimetype": "text/x-python",
   "name": "python",
   "nbconvert_exporter": "python",
   "pygments_lexer": "ipython3",
   "version": "3.5.2"
  },
  "nbpresent": {
   "slides": {
    "0316cd9a-dd6d-4296-8dbd-c67aeef19a44": {
     "id": "0316cd9a-dd6d-4296-8dbd-c67aeef19a44",
     "prev": "60b49e3b-e2c1-450b-ab70-94ef73205892",
     "regions": {
      "bc3ded2e-7faf-4569-966c-3b8191938661": {
       "attrs": {
        "height": 0.8,
        "width": 0.8,
        "x": 0.1,
        "y": 0.1
       },
       "content": {
        "cell": "7191731a-1d37-4d35-ae37-0bb77190b4c5",
        "part": "whole"
       },
       "id": "bc3ded2e-7faf-4569-966c-3b8191938661"
      }
     }
    },
    "1844ba72-102c-4e56-8d4a-5bbe0e3d76b4": {
     "id": "1844ba72-102c-4e56-8d4a-5bbe0e3d76b4",
     "prev": "b7341c86-2867-4672-8275-cd057584053a",
     "regions": {
      "1dda8424-f8c0-437b-82c3-270d48e8573e": {
       "attrs": {
        "height": 0.8,
        "width": 0.8,
        "x": 0.1,
        "y": 0.1
       },
       "content": {
        "cell": "90ab8e9d-1257-468c-abc8-24c6e7bda53d",
        "part": "whole"
       },
       "id": "1dda8424-f8c0-437b-82c3-270d48e8573e"
      }
     }
    },
    "2ff5f0b6-6b44-449f-9686-5419b9200f72": {
     "id": "2ff5f0b6-6b44-449f-9686-5419b9200f72",
     "prev": "485c8cac-4b7c-4815-833e-2ca01f6de7d9",
     "regions": {
      "6b27bbf7-8984-4a55-aea8-590c3d88d2b7": {
       "attrs": {
        "height": 0.8,
        "width": 0.8,
        "x": 0.1,
        "y": 0.1
       },
       "content": {
        "cell": "1ba9d181-3ca2-45e6-8142-6e5907223048",
        "part": "whole"
       },
       "id": "6b27bbf7-8984-4a55-aea8-590c3d88d2b7"
      }
     }
    },
    "3c8b1b1c-2ddb-4735-b7ba-d8e0cae2fce7": {
     "id": "3c8b1b1c-2ddb-4735-b7ba-d8e0cae2fce7",
     "prev": "a4e508e9-1cc9-42e0-bc93-dba0250780c6",
     "regions": {
      "3e0d0062-185c-4f01-a8b1-5278cd7e5f17": {
       "attrs": {
        "height": 0.8,
        "width": 0.8,
        "x": 0.1,
        "y": 0.1
       },
       "content": {
        "cell": "4a15219a-c873-45f2-a436-b7619ea1fb83",
        "part": "whole"
       },
       "id": "3e0d0062-185c-4f01-a8b1-5278cd7e5f17"
      }
     }
    },
    "485c8cac-4b7c-4815-833e-2ca01f6de7d9": {
     "id": "485c8cac-4b7c-4815-833e-2ca01f6de7d9",
     "prev": "0316cd9a-dd6d-4296-8dbd-c67aeef19a44",
     "regions": {
      "434fe1b1-a86f-4ec7-95f7-2c866275e77f": {
       "attrs": {
        "height": 0.8,
        "width": 0.8,
        "x": 0.1,
        "y": 0.1
       },
       "content": {
        "cell": "64a3b6d0-393e-4ec2-8878-2a4a45e1e0c4",
        "part": "whole"
       },
       "id": "434fe1b1-a86f-4ec7-95f7-2c866275e77f"
      }
     }
    },
    "5ac47a4e-c47d-43de-b3f1-6f34ca708e09": {
     "id": "5ac47a4e-c47d-43de-b3f1-6f34ca708e09",
     "prev": null,
     "regions": {
      "ff1e37af-0ab5-4a53-bb77-b9406e8a7810": {
       "attrs": {
        "height": 0.8,
        "width": 0.8,
        "x": 0.1,
        "y": 0.1
       },
       "content": {
        "cell": "85f88828-b309-40e4-a85c-f3c87d1562f5",
        "part": "whole"
       },
       "id": "ff1e37af-0ab5-4a53-bb77-b9406e8a7810"
      }
     }
    },
    "60950b20-df5a-4a70-81be-97eac8c851dd": {
     "id": "60950b20-df5a-4a70-81be-97eac8c851dd",
     "prev": "2ff5f0b6-6b44-449f-9686-5419b9200f72",
     "regions": {
      "1e16475b-2ed9-4690-8b5f-aeaeea783fd1": {
       "attrs": {
        "height": 0.8,
        "width": 0.8,
        "x": 0.1,
        "y": 0.1
       },
       "content": {
        "cell": "2bf08bf5-957c-42a8-9760-f1df6112a1f1",
        "part": "whole"
       },
       "id": "1e16475b-2ed9-4690-8b5f-aeaeea783fd1"
      }
     }
    },
    "60b49e3b-e2c1-450b-ab70-94ef73205892": {
     "id": "60b49e3b-e2c1-450b-ab70-94ef73205892",
     "prev": "5ac47a4e-c47d-43de-b3f1-6f34ca708e09",
     "regions": {
      "088e7c65-e932-4a66-8ec0-0f90abaa0f89": {
       "attrs": {
        "height": 0.8,
        "width": 0.45,
        "x": 0.05,
        "y": 0.1
       },
       "id": "088e7c65-e932-4a66-8ec0-0f90abaa0f89"
      },
      "091a9095-78bb-4a03-942c-c8e1e353a969": {
       "attrs": {
        "height": 0.8,
        "width": 0.45,
        "x": 0.5,
        "y": 0.1
       },
       "id": "091a9095-78bb-4a03-942c-c8e1e353a969"
      }
     }
    },
    "88754933-b910-4af5-b4ba-df7579412cdf": {
     "id": "88754933-b910-4af5-b4ba-df7579412cdf",
     "prev": "3c8b1b1c-2ddb-4735-b7ba-d8e0cae2fce7",
     "regions": {
      "5b4d0b7b-e17b-45f6-afb0-096711d805b6": {
       "attrs": {
        "height": 0.8,
        "width": 0.8,
        "x": 0.1,
        "y": 0.1
       },
       "content": {
        "cell": "038825aa-670b-4188-b4a2-3c4c25675f57",
        "part": "whole"
       },
       "id": "5b4d0b7b-e17b-45f6-afb0-096711d805b6"
      }
     }
    },
    "89b7399a-aeb5-4f86-871c-2a81a33c7360": {
     "id": "89b7399a-aeb5-4f86-871c-2a81a33c7360",
     "prev": "1844ba72-102c-4e56-8d4a-5bbe0e3d76b4",
     "regions": {
      "94449ee9-1db6-4d17-910f-49a9436b601b": {
       "attrs": {
        "height": 0.8,
        "width": 0.8,
        "x": 0.1,
        "y": 0.1
       },
       "content": {
        "cell": "81632790-077b-49d2-92c5-9c8bd383bf1f",
        "part": "whole"
       },
       "id": "94449ee9-1db6-4d17-910f-49a9436b601b"
      }
     }
    },
    "a4e508e9-1cc9-42e0-bc93-dba0250780c6": {
     "id": "a4e508e9-1cc9-42e0-bc93-dba0250780c6",
     "prev": "eaa3d255-a6d3-4754-83e8-9a7279cf45ec",
     "regions": {
      "2730ccd3-732e-4db3-8632-928f87656811": {
       "attrs": {
        "height": 0.8,
        "width": 0.8,
        "x": 0.1,
        "y": 0.1
       },
       "content": {
        "cell": "bd89348e-8f2f-46fa-a160-e40f4099a899",
        "part": "whole"
       },
       "id": "2730ccd3-732e-4db3-8632-928f87656811"
      }
     }
    },
    "a5956a42-18b0-424b-bb88-7512fad88a3d": {
     "id": "a5956a42-18b0-424b-bb88-7512fad88a3d",
     "prev": "60950b20-df5a-4a70-81be-97eac8c851dd",
     "regions": {
      "bebd2e49-cbeb-4c51-9e97-b65ccfd31f55": {
       "attrs": {
        "height": 0.8,
        "width": 0.8,
        "x": 0.1,
        "y": 0.1
       },
       "content": {
        "cell": "b88bc15f-e8da-4eff-8a93-72747e6b9d58",
        "part": "whole"
       },
       "id": "bebd2e49-cbeb-4c51-9e97-b65ccfd31f55"
      }
     }
    },
    "b7341c86-2867-4672-8275-cd057584053a": {
     "id": "b7341c86-2867-4672-8275-cd057584053a",
     "prev": "a5956a42-18b0-424b-bb88-7512fad88a3d",
     "regions": {
      "0b286741-b488-4c91-b943-162e34a24887": {
       "attrs": {
        "height": 0.8,
        "width": 0.8,
        "x": 0.1,
        "y": 0.1
       },
       "content": {
        "cell": "dab4b347-adff-4323-ba15-de976ddbec87",
        "part": "whole"
       },
       "id": "0b286741-b488-4c91-b943-162e34a24887"
      }
     }
    },
    "eaa3d255-a6d3-4754-83e8-9a7279cf45ec": {
     "id": "eaa3d255-a6d3-4754-83e8-9a7279cf45ec",
     "prev": "89b7399a-aeb5-4f86-871c-2a81a33c7360",
     "regions": {
      "2b977a73-1e16-47d1-a046-d9aa347123c5": {
       "attrs": {
        "height": 0.8,
        "width": 0.8,
        "x": 0.1,
        "y": 0.1
       },
       "content": {
        "cell": "177bdae6-f2ee-4391-97fb-6e0b6b6ac9d5",
        "part": "whole"
       },
       "id": "2b977a73-1e16-47d1-a046-d9aa347123c5"
      }
     }
    }
   },
   "themes": {}
  }
 },
 "nbformat": 4,
 "nbformat_minor": 0
}
