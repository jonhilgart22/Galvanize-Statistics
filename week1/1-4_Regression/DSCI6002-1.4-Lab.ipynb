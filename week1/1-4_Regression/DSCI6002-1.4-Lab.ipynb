{
 "cells": [
  {
   "cell_type": "markdown",
   "metadata": {},
   "source": [
    "# Lab 1.4: Introduction to Linear Regression [GRADED]\n",
    "\n",
    "Linear regression is an approach to modeling the relationship between a continuous dependent variable (**y**) and \n",
    "one or more independent variables (**x**). Here you will be introduced to fitting the model and interpreting the results before we dive more into the details of linear regression later in the course.\n",
    "\n",
    "1. We will be using the `prestige` data in `statsmodels`. `statsmodels` is the de facto library for performing regression\n",
    "   tasks in Python. Load the data with the follow code. **Remember to add a column of `1` to the x matrix for the \n",
    "   model to fit an intercept**.\n",
    "\n",
    "   ```python \n",
    "   import statsmodels.api as sm\n",
    "   prestige = sm.datasets.get_rdataset(\"Duncan\", \"car\", cache=True).data\n",
    "   y = prestige['prestige']\n",
    "   X = prestige[['income', 'education']].astype(float)\n",
    "   ```\n",
    "\n",
    "2. Explore the data by making a [scatter_matrix](http://pandas.pydata.org/pandas-docs/version/0.15.0/visualization.html#visualization-scatter-matrix)\n",
    "   and a [boxplot](http://pandas.pydata.org/pandas-docs/stable/generated/pandas.DataFrame.boxplot.html)\n",
    "   to show the range of each of your variables.\n",
    "   \n",
    "3. The beta coefficients of a linear regression model can be calculated by solving the normal equation.\n",
    "   Using numpy, write a function that solves the **normal equation** (below).\n",
    "   As input your function should take a matrix of features (**x**) and\n",
    "   a vector of target (**y**). You should return a vector of beta coefficients \n",
    "   that represent the line of best fit which minimizes the residual. \n",
    "   \n",
    "    $$ \\hat{\\beta} = (X^TX)^{-1}X^Ty$$\n",
    "\n",
    "4. Verify your results using statsmodels. Use the code below as a reference.\n",
    "   ```python\n",
    "   import statsmodels.api as sm\n",
    "   model = sms.OLS(y, X).fit()\n",
    "   summary = model.summary()\n",
    "   ```\n",
    "\n",
    "5. Interpret your result summary, focusing on the beta coefficents and the $R^2$. \n"
   ]
  }
 ],
 "metadata": {
  "kernelspec": {
   "display_name": "Python [Root]",
   "language": "python",
   "name": "Python [Root]"
  },
  "language_info": {
   "codemirror_mode": {
    "name": "ipython",
    "version": 3
   },
   "file_extension": ".py",
   "mimetype": "text/x-python",
   "name": "python",
   "nbconvert_exporter": "python",
   "pygments_lexer": "ipython3",
   "version": "3.5.2"
  }
 },
 "nbformat": 4,
 "nbformat_minor": 0
}
