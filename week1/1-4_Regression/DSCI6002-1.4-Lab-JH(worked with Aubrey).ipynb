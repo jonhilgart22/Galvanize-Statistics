{
 "cells": [
  {
   "cell_type": "markdown",
   "metadata": {},
   "source": [
    "# Lab 1.4: Introduction to Linear Regression\n",
    "\n",
    "Linear regression is an approach to modeling the relationship between a continuous dependent variable (**y**) and \n",
    "one or more independent variables (**x**). Here you will be introduced to fitting the model and interpreting the results before we dive more into the details of linear regression later in the course.\n",
    "\n",
    "1. We will be using the `prestige` data in `statsmodels`. `statsmodels` is the de facto library for performing regression\n",
    "   tasks in Python. Load the data with the follow code. **Remember to add a column of `1` to the x matrix for the \n",
    "   model to fit an intercept**.\n",
    "\n",
    "   ```python \n",
    "   import statsmodels.api as sm\n",
    "   prestige = sm.datasets.get_rdataset(\"Duncan\", \"car\", cache=True).data\n",
    "   y = prestige['prestige']\n",
    "   X = prestige[['income', 'education']].astype(float)\n",
    "   ```\n",
    "\n",
    "2. Explore the data by making a [scatter_matrix](http://pandas.pydata.org/pandas-docs/version/0.15.0/visualization.html#visualization-scatter-matrix)\n",
    "   and a [boxplot](http://pandas.pydata.org/pandas-docs/stable/generated/pandas.DataFrame.boxplot.html)\n",
    "   to show the range of each of your variables.\n",
    "   \n",
    "3. The beta coefficients of a linear regression model can be calculated by solving the normal equation.\n",
    "   Using numpy, write a function that solves the **normal equation** (below).\n",
    "   As input your function should take a matrix of features (**x**) and\n",
    "   a vector of target (**y**). You should return a vector of beta coefficients \n",
    "   that represent the line of best fit which minimizes the residual. \n",
    "   \n",
    "    $$ \\hat{\\beta} = (X^TX)^{-1}X^Ty$$\n",
    "\n",
    "4. Verify your results using statsmodels. Use the code below as a reference.\n",
    "   ```python\n",
    "   import statsmodels.api as sm\n",
    "   model = sms.OLS(y, X).fit()\n",
    "   summary = model.summary()\n",
    "   ```\n",
    "\n",
    "5. Interpret your result summary, focusing on the beta coefficents and the $R^2$. \n"
   ]
  },
  {
   "cell_type": "code",
   "execution_count": 1,
   "metadata": {
    "collapsed": false
   },
   "outputs": [
    {
     "name": "stdout",
     "output_type": "stream",
     "text": [
      "Fetching package metadata .......\n",
      "Solving package specifications: ..........\n",
      "\n",
      "# All requested packages already installed.\n",
      "# packages in environment at /Users/jonathanhilgart/anaconda:\n",
      "#\n",
      "statsmodels               0.6.1               np111py35_1  \n"
     ]
    }
   ],
   "source": [
    "!conda install statsmodels"
   ]
  },
  {
   "cell_type": "code",
   "execution_count": 2,
   "metadata": {
    "collapsed": true
   },
   "outputs": [],
   "source": [
    "import statsmodels as sm"
   ]
  },
  {
   "cell_type": "markdown",
   "metadata": {},
   "source": [
    "# Question Two"
   ]
  },
  {
   "cell_type": "code",
   "execution_count": 13,
   "metadata": {
    "collapsed": false
   },
   "outputs": [
    {
     "name": "stdout",
     "output_type": "stream",
     "text": [
      "                    type  income  education  prestige\n",
      "accountant          prof      62         86        82\n",
      "pilot               prof      72         76        83\n",
      "architect           prof      75         92        90\n",
      "author              prof      55         90        76\n",
      "chemist             prof      64         86        90\n",
      "minister            prof      21         84        87\n",
      "professor           prof      64         93        93\n",
      "dentist             prof      80        100        90\n",
      "reporter              wc      67         87        52\n",
      "engineer            prof      72         86        88\n",
      "undertaker          prof      42         74        57\n",
      "lawyer              prof      76         98        89\n",
      "physician           prof      76         97        97\n",
      "welfare.worker      prof      41         84        59\n",
      "teacher             prof      48         91        73\n",
      "conductor             wc      76         34        38\n",
      "contractor          prof      53         45        76\n",
      "factory.owner       prof      60         56        81\n",
      "store.manager       prof      42         44        45\n",
      "banker              prof      78         82        92\n",
      "bookkeeper            wc      29         72        39\n",
      "mail.carrier          wc      48         55        34\n",
      "insurance.agent       wc      55         71        41\n",
      "store.clerk           wc      29         50        16\n",
      "carpenter             bc      21         23        33\n",
      "electrician           bc      47         39        53\n",
      "RR.engineer           bc      81         28        67\n",
      "machinist             bc      36         32        57\n",
      "auto.repairman        bc      22         22        26\n",
      "plumber               bc      44         25        29\n",
      "gas.stn.attendant     bc      15         29        10\n",
      "coal.miner            bc       7          7        15\n",
      "streetcar.motorman    bc      42         26        19\n",
      "taxi.driver           bc       9         19        10\n",
      "truck.driver          bc      21         15        13\n",
      "machine.operator      bc      21         20        24\n",
      "barber                bc      16         26        20\n",
      "bartender             bc      16         28         7\n",
      "shoe.shiner           bc       9         17         3\n",
      "cook                  bc      14         22        16\n",
      "soda.clerk            bc      12         30         6\n",
      "watchman              bc      17         25        11\n",
      "janitor               bc       7         20         8\n",
      "policeman             bc      34         47        41\n",
      "waiter                bc       8         32        10\n"
     ]
    }
   ],
   "source": [
    "import statsmodels.api as sm\n",
    "prestige = sm.datasets.get_rdataset(\"Duncan\", \"car\", cache=True).data\n",
    "print(prestige)\n",
    "y = prestige['prestige']\n",
    "x = prestige[['income', 'education']].astype(float)\n",
    "x = sm.add_constant(x)"
   ]
  },
  {
   "cell_type": "code",
   "execution_count": 14,
   "metadata": {
    "collapsed": false
   },
   "outputs": [
    {
     "name": "stdout",
     "output_type": "stream",
     "text": [
      "            const  income  education\n",
      "accountant      1    62.0       86.0\n",
      "pilot           1    72.0       76.0\n",
      "architect       1    75.0       92.0\n",
      "author          1    55.0       90.0\n",
      "chemist         1    64.0       86.0\n"
     ]
    }
   ],
   "source": [
    "print(x.head())"
   ]
  },
  {
   "cell_type": "markdown",
   "metadata": {},
   "source": [
    "Explore the data by making a scatter_matrix and a boxplot to show the range of each of your variables."
   ]
  },
  {
   "cell_type": "code",
   "execution_count": 35,
   "metadata": {
    "collapsed": false
   },
   "outputs": [
    {
     "name": "stdout",
     "output_type": "stream",
     "text": [
      "Populating the interactive namespace from numpy and matplotlib\n"
     ]
    },
    {
     "data": {
      "image/png": "[encoded data removed]",
      "text/plain": [
       "<matplotlib.figure.Figure at 0x11c492898>"
      ]
     },
     "metadata": {},
     "output_type": "display_data"
    }
   ],
   "source": [
    "import seaborn as sns\n",
    "import matplotlib.pyplot as plt\n",
    "from pandas.tools.plotting import scatter_matrix\n",
    "%pylab inline\n",
    "scatter_matrix(prestige);\n"
   ]
  },
  {
   "cell_type": "code",
   "execution_count": 36,
   "metadata": {
    "collapsed": false
   },
   "outputs": [
    {
     "name": "stderr",
     "output_type": "stream",
     "text": [
      "/Users/jonathanhilgart/anaconda/lib/python3.5/site-packages/seaborn/categorical.py:2171: UserWarning: The boxplot API has been changed. Attempting to adjust your arguments for the new API (which might not work). Please update your code. See the version 0.6 release notes for more info.\n",
      "  warnings.warn(msg, UserWarning)\n"
     ]
    },
    {
     "data": {
      "image/png": "[encoded data removed]",
      "text/plain": [
       "<matplotlib.figure.Figure at 0x11c7192b0>"
      ]
     },
     "metadata": {},
     "output_type": "display_data"
    }
   ],
   "source": [
    "sns.boxplot(prestige);"
   ]
  },
  {
   "cell_type": "markdown",
   "metadata": {},
   "source": [
    "# Question three \n",
    "3. The beta coefficients of a linear regression model can be calculated by solving the normal equation.\n",
    "   Using numpy, write a function that solves the **normal equation** (below).\n",
    "   As input your function should take a matrix of features (**x**) and\n",
    "   a vector of target (**y**). You should return a vector of beta coefficients \n",
    "   that represent the line of best fit which minimizes the residual. \n",
    "   \n",
    "    $$ \\hat{\\beta} = (X^TX)^{-1}X^Ty$$"
   ]
  },
  {
   "cell_type": "code",
   "execution_count": 61,
   "metadata": {
    "collapsed": false
   },
   "outputs": [],
   "source": [
    "import numpy as np\n",
    "from numpy.linalg import det,inv"
   ]
  },
  {
   "cell_type": "code",
   "execution_count": 56,
   "metadata": {
    "collapsed": true
   },
   "outputs": [],
   "source": [
    "\n",
    "def beta_coefficients(features_matrix,target_y):\n",
    "    features_matrix =np.asarray(features_matrix)\n",
    "    target_y = np.asarray(target_y)\n",
    "    print(( np.linalg.inv(features_matrix.T.dot(features_matrix)).dot(features_matrix.T)).dot(target_y))\n"
   ]
  },
  {
   "cell_type": "code",
   "execution_count": 57,
   "metadata": {
    "collapsed": false
   },
   "outputs": [
    {
     "name": "stdout",
     "output_type": "stream",
     "text": [
      "[-6.06466292  0.59873282  0.54583391]\n"
     ]
    }
   ],
   "source": [
    "beta_coefficients(x,y)"
   ]
  },
  {
   "cell_type": "markdown",
   "metadata": {},
   "source": [
    "# Question Four\n",
    "Verify your results using statsmodels. Use the code below as a reference.\n",
    "import statsmodels.api as sm\n",
    "model = sms.OLS(y, X).fit()\n",
    "summary = model.summary()"
   ]
  },
  {
   "cell_type": "code",
   "execution_count": 64,
   "metadata": {
    "collapsed": false
   },
   "outputs": [],
   "source": [
    "import statsmodels.api as sms\n",
    "model = sms.OLS(y, x).fit()\n",
    "summary = model.summary()\n"
   ]
  },
  {
   "cell_type": "raw",
   "metadata": {},
   "source": []
  },
  {
   "cell_type": "code",
   "execution_count": 65,
   "metadata": {
    "collapsed": false
   },
   "outputs": [
    {
     "name": "stdout",
     "output_type": "stream",
     "text": [
      "                            OLS Regression Results                            \n",
      "==============================================================================\n",
      "Dep. Variable:               prestige   R-squared:                       0.828\n",
      "Model:                            OLS   Adj. R-squared:                  0.820\n",
      "Method:                 Least Squares   F-statistic:                     101.2\n",
      "Date:                Fri, 02 Sep 2016   Prob (F-statistic):           8.65e-17\n",
      "Time:                        15:20:23   Log-Likelihood:                -178.98\n",
      "No. Observations:                  45   AIC:                             364.0\n",
      "Df Residuals:                      42   BIC:                             369.4\n",
      "Df Model:                           2                                         \n",
      "Covariance Type:            nonrobust                                         \n",
      "==============================================================================\n",
      "                 coef    std err          t      P>|t|      [95.0% Conf. Int.]\n",
      "------------------------------------------------------------------------------\n",
      "const         -6.0647      4.272     -1.420      0.163       -14.686     2.556\n",
      "income         0.5987      0.120      5.003      0.000         0.357     0.840\n",
      "education      0.5458      0.098      5.555      0.000         0.348     0.744\n",
      "==============================================================================\n",
      "Omnibus:                        1.279   Durbin-Watson:                   1.458\n",
      "Prob(Omnibus):                  0.528   Jarque-Bera (JB):                0.520\n",
      "Skew:                           0.155   Prob(JB):                        0.771\n",
      "Kurtosis:                       3.426   Cond. No.                         163.\n",
      "==============================================================================\n",
      "\n",
      "Warnings:\n",
      "[1] Standard Errors assume that the covariance matrix of the errors is correctly specified.\n"
     ]
    }
   ],
   "source": [
    "print(summary)"
   ]
  },
  {
   "cell_type": "code",
   "execution_count": null,
   "metadata": {
    "collapsed": true
   },
   "outputs": [],
   "source": [
    "# The coeficients from stats models matching what my function returned"
   ]
  },
  {
   "cell_type": "markdown",
   "metadata": {},
   "source": [
    "# Question five\n",
    "Interpret your result summary, focusing on the beta coefficents and the  R^2 .\n"
   ]
  },
  {
   "cell_type": "markdown",
   "metadata": {},
   "source": [
    "The R^2 shows that 83% of the model is explained by the variables (income, education), and both features are statistically significant (0 is not contained the the 95% confidence interval). This suggests that both income and education can explain 83% of a person's prestige. This is a very good model.\n",
    "\n",
    "In addition, you can see from the model that the intercept is NOT statistically significant (0 falls within the confidence interval, P value is .16). "
   ]
  },
  {
   "cell_type": "code",
   "execution_count": null,
   "metadata": {
    "collapsed": true
   },
   "outputs": [],
   "source": []
  }
 ],
 "metadata": {
  "anaconda-cloud": {},
  "kernelspec": {
   "display_name": "Python [Root]",
   "language": "python",
   "name": "Python [Root]"
  },
  "language_info": {
   "codemirror_mode": {
    "name": "ipython",
    "version": 3
   },
   "file_extension": ".py",
   "mimetype": "text/x-python",
   "name": "python",
   "nbconvert_exporter": "python",
   "pygments_lexer": "ipython3",
   "version": "3.5.2"
  }
 },
 "nbformat": 4,
 "nbformat_minor": 0
}
