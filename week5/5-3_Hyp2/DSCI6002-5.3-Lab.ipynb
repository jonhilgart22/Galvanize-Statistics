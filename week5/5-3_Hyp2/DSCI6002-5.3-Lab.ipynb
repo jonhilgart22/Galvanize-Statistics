{
 "cells": [
  {
   "cell_type": "markdown",
   "metadata": {},
   "source": [
    "# Lab 5.3: Two Sample Hypothesis Testing"
   ]
  },
  {
   "cell_type": "markdown",
   "metadata": {},
   "source": [
    "**Question 1**\n",
    "\n",
    " Many doctors believe that early prenatal care is very important to the health of a baby and its mother. Efforts have recently been focused on teen mothers. A random sample of 52 teenagers who gave birth revealed that 32 of them began prenatal care in the first trimester of their pregnancy. A random sample of 209 women in their twenties who gave birth revealed that 163 of them began prenatal care in the first trimester of their pregnancy.  \n",
    " \n",
    "1) Construct a 95% confidence interval for the difference between the proportion of teen mothers who get early prenatal care and the proportion of mothers in their twenties who get early prenatal care.  \n",
    "\n",
    "\n",
    "2) Briefly interpret the confidence interval. "
   ]
  },
  {
   "cell_type": "markdown",
   "metadata": {},
   "source": [
    "**Question 2**  \n",
    "\n",
    "A math instructor wrote two versions of the same test that he believed to be of equal difficulty. He gave the first version (A) to 36 students and the second version (B) to 41 students. We will consider the two groups to be random samples from the population of all community college statistics students. The 36 students who took version A had a mean score of 79.3 with a standard deviation of 11.26. The 41 students who took version B had a mean score of 84.1 with a standard deviation of 9.40.  \n",
    "\n",
    "1) Construct a 95% confidence interval for the difference between the mean score of version A and the mean score of version B.  \n",
    "\n",
    "\n",
    "2) Interpret the confidence interval in context. "
   ]
  },
  {
   "cell_type": "markdown",
   "metadata": {},
   "source": [
    "**Question 3**  \n",
    "\n",
    "A group of 18 concertgoers was selected at random. Before the concert they were given a hearing test, and then were given another one after the concert. (The volume varied during the test, and the person also had to state which ear the sound was in.) The number of correctly identified sounds out of 10, both before and after the concert, can be found in the `before` and `after` tables in RDS (hint: join `USING (goer_id);`).  \n",
    "\n",
    "1) Construct a 95% confidence interval for the mean of the differences between the scores before the concert and the scores after the concert.  \n",
    "\n",
    "\n",
    "2) At the 0.05 level of significance, test whether a person’s hearing is adversely affected by the noise of a concert. "
   ]
  },
  {
   "cell_type": "markdown",
   "metadata": {},
   "source": [
    "**Question 4**\n",
    "\n",
    "Are male high school graduates equally likely to attend college the following fall as female high school graduates? A random sample of 1354 males who graduated high school in 2007 found that 860 of them were enrolled in college in October 2007. A sample of 1415 females who graduated high school in 2007 found that 995 of them were enrolled in college in October 2007. At the 0.05 level of significance, test the null hypothesis that the proportion of male graduates that go on to college is the same as the proportion of female graduates that go on to college against the two sided alternative. Clearly state your conclusion. "
   ]
  },
  {
   "cell_type": "markdown",
   "metadata": {},
   "source": [
    "**Question 5**\n",
    "\n",
    "Here we will use hypothesis testing to analyze **Click Through Rate (CTR)** on the New York Times website.\n",
    "Click-through rate (CTR) is the number of users that click on a specific link out of the total users that view a page, email, or advertisement.\n",
    "We are going to determine if there is statistically significant difference between the mean CTR for\n",
    "the following groups:\n",
    "```\n",
    "1. Signed in users v.s. Not signed in users\n",
    "2. Male v.s. Female\n",
    "```\n",
    "\n",
    "\n",
    "1) Load the `nyt` table from RDS into a pandas dataframe.\n",
    "\n",
    "   Use `data.info()` to make sure the datatypes are valid and there are no null values.\n",
    "   This data has been cleaned for you, but generally it is good practice to check for those.\n",
    "   "
   ]
  },
  {
   "cell_type": "markdown",
   "metadata": {},
   "source": [
    "2) Make a new column `CTR` using the `Impressions` and the `Clicks` columns. (`CTR` = `Clicks` / `Impressions`)  \n",
    "   Remember to remove the rows with `0` impressions.\n",
    "   "
   ]
  },
  {
   "cell_type": "markdown",
   "metadata": {},
   "source": [
    "3) Plot the distribution of each column in the dataframe. You can do this using `pandas.DataFrame.hist()`.\n",
    "   Check out the arguments you can use with the function\n",
    "   [here](http://pandas.pydata.org/pandas-docs/stable/generated/pandas.DataFrame.hist.html).\n",
    "   Set the `figsize=(12,5)` to make sure the graph is readable.\n",
    "   "
   ]
  },
  {
   "cell_type": "markdown",
   "metadata": {},
   "source": [
    "4) Make 2 dataframes separating the rows where the users who are signed in and users who are\n",
    "   not signed in.\n",
    "   Plot the distributions of the columns in each of the dataframes. By visually inspecting\n",
    "   the two sets of distributions, describe the differences between users who are signed in and not signed in?"
   ]
  },
  {
   "cell_type": "markdown",
   "metadata": {},
   "source": [
    "5) Use a Welch's t-test to determine if the mean CTR between the signed-in users\n",
    "   and the non-signed-in users is statistically different. Explain how you\n",
    "   arrive at your conclusion.\n",
    "\n",
    "   The Welch's t-test assumes the two populations in which the samples are drawn from\n",
    "   have different variances.\n",
    "\n",
    "   ```python\n",
    "   scipy.stats.ttest_ind(a, b, equal_var=False)\n",
    "   ```"
   ]
  },
  {
   "cell_type": "markdown",
   "metadata": {},
   "source": [
    "\n",
    "6) Determine if the mean CTR between male users and female users is\n",
    "   statistically different. `Male: 1, Female: 0`\n"
   ]
  },
  {
   "cell_type": "markdown",
   "metadata": {},
   "source": [
    "#### Hint\n",
    "\n",
    "Some functions that may be useful to you:\n",
    "\n",
    "- From the `numpy` package:\n",
    "    - `sqrt`\n",
    "    - `array`\n",
    "- From the `yaml` package:\n",
    "    - `load` - to load Postgres credentials\n",
    "- From the `sqlalchemy` package:\n",
    "    - `create_engine` - to connect to Postgres\n",
    "- From the `pandas` package:\n",
    "    - `read_sql`\n",
    "    - `read_sql_table`\n",
    "- From the `scipy` package:\n",
    "    - `stats.norm.cdf`\n",
    "    - `stats.sem`\n",
    "    - `stats.t.interval`\n",
    "    - `stats.ttest_1samp`\n",
    "    - `stats.ttest_ind`"
   ]
  }
 ],
 "metadata": {
  "anaconda-cloud": {},
  "kernelspec": {
   "display_name": "Python [Root]",
   "language": "python",
   "name": "Python [Root]"
  },
  "language_info": {
   "codemirror_mode": {
    "name": "ipython",
    "version": 3
   },
   "file_extension": ".py",
   "mimetype": "text/x-python",
   "name": "python",
   "nbconvert_exporter": "python",
   "pygments_lexer": "ipython3",
   "version": "3.5.2"
  }
 },
 "nbformat": 4,
 "nbformat_minor": 0
}
