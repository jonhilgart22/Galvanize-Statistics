{
 "cells": [
  {
   "cell_type": "markdown",
   "metadata": {
    "slideshow": {
     "slide_type": "slide"
    }
   },
   "source": [
    "# Lecture 5.3: Hypothesis Testing II - Inference for Categorical Data\n",
    "\n",
    "## Outline\n",
    "\n",
    "* Hypothesis testing - one sample proportion\n",
    "* Hypothesis testing for difference in means\n",
    "    * Large sample\n",
    "    * Small sample\n",
    "* Hypothesis testing for difference in proportions\n",
    "\n",
    "\n",
    "## Objectives\n",
    "\n",
    "Be able to:\n",
    "\n",
    "* Construct confidence interval for difference in means\n",
    "* Carry out hypothesis testing for difference in means\n",
    "* Construct confidnece interval for difference in proportions\n",
    "* Carry out hypothesis testing for difference in proportions"
   ]
  },
  {
   "cell_type": "code",
   "execution_count": null,
   "metadata": {
    "collapsed": false
   },
   "outputs": [],
   "source": [
    "%pylab inline\n",
    "import pandas as pd\n",
    "import yaml\n",
    "\n",
    "from scipy import stats\n",
    "from sqlalchemy import create_engine\n",
    "from statsmodels.stats.weightstats import ttest_ind\n",
    "\n",
    "pg_creds = yaml.load(open('../../pg_creds.yaml'))['student']\n",
    "\n",
    "engine = create_engine('postgresql://{user}:{password}@{host}:{port}/{dbname}'.format(**pg_creds))"
   ]
  },
  {
   "cell_type": "markdown",
   "metadata": {},
   "source": [
    "## Hypothesis Testing for Proportions\n",
    "\n",
    "So far, we have been talk about hypothesis testing for the mean. We can also conduct hypothesis tests for proportions."
   ]
  },
  {
   "cell_type": "markdown",
   "metadata": {
    "slideshow": {
     "slide_type": "slide"
    }
   },
   "source": [
    "**Example**\n",
    "\n",
    "We want to see if there is any evidence that the percentage of female patrons of the HairCare shop is 70%.  \n",
    "\n",
    "In a simple random sample of 200 patrons, 133 are female."
   ]
  },
  {
   "cell_type": "markdown",
   "metadata": {
    "slideshow": {
     "slide_type": "slide"
    }
   },
   "source": [
    "We want to test:\n",
    "\n",
    "$H_0: p = 0.7$    \n",
    "$H_a: p \\neq 0.7$\n",
    "\n",
    "We know:\n",
    "\n",
    "$x = 133$  \n",
    "$n = 200$  \n",
    "$\\hat{p} = \\frac{x}{n} = \\frac{133}{200} = 0.665$  "
   ]
  },
  {
   "cell_type": "markdown",
   "metadata": {
    "slideshow": {
     "slide_type": "slide"
    }
   },
   "source": [
    "By the CLT,  \n",
    "\n",
    "$$ \\hat{p} \\sim N(p, \\frac{p(1-p)}{n}) $$\n",
    "\n",
    "or\n",
    "\n",
    "$$ \\frac{\\hat{p} - p}{\\sqrt{p(1-p)/n}} \\sim N(0, 1) $$  \n",
    "\n",
    "\n",
    "The 95% confidence interval for $p$ is given by  \n",
    "\n",
    "$$ (\\hat{p} - 1.96 \\sqrt{\\frac{\\hat{p}(1 - \\hat{p})}{n}} \\text{, } \\hat{p} + 1.96 \\sqrt{\\frac{\\hat{p}(1 - \\hat{p})}{n}}) $$\n"
   ]
  },
  {
   "cell_type": "markdown",
   "metadata": {
    "slideshow": {
     "slide_type": "slide"
    }
   },
   "source": [
    "**Confidence interval method**  "
   ]
  },
  {
   "cell_type": "markdown",
   "metadata": {
    "slideshow": {
     "slide_type": "fragment"
    }
   },
   "source": [
    "The 95% confidence interval for $p$ is  \n",
    "\n",
    "$$ (0.665 - 1.96 \\sqrt{\\frac{0.665(1 - 0.665)}{200}} \\text{, } 0.665 + 1.96 \\sqrt{\\frac{0.665(1 - 0.665)}{200}}) $$\n",
    "\n",
    "$$ \\Rightarrow (0.60, 0.73) $$  \n",
    "\n",
    "Since 0.7 is within the 95% confidence interval, we fail to reject the null at 0.05 significance level."
   ]
  },
  {
   "cell_type": "markdown",
   "metadata": {
    "slideshow": {
     "slide_type": "slide"
    }
   },
   "source": [
    "**The p-value approach**  "
   ]
  },
  {
   "cell_type": "markdown",
   "metadata": {
    "slideshow": {
     "slide_type": "fragment"
    }
   },
   "source": [
    "The test statistic is\n",
    "\n",
    "$$z_{stat} = \\frac{\\hat{p} - p_0}{\\sqrt{p_0(1 - p_0)/n}} = \\frac{0.665 - 0.7}{\\sqrt{0.7(1 - 0.7)/200}} = -1.08 $$  \n",
    "\n",
    "Note: $ z_{stat} \\sim N(0, 1)$ if the null hypothesis is true"
   ]
  },
  {
   "cell_type": "markdown",
   "metadata": {},
   "source": [
    "<B>Pop Quiz:</B> <details><summary>Why is this a $z_{stat}$ and not a $t_{stat}$?</summary>Because the denominator is the hypothesized population $\\sigma$, not the sample $s$</details>"
   ]
  },
  {
   "cell_type": "markdown",
   "metadata": {
    "slideshow": {
     "slide_type": "fragment"
    }
   },
   "source": [
    "The p-value is"
   ]
  },
  {
   "cell_type": "code",
   "execution_count": null,
   "metadata": {
    "collapsed": false,
    "slideshow": {
     "slide_type": "fragment"
    }
   },
   "outputs": [],
   "source": [
    "stats.norm.cdf?"
   ]
  },
  {
   "cell_type": "markdown",
   "metadata": {
    "slideshow": {
     "slide_type": "fragment"
    }
   },
   "source": [
    "$$ \\text{p-value } = P(Z < -1.08 \\text{ or } Z > 1.08) = 0.28 > 0.05 $$  \n",
    "\n",
    "We fail to reject the null. We don't have sufficient evidence to conclude that the true proportion of female patrons is different from 70%.  \n",
    "\n",
    "\n",
    "This is often called the **one sample z-test** for proportions."
   ]
  },
  {
   "cell_type": "markdown",
   "metadata": {
    "slideshow": {
     "slide_type": "slide"
    }
   },
   "source": [
    "#### One Sided Intervals for proportions \n",
    "\n",
    "* 95% Upper one-side CI   \n",
    "\n",
    "$$ (- \\infty, \\hat{p} + 1.64 \\sqrt{\\frac{\\hat{p}(1 - \\hat{p})}{n}}) $$  \n",
    "\n",
    "* 95% Lower one-side CI  \n",
    "\n",
    "$$ (\\hat{p} - 1.64 \\sqrt{\\frac{\\hat{p}(1 - \\hat{p})}{n}}, \\infty) $$  \n",
    "\n",
    "* For 95% intervals, $z_{\\alpha} = 1.64$; we don’t use 1.96 since these are one-sided intervals"
   ]
  },
  {
   "cell_type": "markdown",
   "metadata": {
    "slideshow": {
     "slide_type": "slide"
    }
   },
   "source": [
    "## Comparing Two Means (Large Sample)\n",
    "\n",
    "**Example** We want to compare the average age among two populations:\n",
    "\n",
    "<img src=\"images/age_groups.png\" width=\"700\">\n"
   ]
  },
  {
   "cell_type": "markdown",
   "metadata": {
    "slideshow": {
     "slide_type": "slide"
    }
   },
   "source": [
    "### Confidence Interval for $\\mu_1 - \\mu_2$\n",
    "\n",
    "We have two **independent** samples:  \n",
    "\n",
    "\n",
    "$X_1, X_2, \\dots, X_{n_1}$ from population 1  \n",
    "\n",
    "$Y_1, Y_2, \\dots, Y_{n_2}$ from population 2  \n",
    "\n",
    "\n",
    "Assume both $n_1$ and $n_2$ are **bigger** than 30,  \n",
    "the 95% confidence interval for $\\mu_1 - \\mu_2$ is given by  \n",
    "\n",
    "$$ \\bar{X} - \\bar{Y} \\pm 1.96 \\sqrt{\\frac{s_X^2}{n_1} + \\frac{s_Y^2}{n_2}} $$  \n",
    "\n",
    "**Note**: here we are using 1.96 since the t-distribution is very close to the standard Normal distribution when the sample size is large. In general, the computer uses the t-distribution."
   ]
  },
  {
   "cell_type": "markdown",
   "metadata": {
    "slideshow": {
     "slide_type": "slide"
    }
   },
   "source": [
    "**Example**  \n",
    "\n",
    "* A survey found that the average hotel room rate in New Orleans is \\$88.42 and the average room rate in Phoenix is \\$80.61.\n",
    "* Assume that the data were obtained from two samples of 50 hotels each and that the standard deviations are \\$5.62 and \\$4.83, respectively.\n",
    "* <details><summary>Construct a confidence interval for the difference in the rates.\n",
    "</summary>$$ \\begin{align*}\n",
    "     \\bar{X} - \\bar{Y} \\pm 1.96 \\sqrt{\\frac{s_X^2}{n_1} + \\frac{s_Y^2}{n_2}} \n",
    "     &= (88.42 - 80.61) \\pm 1.96 \\sqrt{\\frac{5.62^2}{50} + \\frac{4.83^2}{50}} \\\\\n",
    "     &= 7.81 \\pm 1.96(1.047) \\\\\n",
    "     &= (5.75, 9.86)\n",
    "   \\end{align*} $$</details>"
   ]
  },
  {
   "cell_type": "markdown",
   "metadata": {
    "slideshow": {
     "slide_type": "slide"
    }
   },
   "source": [
    "### Hypothesis Testing for Difference in Means (Large Sample)\n",
    "\n",
    "We can use two methods to test whether there is a difference in two population means.  \n",
    "\n",
    "* Confidence interval\n",
    "* p-value"
   ]
  },
  {
   "cell_type": "markdown",
   "metadata": {
    "slideshow": {
     "slide_type": "slide"
    }
   },
   "source": [
    "#### Confidence Interval Method  \n",
    "\n",
    "First, we need to state out null and alternative hypotheses:\n",
    "\n",
    "$H_0: \\mu_1 = \\mu_2 \\text{ or } \\mu_1 - \\mu_2 = 0$  \n",
    "\n",
    "$H_a: \\mu_1 \\neq \\mu_2 \\text{ or } \\mu_1 - \\mu_2 \\neq 0$\n"
   ]
  },
  {
   "cell_type": "markdown",
   "metadata": {
    "slideshow": {
     "slide_type": "fragment"
    }
   },
   "source": [
    "Then, we construct the confidence interval  \n",
    "\n",
    "$$ \\bar{X} - \\bar{Y} \\pm 1.96 \\sqrt{\\frac{s_X^2}{n_1} + \\frac{s_Y^2}{n_2}} $$  "
   ]
  },
  {
   "cell_type": "markdown",
   "metadata": {
    "slideshow": {
     "slide_type": "fragment"
    }
   },
   "source": [
    "We make our conclusion by checking if 0 falls within the interval - if it does, we fail to reject the null, otherwise we reject it."
   ]
  },
  {
   "cell_type": "markdown",
   "metadata": {
    "slideshow": {
     "slide_type": "slide"
    }
   },
   "source": [
    "**Example**\n",
    "\n",
    "* A survey found that the average hotel room rate in New Orleans is \\$88.42 and the average room rate in Phoenix is \\$80.61.\n",
    "* Assume that the data were obtained from two samples of 50 hotels each and that the standard deviations are \\$5.62 and \\$4.83, respectively.\n",
    "* <details><summary>Test if the true average hotel room rates are different between the two cities.\n",
    "</summary>$H_0: \\mu_1 = \\mu_2$  \n",
    "$H_a: \\mu_1 \\neq \\mu_2$  \n",
    "We have calculated the confidence interval: (5.75, 9.86).  \n",
    "The interval does not span 0, so we reject the null hypothesis. There is sufficient evidence to conclude that the average room rates in Orleans and Phoenix are different.\n",
    "</details>"
   ]
  },
  {
   "cell_type": "markdown",
   "metadata": {
    "slideshow": {
     "slide_type": "slide"
    }
   },
   "source": [
    "### Using the P-value  \n",
    "\n",
    "The test statistic is given by  \n",
    "\n",
    "$$ t_{stat} = \\frac{\\bar{X} - \\bar{Y}}{\\sqrt{\\frac{s_X^2}{n_1} + \\frac{s_Y^2}{n_2}}} $$  \n",
    "\n",
    "<!--\n",
    "Since we are assuming large sample sizes, we will find the p-value from the standard Normal distribution (as an approximation).\n",
    "\n",
    "$$ \\text{p-value} = P(Z < -|t_{stat}| \\text{ or } Z > |t_{stat}|) = 2 \\times P(Z < -|t_{stat}|) $$  \n",
    "--\n",
    "**Note**: \n",
    "* the computer always uses the t-distribution regardless of the sample size.\n",
    "* It is a **t-based** test, but we are using the standard Normal, $Z$, as an approximation\n",
    "-->"
   ]
  },
  {
   "cell_type": "markdown",
   "metadata": {
    "slideshow": {
     "slide_type": "slide"
    }
   },
   "source": [
    "<!--\n",
    "In the case of one sided test, we obtain the p-value as follows:\n",
    "\n",
    "* For $H_a: \\mu_1 > \\mu_2 \\text{ or } \\mu_1 - \\mu_2 > 0$\n",
    "\n",
    "$$ \\text{p-value} = P(Z > t_{stat}) $$  \n",
    "\n",
    "* For $H_a: \\mu_1 < \\mu_2 \\text{ or } \\mu_1 - \\mu_2 < 0$\n",
    "\n",
    "$$ \\text{p-value} = P(Z < t_{stat}) $$\n",
    "-->"
   ]
  },
  {
   "cell_type": "markdown",
   "metadata": {},
   "source": [
    "Going back to our hotel example,\n",
    "\n",
    "$$ t_{stat} = \\frac{\\bar{X} - \\bar{Y}}{\\sqrt{\\frac{s_X^2}{n_1} + \\frac{s_Y^2}{n_2}}} = \\frac{88.42 - 80.61}{\\sqrt{\\frac{5.62^2}{50} + \\frac{4.83^2}{50}}} = 7.45 $$  "
   ]
  },
  {
   "cell_type": "code",
   "execution_count": null,
   "metadata": {
    "collapsed": false
   },
   "outputs": [],
   "source": [
    "stats.ttest_ind_from_stats?"
   ]
  },
  {
   "cell_type": "markdown",
   "metadata": {
    "slideshow": {
     "slide_type": "slide"
    }
   },
   "source": [
    "$$ \\text{p-value} = P(t < -7.45 \\text{ or } t > 7.45) = 2 \\times P(Z < -7.45) = 3.67 \\times 10^{-11} < 0.05 $$"
   ]
  },
  {
   "cell_type": "markdown",
   "metadata": {
    "slideshow": {
     "slide_type": "fragment"
    }
   },
   "source": [
    "We have extremely strong evidence to conclude that the average hotel room rates in Orleans and Phoenix are different."
   ]
  },
  {
   "cell_type": "markdown",
   "metadata": {
    "slideshow": {
     "slide_type": "slide"
    }
   },
   "source": [
    "## Comparing Two Means (Small Sample)\n",
    "\n",
    "If our sample sizes are small, we would not have the nice convenience to use the standard Normal distribution as an approximation, as the t-distribution would look quite different from the standard Normal when the degrees of freedom is small."
   ]
  },
  {
   "cell_type": "markdown",
   "metadata": {
    "slideshow": {
     "slide_type": "slide"
    }
   },
   "source": [
    "### Confidence Intervals for Difference in Means  \n",
    "\n",
    "When sample sizes are small, the 95% confidence interval for $\\mu_1 - \\mu_2$ is given by  \n",
    "\n",
    "$$ \\bar{X} - \\bar{Y} \\pm t \\sqrt{\\frac{s_X^2}{n_1} + \\frac{s_Y^2}{n_2}} $$\n",
    "\n",
    "where $t$ is the 97.5th percentile of the corresponding t-distribution.  \n",
    "\n",
    "What is the $df$ of the $t$-distribution?"
   ]
  },
  {
   "cell_type": "markdown",
   "metadata": {
    "slideshow": {
     "slide_type": "slide"
    }
   },
   "source": [
    "Find the **degrees of freedom** of the t-distribution gets a bit tricky:  \n",
    "\n",
    "* One way is to take $df = min(n_1 - 1, n_2 - 1)$\n",
    "    * We will use this if we have to calculate the CI by hand   \n",
    "    \n",
    "    \n",
    "* Another way is to use the data to approximate the degrees of freedom (the computer usually uses this) \n",
    "\n",
    "$$ df = \\frac{\\left(\\frac{s_x^2}{n_1} + \\frac{s_Y^2}{n_2} \\right)^2}{\\frac{\\left(\\frac{s_X^2}{n_1}\\right)^2}{n_1 - 1} + \\frac{\\left(\\frac{s_Y^2}{n_2}\\right)^2}{n_2 - 1}} \\text{ Yikes!}$$\n",
    "\n",
    "Thankfully, `statsmodels` will do this for us."
   ]
  },
  {
   "cell_type": "markdown",
   "metadata": {
    "slideshow": {
     "slide_type": "slide"
    }
   },
   "source": [
    "### Using the P-value\n",
    "\n",
    "$H_0: \\mu_1 = \\mu_2 \\text{ or } \\mu_1 - \\mu_2 = 0$  \n",
    "\n",
    "$H_a: \\mu_1 \\neq \\mu_2 \\text{ or } \\mu_1 - \\mu_2 \\neq 0$\n",
    "\n",
    "The test statistic is the same:\n",
    "\n",
    "$$ t_{stat} = \\frac{\\bar{X} - \\bar{Y}}{\\sqrt{\\frac{s_X^2}{n_1} + \\frac{s_Y^2}{n_2}}} $$  \n",
    "\n",
    "When we calculate the p-value, instead finding the approximate probability in a standard Normal, we need to find the exact probability from the t-distribution with the right degrees of freedom. (**t-based**) \n",
    "\n",
    "\n",
    "$$ \\text{p-value} = P(t < -|t_{stat}| \\text{ or } t > |t_{stat}|) = 2 \\times P(t < -|t_{stat}|) $$  \n",
    "\n",
    "where the t-distribution has degrees of freedom defined above."
   ]
  },
  {
   "cell_type": "markdown",
   "metadata": {
    "slideshow": {
     "slide_type": "slide"
    }
   },
   "source": [
    "For one sided test, we obtain the p-value as follows:\n",
    "\n",
    "* For $H_a: \\mu_1 > \\mu_2 \\text{ or } \\mu_1 - \\mu_2 > 0$\n",
    "\n",
    "$$ \\text{p-value} = P(t > t_{stat}) $$  \n",
    "\n",
    "* For $H_a: \\mu_1 < \\mu_2 \\text{ or } \\mu_1 - \\mu_2 < 0$\n",
    "\n",
    "$$ \\text{p-value} = P(t < t_{stat}) $$"
   ]
  },
  {
   "cell_type": "markdown",
   "metadata": {
    "slideshow": {
     "slide_type": "slide"
    }
   },
   "source": [
    "**Example**\n",
    "\n",
    "* The residents of Cambridge complain that traffic speeding fines given in their city are higher than the traffic speeding fines that are given in nearby Sommerville.\n",
    "* The assistant to the county manager agreed to study the problem and to indicate if the complaints were reasonable. Independent random samples of the amounts paid by residents for speeding tickets in each of the two cities over the last three months were obtained."
   ]
  },
  {
   "cell_type": "code",
   "execution_count": null,
   "metadata": {
    "collapsed": false
   },
   "outputs": [],
   "source": [
    "cambridge = pd.read_sql(\"SELECT fine FROM fines WHERE city = 'Cambridge'\", engine)['fine']\n",
    "sommerville = pd.read_sql(\"SELECT fine FROM fines WHERE city = 'Sommerville'\", engine)['fine']"
   ]
  },
  {
   "cell_type": "markdown",
   "metadata": {
    "slideshow": {
     "slide_type": "fragment"
    }
   },
   "source": [
    "First, we need to state our hypotheses:\n",
    "\n",
    "$H_0: \\mu_1 = \\mu_2$  \n",
    "\n",
    "$H_a: \\mu_1 > \\mu_2$"
   ]
  },
  {
   "cell_type": "code",
   "execution_count": null,
   "metadata": {
    "collapsed": false,
    "slideshow": {
     "slide_type": "fragment"
    }
   },
   "outputs": [],
   "source": [
    "ttest_ind?"
   ]
  },
  {
   "cell_type": "markdown",
   "metadata": {
    "slideshow": {
     "slide_type": "fragment"
    }
   },
   "source": [
    "So our p-value $= 4.60 \\times 10^{-6} < 0.05$, and we conclude that there is sufficient evidence to support the Cambirdge residents' complaint about the difference in speeding fines between the two cities."
   ]
  },
  {
   "cell_type": "markdown",
   "metadata": {
    "slideshow": {
     "slide_type": "slide"
    }
   },
   "source": [
    "### Match Pairs Test\n",
    "\n",
    "* Another two sample problem is matched pairs.\n",
    "* The easiest example is a group of people who decided to try WeightWatchers.\n",
    "* You have their before and after weights, say, after two months of dieting.\n",
    "* In this case we again have two different samples, but they are not independent - they are matched."
   ]
  },
  {
   "cell_type": "markdown",
   "metadata": {
    "slideshow": {
     "slide_type": "slide"
    }
   },
   "source": [
    "First, take the difference $d = X_1 - X_2$ for each pair.  \n",
    "\n",
    "Then carry out one sample hypothesis test on the difference $d$. (**t-based**)  \n",
    "\n",
    "$H_0: d = 0$  \n",
    "\n",
    "$H_a: d \\neq 0$"
   ]
  },
  {
   "cell_type": "markdown",
   "metadata": {
    "slideshow": {
     "slide_type": "slide"
    }
   },
   "source": [
    "## Testing Difference in Proportions\n",
    "\n",
    "Just like the one sample case we saw yesterday, instead of testing the difference in means, we might want to test the difference in population proportions:\n",
    "\n",
    "* The difference in unemployment rates between Republicans and Democrats  \n",
    "\n",
    "* The difference in percentage if households that plan to buy a car during the next year in northeastern states versus southeastern states."
   ]
  },
  {
   "cell_type": "markdown",
   "metadata": {
    "slideshow": {
     "slide_type": "slide"
    }
   },
   "source": [
    "**Example**  \n",
    "\n",
    "* We have two **independent** samples from populations of interest.\n",
    "\n",
    "* Ask them the same question;\n",
    "    * Do you like pandas? (for example)\n",
    "    \n",
    "* From each sample we calculate the proportion of yes’s:\n",
    "\n",
    "<img src=\"images/groups_prop.png\" width=\"700\">"
   ]
  },
  {
   "cell_type": "markdown",
   "metadata": {
    "slideshow": {
     "slide_type": "slide"
    }
   },
   "source": [
    "### The Confidence Interval for Difference in Proportions\n",
    "\n",
    "By the CLT, the 95% confidence interval for $p_1 - p_2$ is give by  \n",
    "\n",
    "$$ (\\hat{p}_1 - \\hat{p}_2) \\pm 1.96 \\sqrt{\\frac{\\hat{p}_1(1 - \\hat{p}_1)}{n_1} + \\frac{\\hat{p}_2(1 - \\hat{p}_2)}{n_2}} $$"
   ]
  },
  {
   "cell_type": "markdown",
   "metadata": {
    "slideshow": {
     "slide_type": "slide"
    }
   },
   "source": [
    "### Testing Two Proportions\n",
    "\n",
    "First, state the hypotheses:\n",
    "\n",
    "$H_0: p_1 = p_2$ or $p_1 - p_2 = 0$  \n",
    "\n",
    "$H_a: p_1 \\neq p_2$ or $p_1 - p_2 \\neq 0$"
   ]
  },
  {
   "cell_type": "markdown",
   "metadata": {
    "slideshow": {
     "slide_type": "fragment"
    }
   },
   "source": [
    "The test statistic for testing two proportions is given by\n",
    "\n",
    "$$ t_{stat} = \\frac{(\\hat{p}_1 - \\hat{p}_2)}{\\sqrt{\\hat{p}(1 - \\hat{p}) \\left(\\frac{1}{n_1} + \\frac{1}{n_2} \\right)}} $$\n",
    "\n",
    "where \n",
    "\n",
    "$$ \\hat{p} = \\frac{n_1 \\hat{p}_1 + n_2 \\hat{p}_2}{n_1 + n_2} $$"
   ]
  },
  {
   "cell_type": "markdown",
   "metadata": {
    "slideshow": {
     "slide_type": "fragment"
    }
   },
   "source": [
    "We calculate the p-value by comparing the test statistic to a standard Normal distribution (**z-based**),  \n",
    "\n",
    "$$ \\text{p_value} = P(Z < -|t_{stat}| \\text{ or } Z > |t_{stat}|) = 2 \\times P(Z < -|t_{stat}|) $$ "
   ]
  },
  {
   "cell_type": "markdown",
   "metadata": {
    "slideshow": {
     "slide_type": "slide"
    }
   },
   "source": [
    "For one sided test, we obtain the p-value as follows:\n",
    "\n",
    "* For $H_a: p_1 > p_2 \\text{ or } p_1 - p_2 > 0$\n",
    "\n",
    "$$ \\text{p-value} = P(Z > t_{stat}) $$  \n",
    "\n",
    "* For $H_a: p_1 < p_2 \\text{ or } p_1 - p_2 < 0$\n",
    "\n",
    "$$ \\text{p-value} = P(Z < t_{stat}) $$"
   ]
  },
  {
   "cell_type": "markdown",
   "metadata": {
    "slideshow": {
     "slide_type": "slide"
    }
   },
   "source": [
    "**Example**\n",
    "\n",
    "In July 1987 the Canadian parliament debated the reinstatement of the death penalty. One of the factors in this debate was the amount of public support for the death penalty. In 1982, a sample of 1500 Canadians reveled that 70% favored the death penalty. In 1987, 61% in a sample of 1500 supported the death penalty. Do these data provide sufficient evidence at the 5% significance level to indicate that support has fallen between 1982 and 1987 ?"
   ]
  },
  {
   "cell_type": "markdown",
   "metadata": {
    "slideshow": {
     "slide_type": "fragment"
    }
   },
   "source": [
    "We want to test\n",
    "\n",
    "$$ H_0: p_{82} = p_{87} \\text{ vs } H_a: p_{82} > p_{87} $$"
   ]
  },
  {
   "cell_type": "markdown",
   "metadata": {
    "slideshow": {
     "slide_type": "fragment"
    }
   },
   "source": [
    "The test statistic is \n",
    "\n",
    "$$ t_{stat} = \\frac{(0.70 - 0.61)}{\\sqrt{0.655 (1 - 0.655) \\left( \\frac{1}{1500} + \\frac{1}{1500} \\right)}} = 5.18 $$\n",
    "\n",
    "where\n",
    "\n",
    "$$ \\hat{p} = \\frac{1500 (0.70) + 1500 (0.61)}{1500 + 1500} = 0.655 $$"
   ]
  },
  {
   "cell_type": "markdown",
   "metadata": {
    "slideshow": {
     "slide_type": "fragment"
    }
   },
   "source": [
    "$$ \\text{p-value} = P(Z > 5.18) = 1.1 \\times 10^{-7} < 0.05 $$"
   ]
  },
  {
   "cell_type": "code",
   "execution_count": null,
   "metadata": {
    "collapsed": false,
    "slideshow": {
     "slide_type": "fragment"
    }
   },
   "outputs": [],
   "source": [
    "1 - stats.norm.cdf(5.18)"
   ]
  },
  {
   "cell_type": "markdown",
   "metadata": {
    "slideshow": {
     "slide_type": "fragment"
    }
   },
   "source": [
    "Hence we may conclude with 95% confidence that the level of support for the death penalty has declined from 1982 to 1987."
   ]
  },
  {
   "cell_type": "markdown",
   "metadata": {
    "slideshow": {
     "slide_type": "slide"
    }
   },
   "source": [
    "## A/B Testing\n",
    "\n",
    "A/B testing (sometimes called split testing) is comparing two versions of a web page to see which one performs better.   \n",
    "\n",
    "* You compare two web pages by showing the two variants (let's call them A and B) to similar visitors at the same time.  \n",
    "\n",
    "* The one that gives a better conversion rate, wins.\n",
    "\n",
    "<img src=\"images/ab_test.png\" width=\"600\">"
   ]
  },
  {
   "cell_type": "markdown",
   "metadata": {
    "slideshow": {
     "slide_type": "fragment"
    }
   },
   "source": [
    "A/B testing is essentially a form of two sample hypothesis testing."
   ]
  }
 ],
 "metadata": {
  "anaconda-cloud": {},
  "kernelspec": {
   "display_name": "Python [Root]",
   "language": "python",
   "name": "Python [Root]"
  },
  "language_info": {
   "codemirror_mode": {
    "name": "ipython",
    "version": 3
   },
   "file_extension": ".py",
   "mimetype": "text/x-python",
   "name": "python",
   "nbconvert_exporter": "python",
   "pygments_lexer": "ipython3",
   "version": "3.5.2"
  }
 },
 "nbformat": 4,
 "nbformat_minor": 0
}
