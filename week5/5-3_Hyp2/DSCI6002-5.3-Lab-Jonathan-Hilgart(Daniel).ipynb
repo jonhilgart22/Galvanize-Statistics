{
 "cells": [
  {
   "cell_type": "markdown",
   "metadata": {},
   "source": [
    "# Lab 5.3: Two Sample Hypothesis Testing"
   ]
  },
  {
   "cell_type": "markdown",
   "metadata": {},
   "source": [
    "**Question 1**\n",
    "\n",
    " Many doctors believe that early prenatal care is very important to the health of a baby and its mother. Efforts have recently been focused on teen mothers. A random sample of 52 teenagers who gave birth revealed that 32 of them began prenatal care in the first trimester of their pregnancy. A random sample of 209 women in their twenties who gave birth revealed that 163 of them began prenatal care in the first trimester of their pregnancy.  \n",
    " \n",
    "1) Construct a 95% confidence interval for the difference between the proportion of teen mothers who get early prenatal care and the proportion of mothers in their twenties who get early prenatal care.  \n",
    "\n",
    "\n",
    "2) Briefly interpret the confidence interval. "
   ]
  },
  {
   "cell_type": "code",
   "execution_count": 6,
   "metadata": {
    "collapsed": false
   },
   "outputs": [
    {
     "name": "stdout",
     "output_type": "stream",
     "text": [
      "0.020850616602461763 0.3081887650684987\n"
     ]
    }
   ],
   "source": [
    "n1= 52\n",
    "p1 = 32/52\n",
    "n2 = 209\n",
    "p2 = 163/209\n",
    "#overall_p = 32+162 / (209+52)\n",
    "s_e = sqrt(p1*(1-p1)/n1 + p2*(1-p2)/n2)\n",
    "\n",
    "print( (p2-p1 -1.96*s_e) , (p2-p1 +1.96*s_e))\n",
    "\n"
   ]
  },
  {
   "cell_type": "code",
   "execution_count": 3,
   "metadata": {
    "collapsed": true
   },
   "outputs": [],
   "source": [
    "from math import sqrt"
   ]
  },
  {
   "cell_type": "markdown",
   "metadata": {},
   "source": [
    "**Question 2**  \n",
    "\n",
    "A math instructor wrote two versions of the same test that he believed to be of equal difficulty. He gave the first version (A) to 36 students and the second version (B) to 41 students. We will consider the two groups to be random samples from the population of all community college statistics students. The 36 students who took version A had a mean score of 79.3 with a standard deviation of 11.26. The 41 students who took version B had a mean score of 84.1 with a standard deviation of 9.40.  \n",
    "\n",
    "1) Construct a 95% confidence interval for the difference between the mean score of version A and the mean score of version B.  \n",
    "\n",
    "\n",
    "2) Interpret the confidence interval in context. "
   ]
  },
  {
   "cell_type": "code",
   "execution_count": 7,
   "metadata": {
    "collapsed": true
   },
   "outputs": [],
   "source": [
    "from scipy import stats"
   ]
  },
  {
   "cell_type": "code",
   "execution_count": 8,
   "metadata": {
    "collapsed": false
   },
   "outputs": [
    {
     "data": {
      "text/plain": [
       "Ttest_indResult(statistic=-2.0383885273901328, pvalue=0.045036665945314469)"
      ]
     },
     "execution_count": 8,
     "metadata": {},
     "output_type": "execute_result"
    }
   ],
   "source": [
    "stats.ttest_ind_from_stats(79.3,11.26,36 , 84.1,9.40,41)"
   ]
  },
  {
   "cell_type": "code",
   "execution_count": 11,
   "metadata": {
    "collapsed": false
   },
   "outputs": [
    {
     "name": "stdout",
     "output_type": "stream",
     "text": [
      "-9.669985241830641 -0.33001475816935955\n"
     ]
    }
   ],
   "source": [
    "mean1 = 79.3\n",
    "std1 = 11.26\n",
    "n1 = 36\n",
    "mean2 = 84.1\n",
    "std2 = 9.40\n",
    "n2 = 41\n",
    "\n",
    "s_e_2 = sqrt(std1**2/n1 + std2**2/n2)\n",
    "\n",
    "print( (n1-n2 - 1.96*s_e_2)  ,((n1-n2 + 1.96*s_e_2)  ))\n",
    "\n"
   ]
  },
  {
   "cell_type": "markdown",
   "metadata": {},
   "source": [
    "**Question 3**  \n",
    "\n",
    "A group of 18 concertgoers was selected at random. Before the concert they were given a hearing test, and then were given another one after the concert. (The volume varied during the test, and the person also had to state which ear the sound was in.) The number of correctly identified sounds out of 10, both before and after the concert, can be found in the `before` and `after` tables in RDS (hint: join `USING (goer_id);`).  \n",
    "\n",
    "1) Construct a 95% confidence interval for the mean of the differences between the scores before the concert and the scores after the concert.  \n",
    "\n",
    "\n",
    "2) At the 0.05 level of significance, test whether a person’s hearing is adversely affected by the noise of a concert. "
   ]
  },
  {
   "cell_type": "code",
   "execution_count": 12,
   "metadata": {
    "collapsed": false
   },
   "outputs": [
    {
     "name": "stdout",
     "output_type": "stream",
     "text": [
      "Populating the interactive namespace from numpy and matplotlib\n"
     ]
    },
    {
     "name": "stderr",
     "output_type": "stream",
     "text": [
      "WARNING: pylab import has clobbered these variables: ['sqrt']\n",
      "`%matplotlib` prevents importing * from pylab and numpy\n"
     ]
    }
   ],
   "source": [
    "%pylab inline\n",
    "import pandas as pd\n",
    "import yaml\n",
    "\n",
    "from scipy import stats\n",
    "from sqlalchemy import create_engine\n",
    "from statsmodels.stats.weightstats import ttest_ind\n",
    "\n",
    "pg_creds = yaml.load(open('../../pg_creds.yaml'))['student']\n",
    "\n",
    "engine = create_engine('postgresql://{user}:{password}@{host}:{port}/{dbname}'.format(**pg_creds))"
   ]
  },
  {
   "cell_type": "code",
   "execution_count": 49,
   "metadata": {
    "collapsed": false
   },
   "outputs": [],
   "source": [
    "concert = pd.read_sql(\"SELECT before.hearing AS hearing_before,\\\n",
    "(before.hearing - after.hearing) AS difference, after.hearing as hearing_after, before.goer_id as goer_id \\\n",
    "from before INNER JOIN after on before.goer_id = after.goer_id;\",engine)\n",
    "\n",
    "#concert.columns = ['goer_id_1','hearing_before','goer_id_2','hearing_after']"
   ]
  },
  {
   "cell_type": "code",
   "execution_count": 50,
   "metadata": {
    "collapsed": false
   },
   "outputs": [
    {
     "data": {
      "text/html": [
       "<div>\n",
       "<table border=\"1\" class=\"dataframe\">\n",
       "  <thead>\n",
       "    <tr style=\"text-align: right;\">\n",
       "      <th></th>\n",
       "      <th>hearing_before</th>\n",
       "      <th>difference</th>\n",
       "      <th>hearing_after</th>\n",
       "      <th>goer_id</th>\n",
       "    </tr>\n",
       "  </thead>\n",
       "  <tbody>\n",
       "    <tr>\n",
       "      <th>0</th>\n",
       "      <td>9</td>\n",
       "      <td>1</td>\n",
       "      <td>8</td>\n",
       "      <td>0</td>\n",
       "    </tr>\n",
       "    <tr>\n",
       "      <th>1</th>\n",
       "      <td>10</td>\n",
       "      <td>2</td>\n",
       "      <td>8</td>\n",
       "      <td>1</td>\n",
       "    </tr>\n",
       "    <tr>\n",
       "      <th>2</th>\n",
       "      <td>9</td>\n",
       "      <td>0</td>\n",
       "      <td>9</td>\n",
       "      <td>2</td>\n",
       "    </tr>\n",
       "    <tr>\n",
       "      <th>3</th>\n",
       "      <td>8</td>\n",
       "      <td>2</td>\n",
       "      <td>6</td>\n",
       "      <td>3</td>\n",
       "    </tr>\n",
       "    <tr>\n",
       "      <th>4</th>\n",
       "      <td>8</td>\n",
       "      <td>2</td>\n",
       "      <td>6</td>\n",
       "      <td>4</td>\n",
       "    </tr>\n",
       "  </tbody>\n",
       "</table>\n",
       "</div>"
      ],
      "text/plain": [
       "   hearing_before  difference  hearing_after  goer_id\n",
       "0               9           1              8        0\n",
       "1              10           2              8        1\n",
       "2               9           0              9        2\n",
       "3               8           2              6        3\n",
       "4               8           2              6        4"
      ]
     },
     "execution_count": 50,
     "metadata": {},
     "output_type": "execute_result"
    }
   ],
   "source": [
    "concert.head()"
   ]
  },
  {
   "cell_type": "code",
   "execution_count": 35,
   "metadata": {
    "collapsed": false
   },
   "outputs": [],
   "source": [
    "concert['hearing_difference'] = concert.hearing_before - concert.hearing_after"
   ]
  },
  {
   "cell_type": "code",
   "execution_count": 30,
   "metadata": {
    "collapsed": false
   },
   "outputs": [
    {
     "data": {
      "text/plain": [
       "18"
      ]
     },
     "execution_count": 30,
     "metadata": {},
     "output_type": "execute_result"
    }
   ],
   "source": [
    "concert.hearing_difference.count()"
   ]
  },
  {
   "cell_type": "code",
   "execution_count": 32,
   "metadata": {
    "collapsed": false
   },
   "outputs": [
    {
     "data": {
      "text/plain": [
       "(3.9626115222585065, 0.0010054663587553624)"
      ]
     },
     "execution_count": 32,
     "metadata": {},
     "output_type": "execute_result"
    }
   ],
   "source": [
    "t, p = stats.ttest_1samp(concert['hearing_difference'],0)\n",
    "t,p"
   ]
  },
  {
   "cell_type": "code",
   "execution_count": 52,
   "metadata": {
    "collapsed": false
   },
   "outputs": [],
   "source": [
    "mean = concert.difference.mean()\n",
    "s= np.std(concert.difference, ddof=1)\n",
    "\n",
    " = sqrt(concert.difference / s)\n"
   ]
  },
  {
   "cell_type": "code",
   "execution_count": 54,
   "metadata": {
    "collapsed": false
   },
   "outputs": [
    {
     "data": {
      "text/plain": [
       "(1.1585832385782777, 1.2858612057337102)"
      ]
     },
     "execution_count": 54,
     "metadata": {},
     "output_type": "execute_result"
    }
   ],
   "source": [
    "stats.t.interval(.05,17,mean)"
   ]
  },
  {
   "cell_type": "code",
   "execution_count": 53,
   "metadata": {
    "collapsed": true
   },
   "outputs": [],
   "source": [
    "stats.t.interval?"
   ]
  },
  {
   "cell_type": "markdown",
   "metadata": {},
   "source": [
    "**Question 4**\n",
    "\n",
    "Are male high school graduates equally likely to attend college the following fall as female high school graduates? A random sample of 1354 males who graduated high school in 2007 found that 860 of them were enrolled in college in October 2007. A sample of 1415 females who graduated high school in 2007 found that 995 of them were enrolled in college in October 2007. At the 0.05 level of significance, test the null hypothesis that the proportion of male graduates that go on to college is the same as the proportion of female graduates that go on to college against the two sided alternative. Clearly state your conclusion. "
   ]
  },
  {
   "cell_type": "code",
   "execution_count": 55,
   "metadata": {
    "collapsed": true
   },
   "outputs": [],
   "source": []
  },
  {
   "cell_type": "code",
   "execution_count": 59,
   "metadata": {
    "collapsed": false
   },
   "outputs": [
    {
     "name": "stdout",
     "output_type": "stream",
     "text": [
      "0.0330375627279 0.0980780712977\n"
     ]
    }
   ],
   "source": [
    "n1_4 = 1354.0\n",
    "p1_4 = 860/1354.0\n",
    "n2_4 = 1415.0\n",
    "p2_4 = 995/1415.0\n",
    "#overall_p = 32+162 / (209+52)\n",
    "s_e_4 = sqrt(p1_4*(1-p1_4)/n1_4 + p2_4*(1-p2_4)/n2_4)\n",
    "\n",
    "print( (p2_4-p1_4 -1.96*s_e_4) , (p2-p1_4 +1.96*s_e_4))\n"
   ]
  },
  {
   "cell_type": "markdown",
   "metadata": {},
   "source": [
    "**Question 5**\n",
    "\n",
    "Here we will use hypothesis testing to analyze **Click Through Rate (CTR)** on the New York Times website.\n",
    "Click-through rate (CTR) is the number of users that click on a specific link out of the total users that view a page, email, or advertisement.\n",
    "We are going to determine if there is statistically significant difference between the mean CTR for\n",
    "the following groups:\n",
    "```\n",
    "1. Signed in users v.s. Not signed in users\n",
    "2. Male v.s. Female\n",
    "```\n",
    "\n",
    "\n",
    "1) Load the `nyt` table from RDS into a pandas dataframe.\n",
    "\n",
    "   Use `data.info()` to make sure the datatypes are valid and there are no null values.\n",
    "   This data has been cleaned for you, but generally it is good practice to check for those.\n",
    "   "
   ]
  },
  {
   "cell_type": "code",
   "execution_count": 84,
   "metadata": {
    "collapsed": true
   },
   "outputs": [],
   "source": [
    "nyt_df = pd.read_sql('SELECT * from nyt',engine)"
   ]
  },
  {
   "cell_type": "code",
   "execution_count": 85,
   "metadata": {
    "collapsed": false
   },
   "outputs": [
    {
     "name": "stdout",
     "output_type": "stream",
     "text": [
      "<class 'pandas.core.frame.DataFrame'>\n",
      "RangeIndex: 458441 entries, 0 to 458440\n",
      "Data columns (total 6 columns):\n",
      "user_id        458441 non-null int64\n",
      "age            458441 non-null int64\n",
      "gender         458441 non-null int64\n",
      "impressions    458441 non-null int64\n",
      "clicks         458441 non-null int64\n",
      "signed_in      458441 non-null int64\n",
      "dtypes: int64(6)\n",
      "memory usage: 21.0 MB\n"
     ]
    }
   ],
   "source": [
    "nyt_df.info()"
   ]
  },
  {
   "cell_type": "markdown",
   "metadata": {},
   "source": [
    "2) Make a new column `CTR` using the `Impressions` and the `Clicks` columns. (`CTR` = `Clicks` / `Impressions`)  \n",
    "   Remember to remove the rows with `0` impressions.\n",
    "   "
   ]
  },
  {
   "cell_type": "code",
   "execution_count": 91,
   "metadata": {
    "collapsed": false
   },
   "outputs": [
    {
     "data": {
      "text/html": [
       "<div>\n",
       "<table border=\"1\" class=\"dataframe\">\n",
       "  <thead>\n",
       "    <tr style=\"text-align: right;\">\n",
       "      <th></th>\n",
       "      <th>user_id</th>\n",
       "      <th>age</th>\n",
       "      <th>gender</th>\n",
       "      <th>impressions</th>\n",
       "      <th>clicks</th>\n",
       "      <th>signed_in</th>\n",
       "      <th>CTR</th>\n",
       "    </tr>\n",
       "  </thead>\n",
       "  <tbody>\n",
       "    <tr>\n",
       "      <th>5</th>\n",
       "      <td>5</td>\n",
       "      <td>47</td>\n",
       "      <td>0</td>\n",
       "      <td>11</td>\n",
       "      <td>1</td>\n",
       "      <td>1</td>\n",
       "      <td>0.090909</td>\n",
       "    </tr>\n",
       "    <tr>\n",
       "      <th>6</th>\n",
       "      <td>6</td>\n",
       "      <td>0</td>\n",
       "      <td>0</td>\n",
       "      <td>7</td>\n",
       "      <td>1</td>\n",
       "      <td>0</td>\n",
       "      <td>0.142857</td>\n",
       "    </tr>\n",
       "    <tr>\n",
       "      <th>10</th>\n",
       "      <td>10</td>\n",
       "      <td>0</td>\n",
       "      <td>0</td>\n",
       "      <td>8</td>\n",
       "      <td>1</td>\n",
       "      <td>0</td>\n",
       "      <td>0.125000</td>\n",
       "    </tr>\n",
       "    <tr>\n",
       "      <th>39</th>\n",
       "      <td>39</td>\n",
       "      <td>0</td>\n",
       "      <td>0</td>\n",
       "      <td>7</td>\n",
       "      <td>2</td>\n",
       "      <td>0</td>\n",
       "      <td>0.285714</td>\n",
       "    </tr>\n",
       "    <tr>\n",
       "      <th>63</th>\n",
       "      <td>63</td>\n",
       "      <td>0</td>\n",
       "      <td>0</td>\n",
       "      <td>2</td>\n",
       "      <td>1</td>\n",
       "      <td>0</td>\n",
       "      <td>0.500000</td>\n",
       "    </tr>\n",
       "    <tr>\n",
       "      <th>72</th>\n",
       "      <td>72</td>\n",
       "      <td>0</td>\n",
       "      <td>0</td>\n",
       "      <td>6</td>\n",
       "      <td>1</td>\n",
       "      <td>0</td>\n",
       "      <td>0.166667</td>\n",
       "    </tr>\n",
       "    <tr>\n",
       "      <th>75</th>\n",
       "      <td>75</td>\n",
       "      <td>64</td>\n",
       "      <td>1</td>\n",
       "      <td>7</td>\n",
       "      <td>1</td>\n",
       "      <td>1</td>\n",
       "      <td>0.142857</td>\n",
       "    </tr>\n",
       "    <tr>\n",
       "      <th>85</th>\n",
       "      <td>85</td>\n",
       "      <td>0</td>\n",
       "      <td>0</td>\n",
       "      <td>7</td>\n",
       "      <td>1</td>\n",
       "      <td>0</td>\n",
       "      <td>0.142857</td>\n",
       "    </tr>\n",
       "    <tr>\n",
       "      <th>106</th>\n",
       "      <td>106</td>\n",
       "      <td>0</td>\n",
       "      <td>0</td>\n",
       "      <td>2</td>\n",
       "      <td>1</td>\n",
       "      <td>0</td>\n",
       "      <td>0.500000</td>\n",
       "    </tr>\n",
       "    <tr>\n",
       "      <th>128</th>\n",
       "      <td>128</td>\n",
       "      <td>0</td>\n",
       "      <td>0</td>\n",
       "      <td>3</td>\n",
       "      <td>1</td>\n",
       "      <td>0</td>\n",
       "      <td>0.333333</td>\n",
       "    </tr>\n",
       "    <tr>\n",
       "      <th>142</th>\n",
       "      <td>142</td>\n",
       "      <td>41</td>\n",
       "      <td>0</td>\n",
       "      <td>7</td>\n",
       "      <td>1</td>\n",
       "      <td>1</td>\n",
       "      <td>0.142857</td>\n",
       "    </tr>\n",
       "    <tr>\n",
       "      <th>145</th>\n",
       "      <td>145</td>\n",
       "      <td>0</td>\n",
       "      <td>0</td>\n",
       "      <td>6</td>\n",
       "      <td>1</td>\n",
       "      <td>0</td>\n",
       "      <td>0.166667</td>\n",
       "    </tr>\n",
       "    <tr>\n",
       "      <th>153</th>\n",
       "      <td>153</td>\n",
       "      <td>60</td>\n",
       "      <td>1</td>\n",
       "      <td>4</td>\n",
       "      <td>1</td>\n",
       "      <td>1</td>\n",
       "      <td>0.250000</td>\n",
       "    </tr>\n",
       "    <tr>\n",
       "      <th>178</th>\n",
       "      <td>178</td>\n",
       "      <td>61</td>\n",
       "      <td>0</td>\n",
       "      <td>7</td>\n",
       "      <td>1</td>\n",
       "      <td>1</td>\n",
       "      <td>0.142857</td>\n",
       "    </tr>\n",
       "    <tr>\n",
       "      <th>197</th>\n",
       "      <td>197</td>\n",
       "      <td>0</td>\n",
       "      <td>0</td>\n",
       "      <td>7</td>\n",
       "      <td>2</td>\n",
       "      <td>0</td>\n",
       "      <td>0.285714</td>\n",
       "    </tr>\n",
       "    <tr>\n",
       "      <th>198</th>\n",
       "      <td>198</td>\n",
       "      <td>15</td>\n",
       "      <td>1</td>\n",
       "      <td>5</td>\n",
       "      <td>1</td>\n",
       "      <td>1</td>\n",
       "      <td>0.200000</td>\n",
       "    </tr>\n",
       "    <tr>\n",
       "      <th>218</th>\n",
       "      <td>218</td>\n",
       "      <td>32</td>\n",
       "      <td>0</td>\n",
       "      <td>5</td>\n",
       "      <td>1</td>\n",
       "      <td>1</td>\n",
       "      <td>0.200000</td>\n",
       "    </tr>\n",
       "    <tr>\n",
       "      <th>239</th>\n",
       "      <td>239</td>\n",
       "      <td>55</td>\n",
       "      <td>0</td>\n",
       "      <td>9</td>\n",
       "      <td>1</td>\n",
       "      <td>1</td>\n",
       "      <td>0.111111</td>\n",
       "    </tr>\n",
       "    <tr>\n",
       "      <th>252</th>\n",
       "      <td>252</td>\n",
       "      <td>58</td>\n",
       "      <td>1</td>\n",
       "      <td>6</td>\n",
       "      <td>1</td>\n",
       "      <td>1</td>\n",
       "      <td>0.166667</td>\n",
       "    </tr>\n",
       "    <tr>\n",
       "      <th>254</th>\n",
       "      <td>254</td>\n",
       "      <td>32</td>\n",
       "      <td>1</td>\n",
       "      <td>7</td>\n",
       "      <td>1</td>\n",
       "      <td>1</td>\n",
       "      <td>0.142857</td>\n",
       "    </tr>\n",
       "  </tbody>\n",
       "</table>\n",
       "</div>"
      ],
      "text/plain": [
       "     user_id  age  gender  impressions  clicks  signed_in       CTR\n",
       "5          5   47       0           11       1          1  0.090909\n",
       "6          6    0       0            7       1          0  0.142857\n",
       "10        10    0       0            8       1          0  0.125000\n",
       "39        39    0       0            7       2          0  0.285714\n",
       "63        63    0       0            2       1          0  0.500000\n",
       "72        72    0       0            6       1          0  0.166667\n",
       "75        75   64       1            7       1          1  0.142857\n",
       "85        85    0       0            7       1          0  0.142857\n",
       "106      106    0       0            2       1          0  0.500000\n",
       "128      128    0       0            3       1          0  0.333333\n",
       "142      142   41       0            7       1          1  0.142857\n",
       "145      145    0       0            6       1          0  0.166667\n",
       "153      153   60       1            4       1          1  0.250000\n",
       "178      178   61       0            7       1          1  0.142857\n",
       "197      197    0       0            7       2          0  0.285714\n",
       "198      198   15       1            5       1          1  0.200000\n",
       "218      218   32       0            5       1          1  0.200000\n",
       "239      239   55       0            9       1          1  0.111111\n",
       "252      252   58       1            6       1          1  0.166667\n",
       "254      254   32       1            7       1          1  0.142857"
      ]
     },
     "execution_count": 91,
     "metadata": {},
     "output_type": "execute_result"
    }
   ],
   "source": [
    "nyt_df.head(20)"
   ]
  },
  {
   "cell_type": "code",
   "execution_count": 87,
   "metadata": {
    "collapsed": false
   },
   "outputs": [],
   "source": [
    "nyt_df['CTR']=nyt_df['clicks'].astype(float)/nyt_df['impressions']*1.0"
   ]
  },
  {
   "cell_type": "code",
   "execution_count": 89,
   "metadata": {
    "collapsed": false
   },
   "outputs": [],
   "source": [
    "nyt_df.CTR = nyt_df.CTR.astype(float)"
   ]
  },
  {
   "cell_type": "code",
   "execution_count": 90,
   "metadata": {
    "collapsed": false
   },
   "outputs": [],
   "source": [
    "##drop CTR ==0\n",
    "nyt_df = nyt_df[nyt_df.CTR>0]"
   ]
  },
  {
   "cell_type": "markdown",
   "metadata": {},
   "source": [
    "3) Plot the distribution of each column in the dataframe. You can do this using `pandas.DataFrame.hist()`.\n",
    "   Check out the arguments you can use with the function\n",
    "   [here](http://pandas.pydata.org/pandas-docs/stable/generated/pandas.DataFrame.hist.html).\n",
    "   Set the `figsize=(12,5)` to make sure the graph is readable.\n",
    "   "
   ]
  },
  {
   "cell_type": "code",
   "execution_count": 103,
   "metadata": {
    "collapsed": false
   },
   "outputs": [
    {
     "data": {
      "image/png": "[encoded data removed]",
      "text/plain": [
       "<matplotlib.figure.Figure at 0x121e75128>"
      ]
     },
     "metadata": {},
     "output_type": "display_data"
    }
   ],
   "source": [
    "nyt_df.hist(figsize=(12,10),bins=50);"
   ]
  },
  {
   "cell_type": "markdown",
   "metadata": {},
   "source": [
    "4) Make 2 dataframes separating the rows where the users who are signed in and users who are\n",
    "   not signed in.\n",
    "   Plot the distributions of the columns in each of the dataframes. By visually inspecting\n",
    "   the two sets of distributions, describe the differences between users who are signed in and not signed in?"
   ]
  },
  {
   "cell_type": "code",
   "execution_count": 104,
   "metadata": {
    "collapsed": true
   },
   "outputs": [],
   "source": [
    "nyt_df_signedin = nyt_df[nyt_df.signed_in==1]\n",
    "nyt_df_notsignedin = nyt_df[nyt_df.signed_in==0]"
   ]
  },
  {
   "cell_type": "code",
   "execution_count": 119,
   "metadata": {
    "collapsed": false
   },
   "outputs": [
    {
     "data": {
      "text/html": [
       "<div>\n",
       "<table border=\"1\" class=\"dataframe\">\n",
       "  <thead>\n",
       "    <tr style=\"text-align: right;\">\n",
       "      <th></th>\n",
       "      <th>user_id</th>\n",
       "      <th>age</th>\n",
       "      <th>gender</th>\n",
       "      <th>impressions</th>\n",
       "      <th>clicks</th>\n",
       "      <th>signed_in</th>\n",
       "      <th>CTR</th>\n",
       "    </tr>\n",
       "  </thead>\n",
       "  <tbody>\n",
       "    <tr>\n",
       "      <th>count</th>\n",
       "      <td>17776.000000</td>\n",
       "      <td>17776.0</td>\n",
       "      <td>17776.0</td>\n",
       "      <td>17776.000000</td>\n",
       "      <td>17776.000000</td>\n",
       "      <td>17776.0</td>\n",
       "      <td>17776.000000</td>\n",
       "    </tr>\n",
       "    <tr>\n",
       "      <th>mean</th>\n",
       "      <td>228462.599854</td>\n",
       "      <td>0.0</td>\n",
       "      <td>0.0</td>\n",
       "      <td>5.922480</td>\n",
       "      <td>1.095860</td>\n",
       "      <td>0.0</td>\n",
       "      <td>0.217219</td>\n",
       "    </tr>\n",
       "    <tr>\n",
       "      <th>std</th>\n",
       "      <td>133076.637436</td>\n",
       "      <td>0.0</td>\n",
       "      <td>0.0</td>\n",
       "      <td>2.218033</td>\n",
       "      <td>0.317927</td>\n",
       "      <td>0.0</td>\n",
       "      <td>0.121435</td>\n",
       "    </tr>\n",
       "    <tr>\n",
       "      <th>min</th>\n",
       "      <td>6.000000</td>\n",
       "      <td>0.0</td>\n",
       "      <td>0.0</td>\n",
       "      <td>1.000000</td>\n",
       "      <td>1.000000</td>\n",
       "      <td>0.0</td>\n",
       "      <td>0.058824</td>\n",
       "    </tr>\n",
       "    <tr>\n",
       "      <th>25%</th>\n",
       "      <td>112365.750000</td>\n",
       "      <td>0.0</td>\n",
       "      <td>0.0</td>\n",
       "      <td>4.000000</td>\n",
       "      <td>1.000000</td>\n",
       "      <td>0.0</td>\n",
       "      <td>0.142857</td>\n",
       "    </tr>\n",
       "    <tr>\n",
       "      <th>50%</th>\n",
       "      <td>228217.500000</td>\n",
       "      <td>0.0</td>\n",
       "      <td>0.0</td>\n",
       "      <td>6.000000</td>\n",
       "      <td>1.000000</td>\n",
       "      <td>0.0</td>\n",
       "      <td>0.200000</td>\n",
       "    </tr>\n",
       "    <tr>\n",
       "      <th>75%</th>\n",
       "      <td>344280.250000</td>\n",
       "      <td>0.0</td>\n",
       "      <td>0.0</td>\n",
       "      <td>7.000000</td>\n",
       "      <td>1.000000</td>\n",
       "      <td>0.0</td>\n",
       "      <td>0.250000</td>\n",
       "    </tr>\n",
       "    <tr>\n",
       "      <th>max</th>\n",
       "      <td>458413.000000</td>\n",
       "      <td>0.0</td>\n",
       "      <td>0.0</td>\n",
       "      <td>17.000000</td>\n",
       "      <td>4.000000</td>\n",
       "      <td>0.0</td>\n",
       "      <td>1.000000</td>\n",
       "    </tr>\n",
       "  </tbody>\n",
       "</table>\n",
       "</div>"
      ],
      "text/plain": [
       "             user_id      age   gender   impressions        clicks  signed_in  \\\n",
       "count   17776.000000  17776.0  17776.0  17776.000000  17776.000000    17776.0   \n",
       "mean   228462.599854      0.0      0.0      5.922480      1.095860        0.0   \n",
       "std    133076.637436      0.0      0.0      2.218033      0.317927        0.0   \n",
       "min         6.000000      0.0      0.0      1.000000      1.000000        0.0   \n",
       "25%    112365.750000      0.0      0.0      4.000000      1.000000        0.0   \n",
       "50%    228217.500000      0.0      0.0      6.000000      1.000000        0.0   \n",
       "75%    344280.250000      0.0      0.0      7.000000      1.000000        0.0   \n",
       "max    458413.000000      0.0      0.0     17.000000      4.000000        0.0   \n",
       "\n",
       "                CTR  \n",
       "count  17776.000000  \n",
       "mean       0.217219  \n",
       "std        0.121435  \n",
       "min        0.058824  \n",
       "25%        0.142857  \n",
       "50%        0.200000  \n",
       "75%        0.250000  \n",
       "max        1.000000  "
      ]
     },
     "execution_count": 119,
     "metadata": {},
     "output_type": "execute_result"
    }
   ],
   "source": [
    "nyt_df_notsignedin.describe()"
   ]
  },
  {
   "cell_type": "code",
   "execution_count": 120,
   "metadata": {
    "collapsed": false
   },
   "outputs": [
    {
     "data": {
      "text/html": [
       "<div>\n",
       "<table border=\"1\" class=\"dataframe\">\n",
       "  <thead>\n",
       "    <tr style=\"text-align: right;\">\n",
       "      <th></th>\n",
       "      <th>user_id</th>\n",
       "      <th>age</th>\n",
       "      <th>gender</th>\n",
       "      <th>impressions</th>\n",
       "      <th>clicks</th>\n",
       "      <th>signed_in</th>\n",
       "      <th>CTR</th>\n",
       "    </tr>\n",
       "  </thead>\n",
       "  <tbody>\n",
       "    <tr>\n",
       "      <th>count</th>\n",
       "      <td>22062.000000</td>\n",
       "      <td>22062.000000</td>\n",
       "      <td>22062.000000</td>\n",
       "      <td>22062.000000</td>\n",
       "      <td>22062.000000</td>\n",
       "      <td>22062.0</td>\n",
       "      <td>22062.000000</td>\n",
       "    </tr>\n",
       "    <tr>\n",
       "      <th>mean</th>\n",
       "      <td>229457.140876</td>\n",
       "      <td>45.831566</td>\n",
       "      <td>0.512329</td>\n",
       "      <td>5.985405</td>\n",
       "      <td>1.041111</td>\n",
       "      <td>1.0</td>\n",
       "      <td>0.206225</td>\n",
       "    </tr>\n",
       "    <tr>\n",
       "      <th>std</th>\n",
       "      <td>131985.642155</td>\n",
       "      <td>19.227479</td>\n",
       "      <td>0.499859</td>\n",
       "      <td>2.247536</td>\n",
       "      <td>0.204402</td>\n",
       "      <td>0.0</td>\n",
       "      <td>0.113945</td>\n",
       "    </tr>\n",
       "    <tr>\n",
       "      <th>min</th>\n",
       "      <td>5.000000</td>\n",
       "      <td>7.000000</td>\n",
       "      <td>0.000000</td>\n",
       "      <td>1.000000</td>\n",
       "      <td>1.000000</td>\n",
       "      <td>1.0</td>\n",
       "      <td>0.058824</td>\n",
       "    </tr>\n",
       "    <tr>\n",
       "      <th>25%</th>\n",
       "      <td>115820.250000</td>\n",
       "      <td>30.000000</td>\n",
       "      <td>0.000000</td>\n",
       "      <td>4.000000</td>\n",
       "      <td>1.000000</td>\n",
       "      <td>1.0</td>\n",
       "      <td>0.142857</td>\n",
       "    </tr>\n",
       "    <tr>\n",
       "      <th>50%</th>\n",
       "      <td>230638.000000</td>\n",
       "      <td>46.000000</td>\n",
       "      <td>1.000000</td>\n",
       "      <td>6.000000</td>\n",
       "      <td>1.000000</td>\n",
       "      <td>1.0</td>\n",
       "      <td>0.166667</td>\n",
       "    </tr>\n",
       "    <tr>\n",
       "      <th>75%</th>\n",
       "      <td>342820.500000</td>\n",
       "      <td>61.000000</td>\n",
       "      <td>1.000000</td>\n",
       "      <td>7.000000</td>\n",
       "      <td>1.000000</td>\n",
       "      <td>1.0</td>\n",
       "      <td>0.250000</td>\n",
       "    </tr>\n",
       "    <tr>\n",
       "      <th>max</th>\n",
       "      <td>458392.000000</td>\n",
       "      <td>107.000000</td>\n",
       "      <td>1.000000</td>\n",
       "      <td>17.000000</td>\n",
       "      <td>3.000000</td>\n",
       "      <td>1.0</td>\n",
       "      <td>1.000000</td>\n",
       "    </tr>\n",
       "  </tbody>\n",
       "</table>\n",
       "</div>"
      ],
      "text/plain": [
       "             user_id           age        gender   impressions        clicks  \\\n",
       "count   22062.000000  22062.000000  22062.000000  22062.000000  22062.000000   \n",
       "mean   229457.140876     45.831566      0.512329      5.985405      1.041111   \n",
       "std    131985.642155     19.227479      0.499859      2.247536      0.204402   \n",
       "min         5.000000      7.000000      0.000000      1.000000      1.000000   \n",
       "25%    115820.250000     30.000000      0.000000      4.000000      1.000000   \n",
       "50%    230638.000000     46.000000      1.000000      6.000000      1.000000   \n",
       "75%    342820.500000     61.000000      1.000000      7.000000      1.000000   \n",
       "max    458392.000000    107.000000      1.000000     17.000000      3.000000   \n",
       "\n",
       "       signed_in           CTR  \n",
       "count    22062.0  22062.000000  \n",
       "mean         1.0      0.206225  \n",
       "std          0.0      0.113945  \n",
       "min          1.0      0.058824  \n",
       "25%          1.0      0.142857  \n",
       "50%          1.0      0.166667  \n",
       "75%          1.0      0.250000  \n",
       "max          1.0      1.000000  "
      ]
     },
     "execution_count": 120,
     "metadata": {},
     "output_type": "execute_result"
    }
   ],
   "source": [
    "nyt_df_signedin.describe()"
   ]
  },
  {
   "cell_type": "code",
   "execution_count": 117,
   "metadata": {
    "collapsed": false
   },
   "outputs": [
    {
     "data": {
      "image/png": "[encoded data removed]",
      "text/plain": [
       "<matplotlib.figure.Figure at 0x122e40a20>"
      ]
     },
     "metadata": {},
     "output_type": "display_data"
    }
   ],
   "source": [
    "#Not signed in users\n",
    "nyt_df_notsignedin.hist(figsize=(12,10),bins=50)\n",
    "plt.title('Signed in Users');"
   ]
  },
  {
   "cell_type": "code",
   "execution_count": 118,
   "metadata": {
    "collapsed": false
   },
   "outputs": [
    {
     "data": {
      "image/png": "[encoded data removed]",
      "text/plain": [
       "<matplotlib.figure.Figure at 0x12340cba8>"
      ]
     },
     "metadata": {},
     "output_type": "display_data"
    }
   ],
   "source": [
    "#Signed in users\n",
    "nyt_df_signedin.hist(figsize=(12,10),bins=50);"
   ]
  },
  {
   "cell_type": "markdown",
   "metadata": {},
   "source": [
    "## After looking at the users who are signed in compared to the users that are not signed in, we see that for users that are not signed in we can not collect gender or age information on them. We also can determine that the CTR for users that are not signed in is slightly higher than for user who are signed in."
   ]
  },
  {
   "cell_type": "markdown",
   "metadata": {},
   "source": [
    "5) Use a Welch's t-test to determine if the mean CTR between the signed-in users\n",
    "   and the non-signed-in users is statistically different. Explain how you\n",
    "   arrive at your conclusion.\n",
    "\n",
    "   The Welch's t-test assumes the two populations in which the samples are drawn from\n",
    "   have different variances.\n",
    "\n",
    "   ```python\n",
    "   scipy.stats.ttest_ind(a, b, equal_var=False)\n",
    "   ```"
   ]
  },
  {
   "cell_type": "code",
   "execution_count": 125,
   "metadata": {
    "collapsed": false
   },
   "outputs": [
    {
     "data": {
      "text/plain": [
       "Ttest_indResult(statistic=-9.2324531863201234, pvalue=2.7812630158568095e-20)"
      ]
     },
     "execution_count": 125,
     "metadata": {},
     "output_type": "execute_result"
    }
   ],
   "source": [
    "stats.ttest_ind(nyt_df_signedin.CTR , nyt_df_notsignedin.CTR ,equal_var=False )"
   ]
  },
  {
   "cell_type": "markdown",
   "metadata": {},
   "source": [
    "The p-value is less than .05 so there is a statistically significant different between CTRs of users who are signed in vs users who are not signed in. Users who are not signed in have a higher CTR."
   ]
  },
  {
   "cell_type": "markdown",
   "metadata": {},
   "source": [
    "\n",
    "6) Determine if the mean CTR between male users and female users is\n",
    "   statistically different. `Male: 1, Female: 0`\n"
   ]
  },
  {
   "cell_type": "code",
   "execution_count": 129,
   "metadata": {
    "collapsed": false
   },
   "outputs": [
    {
     "data": {
      "text/plain": [
       "Ttest_indResult(statistic=-5.7608794431366492, pvalue=8.4824646864926091e-09)"
      ]
     },
     "execution_count": 129,
     "metadata": {},
     "output_type": "execute_result"
    }
   ],
   "source": [
    "male = nyt_df[nyt_df.gender==1]\n",
    "female = nyt_df[nyt_df.gender==0]\n",
    "\n",
    "stats.ttest_ind(male.CTR, female.CTR ,equal_var=False )"
   ]
  },
  {
   "cell_type": "markdown",
   "metadata": {},
   "source": [
    "# Females have statistically higher CTRs than men."
   ]
  },
  {
   "cell_type": "code",
   "execution_count": 136,
   "metadata": {
    "collapsed": false
   },
   "outputs": [
    {
     "data": {
      "text/html": [
       "<div>\n",
       "<table border=\"1\" class=\"dataframe\">\n",
       "  <thead>\n",
       "    <tr style=\"text-align: right;\">\n",
       "      <th></th>\n",
       "      <th>user_id</th>\n",
       "      <th>age</th>\n",
       "      <th>gender</th>\n",
       "      <th>impressions</th>\n",
       "      <th>clicks</th>\n",
       "      <th>signed_in</th>\n",
       "      <th>CTR</th>\n",
       "    </tr>\n",
       "  </thead>\n",
       "  <tbody>\n",
       "    <tr>\n",
       "      <th>count</th>\n",
       "      <td>11303.000000</td>\n",
       "      <td>11303.000000</td>\n",
       "      <td>11303.0</td>\n",
       "      <td>11303.000000</td>\n",
       "      <td>11303.000000</td>\n",
       "      <td>11303.0</td>\n",
       "      <td>11303.000000</td>\n",
       "    </tr>\n",
       "    <tr>\n",
       "      <th>mean</th>\n",
       "      <td>228884.286561</td>\n",
       "      <td>43.511546</td>\n",
       "      <td>1.0</td>\n",
       "      <td>5.996107</td>\n",
       "      <td>1.041936</td>\n",
       "      <td>1.0</td>\n",
       "      <td>0.205824</td>\n",
       "    </tr>\n",
       "    <tr>\n",
       "      <th>std</th>\n",
       "      <td>131872.100004</td>\n",
       "      <td>18.828159</td>\n",
       "      <td>0.0</td>\n",
       "      <td>2.243610</td>\n",
       "      <td>0.207820</td>\n",
       "      <td>0.0</td>\n",
       "      <td>0.114584</td>\n",
       "    </tr>\n",
       "    <tr>\n",
       "      <th>min</th>\n",
       "      <td>75.000000</td>\n",
       "      <td>8.000000</td>\n",
       "      <td>1.0</td>\n",
       "      <td>1.000000</td>\n",
       "      <td>1.000000</td>\n",
       "      <td>1.0</td>\n",
       "      <td>0.058824</td>\n",
       "    </tr>\n",
       "    <tr>\n",
       "      <th>25%</th>\n",
       "      <td>117022.000000</td>\n",
       "      <td>27.000000</td>\n",
       "      <td>1.0</td>\n",
       "      <td>4.000000</td>\n",
       "      <td>1.000000</td>\n",
       "      <td>1.0</td>\n",
       "      <td>0.142857</td>\n",
       "    </tr>\n",
       "    <tr>\n",
       "      <th>50%</th>\n",
       "      <td>228586.000000</td>\n",
       "      <td>43.000000</td>\n",
       "      <td>1.0</td>\n",
       "      <td>6.000000</td>\n",
       "      <td>1.000000</td>\n",
       "      <td>1.0</td>\n",
       "      <td>0.166667</td>\n",
       "    </tr>\n",
       "    <tr>\n",
       "      <th>75%</th>\n",
       "      <td>342644.500000</td>\n",
       "      <td>59.000000</td>\n",
       "      <td>1.0</td>\n",
       "      <td>7.000000</td>\n",
       "      <td>1.000000</td>\n",
       "      <td>1.0</td>\n",
       "      <td>0.250000</td>\n",
       "    </tr>\n",
       "    <tr>\n",
       "      <th>max</th>\n",
       "      <td>458268.000000</td>\n",
       "      <td>107.000000</td>\n",
       "      <td>1.0</td>\n",
       "      <td>17.000000</td>\n",
       "      <td>3.000000</td>\n",
       "      <td>1.0</td>\n",
       "      <td>1.000000</td>\n",
       "    </tr>\n",
       "  </tbody>\n",
       "</table>\n",
       "</div>"
      ],
      "text/plain": [
       "             user_id           age   gender   impressions        clicks  \\\n",
       "count   11303.000000  11303.000000  11303.0  11303.000000  11303.000000   \n",
       "mean   228884.286561     43.511546      1.0      5.996107      1.041936   \n",
       "std    131872.100004     18.828159      0.0      2.243610      0.207820   \n",
       "min        75.000000      8.000000      1.0      1.000000      1.000000   \n",
       "25%    117022.000000     27.000000      1.0      4.000000      1.000000   \n",
       "50%    228586.000000     43.000000      1.0      6.000000      1.000000   \n",
       "75%    342644.500000     59.000000      1.0      7.000000      1.000000   \n",
       "max    458268.000000    107.000000      1.0     17.000000      3.000000   \n",
       "\n",
       "       signed_in           CTR  \n",
       "count    11303.0  11303.000000  \n",
       "mean         1.0      0.205824  \n",
       "std          0.0      0.114584  \n",
       "min          1.0      0.058824  \n",
       "25%          1.0      0.142857  \n",
       "50%          1.0      0.166667  \n",
       "75%          1.0      0.250000  \n",
       "max          1.0      1.000000  "
      ]
     },
     "execution_count": 136,
     "metadata": {},
     "output_type": "execute_result"
    }
   ],
   "source": [
    "male.describe()\n"
   ]
  },
  {
   "cell_type": "code",
   "execution_count": 137,
   "metadata": {
    "collapsed": false
   },
   "outputs": [
    {
     "data": {
      "text/html": [
       "<div>\n",
       "<table border=\"1\" class=\"dataframe\">\n",
       "  <thead>\n",
       "    <tr style=\"text-align: right;\">\n",
       "      <th></th>\n",
       "      <th>user_id</th>\n",
       "      <th>age</th>\n",
       "      <th>gender</th>\n",
       "      <th>impressions</th>\n",
       "      <th>clicks</th>\n",
       "      <th>signed_in</th>\n",
       "      <th>CTR</th>\n",
       "    </tr>\n",
       "  </thead>\n",
       "  <tbody>\n",
       "    <tr>\n",
       "      <th>count</th>\n",
       "      <td>28535.000000</td>\n",
       "      <td>28535.000000</td>\n",
       "      <td>28535.0</td>\n",
       "      <td>28535.000000</td>\n",
       "      <td>28535.000000</td>\n",
       "      <td>28535.000000</td>\n",
       "      <td>28535.000000</td>\n",
       "    </tr>\n",
       "    <tr>\n",
       "      <th>mean</th>\n",
       "      <td>229064.500648</td>\n",
       "      <td>18.199579</td>\n",
       "      <td>0.0</td>\n",
       "      <td>5.941966</td>\n",
       "      <td>1.074890</td>\n",
       "      <td>0.377046</td>\n",
       "      <td>0.213233</td>\n",
       "    </tr>\n",
       "    <tr>\n",
       "      <th>std</th>\n",
       "      <td>132712.287792</td>\n",
       "      <td>26.235705</td>\n",
       "      <td>0.0</td>\n",
       "      <td>2.230889</td>\n",
       "      <td>0.280868</td>\n",
       "      <td>0.484655</td>\n",
       "      <td>0.118533</td>\n",
       "    </tr>\n",
       "    <tr>\n",
       "      <th>min</th>\n",
       "      <td>5.000000</td>\n",
       "      <td>0.000000</td>\n",
       "      <td>0.0</td>\n",
       "      <td>1.000000</td>\n",
       "      <td>1.000000</td>\n",
       "      <td>0.000000</td>\n",
       "      <td>0.058824</td>\n",
       "    </tr>\n",
       "    <tr>\n",
       "      <th>25%</th>\n",
       "      <td>113330.500000</td>\n",
       "      <td>0.000000</td>\n",
       "      <td>0.0</td>\n",
       "      <td>4.000000</td>\n",
       "      <td>1.000000</td>\n",
       "      <td>0.000000</td>\n",
       "      <td>0.142857</td>\n",
       "    </tr>\n",
       "    <tr>\n",
       "      <th>50%</th>\n",
       "      <td>229913.000000</td>\n",
       "      <td>0.000000</td>\n",
       "      <td>0.0</td>\n",
       "      <td>6.000000</td>\n",
       "      <td>1.000000</td>\n",
       "      <td>0.000000</td>\n",
       "      <td>0.181818</td>\n",
       "    </tr>\n",
       "    <tr>\n",
       "      <th>75%</th>\n",
       "      <td>343754.000000</td>\n",
       "      <td>38.000000</td>\n",
       "      <td>0.0</td>\n",
       "      <td>7.000000</td>\n",
       "      <td>1.000000</td>\n",
       "      <td>1.000000</td>\n",
       "      <td>0.250000</td>\n",
       "    </tr>\n",
       "    <tr>\n",
       "      <th>max</th>\n",
       "      <td>458413.000000</td>\n",
       "      <td>99.000000</td>\n",
       "      <td>0.0</td>\n",
       "      <td>17.000000</td>\n",
       "      <td>4.000000</td>\n",
       "      <td>1.000000</td>\n",
       "      <td>1.000000</td>\n",
       "    </tr>\n",
       "  </tbody>\n",
       "</table>\n",
       "</div>"
      ],
      "text/plain": [
       "             user_id           age   gender   impressions        clicks  \\\n",
       "count   28535.000000  28535.000000  28535.0  28535.000000  28535.000000   \n",
       "mean   229064.500648     18.199579      0.0      5.941966      1.074890   \n",
       "std    132712.287792     26.235705      0.0      2.230889      0.280868   \n",
       "min         5.000000      0.000000      0.0      1.000000      1.000000   \n",
       "25%    113330.500000      0.000000      0.0      4.000000      1.000000   \n",
       "50%    229913.000000      0.000000      0.0      6.000000      1.000000   \n",
       "75%    343754.000000     38.000000      0.0      7.000000      1.000000   \n",
       "max    458413.000000     99.000000      0.0     17.000000      4.000000   \n",
       "\n",
       "          signed_in           CTR  \n",
       "count  28535.000000  28535.000000  \n",
       "mean       0.377046      0.213233  \n",
       "std        0.484655      0.118533  \n",
       "min        0.000000      0.058824  \n",
       "25%        0.000000      0.142857  \n",
       "50%        0.000000      0.181818  \n",
       "75%        1.000000      0.250000  \n",
       "max        1.000000      1.000000  "
      ]
     },
     "execution_count": 137,
     "metadata": {},
     "output_type": "execute_result"
    }
   ],
   "source": [
    "female.describe()"
   ]
  },
  {
   "cell_type": "markdown",
   "metadata": {},
   "source": [
    "#### Hint\n",
    "\n",
    "Some functions that may be useful to you:\n",
    "\n",
    "- From the `numpy` package:\n",
    "    - `sqrt`\n",
    "    - `array`\n",
    "- From the `yaml` package:\n",
    "    - `load` - to load Postgres credentials\n",
    "- From the `sqlalchemy` package:\n",
    "    - `create_engine` - to connect to Postgres\n",
    "- From the `pandas` package:\n",
    "    - `read_sql`\n",
    "    - `read_sql_table`\n",
    "- From the `scipy` package:\n",
    "    - `stats.norm.cdf`\n",
    "    - `stats.t.interval`\n",
    "    - `stats.ttest_1samp`\n",
    "    - `stats.ttest_ind`"
   ]
  }
 ],
 "metadata": {
  "anaconda-cloud": {},
  "kernelspec": {
   "display_name": "Python [Root]",
   "language": "python",
   "name": "Python [Root]"
  },
  "language_info": {
   "codemirror_mode": {
    "name": "ipython",
    "version": 3
   },
   "file_extension": ".py",
   "mimetype": "text/x-python",
   "name": "python",
   "nbconvert_exporter": "python",
   "pygments_lexer": "ipython3",
   "version": "3.5.2"
  }
 },
 "nbformat": 4,
 "nbformat_minor": 0
}
