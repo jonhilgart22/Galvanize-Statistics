{
 "cells": [
  {
   "cell_type": "markdown",
   "metadata": {},
   "source": [
    "## Outline\n",
    "\n",
    "- Null / Alternative Hypothesis\n",
    "- One sample t-test / z-test\n",
    "- p-value and Significance Level\n",
    "- Python for One sample t-test / z-test"
   ]
  },
  {
   "cell_type": "markdown",
   "metadata": {},
   "source": [
    "**Question 1**\n",
    "\n",
    "State the null hypothesis and the alternative hypothesis for the following scenarios:\n",
    "\n",
    "1. A burger place claims the fat content of their bugers is no more than 20%. You have collected a sample of burgers to verify the claim.\n",
    "\n",
    "   <br>\n",
    "   \n",
    "2. With a month to go in the election, the opinion poll shows that the Democrate candidate is leading with 55% support. You want to know if the true percentage is different from 55%.\n",
    "\n",
    "   <br>\n",
    "   \n",
    "3. Apple Inc. is interested to find out if the battery life of a Macbook Pro that has been used for a month is more than 48 hours."
   ]
  },
  {
   "cell_type": "markdown",
   "metadata": {},
   "source": [
    "**Question 2**\n",
    "\n",
    "For each of the scenarios in **Question 1**, decide if you would use a one-sample t-test or a z-test to test your null hypothesis."
   ]
  },
  {
   "cell_type": "markdown",
   "metadata": {},
   "source": [
    "**Question 3**\n",
    "\n",
    "Given a set of real data, you can conduct a **t-test** and **z-test** in Python:\n",
    "\n",
    "- **t-test** (documentation [here](http://docs.scipy.org/doc/scipy-0.14.0/reference/generated/scipy.stats.ttest_1samp.html))\n",
    "  ```python\n",
    "  from scipy.stats import ttest_1samp\n",
    "  t_statistic, two_tailed_p_value = ttest_1samp(sample, null_mean)\n",
    "  ```\n",
    "\n",
    "- **z-test** (documentation [here](http://statsmodels.sourceforge.net/devel/generated/statsmodels.stats.proportion.proportions_ztest.html#statsmodels.stats.proportion.proportions_ztest))\n",
    "  ```python\n",
    "  from statsmodels.stats.proportion import proportions_ztest\n",
    "  z_statistic, two_tailed_p_value = proportions_ztest(count_of_success_in_sample, num_of trials, \n",
    "                                                       null_proportion)\n",
    "  ```\n",
    "\n",
    "\n",
    "Compute the p-values and draw conclusions about hypothesis tests for the scenarios listed in **Question 1**. You are provided the data for each of the scenarios below.\n",
    "\n",
    "1. https://s3-us-west-2.amazonaws.com/dsci/6002/data/fat_content.csv\n",
    "2. https://s3-us-west-2.amazonaws.com/dsci/6002/data/election.csv\n",
    "3. https://s3-us-west-2.amazonaws.com/dsci/6002/data/battery_life.csv"
   ]
  },
  {
   "cell_type": "markdown",
   "metadata": {},
   "source": [
    "**Question 4**\n",
    "\n",
    "A diet doctor claims that the average American is more than 10 pounds overweight. To test his claim, a random sample of 50 Americans was weighed, and the difference between their actual weight and their ideal weight was calculated. He found that $\\bar{x} = 11.5$ and $s = 2.2$ pounds. \n",
    "\n",
    "1) Can we conclude that the doctor’s claim is true?  \n",
    "\n",
    "2) What are the Type I and Type II errors?  \n",
    "\n",
    "3) Suppose that the average American is about 13 pounds overweight, what is the power of the above test?"
   ]
  },
  {
   "cell_type": "markdown",
   "metadata": {},
   "source": [
    "**Question 5**\n",
    "\n",
    "A company that claims the average time a customer waits on hold is less than 5 minutes. A sample of 35 customers has an average wait time of 4.78 minutes with a standard deviation for wait time is 1.8 minutes. Test the company's claim."
   ]
  },
  {
   "cell_type": "markdown",
   "metadata": {},
   "source": [
    "**Question 6**\n",
    "\n",
    "The manufacturer of the Bic Extended Lighter claims that it lights on the first time 75% of the time. Test this claim.  \n",
    "Suppose we make 300 attempts and the lighter lights on the first try 214 times."
   ]
  },
  {
   "cell_type": "markdown",
   "metadata": {},
   "source": [
    "**Question 7**  \n",
    "\n",
    "A government bureau claims that more than 50% of U.S. tax returns were filed electronically last year.  \n",
    "A random sample of 150 tax returns for last year contained 86 that were filed electronically. \n",
    "\n",
    "Test the government's claim and state the Type I and Type II errors of the test."
   ]
  }
 ],
 "metadata": {
  "anaconda-cloud": {},
  "kernelspec": {
   "display_name": "Python [Root]",
   "language": "python",
   "name": "Python [Root]"
  },
  "language_info": {
   "codemirror_mode": {
    "name": "ipython",
    "version": 3
   },
   "file_extension": ".py",
   "mimetype": "text/x-python",
   "name": "python",
   "nbconvert_exporter": "python",
   "pygments_lexer": "ipython3",
   "version": "3.5.2"
  }
 },
 "nbformat": 4,
 "nbformat_minor": 0
}
