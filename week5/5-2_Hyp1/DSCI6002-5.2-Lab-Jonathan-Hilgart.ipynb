{
 "cells": [
  {
   "cell_type": "markdown",
   "metadata": {},
   "source": [
    "## Outline\n",
    "\n",
    "- Null / Alternative Hypothesis\n",
    "- One sample t-test / z-test\n",
    "- p-value and Significance Level\n",
    "- Python for One sample t-test / z-test"
   ]
  },
  {
   "cell_type": "markdown",
   "metadata": {},
   "source": [
    "**Question 1**\n",
    "\n",
    "State the null hypothesis and the alternative hypothesis for the following scenarios:\n",
    "\n",
    "1. A burger place claims the fat content of their bugers is no more than 20%. You have collected a sample of burgers to verify the claim.\n",
    "\n",
    "   <br>\n",
    "   \n",
    "2. With a month to go in the election, the opinion poll shows that the Democrate candidate is leading with 55% support. You want to know if the true percentage is different from 55%.\n",
    "\n",
    "   <br>\n",
    "   \n",
    "3. Apple Inc. is interested to find out if the battery life of a Macbook Pro that has been used for a month is more than 48 hours."
   ]
  },
  {
   "cell_type": "markdown",
   "metadata": {},
   "source": [
    "1) Ho = Fat content  =20%\n",
    "\n",
    "1) Ha = Fat content > 20%\n",
    "\n",
    "\n",
    "2) Ho = Support for Democratic candidate is 55%\n",
    "\n",
    "2) Ha = Supperf for democratic candidate is either less than or greater than 55%\n",
    "\n",
    "\n",
    "3) Ho = Battery life for Maxbook Pro is 48 hours\n",
    "\n",
    "3) Ha = Battery life for Maxbook Pro is greater than 48 hours"
   ]
  },
  {
   "cell_type": "markdown",
   "metadata": {},
   "source": [
    "**Question 2**\n",
    "\n",
    "For each of the scenarios in **Question 1**, decide if you would use a one-sample t-test or a z-test to test your null hypothesis."
   ]
  },
  {
   "cell_type": "markdown",
   "metadata": {},
   "source": [
    "1) Use a one sample t-test because you are collecting a sample of burgers.\n",
    "\n",
    "2) Use a z-test because you are looking at the population parameter for percent of people that support the candidate.\n",
    "\n",
    "3) This depends on whether you are going to look at the entire population of Macbooks or not. Most likely, you will collect a sample and use a t-test to test your null hypothesis.\n"
   ]
  },
  {
   "cell_type": "markdown",
   "metadata": {},
   "source": [
    "**Question 3**\n",
    "\n",
    "Given a set of real data, you can conduct a **t-test** and **z-test** in Python:\n",
    "\n",
    "- **t-test** (documentation [here](http://docs.scipy.org/doc/scipy-0.14.0/reference/generated/scipy.stats.ttest_1samp.html))\n",
    "  ```python\n",
    "  from scipy.stats import ttest_1samp\n",
    "  t_statistic, two_tailed_p_value = ttest_1samp(sample, null_mean)\n",
    "  ```\n",
    "\n",
    "- **z-test** (documentation [here](http://statsmodels.sourceforge.net/devel/generated/statsmodels.stats.proportion.proportions_ztest.html#statsmodels.stats.proportion.proportions_ztest))\n",
    "  ```python\n",
    "  from statsmodels.stats.proportion import proportions_ztest\n",
    "  z_statistic, two_tailed_p_value = proportions_ztest(count_of_success_in_sample, num_of trials, \n",
    "                                                       null_proportion)\n",
    "  ```\n",
    "\n",
    "\n",
    "Compute the p-values and draw conclusions about hypothesis tests for the scenarios listed in **Question 1**. You are provided the data for each of the scenarios below.\n",
    "\n",
    "1. https://s3-us-west-2.amazonaws.com/dsci/6002/data/fat_content.csv\n",
    "2. https://s3-us-west-2.amazonaws.com/dsci/6002/data/election.csv\n",
    "3. https://s3-us-west-2.amazonaws.com/dsci/6002/data/battery_life.csv"
   ]
  },
  {
   "cell_type": "code",
   "execution_count": 5,
   "metadata": {
    "collapsed": true
   },
   "outputs": [],
   "source": [
    "import pandas as pd\n",
    "data_fat = pd.read_csv('https://s3-us-west-2.amazonaws.com/dsci/6002/data/fat_content.csv')\n",
    "data_fat_df = pd.DataFrame(data_fat)"
   ]
  },
  {
   "cell_type": "code",
   "execution_count": 14,
   "metadata": {
    "collapsed": false
   },
   "outputs": [
    {
     "data": {
      "text/html": [
       "<div>\n",
       "<table border=\"1\" class=\"dataframe\">\n",
       "  <thead>\n",
       "    <tr style=\"text-align: right;\">\n",
       "      <th></th>\n",
       "      <th>0</th>\n",
       "    </tr>\n",
       "  </thead>\n",
       "  <tbody>\n",
       "    <tr>\n",
       "      <th>count</th>\n",
       "      <td>40.000000</td>\n",
       "    </tr>\n",
       "    <tr>\n",
       "      <th>mean</th>\n",
       "      <td>20.417717</td>\n",
       "    </tr>\n",
       "    <tr>\n",
       "      <th>std</th>\n",
       "      <td>3.226401</td>\n",
       "    </tr>\n",
       "    <tr>\n",
       "      <th>min</th>\n",
       "      <td>13.472306</td>\n",
       "    </tr>\n",
       "    <tr>\n",
       "      <th>25%</th>\n",
       "      <td>18.712313</td>\n",
       "    </tr>\n",
       "    <tr>\n",
       "      <th>50%</th>\n",
       "      <td>20.168546</td>\n",
       "    </tr>\n",
       "    <tr>\n",
       "      <th>75%</th>\n",
       "      <td>22.342736</td>\n",
       "    </tr>\n",
       "    <tr>\n",
       "      <th>max</th>\n",
       "      <td>29.325092</td>\n",
       "    </tr>\n",
       "  </tbody>\n",
       "</table>\n",
       "</div>"
      ],
      "text/plain": [
       "               0\n",
       "count  40.000000\n",
       "mean   20.417717\n",
       "std     3.226401\n",
       "min    13.472306\n",
       "25%    18.712313\n",
       "50%    20.168546\n",
       "75%    22.342736\n",
       "max    29.325092"
      ]
     },
     "execution_count": 14,
     "metadata": {},
     "output_type": "execute_result"
    }
   ],
   "source": [
    "data_fat_df.describe()"
   ]
  },
  {
   "cell_type": "code",
   "execution_count": 13,
   "metadata": {
    "collapsed": true
   },
   "outputs": [],
   "source": [
    "from scipy.stats import ttest_1samp"
   ]
  },
  {
   "cell_type": "code",
   "execution_count": 65,
   "metadata": {
    "collapsed": false
   },
   "outputs": [],
   "source": [
    "t_statistic, two_tailed_p_value = ttest_1samp(data_fat_df, 20)\n",
    "\n",
    "one_tailed_p_value = two_tailed_p_value/2 ### p-value for one sided test\n",
    "\n",
    "\n"
   ]
  },
  {
   "cell_type": "code",
   "execution_count": 66,
   "metadata": {
    "collapsed": false
   },
   "outputs": [
    {
     "name": "stdout",
     "output_type": "stream",
     "text": [
      "[ 0.20892925] one_tailed_p_value is greater than 5% so we fail to reject the null\n"
     ]
    }
   ],
   "source": [
    "print( one_tailed_p_value, 'one_tailed_p_value is greater than 5% so we fail to reject the null')"
   ]
  },
  {
   "cell_type": "markdown",
   "metadata": {},
   "source": [
    "# Part Two"
   ]
  },
  {
   "cell_type": "code",
   "execution_count": 8,
   "metadata": {
    "collapsed": true
   },
   "outputs": [],
   "source": [
    "import pandas as pd\n",
    "election = pd.read_csv('https://s3-us-west-2.amazonaws.com/dsci/6002/data/election.csv')\n",
    "election_df = pd.DataFrame(election)"
   ]
  },
  {
   "cell_type": "code",
   "execution_count": 110,
   "metadata": {
    "collapsed": false
   },
   "outputs": [
    {
     "data": {
      "text/plain": [
       "0    201\n",
       "dtype: int64"
      ]
     },
     "execution_count": 110,
     "metadata": {},
     "output_type": "execute_result"
    }
   ],
   "source": [
    "#Number of successes\n",
    "election_df[election_df==1].count()"
   ]
  },
  {
   "cell_type": "code",
   "execution_count": 29,
   "metadata": {
    "collapsed": false
   },
   "outputs": [],
   "source": [
    "from statsmodels.stats.proportion import proportions_ztest\n"
   ]
  },
  {
   "cell_type": "code",
   "execution_count": 75,
   "metadata": {
    "collapsed": true
   },
   "outputs": [],
   "source": [
    "z_statistic, two_tailed_p_value = proportions_ztest(201, 500, \n",
    "                                                     .55)\n",
    "\n"
   ]
  },
  {
   "cell_type": "code",
   "execution_count": 76,
   "metadata": {
    "collapsed": false
   },
   "outputs": [
    {
     "name": "stdout",
     "output_type": "stream",
     "text": [
      "-6.74967868609 1.48172925761e-11 The p-value is smaller than .05 so we reject the null hypothesis.\n"
     ]
    }
   ],
   "source": [
    "print(z_statistic,two_tailed_p_value,\"The p-value is smaller than .05 so we reject the null hypothesis.\")"
   ]
  },
  {
   "cell_type": "markdown",
   "metadata": {},
   "source": [
    "# Part Three"
   ]
  },
  {
   "cell_type": "code",
   "execution_count": 11,
   "metadata": {
    "collapsed": true
   },
   "outputs": [],
   "source": [
    "import pandas as pd\n",
    "battery_life = pd.read_csv('https://s3-us-west-2.amazonaws.com/dsci/6002/data/battery_life.csv')\n",
    "battery_life_df = pd.DataFrame(battery_life)"
   ]
  },
  {
   "cell_type": "code",
   "execution_count": 44,
   "metadata": {
    "collapsed": false
   },
   "outputs": [
    {
     "data": {
      "text/html": [
       "<div>\n",
       "<table border=\"1\" class=\"dataframe\">\n",
       "  <thead>\n",
       "    <tr style=\"text-align: right;\">\n",
       "      <th></th>\n",
       "      <th>0</th>\n",
       "    </tr>\n",
       "  </thead>\n",
       "  <tbody>\n",
       "    <tr>\n",
       "      <th>0</th>\n",
       "      <td>49.713350</td>\n",
       "    </tr>\n",
       "    <tr>\n",
       "      <th>1</th>\n",
       "      <td>48.755424</td>\n",
       "    </tr>\n",
       "    <tr>\n",
       "      <th>2</th>\n",
       "      <td>51.354664</td>\n",
       "    </tr>\n",
       "    <tr>\n",
       "      <th>3</th>\n",
       "      <td>47.341264</td>\n",
       "    </tr>\n",
       "    <tr>\n",
       "      <th>4</th>\n",
       "      <td>47.151919</td>\n",
       "    </tr>\n",
       "  </tbody>\n",
       "</table>\n",
       "</div>"
      ],
      "text/plain": [
       "           0\n",
       "0  49.713350\n",
       "1  48.755424\n",
       "2  51.354664\n",
       "3  47.341264\n",
       "4  47.151919"
      ]
     },
     "execution_count": 44,
     "metadata": {},
     "output_type": "execute_result"
    }
   ],
   "source": [
    "battery_life_df.head()"
   ]
  },
  {
   "cell_type": "code",
   "execution_count": 67,
   "metadata": {
    "collapsed": true
   },
   "outputs": [],
   "source": [
    "t_statistic_macs, two_tailed_p_value_macs = ttest_1samp(battery_life_df, 48)\n",
    "one_tailed_p_value_macs = two_tailed_p_value_macs/2"
   ]
  },
  {
   "cell_type": "code",
   "execution_count": 68,
   "metadata": {
    "collapsed": false
   },
   "outputs": [
    {
     "name": "stdout",
     "output_type": "stream",
     "text": [
      "[  2.99833209e-11] p\n"
     ]
    }
   ],
   "source": [
    "print(one_tailed_p_value_macs,'p')"
   ]
  },
  {
   "cell_type": "markdown",
   "metadata": {},
   "source": [
    "**Question 4**\n",
    "\n",
    "A diet doctor claims that the average American is more than 10 pounds overweight. To test his claim, a random sample of 50 Americans was weighed, and the difference between their actual weight and their ideal weight was calculated. He found that $\\bar{x} = 11.5$ and $s = 2.2$ pounds. \n",
    "\n",
    "1) Can we conclude that the doctor’s claim is true?  \n",
    "\n",
    "2) What are the Type I and Type II errors?  \n",
    "\n",
    "3) Suppose that the average American is about 13 pounds overweight, what is the power of the above test?"
   ]
  },
  {
   "cell_type": "markdown",
   "metadata": {},
   "source": [
    "Ho = 10 pounds\n",
    "Ha = > 10 pounds\n",
    "\n"
   ]
  },
  {
   "cell_type": "code",
   "execution_count": 1,
   "metadata": {
    "collapsed": false
   },
   "outputs": [
    {
     "data": {
      "text/plain": [
       "0.3111269837220809"
      ]
     },
     "execution_count": 1,
     "metadata": {},
     "output_type": "execute_result"
    }
   ],
   "source": [
    "from math import sqrt\n",
    "from scipy import stats\n",
    "SE = 2.2/sqrt(50)\n",
    "\n",
    "SE"
   ]
  },
  {
   "cell_type": "code",
   "execution_count": 14,
   "metadata": {
    "collapsed": false
   },
   "outputs": [
    {
     "data": {
      "text/plain": [
       "4.821182598999187"
      ]
     },
     "execution_count": 14,
     "metadata": {},
     "output_type": "execute_result"
    }
   ],
   "source": [
    "t_stat = (13-11.5) / SE\n",
    "t_stat"
   ]
  },
  {
   "cell_type": "code",
   "execution_count": 16,
   "metadata": {
    "collapsed": false
   },
   "outputs": [
    {
     "data": {
      "text/plain": [
       "0.99999287825709871"
      ]
     },
     "execution_count": 16,
     "metadata": {},
     "output_type": "execute_result"
    }
   ],
   "source": [
    "stats.t(49).cdf(t_stat)"
   ]
  },
  {
   "cell_type": "markdown",
   "metadata": {},
   "source": [
    "###### We reject the null hypothesis that that mean weight of Americans is 10 pounds or less overweight. "
   ]
  },
  {
   "cell_type": "markdown",
   "metadata": {},
   "source": [
    "Our type one error is the chance that we will reject the null hypothesis when the null hypothesis is true. For this question we are using an alpha of 5% which is our type one error.\n",
    "\n",
    "\n",
    "Our type two error is the chance that we fail to reject the null hypothesis when the null hypothesis is false."
   ]
  },
  {
   "cell_type": "markdown",
   "metadata": {},
   "source": [
    "stats.t(35).cdf((x_bar - 29)/(6.6 / 36**0.5))"
   ]
  },
  {
   "cell_type": "code",
   "execution_count": 81,
   "metadata": {
    "collapsed": false
   },
   "outputs": [
    {
     "data": {
      "text/plain": [
       "3.3251179587523438e-13"
      ]
     },
     "execution_count": 81,
     "metadata": {},
     "output_type": "execute_result"
    }
   ],
   "source": [
    "new_t = (13-10)/SE\n",
    "\n",
    "1-stats.t(49).cdf(new_t)"
   ]
  },
  {
   "cell_type": "markdown",
   "metadata": {},
   "source": [
    "**Question 5**\n",
    "\n",
    "A company that claims the average time a customer waits on hold is less than 5 minutes. A sample of 35 customers has an average wait time of 4.78 minutes with a standard deviation for wait time is 1.8 minutes. Test the company's claim."
   ]
  },
  {
   "cell_type": "markdown",
   "metadata": {},
   "source": [
    "null = 5 minutes\n",
    "alternative > 5 minutes"
   ]
  },
  {
   "cell_type": "code",
   "execution_count": 90,
   "metadata": {
    "collapsed": false
   },
   "outputs": [
    {
     "data": {
      "text/plain": [
       "0.76271093579430094"
      ]
     },
     "execution_count": 90,
     "metadata": {},
     "output_type": "execute_result"
    }
   ],
   "source": [
    "n =  35\n",
    "mean = 4.78\n",
    "null = 5\n",
    "s = 1.8\n",
    "s_e_five = 1.8/sqrt(n)\n",
    "t_stat = (mean-null)/s_e_five\n",
    "\n",
    "p_value_five = 1-stats.t(34).cdf(t_stat)\n",
    "p_value_five"
   ]
  },
  {
   "cell_type": "code",
   "execution_count": 88,
   "metadata": {
    "collapsed": true
   },
   "outputs": [],
   "source": [
    "#stats.t.sf()\n",
    "\n",
    "#t_statistic_five, two_tailed_p_value_five = ttest_1samp(battery_life_df, 48)"
   ]
  },
  {
   "cell_type": "markdown",
   "metadata": {},
   "source": [
    "**Question 6**\n",
    "\n",
    "The manufacturer of the Bic Extended Lighter claims that it lights on the first time 75% of the time. Test this claim.  \n",
    "Suppose we make 300 attempts and the lighter lights on the first try 214 times."
   ]
  },
  {
   "cell_type": "markdown",
   "metadata": {},
   "source": [
    "Ho = .75\n",
    "Ha != .75"
   ]
  },
  {
   "cell_type": "code",
   "execution_count": 25,
   "metadata": {
    "collapsed": false
   },
   "outputs": [
    {
     "name": "stdout",
     "output_type": "stream",
     "text": [
      "0.142466754828 p-value\n"
     ]
    }
   ],
   "source": [
    "print(stats.norm().cdf(z_score_six)*2,'p-value')"
   ]
  },
  {
   "cell_type": "code",
   "execution_count": 23,
   "metadata": {
    "collapsed": false
   },
   "outputs": [
    {
     "data": {
      "text/plain": [
       "-1.4666666666666652"
      ]
     },
     "execution_count": 23,
     "metadata": {},
     "output_type": "execute_result"
    }
   ],
   "source": [
    "std_six = sqrt(.75*(1-.75))\n",
    "mean = .75\n",
    "alternative = 214/300.0\n",
    "ste_six = std_six / sqrt(300)\n",
    "\n",
    "z_score_six = (alternative-mean)/ste_six\n",
    "#(stats.z(299).cdf(-t_stat_six))\n",
    "\n",
    "z_score_six"
   ]
  },
  {
   "cell_type": "code",
   "execution_count": 24,
   "metadata": {
    "collapsed": false
   },
   "outputs": [
    {
     "name": "stdout",
     "output_type": "stream",
     "text": [
      "0.142466754828 p-value\n"
     ]
    }
   ],
   "source": [
    "print((stats.norm.cdf(z_score_six)) + 1-(stats.norm().cdf(-z_score_six)),'p-value')\n",
    "#The p-value is greater than .05 so we fail to reject the null hypothesis"
   ]
  },
  {
   "cell_type": "code",
   "execution_count": 104,
   "metadata": {
    "collapsed": false
   },
   "outputs": [],
   "source": [
    "#t_statistic, two_tailed_p_value = ttest_1samp(214/300, .75)"
   ]
  },
  {
   "cell_type": "markdown",
   "metadata": {},
   "source": [
    "**Question 7**  \n",
    "\n",
    "A government bureau claims that more than 50% of U.S. tax returns were filed electronically last year.  \n",
    "A random sample of 150 tax returns for last year contained 86 that were filed electronically. \n",
    "\n",
    "Test the government's claim and state the Type I and Type II errors of the test."
   ]
  },
  {
   "cell_type": "markdown",
   "metadata": {},
   "source": [
    "\n",
    "Ho = .50\n",
    "Ha <= .50\n"
   ]
  },
  {
   "cell_type": "code",
   "execution_count": 105,
   "metadata": {
    "collapsed": true
   },
   "outputs": [],
   "source": [
    "std_seven = sqrt(.50*(1-.50))\n",
    "mean = .50\n",
    "alternative = 86/150\n",
    "ste_seven = std_seven/sqrt(150)\n",
    "\n",
    "t_stat_seven = (alternative - mean)/ste_seven"
   ]
  },
  {
   "cell_type": "code",
   "execution_count": 125,
   "metadata": {
    "collapsed": false
   },
   "outputs": [
    {
     "data": {
      "text/plain": [
       "1.796292478040998"
      ]
     },
     "execution_count": 125,
     "metadata": {},
     "output_type": "execute_result"
    }
   ],
   "source": [
    "t_stat_seven"
   ]
  },
  {
   "cell_type": "code",
   "execution_count": 128,
   "metadata": {
    "collapsed": false
   },
   "outputs": [
    {
     "data": {
      "text/plain": [
       "0.037237015212572715"
      ]
     },
     "execution_count": 128,
     "metadata": {},
     "output_type": "execute_result"
    }
   ],
   "source": [
    "stats.t(149).cdf(-t_stat_seven)"
   ]
  },
  {
   "cell_type": "markdown",
   "metadata": {},
   "source": [
    "Using an alpha of 5%, this is our Type 1 error."
   ]
  },
  {
   "cell_type": "code",
   "execution_count": null,
   "metadata": {
    "collapsed": false
   },
   "outputs": [],
   "source": []
  },
  {
   "cell_type": "code",
   "execution_count": null,
   "metadata": {
    "collapsed": true
   },
   "outputs": [],
   "source": []
  }
 ],
 "metadata": {
  "anaconda-cloud": {},
  "kernelspec": {
   "display_name": "Python [Root]",
   "language": "python",
   "name": "Python [Root]"
  },
  "language_info": {
   "codemirror_mode": {
    "name": "ipython",
    "version": 3
   },
   "file_extension": ".py",
   "mimetype": "text/x-python",
   "name": "python",
   "nbconvert_exporter": "python",
   "pygments_lexer": "ipython3",
   "version": "3.5.2"
  }
 },
 "nbformat": 4,
 "nbformat_minor": 0
}
