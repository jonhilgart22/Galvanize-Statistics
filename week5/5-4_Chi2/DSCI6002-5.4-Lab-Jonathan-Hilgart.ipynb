{
 "cells": [
  {
   "cell_type": "markdown",
   "metadata": {},
   "source": [
    "# Lab 5.4: Chi-Square Tests\n",
    "\n",
    "## Outline\n",
    "\n",
    "- Chi-square test for goodness of fit\n",
    "- Chi-square test for independence"
   ]
  },
  {
   "cell_type": "markdown",
   "metadata": {},
   "source": [
    "**Questions 1**  \n",
    "\n",
    "Seven percent of mutual fund investors rate corporate stocks “very safe,” 58% rate them “somewhat safe,” 24% rate them “not very safe,” 4% rate them “not at all safe,” and 7% are “not sure.” A BusinessWeek/Harris poll asked 529 mutual fund investors how they would rate corporate bonds on safety. The responses are as follows.  \n",
    "\n",
    "<img src=\"images/q1.png\" width=\"300\">  \n",
    "\n",
    "Do mutual fund investors’ attitudes toward corporate bonds differ from their attitudes toward\n",
    "corporate stocks? Clearly state the null and alternative hypotheses."
   ]
  },
  {
   "cell_type": "markdown",
   "metadata": {},
   "source": [
    "Ho = There is no difference in attitude between corporate bonds and corporate stocks for mutual fund investors between the expected rate and the rate observed by BusinessWeek.\n",
    "Ha = There is a difference in attitude between corporate bonds and corporate stocks for mutual fund investors."
   ]
  },
  {
   "cell_type": "code",
   "execution_count": 1,
   "metadata": {
    "collapsed": true
   },
   "outputs": [],
   "source": [
    "import numpy as np\n",
    "from scipy import stats"
   ]
  },
  {
   "cell_type": "code",
   "execution_count": 4,
   "metadata": {
    "collapsed": false
   },
   "outputs": [
    {
     "data": {
      "text/plain": [
       "Power_divergenceResult(statistic=41.691944400470568, pvalue=1.9323272579221198e-08)"
      ]
     },
     "execution_count": 4,
     "metadata": {},
     "output_type": "execute_result"
    }
   ],
   "source": [
    "frequencies = [48, 323, 79, 16, 63]\n",
    "e = [.07*529, .58*529, .24*529,.04*529,.07*529]\n",
    "\n",
    "stats.chisquare(frequencies, e)"
   ]
  },
  {
   "cell_type": "markdown",
   "metadata": {},
   "source": [
    "#### 1\n",
    "- The p-value is below .05 so we reject our null hypothesis. This means we think that there is a difference between attitudes on corporate bonds vs corporate stocks."
   ]
  },
  {
   "cell_type": "markdown",
   "metadata": {},
   "source": [
    "**Question 2**  \n",
    "\n",
    "A news article reports that \"Americans have differing views on two potentially inconvenient and invasive practices that airports could implement to uncover potential terrorist attacks.\" This news piece was based on a survey conducted among a random sample of 1,137 adults nationwide, interviewed by telephone November 7-10, 2010, where one of the questions on the survey was \"Some airports are now using 'full-body' digital x-ray machines to electronically screen passengers in airport security lines. Do you think these new x-ray machines should or should not be used at airports?\" Below is a summary of responses based on party affiliation.  \n",
    "\n",
    "<img src=\"images/q4.png\" width=\"550\">  \n",
    "\n",
    "The differences in each political group may be due to chance. Complete the following computations under the null\n",
    "hypothesis of independence between an individual's party affiliation and his/her support of full-body scans. It may be useful to first add on an extra column for row totals before proceeding with the computations.  \n",
    "\n",
    "1) How many Republicans would you expect to not support the use of full-body scans?  \n",
    "\n",
    "2) How many Democrats would you expect to support the use of full-body scans?  \n",
    "\n",
    "3) How many Independents would you expect to not know or not answer?  \n",
    "\n",
    "4) Test if an individual's party affiliation affects his/her support of full-body scans. Clearly state the null and alternative hypotheses in your test."
   ]
  },
  {
   "cell_type": "code",
   "execution_count": 82,
   "metadata": {
    "collapsed": true
   },
   "outputs": [],
   "source": [
    "n = 1137\n",
    "party = ['Republican','Democrat','Independent']\n",
    "\n",
    "should =[264,299,351]\n",
    "should_not = [38,55,77]\n",
    "do_not_know = [16,15,22]\n",
    "import pandas as pd"
   ]
  },
  {
   "cell_type": "code",
   "execution_count": 87,
   "metadata": {
    "collapsed": false
   },
   "outputs": [],
   "source": [
    "party_df = pd.DataFrame({'Should':should ,'Should Not':should_not,'do not know':do_not_know}, index=party)\n",
    "original_df = party_df.copy()"
   ]
  },
  {
   "cell_type": "code",
   "execution_count": 88,
   "metadata": {
    "collapsed": false
   },
   "outputs": [],
   "source": [
    "party_df['total_row'] = party_df.Should + party_df['Should Not'] +party_df['do not know']\n",
    "party_df = party_df.T\n",
    "party_df['total_column'] = party_df.Republican + party_df.Democrat + party_df.Independent\n",
    "#party_df.total_column[3]=party_df.Republican[3] +party_df.Democrat[3] + party_df.Independent[3] +\\\n",
    "   # party_df.total_column[0] + party_df.total_column[1] + party_df.total_column[2]"
   ]
  },
  {
   "cell_type": "code",
   "execution_count": null,
   "metadata": {
    "collapsed": false
   },
   "outputs": [],
   "source": []
  },
  {
   "cell_type": "code",
   "execution_count": 80,
   "metadata": {
    "collapsed": false
   },
   "outputs": [
    {
     "data": {
      "text/html": [
       "<div>\n",
       "<table border=\"1\" class=\"dataframe\">\n",
       "  <thead>\n",
       "    <tr style=\"text-align: right;\">\n",
       "      <th></th>\n",
       "      <th>Republican</th>\n",
       "      <th>Democrat</th>\n",
       "      <th>Independent</th>\n",
       "      <th>total_column</th>\n",
       "    </tr>\n",
       "  </thead>\n",
       "  <tbody>\n",
       "    <tr>\n",
       "      <th>Should</th>\n",
       "      <td>264</td>\n",
       "      <td>299</td>\n",
       "      <td>351</td>\n",
       "      <td>914</td>\n",
       "    </tr>\n",
       "    <tr>\n",
       "      <th>Should Not</th>\n",
       "      <td>38</td>\n",
       "      <td>55</td>\n",
       "      <td>77</td>\n",
       "      <td>170</td>\n",
       "    </tr>\n",
       "    <tr>\n",
       "      <th>do not know</th>\n",
       "      <td>16</td>\n",
       "      <td>15</td>\n",
       "      <td>22</td>\n",
       "      <td>53</td>\n",
       "    </tr>\n",
       "    <tr>\n",
       "      <th>total_row</th>\n",
       "      <td>318</td>\n",
       "      <td>369</td>\n",
       "      <td>450</td>\n",
       "      <td>1137</td>\n",
       "    </tr>\n",
       "  </tbody>\n",
       "</table>\n",
       "</div>"
      ],
      "text/plain": [
       "             Republican  Democrat  Independent  total_column\n",
       "Should              264       299          351           914\n",
       "Should Not           38        55           77           170\n",
       "do not know          16        15           22            53\n",
       "total_row           318       369          450          1137"
      ]
     },
     "execution_count": 80,
     "metadata": {},
     "output_type": "execute_result"
    }
   ],
   "source": [
    "party_df"
   ]
  },
  {
   "cell_type": "markdown",
   "metadata": {},
   "source": [
    "# 1) How many Republicans would you expect to not support the use of full-body scans?"
   ]
  },
  {
   "cell_type": "code",
   "execution_count": 68,
   "metadata": {
    "collapsed": false
   },
   "outputs": [
    {
     "name": "stdout",
     "output_type": "stream",
     "text": [
      "We would expect  47.54617414248021 Republicans to not support the use of full-body scans\n"
     ]
    }
   ],
   "source": [
    "print( \"We would expect \",(318/1137)*(170/1137)*1137, \"Republicans to not support the use of full-body scans\")"
   ]
  },
  {
   "cell_type": "markdown",
   "metadata": {},
   "source": [
    "# 2) How many Democrats would you expect to support the use of full-body scans?"
   ]
  },
  {
   "cell_type": "code",
   "execution_count": 70,
   "metadata": {
    "collapsed": false
   },
   "outputs": [
    {
     "name": "stdout",
     "output_type": "stream",
     "text": [
      "We would expect  296.6279683377309  Democrats to support full-body scans\n"
     ]
    }
   ],
   "source": [
    "print( \"We would expect \", (369/1137*914/1137*1137),\\\n",
    "      \" Democrats to support full-body scans\")"
   ]
  },
  {
   "cell_type": "code",
   "execution_count": null,
   "metadata": {
    "collapsed": false
   },
   "outputs": [],
   "source": []
  },
  {
   "cell_type": "markdown",
   "metadata": {},
   "source": [
    "# 3) How many Independents would you expect to not know or not answer?"
   ]
  },
  {
   "cell_type": "code",
   "execution_count": 73,
   "metadata": {
    "collapsed": false
   },
   "outputs": [
    {
     "name": "stdout",
     "output_type": "stream",
     "text": [
      "We would expect  20.976253298153033    Independents to not know or not answer\n"
     ]
    }
   ],
   "source": [
    "print( \"We would expect \", (450/1137 * 53/1137*1137), \"\\\n",
    "   Independents to not know or not answer\")"
   ]
  },
  {
   "cell_type": "markdown",
   "metadata": {},
   "source": [
    "# 4) Test if an individual's party affiliation affects his/her support of full-body scans. Clearly state the null and alternative hypotheses in your test."
   ]
  },
  {
   "cell_type": "markdown",
   "metadata": {},
   "source": [
    "Ho = There is not difference between an individual's party affiliation and his/her support of full-body scans.\n",
    "\n",
    "Ha = There is a difference between an individual's party affilication and his/her support of full-body scans."
   ]
  },
  {
   "cell_type": "code",
   "execution_count": 89,
   "metadata": {
    "collapsed": false
   },
   "outputs": [
    {
     "data": {
      "text/html": [
       "<div>\n",
       "<table border=\"1\" class=\"dataframe\">\n",
       "  <thead>\n",
       "    <tr style=\"text-align: right;\">\n",
       "      <th></th>\n",
       "      <th>Should</th>\n",
       "      <th>Should Not</th>\n",
       "      <th>do not know</th>\n",
       "    </tr>\n",
       "  </thead>\n",
       "  <tbody>\n",
       "    <tr>\n",
       "      <th>Republican</th>\n",
       "      <td>264</td>\n",
       "      <td>38</td>\n",
       "      <td>16</td>\n",
       "    </tr>\n",
       "    <tr>\n",
       "      <th>Democrat</th>\n",
       "      <td>299</td>\n",
       "      <td>55</td>\n",
       "      <td>15</td>\n",
       "    </tr>\n",
       "    <tr>\n",
       "      <th>Independent</th>\n",
       "      <td>351</td>\n",
       "      <td>77</td>\n",
       "      <td>22</td>\n",
       "    </tr>\n",
       "  </tbody>\n",
       "</table>\n",
       "</div>"
      ],
      "text/plain": [
       "             Should  Should Not  do not know\n",
       "Republican      264          38           16\n",
       "Democrat        299          55           15\n",
       "Independent     351          77           22"
      ]
     },
     "execution_count": 89,
     "metadata": {},
     "output_type": "execute_result"
    }
   ],
   "source": [
    "original_df"
   ]
  },
  {
   "cell_type": "code",
   "execution_count": 90,
   "metadata": {
    "collapsed": false
   },
   "outputs": [],
   "source": [
    "chi2, p, dof, expected = stats.chi2_contingency(original_df)"
   ]
  },
  {
   "cell_type": "code",
   "execution_count": 91,
   "metadata": {
    "collapsed": false
   },
   "outputs": [
    {
     "data": {
      "text/plain": [
       "0.35977211142065163"
      ]
     },
     "execution_count": 91,
     "metadata": {},
     "output_type": "execute_result"
    }
   ],
   "source": [
    "p"
   ]
  },
  {
   "cell_type": "markdown",
   "metadata": {},
   "source": [
    "- We fail to reject the null hypothesis that there is not a difference between an individual's party affiliation and his/her support of full- body scans."
   ]
  },
  {
   "cell_type": "markdown",
   "metadata": {},
   "source": [
    "**Question 3**  \n",
    "\n",
    "A clothes retailer believes that there is no difference in sales across Monday, Tuesday and Wednesday. You are given the data in a `cloth_sales` table (in RDS) to test the claim. The table contains two columns: `dt` for the date, and `sales`, containing the count of sales for that day. Start by drawing up the table for the observed and expected frequencies for the chi-square test. \n",
    "\n",
    "**Hint:** \n",
    "- It will probably be easiest to extract the week of the year (`week`) and the day of the week (`dow`) using the [`date_trunc`](https://www.postgresql.org/docs/current/static/functions-datetime.html#FUNCTIONS-DATETIME-TRUNC) and [`date_part`](https://www.postgresql.org/docs/current/static/functions-datetime.html#FUNCTIONS-DATETIME-EXTRACT) functions in PostgreSQL respectively. You can then [`pivot`](http://pandas.pydata.org/pandas-docs/stable/reshaping.html#reshaping-by-pivoting-dataframe-objects) the table with pandas. The `head` of the resulting data frame should look something like:\n",
    "\n",
    "<table border=\"1\" class=\"dataframe\">\n",
    "  <thead>\n",
    "    <tr style=\"text-align: right;\">\n",
    "      <th>date_part</th>\n",
    "      <th>1.0</th>\n",
    "      <th>2.0</th>\n",
    "      <th>3.0</th>\n",
    "    </tr>\n",
    "    <tr>\n",
    "      <th>date_trunc</th>\n",
    "      <th></th>\n",
    "      <th></th>\n",
    "      <th></th>\n",
    "    </tr>\n",
    "  </thead>\n",
    "  <tbody>\n",
    "    <tr>\n",
    "      <th>2014-10-27</th>\n",
    "      <td>1016</td>\n",
    "      <td>978</td>\n",
    "      <td>1010</td>\n",
    "    </tr>\n",
    "    <tr>\n",
    "      <th>2014-11-03</th>\n",
    "      <td>987</td>\n",
    "      <td>991</td>\n",
    "      <td>997</td>\n",
    "    </tr>\n",
    "    <tr>\n",
    "      <th>2014-11-10</th>\n",
    "      <td>1014</td>\n",
    "      <td>983</td>\n",
    "      <td>1002</td>\n",
    "    </tr>\n",
    "    <tr>\n",
    "      <th>2014-11-17</th>\n",
    "      <td>991</td>\n",
    "      <td>945</td>\n",
    "      <td>992</td>\n",
    "    </tr>\n",
    "    <tr>\n",
    "      <th>2014-11-24</th>\n",
    "      <td>1001</td>\n",
    "      <td>1058</td>\n",
    "      <td>1002</td>\n",
    "    </tr>\n",
    "  </tbody>\n",
    "</table>  \n",
    "\n",
    "(N.B. `date_part('dow', dt)` will return the number of days after Sunday, so Monday = 1.0, Tuesday = 2.0, and so on.)\n",
    "   \n",
    "- Use `scipy.stats.chisquare()` to carry out a goodness of fit test"
   ]
  },
  {
   "cell_type": "code",
   "execution_count": 56,
   "metadata": {
    "collapsed": false
   },
   "outputs": [
    {
     "name": "stdout",
     "output_type": "stream",
     "text": [
      "Populating the interactive namespace from numpy and matplotlib\n"
     ]
    },
    {
     "name": "stderr",
     "output_type": "stream",
     "text": [
      "WARNING: pylab import has clobbered these variables: ['e']\n",
      "`%matplotlib` prevents importing * from pylab and numpy\n"
     ]
    }
   ],
   "source": [
    "%pylab inline\n",
    "import pandas as pd\n",
    "import yaml\n",
    "\n",
    "from scipy import stats\n",
    "from sqlalchemy import create_engine\n",
    "from statsmodels.stats.weightstats import ttest_ind\n",
    "\n",
    "pg_creds = yaml.load(open('../../pg_creds.yaml'))['student']\n",
    "\n",
    "engine = create_engine('postgresql://{user}:{password}@{host}:{port}/{dbname}'.format(**pg_creds))"
   ]
  },
  {
   "cell_type": "code",
   "execution_count": 95,
   "metadata": {
    "collapsed": false
   },
   "outputs": [],
   "source": [
    "cloth_sales_df = pd.read_sql(\"SELECT date_trunc('week',cloth_sales.dt) as week_of_year, date_part('dow',cloth_sales.dt) as day_of_week,  \\\n",
    "             sales  FROM cloth_sales\",engine)"
   ]
  },
  {
   "cell_type": "code",
   "execution_count": 96,
   "metadata": {
    "collapsed": false
   },
   "outputs": [
    {
     "data": {
      "text/html": [
       "<div>\n",
       "<table border=\"1\" class=\"dataframe\">\n",
       "  <thead>\n",
       "    <tr style=\"text-align: right;\">\n",
       "      <th></th>\n",
       "      <th>week_of_year</th>\n",
       "      <th>day_of_week</th>\n",
       "      <th>sales</th>\n",
       "    </tr>\n",
       "  </thead>\n",
       "  <tbody>\n",
       "    <tr>\n",
       "      <th>0</th>\n",
       "      <td>2014-10-27</td>\n",
       "      <td>1.0</td>\n",
       "      <td>1016</td>\n",
       "    </tr>\n",
       "    <tr>\n",
       "      <th>1</th>\n",
       "      <td>2014-10-27</td>\n",
       "      <td>2.0</td>\n",
       "      <td>978</td>\n",
       "    </tr>\n",
       "    <tr>\n",
       "      <th>2</th>\n",
       "      <td>2014-10-27</td>\n",
       "      <td>3.0</td>\n",
       "      <td>1010</td>\n",
       "    </tr>\n",
       "    <tr>\n",
       "      <th>3</th>\n",
       "      <td>2014-11-03</td>\n",
       "      <td>1.0</td>\n",
       "      <td>987</td>\n",
       "    </tr>\n",
       "    <tr>\n",
       "      <th>4</th>\n",
       "      <td>2014-11-03</td>\n",
       "      <td>2.0</td>\n",
       "      <td>991</td>\n",
       "    </tr>\n",
       "  </tbody>\n",
       "</table>\n",
       "</div>"
      ],
      "text/plain": [
       "  week_of_year  day_of_week  sales\n",
       "0   2014-10-27          1.0   1016\n",
       "1   2014-10-27          2.0    978\n",
       "2   2014-10-27          3.0   1010\n",
       "3   2014-11-03          1.0    987\n",
       "4   2014-11-03          2.0    991"
      ]
     },
     "execution_count": 96,
     "metadata": {},
     "output_type": "execute_result"
    }
   ],
   "source": [
    "cloth_sales_df.head()"
   ]
  },
  {
   "cell_type": "code",
   "execution_count": 111,
   "metadata": {
    "collapsed": false
   },
   "outputs": [
    {
     "data": {
      "text/html": [
       "<div>\n",
       "<table border=\"1\" class=\"dataframe\">\n",
       "  <thead>\n",
       "    <tr>\n",
       "      <th></th>\n",
       "      <th colspan=\"3\" halign=\"left\">sales</th>\n",
       "    </tr>\n",
       "    <tr>\n",
       "      <th>day_of_week</th>\n",
       "      <th>1.0</th>\n",
       "      <th>2.0</th>\n",
       "      <th>3.0</th>\n",
       "    </tr>\n",
       "    <tr>\n",
       "      <th>week_of_year</th>\n",
       "      <th></th>\n",
       "      <th></th>\n",
       "      <th></th>\n",
       "    </tr>\n",
       "  </thead>\n",
       "  <tbody>\n",
       "    <tr>\n",
       "      <th>2014-10-27</th>\n",
       "      <td>1016</td>\n",
       "      <td>978</td>\n",
       "      <td>1010</td>\n",
       "    </tr>\n",
       "    <tr>\n",
       "      <th>2014-11-03</th>\n",
       "      <td>987</td>\n",
       "      <td>991</td>\n",
       "      <td>997</td>\n",
       "    </tr>\n",
       "    <tr>\n",
       "      <th>2014-11-10</th>\n",
       "      <td>1014</td>\n",
       "      <td>983</td>\n",
       "      <td>1002</td>\n",
       "    </tr>\n",
       "    <tr>\n",
       "      <th>2014-11-17</th>\n",
       "      <td>991</td>\n",
       "      <td>945</td>\n",
       "      <td>992</td>\n",
       "    </tr>\n",
       "    <tr>\n",
       "      <th>2014-11-24</th>\n",
       "      <td>1001</td>\n",
       "      <td>1058</td>\n",
       "      <td>1002</td>\n",
       "    </tr>\n",
       "  </tbody>\n",
       "</table>\n",
       "</div>"
      ],
      "text/plain": [
       "             sales            \n",
       "day_of_week    1.0   2.0   3.0\n",
       "week_of_year                  \n",
       "2014-10-27    1016   978  1010\n",
       "2014-11-03     987   991   997\n",
       "2014-11-10    1014   983  1002\n",
       "2014-11-17     991   945   992\n",
       "2014-11-24    1001  1058  1002"
      ]
     },
     "execution_count": 111,
     "metadata": {},
     "output_type": "execute_result"
    }
   ],
   "source": [
    "pivot_cloth_sales_df = cloth_sales_df.pivot('week_of_year','day_of_week')\n",
    "pivot_cloth_sales_df.head()\n"
   ]
  },
  {
   "cell_type": "code",
   "execution_count": 114,
   "metadata": {
    "collapsed": false
   },
   "outputs": [
    {
     "data": {
      "text/plain": [
       "Power_divergenceResult(statistic=array([  40.51101273,  127.43775583,   33.04504865]), pvalue=array([ 0.99999997,  0.02865544,  1.        ]))"
      ]
     },
     "execution_count": 114,
     "metadata": {},
     "output_type": "execute_result"
    }
   ],
   "source": [
    "stats.chisquare(pivot_cloth_sales_df)"
   ]
  },
  {
   "cell_type": "markdown",
   "metadata": {},
   "source": [
    "- Our p-values are all larger than .05, this means we fail to reject the null that there is no difference in sales across Monday, Tuesday and Wednesday"
   ]
  },
  {
   "cell_type": "code",
   "execution_count": 120,
   "metadata": {
    "collapsed": true
   },
   "outputs": [],
   "source": [
    "stats.chisquare?"
   ]
  },
  {
   "cell_type": "markdown",
   "metadata": {
    "collapsed": false
   },
   "source": [
    "**Question 4**  \n",
    "\n",
    "1) A law suit has been filed against a university for a charge of sexual discrimination against female applicants during the admissions process. Use the data below to test whether sex affects admission at this university.\n",
    "      \n",
    "   **Hint:**\n",
    "   - Construct your null and alternative hypotheses\n",
    "   - Use `scipy.stats.chi2_contingency()` to carry out a test for independence\n",
    "   - The function takes the contingency table as an `numpy` array as the first argument\n",
    "\n",
    "\n",
    "|        | Admitted | Not Admitted |\n",
    "|--------|----------|--------------|\n",
    "| Male   | 3715     | 4727         |\n",
    "| Female | 1513     | 2808         |\n",
    "\n",
    "2) You are also given the breakdown of the female and male admissions by department (A to F).\n",
    "\n",
    "<img src=\"images/paradox_1.png\" width=\"300px\">\n",
    "\n",
    "Test if sex and department are independent in terms of number of applicants.\n",
    "\n",
    "3) (Extra Credit) Based on all the data you are given, is it fair to say that there is sexual discirmination in the admission process? Explain your answer. (Hint: Simpson's paradox)"
   ]
  },
  {
   "cell_type": "markdown",
   "metadata": {},
   "source": [
    "Ho = there is no difference in the percent of Males and Females admitted in the admissions process.\n",
    "\n",
    "Ha = There is a difference in the percent of Males and Females admitted in the admissions process."
   ]
  },
  {
   "cell_type": "code",
   "execution_count": 118,
   "metadata": {
    "collapsed": false
   },
   "outputs": [],
   "source": [
    "male = [3715,4727]\n",
    "females = [1513,2808]\n",
    "\n",
    "admitted_df = pd.DataFrame( {'Males': male,'Females':females},index=['Admitted','Not Admitted'])"
   ]
  },
  {
   "cell_type": "code",
   "execution_count": 128,
   "metadata": {
    "collapsed": false
   },
   "outputs": [
    {
     "data": {
      "text/html": [
       "<div>\n",
       "<table border=\"1\" class=\"dataframe\">\n",
       "  <thead>\n",
       "    <tr style=\"text-align: right;\">\n",
       "      <th></th>\n",
       "      <th>Admitted</th>\n",
       "      <th>Not Admitted</th>\n",
       "    </tr>\n",
       "  </thead>\n",
       "  <tbody>\n",
       "    <tr>\n",
       "      <th>Females</th>\n",
       "      <td>1513</td>\n",
       "      <td>2808</td>\n",
       "    </tr>\n",
       "    <tr>\n",
       "      <th>Males</th>\n",
       "      <td>3715</td>\n",
       "      <td>4727</td>\n",
       "    </tr>\n",
       "  </tbody>\n",
       "</table>\n",
       "</div>"
      ],
      "text/plain": [
       "         Admitted  Not Admitted\n",
       "Females      1513          2808\n",
       "Males        3715          4727"
      ]
     },
     "execution_count": 128,
     "metadata": {},
     "output_type": "execute_result"
    }
   ],
   "source": [
    "admitted_df.T"
   ]
  },
  {
   "cell_type": "code",
   "execution_count": 129,
   "metadata": {
    "collapsed": false
   },
   "outputs": [],
   "source": [
    "chi2_4, p_4, dot_4, expected_4 = stats.chi2_contingency(admitted_df)"
   ]
  },
  {
   "cell_type": "code",
   "execution_count": 130,
   "metadata": {
    "collapsed": false
   },
   "outputs": [
    {
     "data": {
      "text/plain": [
       "1.7473568514632273e-22"
      ]
     },
     "execution_count": 130,
     "metadata": {},
     "output_type": "execute_result"
    }
   ],
   "source": [
    "p_4"
   ]
  },
  {
   "cell_type": "markdown",
   "metadata": {},
   "source": [
    "## Our p-value is below .05 so we reject our null that admission is the same across genders."
   ]
  },
  {
   "cell_type": "code",
   "execution_count": 132,
   "metadata": {
    "collapsed": true
   },
   "outputs": [],
   "source": [
    "ma = [825,560,325,417,191,373]\n",
    "fe = [108, 25, 593, 375,393, 341]\n",
    "\n",
    "\n",
    "a = [825,108]\n",
    "b = [560,25]\n",
    "c = [325,593]\n",
    "d = [417, 375]\n",
    "e = [191, 393]\n",
    "f = [373, 341]"
   ]
  },
  {
   "cell_type": "code",
   "execution_count": 133,
   "metadata": {
    "collapsed": false
   },
   "outputs": [],
   "source": [
    "department_admitted_df = pd.DataFrame({'males':ma,'famales':fe},index=['a','b','c','d','e','f'])"
   ]
  },
  {
   "cell_type": "code",
   "execution_count": 134,
   "metadata": {
    "collapsed": false
   },
   "outputs": [
    {
     "data": {
      "text/html": [
       "<div>\n",
       "<table border=\"1\" class=\"dataframe\">\n",
       "  <thead>\n",
       "    <tr style=\"text-align: right;\">\n",
       "      <th></th>\n",
       "      <th>famales</th>\n",
       "      <th>males</th>\n",
       "    </tr>\n",
       "  </thead>\n",
       "  <tbody>\n",
       "    <tr>\n",
       "      <th>a</th>\n",
       "      <td>108</td>\n",
       "      <td>825</td>\n",
       "    </tr>\n",
       "    <tr>\n",
       "      <th>b</th>\n",
       "      <td>25</td>\n",
       "      <td>560</td>\n",
       "    </tr>\n",
       "    <tr>\n",
       "      <th>c</th>\n",
       "      <td>593</td>\n",
       "      <td>325</td>\n",
       "    </tr>\n",
       "    <tr>\n",
       "      <th>d</th>\n",
       "      <td>375</td>\n",
       "      <td>417</td>\n",
       "    </tr>\n",
       "    <tr>\n",
       "      <th>e</th>\n",
       "      <td>393</td>\n",
       "      <td>191</td>\n",
       "    </tr>\n",
       "    <tr>\n",
       "      <th>f</th>\n",
       "      <td>341</td>\n",
       "      <td>373</td>\n",
       "    </tr>\n",
       "  </tbody>\n",
       "</table>\n",
       "</div>"
      ],
      "text/plain": [
       "   famales  males\n",
       "a      108    825\n",
       "b       25    560\n",
       "c      593    325\n",
       "d      375    417\n",
       "e      393    191\n",
       "f      341    373"
      ]
     },
     "execution_count": 134,
     "metadata": {},
     "output_type": "execute_result"
    }
   ],
   "source": [
    "department_admitted_df"
   ]
  },
  {
   "cell_type": "code",
   "execution_count": null,
   "metadata": {
    "collapsed": false
   },
   "outputs": [],
   "source": []
  },
  {
   "cell_type": "code",
   "execution_count": 138,
   "metadata": {
    "collapsed": false
   },
   "outputs": [
    {
     "data": {
      "text/plain": [
       "9.4440769769112824e-229"
      ]
     },
     "execution_count": 138,
     "metadata": {},
     "output_type": "execute_result"
    }
   ],
   "source": [
    "stats.chi2_contingency(department_admitted_df)[1]"
   ]
  },
  {
   "cell_type": "markdown",
   "metadata": {},
   "source": [
    "# Our p-value is below alpha so we reject our null hypothesis that an equal number of people from each gender send applications to each department."
   ]
  },
  {
   "cell_type": "markdown",
   "metadata": {},
   "source": [
    "3) (Extra Credit) Based on all the data you are given, is it fair to say that there is sexual discirmination in the admission process? Explain your answer. (Hint: Simpson's paradox)"
   ]
  },
  {
   "cell_type": "code",
   "execution_count": 151,
   "metadata": {
    "collapsed": true
   },
   "outputs": [],
   "source": [
    "ma_p = [825*.62,560*.63,325*.37,417*.33,191*.28,373*.06]\n",
    "fe_p = [108*.82, 25*.68, 593*.34, 375*.35,393*.24, 341*.07]\n",
    "\n",
    "total_admit_num_df = pd.DataFrame({'males_admit':ma_p,'famales_admit':fe_p},index=['a','b','c','d','e','f'])"
   ]
  },
  {
   "cell_type": "code",
   "execution_count": 152,
   "metadata": {
    "collapsed": false
   },
   "outputs": [
    {
     "data": {
      "text/html": [
       "<div>\n",
       "<table border=\"1\" class=\"dataframe\">\n",
       "  <thead>\n",
       "    <tr style=\"text-align: right;\">\n",
       "      <th></th>\n",
       "      <th>famales_admit</th>\n",
       "      <th>males_admit</th>\n",
       "    </tr>\n",
       "  </thead>\n",
       "  <tbody>\n",
       "    <tr>\n",
       "      <th>a</th>\n",
       "      <td>88.56</td>\n",
       "      <td>511.50</td>\n",
       "    </tr>\n",
       "    <tr>\n",
       "      <th>b</th>\n",
       "      <td>17.00</td>\n",
       "      <td>352.80</td>\n",
       "    </tr>\n",
       "    <tr>\n",
       "      <th>c</th>\n",
       "      <td>201.62</td>\n",
       "      <td>120.25</td>\n",
       "    </tr>\n",
       "    <tr>\n",
       "      <th>d</th>\n",
       "      <td>131.25</td>\n",
       "      <td>137.61</td>\n",
       "    </tr>\n",
       "    <tr>\n",
       "      <th>e</th>\n",
       "      <td>94.32</td>\n",
       "      <td>53.48</td>\n",
       "    </tr>\n",
       "    <tr>\n",
       "      <th>f</th>\n",
       "      <td>23.87</td>\n",
       "      <td>22.38</td>\n",
       "    </tr>\n",
       "  </tbody>\n",
       "</table>\n",
       "</div>"
      ],
      "text/plain": [
       "   famales_admit  males_admit\n",
       "a          88.56       511.50\n",
       "b          17.00       352.80\n",
       "c         201.62       120.25\n",
       "d         131.25       137.61\n",
       "e          94.32        53.48\n",
       "f          23.87        22.38"
      ]
     },
     "execution_count": 152,
     "metadata": {},
     "output_type": "execute_result"
    }
   ],
   "source": [
    "total_admit_num_df"
   ]
  },
  {
   "cell_type": "code",
   "execution_count": 153,
   "metadata": {
    "collapsed": false
   },
   "outputs": [
    {
     "data": {
      "text/plain": [
       "(462.40849257906933,\n",
       " 1.0338170641011771e-97,\n",
       " 5,\n",
       " array([[ 190.35551293,  409.70448707],\n",
       "        [ 117.31071673,  252.48928327],\n",
       "        [ 102.10600431,  219.76399569],\n",
       "        [  85.28977636,  183.57022364],\n",
       "        [  46.8862194 ,  100.9137806 ],\n",
       "        [  14.67177028,   31.57822972]]))"
      ]
     },
     "execution_count": 153,
     "metadata": {},
     "output_type": "execute_result"
    }
   ],
   "source": [
    "stats.chi2_contingency(total_admit_num_df)"
   ]
  },
  {
   "cell_type": "code",
   "execution_count": 146,
   "metadata": {
    "collapsed": false
   },
   "outputs": [],
   "source": [
    "stats.chi2_contingency?"
   ]
  },
  {
   "cell_type": "markdown",
   "metadata": {},
   "source": []
  },
  {
   "cell_type": "markdown",
   "metadata": {},
   "source": [
    "#### Hint\n",
    "\n",
    "Some functions that may be useful to you:\n",
    "\n",
    "- From the `sqlalchemy` package:\n",
    "    - `create_engine`\n",
    "- From the `pandas` package:\n",
    "    - `read_sql`\n",
    "    - `pivot`\n",
    "- From the `scipy.stats` package:\n",
    "    - `chisquare`\n",
    "    - `chi2_contingency`"
   ]
  }
 ],
 "metadata": {
  "anaconda-cloud": {},
  "kernelspec": {
   "display_name": "Python [Root]",
   "language": "python",
   "name": "Python [Root]"
  },
  "language_info": {
   "codemirror_mode": {
    "name": "ipython",
    "version": 3
   },
   "file_extension": ".py",
   "mimetype": "text/x-python",
   "name": "python",
   "nbconvert_exporter": "python",
   "pygments_lexer": "ipython3",
   "version": "3.5.2"
  }
 },
 "nbformat": 4,
 "nbformat_minor": 0
}
