{
 "cells": [
  {
   "cell_type": "markdown",
   "metadata": {},
   "source": [
    "# Lab 5.4: Chi-Square Tests\n",
    "\n",
    "## Outline\n",
    "\n",
    "- Chi-square test for goodness of fit\n",
    "- Chi-square test for independence"
   ]
  },
  {
   "cell_type": "markdown",
   "metadata": {},
   "source": [
    "**Questions 1**  \n",
    "\n",
    "Seven percent of mutual fund investors rate corporate stocks “very safe,” 58% rate them “somewhat safe,” 24% rate them “not very safe,” 4% rate them “not at all safe,” and 7% are “not sure.” A BusinessWeek/Harris poll asked 529 mutual fund investors how they would rate corporate bonds on safety. The responses are as follows.  \n",
    "\n",
    "<img src=\"images/q1.png\" width=\"300\">  \n",
    "\n",
    "Do mutual fund investors’ attitudes toward corporate bonds differ from their attitudes toward\n",
    "corporate stocks? Clearly state the null and alternative hypotheses."
   ]
  },
  {
   "cell_type": "markdown",
   "metadata": {},
   "source": [
    "**Question 2**  \n",
    "\n",
    "A news article reports that \"Americans have differing views on two potentially inconvenient and invasive practices that airports could implement to uncover potential terrorist attacks.\" This news piece was based on a survey conducted among a random sample of 1,137 adults nationwide, interviewed by telephone November 7-10, 2010, where one of the questions on the survey was \"Some airports are now using 'full-body' digital x-ray machines to electronically screen passengers in airport security lines. Do you think these new x-ray machines should or should not be used at airports?\" Below is a summary of responses based on party affiliation.  \n",
    "\n",
    "<img src=\"images/q4.png\" width=\"550\">  \n",
    "\n",
    "The differences in each political group may be due to chance. Complete the following computations under the null\n",
    "hypothesis of independence between an individual's party affiliation and his/her support of full-body scans. It may be useful to first add on an extra column for row totals before proceeding with the computations.  \n",
    "\n",
    "1) How many Republicans would you expect to not support the use of full-body scans?  \n",
    "\n",
    "2) How many Democrats would you expect to support the use of full-body scans?  \n",
    "\n",
    "3) How many Independents would you expect to not know or not answer?  \n",
    "\n",
    "4) Test if an individual's party affiliation affects his/her support of full-body scans. Clearly state the null and alternative hypotheses in your test."
   ]
  },
  {
   "cell_type": "markdown",
   "metadata": {},
   "source": [
    "**Question 3**  \n",
    "\n",
    "A clothes retailer believes that there is no difference in sales across Monday, Tuesday and Wednesday. You are given the data in a `cloth_sales` table (in RDS) to test the claim. The table contains two columns: `dt` for the date, and `sales`, containing the count of sales for that day. Start by drawing up the table for the observed and expected frequencies for the chi-square test. \n",
    "\n",
    "**Hint:** \n",
    "- It will probably be easiest to extract the week of the year (`week`) and the day of the week (`dow`) using the [`date_trunc`](https://www.postgresql.org/docs/current/static/functions-datetime.html#FUNCTIONS-DATETIME-TRUNC) and [`date_part`](https://www.postgresql.org/docs/current/static/functions-datetime.html#FUNCTIONS-DATETIME-EXTRACT) functions in PostgreSQL respectively. You can then [`pivot`](http://pandas.pydata.org/pandas-docs/stable/reshaping.html#reshaping-by-pivoting-dataframe-objects) the table with pandas. The `head` of the resulting data frame should look something like:\n",
    "\n",
    "<table border=\"1\" class=\"dataframe\">\n",
    "  <thead>\n",
    "    <tr style=\"text-align: right;\">\n",
    "      <th>date_part</th>\n",
    "      <th>1.0</th>\n",
    "      <th>2.0</th>\n",
    "      <th>3.0</th>\n",
    "    </tr>\n",
    "    <tr>\n",
    "      <th>date_trunc</th>\n",
    "      <th></th>\n",
    "      <th></th>\n",
    "      <th></th>\n",
    "    </tr>\n",
    "  </thead>\n",
    "  <tbody>\n",
    "    <tr>\n",
    "      <th>2014-10-27</th>\n",
    "      <td>1016</td>\n",
    "      <td>978</td>\n",
    "      <td>1010</td>\n",
    "    </tr>\n",
    "    <tr>\n",
    "      <th>2014-11-03</th>\n",
    "      <td>987</td>\n",
    "      <td>991</td>\n",
    "      <td>997</td>\n",
    "    </tr>\n",
    "    <tr>\n",
    "      <th>2014-11-10</th>\n",
    "      <td>1014</td>\n",
    "      <td>983</td>\n",
    "      <td>1002</td>\n",
    "    </tr>\n",
    "    <tr>\n",
    "      <th>2014-11-17</th>\n",
    "      <td>991</td>\n",
    "      <td>945</td>\n",
    "      <td>992</td>\n",
    "    </tr>\n",
    "    <tr>\n",
    "      <th>2014-11-24</th>\n",
    "      <td>1001</td>\n",
    "      <td>1058</td>\n",
    "      <td>1002</td>\n",
    "    </tr>\n",
    "  </tbody>\n",
    "</table>  \n",
    "\n",
    "(N.B. `date_part('dow', dt)` will return the number of days after Sunday, so Monday = 1.0, Tuesday = 2.0, and so on.)\n",
    "   \n",
    "- Use `scipy.stats.chisquare()` to carry out a goodness of fit test"
   ]
  },
  {
   "cell_type": "markdown",
   "metadata": {
    "collapsed": false
   },
   "source": [
    "**Question 4**  \n",
    "\n",
    "1) A law suit has been filed against a university for a charge of sexual discrimination against female applicants during the admissions process. Use the data below to test whether sex affects admission at this university.\n",
    "      \n",
    "   **Hint:**\n",
    "   - Construct your null and alternative hypotheses\n",
    "   - Use `scipy.stats.chi2_contingency()` to carry out a test for independence\n",
    "   - The function takes the contingency table as an `numpy` array as the first argument\n",
    "\n",
    "\n",
    "|        | Admitted | Not Admitted |\n",
    "|--------|----------|--------------|\n",
    "| Male   | 3715     | 4727         |\n",
    "| Female | 1513     | 2808         |\n",
    "\n",
    "2) You are also given the breakdown of the female and male admissions by department (A to F).\n",
    "\n",
    "<img src=\"images/paradox_1.png\" width=\"300px\">\n",
    "\n",
    "Test if sex and department are independent in terms of number of applicants.\n",
    "\n",
    "3) (Extra Credit) Based on all the data you are given, is it fair to say that there is sexual discirmination in the admission process? Explain your answer. (Hint: Simpson's paradox)"
   ]
  },
  {
   "cell_type": "markdown",
   "metadata": {},
   "source": [
    "#### Hint\n",
    "\n",
    "Some functions that may be useful to you:\n",
    "\n",
    "- From the `sqlalchemy` package:\n",
    "    - `create_engine`\n",
    "- From the `pandas` package:\n",
    "    - `read_sql`\n",
    "    - `pivot`\n",
    "- From the `scipy.stats` package:\n",
    "    - `chisquare`\n",
    "    - `chi2_contingency`"
   ]
  }
 ],
 "metadata": {
  "anaconda-cloud": {},
  "kernelspec": {
   "display_name": "Python [Root]",
   "language": "python",
   "name": "Python [Root]"
  },
  "language_info": {
   "codemirror_mode": {
    "name": "ipython",
    "version": 3
   },
   "file_extension": ".py",
   "mimetype": "text/x-python",
   "name": "python",
   "nbconvert_exporter": "python",
   "pygments_lexer": "ipython3",
   "version": "3.5.2"
  }
 },
 "nbformat": 4,
 "nbformat_minor": 0
}
