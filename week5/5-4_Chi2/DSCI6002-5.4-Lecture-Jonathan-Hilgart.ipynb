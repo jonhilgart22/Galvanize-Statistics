{
 "cells": [
  {
   "cell_type": "markdown",
   "metadata": {
    "slideshow": {
     "slide_type": "slide"
    }
   },
   "source": [
    "# Lecture 5.4: Chi-Square Tests"
   ]
  },
  {
   "cell_type": "markdown",
   "metadata": {
    "slideshow": {
     "slide_type": "fragment"
    }
   },
   "source": [
    "## Outline\n",
    "\n",
    "* Goodness-of-fit test\n",
    "* $\\chi^2$ distribution\n",
    "* Test for independence\n",
    "* Multiple tests"
   ]
  },
  {
   "cell_type": "markdown",
   "metadata": {
    "slideshow": {
     "slide_type": "fragment"
    }
   },
   "source": [
    "## Objectives\n",
    "\n",
    "* Learn about $\\chi^2$ distribution and chi-square tests\n",
    "* Become familiar with goodness of fit and independence tests\n",
    "* Understand Bonferroni correcction for multiple comparisons"
   ]
  },
  {
   "cell_type": "markdown",
   "metadata": {
    "slideshow": {
     "slide_type": "slide"
    }
   },
   "source": [
    "## Story Time\n",
    "\n",
    "Long long ago, there lived a candy fairy. His name is Lee Skittle.  \n",
    "\n",
    "Lee's hobby was to turn flowers into candies with different colors, and he told his dog, Aria, that he always had the same number of candies of each color.  \n",
    "\n",
    "Aria got hungry one day, and decided to eat one bag of Lee's candies that he had hidden under a giant mushroom. Aria loved math, so as she was eating the candies, she counted how many candies of each color she ate.  \n",
    "\n",
    "Lee was furious when he discovered that his candies were gone, and he decided to marry Aria to Mr. M., a brown bear who liked wearing colorful clothes. The night before Aria and Mr. M.'s wedding, Aria told Lee, I want to tell you a secret about your candies, \"you had been wrong all these years, Lee, you didn't have the same number of candies of each color - there were 11 red candies, 11 green candies, 10 yellow candies, 10 purple candies and 8 orange candies in the bag I found.\"  \n",
    "\n",
    "Lee was shocked about what Aria told him that night, and he thought a lot about the distribution of the candy colors. It was very very important to him that all the colors were evenly distributed, but he had made more than a googol candies, most of which had already been eaten, so he couldn't count all of the candies by colors.  \n",
    "\n",
    "What should Lee do?..."
   ]
  },
  {
   "cell_type": "markdown",
   "metadata": {
    "slideshow": {
     "slide_type": "slide"
    }
   },
   "source": [
    "Assum that the bag of candies that Aria ate was a simple random sample of all the candies Lee had made.\n",
    "\n",
    "| |Red|Green|Yellow|Purple|Orange|\n",
    "|:-|-:|-:|-:|-:|-:|-:|\n",
    "|Counts|11|11|10|10|8|"
   ]
  },
  {
   "cell_type": "markdown",
   "metadata": {
    "slideshow": {
     "slide_type": "fragment"
    }
   },
   "source": [
    "How can we check if the entire candy population is evenly distributed across the different colors?"
   ]
  },
  {
   "cell_type": "markdown",
   "metadata": {
    "slideshow": {
     "slide_type": "slide"
    }
   },
   "source": [
    "## Chi-square goodness-of-fit test\n",
    "\n",
    "The Chi-square test allows us to evaluate goodness of fit for a model. \n",
    "\n",
    "So, we can suggest a model and then compare our sample against that model."
   ]
  },
  {
   "cell_type": "markdown",
   "metadata": {
    "slideshow": {
     "slide_type": "fragment"
    }
   },
   "source": [
    "$H_0: P(Red)=P(Green)=P(Yellow)=P(Purple)=P(Orange)=0.2$  \n",
    "$H_a:$ At least one proprotion is not equal to the above"
   ]
  },
  {
   "cell_type": "markdown",
   "metadata": {
    "slideshow": {
     "slide_type": "fragment"
    }
   },
   "source": [
    "| |Red|Green|Yellow|Purple|Orange|\n",
    "|:-|-:|-:|-:|-:|-:|-:|\n",
    "|Counts|11|11|10|10|8|\n",
    "|Expected|10|10|10|10|10|\n",
    "\n"
   ]
  },
  {
   "cell_type": "code",
   "execution_count": 1,
   "metadata": {
    "collapsed": false,
    "slideshow": {
     "slide_type": "fragment"
    }
   },
   "outputs": [
    {
     "name": "stdout",
     "output_type": "stream",
     "text": [
      "Populating the interactive namespace from numpy and matplotlib\n"
     ]
    }
   ],
   "source": [
    "%pylab inline\n",
    "\n",
    "import pandas as pd\n",
    "import statsmodels.api as sm\n",
    "\n",
    "from IPython.display import Latex, YouTubeVideo\n",
    "\n",
    "from scipy import stats\n",
    "from statsmodels.graphics.gofplots import qqplot\n",
    "from statsmodels.distributions.empirical_distribution import ECDF"
   ]
  },
  {
   "cell_type": "code",
   "execution_count": 2,
   "metadata": {
    "collapsed": false,
    "slideshow": {
     "slide_type": "fragment"
    }
   },
   "outputs": [
    {
     "name": "stdout",
     "output_type": "stream",
     "text": [
      "          Red  Green  Yellow  Blue  Orange\n",
      "Counts     11     11      10    10       8\n",
      "Expected   10     10      10    10      10\n"
     ]
    },
    {
     "data": {
      "text/plain": [
       "Power_divergenceResult(statistic=0.60000000000000009, pvalue=0.96306368688623323)"
      ]
     },
     "execution_count": 2,
     "metadata": {},
     "output_type": "execute_result"
    }
   ],
   "source": [
    "colors = [\"Red\", \"Green\", \"Yellow\", \"Blue\", \"Orange\"]\n",
    "counts = [11, 11, 10, 10, 8]\n",
    "e = 10\n",
    "\n",
    "print(pd.DataFrame({\"Counts\": counts, \"Expected\": [e] * len(counts)}, index=colors).T)\n",
    "\n",
    "stats.chisquare(counts, [e] * 5)"
   ]
  },
  {
   "cell_type": "markdown",
   "metadata": {
    "slideshow": {
     "slide_type": "fragment"
    }
   },
   "source": [
    "So we don't have evidence to say that the candies aren't distributed evenly across different colors.  \n",
    "\n",
    "Lee can finally have a good night sleep now."
   ]
  },
  {
   "cell_type": "markdown",
   "metadata": {
    "slideshow": {
     "slide_type": "slide"
    }
   },
   "source": [
    "How does this work?  \n",
    "\n",
    "To conduct the test, first we need a test statistic"
   ]
  },
  {
   "cell_type": "markdown",
   "metadata": {
    "slideshow": {
     "slide_type": "fragment"
    }
   },
   "source": [
    "$$\\chi^2 = \\sum {\\left(O_i - E_i \\right)^2 \\over E_i}$$\n",
    "O is the observed count  \n",
    "E is the expected count\n",
    "\n",
    "So in our case:\n",
    "$$\\chi^2 = \\frac{(11-10)^2}{10} + \\frac{(11-10)^2}{10} + \\frac{(10-10)^2}{10} + \\frac{(10-10)^2}{10} + \\frac{(8-10)^2}{10}$$"
   ]
  },
  {
   "cell_type": "code",
   "execution_count": 3,
   "metadata": {
    "collapsed": false,
    "slideshow": {
     "slide_type": "fragment"
    }
   },
   "outputs": [
    {
     "data": {
      "text/plain": [
       "0.6"
      ]
     },
     "execution_count": 3,
     "metadata": {},
     "output_type": "execute_result"
    }
   ],
   "source": [
    "((11-10)**2 + (11-10)**2 + (10-10)**2 + (10-10)**2 + (8-10)**2) / 10"
   ]
  },
  {
   "cell_type": "code",
   "execution_count": 4,
   "metadata": {
    "collapsed": false
   },
   "outputs": [
    {
     "data": {
      "text/plain": [
       "0.6"
      ]
     },
     "execution_count": 4,
     "metadata": {},
     "output_type": "execute_result"
    }
   ],
   "source": [
    "sum((o - e)**2 for o in counts) / e"
   ]
  },
  {
   "cell_type": "markdown",
   "metadata": {
    "slideshow": {
     "slide_type": "slide"
    }
   },
   "source": [
    "The test statistic follows $\\chi^2$ distribution.\n",
    "\n",
    "Now we need to check this against the $\\chi^2$ distribution to get our p-value.  \n",
    "\n",
    "\n",
    "What is the $\\chi^2$ distribution again?"
   ]
  },
  {
   "cell_type": "markdown",
   "metadata": {
    "slideshow": {
     "slide_type": "fragment"
    }
   },
   "source": [
    "$$\\chi^2(k,x) = {1 \\over {2^\\frac{k}{2}\\Gamma\\left(\\frac{k}{2}\\right)}}x^{\\frac{k}{2}-1}e^{-\\frac{x}{2}}$$\n",
    "\n",
    "here $k$ is a parameter called the degrees of freedom  \n"
   ]
  },
  {
   "cell_type": "markdown",
   "metadata": {
    "slideshow": {
     "slide_type": "fragment"
    }
   },
   "source": [
    "For goodness of fit test, the degrees of freedom is number of categories minus one.  \n",
    "So for our skittles example the degrees of freedom is $5 - 1 = 4$."
   ]
  },
  {
   "cell_type": "markdown",
   "metadata": {
    "slideshow": {
     "slide_type": "fragment"
    }
   },
   "source": [
    "$\\Gamma(\\frac{k}{2})$ is the gamma function:  \n",
    "$$\\Gamma(n) = (n-1)!, n \\in \\mathbb{N}$$\n",
    "$$\\Gamma(t) = \\int\\limits_0^\\infty x^{t-1}e^{-x}dx$$"
   ]
  },
  {
   "cell_type": "code",
   "execution_count": 5,
   "metadata": {
    "collapsed": false,
    "slideshow": {
     "slide_type": "slide"
    }
   },
   "outputs": [
    {
     "data": {
      "image/png": "[encoded data removed]",
      "text/plain": [
       "<matplotlib.figure.Figure at 0x1151d25c0>"
      ]
     },
     "metadata": {},
     "output_type": "display_data"
    },
    {
     "data": {
      "text/plain": [
       "<matplotlib.figure.Figure at 0x1176a2908>"
      ]
     },
     "metadata": {},
     "output_type": "display_data"
    }
   ],
   "source": [
    "x = linspace(0.001, 100, 2000)\n",
    "\n",
    "degrees = [1,10,50,80, 100]\n",
    "\n",
    "for i in degrees:\n",
    "    dist = stats.chi2(df=i)\n",
    "    y = dist.pdf(x)\n",
    "    plot(x, y, label = '{} degrees of freedom'.format(i))\n",
    "    \n",
    "ylim(0, 0.6); legend()\n",
    "plt.figure(figsize=(12,10));"
   ]
  },
  {
   "cell_type": "code",
   "execution_count": 6,
   "metadata": {
    "collapsed": false
   },
   "outputs": [
    {
     "data": {
      "text/plain": [
       "0.96306368688623323"
      ]
     },
     "execution_count": 6,
     "metadata": {},
     "output_type": "execute_result"
    }
   ],
   "source": [
    "stats.chisquare(counts, [e] * 5)[1]"
   ]
  },
  {
   "cell_type": "code",
   "execution_count": 7,
   "metadata": {
    "collapsed": false,
    "slideshow": {
     "slide_type": "slide"
    }
   },
   "outputs": [
    {
     "data": {
      "text/plain": [
       "0.96306368688623323"
      ]
     },
     "execution_count": 7,
     "metadata": {},
     "output_type": "execute_result"
    }
   ],
   "source": [
    "df = len(counts) - 1\n",
    "x = sum((o - e)**2 for o in counts) / e\n",
    "stats.chi2(df=df).sf(x)"
   ]
  },
  {
   "cell_type": "markdown",
   "metadata": {
    "slideshow": {
     "slide_type": "slide"
    }
   },
   "source": [
    "### Assumptions\n",
    "* That the data is randomly selected\n",
    "* The sample data consists of frequency counts for each of the different categories\n",
    "* For each category, the expected frequency need to be at least 5"
   ]
  },
  {
   "cell_type": "markdown",
   "metadata": {
    "slideshow": {
     "slide_type": "slide"
    }
   },
   "source": [
    "### The Story Continues..  \n",
    "\n",
    "After Aria and Mr. M. got married, in order to woo Aria's love, Mr. M. started making candies for her. He made two kinds of candies, one with chocolate and one with peanuts, and he liked to covered all the candies with colorful sugar coats.  \n",
    "\n",
    "Aria, loving math as aways, started counting the two different types of candies by colors. One day, she told Mr. M., \"M., my love, your chocolate candies and peanut candies don't have the same color distribution - the color distribution depends on the type of candy I'm eating.\"  Mr. M. tried to count all the candies he had in his pockets, but he didn't have enough fingers and toes.  \n",
    "\n",
    "How can Mr. M. check if Aria is right?"
   ]
  },
  {
   "cell_type": "markdown",
   "metadata": {
    "slideshow": {
     "slide_type": "slide"
    }
   },
   "source": [
    "## Test for independence"
   ]
  },
  {
   "cell_type": "markdown",
   "metadata": {
    "slideshow": {
     "slide_type": "fragment"
    }
   },
   "source": [
    "Here are the counts of the candies Mr. M. had in his pocket, by color and candy type.\n",
    "\n",
    "| |Red|Green|Yellow|Blue|Orange|\n",
    "|:-|-:|-:|-:|-:|-:|-:|\n",
    "|Chocolate|7|2|11|8|5|\n",
    "|Peanuts|8|9|4|1|3|\n"
   ]
  },
  {
   "cell_type": "code",
   "execution_count": 8,
   "metadata": {
    "collapsed": false
   },
   "outputs": [
    {
     "data": {
      "text/html": [
       "<div>\n",
       "<table border=\"1\" class=\"dataframe\">\n",
       "  <thead>\n",
       "    <tr style=\"text-align: right;\">\n",
       "      <th></th>\n",
       "      <th>Red</th>\n",
       "      <th>Green</th>\n",
       "      <th>Yellow</th>\n",
       "      <th>Blue</th>\n",
       "      <th>Orange</th>\n",
       "    </tr>\n",
       "  </thead>\n",
       "  <tbody>\n",
       "    <tr>\n",
       "      <th>Chocolate</th>\n",
       "      <td>7</td>\n",
       "      <td>2</td>\n",
       "      <td>11</td>\n",
       "      <td>8</td>\n",
       "      <td>5</td>\n",
       "    </tr>\n",
       "    <tr>\n",
       "      <th>Peanut</th>\n",
       "      <td>8</td>\n",
       "      <td>9</td>\n",
       "      <td>4</td>\n",
       "      <td>1</td>\n",
       "      <td>3</td>\n",
       "    </tr>\n",
       "  </tbody>\n",
       "</table>\n",
       "</div>"
      ],
      "text/plain": [
       "           Red  Green  Yellow  Blue  Orange\n",
       "Chocolate    7      2      11     8       5\n",
       "Peanut       8      9       4     1       3"
      ]
     },
     "execution_count": 8,
     "metadata": {},
     "output_type": "execute_result"
    }
   ],
   "source": [
    "data = pd.DataFrame({\"Chocolate\": [7, 2, 11, 8, 5], \"Peanut\": [8, 9, 4, 1, 3]}, index=colors).T\n",
    "data"
   ]
  },
  {
   "cell_type": "markdown",
   "metadata": {
    "slideshow": {
     "slide_type": "fragment"
    }
   },
   "source": [
    "$H_0$: the colors and candy types are independent  \n",
    "$H_a$: the colors and canday types are dependent  "
   ]
  },
  {
   "cell_type": "code",
   "execution_count": 9,
   "metadata": {
    "collapsed": true
   },
   "outputs": [],
   "source": [
    "stats.chi2_contingency?"
   ]
  },
  {
   "cell_type": "code",
   "execution_count": 10,
   "metadata": {
    "collapsed": false,
    "scrolled": true,
    "slideshow": {
     "slide_type": "fragment"
    }
   },
   "outputs": [
    {
     "data": {
      "text/latex": [
       "$\\chi^2 = 12.87; p = 0.012$"
      ],
      "text/plain": [
       "<IPython.core.display.Latex object>"
      ]
     },
     "execution_count": 10,
     "metadata": {},
     "output_type": "execute_result"
    }
   ],
   "source": [
    "chi2, p, dof, expected = stats.chi2_contingency(data)\n",
    "\n",
    "Latex(r\"$\\chi^2 = {:.4}; p = {:.2}$\".format(chi2, p))"
   ]
  },
  {
   "cell_type": "markdown",
   "metadata": {
    "slideshow": {
     "slide_type": "fragment"
    }
   },
   "source": [
    "$$\\chi^2 = \\sum {\\left(O_i - E_i \\right)^2 \\over E_i} = 12.87$$  \n",
    "\n",
    "$$ \\text{p-value}\\approx 0.01 $$  "
   ]
  },
  {
   "cell_type": "markdown",
   "metadata": {
    "slideshow": {
     "slide_type": "fragment"
    }
   },
   "source": [
    "p-value is small, so we reject the null hypothesis.  \n",
    "\n",
    "We have very strong evidence to conclude that Aria is right, the candy type and color distribution are dependent."
   ]
  },
  {
   "cell_type": "markdown",
   "metadata": {
    "slideshow": {
     "slide_type": "slide"
    }
   },
   "source": [
    "## How does this work?\n",
    "\n",
    "* It's actually the same thing as before, just without a model.\n",
    "* We calculate the expected values based on the data.\n",
    "* We can do this because we are able to obtain the joint probabilities from the contingency table\n",
    "* If the events are independent, $P(A \\cap B) = P(A) \\times P(B)$  \n",
    "* So, assuming independence gives us the probabilities for calculating the expected counts\n",
    "* $H_0:$ the two variables are independent\n",
    "* $H_a:$ the two variables are not independent"
   ]
  },
  {
   "cell_type": "markdown",
   "metadata": {
    "slideshow": {
     "slide_type": "slide"
    }
   },
   "source": [
    "| |Red|Green|Yellow|Blue|Orange|\n",
    "|:-|-:|-:|-:|-:|-:|-:|\n",
    "|Chocolate|7|2|11|8|5|\n",
    "|Peanuts|8|9|4|1|3|\n"
   ]
  },
  {
   "cell_type": "markdown",
   "metadata": {
    "slideshow": {
     "slide_type": "fragment"
    }
   },
   "source": [
    "What is $P(color = red)$  \n",
    "What is $P(type = chocolate)$"
   ]
  },
  {
   "cell_type": "markdown",
   "metadata": {
    "slideshow": {
     "slide_type": "fragment"
    }
   },
   "source": [
    "$$P(color = red) = \\frac{15}{58}$$\n",
    "$$P(type = chocolate) = \\frac{33}{58}$$\n",
    "If we assume independence this means:  \n",
    "$$P(color = red\\ \\cap\\ type = chocolate) = \\frac{15}{58} \\times \\frac{33}{58} $$  \n",
    "Since there are 58 elements in the table, the expected value for red chocolate candy is $\\frac{15}{58} \\times \\frac{33}{58} \\times 58$\n"
   ]
  },
  {
   "cell_type": "markdown",
   "metadata": {
    "slideshow": {
     "slide_type": "slide"
    }
   },
   "source": [
    "Can you fill in the table with expected counts?  \n",
    "\n",
    "| |Red|Green|Yellow|Blue|Orange|\n",
    "|:-|-:|-:|-:|-:|-:|-:|\n",
    "|Chocolate||||||\n",
    "|Peanuts|||||||\n"
   ]
  },
  {
   "cell_type": "code",
   "execution_count": 11,
   "metadata": {
    "collapsed": false,
    "slideshow": {
     "slide_type": "fragment"
    }
   },
   "outputs": [
    {
     "name": "stdout",
     "output_type": "stream",
     "text": [
      "E(red chocolate candy) = 8.534\n",
      "\n",
      "Observed:\n",
      "           Red  Green  Yellow  Blue  Orange\n",
      "Chocolate    7      2      11     8       5\n",
      "Peanut       8      9       4     1       3\n",
      "\n",
      "Expected:\n",
      "                Red     Green    Yellow     Blue    Orange\n",
      "Chocolate  8.534483  6.258621  8.534483  5.12069  4.551724\n",
      "Peanut     6.465517  4.741379  6.465517  3.87931  3.448276\n"
     ]
    }
   ],
   "source": [
    "expected_df = pd.DataFrame(expected, index=['Chocolate', 'Peanut'], columns=colors)\n",
    "\n",
    "print(\"E(red chocolate candy) = {:.4}\".format(15 / 58 * 33))\n",
    "\n",
    "print(\"\\nObserved:\\n{}\".format(data))\n",
    "print(\"\\nExpected:\\n{}\".format(expected_df))"
   ]
  },
  {
   "cell_type": "markdown",
   "metadata": {
    "slideshow": {
     "slide_type": "fragment"
    }
   },
   "source": [
    "Degrees of freedom for independence test is (number of rows - 1) * (number of columns - 1). So in our example we have (5 - 1) * (2 - 1) = 4"
   ]
  },
  {
   "cell_type": "markdown",
   "metadata": {
    "collapsed": true,
    "slideshow": {
     "slide_type": "slide"
    }
   },
   "source": [
    "### Sum up $\\chi^2$\n",
    "\n",
    "* Distribution for sum of squares of standard normals\n",
    "* Can be used for goodness of fit tests and tests of independence\n",
    "* These are really the same thing mathematically, but they use slightly different methods so get called different things\n",
    "* Both tests extract a p-value using $\\sum{(O_i - E_i)^2\\over E_i}$  \n",
    "* For goodness of fit, the expected values are what you get out of your model, and a low p-value means you reject the model\n",
    "* For independence tests you calculate the $E_i$ using an assumption of independence of the variables, then a low p-value means they are not independent"
   ]
  },
  {
   "cell_type": "markdown",
   "metadata": {},
   "source": [
    "---\n",
    "_and now for something completely different!_"
   ]
  },
  {
   "cell_type": "code",
   "execution_count": 12,
   "metadata": {
    "collapsed": false
   },
   "outputs": [
    {
     "data": {
      "image/jpeg": "[encoded data removed]",
      "text/html": [
       "\n",
       "        <iframe\n",
       "            width=\"400\"\n",
       "            height=\"300\"\n",
       "            src=\"https://www.youtube.com/embed/IhJQp-q1Y1s\"\n",
       "            frameborder=\"0\"\n",
       "            allowfullscreen\n",
       "        ></iframe>\n",
       "        "
      ],
      "text/plain": [
       "<IPython.lib.display.YouTubeVideo at 0x1041667f0>"
      ]
     },
     "execution_count": 12,
     "metadata": {},
     "output_type": "execute_result"
    }
   ],
   "source": [
    "YouTubeVideo('IhJQp-q1Y1s')"
   ]
  },
  {
   "cell_type": "code",
   "execution_count": 13,
   "metadata": {
    "collapsed": false
   },
   "outputs": [
    {
     "name": "stdout",
     "output_type": "stream",
     "text": [
      "Collecting ipy-table\n",
      "  Downloading ipy_table-v1.12.tgz\n",
      "Building wheels for collected packages: ipy-table\n",
      "  Running setup.py bdist_wheel for ipy-table ... \u001b[?25l-\b \b\\\b \bdone\n",
      "\u001b[?25h  Stored in directory: /Users/jonathanhilgart/Library/Caches/pip/wheels/9c/be/22/d76f7d4af38d6d8e1832ceaa460c45e1c617aa094ef3bd834c\n",
      "Successfully built ipy-table\n",
      "Installing collected packages: ipy-table\n",
      "Successfully installed ipy-table-1.12\n"
     ]
    }
   ],
   "source": [
    "!pip install ipy-table"
   ]
  },
  {
   "cell_type": "code",
   "execution_count": 14,
   "metadata": {
    "collapsed": true
   },
   "outputs": [],
   "source": [
    "from ipy_table import *"
   ]
  },
  {
   "cell_type": "markdown",
   "metadata": {},
   "source": [
    "---\n",
    "# Data snooping\n",
    "\n",
    "## Neural correlates of interspecies perspective taking in the post-mortem Atlantic Salmon: \n",
    "\n",
    "### An argument for multiple comparisons correction\n",
    "\n",
    "![salmon](http://www.wired.com/images_blogs/wiredscience/2009/09/fmri-salmon.jpg)  \n",
    "\n",
    "http://prefrontal.org/files/posters/Bennett-Salmon-2009.pdf"
   ]
  },
  {
   "cell_type": "markdown",
   "metadata": {},
   "source": [
    "We've talked about the need for having our hypotheses determined *before* looking at the summary table. Here is a simple example to illustrate the danger of looking at summaries of the data before deciding which hypothesis to test.\n",
    "\n",
    "Below, I will create complete noise datasets but try to find \"the best model\". There is nothing wrong with finding the best model, what is wrong is trusting the results of the summary table **after having chosen this as the best model**."
   ]
  },
  {
   "cell_type": "code",
   "execution_count": 15,
   "metadata": {
    "collapsed": false
   },
   "outputs": [
    {
     "data": {
      "text/html": [
       "<table class=\"simpletable\">\n",
       "<caption>OLS Regression Results</caption>\n",
       "<tr>\n",
       "  <th>Dep. Variable:</th>            <td>y</td>        <th>  R-squared:         </th> <td>   0.010</td>\n",
       "</tr>\n",
       "<tr>\n",
       "  <th>Model:</th>                   <td>OLS</td>       <th>  Adj. R-squared:    </th> <td>  -0.011</td>\n",
       "</tr>\n",
       "<tr>\n",
       "  <th>Method:</th>             <td>Least Squares</td>  <th>  F-statistic:       </th> <td>  0.4693</td>\n",
       "</tr>\n",
       "<tr>\n",
       "  <th>Date:</th>             <td>Mon, 03 Oct 2016</td> <th>  Prob (F-statistic):</th>  <td> 0.497</td> \n",
       "</tr>\n",
       "<tr>\n",
       "  <th>Time:</th>                 <td>14:25:03</td>     <th>  Log-Likelihood:    </th> <td> -76.044</td>\n",
       "</tr>\n",
       "<tr>\n",
       "  <th>No. Observations:</th>      <td>    50</td>      <th>  AIC:               </th> <td>   156.1</td>\n",
       "</tr>\n",
       "<tr>\n",
       "  <th>Df Residuals:</th>          <td>    48</td>      <th>  BIC:               </th> <td>   159.9</td>\n",
       "</tr>\n",
       "<tr>\n",
       "  <th>Df Model:</th>              <td>     1</td>      <th>                     </th>     <td> </td>   \n",
       "</tr>\n",
       "<tr>\n",
       "  <th>Covariance Type:</th>      <td>nonrobust</td>    <th>                     </th>     <td> </td>   \n",
       "</tr>\n",
       "</table>\n",
       "<table class=\"simpletable\">\n",
       "<tr>\n",
       "    <td></td>       <th>coef</th>     <th>std err</th>      <th>t</th>      <th>P>|t|</th> <th>[95.0% Conf. Int.]</th> \n",
       "</tr>\n",
       "<tr>\n",
       "  <th>const</th> <td>   -0.0940</td> <td>    0.160</td> <td>   -0.587</td> <td> 0.560</td> <td>   -0.416     0.228</td>\n",
       "</tr>\n",
       "<tr>\n",
       "  <th>x1</th>    <td>   -0.1184</td> <td>    0.173</td> <td>   -0.685</td> <td> 0.497</td> <td>   -0.466     0.229</td>\n",
       "</tr>\n",
       "</table>\n",
       "<table class=\"simpletable\">\n",
       "<tr>\n",
       "  <th>Omnibus:</th>       <td> 0.430</td> <th>  Durbin-Watson:     </th> <td>   2.139</td>\n",
       "</tr>\n",
       "<tr>\n",
       "  <th>Prob(Omnibus):</th> <td> 0.807</td> <th>  Jarque-Bera (JB):  </th> <td>   0.573</td>\n",
       "</tr>\n",
       "<tr>\n",
       "  <th>Skew:</th>          <td>-0.021</td> <th>  Prob(JB):          </th> <td>   0.751</td>\n",
       "</tr>\n",
       "<tr>\n",
       "  <th>Kurtosis:</th>      <td> 2.477</td> <th>  Cond. No.          </th> <td>    1.10</td>\n",
       "</tr>\n",
       "</table>"
      ],
      "text/plain": [
       "<class 'statsmodels.iolib.summary.Summary'>\n",
       "\"\"\"\n",
       "                            OLS Regression Results                            \n",
       "==============================================================================\n",
       "Dep. Variable:                      y   R-squared:                       0.010\n",
       "Model:                            OLS   Adj. R-squared:                 -0.011\n",
       "Method:                 Least Squares   F-statistic:                    0.4693\n",
       "Date:                Mon, 03 Oct 2016   Prob (F-statistic):              0.497\n",
       "Time:                        14:25:03   Log-Likelihood:                -76.044\n",
       "No. Observations:                  50   AIC:                             156.1\n",
       "Df Residuals:                      48   BIC:                             159.9\n",
       "Df Model:                           1                                         \n",
       "Covariance Type:            nonrobust                                         \n",
       "==============================================================================\n",
       "                 coef    std err          t      P>|t|      [95.0% Conf. Int.]\n",
       "------------------------------------------------------------------------------\n",
       "const         -0.0940      0.160     -0.587      0.560        -0.416     0.228\n",
       "x1            -0.1184      0.173     -0.685      0.497        -0.466     0.229\n",
       "==============================================================================\n",
       "Omnibus:                        0.430   Durbin-Watson:                   2.139\n",
       "Prob(Omnibus):                  0.807   Jarque-Bera (JB):                0.573\n",
       "Skew:                          -0.021   Prob(JB):                        0.751\n",
       "Kurtosis:                       2.477   Cond. No.                         1.10\n",
       "==============================================================================\n",
       "\n",
       "Warnings:\n",
       "[1] Standard Errors assume that the covariance matrix of the errors is correctly specified.\n",
       "\"\"\""
      ]
     },
     "execution_count": 15,
     "metadata": {},
     "output_type": "execute_result"
    },
    {
     "data": {
      "image/png": "[encoded data removed]",
      "text/plain": [
       "<matplotlib.figure.Figure at 0x1180666a0>"
      ]
     },
     "metadata": {},
     "output_type": "display_data"
    }
   ],
   "source": [
    "X = randn(50000).reshape((50,1000))\n",
    "Y = randn(50)\n",
    "Z = (X.T.dot(Y - Y.mean())) / Y.std()\n",
    "qqplot(Z)\n",
    "sm.OLS(Y, sm.add_constant(X[:,0])).fit().summary()"
   ]
  },
  {
   "cell_type": "markdown",
   "metadata": {},
   "source": [
    "The collection of 1000 $T$ statistics looks pretty close to a normal (with 50 degrees of freedom). This is not surprising.\n",
    "\n",
    "Now, let's look at the largest $T$"
   ]
  },
  {
   "cell_type": "code",
   "execution_count": 16,
   "metadata": {
    "collapsed": false
   },
   "outputs": [
    {
     "data": {
      "text/html": [
       "<table class=\"simpletable\">\n",
       "<caption>OLS Regression Results</caption>\n",
       "<tr>\n",
       "  <th>Dep. Variable:</th>            <td>y</td>        <th>  R-squared:         </th> <td>   0.194</td>\n",
       "</tr>\n",
       "<tr>\n",
       "  <th>Model:</th>                   <td>OLS</td>       <th>  Adj. R-squared:    </th> <td>   0.177</td>\n",
       "</tr>\n",
       "<tr>\n",
       "  <th>Method:</th>             <td>Least Squares</td>  <th>  F-statistic:       </th> <td>   11.56</td>\n",
       "</tr>\n",
       "<tr>\n",
       "  <th>Date:</th>             <td>Mon, 03 Oct 2016</td> <th>  Prob (F-statistic):</th>  <td>0.00136</td>\n",
       "</tr>\n",
       "<tr>\n",
       "  <th>Time:</th>                 <td>14:25:04</td>     <th>  Log-Likelihood:    </th> <td> -70.891</td>\n",
       "</tr>\n",
       "<tr>\n",
       "  <th>No. Observations:</th>      <td>    50</td>      <th>  AIC:               </th> <td>   145.8</td>\n",
       "</tr>\n",
       "<tr>\n",
       "  <th>Df Residuals:</th>          <td>    48</td>      <th>  BIC:               </th> <td>   149.6</td>\n",
       "</tr>\n",
       "<tr>\n",
       "  <th>Df Model:</th>              <td>     1</td>      <th>                     </th>     <td> </td>   \n",
       "</tr>\n",
       "<tr>\n",
       "  <th>Covariance Type:</th>      <td>nonrobust</td>    <th>                     </th>     <td> </td>   \n",
       "</tr>\n",
       "</table>\n",
       "<table class=\"simpletable\">\n",
       "<tr>\n",
       "    <td></td>       <th>coef</th>     <th>std err</th>      <th>t</th>      <th>P>|t|</th> <th>[95.0% Conf. Int.]</th> \n",
       "</tr>\n",
       "<tr>\n",
       "  <th>const</th> <td>   -0.0775</td> <td>    0.144</td> <td>   -0.537</td> <td> 0.594</td> <td>   -0.367     0.212</td>\n",
       "</tr>\n",
       "<tr>\n",
       "  <th>x1</th>    <td>    0.4524</td> <td>    0.133</td> <td>    3.400</td> <td> 0.001</td> <td>    0.185     0.720</td>\n",
       "</tr>\n",
       "</table>\n",
       "<table class=\"simpletable\">\n",
       "<tr>\n",
       "  <th>Omnibus:</th>       <td> 4.045</td> <th>  Durbin-Watson:     </th> <td>   2.479</td>\n",
       "</tr>\n",
       "<tr>\n",
       "  <th>Prob(Omnibus):</th> <td> 0.132</td> <th>  Jarque-Bera (JB):  </th> <td>   1.833</td>\n",
       "</tr>\n",
       "<tr>\n",
       "  <th>Skew:</th>          <td>-0.045</td> <th>  Prob(JB):          </th> <td>   0.400</td>\n",
       "</tr>\n",
       "<tr>\n",
       "  <th>Kurtosis:</th>      <td> 2.066</td> <th>  Cond. No.          </th> <td>    1.09</td>\n",
       "</tr>\n",
       "</table>"
      ],
      "text/plain": [
       "<class 'statsmodels.iolib.summary.Summary'>\n",
       "\"\"\"\n",
       "                            OLS Regression Results                            \n",
       "==============================================================================\n",
       "Dep. Variable:                      y   R-squared:                       0.194\n",
       "Model:                            OLS   Adj. R-squared:                  0.177\n",
       "Method:                 Least Squares   F-statistic:                     11.56\n",
       "Date:                Mon, 03 Oct 2016   Prob (F-statistic):            0.00136\n",
       "Time:                        14:25:04   Log-Likelihood:                -70.891\n",
       "No. Observations:                  50   AIC:                             145.8\n",
       "Df Residuals:                      48   BIC:                             149.6\n",
       "Df Model:                           1                                         \n",
       "Covariance Type:            nonrobust                                         \n",
       "==============================================================================\n",
       "                 coef    std err          t      P>|t|      [95.0% Conf. Int.]\n",
       "------------------------------------------------------------------------------\n",
       "const         -0.0775      0.144     -0.537      0.594        -0.367     0.212\n",
       "x1             0.4524      0.133      3.400      0.001         0.185     0.720\n",
       "==============================================================================\n",
       "Omnibus:                        4.045   Durbin-Watson:                   2.479\n",
       "Prob(Omnibus):                  0.132   Jarque-Bera (JB):                1.833\n",
       "Skew:                          -0.045   Prob(JB):                        0.400\n",
       "Kurtosis:                       2.066   Cond. No.                         1.09\n",
       "==============================================================================\n",
       "\n",
       "Warnings:\n",
       "[1] Standard Errors assume that the covariance matrix of the errors is correctly specified.\n",
       "\"\"\""
      ]
     },
     "execution_count": 16,
     "metadata": {},
     "output_type": "execute_result"
    }
   ],
   "source": [
    "largest_T = abs(Z).argmax()\n",
    "sm.OLS(Y, sm.add_constant(X[:, largest_T])).fit().summary()"
   ]
  },
  {
   "cell_type": "markdown",
   "metadata": {},
   "source": [
    "The $T$ statistic is much larger in absolute value than it should be.\n",
    "Let's repeat this experiment many times."
   ]
  },
  {
   "cell_type": "code",
   "execution_count": 17,
   "metadata": {
    "collapsed": false
   },
   "outputs": [
    {
     "name": "stdout",
     "output_type": "stream",
     "text": [
      "                            OLS Regression Results                            \n",
      "==============================================================================\n",
      "Dep. Variable:                      y   R-squared:                       0.105\n",
      "Model:                            OLS   Adj. R-squared:                  0.086\n",
      "Method:                 Least Squares   F-statistic:                     5.623\n",
      "Date:                Mon, 03 Oct 2016   Prob (F-statistic):             0.0218\n",
      "Time:                        14:25:04   Log-Likelihood:                -70.562\n",
      "No. Observations:                  50   AIC:                             145.1\n",
      "Df Residuals:                      48   BIC:                             148.9\n",
      "Df Model:                           1                                         \n",
      "Covariance Type:            nonrobust                                         \n",
      "==============================================================================\n",
      "                 coef    std err          t      P>|t|      [95.0% Conf. Int.]\n",
      "------------------------------------------------------------------------------\n",
      "const          0.0135      0.144      0.094      0.926        -0.276     0.303\n",
      "x1             0.3458      0.146      2.371      0.022         0.053     0.639\n",
      "==============================================================================\n",
      "Omnibus:                        3.448   Durbin-Watson:                   1.731\n",
      "Prob(Omnibus):                  0.178   Jarque-Bera (JB):                1.680\n",
      "Skew:                           0.014   Prob(JB):                        0.432\n",
      "Kurtosis:                       2.103   Cond. No.                         1.10\n",
      "==============================================================================\n",
      "\n",
      "Warnings:\n",
      "[1] Standard Errors assume that the covariance matrix of the errors is correctly specified.\n"
     ]
    },
    {
     "data": {
      "text/plain": [
       "0.021791397625630392"
      ]
     },
     "execution_count": 17,
     "metadata": {},
     "output_type": "execute_result"
    }
   ],
   "source": [
    "def largest_T_sim(printit = False):\n",
    "    X = randn(500).reshape((50,10))\n",
    "    Y = randn(50)\n",
    "    Z = (X.T.dot(Y - Y.mean())) / Y.std()\n",
    "    largest_T = abs(Z).argmax()\n",
    "    lm = sm.OLS(Y, sm.add_constant(X[:,largest_T])).fit()\n",
    "    if printit:\n",
    "        print(lm.summary())\n",
    "    return lm.pvalues[1]\n",
    "\n",
    "largest_T_sim(True)"
   ]
  },
  {
   "cell_type": "markdown",
   "metadata": {},
   "source": [
    "We can do this many times and store the $p$-values. What will their distribution look like?"
   ]
  },
  {
   "cell_type": "code",
   "execution_count": 18,
   "metadata": {
    "collapsed": false
   },
   "outputs": [
    {
     "data": {
      "image/png": "[encoded data removed]",
      "text/plain": [
       "<matplotlib.figure.Figure at 0x101b86940>"
      ]
     },
     "metadata": {},
     "output_type": "display_data"
    }
   ],
   "source": [
    "pval = pd.Series(largest_T_sim() for _ in range(200))\n",
    "ecdf = ECDF(pval)\n",
    "plot(ecdf.x, ecdf.y);"
   ]
  },
  {
   "cell_type": "markdown",
   "metadata": {},
   "source": [
    "## Type I error\n",
    "\n",
    "How likely are we to conclude there is an effect if we use these $p$-values?"
   ]
  },
  {
   "cell_type": "code",
   "execution_count": 19,
   "metadata": {
    "collapsed": false
   },
   "outputs": [
    {
     "data": {
      "text/plain": [
       "0.36499999999999999"
      ]
     },
     "execution_count": 19,
     "metadata": {},
     "output_type": "execute_result"
    }
   ],
   "source": [
    "ecdf(.05)"
   ]
  },
  {
   "cell_type": "code",
   "execution_count": 20,
   "metadata": {
    "collapsed": false
   },
   "outputs": [
    {
     "data": {
      "text/plain": [
       "count    200.000000\n",
       "mean       0.099466\n",
       "std        0.088038\n",
       "min        0.000285\n",
       "25%        0.032430\n",
       "50%        0.069943\n",
       "75%        0.146748\n",
       "max        0.428295\n",
       "dtype: float64"
      ]
     },
     "execution_count": 20,
     "metadata": {},
     "output_type": "execute_result"
    }
   ],
   "source": [
    "pval.describe()"
   ]
  },
  {
   "cell_type": "markdown",
   "metadata": {},
   "source": [
    "Multiple Hypothesis Testing\n",
    "==================================\n",
    "<!-- adapted from http://www.stat.berkeley.edu/~mgoldman/Section0402.pdf -->\n",
    "\n",
    "Why is multiple testing a problem?\n",
    "--------------------------------\n",
    "Say you have a set of hypotheses that you wish to test simultaneously.  The first idea that might come to mind is to test each hypothesis separately, using some level of significance. At first blush, this doesn't seem like a bad idea.  However, consider a case where you have 20 hypotheses to test, and a significance level of 0.05.  What's the probability of observing at least one significant result just due to chance?\n",
    "$$\\begin{align}\n",
    "P(\\text{at least one significant result}) &= 1 - P(\\text{no significant results})\\\\\n",
    "&=1 - (1 - 0.05)^{20} \\\\\n",
    "&\\approx 0.64\n",
    "\\end{align}$$\n",
    "So, with 20 tests being considered, we have a 64% chance of observing at least one significant result, even if all of the tests are actually not significant.  In many fields,  it's  not  unusual  for  the  number  of  simultaneous  tests  to  be  quite  a bit larger than 20...  and the probability of getting a significant result simply due to chance keeps going up. \n",
    "\n",
    "Methods for dealing with multiple testing frequently call for adjusting in some way, so that the probability of observing at least one significant result due to chance remains below your desired significance level.\n",
    "\n",
    "Bonferroni Correction\n",
    "--------------------------------\n",
    "The Bonferroni correction sets the significance cut-off at $\\alpha/n$. For example, in the example above, with 20 tests and $\\alpha=0.05$, you'd only reject a null hypothesis if the p-value is less than 0.0025.  The Bonferroni correction tends to be a bit too conservative.  To demonstrate this, let's calculate the probability of observing at least one signi\f",
    "cant result when using the correction just described:\n",
    "$$\\begin{align}\n",
    "P(\\text{at least one significant result}) &= 1 - P(\\text{no significant results})\\\\\n",
    "&=1 - (1 - 0.0025)^{20} \\\\\n",
    "&\\approx 0.0488\n",
    "\\end{align}$$\n",
    "Here, we're just a shade under our desired 0.05 level.  We benefit here from assuming that all tests are independent of each other.  In practical applications, that is often not the case.  Depending on the correlation structure of the tests, the Bonferroni correction could be extremely conservative, leading to a high rate of false negatives.\n",
    "\n",
    "False Discovery Rate\n",
    "--------------------------------\n",
    "In large-scale multiple testing, you may be better served by controlling the false discovery rate (FDR). This is defined as the proportion of false positives among all significant results.  The FDR works by estimating some rejection region so that, on average, FDR $\\lt\\alpha$.\n",
    "\n",
    "Comparing the three\n",
    "--------------------------------\n",
    "First, let's make some data.  For kicks and grins, we'll use the random normals in such a way\n",
    "that we'll know what the result of each hypothesis test should be."
   ]
  },
  {
   "cell_type": "markdown",
   "metadata": {},
   "source": [
    "<!--\n",
    "## Multiple Comparisons\n",
    "\n",
    "The scenario of testing many pairs of groups is called **multiple comparisons**.  \n",
    "\n",
    "* Suppose we want test a new way of teaching writing to students, and we randomly assign students to the new way of teaching and the standard way of teaching writing. Students in the two groups can be compared in terms of grammar, spelling, organization, content, and so on. As more attributes are compared, it becomes more likely that the two groups will appear to differ on at least one attribute by random chance alone.    \n",
    "\n",
    "\n",
    "* Suppose we consider the efficacy of a drug in terms of the reduction of any one of a number of disease symptoms. As more symptoms are considered, it becomes more likely that the drug will appear to be an improvement over existing drugs in terms of at least one symptom.\n",
    "\n",
    "**What can we do?**\n",
    "\n",
    "For hypothesis testing, the problem of multiple comparisons (also known as the multiple testing problem) results from the increase in type I error that occurs when statistical tests are used repeatedly.\n",
    "\n",
    "The **Bonferroni correction** suggests that a more stringent significance level is more appropriate for these tests:  \n",
    "\n",
    "$$ \\alpha^* = \\alpha / K $$  \n",
    "\n",
    "Where $\\alpha$ is usually set to be 0.05, and $K$ is the total number of comparisons.  \n",
    "\n",
    "The **Bonferroni correction** is one of the most conservative methods for counteracting the problem of multiple comparisons.\n",
    "-->"
   ]
  },
  {
   "cell_type": "code",
   "execution_count": 21,
   "metadata": {
    "collapsed": false
   },
   "outputs": [],
   "source": [
    "seed(27)\n",
    "x = randn(1000)\n",
    "x[-100:] += 3\n",
    "p = 1 - stats.norm.cdf(x)"
   ]
  },
  {
   "cell_type": "markdown",
   "metadata": {},
   "source": [
    "These functions should all be familiar. Here, we've made a vector, x, of length 1000.  The first 900 entries are random numbers with a standard normal distribution.  The last 100 are random numbers from a normal distribution with mean 3 and sd 1.  Note that I didn't need to indicated the sd of 1 in the second bit; it's the default value. The next line of code is finding the p-values for a hypothesis test on each value of x.  The hypothesis being tested is that the value of x is not difierent from 0, given the entries are drawn from a standard normal distribution.  The alternate is a one-sided test, claiming that the value is larger than 0.\n",
    "\n",
    "Now,  in  this  case,  we  know  the  truth:  The  first  900  observations  should  fail  to  reject the null hypothesis:  they are, in fact, drawn from a standard normal distribution and any difference between the observed value and 0 is just due to chance.  The last 100 observations should reject the null hypothesis:  the difference between these values and 0 is not due to chance alone.\n",
    "\n",
    "Let's take a look at our p-values, adjust them in various ways, and see what sort of results\n",
    "we get.  Note that, since we all will have our own random vectors, your figures will probably\n",
    "be a different from mine.  They should be pretty close, however."
   ]
  },
  {
   "cell_type": "markdown",
   "metadata": {},
   "source": [
    "### 1. No corrections"
   ]
  },
  {
   "cell_type": "code",
   "execution_count": 22,
   "metadata": {
    "collapsed": true
   },
   "outputs": [],
   "source": [
    "test = p <= 0.05"
   ]
  },
  {
   "cell_type": "code",
   "execution_count": 23,
   "metadata": {
    "collapsed": true
   },
   "outputs": [],
   "source": [
    "def result_table(test_stats, pos=r'\\text{Positive}', neg=r'\\text{Negative}', head=' ', neg_count=900):\n",
    "    pos_count = len(test_stats) - neg_count\n",
    "    tbl = [(head, neg, pos, r'\\text{Total}'),\n",
    "           ('\\mu=0', neg_count - sum(test_stats[ :neg_count]), sum(test_stats[ :neg_count]), neg_count),\n",
    "           ('\\mu=3', pos_count - sum(test_stats[-pos_count:]), sum(test_stats[-pos_count:]), pos_count)]\n",
    "    return list(map(lambda r: list(map('${}$'.format, r)), tbl))"
   ]
  },
  {
   "cell_type": "code",
   "execution_count": 24,
   "metadata": {
    "collapsed": false
   },
   "outputs": [
    {
     "data": {
      "text/html": [
       "<table border=\"1\" cellpadding=\"3\" cellspacing=\"0\"  style=\"border:1px solid black;border-collapse:collapse;\"><tr><td  style=\"background-color:White;border-left: 1px solid transparent;border-top: 1px solid transparent;text-align:right;width:67px;\"><b>$&nbsp$</b></td><td  style=\"background-color:LightGray;text-align:right;width:67px;\"><b>$p\\gt0.05$</b></td><td  style=\"background-color:LightGray;text-align:right;width:67px;\"><b>$p\\le0.05$</b></td><td  style=\"background-color:LightGray;text-align:right;width:67px;\"><b>$\\text{Total}$</b></td></tr><tr><td  style=\"background-color:LightGray;text-align:right;width:67px;\"><b>$\\mu=0$</b></td><td  style=\"background-color:Ivory;text-align:right;width:67px;\">$852$</td><td  style=\"background-color:Ivory;text-align:right;width:67px;\">$48$</td><td  style=\"background-color:Ivory;text-align:right;width:67px;\">$900$</td></tr><tr><td  style=\"background-color:LightGray;text-align:right;width:67px;\"><b>$\\mu=3$</b></td><td  style=\"background-color:AliceBlue;text-align:right;width:67px;\">$6$</td><td  style=\"background-color:AliceBlue;text-align:right;width:67px;\">$94$</td><td  style=\"background-color:AliceBlue;text-align:right;width:67px;\">$100$</td></tr></table>"
      ],
      "text/plain": [
       "<ipy_table.IpyTable at 0x1181c74e0>"
      ]
     },
     "execution_count": 24,
     "metadata": {},
     "output_type": "execute_result"
    }
   ],
   "source": [
    "tbl = result_table(test, 'p\\le0.05', 'p\\gt0.05')\n",
    "make_table(tbl)\n",
    "set_global_style(align=\"right\", width=67)\n",
    "apply_theme('basic_both')"
   ]
  },
  {
   "cell_type": "markdown",
   "metadata": {},
   "source": [
    "The type I error rate (false positives) is 48/900 = 0.0533.  The type II error rate (false\n",
    "negatives) is 6/100 = 0.06.  Note that the type I error rate is awfully close to our $\\alpha$, 0.05. This isn't a coincidence: $\\alpha$ can be thought of as some target type I error rate."
   ]
  },
  {
   "cell_type": "markdown",
   "metadata": {},
   "source": [
    "### 2. Bonferroni correction\n",
    "\n",
    "We have $\\alpha=0.05$, and $1000$ tests, so the Bonferroni correction will have us looking for p-values smaller than $0.00005$."
   ]
  },
  {
   "cell_type": "code",
   "execution_count": 25,
   "metadata": {
    "collapsed": false
   },
   "outputs": [
    {
     "data": {
      "text/html": [
       "<table border=\"1\" cellpadding=\"3\" cellspacing=\"0\"  style=\"border:1px solid black;border-collapse:collapse;\"><tr><td  style=\"background-color:White;border-left: 1px solid transparent;border-top: 1px solid transparent;text-align:right;width:67px;\"><b>$&nbsp$</b></td><td  style=\"background-color:LightGray;text-align:right;width:67px;\"><b>$p\\gt\\frac{.05}{1000}$</b></td><td  style=\"background-color:LightGray;text-align:right;width:67px;\"><b>$p\\le\\frac{.05}{1000}$</b></td><td  style=\"background-color:LightGray;text-align:right;width:67px;\"><b>$\\text{Total}$</b></td></tr><tr><td  style=\"background-color:LightGray;text-align:right;width:67px;\"><b>$\\mu=0$</b></td><td  style=\"background-color:Ivory;text-align:right;width:67px;\">$900$</td><td  style=\"background-color:Ivory;text-align:right;width:67px;\">$0$</td><td  style=\"background-color:Ivory;text-align:right;width:67px;\">$900$</td></tr><tr><td  style=\"background-color:LightGray;text-align:right;width:67px;\"><b>$\\mu=3$</b></td><td  style=\"background-color:AliceBlue;text-align:right;width:67px;\">$78$</td><td  style=\"background-color:AliceBlue;text-align:right;width:67px;\">$22$</td><td  style=\"background-color:AliceBlue;text-align:right;width:67px;\">$100$</td></tr></table>"
      ],
      "text/plain": [
       "<ipy_table.IpyTable at 0x1181b8898>"
      ]
     },
     "execution_count": 25,
     "metadata": {},
     "output_type": "execute_result"
    }
   ],
   "source": [
    "bonftest = p <= 0.05/1000\n",
    "tbl = result_table(bonftest, r'p\\le\\frac{.05}{1000}', r'p\\gt\\frac{.05}{1000}')\n",
    "make_table(tbl)\n",
    "set_global_style(align=\"right\", width=67)\n",
    "apply_theme('basic_both')"
   ]
  },
  {
   "cell_type": "markdown",
   "metadata": {},
   "source": [
    "Here, the type I error rate is 0/900, but the type II error rate has skyrocketed to 0.78.  We've reduced our false positives at the expense of false negatives.  Ask yourself: which is worse?  False positives or false negatives?  Note:  there isn't a firm answer. It really depends on the context of the problem and the consequences of each type of error."
   ]
  },
  {
   "cell_type": "markdown",
   "metadata": {},
   "source": [
    "### 3. FDR\n",
    "For the FDR, we want to consider the ordered p-values.  We'll see if the kth ordered p-value\n",
    "is larger than $\\frac{k\\times.05}{1000}$."
   ]
  },
  {
   "cell_type": "code",
   "execution_count": 26,
   "metadata": {
    "collapsed": true
   },
   "outputs": [],
   "source": [
    "psort = sorted(p)\n",
    "fdrtest = [p_val <= (psort.index(p_val) + 1) * .05/1000 for p_val in p]"
   ]
  },
  {
   "cell_type": "markdown",
   "metadata": {},
   "source": [
    "Let's parse this bit of code. I want the string of Trues and Falses to be in the same order as the original p-values, so we can easily pick off the errors. I start by creating a separate variable, `psort`, which holds the same values as `p`, but sorted from smallest to largest. Say I want to test only the first entry of p:"
   ]
  },
  {
   "cell_type": "code",
   "execution_count": 27,
   "metadata": {
    "collapsed": false
   },
   "outputs": [
    {
     "data": {
      "text/plain": [
       "False"
      ]
     },
     "execution_count": 27,
     "metadata": {},
     "output_type": "execute_result"
    }
   ],
   "source": [
    "p[0] <= psort.index(p[0]) * .05/1000"
   ]
  },
  {
   "cell_type": "markdown",
   "metadata": {},
   "source": [
    "`p[0]` picks off the first entry from the vector `p`.  `psort.index(p[0])` looks through the vector `psort`, finds the first value that's exactly equal to `p[0]`, and returns the index of the vector it is. In my random vector, `psort.index(p[0])` returns 185.  That means that, if you put all the p-values in order from smallest to largest, the 185th largest value is the one that appears first in my vector.  The value you get might differ pretty wildly if you change the `random.seed` above in this case. Anyhow, on to see how the errors:"
   ]
  },
  {
   "cell_type": "code",
   "execution_count": 28,
   "metadata": {
    "collapsed": false
   },
   "outputs": [
    {
     "data": {
      "text/html": [
       "<table border=\"1\" cellpadding=\"3\" cellspacing=\"0\"  style=\"border:1px solid black;border-collapse:collapse;\"><tr><td  style=\"background-color:White;border-left: 1px solid transparent;border-top: 1px solid transparent;text-align:right;width:73px;\"><b>$&nbsp$</b></td><td  style=\"background-color:LightGray;text-align:right;width:73px;\"><b>$p\\gt\\frac{k\\times.05}{1000}$</b></td><td  style=\"background-color:LightGray;text-align:right;width:73px;\"><b>$p\\le\\frac{k\\times.05}{1000}$</b></td><td  style=\"background-color:LightGray;text-align:right;width:73px;\"><b>$\\text{Total}$</b></td></tr><tr><td  style=\"background-color:LightGray;text-align:right;width:73px;\"><b>$\\mu=0$</b></td><td  style=\"background-color:Ivory;text-align:right;width:73px;\">$894$</td><td  style=\"background-color:Ivory;text-align:right;width:73px;\">$6$</td><td  style=\"background-color:Ivory;text-align:right;width:73px;\">$900$</td></tr><tr><td  style=\"background-color:LightGray;text-align:right;width:73px;\"><b>$\\mu=3$</b></td><td  style=\"background-color:AliceBlue;text-align:right;width:73px;\">$34$</td><td  style=\"background-color:AliceBlue;text-align:right;width:73px;\">$66$</td><td  style=\"background-color:AliceBlue;text-align:right;width:73px;\">$100$</td></tr></table>"
      ],
      "text/plain": [
       "<ipy_table.IpyTable at 0x1181bc1d0>"
      ]
     },
     "execution_count": 28,
     "metadata": {},
     "output_type": "execute_result"
    }
   ],
   "source": [
    "tbl = result_table(fdrtest, r'p\\le\\frac{k\\times.05}{1000}', r'p\\gt\\frac{k\\times.05}{1000}')\n",
    "make_table(tbl)\n",
    "set_global_style(align=\"right\", width=73)\n",
    "apply_theme('basic_both')"
   ]
  },
  {
   "cell_type": "markdown",
   "metadata": {},
   "source": [
    "Now we have a type I error rate of 6/900 = 0.0067.  The type II error rate is now 34/100\n",
    "= 0.30, a big improvement over the Bonferroni correction!"
   ]
  },
  {
   "cell_type": "markdown",
   "metadata": {},
   "source": [
    "We can simplify this process by using the `multipletests` function in `statsmodels.stats.multitest`:"
   ]
  },
  {
   "cell_type": "code",
   "execution_count": 29,
   "metadata": {
    "collapsed": true
   },
   "outputs": [],
   "source": [
    "from statsmodels.stats.multitest import multipletests"
   ]
  },
  {
   "cell_type": "code",
   "execution_count": 30,
   "metadata": {
    "collapsed": false
   },
   "outputs": [
    {
     "data": {
      "text/html": [
       "<table border=\"1\" cellpadding=\"3\" cellspacing=\"0\"  style=\"border:1px solid black;border-collapse:collapse;\"><tr><td  style=\"background-color:White;border-left: 1px solid transparent;border-top: 1px solid transparent;text-align:right;\"><b>$Bonferroni$</b></td><td  style=\"background-color:LightGray;text-align:right;\"><b>$\\text{Negative}$</b></td><td  style=\"background-color:LightGray;text-align:right;\"><b>$\\text{Positive}$</b></td><td  style=\"background-color:LightGray;text-align:right;\"><b>$\\text{Total}$</b></td></tr><tr><td  style=\"background-color:LightGray;text-align:right;\"><b>$\\mu=0$</b></td><td  style=\"background-color:Ivory;text-align:right;\">$900$</td><td  style=\"background-color:Ivory;text-align:right;\">$0$</td><td  style=\"background-color:Ivory;text-align:right;\">$900$</td></tr><tr><td  style=\"background-color:LightGray;text-align:right;\"><b>$\\mu=3$</b></td><td  style=\"background-color:AliceBlue;text-align:right;\">$78$</td><td  style=\"background-color:AliceBlue;text-align:right;\">$22$</td><td  style=\"background-color:AliceBlue;text-align:right;\">$100$</td></tr></table>"
      ],
      "text/plain": [
       "<ipy_table.IpyTable at 0x1181b6f60>"
      ]
     },
     "execution_count": 30,
     "metadata": {},
     "output_type": "execute_result"
    }
   ],
   "source": [
    "bonftest2 = multipletests(p, alpha=.05, method='bonferroni')[0]\n",
    "tbl = result_table(bonftest2, head='Bonferroni')\n",
    "make_table(tbl)\n",
    "set_global_style(align=\"right\")\n",
    "apply_theme('basic_both')"
   ]
  },
  {
   "cell_type": "code",
   "execution_count": 31,
   "metadata": {
    "collapsed": false
   },
   "outputs": [
    {
     "data": {
      "text/html": [
       "<table border=\"1\" cellpadding=\"3\" cellspacing=\"0\"  style=\"border:1px solid black;border-collapse:collapse;\"><tr><td  style=\"background-color:White;border-left: 1px solid transparent;border-top: 1px solid transparent;text-align:right;width:50px;\"><b>$FDR$</b></td><td  style=\"background-color:LightGray;text-align:right;width:50px;\"><b>$\\text{Negative}$</b></td><td  style=\"background-color:LightGray;text-align:right;width:50px;\"><b>$\\text{Positive}$</b></td><td  style=\"background-color:LightGray;text-align:right;width:50px;\"><b>$\\text{Total}$</b></td></tr><tr><td  style=\"background-color:LightGray;text-align:right;width:50px;\"><b>$\\mu=0$</b></td><td  style=\"background-color:Ivory;text-align:right;width:50px;\">$894$</td><td  style=\"background-color:Ivory;text-align:right;width:50px;\">$6$</td><td  style=\"background-color:Ivory;text-align:right;width:50px;\">$900$</td></tr><tr><td  style=\"background-color:LightGray;text-align:right;width:50px;\"><b>$\\mu=3$</b></td><td  style=\"background-color:AliceBlue;text-align:right;width:50px;\">$34$</td><td  style=\"background-color:AliceBlue;text-align:right;width:50px;\">$66$</td><td  style=\"background-color:AliceBlue;text-align:right;width:50px;\">$100$</td></tr></table>"
      ],
      "text/plain": [
       "<ipy_table.IpyTable at 0x118083550>"
      ]
     },
     "execution_count": 31,
     "metadata": {},
     "output_type": "execute_result"
    }
   ],
   "source": [
    "fdrtest2 = multipletests(p, alpha=.05, method='fdr_bh')[0]\n",
    "tbl = result_table(fdrtest2, head='FDR')\n",
    "make_table(tbl)\n",
    "set_global_style(align=\"right\", width=50)\n",
    "apply_theme('basic_both')"
   ]
  }
 ],
 "metadata": {
  "anaconda-cloud": {},
  "kernelspec": {
   "display_name": "Python [Root]",
   "language": "python",
   "name": "Python [Root]"
  },
  "language_info": {
   "codemirror_mode": {
    "name": "ipython",
    "version": 3
   },
   "file_extension": ".py",
   "mimetype": "text/x-python",
   "name": "python",
   "nbconvert_exporter": "python",
   "pygments_lexer": "ipython3",
   "version": "3.5.2"
  }
 },
 "nbformat": 4,
 "nbformat_minor": 0
}
