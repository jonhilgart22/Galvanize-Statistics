{
 "cells": [
  {
   "cell_type": "markdown",
   "metadata": {
    "slideshow": {
     "slide_type": "slide"
    }
   },
   "source": [
    "# Lecture 6.1: Regression Redux  \n",
    "\n",
    "## Outline\n",
    "\n",
    "* Review: simple linear regression\n",
    "* Inference\n",
    "    * Point estimate\n",
    "    * Confidence interval\n",
    "    * Hypothesis testing\n",
    "    \n",
    "## Objectives\n",
    "\n",
    "* Model data using simple linear regression\n",
    "* Calculate confidence intervals for regression coefficients\n",
    "* Test if a variable is significant in a regression model"
   ]
  },
  {
   "cell_type": "markdown",
   "metadata": {
    "slideshow": {
     "slide_type": "slide"
    }
   },
   "source": [
    "## Review: Simple Linear Regression  \n",
    "\n",
    "### Regression Analysis  \n",
    "\n",
    "* Regression analysis is used to predict the value of one variable (the dependent variable) on the basis of other variables (the independent variables).\n",
    "    * Dependent variable: denoted $Y$\n",
    "    * Independent variables: denoted $X_1, X_2, \\dots, X_k$"
   ]
  },
  {
   "cell_type": "markdown",
   "metadata": {
    "slideshow": {
     "slide_type": "fragment"
    }
   },
   "source": [
    "* In Simple Linear Regression, one $X$ variable is used to explain the variable $Y$  \n",
    "\n",
    "* In Multiple Linear Regression, more than one $X$ variable is used to explain the variable $Y$  "
   ]
  },
  {
   "cell_type": "markdown",
   "metadata": {
    "slideshow": {
     "slide_type": "slide"
    }
   },
   "source": [
    "**Example**  \n",
    "\n",
    "\n",
    "Data were collected on a number of different cars, and we would like to predict the MPG (miles per gallon) of the cars using the variable `horsepower`."
   ]
  },
  {
   "cell_type": "code",
   "execution_count": null,
   "metadata": {
    "collapsed": false,
    "slideshow": {
     "slide_type": "skip"
    }
   },
   "outputs": [],
   "source": [
    "%pylab inline\n",
    "\n",
    "import pandas as pd\n",
    "import seaborn as sns\n",
    "import statsmodels.api as sm\n",
    "import yaml\n",
    "\n",
    "from sqlalchemy import create_engine\n",
    "\n",
    "pg_creds = yaml.load(open('../../pg_creds.yaml'))['student']\n",
    "\n",
    "engine = create_engine('postgresql://{user}:{password}@{host}:{port}/{dbname}'.format(**pg_creds))\n",
    "\n",
    "cars = pd.read_sql(\"SELECT * FROM cars WHERE horsepower IS NOT NULL;\", engine, index_col='index')"
   ]
  },
  {
   "cell_type": "code",
   "execution_count": null,
   "metadata": {
    "collapsed": false
   },
   "outputs": [],
   "source": [
    "cars.head()"
   ]
  },
  {
   "cell_type": "code",
   "execution_count": null,
   "metadata": {
    "collapsed": false,
    "slideshow": {
     "slide_type": "slide"
    }
   },
   "outputs": [],
   "source": [
    "cars.plot('horsepower', 'mpg', kind='scatter');"
   ]
  },
  {
   "cell_type": "code",
   "execution_count": null,
   "metadata": {
    "collapsed": false,
    "slideshow": {
     "slide_type": "slide"
    }
   },
   "outputs": [],
   "source": [
    "X = cars.horsepower\n",
    "X = sm.add_constant(X)\n",
    "y = cars.mpg\n",
    "\n",
    "model = sm.OLS(y, X)\n",
    "results = model.fit()\n",
    "results.summary()"
   ]
  },
  {
   "cell_type": "code",
   "execution_count": null,
   "metadata": {
    "collapsed": false,
    "slideshow": {
     "slide_type": "slide"
    }
   },
   "outputs": [],
   "source": [
    "results.params"
   ]
  },
  {
   "cell_type": "markdown",
   "metadata": {
    "slideshow": {
     "slide_type": "fragment"
    }
   },
   "source": [
    "The equation of our regression line is given by  \n",
    "\n",
    "$$ \\hat{mpg} = 39.9359 - 0.1578 \\times horsepower $$  \n",
    "\n",
    "Interpretation?  \n",
    "\n",
    "Model fit?  "
   ]
  },
  {
   "cell_type": "markdown",
   "metadata": {
    "slideshow": {
     "slide_type": "slide"
    }
   },
   "source": [
    "### The Model We Assume  \n",
    "\n",
    "$$y = \\beta_0 + \\beta_1 x + \\varepsilon $$  \n",
    "\n",
    "\n",
    "$$ \\varepsilon \\sim N(0, \\sigma^2) $$"
   ]
  },
  {
   "cell_type": "markdown",
   "metadata": {
    "slideshow": {
     "slide_type": "slide"
    }
   },
   "source": [
    "### Y-hat\n",
    "\n",
    "Our fitted model is give by \n",
    "\n",
    "$$ \\hat{y} = b_0 + b_1 x $$"
   ]
  },
  {
   "cell_type": "code",
   "execution_count": null,
   "metadata": {
    "collapsed": false,
    "slideshow": {
     "slide_type": "fragment"
    }
   },
   "outputs": [],
   "source": [
    "y_hat = results.fittedvalues\n",
    "xlabel('horsepower')\n",
    "ylabel('fitted values')\n",
    "scatter(y_hat, cars.horsepower);"
   ]
  },
  {
   "cell_type": "markdown",
   "metadata": {
    "slideshow": {
     "slide_type": "slide"
    }
   },
   "source": [
    "### Residuals: difference between observed and expected\n",
    "\n",
    "For the $i^{th}$ observation,  \n",
    "\n",
    "$$e_i = y_i - \\hat{y}_i $$\n"
   ]
  },
  {
   "cell_type": "code",
   "execution_count": null,
   "metadata": {
    "collapsed": false,
    "slideshow": {
     "slide_type": "fragment"
    }
   },
   "outputs": [],
   "source": [
    "figure(figsize=(8, 6))\n",
    "sns.residplot('horsepower', 'mpg', data=cars);"
   ]
  },
  {
   "cell_type": "markdown",
   "metadata": {
    "slideshow": {
     "slide_type": "slide"
    }
   },
   "source": [
    "### Ordinary Least Squares\n",
    "\n",
    "We estimate the coefficients by minimizing   \n",
    "\n",
    "$$\\sum_{i=1}^n e_i^2$$   "
   ]
  },
  {
   "cell_type": "markdown",
   "metadata": {
    "slideshow": {
     "slide_type": "fragment"
    }
   },
   "source": [
    "which gives us  \n",
    "\n",
    "$$b_1 = \\frac{\\sum_{i=1}^n (x_i - \\bar{x})(y_i - \\bar{y})}{\\sum_{i=1}^n (x_i - \\bar{x})^2}$$  \n",
    "\n",
    "or  \n",
    "\n",
    "$$b_1 = r_{xy} \\frac{s_y}{s_x}$$    \n",
    "    \n",
    "where $r_{xy}$ is the correlation between $x$ and $y$, $s_x$ and $s_y$ are the standard deviations of $x$ and $y$  \n",
    "\n",
    "$$b_0 = \\bar{y} - b_1 \\bar{x}$$  "
   ]
  },
  {
   "cell_type": "markdown",
   "metadata": {
    "slideshow": {
     "slide_type": "slide"
    }
   },
   "source": [
    "**Note!!!**\n",
    "\n",
    "$b_0$ is not $\\beta_0$  \n",
    "\n",
    "\n",
    "$b_1$ is not $\\beta_1$  \n",
    "\n",
    "\n",
    "$e_i$ is not $\\varepsilon_i$  "
   ]
  },
  {
   "cell_type": "markdown",
   "metadata": {
    "slideshow": {
     "slide_type": "slide"
    }
   },
   "source": [
    "### Assumptions of the Simple Linear Regression Model  \n",
    "\n",
    "* Linearity: there is a linear relationship between $x$ and $y$  \n",
    "\n",
    "* Normality: the residuals are nearly Normal  \n",
    "\n",
    "* Constant variance: the residuals have constant variance  \n",
    "\n",
    "* Independent observations: the observations are independent of each other"
   ]
  },
  {
   "cell_type": "markdown",
   "metadata": {
    "slideshow": {
     "slide_type": "slide"
    }
   },
   "source": [
    "### Review: $R^2$  \n",
    "\n",
    "We have   \n",
    "\n",
    "$$Y = \\hat{Y} + e $$  \n",
    "\n",
    "$$corr(\\hat{Y}, e) = 0 $$  "
   ]
  },
  {
   "cell_type": "markdown",
   "metadata": {
    "slideshow": {
     "slide_type": "fragment"
    }
   },
   "source": [
    "Then \n",
    "\n",
    "$$ Var(Y) = Var(\\hat{Y} + e) = Var(\\hat{Y}) + Var(e) $$  "
   ]
  },
  {
   "cell_type": "markdown",
   "metadata": {
    "slideshow": {
     "slide_type": "fragment"
    }
   },
   "source": [
    "or,  \n",
    "\n",
    "$$ \\frac{1}{n-1} \\sum_{i = 1}^n (y_i - \\bar{y})^2 = \\frac{1}{n-1} \\sum_{i = 1}^n (\\hat{y}_i - \\bar{y})^2 + \\frac{1}{n-1} \\sum_{i = 1}^n e_i^2 $$  "
   ]
  },
  {
   "cell_type": "markdown",
   "metadata": {
    "slideshow": {
     "slide_type": "fragment"
    }
   },
   "source": [
    "or, $$ \\sum_{i = 1}^n (y_i - \\bar{y})^2 = \\sum_{i = 1}^n (\\hat{y}_i - \\bar{y})^2 + \\sum_{i = 1}^n e_i^2 $$  "
   ]
  },
  {
   "cell_type": "markdown",
   "metadata": {
    "slideshow": {
     "slide_type": "fragment"
    }
   },
   "source": [
    "So  \n",
    "\n",
    "$$ SST = SSR + SSE $$"
   ]
  },
  {
   "cell_type": "markdown",
   "metadata": {
    "slideshow": {
     "slide_type": "slide"
    }
   },
   "source": [
    "* We have a “good fit” if $SSR$ is big and $SSE$ is small    \n",
    "\n",
    "* If $SST = SSR$ we have a perfect fit  \n",
    "\n",
    "* To summarize how close $SSR$ is to $SST$ we define the *coefficient of determination*  \n",
    "\n",
    "$$ R^2 = \\frac{SSR}{SST} $$  \n",
    "\n",
    "* The the proportion of variation in Y explained by the regression  \n",
    "\n",
    "* $R^2$ is between 0 and 1, and the closer $R^2$ is to 1, the better the fit.  \n",
    "\n",
    "* In the simple linear regression case, $R^2 = r^2$, where $r$ is the correlation coefficient between $x$ and $y$"
   ]
  },
  {
   "cell_type": "markdown",
   "metadata": {
    "slideshow": {
     "slide_type": "slide"
    }
   },
   "source": [
    "#### Caution about $R^2$  \n",
    "\n",
    "* $R^2$ does not indicate whether a regression model is adequate  \n",
    "\n",
    "* It is not always true that, the higher the value of $R^2$, the better the model.  "
   ]
  },
  {
   "cell_type": "markdown",
   "metadata": {
    "slideshow": {
     "slide_type": "slide"
    }
   },
   "source": [
    "## Confidence Intervals for the Regression Parameters"
   ]
  },
  {
   "cell_type": "markdown",
   "metadata": {
    "slideshow": {
     "slide_type": "fragment"
    }
   },
   "source": [
    "### The Average Line  \n",
    "\n",
    "The regression line should be viewed as the average value of $Y$ for a given $X$, or in symbols $E(Y|X)$  \n",
    "\n",
    "$$ E(Y | X) = \\beta_0 + \\beta_1 X $$"
   ]
  },
  {
   "cell_type": "code",
   "execution_count": null,
   "metadata": {
    "collapsed": false,
    "slideshow": {
     "slide_type": "slide"
    }
   },
   "outputs": [],
   "source": [
    "sns.lmplot('horsepower', 'mpg', data=cars, aspect=1.5);"
   ]
  },
  {
   "cell_type": "markdown",
   "metadata": {
    "slideshow": {
     "slide_type": "slide"
    }
   },
   "source": [
    "The model can be written as  \n",
    "\n",
    "$$ Y = E(Y | X) + \\varepsilon $$  \n",
    "\n",
    "and  \n",
    "\n",
    "$$ \\varepsilon \\sim N(0, \\sigma^2) $$"
   ]
  },
  {
   "cell_type": "markdown",
   "metadata": {
    "slideshow": {
     "slide_type": "fragment"
    }
   },
   "source": [
    "### How Do We Estimate $\\sigma$?  \n",
    "\n",
    "$$s_e^2 = \\frac{1}{n - 2} \\sum_{i = 1}^n e_i^2 = \\frac{SSE}{n - 2} $$  \n",
    "\n",
    "This is called the mean square error (MSE) of the regression.\n",
    "\n",
    "\n",
    "$s_e^2$ is our estimate of $\\sigma^2$  \n",
    "\n",
    "\n",
    "$ s_e = \\sqrt{s_e^2}$ is our estimate of $\\sigma$"
   ]
  },
  {
   "cell_type": "markdown",
   "metadata": {
    "slideshow": {
     "slide_type": "slide"
    }
   },
   "source": [
    "### How Sure Are We?  \n",
    "\n",
    "$b_0$ is a guess of $\\beta_0$   \n",
    "\n",
    "$b_1$ is a guess of $\\beta_1$  \n",
    "\n",
    "\n",
    "These are point estimates. A point estimate without some idea of precision is useless.  \n",
    "\n",
    "\n"
   ]
  },
  {
   "cell_type": "code",
   "execution_count": null,
   "metadata": {
    "collapsed": false,
    "slideshow": {
     "slide_type": "slide"
    }
   },
   "outputs": [],
   "source": [
    "results.summary()"
   ]
  },
  {
   "cell_type": "markdown",
   "metadata": {
    "slideshow": {
     "slide_type": "slide"
    }
   },
   "source": [
    "$s_{b_0}$: amount of uncertainty in our estimate of $\\beta_0$  \n",
    "* small, GOOD, lots of info in data about $\\beta_0$  \n",
    "* large, BAD, little info about $\\beta_0$  \n",
    "\n",
    "\n",
    "$s_{b_1}$: amount of uncertainty in our estimate of $\\beta_1$  \n",
    "* small, GOOD, lots of info in data about $\\beta_1$  \n",
    "* large, BAD, little info about $\\beta_1$  "
   ]
  },
  {
   "cell_type": "markdown",
   "metadata": {
    "slideshow": {
     "slide_type": "slide"
    }
   },
   "source": [
    "A **Confidence interval for $\\beta_0$** is given by  \n",
    "\n",
    "$$ b_0 \\pm 1.96 (s_{b_0}) $$  \n",
    "\n",
    "where  \n",
    "\n",
    "$$ Var(b_0) = s^2_{b_0} = s^2_e \\left( \\frac{1}{n} + \\frac{\\bar{x}^2}{(n-1)s^2_x} \\right)$$"
   ]
  },
  {
   "cell_type": "markdown",
   "metadata": {
    "slideshow": {
     "slide_type": "fragment"
    }
   },
   "source": [
    "In the example, the standard error of $b_0$ is 0.717, and the confidence interval for $\\beta_0$ is  \n",
    "\n",
    "$$(38.525 \\text{, } 41.347) $$"
   ]
  },
  {
   "cell_type": "markdown",
   "metadata": {
    "slideshow": {
     "slide_type": "slide"
    }
   },
   "source": [
    "A **Confidence interval for $\\beta_1$** is given by  \n",
    "\n",
    "$$ b_1 \\pm 1.96 (s_{b_1}) $$  \n",
    "\n",
    "where  \n",
    "\n",
    "$$ Var(b_1) = s^2_{b_1} = \\frac{s^2_e}{(n-1)s^2_x}$$"
   ]
  },
  {
   "cell_type": "markdown",
   "metadata": {
    "slideshow": {
     "slide_type": "fragment"
    }
   },
   "source": [
    "In the example, the standard error of $b_1$ is 0.006, and the confidence interval for $\\beta_1$ is  \n",
    "\n",
    "$$(-0.171 \\text{, } -0.145) $$"
   ]
  },
  {
   "cell_type": "markdown",
   "metadata": {
    "slideshow": {
     "slide_type": "slide"
    }
   },
   "source": [
    "### Hypothesis Tests for the Regression Parameters"
   ]
  },
  {
   "cell_type": "markdown",
   "metadata": {
    "slideshow": {
     "slide_type": "fragment"
    }
   },
   "source": [
    "### Review: 3 Step Plan  \n",
    "\n",
    "1) Model: $Y = \\beta_0 + \\beta_1 X + \\varepsilon$ and $\\varepsilon \\sim N(0, \\sigma^2)$  \n",
    "\n",
    "2) Data: $(x_1, y_1), (x_2, y_2), \\dots, (x_n, y_n)$  \n",
    "\n",
    "3) Estimate: \n",
    "\n",
    "$\\beta_0, \\beta_1, \\sigma$ Truth  \n",
    "\n",
    "$b_0, b_1, s$ Guesses"
   ]
  },
  {
   "cell_type": "markdown",
   "metadata": {
    "slideshow": {
     "slide_type": "slide"
    }
   },
   "source": [
    "Suppose you want to test whether $\\beta_1$ equals a proposed value:  \n",
    "\n",
    "$H_0: \\beta_1 = \\beta_1^*$  \n",
    "\n",
    "$H_a: \\beta_1 \\neq \\beta_1^*$  \n",
    "\n",
    "\n",
    "For example, if we want test whether X affects Y, we would test whether $\\beta_1 = 0$."
   ]
  },
  {
   "cell_type": "markdown",
   "metadata": {
    "slideshow": {
     "slide_type": "fragment"
    }
   },
   "source": [
    "**Test statistic**:  \n",
    "\n",
    "$$ t_{stat} = \\frac{b_1 - \\beta_1^*}{s_{b_1}} $$"
   ]
  },
  {
   "cell_type": "markdown",
   "metadata": {
    "slideshow": {
     "slide_type": "slide"
    }
   },
   "source": [
    "**Example**  \n",
    "\n",
    "Suppose we want to test if `horsepower` is related to `mpg` at all"
   ]
  },
  {
   "cell_type": "markdown",
   "metadata": {
    "slideshow": {
     "slide_type": "fragment"
    }
   },
   "source": [
    "$H_0: \\beta_1 = 0$  \n",
    "\n",
    "$H_a: \\beta_1 \\neq 0$  "
   ]
  },
  {
   "cell_type": "markdown",
   "metadata": {
    "slideshow": {
     "slide_type": "slide"
    }
   },
   "source": [
    "Test statistic:  \n",
    "\n",
    "$$ t_{stat} = \\frac{b_1 - 0}{s_{b_1}} = \\frac{b_1}{s_{b_1}} = -24.489 $$  "
   ]
  },
  {
   "cell_type": "code",
   "execution_count": null,
   "metadata": {
    "collapsed": false,
    "slideshow": {
     "slide_type": "fragment"
    }
   },
   "outputs": [],
   "source": [
    "results.tvalues"
   ]
  },
  {
   "cell_type": "markdown",
   "metadata": {
    "slideshow": {
     "slide_type": "slide"
    }
   },
   "source": [
    "P-value:  \n",
    "\n",
    "$$\\text{p-value} = P(t < -|t_{stat}| \\text{ or } t > |t_{stat}|) = 2 \\times P(t < -|t_{stat}|) = 7.03 \\times 10^{-81} < 0.05 $$"
   ]
  },
  {
   "cell_type": "code",
   "execution_count": null,
   "metadata": {
    "collapsed": false,
    "slideshow": {
     "slide_type": "fragment"
    }
   },
   "outputs": [],
   "source": [
    "results.pvalues"
   ]
  },
  {
   "cell_type": "markdown",
   "metadata": {
    "slideshow": {
     "slide_type": "fragment"
    }
   },
   "source": [
    "We have extremely strong evidence to reject the null, which means `horsepower` is a statistically significant predictor in the model."
   ]
  }
 ],
 "metadata": {
  "anaconda-cloud": {},
  "kernelspec": {
   "display_name": "Python [Root]",
   "language": "python",
   "name": "Python [Root]"
  },
  "language_info": {
   "codemirror_mode": {
    "name": "ipython",
    "version": 3
   },
   "file_extension": ".py",
   "mimetype": "text/x-python",
   "name": "python",
   "nbconvert_exporter": "python",
   "pygments_lexer": "ipython3",
   "version": "3.5.2"
  }
 },
 "nbformat": 4,
 "nbformat_minor": 0
}
