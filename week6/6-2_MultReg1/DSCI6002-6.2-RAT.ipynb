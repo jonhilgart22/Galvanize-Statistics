{
 "cells": [
  {
   "cell_type": "markdown",
   "metadata": {},
   "source": [
    "# RAT 6.2  \n",
    "\n",
    "The height (sidewalk to roof) of notable tall buildings in America is compared to the number of stories of the building (beginning at street level). The data may be found at https://s3-us-west-2.amazonaws.com/dsci/6002/data/height.csv  \n",
    "\n",
    "a) Using “stories” as the independent variable and “height” as the dependent variable, calculate the least squares line (in Python).  "
   ]
  },
  {
   "cell_type": "code",
   "execution_count": null,
   "metadata": {
    "collapsed": true
   },
   "outputs": [],
   "source": []
  },
  {
   "cell_type": "markdown",
   "metadata": {},
   "source": []
  },
  {
   "cell_type": "markdown",
   "metadata": {},
   "source": [
    "b) Based on the above data, is there a linear relationship between the number of stories in tall buildings and the height of the buildings? That is, test the hypothesis $H_0: \\beta_1 = 0$ against the alternative $H_a: \\beta_1 \\neq 0$."
   ]
  },
  {
   "cell_type": "markdown",
   "metadata": {},
   "source": []
  }
 ],
 "metadata": {
  "anaconda-cloud": {},
  "kernelspec": {
   "display_name": "Python [Root]",
   "language": "python",
   "name": "Python [Root]"
  },
  "language_info": {
   "codemirror_mode": {
    "name": "ipython",
    "version": 3
   },
   "file_extension": ".py",
   "mimetype": "text/x-python",
   "name": "python",
   "nbconvert_exporter": "python",
   "pygments_lexer": "ipython3",
   "version": "3.5.2"
  }
 },
 "nbformat": 4,
 "nbformat_minor": 0
}
